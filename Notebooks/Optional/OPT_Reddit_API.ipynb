{
 "cells": [
  {
   "cell_type": "markdown",
   "metadata": {
    "id": "YK1XGvB8yAMo"
   },
   "source": [
    "<img src=\"../../Img/backdrop-wh.png\" alt=\"Drawing\" style=\"width: 300px;\"/>\n",
    "\n",
    "DIGHUM160 - Critical Digital Humanities<br>\n",
    "Digital Hermeneutics<br>\n",
    "OPTIONAL: The Reddit API <br>\n",
    "Created by Tom van Nuenen (tom.van_nuenen@kcl.ac.uk)"
   ]
  },
  {
   "cell_type": "markdown",
   "metadata": {},
   "source": [
    "# The Reddit API\n",
    "\n",
    "In this notebook, we'll access the Reddit API to get your own data.\n",
    "\n",
    "The Reddit API allows you to do lots of things, such as automatically post as a user. It also allows you to retrieve data from Reddit, such as subreddit posts and comments. \n",
    "\n",
    "There are restrictions in place: Reddit's API only allows you to retrieve 1000 posts (and associated comments) per task. While we can create a script that takes note of the timecodes of posts so as to scrape the entiry of a subreddit in multiple tasks, for now we will just download 1000 posts from our dataset (or fewer, if your subreddit has fewer than 1000 posts).\n",
    "\n",
    "If you want to get more data, check out Timesearch: https://github.com/voussoir/timesearch"
   ]
  },
  {
   "cell_type": "markdown",
   "metadata": {
    "id": "aQjvQbEOyAMs"
   },
   "source": [
    "### 1. Sign up\n",
    "\n",
    "Go to http://www.reddit.com and **sign up** for an account.\n",
    "\n",
    "### 2. Create an app\n",
    "Go to https://ssl.reddit.com/prefs/apps/ and click on `create app`. Give your app a name and description, and under redirect uri, enter http://localhost:8080.\n",
    "\n",
    "### 3. Note details \n",
    "Note the client ID, client secret, and your username/password for Reddit, as you'll need them here.\n",
    "\n",
    "client_id:\n",
    "The client ID is at least a 14-character string listed just under “personal use script” for the desired developed application\n",
    "\n",
    "client_secret:\n",
    "The client secret is at least a 27-character string listed adjacent to secret for the application.\n",
    "\n",
    "password:\n",
    "The password for the Reddit account used to register the application.\n",
    "\n",
    "username:\n",
    "The username of the Reddit account used to register the application.\n",
    "\n",
    "<img src=\"../../Img/reddit-API.png\" alt=\"Drawing\" style=\"width: 700px;\"/>\n",
    "\n"
   ]
  },
  {
   "cell_type": "code",
   "execution_count": 1,
   "metadata": {},
   "outputs": [],
   "source": [
    "import praw\n",
    "\n",
    "reddit = praw.Reddit(client_id='YOUR_CLIENT_NAME_HERE',\n",
    "                     client_secret='YOUR_CLIENT_SECRET_HERE',\n",
    "                     password='YOUR_REDDIT_PSW_HERE',\n",
    "                     user_agent='Get Reddit data 1.0 by /u/YOUR_REDDIT_NAME_HERE',\n",
    "                     username='YOUR_REDDIT_USERNAME_HERE')"
   ]
  },
  {
   "cell_type": "markdown",
   "metadata": {
    "id": "pxIh6VqnyAMs"
   },
   "source": [
    "## Getting data with the Reddit API\n",
    "\n",
    "With the details we just created, we can access the Reddit API using PRAW [Python Reddit API Wrapper].\n",
    "\n",
    "For the purpose of this exercise, we'll download them in one data file, but it's common practice to download posts and comments in two different relational databases.\n",
    "\n",
    "First, we enter the user details of the app we just created. Then, we run a function that retrieves the post and its associated metadata, as well as the comments. We save the information in a CSV.\n",
    "\n",
    "**Note:** you might want to add other metadata elements to your function, or organize it differently. For example, Reddit submissions also have a \"spoiler\" attribute that indicates whether a response is a spoiler (relevant if you're gathering data from a movie or game-related subreddit!). For a list of all the attibutes you can use, check:\n",
    "\n",
    "* https://praw.readthedocs.io/en/latest/code_overview/models/submission.html for submissions/posts\n",
    "* https://praw.readthedocs.io/en/latest/code_overview/models/comment.html for comments"
   ]
  },
  {
   "cell_type": "code",
   "execution_count": 7,
   "metadata": {
    "id": "hjsFCrCCyAMt"
   },
   "outputs": [],
   "source": [
    "import csv\n",
    "from datetime import datetime\n",
    "\n",
    "def get_reddit_data(subreddit_name, max_count):\n",
    "    filename = subreddit_name + '_' + str(max_count) + '_' + datetime.now().strftime('%Y%m%d') + '.csv'\n",
    "    # Setting up a csv writer and write the first row \n",
    "    writer = csv.writer(open(filename, 'wt', encoding = 'utf-8'))\n",
    "    writer.writerow(['idstr', 'created', 'created_datetime', 'nsfw', 'flair_text', 'flair_css_class',\n",
    "                     'author', 'title', 'selftext', 'score', 'upvote_ratio', \n",
    "                     'distinguished', 'textlen', 'num_comments', 'top_comments'])   \n",
    "    item_count = 0\n",
    "    comment_count = 0\n",
    "    for submission in reddit.subreddit(subreddit_name).hot(limit=None): \n",
    "        try:\n",
    "            item_count += 1\n",
    "            idstr = submission.id\n",
    "            created = submission.created\n",
    "            created_datetime = datetime.fromtimestamp(created).strftime('%Y' + '-' + '%m' + '-' + '%d')\n",
    "            nsfw = submission.over_18\n",
    "            flair_text = submission.link_flair_text\n",
    "            flair_css_class = submission.link_flair_css_class\n",
    "            author = submission.author\n",
    "            title = submission.title\n",
    "            selftext = submission.selftext\n",
    "            score = submission.score\n",
    "            upvote_ratio = submission.upvote_ratio\n",
    "            distinguished = submission.distinguished\n",
    "            textlen = len(submission.selftext)\n",
    "            num_comments = submission.num_comments\n",
    "            comment_list = []\n",
    "            submission.comments.replace_more(limit=None)\n",
    "            for comment in submission.comments.list():\n",
    "                if comment.author != None:\n",
    "                    comment_count += 1\n",
    "                    comment_list.append(comment.body)\n",
    "            comments = ' '.join(comment_list)\n",
    "            writer.writerow( (idstr, created, created_datetime, nsfw, flair_text, flair_css_class,\n",
    "                              author, title, selftext, score, upvote_ratio,\n",
    "                              distinguished, textlen, num_comments, comments) )\n",
    "            print('.', end='', flush=True)\n",
    "        except:\n",
    "            print('Error found--resuming...')\n",
    "        if item_count == max_count:\n",
    "            break\n",
    "\n",
    "    if item_count > 0:\n",
    "        print('Done!' + '\\n' + 'Found ' + str(item_count) + ' posts' + \n",
    "              '\\n' + 'Found ' + str(comment_count) + ' comments')\n"
   ]
  },
  {
   "cell_type": "markdown",
   "metadata": {},
   "source": [
    "Now that we're set up, let's get our data. Change \"amitheasshole\" in the function call below to your preferred subreddit name (you can find it in Reddit's URL, after \"/r/\").\n",
    "\n",
    "In the `for` loop statement above, instead of using `.hot` (currently popular posts), you can also try `.top` (top scoring posts), `.new` (the latest posts), or `.controversial` (posts with a lot of up- and downvotes)."
   ]
  },
  {
   "cell_type": "code",
   "execution_count": 8,
   "metadata": {},
   "outputs": [
    {
     "name": "stdout",
     "output_type": "stream",
     "text": [
      "...Done!\n",
      "Found 3 posts\n",
      "Found 2573 comments\n"
     ]
    }
   ],
   "source": [
    "get_reddit_data('amitheasshole', 3)"
   ]
  },
  {
   "cell_type": "code",
   "execution_count": 10,
   "metadata": {},
   "outputs": [],
   "source": [
    "import os\n",
    "# We include two ../ because we want to go two levels up in the file structure\n",
    "os.chdir('../../Data')"
   ]
  },
  {
   "cell_type": "code",
   "execution_count": 11,
   "metadata": {},
   "outputs": [
    {
     "data": {
      "text/html": [
       "<div>\n",
       "<style scoped>\n",
       "    .dataframe tbody tr th:only-of-type {\n",
       "        vertical-align: middle;\n",
       "    }\n",
       "\n",
       "    .dataframe tbody tr th {\n",
       "        vertical-align: top;\n",
       "    }\n",
       "\n",
       "    .dataframe thead th {\n",
       "        text-align: right;\n",
       "    }\n",
       "</style>\n",
       "<table border=\"1\" class=\"dataframe\">\n",
       "  <thead>\n",
       "    <tr style=\"text-align: right;\">\n",
       "      <th></th>\n",
       "      <th>idstr</th>\n",
       "      <th>created</th>\n",
       "      <th>created_datetime</th>\n",
       "      <th>nsfw</th>\n",
       "      <th>flair_text</th>\n",
       "      <th>flair_css_class</th>\n",
       "      <th>author</th>\n",
       "      <th>title</th>\n",
       "      <th>selftext</th>\n",
       "      <th>score</th>\n",
       "      <th>upvote_ratio</th>\n",
       "      <th>distinguished</th>\n",
       "      <th>textlen</th>\n",
       "      <th>num_comments</th>\n",
       "      <th>top_comments</th>\n",
       "    </tr>\n",
       "  </thead>\n",
       "  <tbody>\n",
       "    <tr>\n",
       "      <th>0</th>\n",
       "      <td>t4eh7s</td>\n",
       "      <td>1.646159e+09</td>\n",
       "      <td>2022-03-01</td>\n",
       "      <td>False</td>\n",
       "      <td>Open Forum</td>\n",
       "      <td>NaN</td>\n",
       "      <td>AITAMod</td>\n",
       "      <td>AITA Monthly Open Forum March 2022</td>\n",
       "      <td>#Keep things civil. Rules still apply.\\n\\n~~I ...</td>\n",
       "      <td>507</td>\n",
       "      <td>0.95</td>\n",
       "      <td>NaN</td>\n",
       "      <td>3595</td>\n",
       "      <td>799</td>\n",
       "      <td>The validation posts are so tedious.\\n\\n\"Perso...</td>\n",
       "    </tr>\n",
       "    <tr>\n",
       "      <th>1</th>\n",
       "      <td>tio99u</td>\n",
       "      <td>1.647792e+09</td>\n",
       "      <td>2022-03-20</td>\n",
       "      <td>False</td>\n",
       "      <td>META</td>\n",
       "      <td>NaN</td>\n",
       "      <td>techiesgoboom</td>\n",
       "      <td>So we decided to fuck with the sub... again.</td>\n",
       "      <td>Greetings assholes and asshole enthusiasts!\\n\\...</td>\n",
       "      <td>185</td>\n",
       "      <td>0.92</td>\n",
       "      <td>NaN</td>\n",
       "      <td>2107</td>\n",
       "      <td>21</td>\n",
       "      <td>Does this still mean only the top comment vote...</td>\n",
       "    </tr>\n",
       "    <tr>\n",
       "      <th>2</th>\n",
       "      <td>tikg9a</td>\n",
       "      <td>1.647781e+09</td>\n",
       "      <td>2022-03-20</td>\n",
       "      <td>False</td>\n",
       "      <td>NaN</td>\n",
       "      <td>NaN</td>\n",
       "      <td>throwawaySarah7</td>\n",
       "      <td>AITA for getting mad at my husband because he ...</td>\n",
       "      <td>\\n\\nFor context_ I'm a sahm with 2 kids (3yrs ...</td>\n",
       "      <td>14984</td>\n",
       "      <td>0.96</td>\n",
       "      <td>NaN</td>\n",
       "      <td>1989</td>\n",
       "      <td>1884</td>\n",
       "      <td>#[Be Civil](https://www.reddit.com/r/AmItheAss...</td>\n",
       "    </tr>\n",
       "  </tbody>\n",
       "</table>\n",
       "</div>"
      ],
      "text/plain": [
       "    idstr       created created_datetime   nsfw  flair_text  flair_css_class  \\\n",
       "0  t4eh7s  1.646159e+09       2022-03-01  False  Open Forum              NaN   \n",
       "1  tio99u  1.647792e+09       2022-03-20  False        META              NaN   \n",
       "2  tikg9a  1.647781e+09       2022-03-20  False         NaN              NaN   \n",
       "\n",
       "            author                                              title  \\\n",
       "0          AITAMod                 AITA Monthly Open Forum March 2022   \n",
       "1    techiesgoboom       So we decided to fuck with the sub... again.   \n",
       "2  throwawaySarah7  AITA for getting mad at my husband because he ...   \n",
       "\n",
       "                                            selftext  score  upvote_ratio  \\\n",
       "0  #Keep things civil. Rules still apply.\\n\\n~~I ...    507          0.95   \n",
       "1  Greetings assholes and asshole enthusiasts!\\n\\...    185          0.92   \n",
       "2  \\n\\nFor context_ I'm a sahm with 2 kids (3yrs ...  14984          0.96   \n",
       "\n",
       "   distinguished  textlen  num_comments  \\\n",
       "0            NaN     3595           799   \n",
       "1            NaN     2107            21   \n",
       "2            NaN     1989          1884   \n",
       "\n",
       "                                        top_comments  \n",
       "0  The validation posts are so tedious.\\n\\n\"Perso...  \n",
       "1  Does this still mean only the top comment vote...  \n",
       "2  #[Be Civil](https://www.reddit.com/r/AmItheAss...  "
      ]
     },
     "execution_count": 11,
     "metadata": {},
     "output_type": "execute_result"
    }
   ],
   "source": [
    "import pandas as pd\n",
    "df = pd.read_csv('amitheasshole_3_20220320.csv')\n",
    "df"
   ]
  },
  {
   "cell_type": "code",
   "execution_count": null,
   "metadata": {},
   "outputs": [],
   "source": []
  }
 ],
 "metadata": {
  "colab": {
   "collapsed_sections": [],
   "name": "Week 2 OPTIONAL - Reddit API.ipynb",
   "provenance": []
  },
  "kernelspec": {
   "display_name": "Python 3",
   "language": "python",
   "name": "python3"
  },
  "language_info": {
   "codemirror_mode": {
    "name": "ipython",
    "version": 3
   },
   "file_extension": ".py",
   "mimetype": "text/x-python",
   "name": "python",
   "nbconvert_exporter": "python",
   "pygments_lexer": "ipython3",
   "version": "3.8.5"
  }
 },
 "nbformat": 4,
 "nbformat_minor": 4
}
