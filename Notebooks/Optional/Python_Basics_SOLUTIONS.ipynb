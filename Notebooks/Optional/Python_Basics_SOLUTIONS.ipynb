{
 "cells": [
  {
   "cell_type": "markdown",
   "id": "387baefa-9a44-48c2-b47f-1ce7a8613c3d",
   "metadata": {
    "tags": []
   },
   "source": [
    "# Python Basics - Solutions"
   ]
  },
  {
   "cell_type": "markdown",
   "id": "1752c355-5f80-48ff-b580-51811debb55f",
   "metadata": {
    "id": "tKrOtl_1Wt_X"
   },
   "source": [
    "## 🥊 Challenge: Looping Over Lists\n",
    "\n",
    "Create a list with some integers, then write some code that will loop over each integer in your list and multiply it by 10. In the body of the loop, `print` each multiplication. "
   ]
  },
  {
   "cell_type": "code",
   "execution_count": null,
   "id": "a1cd9f02-a6c6-4019-9c50-2668de439980",
   "metadata": {
    "id": "T5dAAWClWt_X"
   },
   "outputs": [],
   "source": [
    "# Your code here\n",
    "l = [1,2,3]\n",
    "for each in l:\n",
    "    print(each * 10)\n"
   ]
  },
  {
   "cell_type": "markdown",
   "id": "5c8fb654-a961-4482-9b9f-56fecbfb21ea",
   "metadata": {
    "id": "cNnX6zWXWuAP"
   },
   "source": [
    "## 🥊 Challenge: Creating a Calculator\n",
    "\n",
    "With what you've learned, do the following:\n",
    "\n",
    "1. Create a list with integers between 1 and 20.\n",
    "3. Multiply the values smaller than 10 by 2.\n",
    "4. Else, divide 10 by 2.\n",
    "4. Print the values of the calculation."
   ]
  },
  {
   "cell_type": "code",
   "execution_count": null,
   "id": "69a8bcc2-ea1d-4bd9-8250-62b2ebe2204b",
   "metadata": {
    "id": "R2JbMAKZWuAP"
   },
   "outputs": [],
   "source": [
    "# your code here\n",
    "l = [2,6,12,15]\n",
    "\n",
    "for each in l:\n",
    "    if each < 10:\n",
    "        print(\"multiplying by 2:\",each*2)\n",
    "    else:\n",
    "        print(\"divide by 2:\",each/2)\n"
   ]
  },
  {
   "cell_type": "markdown",
   "id": "36db1056-5d42-43b1-ac89-df339c51e537",
   "metadata": {},
   "source": [
    "## 🥊 Challenge: Putting Methods in Order\n",
    "\n",
    "In the following code we want to to find the top-3 most frequently occurring flairs in our data. Put the following code fragments in the right order to get this information!"
   ]
  },
  {
   "cell_type": "code",
   "execution_count": null,
   "id": "b9c201e7-0ed0-4326-b251-27d4c9786d00",
   "metadata": {},
   "outputs": [],
   "source": [
    "df['flair_text'].value_counts().head(3)"
   ]
  },
  {
   "cell_type": "markdown",
   "id": "c85b7692-b910-472f-8b7a-e9f1b6c16650",
   "metadata": {
    "tags": []
   },
   "source": [
    "## 🥊 Challenge: Subsetting Data Frames\n",
    "\n",
    "Besides `==` we can use [other operators](https://www.w3schools.com/python/gloss_python_comparison_operators.asp) to compare values. For instance:\n",
    "- `<` less than\n",
    "- `>` greater than\n",
    "\n",
    "Fill in the code below to subset our data frame to include only posts with more than 500 comments (`num_comments`)."
   ]
  },
  {
   "cell_type": "code",
   "execution_count": null,
   "id": "006e71ce-fd74-4f52-bca7-6ced154ffeb9",
   "metadata": {},
   "outputs": [],
   "source": [
    "# YOUR CODE HERE\n",
    "df[df['num_comments'] > 500]"
   ]
  },
  {
   "cell_type": "markdown",
   "id": "9e45e221-132e-48be-af52-1e5eeb067616",
   "metadata": {},
   "source": [
    "## 🥊 Challenge: Subsetting and Calculating the Mean\n",
    "\n",
    "Let's make use of subsetting to do some calculation! Calculate the **average score** for a flair of your choice. \n",
    "\n",
    "This means you will have to:\n",
    "1. Subset the `flair_css_class` column using a Boolean mask and '==', picking one of the values this column can hold.\n",
    "2. Take the `score` column from that subset.\n",
    "3. Apply a Pandas method to get the mean from that column.\n",
    "\n",
    "You might not know how to get the mean of a column – yet! If that's the case, **use your search engine**.\n",
    "\n",
    "1. Enter the name of the computer language or package, and your question (for instance: \"Pandas calculate mean\").\n",
    "2. Read and compare the results you find.\n",
    "3. Try 'em out!"
   ]
  },
  {
   "cell_type": "code",
   "execution_count": null,
   "id": "e57f9072-69fd-42a4-bce0-6f701eccf677",
   "metadata": {},
   "outputs": [],
   "source": [
    "# YOUR CODE HERE\n",
    "df[df['flair_css'] == 'ass']['score'].mean()\n"
   ]
  }
 ],
 "metadata": {
  "kernelspec": {
   "display_name": "Python 3 (ipykernel)",
   "language": "python",
   "name": "python3"
  },
  "language_info": {
   "codemirror_mode": {
    "name": "ipython",
    "version": 3
   },
   "file_extension": ".py",
   "mimetype": "text/x-python",
   "name": "python",
   "nbconvert_exporter": "python",
   "pygments_lexer": "ipython3",
   "version": "3.10.9"
  }
 },
 "nbformat": 4,
 "nbformat_minor": 5
}
