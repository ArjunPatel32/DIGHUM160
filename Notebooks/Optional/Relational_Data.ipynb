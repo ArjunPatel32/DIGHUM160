{
 "cells": [
  {
   "cell_type": "markdown",
   "metadata": {
    "id": "YsQg5T_PcVz9"
   },
   "source": [
    "<img src=\"../../Img/backdrop-wh.png\" alt=\"Drawing\" style=\"width: 300px;\"/>\n",
    "\n",
    "DIGHUM160 - Critical Digital Humanities<br>\n",
    "Digital Hermeneutics<br>\n",
    "OPTIONAL: Relational Data <br>\n",
    "Created by Tom van Nuenen (tom.van_nuenen@kcl.ac.uk)"
   ]
  },
  {
   "cell_type": "markdown",
   "metadata": {
    "id": "0lszN2dhyj6Z"
   },
   "source": [
    "## Relational Data\n",
    "\n",
    "When doing research on subreddits, we might want to concatenate the associated submissions and comments (i.e., the threads), as we can assume they are about the same topic. These are saved in two different DataFrames, which are related through unique identifiers.\n",
    "\n",
    "So let's grab the posts and comments from our subreddit."
   ]
  },
  {
   "cell_type": "code",
   "execution_count": 1,
   "metadata": {
    "colab": {
     "base_uri": "https://localhost:8080/"
    },
    "executionInfo": {
     "elapsed": 8348,
     "status": "ok",
     "timestamp": 1639606500361,
     "user": {
      "displayName": "Tom van Nuenen",
      "photoUrl": "https://lh3.googleusercontent.com/a-/AOh14GhuBmxDvW5I_LJfZtwlPqMFD8QGLVPP3skvpkTnuQ=s64",
      "userId": "10012302451096885058"
     },
     "user_tz": -60
    },
    "id": "bPQtrpmzyj6a",
    "outputId": "bd499162-cf10-4904-f641-bd888cf77e23"
   },
   "outputs": [],
   "source": [
    "import os\n",
    "\n",
    "# We include two ../ because we want to go two levels up in the file structure\n",
    "os.chdir(\"../../Data\")"
   ]
  },
  {
   "cell_type": "code",
   "execution_count": 2,
   "metadata": {
    "id": "w1vXAAiZVpQQ"
   },
   "outputs": [],
   "source": [
    "import pandas as pd\n",
    "\n",
    "df_sub = pd.read_csv('aita_sub_top_sm.csv')\n",
    "df_com = pd.read_csv('aita_com_top.csv')"
   ]
  },
  {
   "cell_type": "code",
   "execution_count": 4,
   "metadata": {},
   "outputs": [
    {
     "data": {
      "text/html": [
       "<div>\n",
       "<style scoped>\n",
       "    .dataframe tbody tr th:only-of-type {\n",
       "        vertical-align: middle;\n",
       "    }\n",
       "\n",
       "    .dataframe tbody tr th {\n",
       "        vertical-align: top;\n",
       "    }\n",
       "\n",
       "    .dataframe thead th {\n",
       "        text-align: right;\n",
       "    }\n",
       "</style>\n",
       "<table border=\"1\" class=\"dataframe\">\n",
       "  <thead>\n",
       "    <tr style=\"text-align: right;\">\n",
       "      <th></th>\n",
       "      <th>idint</th>\n",
       "      <th>idstr</th>\n",
       "      <th>created</th>\n",
       "      <th>self</th>\n",
       "      <th>nsfw</th>\n",
       "      <th>author</th>\n",
       "      <th>title</th>\n",
       "      <th>url</th>\n",
       "      <th>selftext</th>\n",
       "      <th>score</th>\n",
       "      <th>subreddit</th>\n",
       "      <th>distinguish</th>\n",
       "      <th>textlen</th>\n",
       "      <th>num_comments</th>\n",
       "      <th>flair_text</th>\n",
       "      <th>flair_css_class</th>\n",
       "      <th>augmented_at</th>\n",
       "      <th>augmented_count</th>\n",
       "    </tr>\n",
       "  </thead>\n",
       "  <tbody>\n",
       "    <tr>\n",
       "      <th>0</th>\n",
       "      <td>427576402</td>\n",
       "      <td>t3_72kg2a</td>\n",
       "      <td>1506433689</td>\n",
       "      <td>1.0</td>\n",
       "      <td>0.0</td>\n",
       "      <td>Ritsku</td>\n",
       "      <td>AITA for breaking up with my girlfriend becaus...</td>\n",
       "      <td>NaN</td>\n",
       "      <td>My girlfriend recently went to the beach with ...</td>\n",
       "      <td>679.0</td>\n",
       "      <td>AmItheAsshole</td>\n",
       "      <td>NaN</td>\n",
       "      <td>4917.0</td>\n",
       "      <td>434.0</td>\n",
       "      <td>no a--holes here</td>\n",
       "      <td>NaN</td>\n",
       "      <td>NaN</td>\n",
       "      <td>NaN</td>\n",
       "    </tr>\n",
       "    <tr>\n",
       "      <th>1</th>\n",
       "      <td>551887974</td>\n",
       "      <td>t3_94kvhi</td>\n",
       "      <td>1533404095</td>\n",
       "      <td>1.0</td>\n",
       "      <td>0.0</td>\n",
       "      <td>hhhhhhffff678</td>\n",
       "      <td>AITA for banning smoking in my house and telli...</td>\n",
       "      <td>NaN</td>\n",
       "      <td>My parents smoke like chimneys. I used to as w...</td>\n",
       "      <td>832.0</td>\n",
       "      <td>AmItheAsshole</td>\n",
       "      <td>NaN</td>\n",
       "      <td>2076.0</td>\n",
       "      <td>357.0</td>\n",
       "      <td>asshole</td>\n",
       "      <td>ass</td>\n",
       "      <td>NaN</td>\n",
       "      <td>NaN</td>\n",
       "    </tr>\n",
       "    <tr>\n",
       "      <th>2</th>\n",
       "      <td>552654542</td>\n",
       "      <td>t3_951az2</td>\n",
       "      <td>1533562299</td>\n",
       "      <td>1.0</td>\n",
       "      <td>0.0</td>\n",
       "      <td>creepatthepool</td>\n",
       "      <td>AITA? Creep wears skimpy bathing suit to pool</td>\n",
       "      <td>NaN</td>\n",
       "      <td>Hi guys. Throwaway for obv reasons.\\n\\nI'm a f...</td>\n",
       "      <td>23.0</td>\n",
       "      <td>AmItheAsshole</td>\n",
       "      <td>NaN</td>\n",
       "      <td>1741.0</td>\n",
       "      <td>335.0</td>\n",
       "      <td>Shitpost</td>\n",
       "      <td>NaN</td>\n",
       "      <td>NaN</td>\n",
       "      <td>NaN</td>\n",
       "    </tr>\n",
       "  </tbody>\n",
       "</table>\n",
       "</div>"
      ],
      "text/plain": [
       "       idint      idstr     created  self  nsfw          author  \\\n",
       "0  427576402  t3_72kg2a  1506433689   1.0   0.0          Ritsku   \n",
       "1  551887974  t3_94kvhi  1533404095   1.0   0.0   hhhhhhffff678   \n",
       "2  552654542  t3_951az2  1533562299   1.0   0.0  creepatthepool   \n",
       "\n",
       "                                               title  url  \\\n",
       "0  AITA for breaking up with my girlfriend becaus...  NaN   \n",
       "1  AITA for banning smoking in my house and telli...  NaN   \n",
       "2      AITA? Creep wears skimpy bathing suit to pool  NaN   \n",
       "\n",
       "                                            selftext  score      subreddit  \\\n",
       "0  My girlfriend recently went to the beach with ...  679.0  AmItheAsshole   \n",
       "1  My parents smoke like chimneys. I used to as w...  832.0  AmItheAsshole   \n",
       "2  Hi guys. Throwaway for obv reasons.\\n\\nI'm a f...   23.0  AmItheAsshole   \n",
       "\n",
       "  distinguish  textlen  num_comments        flair_text flair_css_class  \\\n",
       "0         NaN   4917.0         434.0  no a--holes here             NaN   \n",
       "1         NaN   2076.0         357.0           asshole             ass   \n",
       "2         NaN   1741.0         335.0          Shitpost             NaN   \n",
       "\n",
       "   augmented_at  augmented_count  \n",
       "0           NaN              NaN  \n",
       "1           NaN              NaN  \n",
       "2           NaN              NaN  "
      ]
     },
     "execution_count": 4,
     "metadata": {},
     "output_type": "execute_result"
    }
   ],
   "source": [
    "df_sub.head(3)"
   ]
  },
  {
   "cell_type": "code",
   "execution_count": 5,
   "metadata": {
    "colab": {
     "base_uri": "https://localhost:8080/",
     "height": 247
    },
    "executionInfo": {
     "elapsed": 228,
     "status": "ok",
     "timestamp": 1639588781709,
     "user": {
      "displayName": "Tom van Nuenen",
      "photoUrl": "https://lh3.googleusercontent.com/a-/AOh14GhuBmxDvW5I_LJfZtwlPqMFD8QGLVPP3skvpkTnuQ=s64",
      "userId": "10012302451096885058"
     },
     "user_tz": -60
    },
    "id": "9TNqXptIGz6-",
    "outputId": "2c467d1f-0ee9-4add-aacd-d65aa684aaf6"
   },
   "outputs": [
    {
     "data": {
      "text/html": [
       "<div>\n",
       "<style scoped>\n",
       "    .dataframe tbody tr th:only-of-type {\n",
       "        vertical-align: middle;\n",
       "    }\n",
       "\n",
       "    .dataframe tbody tr th {\n",
       "        vertical-align: top;\n",
       "    }\n",
       "\n",
       "    .dataframe thead th {\n",
       "        text-align: right;\n",
       "    }\n",
       "</style>\n",
       "<table border=\"1\" class=\"dataframe\">\n",
       "  <thead>\n",
       "    <tr style=\"text-align: right;\">\n",
       "      <th></th>\n",
       "      <th>idint</th>\n",
       "      <th>idstr</th>\n",
       "      <th>created</th>\n",
       "      <th>author</th>\n",
       "      <th>parent</th>\n",
       "      <th>submission</th>\n",
       "      <th>body</th>\n",
       "      <th>score</th>\n",
       "      <th>subreddit</th>\n",
       "      <th>distinguish</th>\n",
       "      <th>textlen</th>\n",
       "    </tr>\n",
       "  </thead>\n",
       "  <tbody>\n",
       "    <tr>\n",
       "      <th>0</th>\n",
       "      <td>27068149210</td>\n",
       "      <td>t1_cfnodlm</td>\n",
       "      <td>1393275432</td>\n",
       "      <td>swallowedfilth</td>\n",
       "      <td>t3_1ytr72</td>\n",
       "      <td>t3_1ytr72</td>\n",
       "      <td>Seems like you have a genuine reason to be ups...</td>\n",
       "      <td>33.0</td>\n",
       "      <td>AmItheAsshole</td>\n",
       "      <td>NaN</td>\n",
       "      <td>210.0</td>\n",
       "    </tr>\n",
       "    <tr>\n",
       "      <th>1</th>\n",
       "      <td>27068245493</td>\n",
       "      <td>t1_cfnqfw5</td>\n",
       "      <td>1393279437</td>\n",
       "      <td>RoonilaWazlib</td>\n",
       "      <td>t3_1ytxov</td>\n",
       "      <td>t3_1ytxov</td>\n",
       "      <td>There is nothing wrong with your original comm...</td>\n",
       "      <td>47.0</td>\n",
       "      <td>AmItheAsshole</td>\n",
       "      <td>NaN</td>\n",
       "      <td>561.0</td>\n",
       "    </tr>\n",
       "    <tr>\n",
       "      <th>2</th>\n",
       "      <td>27068297463</td>\n",
       "      <td>t1_cfnrjzr</td>\n",
       "      <td>1393281730</td>\n",
       "      <td>flignir</td>\n",
       "      <td>t3_1yu29c</td>\n",
       "      <td>t3_1yu29c</td>\n",
       "      <td>Yep.  You're the asshole.  If you want to make...</td>\n",
       "      <td>116.0</td>\n",
       "      <td>AmItheAsshole</td>\n",
       "      <td>NaN</td>\n",
       "      <td>1118.0</td>\n",
       "    </tr>\n",
       "  </tbody>\n",
       "</table>\n",
       "</div>"
      ],
      "text/plain": [
       "         idint       idstr     created          author     parent submission  \\\n",
       "0  27068149210  t1_cfnodlm  1393275432  swallowedfilth  t3_1ytr72  t3_1ytr72   \n",
       "1  27068245493  t1_cfnqfw5  1393279437   RoonilaWazlib  t3_1ytxov  t3_1ytxov   \n",
       "2  27068297463  t1_cfnrjzr  1393281730         flignir  t3_1yu29c  t3_1yu29c   \n",
       "\n",
       "                                                body  score      subreddit  \\\n",
       "0  Seems like you have a genuine reason to be ups...   33.0  AmItheAsshole   \n",
       "1  There is nothing wrong with your original comm...   47.0  AmItheAsshole   \n",
       "2  Yep.  You're the asshole.  If you want to make...  116.0  AmItheAsshole   \n",
       "\n",
       "  distinguish  textlen  \n",
       "0         NaN    210.0  \n",
       "1         NaN    561.0  \n",
       "2         NaN   1118.0  "
      ]
     },
     "execution_count": 5,
     "metadata": {},
     "output_type": "execute_result"
    }
   ],
   "source": [
    "df_com.head(3)"
   ]
  },
  {
   "cell_type": "markdown",
   "metadata": {
    "id": "Oqfjacteyj6a"
   },
   "source": [
    "We should get rid of the empty cells in our two DataFrames. We can do this using the following code. \n",
    "\n",
    "`dropna()` gets rid of NaN values in our \"selftext\" column, while `isin()` checks whether each element in the DataFrame contains the values '[removed]' or '[deleted]' (which is a Reddit convention for deleted posts).\n",
    "\n",
    "Note we need to clean up the \"selftext\" column for the submissions DF, and the \"body\" column for the comments DF (they are named differently)."
   ]
  },
  {
   "cell_type": "code",
   "execution_count": 6,
   "metadata": {
    "id": "xwJ1AyhUyj6a"
   },
   "outputs": [],
   "source": [
    "df_sub = df_sub[~df_sub['selftext'].isin(['[removed]', '[deleted]' ])].dropna(subset=['selftext'])\n",
    "df_com = df_com[~df_com['body'].isin(['[removed]', '[deleted]' ])].dropna(subset=['body'])"
   ]
  },
  {
   "cell_type": "code",
   "execution_count": 7,
   "metadata": {
    "colab": {
     "base_uri": "https://localhost:8080/"
    },
    "executionInfo": {
     "elapsed": 11,
     "status": "ok",
     "timestamp": 1639588480927,
     "user": {
      "displayName": "Tom van Nuenen",
      "photoUrl": "https://lh3.googleusercontent.com/a-/AOh14GhuBmxDvW5I_LJfZtwlPqMFD8QGLVPP3skvpkTnuQ=s64",
      "userId": "10012302451096885058"
     },
     "user_tz": -60
    },
    "id": "g1z2Yae5L4N_",
    "outputId": "26eba645-b670-48ca-8ce4-3bba6f3380d4"
   },
   "outputs": [
    {
     "name": "stdout",
     "output_type": "stream",
     "text": [
      "16313\n",
      "299877\n"
     ]
    }
   ],
   "source": [
    "print(len(df_sub))\n",
    "print(len(df_com))"
   ]
  },
  {
   "cell_type": "markdown",
   "metadata": {
    "id": "tJghpX20yj6a"
   },
   "source": [
    "### Concatenating submissions and comments using Pandas\n",
    "\n",
    "Using the `pd.merge()` method, we can do an \"inner join\" of our two DataFrames. This is a relational database operation, which is a common operation in SQL. See [here](https://www.w3schools.com/sql/sql_join.asp) if you want to learn more. An \"inner join\" will yield a new DF which only contains those submissions that have associated comments (based on their \"idstr\" and \"parent\" values).\n",
    "\n",
    "![alt text](https://s33046.pcdn.co/wp-content/uploads/2019/06/venn-diagram-representation-of-sql-inner-join-.png)"
   ]
  },
  {
   "cell_type": "code",
   "execution_count": 19,
   "metadata": {
    "id": "FdvSwCIIyj6a"
   },
   "outputs": [],
   "source": [
    "# merge DF based on idstr and parent\n",
    "df_t = pd.merge(df_sub, df_com, how='inner', left_on='idstr', right_on='parent')"
   ]
  },
  {
   "cell_type": "markdown",
   "metadata": {
    "id": "Uz3nNFI4yj6a"
   },
   "source": [
    "We now have a DataFrame containing all original posts / submissions, *and* the comments associated with this original post! Note that this yields a lot of rows with the same \"selftext\" value (as lots of comments refer to the same original post).\n",
    "\n",
    "Also note that this operations has changed the names of the columns: we now have \"x\" and \"y\" columns based on the original DataFrame we took the data from. \"idstr_x\", for instance, refers to the \"idstr\" column from the `trp_sub` DataFrame."
   ]
  },
  {
   "cell_type": "code",
   "execution_count": 22,
   "metadata": {
    "id": "2oFyyYBpKs4l"
   },
   "outputs": [],
   "source": [
    "df_t.to_csv('amita_threads.csv')"
   ]
  },
  {
   "cell_type": "code",
   "execution_count": 23,
   "metadata": {
    "colab": {
     "base_uri": "https://localhost:8080/",
     "height": 643
    },
    "executionInfo": {
     "elapsed": 24,
     "status": "ok",
     "timestamp": 1639588527059,
     "user": {
      "displayName": "Tom van Nuenen",
      "photoUrl": "https://lh3.googleusercontent.com/a-/AOh14GhuBmxDvW5I_LJfZtwlPqMFD8QGLVPP3skvpkTnuQ=s64",
      "userId": "10012302451096885058"
     },
     "user_tz": -60
    },
    "id": "jaLnXDjZyj6b",
    "outputId": "568b25fd-ff13-4c61-f60e-a13e05fdaa8c"
   },
   "outputs": [
    {
     "data": {
      "text/html": [
       "<div>\n",
       "<style scoped>\n",
       "    .dataframe tbody tr th:only-of-type {\n",
       "        vertical-align: middle;\n",
       "    }\n",
       "\n",
       "    .dataframe tbody tr th {\n",
       "        vertical-align: top;\n",
       "    }\n",
       "\n",
       "    .dataframe thead th {\n",
       "        text-align: right;\n",
       "    }\n",
       "</style>\n",
       "<table border=\"1\" class=\"dataframe\">\n",
       "  <thead>\n",
       "    <tr style=\"text-align: right;\">\n",
       "      <th></th>\n",
       "      <th>idint_x</th>\n",
       "      <th>idstr_x</th>\n",
       "      <th>created_x</th>\n",
       "      <th>self</th>\n",
       "      <th>nsfw</th>\n",
       "      <th>author_x</th>\n",
       "      <th>title</th>\n",
       "      <th>url</th>\n",
       "      <th>selftext</th>\n",
       "      <th>score_x</th>\n",
       "      <th>...</th>\n",
       "      <th>idstr_y</th>\n",
       "      <th>created_y</th>\n",
       "      <th>author_y</th>\n",
       "      <th>parent</th>\n",
       "      <th>submission</th>\n",
       "      <th>body</th>\n",
       "      <th>score_y</th>\n",
       "      <th>subreddit_y</th>\n",
       "      <th>distinguish_y</th>\n",
       "      <th>textlen_y</th>\n",
       "    </tr>\n",
       "  </thead>\n",
       "  <tbody>\n",
       "    <tr>\n",
       "      <th>0</th>\n",
       "      <td>427576402</td>\n",
       "      <td>t3_72kg2a</td>\n",
       "      <td>1506433689</td>\n",
       "      <td>1.0</td>\n",
       "      <td>0.0</td>\n",
       "      <td>Ritsku</td>\n",
       "      <td>AITA for breaking up with my girlfriend becaus...</td>\n",
       "      <td>NaN</td>\n",
       "      <td>My girlfriend recently went to the beach with ...</td>\n",
       "      <td>679.0</td>\n",
       "      <td>...</td>\n",
       "      <td>t1_dnj53rc</td>\n",
       "      <td>1506434437</td>\n",
       "      <td>turkey3_scratch</td>\n",
       "      <td>t3_72kg2a</td>\n",
       "      <td>t3_72kg2a</td>\n",
       "      <td>I think you definitely made the right decision.</td>\n",
       "      <td>260.0</td>\n",
       "      <td>AmItheAsshole</td>\n",
       "      <td>NaN</td>\n",
       "      <td>47.0</td>\n",
       "    </tr>\n",
       "    <tr>\n",
       "      <th>1</th>\n",
       "      <td>427576402</td>\n",
       "      <td>t3_72kg2a</td>\n",
       "      <td>1506433689</td>\n",
       "      <td>1.0</td>\n",
       "      <td>0.0</td>\n",
       "      <td>Ritsku</td>\n",
       "      <td>AITA for breaking up with my girlfriend becaus...</td>\n",
       "      <td>NaN</td>\n",
       "      <td>My girlfriend recently went to the beach with ...</td>\n",
       "      <td>679.0</td>\n",
       "      <td>...</td>\n",
       "      <td>t1_dnj5vj0</td>\n",
       "      <td>1506435358</td>\n",
       "      <td>sweetprince686</td>\n",
       "      <td>t3_72kg2a</td>\n",
       "      <td>t3_72kg2a</td>\n",
       "      <td>I think you are being a bit controlling. You w...</td>\n",
       "      <td>93.0</td>\n",
       "      <td>AmItheAsshole</td>\n",
       "      <td>NaN</td>\n",
       "      <td>399.0</td>\n",
       "    </tr>\n",
       "    <tr>\n",
       "      <th>2</th>\n",
       "      <td>427576402</td>\n",
       "      <td>t3_72kg2a</td>\n",
       "      <td>1506433689</td>\n",
       "      <td>1.0</td>\n",
       "      <td>0.0</td>\n",
       "      <td>Ritsku</td>\n",
       "      <td>AITA for breaking up with my girlfriend becaus...</td>\n",
       "      <td>NaN</td>\n",
       "      <td>My girlfriend recently went to the beach with ...</td>\n",
       "      <td>679.0</td>\n",
       "      <td>...</td>\n",
       "      <td>t1_dnj60db</td>\n",
       "      <td>1506435516</td>\n",
       "      <td>insigniayellow</td>\n",
       "      <td>t3_72kg2a</td>\n",
       "      <td>t3_72kg2a</td>\n",
       "      <td>She wasn't in the wrong to take the pictures, ...</td>\n",
       "      <td>1252.0</td>\n",
       "      <td>AmItheAsshole</td>\n",
       "      <td>NaN</td>\n",
       "      <td>861.0</td>\n",
       "    </tr>\n",
       "    <tr>\n",
       "      <th>3</th>\n",
       "      <td>427576402</td>\n",
       "      <td>t3_72kg2a</td>\n",
       "      <td>1506433689</td>\n",
       "      <td>1.0</td>\n",
       "      <td>0.0</td>\n",
       "      <td>Ritsku</td>\n",
       "      <td>AITA for breaking up with my girlfriend becaus...</td>\n",
       "      <td>NaN</td>\n",
       "      <td>My girlfriend recently went to the beach with ...</td>\n",
       "      <td>679.0</td>\n",
       "      <td>...</td>\n",
       "      <td>t1_dnj6bc6</td>\n",
       "      <td>1506435869</td>\n",
       "      <td>c_d26</td>\n",
       "      <td>t3_72kg2a</td>\n",
       "      <td>t3_72kg2a</td>\n",
       "      <td>My boyfriend and I are the same ages as you an...</td>\n",
       "      <td>26.0</td>\n",
       "      <td>AmItheAsshole</td>\n",
       "      <td>NaN</td>\n",
       "      <td>304.0</td>\n",
       "    </tr>\n",
       "    <tr>\n",
       "      <th>4</th>\n",
       "      <td>427576402</td>\n",
       "      <td>t3_72kg2a</td>\n",
       "      <td>1506433689</td>\n",
       "      <td>1.0</td>\n",
       "      <td>0.0</td>\n",
       "      <td>Ritsku</td>\n",
       "      <td>AITA for breaking up with my girlfriend becaus...</td>\n",
       "      <td>NaN</td>\n",
       "      <td>My girlfriend recently went to the beach with ...</td>\n",
       "      <td>679.0</td>\n",
       "      <td>...</td>\n",
       "      <td>t1_dnj6qcs</td>\n",
       "      <td>1506436350</td>\n",
       "      <td>[deleted]</td>\n",
       "      <td>t3_72kg2a</td>\n",
       "      <td>t3_72kg2a</td>\n",
       "      <td>You are completely right, if she does somethin...</td>\n",
       "      <td>31.0</td>\n",
       "      <td>AmItheAsshole</td>\n",
       "      <td>NaN</td>\n",
       "      <td>120.0</td>\n",
       "    </tr>\n",
       "  </tbody>\n",
       "</table>\n",
       "<p>5 rows × 29 columns</p>\n",
       "</div>"
      ],
      "text/plain": [
       "     idint_x    idstr_x   created_x  self  nsfw author_x  \\\n",
       "0  427576402  t3_72kg2a  1506433689   1.0   0.0   Ritsku   \n",
       "1  427576402  t3_72kg2a  1506433689   1.0   0.0   Ritsku   \n",
       "2  427576402  t3_72kg2a  1506433689   1.0   0.0   Ritsku   \n",
       "3  427576402  t3_72kg2a  1506433689   1.0   0.0   Ritsku   \n",
       "4  427576402  t3_72kg2a  1506433689   1.0   0.0   Ritsku   \n",
       "\n",
       "                                               title  url  \\\n",
       "0  AITA for breaking up with my girlfriend becaus...  NaN   \n",
       "1  AITA for breaking up with my girlfriend becaus...  NaN   \n",
       "2  AITA for breaking up with my girlfriend becaus...  NaN   \n",
       "3  AITA for breaking up with my girlfriend becaus...  NaN   \n",
       "4  AITA for breaking up with my girlfriend becaus...  NaN   \n",
       "\n",
       "                                            selftext  score_x  ...  \\\n",
       "0  My girlfriend recently went to the beach with ...    679.0  ...   \n",
       "1  My girlfriend recently went to the beach with ...    679.0  ...   \n",
       "2  My girlfriend recently went to the beach with ...    679.0  ...   \n",
       "3  My girlfriend recently went to the beach with ...    679.0  ...   \n",
       "4  My girlfriend recently went to the beach with ...    679.0  ...   \n",
       "\n",
       "      idstr_y   created_y         author_y     parent submission  \\\n",
       "0  t1_dnj53rc  1506434437  turkey3_scratch  t3_72kg2a  t3_72kg2a   \n",
       "1  t1_dnj5vj0  1506435358   sweetprince686  t3_72kg2a  t3_72kg2a   \n",
       "2  t1_dnj60db  1506435516   insigniayellow  t3_72kg2a  t3_72kg2a   \n",
       "3  t1_dnj6bc6  1506435869            c_d26  t3_72kg2a  t3_72kg2a   \n",
       "4  t1_dnj6qcs  1506436350        [deleted]  t3_72kg2a  t3_72kg2a   \n",
       "\n",
       "                                                body  score_y    subreddit_y  \\\n",
       "0    I think you definitely made the right decision.    260.0  AmItheAsshole   \n",
       "1  I think you are being a bit controlling. You w...     93.0  AmItheAsshole   \n",
       "2  She wasn't in the wrong to take the pictures, ...   1252.0  AmItheAsshole   \n",
       "3  My boyfriend and I are the same ages as you an...     26.0  AmItheAsshole   \n",
       "4  You are completely right, if she does somethin...     31.0  AmItheAsshole   \n",
       "\n",
       "   distinguish_y textlen_y  \n",
       "0            NaN      47.0  \n",
       "1            NaN     399.0  \n",
       "2            NaN     861.0  \n",
       "3            NaN     304.0  \n",
       "4            NaN     120.0  \n",
       "\n",
       "[5 rows x 29 columns]"
      ]
     },
     "execution_count": 23,
     "metadata": {},
     "output_type": "execute_result"
    }
   ],
   "source": [
    "df_t.head()"
   ]
  },
  {
   "cell_type": "markdown",
   "metadata": {
    "id": "6jJNYzR5yj6b"
   },
   "source": [
    "Now, let's iterate over our merged DataFrame and group all associated submissions and comments together. \n",
    "- We first create an empty dictionary.\n",
    "- We then iterate over our DataFrame using the Pandas `.iterrows()` method, which allows us to iterate over rows in a DataFrame in a for-loop. It yields a tuple consisting of the index and the row.\n",
    "- `If` the \"idstr_x\" column does not yet exist in the keys of our new dictionary, add it. As the value, add the \"selftext\" (i.e., the original post) and \"body\" (i.e., the first comment) columns.\n",
    "- `Else`, if we have the key already, only add the \"body\" column (i.e., the comment). "
   ]
  },
  {
   "cell_type": "code",
   "execution_count": 28,
   "metadata": {
    "id": "17WthX4uyj6b"
   },
   "outputs": [],
   "source": [
    "data_d = {}\n",
    "for i, r in df_t.iterrows():\n",
    "    if r.idstr_x not in data_d.keys():\n",
    "        data_d[r.idstr_x] = [r.selftext, r.body]    \n",
    "    else:\n",
    "        data_d[r.idstr_x].append(r.body)    "
   ]
  },
  {
   "cell_type": "code",
   "execution_count": 30,
   "metadata": {
    "colab": {
     "base_uri": "https://localhost:8080/"
    },
    "executionInfo": {
     "elapsed": 227,
     "status": "ok",
     "timestamp": 1639588534521,
     "user": {
      "displayName": "Tom van Nuenen",
      "photoUrl": "https://lh3.googleusercontent.com/a-/AOh14GhuBmxDvW5I_LJfZtwlPqMFD8QGLVPP3skvpkTnuQ=s64",
      "userId": "10012302451096885058"
     },
     "user_tz": -60
    },
    "id": "vBgzwDvhyj6b",
    "outputId": "b37c2261-99ac-42ee-afcd-5e726f2c5050"
   },
   "outputs": [
    {
     "data": {
      "text/plain": [
       "['My girlfriend recently went to the beach with a few of her friends.  She has this tiny bikini bottom that is basically a thong that I HATE when she wears in public.  Well she wore it.  Not only did she wear it, she posed in the bathroom mirror of her hotel room to take a side profile picture so you could see her ass sticking out in it and posted it to her Snapchat story.   Worth mentioning I am not friends with her on Snapchat for reasons similar to this (sick of getting in fights when she says she\\'s going out for \\'girls\\' night then posts videos of her sitting at a table with like 5 dudes that always got invited by one of the other girls which was completely unknown to her until she arrived - most of these guys she then adds on Snapchat afterwards).  She didn\\'t even save it and send it to me.  I saw it when she was showing me pics from her beach trip and she had screenshot that particular snap and left it in her camera roll.  Whether the ass part was intentional or not I will never know.  She claims she just liked the way her stomach looked and it was just a pic because she was at the beach and that was the only black bikini bottom she owns.  But there\\'s nothing to look at but her in a micro bikini in a bathroom mirror.  There\\'s no ocean, no sand, no friends, just her tits and ass in a bathroom mirror.  She\\'s 24 and I am 30.  Is it the age?  Is this typical 24 year old behavior nowadays?  Am I wrong for thinking this is inappropriate behavior when you\\'re in a relationship or am I the asshole for making a big deal about it?\\n\\n\\n**Edit:**  Guys, let me clear.  I did not try to control her at any point in time.  I have never once told her what to do, what to wear, what she can or can not do.  Yes, I hate that her ass is completely out in that bikini.  But I\\'ve never told her not to wear it and my problem is not that she wore it in general.  She wore it all summer long despite my groaning.  That was never my issue.  I found it super annoying yes but my issue is that she sent out a picture of her ass on Snapchat.  Plain and simple.  That\\'s where I drew the line.  I didn\\'t break it off because she wore it, I broke it off because she turned sideways in a bathroom mirror stuck her butt out, took a picture and sent it out on Snapchat.  It\\'s a borderline nude in that suit and seems wildly inappropriate to me.  Also for clarity I am not jealous.  The friends she went to the beach with were guy friends.  I was completely ok with it.  I had never even met them before.   She has guy friends.  She hangs out with them.  Never my issue and I didn\\'t even feel it was worth mentioning.  My issue with the whole girls night comes into play when I get explicitly told I cannot come because it is girls only night, then later find out it was just a bunch of dudes and her and her girlfriend.  That\\'s not a trust thing and I didn\\'t try to make a big deal about it I just removed her from my friends on Snapchat so I didn\\'t have to see it anymore.  And in all honesty my only true problem with it was one guy that was there in particular.  He\\'s been hitting on her and messaging her non stop since we started dating knowing she has a boyfriend.  Both times I got snubbed for \\'girls night\\', this one particular fella was in attendance both nights and I got the \"I didn\\'t know he was going to be there\" from her.  But again whatever she can do whatever she wants whenever she wants and I\\'ve never tried to stop her but for my own sanity I removed her from Snapchat so I didn\\'t have to see it.  That wasn\\'t the point in this post and that wasn\\'t even why I dumped her so I didn\\'t really want to get into detail on that but a few people are calling me controlling and jealous now.  I broke it off because she sent out a pic of her ass on Snapchat.  The only reason we were together is because SHE told me the wild party phase was done and she was looking to start a family and have a serious relationship.  She is a single mom of an almost 3 year old daughter who I love to pieces.  She has been chasing me for 2 years trying to date me and I told her no every step of the way because she was just a little to wild for what I\\'m looking for in the stage I\\'m at in life.  So when she came to me earlier this year saying she had matured, all the partying and wild stuff was done and she was ready to get serious and start a family with me, I agreed to commit.  I did not date this woman and say \"HEY PUT ON SOME PANTS\".  I simply said \"you told me this stuff was over and I told you from the very beginning I had no interest in dating a girl who\\'s still stuck in the wild college party phase\" so I ended it.  If she hadn\\'t told me she had matured and wanted to get serious I never would have agreed to date her to begin with.  That\\'s just not what I\\'m looking for.  I don\\'t think that makes me jealous or controlling.  I was very open and honest about what I was looking for the 2 years I\\'ve known her.  ',\n",
       " 'I think you definitely made the right decision.',\n",
       " \"I think you are being a bit controlling. You were fine with her wearing the bikini but not taking photos of it? She's not allowed to have male friends she spends time with? You want to control what she wears and who she spends time with. That's not a good attitude to have in a relationship. You just don't trust her not to cheat on you. That's also not a great attitude. So, yeah. Kinda a asshole. \",\n",
       " \"She wasn't in the wrong to take the pictures, and you weren't in the wrong to express how they made you feel or (ultimately) to break up with her.\\n\\nDifferent people have different boundaries on what it's appropriate to share online, and where there insecurities and hang-ups lie.  Some women in relationships post bikini selfies to snapchat without their partners caring, some men in relationships post topless picks to show off their bodybuilding.  There's nothing inherently wrong with that.\\n\\nIt only becomes a problem if the two halves of the couples draw different boundaries and aren't able to successfully negotiate that difference.  If that's the case, just like any incompatibility in outlook then it's going to cause a break-up.  Hopefully the two will go on to form relationships with people with whom they are better able to bridge those differences.\",\n",
       " \"My boyfriend and I are the same ages as you and your ex. It is partly her age but if you've expressed discomfort in those pictures being posted or her hanging around a bunch of different random guys and she doesn't take that into consideration, she probably doesn't/didn't take the relationship serious. \",\n",
       " 'You are completely right, if she does something like this knowing you are not comfortable with it you are not an asshole',\n",
       " 'The results are in and you are.... NOT the asshole. ',\n",
       " \"No assholes here. You're incompatible.\\n\\nyou feel how you feel and you have to accept that. \",\n",
       " \">that I HATE when she wears in public\\n\\n>She didn't even save it and send it to me.\\n\\n>She's 24 and I am 30. \\n\\nEw, you sound controlling and unwilling to discuss things with her (like your possible insecurity or jealousy), plus you're way older than her if we're judging by life periods and milestones.\\n\\n^happy ^cakeday ^anyways\",\n",
       " \"Not even close to an asshole.  You guys weren't compatible.\\n\\nAnd your ex isn't a bitch for living the way she does, but she ABSOLUTELY is for living that way while trying to also be in a committed relationship, despite what a lot of other commenters are saying\"]"
      ]
     },
     "execution_count": 30,
     "metadata": {},
     "output_type": "execute_result"
    }
   ],
   "source": [
    "# See if it works\n",
    "data_d['t3_72kg2a']"
   ]
  },
  {
   "cell_type": "markdown",
   "metadata": {
    "id": "5TEAvrWwyj6b"
   },
   "source": [
    "Finally, we'll join the items in each of the values in our `dict` and put that in a list. Each item will contain the post and its associated comments."
   ]
  },
  {
   "cell_type": "code",
   "execution_count": 31,
   "metadata": {
    "colab": {
     "base_uri": "https://localhost:8080/"
    },
    "executionInfo": {
     "elapsed": 10,
     "status": "ok",
     "timestamp": 1639606614197,
     "user": {
      "displayName": "Tom van Nuenen",
      "photoUrl": "https://lh3.googleusercontent.com/a-/AOh14GhuBmxDvW5I_LJfZtwlPqMFD8QGLVPP3skvpkTnuQ=s64",
      "userId": "10012302451096885058"
     },
     "user_tz": -60
    },
    "id": "FAV_kAVlyj6b",
    "outputId": "50458c88-86d3-4cf4-e7a0-772c85e0f2fa"
   },
   "outputs": [
    {
     "data": {
      "text/plain": [
       "936"
      ]
     },
     "execution_count": 31,
     "metadata": {},
     "output_type": "execute_result"
    }
   ],
   "source": [
    "threads = [' '.join(thread) for thread in data_d.values()]\n",
    "len(threads)"
   ]
  },
  {
   "cell_type": "code",
   "execution_count": 32,
   "metadata": {
    "colab": {
     "base_uri": "https://localhost:8080/",
     "height": 123
    },
    "executionInfo": {
     "elapsed": 12,
     "status": "ok",
     "timestamp": 1639589386229,
     "user": {
      "displayName": "Tom van Nuenen",
      "photoUrl": "https://lh3.googleusercontent.com/a-/AOh14GhuBmxDvW5I_LJfZtwlPqMFD8QGLVPP3skvpkTnuQ=s64",
      "userId": "10012302451096885058"
     },
     "user_tz": -60
    },
    "id": "rOy_P-FSJIql",
    "outputId": "3c87178e-3c32-44d2-bdb0-09535c4a5c9b"
   },
   "outputs": [
    {
     "data": {
      "text/plain": [
       "'My girlfriend recently went to the beach with a few of her friends.  She has this tiny bikini bottom that is basically a thong that I HATE when she wears in public.  Well she wore it.  Not only did she wear it, she posed in the bathroom mirror of her hotel room to take a side profile picture so you could see her ass sticking out in it and posted it to her Snapchat story.   Worth mentioning I am not friends with her on Snapchat for reasons similar to this (sick of getting in fights when she says she\\'s going out for \\'girls\\' night then posts videos of her sitting at a table with like 5 dudes that always got invited by one of the other girls which was completely unknown to her until she arrived - most of these guys she then adds on Snapchat afterwards).  She didn\\'t even save it and send it to me.  I saw it when she was showing me pics from her beach trip and she had screenshot that particular snap and left it in her camera roll.  Whether the ass part was intentional or not I will never know.  She claims she just liked the way her stomach looked and it was just a pic because she was at the beach and that was the only black bikini bottom she owns.  But there\\'s nothing to look at but her in a micro bikini in a bathroom mirror.  There\\'s no ocean, no sand, no friends, just her tits and ass in a bathroom mirror.  She\\'s 24 and I am 30.  Is it the age?  Is this typical 24 year old behavior nowadays?  Am I wrong for thinking this is inappropriate behavior when you\\'re in a relationship or am I the asshole for making a big deal about it?\\n\\n\\n**Edit:**  Guys, let me clear.  I did not try to control her at any point in time.  I have never once told her what to do, what to wear, what she can or can not do.  Yes, I hate that her ass is completely out in that bikini.  But I\\'ve never told her not to wear it and my problem is not that she wore it in general.  She wore it all summer long despite my groaning.  That was never my issue.  I found it super annoying yes but my issue is that she sent out a picture of her ass on Snapchat.  Plain and simple.  That\\'s where I drew the line.  I didn\\'t break it off because she wore it, I broke it off because she turned sideways in a bathroom mirror stuck her butt out, took a picture and sent it out on Snapchat.  It\\'s a borderline nude in that suit and seems wildly inappropriate to me.  Also for clarity I am not jealous.  The friends she went to the beach with were guy friends.  I was completely ok with it.  I had never even met them before.   She has guy friends.  She hangs out with them.  Never my issue and I didn\\'t even feel it was worth mentioning.  My issue with the whole girls night comes into play when I get explicitly told I cannot come because it is girls only night, then later find out it was just a bunch of dudes and her and her girlfriend.  That\\'s not a trust thing and I didn\\'t try to make a big deal about it I just removed her from my friends on Snapchat so I didn\\'t have to see it anymore.  And in all honesty my only true problem with it was one guy that was there in particular.  He\\'s been hitting on her and messaging her non stop since we started dating knowing she has a boyfriend.  Both times I got snubbed for \\'girls night\\', this one particular fella was in attendance both nights and I got the \"I didn\\'t know he was going to be there\" from her.  But again whatever she can do whatever she wants whenever she wants and I\\'ve never tried to stop her but for my own sanity I removed her from Snapchat so I didn\\'t have to see it.  That wasn\\'t the point in this post and that wasn\\'t even why I dumped her so I didn\\'t really want to get into detail on that but a few people are calling me controlling and jealous now.  I broke it off because she sent out a pic of her ass on Snapchat.  The only reason we were together is because SHE told me the wild party phase was done and she was looking to start a family and have a serious relationship.  She is a single mom of an almost 3 year old daughter who I love to pieces.  She has been chasing me for 2 years trying to date me and I told her no every step of the way because she was just a little to wild for what I\\'m looking for in the stage I\\'m at in life.  So when she came to me earlier this year saying she had matured, all the partying and wild stuff was done and she was ready to get serious and start a family with me, I agreed to commit.  I did not date this woman and say \"HEY PUT ON SOME PANTS\".  I simply said \"you told me this stuff was over and I told you from the very beginning I had no interest in dating a girl who\\'s still stuck in the wild college party phase\" so I ended it.  If she hadn\\'t told me she had matured and wanted to get serious I never would have agreed to date her to begin with.  That\\'s just not what I\\'m looking for.  I don\\'t think that makes me jealous or controlling.  I was very open and honest about what I was looking for the 2 years I\\'ve known her.   I think you definitely made the right decision. I think you are being a bit controlling. You were fine with her wearing the bikini but not taking photos of it? She\\'s not allowed to have male friends she spends time with? You want to control what she wears and who she spends time with. That\\'s not a good attitude to have in a relationship. You just don\\'t trust her not to cheat on you. That\\'s also not a great attitude. So, yeah. Kinda a asshole.  She wasn\\'t in the wrong to take the pictures, and you weren\\'t in the wrong to express how they made you feel or (ultimately) to break up with her.\\n\\nDifferent people have different boundaries on what it\\'s appropriate to share online, and where there insecurities and hang-ups lie.  Some women in relationships post bikini selfies to snapchat without their partners caring, some men in relationships post topless picks to show off their bodybuilding.  There\\'s nothing inherently wrong with that.\\n\\nIt only becomes a problem if the two halves of the couples draw different boundaries and aren\\'t able to successfully negotiate that difference.  If that\\'s the case, just like any incompatibility in outlook then it\\'s going to cause a break-up.  Hopefully the two will go on to form relationships with people with whom they are better able to bridge those differences. My boyfriend and I are the same ages as you and your ex. It is partly her age but if you\\'ve expressed discomfort in those pictures being posted or her hanging around a bunch of different random guys and she doesn\\'t take that into consideration, she probably doesn\\'t/didn\\'t take the relationship serious.  You are completely right, if she does something like this knowing you are not comfortable with it you are not an asshole The results are in and you are.... NOT the asshole.  No assholes here. You\\'re incompatible.\\n\\nyou feel how you feel and you have to accept that.  >that I HATE when she wears in public\\n\\n>She didn\\'t even save it and send it to me.\\n\\n>She\\'s 24 and I am 30. \\n\\nEw, you sound controlling and unwilling to discuss things with her (like your possible insecurity or jealousy), plus you\\'re way older than her if we\\'re judging by life periods and milestones.\\n\\n^happy ^cakeday ^anyways Not even close to an asshole.  You guys weren\\'t compatible.\\n\\nAnd your ex isn\\'t a bitch for living the way she does, but she ABSOLUTELY is for living that way while trying to also be in a committed relationship, despite what a lot of other commenters are saying'"
      ]
     },
     "execution_count": 32,
     "metadata": {},
     "output_type": "execute_result"
    }
   ],
   "source": [
    "threads[0]"
   ]
  },
  {
   "cell_type": "markdown",
   "metadata": {
    "id": "7bQ-zQveJadH"
   },
   "source": [
    "Let's now save this text to a new file. "
   ]
  },
  {
   "cell_type": "code",
   "execution_count": 34,
   "metadata": {
    "id": "GfJJrKZgJa9Z"
   },
   "outputs": [],
   "source": [
    "with open('amita_threads.txt', 'w', encoding='utf_8') as f:\n",
    "    for t in threads:\n",
    "        f.write(t)"
   ]
  }
 ],
 "metadata": {
  "colab": {
   "authorship_tag": "ABX9TyOPZWAU28PpeQo2NmZ+7qRW",
   "collapsed_sections": [],
   "name": "Week 2 OPTIONAL - Combining Reddit Data.ipynb",
   "provenance": []
  },
  "kernelspec": {
   "display_name": "Python 3",
   "language": "python",
   "name": "python3"
  },
  "language_info": {
   "codemirror_mode": {
    "name": "ipython",
    "version": 3
   },
   "file_extension": ".py",
   "mimetype": "text/x-python",
   "name": "python",
   "nbconvert_exporter": "python",
   "pygments_lexer": "ipython3",
   "version": "3.8.5"
  }
 },
 "nbformat": 4,
 "nbformat_minor": 4
}
