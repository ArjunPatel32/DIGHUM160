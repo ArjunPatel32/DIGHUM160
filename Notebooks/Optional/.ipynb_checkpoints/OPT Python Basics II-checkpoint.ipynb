{
 "cells": [
  {
   "cell_type": "markdown",
   "metadata": {
    "id": "Bhs6S4deZFWW"
   },
   "source": [
    "<img src=\"../../Img/backdrop-wh.png\" alt=\"Drawing\" style=\"width: 300px;\"/>\n",
    "\n",
    "DIGHUM160 - Critical Digital Humanities<br>\n",
    "Digital Hermeneutics<br>\n",
    "OPTIONAL: Python basics II<br>\n",
    "Created by Tom van Nuenen (tom.van_nuenen@kcl.ac.uk)"
   ]
  },
  {
   "cell_type": "markdown",
   "metadata": {
    "id": "656sdoy1X-Pb"
   },
   "source": [
    "# Python Basics II\n",
    "\n",
    "Please read this notebook if you want to brush up on some Pandas and text preprocessing basics in Python. We'll cover:\n",
    "\n",
    "- importing\n",
    "- tokenizing\n",
    "- lemmatizing\n",
    "- and some various things like functions scattered throughout\n"
   ]
  },
  {
   "cell_type": "markdown",
   "metadata": {
    "id": "M7RfwrCNiGvn"
   },
   "source": [
    "## Importing\n",
    "\n",
    "Let's get our files (see this week's main notebook for more info)"
   ]
  },
  {
   "cell_type": "code",
   "execution_count": 1,
   "metadata": {
    "colab": {
     "base_uri": "https://localhost:8080/"
    },
    "executionInfo": {
     "elapsed": 1614,
     "status": "ok",
     "timestamp": 1647450313451,
     "user": {
      "displayName": "Tom van Nuenen",
      "photoUrl": "https://lh3.googleusercontent.com/a-/AOh14GhuBmxDvW5I_LJfZtwlPqMFD8QGLVPP3skvpkTnuQ=s64",
      "userId": "10012302451096885058"
     },
     "user_tz": 300
    },
    "id": "Y9_P-ylDVwaA",
    "outputId": "71add820-2ccf-45c8-a413-e849efa1c394"
   },
   "outputs": [],
   "source": [
    "import os\n",
    "# We include two ../ because we want to go two levels up in the file structure\n",
    "os.chdir(\"../../Data\")"
   ]
  },
  {
   "cell_type": "code",
   "execution_count": 2,
   "metadata": {
    "executionInfo": {
     "elapsed": 2634,
     "status": "ok",
     "timestamp": 1647450603234,
     "user": {
      "displayName": "Tom van Nuenen",
      "photoUrl": "https://lh3.googleusercontent.com/a-/AOh14GhuBmxDvW5I_LJfZtwlPqMFD8QGLVPP3skvpkTnuQ=s64",
      "userId": "10012302451096885058"
     },
     "user_tz": 300
    },
    "id": "SZMH9xDZVyDk"
   },
   "outputs": [],
   "source": [
    "# Importing Pandas\n",
    "import pandas as pd\n",
    "\n",
    "# Reading the CSV file\n",
    "df = pd.read_csv('aita_sub_top.csv')[:10]"
   ]
  },
  {
   "cell_type": "code",
   "execution_count": 3,
   "metadata": {
    "colab": {
     "base_uri": "https://localhost:8080/",
     "height": 502
    },
    "executionInfo": {
     "elapsed": 336,
     "status": "ok",
     "timestamp": 1647450659511,
     "user": {
      "displayName": "Tom van Nuenen",
      "photoUrl": "https://lh3.googleusercontent.com/a-/AOh14GhuBmxDvW5I_LJfZtwlPqMFD8QGLVPP3skvpkTnuQ=s64",
      "userId": "10012302451096885058"
     },
     "user_tz": 300
    },
    "id": "UltfvsSgpUzP",
    "outputId": "a9b58192-5b84-44ac-b0f2-5826fa33577f"
   },
   "outputs": [
    {
     "data": {
      "text/html": [
       "<div>\n",
       "<style scoped>\n",
       "    .dataframe tbody tr th:only-of-type {\n",
       "        vertical-align: middle;\n",
       "    }\n",
       "\n",
       "    .dataframe tbody tr th {\n",
       "        vertical-align: top;\n",
       "    }\n",
       "\n",
       "    .dataframe thead th {\n",
       "        text-align: right;\n",
       "    }\n",
       "</style>\n",
       "<table border=\"1\" class=\"dataframe\">\n",
       "  <thead>\n",
       "    <tr style=\"text-align: right;\">\n",
       "      <th></th>\n",
       "      <th>idint</th>\n",
       "      <th>idstr</th>\n",
       "      <th>created</th>\n",
       "      <th>self</th>\n",
       "      <th>nsfw</th>\n",
       "      <th>author</th>\n",
       "      <th>title</th>\n",
       "      <th>url</th>\n",
       "      <th>selftext</th>\n",
       "      <th>score</th>\n",
       "      <th>subreddit</th>\n",
       "      <th>distinguish</th>\n",
       "      <th>textlen</th>\n",
       "      <th>num_comments</th>\n",
       "      <th>flair_text</th>\n",
       "      <th>flair_css_class</th>\n",
       "      <th>augmented_at</th>\n",
       "      <th>augmented_count</th>\n",
       "    </tr>\n",
       "  </thead>\n",
       "  <tbody>\n",
       "    <tr>\n",
       "      <th>0</th>\n",
       "      <td>427576402</td>\n",
       "      <td>t3_72kg2a</td>\n",
       "      <td>1506433689</td>\n",
       "      <td>1.0</td>\n",
       "      <td>0.0</td>\n",
       "      <td>Ritsku</td>\n",
       "      <td>AITA for breaking up with my girlfriend becaus...</td>\n",
       "      <td>NaN</td>\n",
       "      <td>My girlfriend recently went to the beach with ...</td>\n",
       "      <td>679.0</td>\n",
       "      <td>AmItheAsshole</td>\n",
       "      <td>NaN</td>\n",
       "      <td>4917.0</td>\n",
       "      <td>434.0</td>\n",
       "      <td>no a--holes here</td>\n",
       "      <td>NaN</td>\n",
       "      <td>NaN</td>\n",
       "      <td>NaN</td>\n",
       "    </tr>\n",
       "    <tr>\n",
       "      <th>1</th>\n",
       "      <td>551887974</td>\n",
       "      <td>t3_94kvhi</td>\n",
       "      <td>1533404095</td>\n",
       "      <td>1.0</td>\n",
       "      <td>0.0</td>\n",
       "      <td>hhhhhhffff678</td>\n",
       "      <td>AITA for banning smoking in my house and telli...</td>\n",
       "      <td>NaN</td>\n",
       "      <td>My parents smoke like chimneys. I used to as w...</td>\n",
       "      <td>832.0</td>\n",
       "      <td>AmItheAsshole</td>\n",
       "      <td>NaN</td>\n",
       "      <td>2076.0</td>\n",
       "      <td>357.0</td>\n",
       "      <td>asshole</td>\n",
       "      <td>ass</td>\n",
       "      <td>NaN</td>\n",
       "      <td>NaN</td>\n",
       "    </tr>\n",
       "    <tr>\n",
       "      <th>2</th>\n",
       "      <td>552654542</td>\n",
       "      <td>t3_951az2</td>\n",
       "      <td>1533562299</td>\n",
       "      <td>1.0</td>\n",
       "      <td>0.0</td>\n",
       "      <td>creepatthepool</td>\n",
       "      <td>AITA? Creep wears skimpy bathing suit to pool</td>\n",
       "      <td>NaN</td>\n",
       "      <td>Hi guys. Throwaway for obv reasons.\\n\\nI'm a f...</td>\n",
       "      <td>23.0</td>\n",
       "      <td>AmItheAsshole</td>\n",
       "      <td>NaN</td>\n",
       "      <td>1741.0</td>\n",
       "      <td>335.0</td>\n",
       "      <td>Shitpost</td>\n",
       "      <td>NaN</td>\n",
       "      <td>NaN</td>\n",
       "      <td>NaN</td>\n",
       "    </tr>\n",
       "    <tr>\n",
       "      <th>3</th>\n",
       "      <td>556350346</td>\n",
       "      <td>t3_978ioa</td>\n",
       "      <td>1534254641</td>\n",
       "      <td>1.0</td>\n",
       "      <td>0.0</td>\n",
       "      <td>Pauly104</td>\n",
       "      <td>AITA for eating steak in front of my vegan GF?</td>\n",
       "      <td>NaN</td>\n",
       "      <td>Yesterday night, me and my GF decided to go ou...</td>\n",
       "      <td>1011.0</td>\n",
       "      <td>AmItheAsshole</td>\n",
       "      <td>NaN</td>\n",
       "      <td>416.0</td>\n",
       "      <td>380.0</td>\n",
       "      <td>not the a-hole</td>\n",
       "      <td>not</td>\n",
       "      <td>NaN</td>\n",
       "      <td>NaN</td>\n",
       "    </tr>\n",
       "    <tr>\n",
       "      <th>4</th>\n",
       "      <td>560929656</td>\n",
       "      <td>t3_99yo3c</td>\n",
       "      <td>1535126620</td>\n",
       "      <td>1.0</td>\n",
       "      <td>0.0</td>\n",
       "      <td>ThatSpencerGuy</td>\n",
       "      <td>AITA for not wanting to cook my mother-in-law ...</td>\n",
       "      <td>NaN</td>\n",
       "      <td>My wife and I are vegetarians, much to my in-l...</td>\n",
       "      <td>349.0</td>\n",
       "      <td>AmItheAsshole</td>\n",
       "      <td>NaN</td>\n",
       "      <td>1158.0</td>\n",
       "      <td>360.0</td>\n",
       "      <td>not the a-hole</td>\n",
       "      <td>not</td>\n",
       "      <td>NaN</td>\n",
       "      <td>NaN</td>\n",
       "    </tr>\n",
       "  </tbody>\n",
       "</table>\n",
       "</div>"
      ],
      "text/plain": [
       "       idint      idstr     created  self  nsfw          author  \\\n",
       "0  427576402  t3_72kg2a  1506433689   1.0   0.0          Ritsku   \n",
       "1  551887974  t3_94kvhi  1533404095   1.0   0.0   hhhhhhffff678   \n",
       "2  552654542  t3_951az2  1533562299   1.0   0.0  creepatthepool   \n",
       "3  556350346  t3_978ioa  1534254641   1.0   0.0        Pauly104   \n",
       "4  560929656  t3_99yo3c  1535126620   1.0   0.0  ThatSpencerGuy   \n",
       "\n",
       "                                               title  url  \\\n",
       "0  AITA for breaking up with my girlfriend becaus...  NaN   \n",
       "1  AITA for banning smoking in my house and telli...  NaN   \n",
       "2      AITA? Creep wears skimpy bathing suit to pool  NaN   \n",
       "3     AITA for eating steak in front of my vegan GF?  NaN   \n",
       "4  AITA for not wanting to cook my mother-in-law ...  NaN   \n",
       "\n",
       "                                            selftext   score      subreddit  \\\n",
       "0  My girlfriend recently went to the beach with ...   679.0  AmItheAsshole   \n",
       "1  My parents smoke like chimneys. I used to as w...   832.0  AmItheAsshole   \n",
       "2  Hi guys. Throwaway for obv reasons.\\n\\nI'm a f...    23.0  AmItheAsshole   \n",
       "3  Yesterday night, me and my GF decided to go ou...  1011.0  AmItheAsshole   \n",
       "4  My wife and I are vegetarians, much to my in-l...   349.0  AmItheAsshole   \n",
       "\n",
       "  distinguish  textlen  num_comments        flair_text flair_css_class  \\\n",
       "0         NaN   4917.0         434.0  no a--holes here             NaN   \n",
       "1         NaN   2076.0         357.0           asshole             ass   \n",
       "2         NaN   1741.0         335.0          Shitpost             NaN   \n",
       "3         NaN    416.0         380.0    not the a-hole             not   \n",
       "4         NaN   1158.0         360.0    not the a-hole             not   \n",
       "\n",
       "   augmented_at  augmented_count  \n",
       "0           NaN              NaN  \n",
       "1           NaN              NaN  \n",
       "2           NaN              NaN  \n",
       "3           NaN              NaN  \n",
       "4           NaN              NaN  "
      ]
     },
     "execution_count": 3,
     "metadata": {},
     "output_type": "execute_result"
    }
   ],
   "source": [
    "# Showing the dataframe - just the first 5 rows\n",
    "df.head()"
   ]
  },
  {
   "cell_type": "code",
   "execution_count": 4,
   "metadata": {
    "colab": {
     "base_uri": "https://localhost:8080/"
    },
    "executionInfo": {
     "elapsed": 204,
     "status": "ok",
     "timestamp": 1647449669765,
     "user": {
      "displayName": "Tom van Nuenen",
      "photoUrl": "https://lh3.googleusercontent.com/a-/AOh14GhuBmxDvW5I_LJfZtwlPqMFD8QGLVPP3skvpkTnuQ=s64",
      "userId": "10012302451096885058"
     },
     "user_tz": 300
    },
    "id": "ch3Aqm0Dpfo7",
    "outputId": "e3aa0917-bd62-4646-ae88-7d8e47c88612"
   },
   "outputs": [
    {
     "name": "stdout",
     "output_type": "stream",
     "text": [
      "0    My girlfriend recently went to the beach with ...\n",
      "1    My parents smoke like chimneys. I used to as w...\n",
      "2    Hi guys. Throwaway for obv reasons.\\n\\nI'm a f...\n",
      "3    Yesterday night, me and my GF decided to go ou...\n",
      "4    My wife and I are vegetarians, much to my in-l...\n",
      "5    Hi, so my girlfriend and i watched a horror mo...\n",
      "6    He has no money until he’s paid at the end of ...\n",
      "7    Let me just say up front that I have nothing a...\n",
      "8     Basically I went out with this girl(Missy) an...\n",
      "9    I coach a high school girls tennis team and du...\n",
      "Name: selftext, dtype: object\n",
      "0    My girlfriend recently went to the beach with ...\n",
      "1    My parents smoke like chimneys. I used to as w...\n",
      "2    Hi guys. Throwaway for obv reasons.\\n\\nI'm a f...\n",
      "3    Yesterday night, me and my GF decided to go ou...\n",
      "4    My wife and I are vegetarians, much to my in-l...\n",
      "5    Hi, so my girlfriend and i watched a horror mo...\n",
      "6    He has no money until he’s paid at the end of ...\n",
      "7    Let me just say up front that I have nothing a...\n",
      "8     Basically I went out with this girl(Missy) an...\n",
      "9    I coach a high school girls tennis team and du...\n",
      "Name: selftext, dtype: object\n"
     ]
    }
   ],
   "source": [
    "# Access the 'selftext' column of our dataframe like so (both methods are synonymous)\n",
    "print(df['selftext'])\n",
    "print(df.selftext)"
   ]
  },
  {
   "cell_type": "markdown",
   "metadata": {
    "id": "22GAJ_PQnjT-"
   },
   "source": [
    "### Programming basics: Functions\n",
    "\n",
    "Do these exercises if you need to learn about functions."
   ]
  },
  {
   "cell_type": "markdown",
   "metadata": {
    "id": "3_9zO6jDniYG"
   },
   "source": [
    "A function is like a little program. It's basically a block of code which only runs when it is called. It looks like this:"
   ]
  },
  {
   "cell_type": "code",
   "execution_count": 5,
   "metadata": {
    "colab": {
     "base_uri": "https://localhost:8080/"
    },
    "executionInfo": {
     "elapsed": 382,
     "status": "ok",
     "timestamp": 1647121831485,
     "user": {
      "displayName": "Tom van Nuenen",
      "photoUrl": "https://lh3.googleusercontent.com/a-/AOh14GhuBmxDvW5I_LJfZtwlPqMFD8QGLVPP3skvpkTnuQ=s64",
      "userId": "10012302451096885058"
     },
     "user_tz": 300
    },
    "id": "fWIIUx3bnwx1",
    "outputId": "fdc9df62-3847-4c74-8b4a-caf8d7e23f6a"
   },
   "outputs": [
    {
     "name": "stdout",
     "output_type": "stream",
     "text": [
      "Hello, world!\n"
     ]
    }
   ],
   "source": [
    "# Defining the function\n",
    "def my_function():\n",
    "  print(\"Hello, world!\")\n",
    "\n",
    "# Running the function\n",
    "my_function()"
   ]
  },
  {
   "cell_type": "markdown",
   "metadata": {
    "id": "hQkjUKcJoQxj"
   },
   "source": [
    "Functions can take some data as input, called \"parameters\". It can transform that input, and can `return` you some output. "
   ]
  },
  {
   "cell_type": "code",
   "execution_count": 6,
   "metadata": {
    "colab": {
     "base_uri": "https://localhost:8080/",
     "height": 35
    },
    "executionInfo": {
     "elapsed": 6,
     "status": "ok",
     "timestamp": 1639777347867,
     "user": {
      "displayName": "Tom van Nuenen",
      "photoUrl": "https://lh3.googleusercontent.com/a-/AOh14GhuBmxDvW5I_LJfZtwlPqMFD8QGLVPP3skvpkTnuQ=s64",
      "userId": "10012302451096885058"
     },
     "user_tz": -60
    },
    "id": "m1FKBPaZoZXN",
    "outputId": "98c78abb-2bbf-4f64-bab6-c3ce87d44c7b"
   },
   "outputs": [
    {
     "data": {
      "text/plain": [
       "'Hello, you'"
      ]
     },
     "execution_count": 6,
     "metadata": {},
     "output_type": "execute_result"
    }
   ],
   "source": [
    "def my_function(inp):\n",
    "  return \"Hello, \" + inp\n",
    "\n",
    "my_function(\"you\")"
   ]
  },
  {
   "cell_type": "markdown",
   "metadata": {
    "id": "Hff39BoGo0Rt"
   },
   "source": [
    "Create a function called `multiplier` that takes some number as a parameter, multiplies that number by 10, and `return`s it. Then run the cell to see if it works."
   ]
  },
  {
   "cell_type": "code",
   "execution_count": 7,
   "metadata": {
    "colab": {
     "base_uri": "https://localhost:8080/"
    },
    "executionInfo": {
     "elapsed": 6,
     "status": "ok",
     "timestamp": 1639777348718,
     "user": {
      "displayName": "Tom van Nuenen",
      "photoUrl": "https://lh3.googleusercontent.com/a-/AOh14GhuBmxDvW5I_LJfZtwlPqMFD8QGLVPP3skvpkTnuQ=s64",
      "userId": "10012302451096885058"
     },
     "user_tz": -60
    },
    "id": "3l3hcsLsooW9",
    "outputId": "e7ac8b91-a7fc-472f-a5ee-64b633a9cca8"
   },
   "outputs": [
    {
     "data": {
      "text/plain": [
       "100"
      ]
     },
     "execution_count": 7,
     "metadata": {},
     "output_type": "execute_result"
    }
   ],
   "source": [
    "# Your code here\n",
    "def multiplier(inp):\n",
    "  return inp * 10\n",
    "\n",
    "multiplier(10)"
   ]
  },
  {
   "cell_type": "markdown",
   "metadata": {
    "id": "rEaV-cyYbjjm"
   },
   "source": [
    "### Removing punctuation\n",
    "\n",
    "First, have a look at how to use `string.punctuation` to get rid of some punctuation characters. `string.punctuation` is not a function: it's a pre-initialized string which we can use to get rid of punctuation in a string.\n",
    "\n"
   ]
  },
  {
   "cell_type": "code",
   "execution_count": 8,
   "metadata": {
    "colab": {
     "base_uri": "https://localhost:8080/",
     "height": 35
    },
    "executionInfo": {
     "elapsed": 11,
     "status": "ok",
     "timestamp": 1647450903852,
     "user": {
      "displayName": "Tom van Nuenen",
      "photoUrl": "https://lh3.googleusercontent.com/a-/AOh14GhuBmxDvW5I_LJfZtwlPqMFD8QGLVPP3skvpkTnuQ=s64",
      "userId": "10012302451096885058"
     },
     "user_tz": 300
    },
    "id": "EW9WvfCTmMQ2",
    "outputId": "073bd0ae-086c-46ef-8055-331201ce1848"
   },
   "outputs": [
    {
     "data": {
      "text/plain": [
       "'I dont know why Im speaking like this'"
      ]
     },
     "execution_count": 8,
     "metadata": {},
     "output_type": "execute_result"
    }
   ],
   "source": [
    "import string\n",
    "\n",
    "old_sent = \"I. don't. know. why. I'm. speaking. like. this.\"\n",
    "new_sent = \"\"\n",
    "for ch in old_sent:\n",
    "  if ch not in string.punctuation:\n",
    "    new_sent += ch\n",
    "\n",
    "new_sent"
   ]
  },
  {
   "cell_type": "markdown",
   "metadata": {
    "id": "cXwW6hxsmxYk"
   },
   "source": [
    "Your turn! Try to create a function called `strip_punctuation` that strips punctuation from a string. It takes a string as a parameter, and returns a new string with all punctuation stripped out."
   ]
  },
  {
   "cell_type": "code",
   "execution_count": 9,
   "metadata": {
    "executionInfo": {
     "elapsed": 259,
     "status": "ok",
     "timestamp": 1647451171747,
     "user": {
      "displayName": "Tom van Nuenen",
      "photoUrl": "https://lh3.googleusercontent.com/a-/AOh14GhuBmxDvW5I_LJfZtwlPqMFD8QGLVPP3skvpkTnuQ=s64",
      "userId": "10012302451096885058"
     },
     "user_tz": 300
    },
    "id": "j3NPw95Objjn"
   },
   "outputs": [],
   "source": [
    "# Your code here\n",
    "\n",
    "def strip_punctuation(s):\n",
    "    return ''.join(ch for ch in s if ch not in string.punctuation)\n"
   ]
  },
  {
   "cell_type": "markdown",
   "metadata": {
    "id": "T8Bme_0wjuuF"
   },
   "source": [
    "Try to see if it works:\n",
    "\n",
    "1. Create an empty list called `df_strip_punct`;\n",
    "2. Run a `for`-loop that iterates over all the \"selftexts\" in the `df` DataFrame, and that applies your function to each; \n",
    "3. Save the result in a new variable;\n",
    "4. Print your new variable to see if it worked!"
   ]
  },
  {
   "cell_type": "code",
   "execution_count": 10,
   "metadata": {
    "colab": {
     "base_uri": "https://localhost:8080/"
    },
    "executionInfo": {
     "elapsed": 3,
     "status": "ok",
     "timestamp": 1647451172648,
     "user": {
      "displayName": "Tom van Nuenen",
      "photoUrl": "https://lh3.googleusercontent.com/a-/AOh14GhuBmxDvW5I_LJfZtwlPqMFD8QGLVPP3skvpkTnuQ=s64",
      "userId": "10012302451096885058"
     },
     "user_tz": 300
    },
    "id": "VGVq8rYRjwZp",
    "outputId": "e46ae962-33f7-4029-97ed-7f1b5d0b234f"
   },
   "outputs": [
    {
     "data": {
      "text/plain": [
       "['My girlfriend recently went to the beach with a few of her friends  She has this tiny bikini bottom that is basically a thong that I HATE when she wears in public  Well she wore it  Not only did she wear it she posed in the bathroom mirror of her hotel room to take a side profile picture so you could see her ass sticking out in it and posted it to her Snapchat story   Worth mentioning I am not friends with her on Snapchat for reasons similar to this sick of getting in fights when she says shes going out for girls night then posts videos of her sitting at a table with like 5 dudes that always got invited by one of the other girls which was completely unknown to her until she arrived  most of these guys she then adds on Snapchat afterwards  She didnt even save it and send it to me  I saw it when she was showing me pics from her beach trip and she had screenshot that particular snap and left it in her camera roll  Whether the ass part was intentional or not I will never know  She claims she just liked the way her stomach looked and it was just a pic because she was at the beach and that was the only black bikini bottom she owns  But theres nothing to look at but her in a micro bikini in a bathroom mirror  Theres no ocean no sand no friends just her tits and ass in a bathroom mirror  Shes 24 and I am 30  Is it the age  Is this typical 24 year old behavior nowadays  Am I wrong for thinking this is inappropriate behavior when youre in a relationship or am I the asshole for making a big deal about it\\n\\n\\nEdit  Guys let me clear  I did not try to control her at any point in time  I have never once told her what to do what to wear what she can or can not do  Yes I hate that her ass is completely out in that bikini  But Ive never told her not to wear it and my problem is not that she wore it in general  She wore it all summer long despite my groaning  That was never my issue  I found it super annoying yes but my issue is that she sent out a picture of her ass on Snapchat  Plain and simple  Thats where I drew the line  I didnt break it off because she wore it I broke it off because she turned sideways in a bathroom mirror stuck her butt out took a picture and sent it out on Snapchat  Its a borderline nude in that suit and seems wildly inappropriate to me  Also for clarity I am not jealous  The friends she went to the beach with were guy friends  I was completely ok with it  I had never even met them before   She has guy friends  She hangs out with them  Never my issue and I didnt even feel it was worth mentioning  My issue with the whole girls night comes into play when I get explicitly told I cannot come because it is girls only night then later find out it was just a bunch of dudes and her and her girlfriend  Thats not a trust thing and I didnt try to make a big deal about it I just removed her from my friends on Snapchat so I didnt have to see it anymore  And in all honesty my only true problem with it was one guy that was there in particular  Hes been hitting on her and messaging her non stop since we started dating knowing she has a boyfriend  Both times I got snubbed for girls night this one particular fella was in attendance both nights and I got the I didnt know he was going to be there from her  But again whatever she can do whatever she wants whenever she wants and Ive never tried to stop her but for my own sanity I removed her from Snapchat so I didnt have to see it  That wasnt the point in this post and that wasnt even why I dumped her so I didnt really want to get into detail on that but a few people are calling me controlling and jealous now  I broke it off because she sent out a pic of her ass on Snapchat  The only reason we were together is because SHE told me the wild party phase was done and she was looking to start a family and have a serious relationship  She is a single mom of an almost 3 year old daughter who I love to pieces  She has been chasing me for 2 years trying to date me and I told her no every step of the way because she was just a little to wild for what Im looking for in the stage Im at in life  So when she came to me earlier this year saying she had matured all the partying and wild stuff was done and she was ready to get serious and start a family with me I agreed to commit  I did not date this woman and say HEY PUT ON SOME PANTS  I simply said you told me this stuff was over and I told you from the very beginning I had no interest in dating a girl whos still stuck in the wild college party phase so I ended it  If she hadnt told me she had matured and wanted to get serious I never would have agreed to date her to begin with  Thats just not what Im looking for  I dont think that makes me jealous or controlling  I was very open and honest about what I was looking for the 2 years Ive known her  ',\n",
       " 'My parents smoke like chimneys I used to as well but quit when my wife and I got together We have a young son and I’ve been taking vacation time this last week and invited my parents to come visit so they could watch our son and my wife and I could go on a date They live an hour and a half away so sometimes they spend the night when they come visit on this occasion they did \\n\\nI told them beforehand and have reminded them many times since our son was born 14 months ago that there is absolutely no smoking at our address Not inside not outside not in the street not in their car in the driveway not anywhere near our property I don’t want it around my son and I don’t want him asking questions about it when he gets bigger or getting ideas and they know that They said okay \\n\\nWell this morning after they left I was reviewing the footage from our security camera at the front door and I see my dad step out into the driveway to smoke 4 times in the 3 hours my wife and I were gone My mom did so as well but only once I texted my dad afterward and told him that because they disrespected our wishes for them not to smoke on our property from now on we’ll only be meeting in public they won’t be coming to our house He asked where they would stay if they want to stay overnight and I said in a hotel if they’d rather smoke than see their grandson \\n\\nMy parents basically think I’m being ridiculous they smoked around me and my two brothers and we’re all fine That’s actually not true my youngest brother has asthma and had chronic ear infections as a kid that I’m sure were exacerbated by the smoking plus I picked it up when I was only 16 and it took me years to quit They said they would never put their grandson in danger and there was an air of ‘this is the thanks we get for babysitting’ To me them babysitting for a few hours doesn’t give them carte blanche to disrespect me and my wife’s wishes \\n\\nBut they’re making such a big deal out of this that I’m wondering if I was too harsh The rule still stands but maybe I should’ve been nicer',\n",
       " 'Hi guys Throwaway for obv reasons\\n\\nIm a female and myself and two children belong to a pool club in our area\\n\\nThere is a man about 30ish looking that wears bikini bathing suits and thongs to the pool His penis is clearly bulging through his swimwear and he seems to walk around like he owns the place\\n\\nI find this extremely creepy especially because my children and all the other families have to put up with this Why cant this pervert just wear a normal swim trunk like every other American guy does\\n\\nAm I in the wrong for thinking this way I tried complaining to the pool supervisor but he said that theres nothing he can do and that he is sorry but he has every right to be there and where what he is wearing I disagree Its not OK for you to be walking around in tight bathing suits with your dick bulging through WTF kind of creep does this\\n\\nAlso this man likes to walk around the pool deck just willy nilly clearly looking for attention and validation When he isnt walking around he is laying spread eagle on the deck chairs showing off his junk No thanks I dont want to look at this If I am this scarred by it lol then I cant imagine what the kids must think Isnt this borderline pedo activity I noticed he also seems to pick a pool deck near families so that makes us and the other families extremely uncomfortable\\n\\nI’ve also noticed that he seems to get elections which then my kids end up staring at and then I have to explain to them why men are such creeps I realize this may be a legit medical issue but wtf if that’s the case wear swim trunks\\n\\nHe also seems to get erections often and that is extremely difficult for me to have to explain to my children why a man is turned on in front of them\\n\\n EDIT spoke with the front desk clerk and she stated that they can’t disclose any personal information about their members like the times they arrive and leave because of the potential for stalking I guess I’ll prob have to just deal with it and tell my children that penises drip precum and that some men make more than others and that it’s ok for them to just hang out with a hard ok letting their precum stain the entire front side of their mankini And it’s OK because “equal rights” FML  ',\n",
       " 'Yesterday night me and my GF decided to go out to eat She is vegan and I’m not This was her first day going vegan When we were asking for our for our food I asked if I could have a meal that is basically Steak Asparagus and Rice My girlfriend was offended that I would eat meat on her first day vegan I told her I’m not vegan and I can order whatever I want but she wouldn’t listen AITA in this situation',\n",
       " 'My wife and I are vegetarians much to my inlaws vocal annoyance Last year we visited her family for Thanksgiving and to their credit they made sure there were enough yummy vegetarian side dishes that we could fill out plates with more than just mashed potatoes\\n\\nOn that same trip my wifes mom invited themselves to our place for Thanksgiving this year I think its your turn to host us I said that sounded like fun It did and does But she said Youll be cooking us a turkey I sort of laughed and said well no It became an issue We argued I said that we would make such a wonderful dinner and they would have such a nice time that they wouldnt even miss the turkey She said that we were being selfish\\n\\nNow that Thanksgiving is approaching I feel pressure to just make the damn turkey so it doesnt come up But I feel as though if were hosting them and preparing the food and only have one oven we shouldnt be obligated to spend half a day cooking something to which we have a moral objection and will not eat ourselves\\n\\nBut maybe I should just let it go be a good host and give them what they expect on the holiday\\n\\nAm I the asshole\\n\\nEDIT For what its worth I kind of prefer to host They live several states away and the hassle and cost of traveling is much higher than hosting for me So while it was a little odd to have her invite herself over I dont at all object to hosting them\\n\\nEDIT2 A few more details Weve been vegetarian for a little over 2 years Ive cooked a turkey one time several years ago but Im sure my wife has done it a handful of times',\n",
       " 'Hi so my girlfriend and i watched a horror movie recently called The Last Exorcism Now keep in mind i HATE horror i get very scared easily but she likes horror and practically begged me to watch it with her So i did watch it and have been very jumpy lately It was pretty scary because horror movies have always given me nightmares\\n\\n\\nMy girlfriend however thinks its funny how i am She has picked up me bad habit She likes to sneak up behind me and make a loud noise to startle me Its horrible I hate it I feel like im walking on eggshells in my own house\\n\\n\\nSo last night she went out with some friends I was home alone and after a few hours she came back but didnt tell me or knock or anything I had no idea she was home I went into my kitchen keep in mind this was after midnight And she ran up behind me wearing a scary mask with a scream Without thinking  out of reflex I hit her I punched her in the nose\\n\\n\\nShe was crying and her nose was bleeding I repeatedly apoligized to her but she pushed me away and called me a piece of shit She packed up her clothes and left my house She refuses to return my calls and has been telling our friends that i hit her\\n\\n\\nI didnt mean to do it but it just happened\\n\\n\\nSo am i the asshole for punching my girlfriend as a reflex for her startling me',\n",
       " 'He has no money until he’s paid at the end of the month and he told me I wouldn’t get a present until then and I’m completely fine with that but I didn’t even receive a card I don’t expect expensive gifts but I’d of liked a card Even when I’ve got no money I either borrow it until I get paid or I at least get him a card and explain I’ll get him something when I’m paid I thought he’d do the same But no Today I woke up with nothing at all I didn’t say anything and acted like I’m fine and he’s currently at work but still We’re trying to save money because We’re expecting our first kid in a few months but I just feel like he doesn’t care at all Even last year he waited till the night before to go get something and only because I said it was my 18th and I felt like nobody cared since no one mentioned it or took notice when it came up in conversation\\n\\nI haven’t spoken to him since he left this morning even ignoring his texts and calls Am I the asshole in this situation ',\n",
       " 'Let me just say up front that I have nothing against transgender people I dont understand it but if thats what you want to do then I have no problem with it \\n\\n\\nIm in university and theres a big scene here for LGBT rights etc A lot of my friends are very active in the community  I dont involve myself much it but I know they are doing good in the world and Im glad we have people fighting for equality I myself am a lesbian but I have dated men in the past before I knew I was lesbian \\n\\n\\nAnyway I broke up with my girlfriend last week and one of my close friends said that she knew someone who was single and wanted to hook us up I said yes and gave me her friends number We arranged to meet in a pizza place\\n\\n\\nWhen I got there I found out this person was a transgender woman  that is he was very clearly a man in a dress His voice was deep and he had a very masculine face I am using the masculine pronoun because this man it seemed was making very little effort to look like a woman besides shaving his beard and wearing a dress\\n\\n\\nI was a bit shocked but I stuck through it until the end He asked if I wanted to go out with him again and I let him down gently\\n\\n\\nWhen I saw my friend again I told her it was not cool to just set me up with a man like that when she knows Im attracted to women And she said I was being transphobic For being a lesbian Apparently it doesnt matter that Im not attracted to men I should be attracted to him because on the inside he believes he is a woman \\n\\n\\nAnd to top that off all of the other friends in our friend group are on her side and they seem to think im the crazy one\\n\\n\\nWe actually had quite a big argument but have apologised since and we are still friends But I cant stop thinking that it was not OK for her to set me up with a man I know a lot of people are going to say Im the asshole here but I just wanted to see what the opinion on this topic was outside of my friend group',\n",
       " ' Basically I went out with this girlMissy and we really clicked a lot We had an awesome time on our first 4 dates We had made plans to go get sushi on my birthdayher idea since she never had it Texted her before I left and she said Ill meet you there soon Que me sitting there alone on my B day eating alone \\n\\n She ended up becoming good friends with my buddys gfunknown to me and I ran into her at her birthday party at the bar and she tried to hug me I just side stepped her and brushed right past her without acknowledging her the entire night I even told my friend what she did and asked him to make sure he keeps her away from me \\n\\n Her and my buddys gf eventually confronted me while wasted asking why Im being an asshole and wont even acknowledge Missy presence ignore her and move seats if she sits down After about 5 minutes of listening to them bitch  insult me I stood up and belted out a Fuck off and fuck you both this is the girl who ghosted me after 4 dates and left me sitting alone on my birthday after saying shell be here soon and  I left with 3 of our friends \\n\\n Now my buddy his gf missy and a few other friends in our group think I acted irrational and ruined her bday party They want me to apologize to them and Missy As well as they want me to be friends with Missy as well because shes moving in with them in a few months \\n\\n TLDR Girl ghosted me on 5th date after saying on my way Run into her at friends party and ignore her Girl and friend rant and insult till I out girls shitty actions along with a hearty fuck you and left\\n\\nEdit I literally did nothing beyond not talk to Missy My friends gf and Missy kept trying to force me into conversations all night despite me saying no thanks and walking away They cornered me while I was seated and kept talking shit while I stayed silent \\n\\nEdit 2 I forgot to mention the part where after a few minutes of being berated they started in on how my dead brother would be ashamed of me My brother was murdered and our last conversation was a fight I found his body on my way to his house to make up with him',\n",
       " 'I coach a high school girls tennis team and during our match today the opposing team as well as their coach were very disrespectful toward our team Without getting into specifics the behavior of their players led to one of my players breaking down in tears during and after her match \\n\\nFor background the opposing school is very much inner city We are not but are a very diverse community 40 of my team are nonwhite  and the number is about the same for the town as a whole\\n\\nAnyway upon completion of the match I made my displeasure with the behavior known to the coach but he refused to acknowledge that he or his team did anything wrong Here is the potentially racist statement I said that it’s possible that our differing opinions on appropriate behavior at a tennis match could be due to the differing demographics of our schools When he said this he accused of being racist said I was making things racial before cutting me off when I tried to explain \\n\\nObviously I know I was not intending to be racist as I was not even considering race when I mentioned demographics I was referring to social and economic factors There’s just difference between inner city and non inner city schools I feel like there’s no denying that’s\\n\\nI of course have the support of my team and everyone else who was viewing the match but I’m wondering how this sounds from an outside perspective Thanks ']"
      ]
     },
     "execution_count": 10,
     "metadata": {},
     "output_type": "execute_result"
    }
   ],
   "source": [
    "# Your code here\n",
    "\n",
    "df_strip_punct = [strip_punctuation(t) for t in df.selftext]\n",
    "df_strip_punct\n"
   ]
  },
  {
   "cell_type": "markdown",
   "metadata": {
    "id": "sAGyS-eEqQTk"
   },
   "source": [
    "### Tokenizing\n",
    "Next, we need to create a tokenizer. Create another list called `df_tokens`, then use another for-loop that applies NLTK's `word_tokenize()` method on each entry of our `df_strip_punct` list. "
   ]
  },
  {
   "cell_type": "code",
   "execution_count": 11,
   "metadata": {
    "colab": {
     "base_uri": "https://localhost:8080/",
     "height": 70
    },
    "executionInfo": {
     "elapsed": 234,
     "status": "ok",
     "timestamp": 1647451429835,
     "user": {
      "displayName": "Tom van Nuenen",
      "photoUrl": "https://lh3.googleusercontent.com/a-/AOh14GhuBmxDvW5I_LJfZtwlPqMFD8QGLVPP3skvpkTnuQ=s64",
      "userId": "10012302451096885058"
     },
     "user_tz": 300
    },
    "id": "lXwV2ofxbji2",
    "outputId": "c7babd1b-e7a1-4333-e391-216a1a57723f"
   },
   "outputs": [
    {
     "name": "stderr",
     "output_type": "stream",
     "text": [
      "[nltk_data] Downloading package punkt to\n",
      "[nltk_data]     /Users/tomvannuenen/nltk_data...\n",
      "[nltk_data]   Package punkt is already up-to-date!\n"
     ]
    },
    {
     "data": {
      "text/plain": [
       "'My'"
      ]
     },
     "execution_count": 11,
     "metadata": {},
     "output_type": "execute_result"
    }
   ],
   "source": [
    "import nltk\n",
    "nltk.download('punkt')\n",
    "from nltk.tokenize import word_tokenize\n",
    "\n",
    "# Your code here\n",
    "\n",
    "df_tokens = [word_tokenize(text) for text in df_strip_punct]\n",
    "df_tokens[0][0]"
   ]
  },
  {
   "cell_type": "markdown",
   "metadata": {
    "id": "kcutO8_8ltVp"
   },
   "source": [
    "`df_tokens` is a list of lists: each list contains the individual tokens of a post. What if we want to access a list within a list? It works like this:"
   ]
  },
  {
   "cell_type": "code",
   "execution_count": 12,
   "metadata": {
    "colab": {
     "base_uri": "https://localhost:8080/"
    },
    "executionInfo": {
     "elapsed": 660,
     "status": "ok",
     "timestamp": 1639777436658,
     "user": {
      "displayName": "Tom van Nuenen",
      "photoUrl": "https://lh3.googleusercontent.com/a-/AOh14GhuBmxDvW5I_LJfZtwlPqMFD8QGLVPP3skvpkTnuQ=s64",
      "userId": "10012302451096885058"
     },
     "user_tz": -60
    },
    "id": "nfkKqBPels49",
    "outputId": "d723f8c6-6bca-487a-9c04-1e9afbdae04f"
   },
   "outputs": [
    {
     "data": {
      "text/plain": [
       "17"
      ]
     },
     "execution_count": 12,
     "metadata": {},
     "output_type": "execute_result"
    }
   ],
   "source": [
    "list1 = [[10,13,17],[3,5,1],[13,11,12]]\n",
    "list1[0][2]"
   ]
  },
  {
   "cell_type": "markdown",
   "metadata": {
    "id": "5NYhlQlalJih"
   },
   "source": [
    "Your turn! Print out the first 10 entries in the first entry of the `df_tokens` list."
   ]
  },
  {
   "cell_type": "code",
   "execution_count": 13,
   "metadata": {
    "colab": {
     "base_uri": "https://localhost:8080/"
    },
    "executionInfo": {
     "elapsed": 295,
     "status": "ok",
     "timestamp": 1639777484390,
     "user": {
      "displayName": "Tom van Nuenen",
      "photoUrl": "https://lh3.googleusercontent.com/a-/AOh14GhuBmxDvW5I_LJfZtwlPqMFD8QGLVPP3skvpkTnuQ=s64",
      "userId": "10012302451096885058"
     },
     "user_tz": -60
    },
    "id": "W2FDyZXNbji7",
    "outputId": "268368fc-6dae-493c-b36c-808613845c7e"
   },
   "outputs": [
    {
     "data": {
      "text/plain": [
       "['My',\n",
       " 'girlfriend',\n",
       " 'recently',\n",
       " 'went',\n",
       " 'to',\n",
       " 'the',\n",
       " 'beach',\n",
       " 'with',\n",
       " 'a',\n",
       " 'few']"
      ]
     },
     "execution_count": 13,
     "metadata": {},
     "output_type": "execute_result"
    }
   ],
   "source": [
    "# Your code here\n",
    "df_tokens[0][:10]\n",
    "\n",
    "\n"
   ]
  },
  {
   "cell_type": "markdown",
   "metadata": {
    "id": "6rNmrlsxsGbB"
   },
   "source": [
    "### Programming basics: Sets\n",
    "Do these exercises if you need to learn about sets!"
   ]
  },
  {
   "cell_type": "markdown",
   "metadata": {
    "id": "ToZw1ALtnnXc"
   },
   "source": [
    "A set is an **unordered** and **unindexed** collection. This makes them different from lists, which are ordered, and from dictionaries, which are indexed. You can use sets to rapidly iterate through a list, when the order within that list doesn't matter. \n",
    "\n",
    "In Python sets are written with curly brackets, like so:"
   ]
  },
  {
   "cell_type": "code",
   "execution_count": 14,
   "metadata": {
    "colab": {
     "base_uri": "https://localhost:8080/"
    },
    "executionInfo": {
     "elapsed": 174,
     "status": "ok",
     "timestamp": 1639777488061,
     "user": {
      "displayName": "Tom van Nuenen",
      "photoUrl": "https://lh3.googleusercontent.com/a-/AOh14GhuBmxDvW5I_LJfZtwlPqMFD8QGLVPP3skvpkTnuQ=s64",
      "userId": "10012302451096885058"
     },
     "user_tz": -60
    },
    "id": "3LnqWzBescvZ",
    "outputId": "b323b9e0-ffa6-40e0-8e21-27d09af6adb1"
   },
   "outputs": [
    {
     "name": "stdout",
     "output_type": "stream",
     "text": [
      "{'apple', 'orange', 'pear'}\n"
     ]
    }
   ],
   "source": [
    "my_set = {\"apple\", \"pear\", \"orange\"}\n",
    "print(my_set)"
   ]
  },
  {
   "cell_type": "markdown",
   "metadata": {
    "id": "eXt8whadslGm"
   },
   "source": [
    "Note that the order is not preserved!\n",
    "\n",
    "You can also create a set from a different data type. What do you think will happen in the below expression? Think about it for a second, then run it to see."
   ]
  },
  {
   "cell_type": "code",
   "execution_count": 15,
   "metadata": {
    "colab": {
     "base_uri": "https://localhost:8080/"
    },
    "executionInfo": {
     "elapsed": 7,
     "status": "ok",
     "timestamp": 1639777488914,
     "user": {
      "displayName": "Tom van Nuenen",
      "photoUrl": "https://lh3.googleusercontent.com/a-/AOh14GhuBmxDvW5I_LJfZtwlPqMFD8QGLVPP3skvpkTnuQ=s64",
      "userId": "10012302451096885058"
     },
     "user_tz": -60
    },
    "id": "R3WsxeZut9IU",
    "outputId": "eecaecd5-a54d-4cee-ef3a-9ae9f8e8b23b"
   },
   "outputs": [
    {
     "data": {
      "text/plain": [
       "{' ', 'I', 'a', 'g', 'i', 'k', 'm', 'n', 'o', 'r', 't', 'w'}"
      ]
     },
     "execution_count": 15,
     "metadata": {},
     "output_type": "execute_result"
    }
   ],
   "source": [
    "set(\"I am going to work\")"
   ]
  },
  {
   "cell_type": "markdown",
   "metadata": {
    "id": "4kk9x-vbuKbd"
   },
   "source": [
    "Your turn! First, assign a new variable to a list of some random numbers. Then, force that list into a set, and print it out!"
   ]
  },
  {
   "cell_type": "code",
   "execution_count": 16,
   "metadata": {
    "id": "gd7Zr-N-tpLH"
   },
   "outputs": [],
   "source": [
    "# Your code here\n",
    "\n",
    "\n",
    "\n"
   ]
  },
  {
   "cell_type": "markdown",
   "metadata": {
    "id": "xfOI3Zm2bjj1"
   },
   "source": [
    "### Removing stopwords\n",
    "Next, let's remove stopwords. We can do so using NLTK's stopwords list, which we imported above. Let's have a look at some of these stopwords."
   ]
  },
  {
   "cell_type": "code",
   "execution_count": 17,
   "metadata": {
    "colab": {
     "base_uri": "https://localhost:8080/"
    },
    "executionInfo": {
     "elapsed": 253,
     "status": "ok",
     "timestamp": 1639777511776,
     "user": {
      "displayName": "Tom van Nuenen",
      "photoUrl": "https://lh3.googleusercontent.com/a-/AOh14GhuBmxDvW5I_LJfZtwlPqMFD8QGLVPP3skvpkTnuQ=s64",
      "userId": "10012302451096885058"
     },
     "user_tz": -60
    },
    "id": "15WB6xkKqquL",
    "outputId": "d70377ed-a072-486f-9c14-6fc588a6c349"
   },
   "outputs": [
    {
     "name": "stderr",
     "output_type": "stream",
     "text": [
      "[nltk_data] Downloading package stopwords to\n",
      "[nltk_data]     /Users/tomvannuenen/nltk_data...\n",
      "[nltk_data]   Package stopwords is already up-to-date!\n"
     ]
    },
    {
     "data": {
      "text/plain": [
       "['i', 'me', 'my', 'myself', 'we', 'our', 'ours', 'ourselves', 'you', \"you're\"]"
      ]
     },
     "execution_count": 17,
     "metadata": {},
     "output_type": "execute_result"
    }
   ],
   "source": [
    "nltk.download('stopwords')\n",
    "from nltk.corpus import stopwords\n",
    "\n",
    "stopwords.words('english')[:10]"
   ]
  },
  {
   "cell_type": "markdown",
   "metadata": {
    "id": "5YBP6qhcrAvf"
   },
   "source": [
    "Iterating through this list for *every* word in our two corpora is going to take a long time, so let's turn it into a set. This saves us some time, as sets are less memory-intensive.\n",
    "\n",
    "Remember, when creating a set it shouldn't matter which order items are in – and for our stopwords list, that is the case!"
   ]
  },
  {
   "cell_type": "code",
   "execution_count": 18,
   "metadata": {
    "colab": {
     "base_uri": "https://localhost:8080/"
    },
    "executionInfo": {
     "elapsed": 208,
     "status": "ok",
     "timestamp": 1639777515611,
     "user": {
      "displayName": "Tom van Nuenen",
      "photoUrl": "https://lh3.googleusercontent.com/a-/AOh14GhuBmxDvW5I_LJfZtwlPqMFD8QGLVPP3skvpkTnuQ=s64",
      "userId": "10012302451096885058"
     },
     "user_tz": -60
    },
    "id": "JXYe77ZjtDtX",
    "outputId": "514c1d5d-13b5-41af-b47b-de0de197529f"
   },
   "outputs": [
    {
     "data": {
      "text/plain": [
       "{'a',\n",
       " 'about',\n",
       " 'above',\n",
       " 'after',\n",
       " 'again',\n",
       " 'against',\n",
       " 'ain',\n",
       " 'all',\n",
       " 'am',\n",
       " 'an',\n",
       " 'and',\n",
       " 'any',\n",
       " 'are',\n",
       " 'aren',\n",
       " \"aren't\",\n",
       " 'as',\n",
       " 'at',\n",
       " 'be',\n",
       " 'because',\n",
       " 'been',\n",
       " 'before',\n",
       " 'being',\n",
       " 'below',\n",
       " 'between',\n",
       " 'both',\n",
       " 'but',\n",
       " 'by',\n",
       " 'can',\n",
       " 'couldn',\n",
       " \"couldn't\",\n",
       " 'd',\n",
       " 'did',\n",
       " 'didn',\n",
       " \"didn't\",\n",
       " 'do',\n",
       " 'does',\n",
       " 'doesn',\n",
       " \"doesn't\",\n",
       " 'doing',\n",
       " 'don',\n",
       " \"don't\",\n",
       " 'down',\n",
       " 'during',\n",
       " 'each',\n",
       " 'few',\n",
       " 'for',\n",
       " 'from',\n",
       " 'further',\n",
       " 'had',\n",
       " 'hadn',\n",
       " \"hadn't\",\n",
       " 'has',\n",
       " 'hasn',\n",
       " \"hasn't\",\n",
       " 'have',\n",
       " 'haven',\n",
       " \"haven't\",\n",
       " 'having',\n",
       " 'he',\n",
       " 'her',\n",
       " 'here',\n",
       " 'hers',\n",
       " 'herself',\n",
       " 'him',\n",
       " 'himself',\n",
       " 'his',\n",
       " 'how',\n",
       " 'i',\n",
       " 'if',\n",
       " 'in',\n",
       " 'into',\n",
       " 'is',\n",
       " 'isn',\n",
       " \"isn't\",\n",
       " 'it',\n",
       " \"it's\",\n",
       " 'its',\n",
       " 'itself',\n",
       " 'just',\n",
       " 'll',\n",
       " 'm',\n",
       " 'ma',\n",
       " 'me',\n",
       " 'mightn',\n",
       " \"mightn't\",\n",
       " 'more',\n",
       " 'most',\n",
       " 'mustn',\n",
       " \"mustn't\",\n",
       " 'my',\n",
       " 'myself',\n",
       " 'needn',\n",
       " \"needn't\",\n",
       " 'no',\n",
       " 'nor',\n",
       " 'not',\n",
       " 'now',\n",
       " 'o',\n",
       " 'of',\n",
       " 'off',\n",
       " 'on',\n",
       " 'once',\n",
       " 'only',\n",
       " 'or',\n",
       " 'other',\n",
       " 'our',\n",
       " 'ours',\n",
       " 'ourselves',\n",
       " 'out',\n",
       " 'over',\n",
       " 'own',\n",
       " 're',\n",
       " 's',\n",
       " 'same',\n",
       " 'shan',\n",
       " \"shan't\",\n",
       " 'she',\n",
       " \"she's\",\n",
       " 'should',\n",
       " \"should've\",\n",
       " 'shouldn',\n",
       " \"shouldn't\",\n",
       " 'so',\n",
       " 'some',\n",
       " 'such',\n",
       " 't',\n",
       " 'than',\n",
       " 'that',\n",
       " \"that'll\",\n",
       " 'the',\n",
       " 'their',\n",
       " 'theirs',\n",
       " 'them',\n",
       " 'themselves',\n",
       " 'then',\n",
       " 'there',\n",
       " 'these',\n",
       " 'they',\n",
       " 'this',\n",
       " 'those',\n",
       " 'through',\n",
       " 'to',\n",
       " 'too',\n",
       " 'under',\n",
       " 'until',\n",
       " 'up',\n",
       " 've',\n",
       " 'very',\n",
       " 'was',\n",
       " 'wasn',\n",
       " \"wasn't\",\n",
       " 'we',\n",
       " 'were',\n",
       " 'weren',\n",
       " \"weren't\",\n",
       " 'what',\n",
       " 'when',\n",
       " 'where',\n",
       " 'which',\n",
       " 'while',\n",
       " 'who',\n",
       " 'whom',\n",
       " 'why',\n",
       " 'will',\n",
       " 'with',\n",
       " 'won',\n",
       " \"won't\",\n",
       " 'wouldn',\n",
       " \"wouldn't\",\n",
       " 'y',\n",
       " 'you',\n",
       " \"you'd\",\n",
       " \"you'll\",\n",
       " \"you're\",\n",
       " \"you've\",\n",
       " 'your',\n",
       " 'yours',\n",
       " 'yourself',\n",
       " 'yourselves'}"
      ]
     },
     "execution_count": 18,
     "metadata": {},
     "output_type": "execute_result"
    }
   ],
   "source": [
    "set(stopwords.words('english'))"
   ]
  },
  {
   "cell_type": "markdown",
   "metadata": {
    "id": "PkkZ6pV3_e6Y"
   },
   "source": [
    "Your turn! \n",
    "1. Create a function called `strip_stopwords()` that takes `tokens` as a parameter;\n",
    "2. In the function, create a list named `no_stop`; \n",
    "3. Turn `stopwords.words('english')` into a set (like above), then assign it to a variable named `stop`;\n",
    "4. Run a for-loop that fills the `no_stop` list with only those tokens that are *not* in `stop` (you need an `if`-statement!);\n",
    "5. Finally, `return` the list."
   ]
  },
  {
   "cell_type": "code",
   "execution_count": 19,
   "metadata": {
    "executionInfo": {
     "elapsed": 207,
     "status": "ok",
     "timestamp": 1647451569266,
     "user": {
      "displayName": "Tom van Nuenen",
      "photoUrl": "https://lh3.googleusercontent.com/a-/AOh14GhuBmxDvW5I_LJfZtwlPqMFD8QGLVPP3skvpkTnuQ=s64",
      "userId": "10012302451096885058"
     },
     "user_tz": 300
    },
    "id": "MO_6RsDkbjj1"
   },
   "outputs": [],
   "source": [
    "# Your code here\n",
    "\n",
    "def strip_stopwords(tokens):\n",
    "    stop = set(stopwords.words('english'))\n",
    "    return [w for w in tokens if not w in stop] "
   ]
  },
  {
   "cell_type": "markdown",
   "metadata": {
    "id": "FCf2ACawAVTe"
   },
   "source": [
    "Run the following line of code to see if it worked. You should get a printout of the first 10 tokens in the first post of `trp` – without the stopwords of course!"
   ]
  },
  {
   "cell_type": "code",
   "execution_count": 20,
   "metadata": {
    "colab": {
     "base_uri": "https://localhost:8080/"
    },
    "executionInfo": {
     "elapsed": 230,
     "status": "ok",
     "timestamp": 1639777530467,
     "user": {
      "displayName": "Tom van Nuenen",
      "photoUrl": "https://lh3.googleusercontent.com/a-/AOh14GhuBmxDvW5I_LJfZtwlPqMFD8QGLVPP3skvpkTnuQ=s64",
      "userId": "10012302451096885058"
     },
     "user_tz": -60
    },
    "id": "Vxa_E-XEbjj-",
    "outputId": "265aa984-96be-4622-e180-15fb490ecca5"
   },
   "outputs": [
    {
     "data": {
      "text/plain": [
       "['My',\n",
       " 'girlfriend',\n",
       " 'recently',\n",
       " 'went',\n",
       " 'beach',\n",
       " 'friends',\n",
       " 'She',\n",
       " 'tiny',\n",
       " 'bikini',\n",
       " 'bottom']"
      ]
     },
     "execution_count": 20,
     "metadata": {},
     "output_type": "execute_result"
    }
   ],
   "source": [
    "# Run this\n",
    "df_clean = [strip_stopwords(tokens) for tokens in df_tokens]\n",
    "df_clean[0][:10]"
   ]
  },
  {
   "cell_type": "markdown",
   "metadata": {
    "id": "S3czfumObjjF"
   },
   "source": [
    "### Stemming\n",
    "Tokenizers are great, but they're often not perfect. Look at the example below:"
   ]
  },
  {
   "cell_type": "code",
   "execution_count": 21,
   "metadata": {
    "colab": {
     "base_uri": "https://localhost:8080/"
    },
    "executionInfo": {
     "elapsed": 220,
     "status": "ok",
     "timestamp": 1639777534949,
     "user": {
      "displayName": "Tom van Nuenen",
      "photoUrl": "https://lh3.googleusercontent.com/a-/AOh14GhuBmxDvW5I_LJfZtwlPqMFD8QGLVPP3skvpkTnuQ=s64",
      "userId": "10012302451096885058"
     },
     "user_tz": -60
    },
    "id": "EmNSZkGLbjjH",
    "outputId": "2488a088-24ec-49b7-ca44-0f634676a013",
    "scrolled": true
   },
   "outputs": [
    {
     "data": {
      "text/plain": [
       "['Why', 'wo', \"n't\", 'this', 'work', '?']"
      ]
     },
     "execution_count": 21,
     "metadata": {},
     "output_type": "execute_result"
    }
   ],
   "source": [
    "word_tokenize(\"Why won't this work?\")"
   ]
  },
  {
   "cell_type": "markdown",
   "metadata": {
    "id": "Ml1MyMB-bjjM"
   },
   "source": [
    "Looks like it did a pretty good job, except it considers \"wo\" and \"n't\" as different words.. Annoying. This is where **stemming** and **lemmatizing** come in handy. These are two text normalization techniques that are used to prepare text, words, and documents for further processing. \n",
    "\n",
    "See [this link](https://www.datacamp.com/community/tutorials/stemming-lemmatization-python?utm_source=adwords_ppc&utm_campaignid=1455363063&utm_adgroupid=65083631748&utm_device=c&utm_keyword=&utm_matchtype=b&utm_network=g&utm_adpostion=&utm_creative=332602034361&utm_targetid=dsa-429603003980&utm_loc_interest_ms=&utm_loc_physical_ms=1012831&gclid=Cj0KCQjwgJv4BRCrARIsAB17JI4kMKOUrJcdearlvPx4kl3VNVcqeZz-oeTSlbgikK3tJbXMrAmWTCwaAvUzEALw_wcB) for more information."
   ]
  },
  {
   "cell_type": "markdown",
   "metadata": {
    "id": "A9ZVhgbdbjjN"
   },
   "source": [
    "**Stemming** is the process of reducing inflection in words to their root forms such as mapping a group of words to the same stem even if the stem itself is not a valid word in the Language. First, let's load our stemmer:"
   ]
  },
  {
   "cell_type": "code",
   "execution_count": 22,
   "metadata": {
    "id": "1AxFw-sobjjN"
   },
   "outputs": [],
   "source": [
    "stemmer = nltk.stem.LancasterStemmer()"
   ]
  },
  {
   "cell_type": "code",
   "execution_count": 23,
   "metadata": {
    "colab": {
     "base_uri": "https://localhost:8080/"
    },
    "executionInfo": {
     "elapsed": 631,
     "status": "ok",
     "timestamp": 1639777578182,
     "user": {
      "displayName": "Tom van Nuenen",
      "photoUrl": "https://lh3.googleusercontent.com/a-/AOh14GhuBmxDvW5I_LJfZtwlPqMFD8QGLVPP3skvpkTnuQ=s64",
      "userId": "10012302451096885058"
     },
     "user_tz": -60
    },
    "id": "_Xt4sEh0bjjR",
    "outputId": "7ca29eaf-b69f-4eab-e6a0-b06f03970792"
   },
   "outputs": [
    {
     "name": "stdout",
     "output_type": "stream",
     "text": [
      "think\n",
      "think\n",
      "think\n"
     ]
    }
   ],
   "source": [
    "for each in [\"think\", \"thinker\", \"thinking\"]:\n",
    "    print(stemmer.stem(each))"
   ]
  },
  {
   "cell_type": "markdown",
   "metadata": {
    "id": "ltayyO3SbjjU"
   },
   "source": [
    "...but stemming doesn't always produce the prettiest results:"
   ]
  },
  {
   "cell_type": "code",
   "execution_count": 24,
   "metadata": {
    "colab": {
     "base_uri": "https://localhost:8080/"
    },
    "executionInfo": {
     "elapsed": 4,
     "status": "ok",
     "timestamp": 1639777550715,
     "user": {
      "displayName": "Tom van Nuenen",
      "photoUrl": "https://lh3.googleusercontent.com/a-/AOh14GhuBmxDvW5I_LJfZtwlPqMFD8QGLVPP3skvpkTnuQ=s64",
      "userId": "10012302451096885058"
     },
     "user_tz": -60
    },
    "id": "5muPaUpubjjV",
    "outputId": "d7c4c53b-0d84-450d-cbe7-58729c8171d9"
   },
   "outputs": [
    {
     "name": "stdout",
     "output_type": "stream",
     "text": [
      "cre\n",
      "cre\n",
      "cre\n"
     ]
    }
   ],
   "source": [
    "for each in [\"create\", \"creating\", \"creator\"]:\n",
    "    print(stemmer.stem(each))"
   ]
  },
  {
   "cell_type": "markdown",
   "metadata": {
    "id": "gJ5EYLZnbjja"
   },
   "source": [
    "### Lemmatizing\n",
    "A lemma is the canonical, dictionary or citation form of a word. For instance, the lemma for \"thinks\" is \"think.\" Lemmatization, in other words, is the process of converting a word to its base form.\n",
    "\n",
    "Lemmatizing your data typically is a bit less intrusive than stemming it. Let's see it in action:"
   ]
  },
  {
   "cell_type": "code",
   "execution_count": 25,
   "metadata": {
    "id": "7DHGwVwDbjjb"
   },
   "outputs": [],
   "source": [
    "lemmatizer = nltk.stem.WordNetLemmatizer()"
   ]
  },
  {
   "cell_type": "code",
   "execution_count": 27,
   "metadata": {
    "colab": {
     "base_uri": "https://localhost:8080/"
    },
    "executionInfo": {
     "elapsed": 3189,
     "status": "ok",
     "timestamp": 1639777629364,
     "user": {
      "displayName": "Tom van Nuenen",
      "photoUrl": "https://lh3.googleusercontent.com/a-/AOh14GhuBmxDvW5I_LJfZtwlPqMFD8QGLVPP3skvpkTnuQ=s64",
      "userId": "10012302451096885058"
     },
     "user_tz": -60
    },
    "id": "Fx4Zwmjgbjjf",
    "outputId": "0c790917-bcb6-4a64-b4e3-b4d42ea50076"
   },
   "outputs": [
    {
     "name": "stderr",
     "output_type": "stream",
     "text": [
      "[nltk_data] Downloading package wordnet to\n",
      "[nltk_data]     /Users/tomvannuenen/nltk_data...\n",
      "[nltk_data]   Package wordnet is already up-to-date!\n",
      "[nltk_data] Downloading package omw-1.4 to\n",
      "[nltk_data]     /Users/tomvannuenen/nltk_data...\n",
      "[nltk_data]   Unzipping corpora/omw-1.4.zip.\n"
     ]
    },
    {
     "name": "stdout",
     "output_type": "stream",
     "text": [
      "trade\n",
      "trade\n",
      "trading\n",
      "trader\n",
      "trader\n"
     ]
    }
   ],
   "source": [
    "nltk.download('wordnet')\n",
    "nltk.download('omw-1.4')\n",
    "\n",
    "for each in [\"trade\", \"trades\", \"trading\", \"trader\", \"traders\"]:\n",
    "    print(lemmatizer.lemmatize(each))"
   ]
  },
  {
   "cell_type": "markdown",
   "metadata": {
    "id": "AyQ4CdYrwfg8"
   },
   "source": [
    "Your turn! \n",
    "1. Create a function called `lemmatize()` that takes `tokens` as a parameter;\n",
    "2. Create a new list called `lemmas`\n",
    "3. In the function, assign `nltk.stem.WordNetLemmatizer()` to a variable called `lemmatizer`, like above; \n",
    "4. Run a `for`-loop that uses `lemmatizer.lemmatize(each)` to lemmatize each token in `tokens`; append the output to our `lemmas` list;  \n",
    "5. Finally, `return` the list."
   ]
  },
  {
   "cell_type": "code",
   "execution_count": 28,
   "metadata": {
    "id": "3Zk1vuxMwfg9"
   },
   "outputs": [],
   "source": [
    "# Your code here\n",
    "\n",
    "def lemmatize(tokens):\n",
    "    lemmatizer = nltk.stem.WordNetLemmatizer()\n",
    "    return [lemmatizer.lemmatize(each) for each in tokens] "
   ]
  },
  {
   "cell_type": "markdown",
   "metadata": {
    "id": "XW3YzyYGx_3v"
   },
   "source": [
    "Run the following line of code to see if it worked. You should see that the token 'masters' has been changed to 'master'."
   ]
  },
  {
   "cell_type": "code",
   "execution_count": 29,
   "metadata": {
    "colab": {
     "base_uri": "https://localhost:8080/"
    },
    "executionInfo": {
     "elapsed": 199,
     "status": "ok",
     "timestamp": 1639777645339,
     "user": {
      "displayName": "Tom van Nuenen",
      "photoUrl": "https://lh3.googleusercontent.com/a-/AOh14GhuBmxDvW5I_LJfZtwlPqMFD8QGLVPP3skvpkTnuQ=s64",
      "userId": "10012302451096885058"
     },
     "user_tz": -60
    },
    "id": "SZ32Gkk7x_3v",
    "outputId": "f2e6b8a9-b48a-49ac-a199-c46979f9c579"
   },
   "outputs": [
    {
     "data": {
      "text/plain": [
       "['see', 'as', 'sticking', 'posted', 'Snapchat']"
      ]
     },
     "execution_count": 29,
     "metadata": {},
     "output_type": "execute_result"
    }
   ],
   "source": [
    "# Run this\n",
    "df_lemmas = [lemmatize(tokens) for tokens in df_clean]\n",
    "df_lemmas[0][30:35]"
   ]
  },
  {
   "cell_type": "markdown",
   "metadata": {
    "id": "0wqgYPvK2rL7"
   },
   "source": [
    "### Forcing to string\n",
    "Sometimes, when we have a list, we actually want a string. For instance, some libraries of NLP tools require strings as input. In those cases, we can force lists into strings by applying the list `.join` method. Let's use it to turn the first entry of our `trp_lemmas` list into a string."
   ]
  },
  {
   "cell_type": "code",
   "execution_count": 30,
   "metadata": {
    "colab": {
     "base_uri": "https://localhost:8080/",
     "height": 157
    },
    "executionInfo": {
     "elapsed": 272,
     "status": "ok",
     "timestamp": 1639777653166,
     "user": {
      "displayName": "Tom van Nuenen",
      "photoUrl": "https://lh3.googleusercontent.com/a-/AOh14GhuBmxDvW5I_LJfZtwlPqMFD8QGLVPP3skvpkTnuQ=s64",
      "userId": "10012302451096885058"
     },
     "user_tz": -60
    },
    "id": "be-Xgn3n2qlJ",
    "outputId": "50c2a4e1-9e4f-4a2c-d3f5-7a38a0b69a9c"
   },
   "outputs": [
    {
     "data": {
      "text/plain": [
       "'My girlfriend recently went beach friend She tiny bikini bottom basically thong I HATE wear public Well wore Not wear posed bathroom mirror hotel room take side profile picture could see as sticking posted Snapchat story Worth mentioning I friend Snapchat reason similar sick getting fight say shes going girl night post video sitting table like 5 dude always got invited one girl completely unknown arrived guy add Snapchat afterwards She didnt even save send I saw showing pic beach trip screenshot particular snap left camera roll Whether as part intentional I never know She claim liked way stomach looked pic beach black bikini bottom owns But there nothing look micro bikini bathroom mirror Theres ocean sand friend tit as bathroom mirror Shes 24 I 30 Is age Is typical 24 year old behavior nowadays Am I wrong thinking inappropriate behavior youre relationship I asshole making big deal Edit Guys let clear I try control point time I never told wear Yes I hate as completely bikini But Ive never told wear problem wore general She wore summer long despite groaning That never issue I found super annoying yes issue sent picture as Snapchat Plain simple Thats I drew line I didnt break wore I broke turned sideways bathroom mirror stuck butt took picture sent Snapchat Its borderline nude suit seems wildly inappropriate Also clarity I jealous The friend went beach guy friend I completely ok I never even met She guy friend She hang Never issue I didnt even feel worth mentioning My issue whole girl night come play I get explicitly told I come girl night later find bunch dude girlfriend Thats trust thing I didnt try make big deal I removed friend Snapchat I didnt see anymore And honesty true problem one guy particular Hes hitting messaging non stop since started dating knowing boyfriend Both time I got snubbed girl night one particular fella attendance night I got I didnt know going But whatever whatever want whenever want Ive never tried stop sanity I removed Snapchat I didnt see That wasnt point post wasnt even I dumped I didnt really want get detail people calling controlling jealous I broke sent pic as Snapchat The reason together SHE told wild party phase done looking start family serious relationship She single mom almost 3 year old daughter I love piece She chasing 2 year trying date I told every step way little wild Im looking stage Im life So came earlier year saying matured partying wild stuff done ready get serious start family I agreed commit I date woman say HEY PUT ON SOME PANTS I simply said told stuff I told beginning I interest dating girl who still stuck wild college party phase I ended If hadnt told matured wanted get serious I never would agreed date begin Thats Im looking I dont think make jealous controlling I open honest I looking 2 year Ive known'"
      ]
     },
     "execution_count": 30,
     "metadata": {},
     "output_type": "execute_result"
    }
   ],
   "source": [
    "df_str = ' '.join(df_lemmas[0])\n",
    "df_str"
   ]
  },
  {
   "cell_type": "markdown",
   "metadata": {
    "id": "4fBg61yGZFXF"
   },
   "source": [
    "## Putting it all together\n",
    "After all that, you should be well-equipped to understand this preprocessing function. It takes a DataFrame in, removes the empty values, then removes punctuation, tokenizes and lemmatizes the selftext. It then spits the text back out as a string."
   ]
  },
  {
   "cell_type": "code",
   "execution_count": 33,
   "metadata": {
    "id": "K6Pr-0LEZFXG"
   },
   "outputs": [],
   "source": [
    "from nltk.stem import WordNetLemmatizer\n",
    "wordnet_lemmatizer = WordNetLemmatizer()\n",
    "\n",
    "def preprocessing(df):\n",
    "    \"\"\"POS tags and filters DF by nouns\"\"\"\n",
    "    dfLength = len(df)\n",
    "    total = \"\"\n",
    "    counter = 0\n",
    "    for text in df['selftext']:\n",
    "        # turn to lowercase\n",
    "        text = text.lower()\n",
    "        # remove punctuation\n",
    "        text = ''.join(ch for ch in text if ch not in string.punctuation)\n",
    "        # tokenize\n",
    "        tokens = word_tokenize(text)\n",
    "        # lemmatize\n",
    "        lemmas = ' '.join([wordnet_lemmatizer.lemmatize(token) for token in tokens])\n",
    "        # save\n",
    "        total += lemmas\n",
    "        counter += 1\n",
    "        if counter % 100 == 0:\n",
    "            print(\"Saved \" + str(counter) + \" out of \" + str(dfLength) + \" entries\") \n",
    "    return total"
   ]
  },
  {
   "cell_type": "markdown",
   "metadata": {
    "id": "aZonK-EC4kcJ"
   },
   "source": [
    "Let's run our function on our DataFrame."
   ]
  },
  {
   "cell_type": "code",
   "execution_count": 34,
   "metadata": {
    "id": "iRk5ejB_XWn6"
   },
   "outputs": [],
   "source": [
    "lemmas = preprocessing(df)"
   ]
  },
  {
   "cell_type": "code",
   "execution_count": 35,
   "metadata": {
    "colab": {
     "base_uri": "https://localhost:8080/",
     "height": 35
    },
    "executionInfo": {
     "elapsed": 199,
     "status": "ok",
     "timestamp": 1639777804121,
     "user": {
      "displayName": "Tom van Nuenen",
      "photoUrl": "https://lh3.googleusercontent.com/a-/AOh14GhuBmxDvW5I_LJfZtwlPqMFD8QGLVPP3skvpkTnuQ=s64",
      "userId": "10012302451096885058"
     },
     "user_tz": -60
    },
    "id": "L6y-OO_JXbgW",
    "outputId": "75eb1507-ba0b-4eda-9e2f-c53914d8d61f"
   },
   "outputs": [
    {
     "data": {
      "text/plain": [
       "'my girlfriend recently went to the beach with a few of her friend she ha this tiny bikini bottom tha'"
      ]
     },
     "execution_count": 35,
     "metadata": {},
     "output_type": "execute_result"
    }
   ],
   "source": [
    "lemmas[:100]"
   ]
  },
  {
   "cell_type": "code",
   "execution_count": null,
   "metadata": {},
   "outputs": [],
   "source": []
  }
 ],
 "metadata": {
  "colab": {
   "collapsed_sections": [],
   "name": "Week 1 OPTIONAL - Python Basics II.ipynb",
   "provenance": [
    {
     "file_id": "1q7rdmGhoBVFiTPr-KNG2ZEXEB0ipTcX1",
     "timestamp": 1639777068181
    }
   ]
  },
  "kernelspec": {
   "display_name": "Python 3",
   "language": "python",
   "name": "python3"
  },
  "language_info": {
   "codemirror_mode": {
    "name": "ipython",
    "version": 3
   },
   "file_extension": ".py",
   "mimetype": "text/x-python",
   "name": "python",
   "nbconvert_exporter": "python",
   "pygments_lexer": "ipython3",
   "version": "3.8.5"
  }
 },
 "nbformat": 4,
 "nbformat_minor": 4
}
