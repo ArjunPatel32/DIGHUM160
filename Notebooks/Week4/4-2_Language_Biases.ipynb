{
 "cells": [
  {
   "cell_type": "markdown",
   "metadata": {
    "id": "kNXZ3qG4plMW"
   },
   "source": [
    "<img src=\"../../Img/backdrop-wh.png\" alt=\"Drawing\" style=\"width: 300px;\"/>\n",
    "\n",
    "DIGHUM160 - Critical Digital Humanities<br>\n",
    "Digital Hermeneutics<br>\n",
    "Week 4-2: Language Biases <br>\n",
    "Created by Tom van Nuenen (tom.van_nuenen@kcl.ac.uk)"
   ]
  },
  {
   "cell_type": "code",
   "execution_count": 93,
   "metadata": {
    "id": "eMGvyg2yebeq"
   },
   "outputs": [
    {
     "data": {
      "image/jpeg": "[encoded data removed]",
      "text/html": [
       "\n",
       "        <iframe\n",
       "            width=\"640\"\n",
       "            height=\"360\"\n",
       "            src=\"https://www.youtube.com/embed/TIDejQEF7jY\"\n",
       "            frameborder=\"0\"\n",
       "            allowfullscreen\n",
       "            \n",
       "        ></iframe>\n",
       "        "
      ],
      "text/plain": [
       "<IPython.lib.display.YouTubeVideo at 0x7fc0c5926ee0>"
      ]
     },
     "execution_count": 93,
     "metadata": {},
     "output_type": "execute_result"
    }
   ],
   "source": [
    "# Please run this cell for the accompanying video.\n",
    "from IPython.display import YouTubeVideo\n",
    "YouTubeVideo('TIDejQEF7jY', width=640, height=360)"
   ]
  },
  {
   "cell_type": "markdown",
   "metadata": {
    "id": "TtIBMFnNrQlL"
   },
   "source": [
    "## Tracing Language Biases using Word Embeddings\n",
    "Language carries implicit biases, functioning both as a reflection and a perpetuation of stereotypes that people carry with them. Using Natural Language Processing tools, we can trace these biases in the many language datasets to be found online.\n",
    "\n",
    "One way to discover language biases is done using word embeddings. In order to do so, we first need to postulate concepts such as \"male\" or \"female\", both of which include a number of word vectors. Using these so-called *target concepts*, we can then compute relative similarities of other word vectors – particularly, words that act as evaluative attributes such as \"strong\" and \"sensitive\". \n",
    "\n",
    "These words can be categorised through clustering algorithms and labeled through a semantic analysis system into more general (conceptual) biases, yielding a broad picture of the biases present in a discourse community.\n",
    "\n",
    "See [here](https://xfold.github.io/WE-GenderBiasVisualisationWeb/) for a web demo\n",
    "and [here](https://github.com/xfold/LanguageBiasesInReddit) for the full repo."
   ]
  },
  {
   "cell_type": "code",
   "execution_count": 76,
   "metadata": {
    "colab": {
     "base_uri": "https://localhost:8080/"
    },
    "executionInfo": {
     "elapsed": 5527,
     "status": "ok",
     "timestamp": 1647303381856,
     "user": {
      "displayName": "Tom van Nuenen",
      "photoUrl": "https://lh3.googleusercontent.com/a-/AOh14GhuBmxDvW5I_LJfZtwlPqMFD8QGLVPP3skvpkTnuQ=s64",
      "userId": "10012302451096885058"
     },
     "user_tz": 300
    },
    "id": "NrGY1R9J6sOi",
    "outputId": "446b4e6b-d909-4574-aff6-c8c1f471443a"
   },
   "outputs": [
    {
     "name": "stdout",
     "output_type": "stream",
     "text": [
      "4.2.0\n"
     ]
    }
   ],
   "source": [
    "import math\n",
    "from textblob import TextBlob as tb\n",
    "import nltk\n",
    "from nltk.corpus import stopwords\n",
    "import re\n",
    "import gensim \n",
    "from gensim.models import Word2Vec\n",
    "import pandas as pd\n",
    "import logging\n",
    "import os\n",
    "import time\n",
    "from nltk.stem import WordNetLemmatizer\n",
    "wordnet_lemmatizer = WordNetLemmatizer()\n",
    "\n",
    "# NOTE: This notebook only works with Gensim v4!\n",
    "print(gensim.__version__)"
   ]
  },
  {
   "cell_type": "code",
   "execution_count": null,
   "metadata": {
    "colab": {
     "base_uri": "https://localhost:8080/"
    },
    "executionInfo": {
     "elapsed": 19056,
     "status": "ok",
     "timestamp": 1647300674056,
     "user": {
      "displayName": "Tom van Nuenen",
      "photoUrl": "https://lh3.googleusercontent.com/a-/AOh14GhuBmxDvW5I_LJfZtwlPqMFD8QGLVPP3skvpkTnuQ=s64",
      "userId": "10012302451096885058"
     },
     "user_tz": 300
    },
    "id": "e8vdjKO4fOh5",
    "outputId": "24d80e36-10eb-4ff4-facc-e0cb15bc4933"
   },
   "outputs": [],
   "source": [
    "import os\n",
    "# We include two ../ because we want to go two levels up in the file structure\n",
    "os.chdir(\"../../Data\")"
   ]
  },
  {
   "cell_type": "markdown",
   "metadata": {},
   "source": [
    "Let's get the Word Embeddings model we made in the previous notebook."
   ]
  },
  {
   "cell_type": "code",
   "execution_count": 78,
   "metadata": {
    "colab": {
     "base_uri": "https://localhost:8080/"
    },
    "executionInfo": {
     "elapsed": 2076396,
     "status": "ok",
     "timestamp": 1647308247064,
     "user": {
      "displayName": "Tom van Nuenen",
      "photoUrl": "https://lh3.googleusercontent.com/a-/AOh14GhuBmxDvW5I_LJfZtwlPqMFD8QGLVPP3skvpkTnuQ=s64",
      "userId": "10012302451096885058"
     },
     "user_tz": 300
    },
    "id": "5TRHImTC4wPs",
    "outputId": "120f9b7e-c7af-46c6-d34c-9281593b7072"
   },
   "outputs": [],
   "source": [
    "model = Word2Vec.load('aita_com.emb')"
   ]
  },
  {
   "cell_type": "markdown",
   "metadata": {
    "id": "FSbUVbC-rQlY"
   },
   "source": [
    "## Get biased words\n",
    "\n",
    "We now run our method of finding biased words towards our target sets.\n",
    "\n",
    "Given a vocabulary and two sets of target words (such as, in this case, those for *women* and *men*, we rank the words from least to most biased. As such, we obtain two ordered lists of the most biased words towards each target set, obtaining an overall view of the bias distribution in that particular community with respect to those two target sets. \n",
    "\n",
    "Here's what happening in the next block of code:\n",
    "- We calculate the centroid of a target set by averaging the embedding vectors in our target set (e.g. the vectors for `he, son, his, him, father, male` for our target concept `male`);\n",
    "- We calculate the cosine similarity between the vectors for all words in our vocabulary as compared to our two centroids (we also apply POS-filtering to only work with parts of speech we expect to be relevant);\n",
    "- We use a threshold based on standard deviation to determine how severe a bias needs to be before we include it;\n",
    "- We rank the words in the vocabulary of our Word Embeddings model based on their bias towards either target concept.\n"
   ]
  },
  {
   "cell_type": "code",
   "execution_count": 79,
   "metadata": {
    "colab": {
     "base_uri": "https://localhost:8080/"
    },
    "executionInfo": {
     "elapsed": 440,
     "status": "ok",
     "timestamp": 1647308247440,
     "user": {
      "displayName": "Tom van Nuenen",
      "photoUrl": "https://lh3.googleusercontent.com/a-/AOh14GhuBmxDvW5I_LJfZtwlPqMFD8QGLVPP3skvpkTnuQ=s64",
      "userId": "10012302451096885058"
     },
     "user_tz": 300
    },
    "id": "4AHqdHpSrQlZ",
    "outputId": "3a1686af-96cb-44b7-f730-7c73c84bd94b"
   },
   "outputs": [
    {
     "name": "stderr",
     "output_type": "stream",
     "text": [
      "[nltk_data] Downloading package averaged_perceptron_tagger to\n",
      "[nltk_data]     /Users/tomvannuenen/nltk_data...\n",
      "[nltk_data]   Package averaged_perceptron_tagger is already up-to-\n",
      "[nltk_data]       date!\n",
      "[nltk_data] Downloading package vader_lexicon to\n",
      "[nltk_data]     /Users/tomvannuenen/nltk_data...\n",
      "[nltk_data]   Package vader_lexicon is already up-to-date!\n"
     ]
    }
   ],
   "source": [
    "from gensim.models import Word2Vec\n",
    "from gensim.test.utils import datapath, get_tmpfile\n",
    "from gensim.models import KeyedVectors\n",
    "from gensim.scripts.glove2word2vec import glove2word2vec\n",
    "from operator import itemgetter\n",
    "from scipy import spatial\n",
    "import nltk\n",
    "from nltk.sentiment.vader import SentimentIntensityAnalyzer\n",
    "nltk.download('averaged_perceptron_tagger')\n",
    "nltk.download('vader_lexicon')\n",
    "import inflect\n",
    "import numpy as np\n",
    "import statistics\n",
    "import itertools\n",
    "\n",
    "from sklearn.cluster import KMeans\n",
    "from sklearn.metrics import silhouette_score\n",
    "from datetime import datetime\n",
    "import statistics\n",
    "\n",
    "def _calculate_centroid(model, wordlist):\n",
    "    '''\n",
    "    Calculate centroid of the wordlist list of words based on the model embedding vectors\n",
    "    '''\n",
    "    centr = np.zeros( len(model.wv[wordlist[0]]) )\n",
    "    for w in wordlist:\n",
    "        centr += np.array(model.wv[w])\n",
    "    return centr/len(wordlist)\n",
    "\n",
    "def _keep_only_model_words(model, words):\n",
    "    aux = [ word for word in words if word in model.wv.index_to_key]\n",
    "    return aux\n",
    "\n",
    "def _get_word_freq(model, word):\n",
    "    if word in model.wv.index_to_key:\n",
    "        index = model.wv.key_to_index[word]\n",
    "        count = model.wv.get_vecattr(word, \"count\")\n",
    "        return [word, count, index]\n",
    "    return None\n",
    "\n",
    "def _get_model_min_max_rank(model):\n",
    "    minF = 999999\n",
    "    maxF = -1\n",
    "    for w in model.wv.index_to_key:\n",
    "        rank = model.wv.key_to_index[w]\n",
    "        if(minF>rank):\n",
    "            minF = rank\n",
    "        if(maxF<rank):\n",
    "            maxF = rank\n",
    "    return [minF, maxF]\n",
    "\n",
    "sid = SentimentIntensityAnalyzer()\n",
    "def _get_sentiment(word):\n",
    "    return sid.polarity_scores(word)['compound']\n",
    "\n",
    "'''\n",
    "Normalises a value in the positive space\n",
    "'''    \n",
    "def _normalise(val, minF, maxF):\n",
    "    #print(val, minF, maxF)\n",
    "    if(maxF<0 or minF<0 or val<0):\n",
    "        raise Exception('All values should be in the positive space. minf: {}, max: {}, freq: {}'.format(minF, maxF, val))\n",
    "    if(maxF<= minF):\n",
    "        raise Exception('Maximum frequency should be bigger than min frequency. minf: {}, max: {}, freq: {}'.format(minF, maxF, freq))\n",
    "    val -= minF\n",
    "    val = val/(maxF-minF)\n",
    "    return val\n",
    "\n",
    "def _get_cosine_distance(wv1, wv2):\n",
    "    return spatial.distance.cosine(wv1, wv2)\n",
    "\n",
    "def _get_min_max(dict_value):\n",
    "    l = list(dict_value.values())\n",
    "    return [ min(l), max(l)]\n",
    "\n",
    "def _find_stdev_threshold_sal(dwords, stdevs):\n",
    "    '''\n",
    "    dword is an object like {'word':w, 'bias':bias, 'biasW':biasW, 'freq':freq, 'freqW':freqW, 'sal':val, 'wv':wv, 'sent':sent }\n",
    "    stdevs : minimum stdevs for which we want to compute the threshold\n",
    "\n",
    "    returns\n",
    "    outlier_thr : the threshold correpsonding to stdevs considering salience values from the dwrods object list\n",
    "    '''\n",
    "    allsal = []\n",
    "    for obj in dwords:\n",
    "        allsal.append(obj['sal'])\n",
    "    stdev = statistics.stdev(allsal)\n",
    "    outlier_thr = (stdev*stdevs)+sum(allsal)/len(allsal)\n",
    "    return outlier_thr\n",
    "\n",
    "def calculate_biased_words(model, targetset1, targetset2, stdevs, \n",
    "                         acceptedPOS = ['JJ', 'JJS', 'JJR','NN', 'NNS', 'NNP', 'NNPS','VB', 'VBG', 'VBD', 'VBN', 'VBP', 'VBZ' ], \n",
    "                         words = None, force=False):\n",
    "    '''\n",
    "    this function calculates the list of biased words towards targetset1 and taregset2 with salience > than the \n",
    "    specified times (minstdev) of standard deviation.\n",
    "\n",
    "    targetset1 <list of strings> : target set 1\n",
    "    targetset2 <list of strings> : target set 2\n",
    "    minstdev int : Minium threhsold for stdev to select biased words\n",
    "    acceptedPOS <list<str>> : accepted list of POS to consider for the analysis, as defined in NLTK POS tagging lib. \n",
    "                              If None, no POS filtering is applied and all words in the vocab are considered\n",
    "    words list<str> : list of words we want to consider. If None, all words in the vocab are considered\n",
    "    '''\n",
    "    if(model is None):\n",
    "        raise Exception(\"You need to define a model to estimate biased words.\")\n",
    "    if(targetset1 is None or targetset2 is None):\n",
    "        raise Exception(\"Target sets are necessary to estimate biased words.\")\n",
    "    if(stdevs is None):\n",
    "        raise Exception(\"You need to define a minimum threshold for standard deviation to select biased words.\")\n",
    "   \n",
    "    tset1 = _keep_only_model_words(model, targetset1) # remove target set words that do not exist in the model\n",
    "    tset2 = _keep_only_model_words(model, targetset2) # remove target set words that do not exist in the model\n",
    "\n",
    "    # We remove words in the target sets, and also their plurals from the set of interesting words to process.\n",
    "    engine = inflect.engine()\n",
    "    toremove = targetset1 + targetset2 + [engine.plural(w) for w in targetset1] + [engine.plural(w) for w in targetset2]\n",
    "    if(words is None):\n",
    "        words = [w for w in list(model.wv.index_to_key) if w not in toremove]\n",
    "\n",
    "    # Calculate centroids \n",
    "    tset1_centroid = _calculate_centroid(model, tset1)\n",
    "    tset2_centroid = _calculate_centroid(model, tset2)\n",
    "    [minR, maxR] = _get_model_min_max_rank(model)\n",
    "\n",
    "    # Get biases for words\n",
    "    biasWF = {}\n",
    "    biasWM = {}\n",
    "    for i, w in enumerate(words):\n",
    "        p = nltk.pos_tag([w])[0][1]\n",
    "        if acceptedPOS is not None and p not in acceptedPOS:\n",
    "            continue\n",
    "        wv = model.wv[w]\n",
    "        diff = _get_cosine_distance(tset2_centroid, wv) - _get_cosine_distance(tset1_centroid, wv)\n",
    "        if(diff>0):\n",
    "            biasWF[w] = diff\n",
    "        else:\n",
    "            biasWM[w] = -1*diff\n",
    "\n",
    "    # Get min and max bias for both target sets, so we can normalise these values later\n",
    "    [minbf, maxbf] = _get_min_max(biasWF)\n",
    "    [minbm, maxbm] = _get_min_max(biasWM)\n",
    "\n",
    "    # Iterate through all 'selected' words\n",
    "    biased1 = []\n",
    "    biased2 = []\n",
    "    for i, w in enumerate(words):\n",
    "        # Print('..Processing ', w)\n",
    "        p = nltk.pos_tag([w])[0][1]\n",
    "        if acceptedPOS is not None and p not in acceptedPOS:\n",
    "            continue\n",
    "        wv = model.wv[w]\n",
    "        # Sentiment\n",
    "        sent = _get_sentiment(w)\n",
    "        # Rank and rank norm\n",
    "        freq = _get_word_freq(model, w)[1]\n",
    "        rank = _get_word_freq(model, w)[2]\n",
    "        rankW = 1-_normalise(rank, minR, maxR) \n",
    "\n",
    "        # Normalise bias\n",
    "        if(w in biasWF):\n",
    "            bias = biasWF[w]\n",
    "            biasW = _normalise(bias, minbf, maxbf)\n",
    "            val = biasW * rankW\n",
    "            biased1.append({'word':w, 'bias':bias, 'biasW':biasW, 'freq':freq, 'rank':rank, 'rankW':rankW, 'sal':val, 'wv':wv.tolist(), 'sent':sent } ) \n",
    "        if(w in biasWM):\n",
    "            bias = biasWM[w]\n",
    "            biasW = _normalise(bias, minbm, maxbm)\n",
    "            val = biasW * rankW\n",
    "            biased2.append({'word':w, 'bias':bias, 'biasW':biasW, 'freq':freq, 'rank':rank, 'rankW':rankW, 'sal':val, 'wv':wv.tolist(), 'sent':sent } ) \n",
    "\n",
    "    # Calculate the salience threshold for both word sets, and select the list of biased words (i.e., which words do we discard?)\n",
    "    stdevs1_thr = _find_stdev_threshold_sal(biased1, stdevs)\n",
    "    stdevs2_thr = _find_stdev_threshold_sal(biased2, stdevs)\n",
    "    # biased1.sort(key=lambda x: x['sal'], reverse=True)\n",
    "    b1_dict = {}\n",
    "    for k in biased1:\n",
    "        if(k['sal']>=stdevs1_thr):\n",
    "            b1_dict[k['word']] = k\n",
    "    # biased2.sort(key=lambda x: x['sal'], reverse=True)\n",
    "    b2_dict = {}\n",
    "    for k in biased2:\n",
    "        if(k['sal']>=stdevs2_thr):\n",
    "            b2_dict[k['word']] = k\n",
    "\n",
    "    #transform centroid tol list so they become serializable\n",
    "    tset1_centroid = tset1_centroid.tolist() \n",
    "    tset2_centroid = tset2_centroid.tolist()\n",
    "    return [b1_dict, b2_dict]"
   ]
  },
  {
   "cell_type": "markdown",
   "metadata": {
    "id": "ovDYjFMsVwfQ"
   },
   "source": [
    "Getting similar words through the WE model can help us find words for our \"target sets\"--i.e., the conceptual entities such as \"man\" and \"woman\" we want to check biases against."
   ]
  },
  {
   "cell_type": "code",
   "execution_count": 80,
   "metadata": {
    "colab": {
     "base_uri": "https://localhost:8080/"
    },
    "executionInfo": {
     "elapsed": 5,
     "status": "ok",
     "timestamp": 1647308248151,
     "user": {
      "displayName": "Tom van Nuenen",
      "photoUrl": "https://lh3.googleusercontent.com/a-/AOh14GhuBmxDvW5I_LJfZtwlPqMFD8QGLVPP3skvpkTnuQ=s64",
      "userId": "10012302451096885058"
     },
     "user_tz": 300
    },
    "id": "p9UI-saw2vIl",
    "outputId": "2d18043b-4c44-4bb2-c659-294f34ede5d7"
   },
   "outputs": [
    {
     "data": {
      "text/plain": [
       "[('assholeishness', 0.5542088747024536),\n",
       " ('ta', 0.5381892919540405),\n",
       " ('esh.your', 0.49919262528419495),\n",
       " ('ytais', 0.4884131848812103),\n",
       " ('nahyou’re', 0.48837530612945557),\n",
       " ('fuckwad', 0.4863407611846924),\n",
       " ('ytfa', 0.48545175790786743),\n",
       " ('here**|**esh****no_hole_here**|**nah****not', 0.4747871458530426),\n",
       " ('redflag', 0.46845439076423645),\n",
       " ('ytain', 0.4670969545841217)]"
      ]
     },
     "execution_count": 80,
     "metadata": {},
     "output_type": "execute_result"
    }
   ],
   "source": [
    "# get similar words\n",
    "sims = model.wv.most_similar('asshole', topn=10)  # get other similar words\n",
    "sims"
   ]
  },
  {
   "cell_type": "markdown",
   "metadata": {},
   "source": [
    "## Setting the target sets - CHANGE THIS PART for your own research!"
   ]
  },
  {
   "cell_type": "markdown",
   "metadata": {
    "id": "aan7eV3SqhkZ"
   },
   "source": [
    "Here we create the two target sets, called `t1` and `t2`. These two lists are the ones you'll want to swap out if you are going to create your own target sets to find biases!\n",
    "\n",
    "See the **bottom of this notebook** for details on different existing target sets (about gender, religion, racial, career/family and arts/science). If you want to go further, see e.g. [this paper](https://dl.acm.org/doi/10.1145/3366424.3383560) on how to define political biases, which you could adapt for your own purposes. \n",
    "\n",
    "You can also come up with **your own word sets** if you want to explore other kinds of biases. Feel free to touch base with me if you want to discuss!"
   ]
  },
  {
   "cell_type": "code",
   "execution_count": 81,
   "metadata": {
    "executionInfo": {
     "elapsed": 11526,
     "status": "ok",
     "timestamp": 1647303428120,
     "user": {
      "displayName": "Tom van Nuenen",
      "photoUrl": "https://lh3.googleusercontent.com/a-/AOh14GhuBmxDvW5I_LJfZtwlPqMFD8QGLVPP3skvpkTnuQ=s64",
      "userId": "10012302451096885058"
     },
     "user_tz": 300
    },
    "id": "SIzdtQV5rQlh",
    "scrolled": true
   },
   "outputs": [],
   "source": [
    "# Note that target set 1 is about femininity/women, and target set 2 about masculinity/men\n",
    "\n",
    "t1=[\"sister\" , \"female\" , \"woman\" , \"girl\" , \"daughter\" , \"she\" , \"hers\" , \"her\"]\n",
    "t2=[\"brother\" , \"male\" , \"man\" , \"boy\" , \"son\" , \"he\" , \"his\" , \"him\"] \n",
    "\n",
    "[b1, b2] = calculate_biased_words(model, t1, t2, 4)"
   ]
  },
  {
   "cell_type": "markdown",
   "metadata": {
    "id": "LJpg5BDydlYT"
   },
   "source": [
    "Let's print some biases. Here you see the most-biased words towards our target concepts (1 being *women*, 2 being *men*)."
   ]
  },
  {
   "cell_type": "code",
   "execution_count": 82,
   "metadata": {
    "colab": {
     "base_uri": "https://localhost:8080/"
    },
    "executionInfo": {
     "elapsed": 191,
     "status": "ok",
     "timestamp": 1647303438347,
     "user": {
      "displayName": "Tom van Nuenen",
      "photoUrl": "https://lh3.googleusercontent.com/a-/AOh14GhuBmxDvW5I_LJfZtwlPqMFD8QGLVPP3skvpkTnuQ=s64",
      "userId": "10012302451096885058"
     },
     "user_tz": 300
    },
    "id": "qc-9g8BErQll",
    "outputId": "93aa1d97-e9ad-4f17-9ce3-bef7d4079209"
   },
   "outputs": [
    {
     "name": "stdout",
     "output_type": "stream",
     "text": [
      "Biased words towards target set 1\n",
      "['choice', 'involve', 'abusive', 'shame', 'fit', 'bet', 'insecure', 'photo', 'potential', 'zero', 'block', 'teen', 'supportive', 'trauma', 'gain', 'painful', 'escalate', 'social_medium', 'remain', 'pursue', 'incident', 'commenter', 'overweight', 'method', 'intent', 'controlling', 'self_esteem', 'route', 'cross_line', 'rejection', 'childbirth', 'retaliate', 'workout', 'shaming', 'appeal', 'stalker', 'bash', 'douchey']\n",
      "\n",
      "Biased words towards target set 2\n",
      "['play', 'hand', 'stand', 'pick', 'bear', 'bathroom', 'plenty', 'split', 'separate', 'punishment', 'bro', 'quiet', 'mate', 'uncle', 'video_game', 'pride', 'spectrum', 'goodbye', 'incapable', 'fyi', 'anniversary', 'tonight', 'sin', 'misread', 'saying', 'permit', 'cure', 'xbox']\n"
     ]
    }
   ],
   "source": [
    "print('Biased words towards target set 1')\n",
    "print( [w for w in b1.keys()] )\n",
    "print()\n",
    "print('Biased words towards target set 2')\n",
    "print( [w for w in b2.keys()] )"
   ]
  },
  {
   "cell_type": "markdown",
   "metadata": {
    "id": "Qvav-HBtrQlp"
   },
   "source": [
    "## Clustering similar words (K-means + silhouette)\n",
    "\n",
    "Here,  we group our language biases in more general clusters. We do so using the K-means clustering algorithm, and use silhouette scores to validate the consistency within our clusters of data. \n",
    "\n",
    "In general, this results in words with similar meanings being clustered together. Clustering allows the biased words to be better interpretable, as their context becomes clearer. "
   ]
  },
  {
   "cell_type": "code",
   "execution_count": 83,
   "metadata": {
    "colab": {
     "base_uri": "https://localhost:8080/"
    },
    "executionInfo": {
     "elapsed": 1725,
     "status": "ok",
     "timestamp": 1647303445485,
     "user": {
      "displayName": "Tom van Nuenen",
      "photoUrl": "https://lh3.googleusercontent.com/a-/AOh14GhuBmxDvW5I_LJfZtwlPqMFD8QGLVPP3skvpkTnuQ=s64",
      "userId": "10012302451096885058"
     },
     "user_tz": 300
    },
    "id": "ZbG2pMTgrQlq",
    "outputId": "a3c289ae-c428-4dcd-96af-81bf0b400f83"
   },
   "outputs": [
    {
     "name": "stdout",
     "output_type": "stream",
     "text": [
      "[Testing range(2, 18) clusters]\n",
      "[Silhouette values [0.07343348750952834, 0.010363721815709747, -0.006893166879662333, 0.01485671656419698, 0.008386512159411096, -0.0025629760459694386, 0.0160663754291767, 0.017986868129772637, 0.015495879787465661, -0.008365818100892824, 0.014300987977273168, 0.007813294662100043, -0.0011161919203560903, 0.011419773888395338, 0.01577652519080459, 0.0058742483712985955]\n",
      "[Max silhouette,  0.07343348750952834 ; index_k:  0 ]\n",
      "[Testing range(2, 13) clusters]\n",
      "[Silhouette values [0.02274946718247301, 0.05643795970468296, 0.028625416611476523, 0.04365165937065364, 0.0457509214209612, 0.029251628323508545, 0.029803980001471855, 0.03648897054645383, 0.03087519304517017, 0.012412647970473062, 0.017822169406476775]\n",
      "[Max silhouette,  0.05643795970468296 ; index_k:  1 ]\n"
     ]
    }
   ],
   "source": [
    "import pandas as pd\n",
    "import gensim\n",
    "import nltk.data\n",
    "import numpy as np\n",
    "from scipy import spatial\n",
    "from sklearn.cluster import KMeans\n",
    "import sklearn\n",
    "\n",
    "'''\n",
    "TARGET SET 1\n",
    "'''\n",
    "t1_embeddings = [b1[w]['wv'] for w in b1] # t1 embeddings = list of embeddings of words biased towards target set 1\n",
    "t1_words = [w for w in b1.keys()]\n",
    "\n",
    "# Clustering\n",
    "rangek = range(2, int((len(t1_embeddings)/2)-1) ) # Clusters should be min size 2 at max half of the amount of words (speeding up + forcing clusters)\n",
    "print('[Testing', rangek, 'clusters]')\n",
    "kmeans_p = [ KMeans(n_clusters=k).fit_predict(t1_embeddings) for k in rangek] \n",
    "kmeans_sil = [ sklearn.metrics.silhouette_score(t1_embeddings, labels) for labels in kmeans_p] \n",
    "print('[Silhouette values', kmeans_sil)\n",
    "indexmaxsil =  kmeans_sil.index(max(kmeans_sil))\n",
    "print('[Max silhouette, ', max(kmeans_sil), '; index_k: ',indexmaxsil,']')\n",
    "\n",
    "# Aggregating all clusters from same index in list\n",
    "clusters1 = {}\n",
    "for i, index in enumerate(kmeans_p[indexmaxsil]): # returns list of cluster index, telling you which cluster each word belongs to \n",
    "    if(index in clusters1):\n",
    "        clusters1[index].append(t1_words[i])\n",
    "    else:\n",
    "        clusters1[index]  = [t1_words[i]]\n",
    "        \n",
    "        \n",
    "'''\n",
    "TARGET SET 2\n",
    "'''\n",
    "t2_embeddings = [b2[w]['wv'] for w in b2]\n",
    "t2_words = [w for w in b2.keys()]\n",
    "\n",
    "# Clustering\n",
    "rangek = range(2, int((len(t2_embeddings)/2)-1) )\n",
    "print('[Testing', rangek, 'clusters]')\n",
    "kmeans_p = [ KMeans(n_clusters=k).fit_predict(t2_embeddings) for k in rangek ] \n",
    "kmeans_sil = [ sklearn.metrics.silhouette_score(t2_embeddings, labels) for labels in kmeans_p] \n",
    "print('[Silhouette values', kmeans_sil)\n",
    "indexmaxsil =  kmeans_sil.index(max(kmeans_sil))\n",
    "print('[Max silhouette, ', max(kmeans_sil), '; index_k: ',indexmaxsil,']')\n",
    "\n",
    "clusters2 = {}\n",
    "for i, index in enumerate(kmeans_p[indexmaxsil]):\n",
    "    if(index in clusters2):\n",
    "        clusters2[index].append(t2_words[i])\n",
    "    else:\n",
    "        clusters2[index]  = [t2_words[i]]"
   ]
  },
  {
   "cell_type": "markdown",
   "metadata": {
    "id": "b5lZ4_1WeYr9"
   },
   "source": [
    "Let's print the clusters we've got."
   ]
  },
  {
   "cell_type": "code",
   "execution_count": 84,
   "metadata": {
    "colab": {
     "base_uri": "https://localhost:8080/"
    },
    "executionInfo": {
     "elapsed": 173,
     "status": "ok",
     "timestamp": 1647303453010,
     "user": {
      "displayName": "Tom van Nuenen",
      "photoUrl": "https://lh3.googleusercontent.com/a-/AOh14GhuBmxDvW5I_LJfZtwlPqMFD8QGLVPP3skvpkTnuQ=s64",
      "userId": "10012302451096885058"
     },
     "user_tz": 300
    },
    "id": "CIXYxKM9eB5z",
    "outputId": "5a7866be-18b3-40a4-dae8-df6ef5d43ce1"
   },
   "outputs": [
    {
     "name": "stdout",
     "output_type": "stream",
     "text": [
      "Clusters target set 1\n",
      "[['choice', 'involve', 'abusive', 'shame', 'fit', 'bet', 'insecure', 'photo', 'potential', 'zero', 'block', 'teen', 'supportive', 'trauma', 'gain', 'escalate', 'social_medium', 'remain', 'pursue', 'incident', 'commenter', 'overweight', 'method', 'intent', 'controlling', 'self_esteem', 'route', 'cross_line', 'rejection', 'retaliate', 'shaming', 'appeal', 'stalker', 'bash', 'douchey'], ['painful', 'childbirth', 'workout']]\n",
      "Clusters target set 2\n",
      "[['play', 'hand', 'stand', 'pick', 'bear', 'bathroom', 'plenty', 'split', 'separate', 'punishment', 'bro', 'quiet', 'mate', 'uncle', 'pride', 'spectrum', 'goodbye', 'incapable', 'fyi', 'anniversary', 'tonight', 'misread', 'saying', 'permit', 'cure'], ['video_game', 'xbox'], ['sin']]\n"
     ]
    }
   ],
   "source": [
    "print('Clusters target set 1')\n",
    "print( list( clusters1.values()) )        \n",
    "\n",
    "print('Clusters target set 2')\n",
    "print( list( clusters2.values()) )        "
   ]
  },
  {
   "cell_type": "markdown",
   "metadata": {
    "id": "Zpk0lx2xplMf"
   },
   "source": [
    "## Visualise using t-SNE"
   ]
  },
  {
   "cell_type": "code",
   "execution_count": 85,
   "metadata": {
    "colab": {
     "base_uri": "https://localhost:8080/"
    },
    "executionInfo": {
     "elapsed": 178,
     "status": "ok",
     "timestamp": 1647303476276,
     "user": {
      "displayName": "Tom van Nuenen",
      "photoUrl": "https://lh3.googleusercontent.com/a-/AOh14GhuBmxDvW5I_LJfZtwlPqMFD8QGLVPP3skvpkTnuQ=s64",
      "userId": "10012302451096885058"
     },
     "user_tz": 300
    },
    "id": "kET4XjgtplMf",
    "outputId": "7c00a295-5827-4a04-fb10-fe7eb6ce3532"
   },
   "outputs": [],
   "source": [
    "# prepare the datat for the tsne in order to create the plot\n",
    "\n",
    "labels1 = [] # labels = words\n",
    "y1 = []\n",
    "embs1 = []\n",
    "for k in clusters1:\n",
    "    labels1 += clusters1[k]\n",
    "embs1 = [model.wv[j] for j in labels1]\n",
    "y1 = len(labels1)*[0]\n",
    "\n",
    "labels2 = []\n",
    "y2 = []\n",
    "embs2 = []\n",
    "for k in clusters2:\n",
    "    labels2 += clusters2[k]\n",
    "embs2 = [model.wv[j] for j in labels2]\n",
    "y2 = len(labels2)*[1]\n",
    "\n",
    "labels = labels1 +labels2\n",
    "y      = y1 +y2\n",
    "embs   = embs1 + embs2\n"
   ]
  },
  {
   "cell_type": "code",
   "execution_count": 92,
   "metadata": {
    "colab": {
     "base_uri": "https://localhost:8080/",
     "height": 1000
    },
    "executionInfo": {
     "elapsed": 3158,
     "status": "ok",
     "timestamp": 1647303482192,
     "user": {
      "displayName": "Tom van Nuenen",
      "photoUrl": "https://lh3.googleusercontent.com/a-/AOh14GhuBmxDvW5I_LJfZtwlPqMFD8QGLVPP3skvpkTnuQ=s64",
      "userId": "10012302451096885058"
     },
     "user_tz": 300
    },
    "id": "p4XnvP_1Wml4",
    "outputId": "ed532b21-140b-4f08-fdc6-2f7e658f7405"
   },
   "outputs": [
    {
     "name": "stderr",
     "output_type": "stream",
     "text": [
      "/Users/tomvannuenen/opt/anaconda3/lib/python3.8/site-packages/sklearn/manifold/_t_sne.py:790: FutureWarning: The default learning rate in TSNE will change from 200.0 to 'auto' in 1.2.\n",
      "  warnings.warn(\n",
      "/Users/tomvannuenen/opt/anaconda3/lib/python3.8/site-packages/sklearn/manifold/_t_sne.py:982: FutureWarning: The PCA initialization in TSNE will change to have the standard deviation of PC1 equal to 1e-4 in 1.2. This will ensure better convergence.\n",
      "  warnings.warn(\n"
     ]
    },
    {
     "data": {
      "image/png": "[encoded data removed]",
      "text/plain": [
       "<Figure size 1152x1152 with 1 Axes>"
      ]
     },
     "metadata": {
      "needs_background": "light"
     },
     "output_type": "display_data"
    }
   ],
   "source": [
    "# Note: the tsne should be estimated for all words in the model, otherwise the tsne dimensions won't be correct\n",
    "from sklearn.manifold import TSNE\n",
    "import matplotlib.pyplot as plt\n",
    "import numpy as np\n",
    "import seaborn as sns\n",
    "\n",
    "# if words appear very close together, change random state to obtain better visual representations\n",
    "# dimensional reduction of T-SNE can be done through different ways; random_state determines which is taken\n",
    "tsne = TSNE(perplexity=10, n_components=2, init='pca', n_iter=5000, random_state=42)\n",
    "X_tsne = tsne.fit_transform(embs) # X_tsne = [[1,2], [3,4], [5,6]]\n",
    "\n",
    "\n",
    "# split the X and Y coordinates\n",
    "embsx = [x[0] for x in X_tsne]\n",
    "embsy = [x[1] for x in X_tsne]\n",
    "color = ['blue' if i == 0 else 'red' for i in y]\n",
    "\n",
    "plt.figure(figsize=(16, 16)) \n",
    "for i in range(len(embs)):\n",
    "    plt.scatter(embsx[i],embsy[i], c=color[i])\n",
    "    plt.annotate( labels[i],\n",
    "                  xy=(embsx[i],embsy[i]),\n",
    "                  xytext=(6, 3),\n",
    "                  textcoords='offset points',\n",
    "                  ha='right',\n",
    "                  va='bottom')\n",
    "plt.show()"
   ]
  },
  {
   "cell_type": "markdown",
   "metadata": {
    "id": "AR_ONnWiHM0O"
   },
   "source": [
    "## Concordances of most-biased words\n",
    "\n",
    "We might want to engage in further analysis of the most interesting biased words in our data. To do so, let's reach back to the tools we looked at in the beginning of this course.\n",
    "\n",
    "Using NLTK, we can create a concordance view of the context in which the biased words appear."
   ]
  },
  {
   "cell_type": "code",
   "execution_count": 87,
   "metadata": {},
   "outputs": [],
   "source": [
    "# Let's first get our comments DF and put the comments in a long list.\n",
    "df = pd.read_csv('aita_com_top.csv')"
   ]
  },
  {
   "cell_type": "code",
   "execution_count": 88,
   "metadata": {},
   "outputs": [],
   "source": [
    "# Create an NLTK Text object--this may take a while\n",
    "from nltk.text import Text\n",
    "\n",
    "total = []\n",
    "for row in df['body']:\n",
    "    total.extend(row.split(' '))\n",
    "t = Text(total)    "
   ]
  },
  {
   "cell_type": "markdown",
   "metadata": {},
   "source": [
    "The following function takes in our tokens list and our biased words. It allows a user to select a target set, then type in a word from that target set (recall that target set 1 involves the biased words towards women, and target set 2 the biases towards men). The function will then print out the concordances of the chosen word. \n",
    "\n",
    "Use this function if you want to explore some of the biased words you found!"
   ]
  },
  {
   "cell_type": "code",
   "execution_count": 89,
   "metadata": {
    "colab": {
     "base_uri": "https://localhost:8080/"
    },
    "executionInfo": {
     "elapsed": 23296,
     "status": "ok",
     "timestamp": 1647303687693,
     "user": {
      "displayName": "Tom van Nuenen",
      "photoUrl": "https://lh3.googleusercontent.com/a-/AOh14GhuBmxDvW5I_LJfZtwlPqMFD8QGLVPP3skvpkTnuQ=s64",
      "userId": "10012302451096885058"
     },
     "user_tz": 300
    },
    "id": "FHWhTuqgGgYL",
    "outputId": "52545d9d-c499-4e68-cb75-a8e8a65cd977"
   },
   "outputs": [
    {
     "name": "stdin",
     "output_type": "stream",
     "text": [
      "See biased words towards target set 1 or 2? 1\n"
     ]
    },
    {
     "name": "stdout",
     "output_type": "stream",
     "text": [
      "           WORD  RANK\n",
      "         choice   148\n",
      "        involve   325\n",
      "        abusive   400\n",
      "          shame   567\n",
      "            fit   575\n",
      "            bet   586\n",
      "       insecure   691\n",
      "          photo   750\n",
      "      potential   779\n",
      "           zero   791\n"
     ]
    },
    {
     "name": "stdin",
     "output_type": "stream",
     "text": [
      "Pick a biased word from the above list to see concordances: involve\n"
     ]
    },
    {
     "name": "stdout",
     "output_type": "stream",
     "text": [
      "Displaying 30 of 422 matches:\n",
      "e a hundred ways to resolve the situation that didn't involve hitting somebody, none if which he took advantage of.\n",
      "nyway. It's hard to have adult friendships that don't involve partners at all so, for the sake of your partner, you\n",
      "ng* clever, next round. The worst secret hitler games involve a group of people failing to get the point of decepti\n",
      "'jokes' she says to you.  Especially as they directly involve you.\n",
      "\n",
      "Personally, I would try to talk to her about it\n",
      ", even if it means bursting her bubble.  >He tried to involve me a few times but I was getting upset so I didn't.\n",
      "\n",
      "\n",
      "\n",
      "\n",
      "He not only went to the party for you, but tried to involve you in the conversation and you refused. He probably \n",
      "u feel something doesn′t make you right. >He tried to involve me a few times\n",
      "\n",
      "That's your fault, not his.\n",
      "\n",
      "If he ha\n",
      "friend, WHILE YOU ARE THERE, while they are TRYING to involve you, you're going to lose both BFs and friends left a\n",
      " and is making arrangements to secure them that don't involve any extra work for her husband at all, he still dismi\n",
      "nd. These guys are a captive audience to practice on, involve yourself with them, ask them about their interests, i\n",
      "im to, but when I worked in college housing we had to involve the police in drug related issues. You're talking abo\n",
      "nd is hard, you won't make it any harder by trying to involve them in each others lives anymore.\n",
      "\n",
      " Not the asshole.\n",
      "to him. You're not an asshole, but you didn't need to involve the waitress. You should have just asked him to turn \n",
      " youre on a team for (ie golf for a high school team) involve sportsmanship. And part of sportsman ship is supporti\n",
      "ose it depends on what these favours are, but if they involve your parents and you notice it's beginning to bother \n",
      "psychopathic*\n",
      "\n",
      "There are plenty of options that don't involve hurting the dog. Are your trying to argue that it's f\n",
      "y about it though Are all of you joking? He wanted to involve his friend (who was looking for people to go out with\n",
      "something that has nothing to do with you and doesn't involve you in public... Yep you are the asshole. Yes you are\n",
      "I think she and her family are assholes for trying to involve your parents in the drama. Sleeping with a coworker w\n",
      "n as an adult is that it's ok to do things that don't involve everyone. They want to go on a small vacation with ju\n",
      "y to work through that. Yep. Almost all relationships involve doing things you don’t want to do for the greater goo\n",
      "pologize and stay out of any relationships that don’t involve you.  You're the asshole. Lots of people have bad pas\n",
      "t you identify as the other gender and may or may not involve cross dressing. Technically do surgery or hormones ar\n",
      " others to suffer consequences for choices that don't involve you at all, and calling someone who smokes weed a dru\n",
      "bout their friends lives. No, it had the potential to involve many other people and ruin many other lives than just\n",
      "ith him.\n",
      "\n",
      "Because her idea of a future of him doesn't involve being a secret? You really can't see why this affects\n",
      "pany.” -style text. But you’re not obligated.  If you involve the police, she will be arrested and very well might \n",
      ". I would try to deal with this in a way that doesn’t involve punishing her for something that really isn’t her fau\n",
      "was dropping out to prevent that. There is no need to involve me in your wedding at all, but she seems to think eve\n",
      "s makes you the asshole. It’s your prerogative to not involve yourself in behavior you think is unethical and she w\n"
     ]
    }
   ],
   "source": [
    "def concordance_viewer(tokens,b1,b2,width=115,top=10, lines=30):\n",
    "    # sort by rank\n",
    "    b1_sort = sorted(b1.items(), key=lambda x: x[1]['rank'], reverse=False)\n",
    "    b2_sort = sorted(b2.items(), key=lambda x: x[1]['rank'], reverse=False)\n",
    "  \n",
    "    while True:\n",
    "        t_inp = input(\"See biased words towards target set 1 or 2?\")\n",
    "        if t_inp == \"1\":\n",
    "            target = b1_sort\n",
    "            break\n",
    "        elif t_inp == \"2\":\n",
    "            target = b2_sort\n",
    "            break\n",
    "        else:\n",
    "            print(\"Please type 1 or 2\")\n",
    "\n",
    "    # print most biased words\n",
    "    print(\"{: >15} {: >5}\".format('WORD','RANK'))\n",
    "    for i in target[:top]:\n",
    "        row = [i[1]['word'], i[1]['rank']]\n",
    "        print(\"{: >15} {: >5}\".format(*row))\n",
    "    word_inp = input(\"Pick a biased word from the above list to see concordances:\")\n",
    "    tokens.concordance(word_inp, width=width, lines=lines)\n",
    "\n",
    "concordance_viewer(t,b1, b2)"
   ]
  },
  {
   "cell_type": "markdown",
   "metadata": {
    "id": "riINX9wVyFRJ"
   },
   "source": [
    "## Existing target sets - use these instead of the \n",
    "\n",
    "*Gender target sets taken from Nosek, Banaji, and Greenwald 2002.*\n",
    "\n",
    "Female: `sister, female, woman, girl, daughter, she, hers, her`.\n",
    "\n",
    "Male: `brother, male, man, boy, son, he, his, him`.\n",
    "\n",
    "\n",
    "*Religion target sets taken from Garg et al. 2018.*\n",
    "\n",
    "Islam: `allah, ramadan, turban, emir, salaam, sunni, koran, imam, sultan, prophet, veil, ayatollah, shiite, mosque, islam, sheik, muslim, muhammad`.\n",
    "\n",
    "Christianity: `baptism, messiah, catholicism, resurrection, christianity, salva-tion, protestant, gospel, trinity, jesus, christ, christian, cross,catholic, church`.\n",
    "\n",
    "*Racial target sets taken from Garg et al. 2017*\n",
    "\n",
    "White last names: `harris, nelson, robinson, thompson, moore, wright, anderson, clark, jackson, taylor, scott, davis, allen, adams, lewis, williams, jones, wilson, martin, johnson`.\n",
    "\n",
    "Hispanic last names: `ruiz, alvarez, vargas, castillo, gomez, soto,gonzalez, sanchez, rivera, mendoza, martinez, torres, ro-driguez, perez, lopez, medina, diaz, garcia, castro, cruz`.\n",
    "\n",
    "Asian last names: `cho, wong, tang, huang, chu, chung, ng,wu, liu, chen, lin, yang, kim, chang, shah, wang, li, khan,singh, hong`.\n",
    "\n",
    "Russian last names: `gurin, minsky, sokolov, markov, maslow, novikoff, mishkin, smirnov, orloff, ivanov, sokoloff, davidoff, savin, romanoff, babinski, sorokin, levin, pavlov, rodin, agin`.\n",
    "\n",
    "\n",
    "*Career/family target sets taken from Garg et al. 2018.*\n",
    "\n",
    "Career: `executive, management, professional, corporation, salary, office, business, career`.\n",
    "\n",
    "Family: `home, parents, children, family, cousins, marriage, wedding, relatives.Math: math, algebra, geometry, calculus, equations, computation, numbers, addition`.\n",
    "\n",
    "\n",
    "*Arts/Science target sets taken from Garg et al. 2018.*\n",
    "\n",
    "Arts: `poetry, art, sculpture, dance, literature, novel, symphony, drama`.\n",
    "\n",
    "Science: `science, technology, physics, chemistry, Einstein, NASA, experiment, astronomy`."
   ]
  },
  {
   "cell_type": "markdown",
   "metadata": {
    "id": "aHCHMAPYTCVX"
   },
   "source": [
    "### Sources\n",
    "\n",
    "Nosek, B. A., Banaji, M. R., & Greenwald, A. G. (2002). Harvesting implicit group attitudes and beliefs from a demonstration web site. Group Dynamics, 6(1), 101–115. https://doi.org/10.1037/1089-2699.6.1.101\n",
    "\n",
    "Garg, N., Schiebinger, L., Jurafsky, D., & Zou, J. (2017). Word Embeddings Quantify 100 Years of Gender and Ethnic Stereotypes, 1–33."
   ]
  }
 ],
 "metadata": {
  "accelerator": "TPU",
  "colab": {
   "collapsed_sections": [],
   "name": "Week 4-2 Language Biases.ipynb",
   "provenance": [
    {
     "file_id": "1IgWcAC_gXRgwysSbqDr5ZIO9bxSVb6dl",
     "timestamp": 1601554822392
    },
    {
     "file_id": "1HXx9kevQetMI9pE0B9XCTFjgUHiGC4hm",
     "timestamp": 1594637500809
    }
   ]
  },
  "kernelspec": {
   "display_name": "Python 3",
   "language": "python",
   "name": "python3"
  },
  "language_info": {
   "codemirror_mode": {
    "name": "ipython",
    "version": 3
   },
   "file_extension": ".py",
   "mimetype": "text/x-python",
   "name": "python",
   "nbconvert_exporter": "python",
   "pygments_lexer": "ipython3",
   "version": "3.8.5"
  }
 },
 "nbformat": 4,
 "nbformat_minor": 4
}
