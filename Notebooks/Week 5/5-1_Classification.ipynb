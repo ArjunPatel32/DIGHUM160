{
 "cells": [
  {
   "cell_type": "markdown",
   "metadata": {
    "id": "Q7oOwS5XZh19"
   },
   "source": [
    "<img src=\"../../Img/backdrop-wh.png\" alt=\"Drawing\" style=\"width: 300px;\"/>\n",
    "\n",
    "DIGHUM160 - Critical Digital Humanities<br>\n",
    "Digital Hermeneutics<br>\n",
    "Week 5-1: Naive Bayes Classification<br>\n",
    "Created by Tom van Nuenen (tom.van_nuenen@kcl.ac.uk)"
   ]
  },
  {
   "cell_type": "code",
   "execution_count": 57,
   "metadata": {
    "id": "RUSYtMI1earq"
   },
   "outputs": [
    {
     "data": {
      "image/jpeg": "[encoded data removed]",
      "text/html": [
       "\n",
       "        <iframe\n",
       "            width=\"640\"\n",
       "            height=\"360\"\n",
       "            src=\"https://www.youtube.com/embed/lSUA40VR3LY\"\n",
       "            frameborder=\"0\"\n",
       "            allowfullscreen\n",
       "            \n",
       "        ></iframe>\n",
       "        "
      ],
      "text/plain": [
       "<IPython.lib.display.YouTubeVideo at 0x7fb2fbc895e0>"
      ]
     },
     "execution_count": 57,
     "metadata": {},
     "output_type": "execute_result"
    }
   ],
   "source": [
    "# Please run this cell for the accompanying video.\n",
    "from IPython.display import YouTubeVideo\n",
    "YouTubeVideo('lSUA40VR3LY', width=640, height=360)"
   ]
  },
  {
   "cell_type": "markdown",
   "metadata": {
    "id": "A5tRlY3nZh1-"
   },
   "source": [
    "#  Naive Bayes Classification\n",
    "\n",
    "This notebook introduces Naive Bayes Classifiers to differentiate between different \"classes\" of data. \n",
    "\n",
    "A Naive Bayes classifier is a machine learning algorithm that uses **Bayes’ Theorem** to predict the class that a sample belongs to, given a number of features that describe that sample. It is based on the concept of conditional probability: “What is the probability of our X, given Y?”. Which in our case is: \"What is the probability of a post belonging to a category, given its word frequencies?\" The math behind Bayes' Theorem is simple but intuitive. For more info, check out [this post](http://www.dealingdata.net/2016/07/24/PoGo-Series-NaiveBayesClassifier/).\n",
    "\n",
    "Naive Bayes classifiers are often considered the baseline for classification tasks. They have worked quite well in many real-world situations, famously document classification and spam filtering. Mathematically speaking, they are very straightforward, you can use them when you have limited resources in terms of CPU and memory. Further, when the training time is a crucial factor, Naive Bayes comes handy since it can be trained very quickly. \n",
    "\n",
    "One peculiar aspect of Naive Bayes classifiers is that they assume that the features you use are *conditionally independent*: knowledge of the outcome of one feature does not grant us knowledge of the outcome of any other feature. When dealing with text, this means that we’re not looking at entire sentences, but rather at individual words in a Bag-of-Words model. So “this was a fun party” is treated the same as “was this a fun party” and “party fun was this”.\n",
    "\n",
    "This is a pretty naive assumption (separate features are often correlated) — hence the name Naive Bayes Classifier. Yet, it turns out the algorithm often performs just as well than much more complex machine learning models."
   ]
  },
  {
   "cell_type": "code",
   "execution_count": 1,
   "metadata": {
    "colab": {
     "base_uri": "https://localhost:8080/"
    },
    "executionInfo": {
     "elapsed": 8517,
     "status": "ok",
     "timestamp": 1647132209211,
     "user": {
      "displayName": "Tom van Nuenen",
      "photoUrl": "https://lh3.googleusercontent.com/a-/AOh14GhuBmxDvW5I_LJfZtwlPqMFD8QGLVPP3skvpkTnuQ=s64",
      "userId": "10012302451096885058"
     },
     "user_tz": 300
    },
    "id": "92-uzgw6Zh1_",
    "outputId": "2d352287-3762-46f6-9a6e-8b7fb46e66cc",
    "scrolled": true
   },
   "outputs": [],
   "source": [
    "# sklearn\n",
    "from sklearn.datasets import fetch_20newsgroups\n",
    "from sklearn.model_selection import train_test_split\n",
    "from sklearn.feature_extraction.text import TfidfVectorizer\n",
    "from sklearn.linear_model import LogisticRegression\n",
    "from sklearn.naive_bayes import MultinomialNB\n",
    "from sklearn.pipeline import make_pipeline\n",
    "from sklearn.metrics import confusion_matrix\n",
    "from sklearn.feature_extraction import text\n",
    "stop = text.ENGLISH_STOP_WORDS\n",
    "\n",
    "# General data science\n",
    "import numpy as np\n",
    "import re\n",
    "import pandas as pd\n",
    "import collections\n",
    "import statsmodels.api as sm\n",
    "import matplotlib.pyplot as plt\n",
    "import seaborn as sns \n",
    "%matplotlib inline\n",
    "from IPython.display import clear_output"
   ]
  },
  {
   "cell_type": "markdown",
   "metadata": {
    "id": "6kLcYKobZh2G"
   },
   "source": [
    "## Test using 20 Newsgroups\n",
    "\n",
    "The 20 newsgroups dataset consists of around 18000 newsgroups posts on 20 topics. It's helpfully split in two subsets: one for training (i.e. development), and one for testing (i.e. performance evaluation). \n",
    "\n",
    "We will use a Naive Bayes classifier to **predict the topics of the posts in our test set**, based on the **word frequencies** in the posts in our training set. \n",
    "\n",
    "First, let's get the data. The `.target_names` method yields the topics that the newsgroups have been classified in."
   ]
  },
  {
   "cell_type": "code",
   "execution_count": 2,
   "metadata": {
    "id": "SOt10CYJZh2G"
   },
   "outputs": [],
   "source": [
    "data = fetch_20newsgroups()"
   ]
  },
  {
   "cell_type": "code",
   "execution_count": 3,
   "metadata": {
    "colab": {
     "base_uri": "https://localhost:8080/"
    },
    "executionInfo": {
     "elapsed": 11,
     "status": "ok",
     "timestamp": 1647132233254,
     "user": {
      "displayName": "Tom van Nuenen",
      "photoUrl": "https://lh3.googleusercontent.com/a-/AOh14GhuBmxDvW5I_LJfZtwlPqMFD8QGLVPP3skvpkTnuQ=s64",
      "userId": "10012302451096885058"
     },
     "user_tz": 300
    },
    "id": "ugSYmOUG_5OL",
    "outputId": "68125b81-9045-4806-d404-2fbfefc34f1a"
   },
   "outputs": [
    {
     "data": {
      "text/plain": [
       "['alt.atheism',\n",
       " 'comp.graphics',\n",
       " 'comp.os.ms-windows.misc',\n",
       " 'comp.sys.ibm.pc.hardware',\n",
       " 'comp.sys.mac.hardware',\n",
       " 'comp.windows.x',\n",
       " 'misc.forsale',\n",
       " 'rec.autos',\n",
       " 'rec.motorcycles',\n",
       " 'rec.sport.baseball',\n",
       " 'rec.sport.hockey',\n",
       " 'sci.crypt',\n",
       " 'sci.electronics',\n",
       " 'sci.med',\n",
       " 'sci.space',\n",
       " 'soc.religion.christian',\n",
       " 'talk.politics.guns',\n",
       " 'talk.politics.mideast',\n",
       " 'talk.politics.misc',\n",
       " 'talk.religion.misc']"
      ]
     },
     "execution_count": 3,
     "metadata": {},
     "output_type": "execute_result"
    }
   ],
   "source": [
    "data.target_names"
   ]
  },
  {
   "cell_type": "markdown",
   "metadata": {
    "id": "Cw_yEuIwZh2L"
   },
   "source": [
    "Let's just get four of those to do our test with. We create a **training set** and a **test set**. The training set is, as the name implies, to train our classifier on. The test set we use to evaluate the performance of that classifier."
   ]
  },
  {
   "cell_type": "code",
   "execution_count": 4,
   "metadata": {
    "id": "P3uzq1PbZh2M"
   },
   "outputs": [],
   "source": [
    "categories = ['talk.religion.misc', 'soc.religion.christian',\n",
    "              'sci.space', 'comp.graphics']\n",
    "train = fetch_20newsgroups(subset='train', categories=categories)\n",
    "test = fetch_20newsgroups(subset='test', categories=categories)"
   ]
  },
  {
   "cell_type": "markdown",
   "metadata": {
    "id": "53SVW8StAWuH"
   },
   "source": [
    "What does the data look like?\n"
   ]
  },
  {
   "cell_type": "code",
   "execution_count": 5,
   "metadata": {
    "colab": {
     "base_uri": "https://localhost:8080/",
     "height": 87
    },
    "executionInfo": {
     "elapsed": 7,
     "status": "ok",
     "timestamp": 1647132234332,
     "user": {
      "displayName": "Tom van Nuenen",
      "photoUrl": "https://lh3.googleusercontent.com/a-/AOh14GhuBmxDvW5I_LJfZtwlPqMFD8QGLVPP3skvpkTnuQ=s64",
      "userId": "10012302451096885058"
     },
     "user_tz": 300
    },
    "id": "8ICNv8mJZh2P",
    "outputId": "a8aad4ae-0714-4e0d-dff7-a93227e7c198"
   },
   "outputs": [
    {
     "data": {
      "text/plain": [
       "\"From: jsledd@ssdc.sas.upenn.edu (James Sledd)\\nSubject: Re: Dreams and out of body incidents\\nOrganization: Social Science Computing\\nLines: 6\\n\\nIn article <May.14.02.10.02.1993.25119@athos.rutgers.edu> alisonjw@spider.co.uk (Alison J Wyld) writes:\\n>From: alisonjw@spider.co.uk (Alison J Wyld)\\n>PS. Just to make it clear, I don't do ( and have never tried ) OOBEs.\\n>    I tend to think they are off limits for Christians.\\n\\nWHY?\\n\""
      ]
     },
     "execution_count": 5,
     "metadata": {},
     "output_type": "execute_result"
    }
   ],
   "source": [
    "test.data[5]"
   ]
  },
  {
   "cell_type": "markdown",
   "metadata": {
    "id": "vXyqHlD9Zh2S"
   },
   "source": [
    "To convert the content of each string into a vector of numbers, we will use Scikit-learn's `TfidfVectorizer()` method again.\n",
    "\n",
    "We're using sklearn's `MultinomialNB` as our classifier. **Multinomial Naive Bayes** is a specialized version of Naive Bayes that is specifically designed for text documents. Whereas *Simple Naive Bayes* would model a document as the presence and absence of particular words, *Multinomial Naive Bayes* explicitly models all the word counts and adjusts the underlying calculations. For more on the difference between these classifiers, see:\n",
    "http://blog.datumbox.com/machine-learning-tutorial-the-naive-bayes-text-classifier/ \n",
    "\n",
    "Scikit-klearn allows us to create a **pipeline** using `make_pipeline()`, which attaches this vectorizer to a multinomial naive Bayes classifier (meaning we don't have to instantiate these methods separately)."
   ]
  },
  {
   "cell_type": "code",
   "execution_count": 6,
   "metadata": {
    "id": "UoJH0bNhZh2T"
   },
   "outputs": [],
   "source": [
    "model = make_pipeline(TfidfVectorizer(), MultinomialNB())"
   ]
  },
  {
   "cell_type": "markdown",
   "metadata": {
    "id": "2kd_-mpZZh2W"
   },
   "source": [
    "### Fitting the data\n",
    "\n",
    "With this pipeline, we can apply the model to the training data, and then predict labels for the test data:"
   ]
  },
  {
   "cell_type": "code",
   "execution_count": 7,
   "metadata": {
    "id": "kS5bcRveZh2X"
   },
   "outputs": [],
   "source": [
    "model.fit(train.data, train.target)\n",
    "labels = model.predict(test.data)"
   ]
  },
  {
   "cell_type": "code",
   "execution_count": 8,
   "metadata": {
    "colab": {
     "base_uri": "https://localhost:8080/"
    },
    "executionInfo": {
     "elapsed": 26,
     "status": "ok",
     "timestamp": 1647132237464,
     "user": {
      "displayName": "Tom van Nuenen",
      "photoUrl": "https://lh3.googleusercontent.com/a-/AOh14GhuBmxDvW5I_LJfZtwlPqMFD8QGLVPP3skvpkTnuQ=s64",
      "userId": "10012302451096885058"
     },
     "user_tz": 300
    },
    "id": "d2kdy0wEZh2c",
    "outputId": "00fb5167-98d2-4736-f406-e2a793f42890"
   },
   "outputs": [
    {
     "data": {
      "text/plain": [
       "array([2, 0, 1, 0, 1])"
      ]
     },
     "execution_count": 8,
     "metadata": {},
     "output_type": "execute_result"
    }
   ],
   "source": [
    "labels[:5]"
   ]
  },
  {
   "cell_type": "markdown",
   "metadata": {
    "id": "4WazqxP9Zh2f"
   },
   "source": [
    "Now that we have predicted the labels for the test data, we can evaluate them to learn about the performance of the estimator. For example, here is the confusion matrix between the true and predicted labels for the test data:"
   ]
  },
  {
   "cell_type": "code",
   "execution_count": 9,
   "metadata": {
    "colab": {
     "base_uri": "https://localhost:8080/",
     "height": 373
    },
    "executionInfo": {
     "elapsed": 377,
     "status": "ok",
     "timestamp": 1647132237819,
     "user": {
      "displayName": "Tom van Nuenen",
      "photoUrl": "https://lh3.googleusercontent.com/a-/AOh14GhuBmxDvW5I_LJfZtwlPqMFD8QGLVPP3skvpkTnuQ=s64",
      "userId": "10012302451096885058"
     },
     "user_tz": 300
    },
    "id": "088ylqrUZh2g",
    "outputId": "9e0fee8a-5b27-45a0-aec7-84b7495b3513"
   },
   "outputs": [
    {
     "data": {
      "image/png": "[encoded data removed]",
      "text/plain": [
       "<Figure size 432x288 with 1 Axes>"
      ]
     },
     "metadata": {
      "needs_background": "light"
     },
     "output_type": "display_data"
    }
   ],
   "source": [
    "mat = confusion_matrix(test.target, labels)\n",
    "sns.heatmap(mat.T, square=True, annot=True, fmt='d', cbar=False,\n",
    "            xticklabels=train.target_names, yticklabels=train.target_names)\n",
    "plt.xlabel('true label')\n",
    "plt.ylabel('predicted label');"
   ]
  },
  {
   "cell_type": "markdown",
   "metadata": {
    "id": "QdkPbe78Zh2j"
   },
   "source": [
    "Evidently, even this very simple classifier based on tf-idf scores can successfully separate posts about space from posts about computers. It gets confused, however, between talk about religion and talk about Christianity – an expected area of confusion.\n"
   ]
  },
  {
   "cell_type": "markdown",
   "metadata": {
    "id": "KAZIndhPZh2k"
   },
   "source": [
    "### Prediction\n",
    "With this classifier, we can now determine the category for any string, using the `predict()` method of this pipeline. Let's write a utility function that will return the prediction for a single string:"
   ]
  },
  {
   "cell_type": "code",
   "execution_count": 44,
   "metadata": {
    "id": "GJWF5EoLZh2k"
   },
   "outputs": [],
   "source": [
    "def predict_category(s, train=train, model=model):\n",
    "    pred = model.predict([s])\n",
    "    return train.target_names[pred[0]]"
   ]
  },
  {
   "cell_type": "code",
   "execution_count": 11,
   "metadata": {
    "colab": {
     "base_uri": "https://localhost:8080/",
     "height": 35
    },
    "executionInfo": {
     "elapsed": 10,
     "status": "ok",
     "timestamp": 1647132253361,
     "user": {
      "displayName": "Tom van Nuenen",
      "photoUrl": "https://lh3.googleusercontent.com/a-/AOh14GhuBmxDvW5I_LJfZtwlPqMFD8QGLVPP3skvpkTnuQ=s64",
      "userId": "10012302451096885058"
     },
     "user_tz": 300
    },
    "id": "YZzDrageZh2n",
    "outputId": "d3b0b680-2f09-4039-a031-f4e1255a1b9f"
   },
   "outputs": [
    {
     "data": {
      "text/plain": [
       "'sci.space'"
      ]
     },
     "execution_count": 11,
     "metadata": {},
     "output_type": "execute_result"
    }
   ],
   "source": [
    "predict_category('Scientists discover new moon around Saturn')"
   ]
  },
  {
   "cell_type": "markdown",
   "metadata": {
    "id": "VV-gmENZZh2r"
   },
   "source": [
    "It works!\n",
    "\n",
    "**Remember:** this is nothing more than a simple probability model for the (weighted) frequency of each word in the string! Nevertheless, the result is striking. Even a very naive algorithm, when used carefully and trained on a large set of high-dimensional data, can be surprisingly effective."
   ]
  },
  {
   "cell_type": "markdown",
   "metadata": {
    "id": "cfeqs_V-Zh2r"
   },
   "source": [
    "## Classification on r/amitheasshole\n",
    "\n",
    "We will now use the same technique on a subreddit. We'll be using the subreddit r/amitheasshole: a subreddit in which members can vote whether an original poster [OP], in some social interaction, behaved like, you gueeded in, an asshole."
   ]
  },
  {
   "cell_type": "markdown",
   "metadata": {
    "id": "wDeidiecZOop"
   },
   "source": [
    "### Preprocessing\n",
    "\n",
    "We'll start by cleaning up our data a bit. Let's load it up."
   ]
  },
  {
   "cell_type": "code",
   "execution_count": 12,
   "metadata": {
    "colab": {
     "base_uri": "https://localhost:8080/"
    },
    "executionInfo": {
     "elapsed": 15797,
     "status": "ok",
     "timestamp": 1647132273684,
     "user": {
      "displayName": "Tom van Nuenen",
      "photoUrl": "https://lh3.googleusercontent.com/a-/AOh14GhuBmxDvW5I_LJfZtwlPqMFD8QGLVPP3skvpkTnuQ=s64",
      "userId": "10012302451096885058"
     },
     "user_tz": 300
    },
    "id": "L53KDL74tGxU",
    "outputId": "3e2eae47-aab5-4c28-db5a-0adfadfdab28"
   },
   "outputs": [],
   "source": [
    "import os\n",
    "# We include two ../ because we want to go two levels up in the file structure\n",
    "os.chdir(\"../../Data\")"
   ]
  },
  {
   "cell_type": "code",
   "execution_count": 13,
   "metadata": {
    "colab": {
     "base_uri": "https://localhost:8080/"
    },
    "executionInfo": {
     "elapsed": 958,
     "status": "ok",
     "timestamp": 1647133149758,
     "user": {
      "displayName": "Tom van Nuenen",
      "photoUrl": "https://lh3.googleusercontent.com/a-/AOh14GhuBmxDvW5I_LJfZtwlPqMFD8QGLVPP3skvpkTnuQ=s64",
      "userId": "10012302451096885058"
     },
     "user_tz": 300
    },
    "id": "FcZgEVVBtSmM",
    "outputId": "2e9b8d8f-48b1-4e74-d585-eff5ad525a3c"
   },
   "outputs": [],
   "source": [
    "import pandas as pd \n",
    "\n",
    "# importing file in df\n",
    "df = pd.read_csv('aita_sub_top_sm_lemmas.csv')"
   ]
  },
  {
   "cell_type": "markdown",
   "metadata": {
    "id": "y5KfKs5QZh25"
   },
   "source": [
    "### A classifier for assholes?\n",
    "\n",
    "Now that we've seen how classification works, let's write a classifier for this subreddit. A typical use of this would be, for instance, to classify which particular subreddit a post belongs to. Or to classify posts that should be categorized as \"NSFW\".\n",
    "\n",
    "But you can also use classification to test out certain hypotheses: for instance, can we predict whether a post will be classified as \"ITA\" (*Is The Asshole*), given its textual features?\n",
    "\n",
    "Luckily, the members of r/amitheasshole have done some work for us by labeling the posts. We can use these labels to train our classifier. Let's have a look at the `flair_css_class` column in our DataFrame."
   ]
  },
  {
   "cell_type": "code",
   "execution_count": 14,
   "metadata": {
    "colab": {
     "base_uri": "https://localhost:8080/"
    },
    "executionInfo": {
     "elapsed": 10,
     "status": "ok",
     "timestamp": 1647133157763,
     "user": {
      "displayName": "Tom van Nuenen",
      "photoUrl": "https://lh3.googleusercontent.com/a-/AOh14GhuBmxDvW5I_LJfZtwlPqMFD8QGLVPP3skvpkTnuQ=s64",
      "userId": "10012302451096885058"
     },
     "user_tz": 300
    },
    "id": "ZUvOYdwvZh26",
    "outputId": "8fc739c1-16f1-4dd0-8722-244e69e199db",
    "scrolled": true
   },
   "outputs": [
    {
     "data": {
      "text/plain": [
       "not         10995\n",
       "ass          3906\n",
       "1               2\n",
       "shitpost        1\n",
       "Name: flair_css_class, dtype: int64"
      ]
     },
     "execution_count": 14,
     "metadata": {},
     "output_type": "execute_result"
    }
   ],
   "source": [
    "df['flair_css_class'].value_counts()"
   ]
  },
  {
   "cell_type": "markdown",
   "metadata": {
    "id": "U1dGxPvHZh2-"
   },
   "source": [
    "Looks like the `flair_css_class` column contains lots of tags for asshole and non-asshole posts. Let's use this column for now. We'll remove anything that's *not* classified as `not` or `ass`."
   ]
  },
  {
   "cell_type": "code",
   "execution_count": 15,
   "metadata": {
    "colab": {
     "base_uri": "https://localhost:8080/"
    },
    "executionInfo": {
     "elapsed": 246,
     "status": "ok",
     "timestamp": 1647133161431,
     "user": {
      "displayName": "Tom van Nuenen",
      "photoUrl": "https://lh3.googleusercontent.com/a-/AOh14GhuBmxDvW5I_LJfZtwlPqMFD8QGLVPP3skvpkTnuQ=s64",
      "userId": "10012302451096885058"
     },
     "user_tz": 300
    },
    "id": "arX-cAJaZh2_",
    "outputId": "298f81c2-f615-4ee2-8b2e-96352e5db238"
   },
   "outputs": [
    {
     "data": {
      "text/plain": [
       "14901"
      ]
     },
     "execution_count": 15,
     "metadata": {},
     "output_type": "execute_result"
    }
   ],
   "source": [
    "df = df[~df['flair_css_class'].isin(['shitpost', '1' ])].dropna(subset=['flair_css_class'])\n",
    "len(df)"
   ]
  },
  {
   "cell_type": "markdown",
   "metadata": {
    "id": "8NobKEzQZh3D"
   },
   "source": [
    "The next issue is that we have an unbalanced classification: \"Not the Asshole\" (`not`) posts occur over double as many times as \"Asshole\" (`ass`). This is in itself interesting! \n",
    "\n",
    "We can choose to either **upsample** our \"Asshole\" category (by adding doubles) or **downsampling** our \"Not the A-hole\" category by removing entries. You ideally have to try both, as what works best differs from case to case, but let's downsample for now. \n",
    "\n",
    "First, we want our DataFrame sorted. Then, we create a boolean mask for the negative values, use `np.where` to get the indices of these rows, `drop` these indices, then drop one half of those indices:"
   ]
  },
  {
   "cell_type": "code",
   "execution_count": 16,
   "metadata": {
    "id": "DjH-L3b6Zh3D"
   },
   "outputs": [],
   "source": [
    "# Sorting the values\n",
    "df.sort_values('flair_css_class', inplace=True)\n",
    "\n",
    "# creating a mask for the condition\n",
    "mask = (df.flair_css_class == \"not\")\n",
    "\n",
    "# find out which indexes this condition refers to using np.where()\n",
    "idx, = np.where(mask)\n",
    "\n",
    "# divide by 2 and drop the indices\n",
    "df.drop(df.index[idx[:len(idx)//2]], inplace=True)"
   ]
  },
  {
   "cell_type": "markdown",
   "metadata": {
    "id": "NI78mD1GLhwR"
   },
   "source": [
    "Let's see how many entries for our classes we have now.\n"
   ]
  },
  {
   "cell_type": "code",
   "execution_count": 17,
   "metadata": {
    "colab": {
     "base_uri": "https://localhost:8080/"
    },
    "executionInfo": {
     "elapsed": 299,
     "status": "ok",
     "timestamp": 1647135860435,
     "user": {
      "displayName": "Tom van Nuenen",
      "photoUrl": "https://lh3.googleusercontent.com/a-/AOh14GhuBmxDvW5I_LJfZtwlPqMFD8QGLVPP3skvpkTnuQ=s64",
      "userId": "10012302451096885058"
     },
     "user_tz": 300
    },
    "id": "Rob-rhLRLeP-",
    "outputId": "0f99367c-b04f-4d51-85fb-7a52df484757"
   },
   "outputs": [
    {
     "data": {
      "text/plain": [
       "not    5498\n",
       "ass    3906\n",
       "Name: flair_css_class, dtype: int64"
      ]
     },
     "execution_count": 17,
     "metadata": {},
     "output_type": "execute_result"
    }
   ],
   "source": [
    "df['flair_css_class'].value_counts()"
   ]
  },
  {
   "cell_type": "markdown",
   "metadata": {
    "id": "6TlscDpmZh3H"
   },
   "source": [
    "Looks more balanced now!"
   ]
  },
  {
   "cell_type": "markdown",
   "metadata": {
    "id": "5OZ4XJ8pZh3Q"
   },
   "source": [
    "Lemmatizing takes a long time, so we don't want to do it twice. We'll save the lemmatized list in a pickle, in case we need it later."
   ]
  },
  {
   "cell_type": "markdown",
   "metadata": {
    "id": "J-O-DEjUZh3V"
   },
   "source": [
    "### Commence training\n",
    "\n",
    "Now for the classfier! We'll first create our training and test set, using the lemmas as `X` and `flair_css_class` as `y`. So we're predicting `y` given `X`."
   ]
  },
  {
   "cell_type": "code",
   "execution_count": 51,
   "metadata": {
    "id": "3JdK3MbCZh3W"
   },
   "outputs": [],
   "source": [
    "X = df['selftext']\n",
    "y = df['flair_css_class']"
   ]
  },
  {
   "cell_type": "markdown",
   "metadata": {
    "id": "w8zRQxjnZh3Z"
   },
   "source": [
    "Next, we split our data into training and test sets again. We can easily do this using scikit-learn's `train_test_split()` method. The method takes a parameter denoting the size of the test set (20% of the total set, in this case)."
   ]
  },
  {
   "cell_type": "code",
   "execution_count": 52,
   "metadata": {
    "id": "SOG6EFYxZh3a"
   },
   "outputs": [],
   "source": [
    "X_train, X_test, y_train, y_test = train_test_split(X, y, test_size=0.2)"
   ]
  },
  {
   "cell_type": "markdown",
   "metadata": {
    "id": "S9R_1wQkZh3e"
   },
   "source": [
    "Why are we splitting into training and testing sets before vectorizing?\n",
    "\n",
    "If we vectorize *before* we train/test split, our doc-term matrix would contain every single feature (word) in the test and training sets. What we want is to simulate the real world, where our classifier needs to encounters words it has not seen before. This allows us to evaluate it better.\n",
    "\n",
    "So here's what we're doing: \n",
    "\n",
    "- We create a `TfidfVectorizer` instance\n",
    "- `vect.fit.transform(X_train)` learns the t-fidf vocabulary of the training data, and uses the fitted vocabulary to build a document-term matrix from the training data;\n",
    "- `vect.transform(X_test)` uses the fitted vocabulary to build a document-term matrix from the testing data (and ignores tokens it hasn't seen before)."
   ]
  },
  {
   "cell_type": "code",
   "execution_count": 53,
   "metadata": {
    "colab": {
     "base_uri": "https://localhost:8080/"
    },
    "executionInfo": {
     "elapsed": 2700,
     "status": "ok",
     "timestamp": 1647136628585,
     "user": {
      "displayName": "Tom van Nuenen",
      "photoUrl": "https://lh3.googleusercontent.com/a-/AOh14GhuBmxDvW5I_LJfZtwlPqMFD8QGLVPP3skvpkTnuQ=s64",
      "userId": "10012302451096885058"
     },
     "user_tz": 300
    },
    "id": "PkpEXpiMZh3f",
    "outputId": "c17a93f5-eb50-43be-87eb-ce9616d431ea"
   },
   "outputs": [
    {
     "data": {
      "text/plain": [
       "<1881x31255 sparse matrix of type '<class 'numpy.float64'>'\n",
       "\twith 358599 stored elements in Compressed Sparse Row format>"
      ]
     },
     "execution_count": 53,
     "metadata": {},
     "output_type": "execute_result"
    }
   ],
   "source": [
    "vect = TfidfVectorizer(max_df=1.0, max_features=None, min_df=1) # we can add ngram_range=(1, 2) to include N-grams\n",
    "\n",
    "# learn training data vocabulary, then use it to create a document-term matrix\n",
    "X_train_dtm = vect.fit_transform(X_train)\n",
    "\n",
    "# transform testing data (using fitted vocabulary) into a document-term matrix\n",
    "X_test_dtm = vect.transform(X_test)\n",
    "X_test_dtm"
   ]
  },
  {
   "cell_type": "markdown",
   "metadata": {
    "id": "QxGDyW1hZh3i"
   },
   "source": [
    "Time to create the classifier:"
   ]
  },
  {
   "cell_type": "code",
   "execution_count": 54,
   "metadata": {
    "colab": {
     "base_uri": "https://localhost:8080/"
    },
    "executionInfo": {
     "elapsed": 335,
     "status": "ok",
     "timestamp": 1647136628916,
     "user": {
      "displayName": "Tom van Nuenen",
      "photoUrl": "https://lh3.googleusercontent.com/a-/AOh14GhuBmxDvW5I_LJfZtwlPqMFD8QGLVPP3skvpkTnuQ=s64",
      "userId": "10012302451096885058"
     },
     "user_tz": 300
    },
    "id": "JWtVY_FRZh3i",
    "outputId": "b2f5723b-3c86-4a64-ee4a-bca2b7958da7"
   },
   "outputs": [
    {
     "name": "stdout",
     "output_type": "stream",
     "text": [
      "CPU times: user 25.9 ms, sys: 4.01 ms, total: 29.9 ms\n",
      "Wall time: 87.7 ms\n"
     ]
    },
    {
     "data": {
      "text/plain": [
       "MultinomialNB()"
      ]
     },
     "execution_count": 54,
     "metadata": {},
     "output_type": "execute_result"
    }
   ],
   "source": [
    "nb = MultinomialNB()\n",
    "%time nb.fit(X_train_dtm, y_train)"
   ]
  },
  {
   "cell_type": "markdown",
   "metadata": {
    "id": "txTEsCUDZh3l"
   },
   "source": [
    "That was quick! Let's see what it yields."
   ]
  },
  {
   "cell_type": "code",
   "execution_count": 55,
   "metadata": {
    "colab": {
     "base_uri": "https://localhost:8080/"
    },
    "executionInfo": {
     "elapsed": 4,
     "status": "ok",
     "timestamp": 1647136628916,
     "user": {
      "displayName": "Tom van Nuenen",
      "photoUrl": "https://lh3.googleusercontent.com/a-/AOh14GhuBmxDvW5I_LJfZtwlPqMFD8QGLVPP3skvpkTnuQ=s64",
      "userId": "10012302451096885058"
     },
     "user_tz": 300
    },
    "id": "SSQmwNFsZh3l",
    "outputId": "b0b19aca-ad70-4464-da57-f9fdb69a94a2",
    "scrolled": true
   },
   "outputs": [
    {
     "data": {
      "text/plain": [
       "0.5699096225412015"
      ]
     },
     "execution_count": 55,
     "metadata": {},
     "output_type": "execute_result"
    }
   ],
   "source": [
    "# Make class predictions for X_test_dtm\n",
    "y_pred_class = nb.predict(X_test_dtm)\n",
    "\n",
    "# Calculate accuracy of class predictions\n",
    "from sklearn import metrics\n",
    "metrics.accuracy_score(y_test, y_pred_class)"
   ]
  },
  {
   "cell_type": "code",
   "execution_count": 56,
   "metadata": {
    "colab": {
     "base_uri": "https://localhost:8080/",
     "height": 296
    },
    "executionInfo": {
     "elapsed": 389,
     "status": "ok",
     "timestamp": 1647136629303,
     "user": {
      "displayName": "Tom van Nuenen",
      "photoUrl": "https://lh3.googleusercontent.com/a-/AOh14GhuBmxDvW5I_LJfZtwlPqMFD8QGLVPP3skvpkTnuQ=s64",
      "userId": "10012302451096885058"
     },
     "user_tz": 300
    },
    "id": "WPxFORXUZh3o",
    "outputId": "cea054af-51c4-40c4-c05d-112dc13d5b43"
   },
   "outputs": [
    {
     "data": {
      "text/plain": [
       "Text(91.68, 0.5, 'predicted label')"
      ]
     },
     "execution_count": 56,
     "metadata": {},
     "output_type": "execute_result"
    },
    {
     "data": {
      "image/png": "[encoded data removed]",
      "text/plain": [
       "<Figure size 432x288 with 1 Axes>"
      ]
     },
     "metadata": {
      "needs_background": "light"
     },
     "output_type": "display_data"
    }
   ],
   "source": [
    "categories = ['ass', 'not']\n",
    "mat = confusion_matrix(y_test, y_pred_class)\n",
    "sns.heatmap(mat.T, square=True, annot=True, fmt='d', cbar=False,\n",
    "            xticklabels=categories, yticklabels=categories)\n",
    "plt.xlabel('true label')\n",
    "plt.ylabel('predicted label')"
   ]
  },
  {
   "cell_type": "markdown",
   "metadata": {
    "id": "0jMbvaKPZh3s"
   },
   "source": [
    "### Classification using logistic regression\n",
    "\n",
    "As you can tell from the confusion matrix, our predictions are not particularly accurate. This is no surprise, as it would be quite a feat to predict this class based on word usage alone, especially for such a small dataset. If you'd want to pursue this hypothesis further, you could try to scale up the data, or take more features for X into account. \n",
    "\n",
    "Just for fun, let's try comparing this result to **logistic regression**, which is also often used for classification problems. Logistic regression tries to find the optimal decision boundary that best separates classes.\n",
    "\n",
    "The difference between Naive Bayes and Logistic regression is that the first is a generative model, and the second a discriminative model. What does this mean?\n",
    "- **Generative model**: Naive Bayes models the joint distribution of the feature X and target y, and then *predicts* the posterior probability given as P(y|X)\n",
    "- **Discriminative model**: Logistic regression *directly models* the posterior probability of P(y|X) by learning the input to output mapping and minimizing the error.\n",
    "\n",
    "Unlike Naive Bayes, logistic regression typically works reasonably well even when some of the features (in our case, words) are correlated. This is why it can be a good idea to try both when dealing with texts (because certain words *do* tend to appear in each other's vicinity!)."
   ]
  },
  {
   "cell_type": "code",
   "execution_count": 24,
   "metadata": {
    "id": "LZv1bpRaZh3s"
   },
   "outputs": [],
   "source": [
    "# instantiate a logistic regression model\n",
    "logreg = LogisticRegression()"
   ]
  },
  {
   "cell_type": "code",
   "execution_count": 25,
   "metadata": {
    "colab": {
     "base_uri": "https://localhost:8080/"
    },
    "executionInfo": {
     "elapsed": 1105,
     "status": "ok",
     "timestamp": 1647136630956,
     "user": {
      "displayName": "Tom van Nuenen",
      "photoUrl": "https://lh3.googleusercontent.com/a-/AOh14GhuBmxDvW5I_LJfZtwlPqMFD8QGLVPP3skvpkTnuQ=s64",
      "userId": "10012302451096885058"
     },
     "user_tz": 300
    },
    "id": "se7nezO_Zh3w",
    "outputId": "06fad0f3-ac6a-41d9-8012-3c1028bdadb9"
   },
   "outputs": [
    {
     "name": "stdout",
     "output_type": "stream",
     "text": [
      "CPU times: user 1.79 s, sys: 645 ms, total: 2.44 s\n",
      "Wall time: 465 ms\n"
     ]
    },
    {
     "data": {
      "text/plain": [
       "LogisticRegression()"
      ]
     },
     "execution_count": 25,
     "metadata": {},
     "output_type": "execute_result"
    }
   ],
   "source": [
    "# train the model using X_train_dtm\n",
    "%time logreg.fit(X_train_dtm, y_train)"
   ]
  },
  {
   "cell_type": "code",
   "execution_count": 26,
   "metadata": {
    "id": "DrD54i3PZh3y"
   },
   "outputs": [],
   "source": [
    "# make class predictions for X_test_dtm\n",
    "y_pred_class = logreg.predict(X_test_dtm)"
   ]
  },
  {
   "cell_type": "code",
   "execution_count": 27,
   "metadata": {
    "colab": {
     "base_uri": "https://localhost:8080/"
    },
    "executionInfo": {
     "elapsed": 14,
     "status": "ok",
     "timestamp": 1647136630956,
     "user": {
      "displayName": "Tom van Nuenen",
      "photoUrl": "https://lh3.googleusercontent.com/a-/AOh14GhuBmxDvW5I_LJfZtwlPqMFD8QGLVPP3skvpkTnuQ=s64",
      "userId": "10012302451096885058"
     },
     "user_tz": 300
    },
    "id": "3HA25D0fZh31",
    "outputId": "442e846e-96d7-421d-ebfa-3ff255b22988"
   },
   "outputs": [
    {
     "data": {
      "text/plain": [
       "array([0.68335401, 0.44103132, 0.46502454, ..., 0.628879  , 0.43548897,\n",
       "       0.69160377])"
      ]
     },
     "execution_count": 27,
     "metadata": {},
     "output_type": "execute_result"
    }
   ],
   "source": [
    "# calculate predicted probabilities for X_test_dtm\n",
    "y_pred_prob = logreg.predict_proba(X_test_dtm)[:, 1]\n",
    "y_pred_prob"
   ]
  },
  {
   "cell_type": "code",
   "execution_count": 28,
   "metadata": {
    "colab": {
     "base_uri": "https://localhost:8080/"
    },
    "executionInfo": {
     "elapsed": 13,
     "status": "ok",
     "timestamp": 1647136630957,
     "user": {
      "displayName": "Tom van Nuenen",
      "photoUrl": "https://lh3.googleusercontent.com/a-/AOh14GhuBmxDvW5I_LJfZtwlPqMFD8QGLVPP3skvpkTnuQ=s64",
      "userId": "10012302451096885058"
     },
     "user_tz": 300
    },
    "id": "jKqAj5XpZh33",
    "outputId": "19233b2a-1fb0-41c8-aa46-bd3f18ca123c",
    "scrolled": true
   },
   "outputs": [
    {
     "data": {
      "text/plain": [
       "0.6172248803827751"
      ]
     },
     "execution_count": 28,
     "metadata": {},
     "output_type": "execute_result"
    }
   ],
   "source": [
    "# calculate accuracy\n",
    "metrics.accuracy_score(y_test, y_pred_class)"
   ]
  },
  {
   "cell_type": "markdown",
   "metadata": {
    "id": "G-xenYmXZh36"
   },
   "source": [
    "Still no good – but you get the idea."
   ]
  },
  {
   "cell_type": "markdown",
   "metadata": {
    "id": "_tAYGMaxZh37"
   },
   "source": [
    "### Improving the model\n",
    "\n",
    "If you'd want to improve upon this model, you could try to extract other features from the text (for instance, based on the presence of certain words, sentence length, etc.). You could also start looking into other features from the metadata (e.g. the score it received) to improve the prediction – though this is beyond the scope of this notebook.\n",
    "\n",
    "What you need to know is that this process is called **feature engineering**: taking whatever information you have about your problem and turning it into numbers that you can use to build your feature matrix.\n",
    "\n",
    "Plugging other features into a classifier could potentially make it more accurate. For now, we can say that we cannot really tell the label based only on the words that people use in their posts."
   ]
  },
  {
   "cell_type": "markdown",
   "metadata": {
    "id": "86yH3K8gZh37"
   },
   "source": [
    "### Finding the most distinctive terms\n",
    "\n",
    "Before we move on, let's explore why we would want an accurate model in the first place! For one, this would allow us to calculate the approximate \"assholishness\" of each token."
   ]
  },
  {
   "cell_type": "code",
   "execution_count": 29,
   "metadata": {
    "colab": {
     "base_uri": "https://localhost:8080/"
    },
    "executionInfo": {
     "elapsed": 339,
     "status": "ok",
     "timestamp": 1647136631285,
     "user": {
      "displayName": "Tom van Nuenen",
      "photoUrl": "https://lh3.googleusercontent.com/a-/AOh14GhuBmxDvW5I_LJfZtwlPqMFD8QGLVPP3skvpkTnuQ=s64",
      "userId": "10012302451096885058"
     },
     "user_tz": 300
    },
    "id": "W3e03LYnZh38",
    "outputId": "d1cdd48d-0064-49a8-aca7-c7f1a506fb32"
   },
   "outputs": [
    {
     "data": {
      "text/plain": [
       "25673"
      ]
     },
     "execution_count": 29,
     "metadata": {},
     "output_type": "execute_result"
    }
   ],
   "source": [
    "# store the vocabulary of X_train\n",
    "X_train_tokens = vect.get_feature_names_out()\n",
    "len(X_train_tokens)"
   ]
  },
  {
   "cell_type": "code",
   "execution_count": 30,
   "metadata": {
    "colab": {
     "base_uri": "https://localhost:8080/"
    },
    "executionInfo": {
     "elapsed": 8,
     "status": "ok",
     "timestamp": 1647136631835,
     "user": {
      "displayName": "Tom van Nuenen",
      "photoUrl": "https://lh3.googleusercontent.com/a-/AOh14GhuBmxDvW5I_LJfZtwlPqMFD8QGLVPP3skvpkTnuQ=s64",
      "userId": "10012302451096885058"
     },
     "user_tz": 300
    },
    "id": "BP6sp8YbZh4B",
    "outputId": "15b72987-68c0-4673-8e9a-c3ee3c73a831"
   },
   "outputs": [
    {
     "name": "stdout",
     "output_type": "stream",
     "text": [
      "['13m' '13month' '13my' '13th' '13y' '13yo' '13yr' '14' '1400sq' '140lbs'\n",
      " '14ct' '14er' '14f' '14fbrother' '14i' '14m' '14th' '14y' '14yo' '14yrs'\n",
      " '15' '150' '15000it' '150k' '150kg' '150lbs' '1541087544754' '15am' '15f'\n",
      " '15h' '15ish' '15k' '15lbs' '15m' '15min' '15pound' '15th' '15year'\n",
      " '15yo' '16' '160k' '163cm' '165lbs' '1674217' '16acre' '16f' '16ish'\n",
      " '16k' '16m' '16mi']\n"
     ]
    }
   ],
   "source": [
    "# examine some tokens\n",
    "print(X_train_tokens[100:150])"
   ]
  },
  {
   "cell_type": "markdown",
   "metadata": {
    "id": "k0oP92h-QAy9"
   },
   "source": [
    "Naive Bayes counts the number of times each token appears in each class. We can access the array of that count by running the `.feature_count_` method.\n"
   ]
  },
  {
   "cell_type": "code",
   "execution_count": 31,
   "metadata": {
    "colab": {
     "base_uri": "https://localhost:8080/"
    },
    "executionInfo": {
     "elapsed": 8,
     "status": "ok",
     "timestamp": 1647136632797,
     "user": {
      "displayName": "Tom van Nuenen",
      "photoUrl": "https://lh3.googleusercontent.com/a-/AOh14GhuBmxDvW5I_LJfZtwlPqMFD8QGLVPP3skvpkTnuQ=s64",
      "userId": "10012302451096885058"
     },
     "user_tz": 300
    },
    "id": "BJrm5uoPZh4D",
    "outputId": "72e0f2c0-058e-4d2f-c83b-ce4856c01383"
   },
   "outputs": [
    {
     "data": {
      "text/plain": [
       "array([[ 2.12162381,  6.16777836,  0.11496026, ...,  0.        ,\n",
       "         0.        ,  0.        ],\n",
       "       [ 3.88330601, 10.76264468,  0.        , ...,  0.12255311,\n",
       "         0.06022081,  0.1957391 ]])"
      ]
     },
     "execution_count": 31,
     "metadata": {},
     "output_type": "execute_result"
    }
   ],
   "source": [
    "# note that the trailing underscore often acts to avoid naming errors\n",
    "nb.feature_count_ "
   ]
  },
  {
   "cell_type": "markdown",
   "metadata": {
    "id": "oXTq54cCQlQO"
   },
   "source": [
    "What are we seeing here? The rows represent our classes (asshole / not an asshole), the columns represent our tokens (our total vocabulary).\n"
   ]
  },
  {
   "cell_type": "code",
   "execution_count": 32,
   "metadata": {
    "colab": {
     "base_uri": "https://localhost:8080/"
    },
    "executionInfo": {
     "elapsed": 1,
     "status": "ok",
     "timestamp": 1647136633998,
     "user": {
      "displayName": "Tom van Nuenen",
      "photoUrl": "https://lh3.googleusercontent.com/a-/AOh14GhuBmxDvW5I_LJfZtwlPqMFD8QGLVPP3skvpkTnuQ=s64",
      "userId": "10012302451096885058"
     },
     "user_tz": 300
    },
    "id": "xY5OhscsZh4G",
    "outputId": "a812b074-e6c5-41a2-c9c0-a8fe587564f7"
   },
   "outputs": [
    {
     "data": {
      "text/plain": [
       "(2, 25673)"
      ]
     },
     "execution_count": 32,
     "metadata": {},
     "output_type": "execute_result"
    }
   ],
   "source": [
    "# rows represent classes, columns represent tokens\n",
    "nb.feature_count_.shape"
   ]
  },
  {
   "cell_type": "code",
   "execution_count": 33,
   "metadata": {
    "colab": {
     "base_uri": "https://localhost:8080/"
    },
    "executionInfo": {
     "elapsed": 2,
     "status": "ok",
     "timestamp": 1647136634299,
     "user": {
      "displayName": "Tom van Nuenen",
      "photoUrl": "https://lh3.googleusercontent.com/a-/AOh14GhuBmxDvW5I_LJfZtwlPqMFD8QGLVPP3skvpkTnuQ=s64",
      "userId": "10012302451096885058"
     },
     "user_tz": 300
    },
    "id": "foPzSHKOZh4K",
    "outputId": "481e4bee-79f6-4946-ab0d-ac7b3e4acb24"
   },
   "outputs": [
    {
     "data": {
      "text/plain": [
       "array([2.12162381, 6.16777836, 0.11496026, ..., 0.        , 0.        ,\n",
       "       0.        ])"
      ]
     },
     "execution_count": 33,
     "metadata": {},
     "output_type": "execute_result"
    }
   ],
   "source": [
    "# number of times each token appears across all ASS posts\n",
    "ass_token_count = nb.feature_count_[0, :]\n",
    "ass_token_count"
   ]
  },
  {
   "cell_type": "code",
   "execution_count": 34,
   "metadata": {
    "colab": {
     "base_uri": "https://localhost:8080/"
    },
    "executionInfo": {
     "elapsed": 3,
     "status": "ok",
     "timestamp": 1647136634686,
     "user": {
      "displayName": "Tom van Nuenen",
      "photoUrl": "https://lh3.googleusercontent.com/a-/AOh14GhuBmxDvW5I_LJfZtwlPqMFD8QGLVPP3skvpkTnuQ=s64",
      "userId": "10012302451096885058"
     },
     "user_tz": 300
    },
    "id": "hx9YFtPNZh4M",
    "outputId": "bbe08337-0ada-404b-91c9-d3648c0e3f02"
   },
   "outputs": [
    {
     "data": {
      "text/plain": [
       "array([ 3.88330601, 10.76264468,  0.        , ...,  0.12255311,\n",
       "        0.06022081,  0.1957391 ])"
      ]
     },
     "execution_count": 34,
     "metadata": {},
     "output_type": "execute_result"
    }
   ],
   "source": [
    "# number of times each token appears across all NOT posts\n",
    "not_token_count = nb.feature_count_[1, :]\n",
    "not_token_count"
   ]
  },
  {
   "cell_type": "markdown",
   "metadata": {
    "id": "fisNTo6RROc1"
   },
   "source": [
    "We can now create a DataFrame of tokens with their separate ASS and NOT counts."
   ]
  },
  {
   "cell_type": "code",
   "execution_count": 35,
   "metadata": {
    "colab": {
     "base_uri": "https://localhost:8080/",
     "height": 394
    },
    "executionInfo": {
     "elapsed": 8,
     "status": "ok",
     "timestamp": 1647136635495,
     "user": {
      "displayName": "Tom van Nuenen",
      "photoUrl": "https://lh3.googleusercontent.com/a-/AOh14GhuBmxDvW5I_LJfZtwlPqMFD8QGLVPP3skvpkTnuQ=s64",
      "userId": "10012302451096885058"
     },
     "user_tz": 300
    },
    "id": "_HhyTR6rZh4Q",
    "outputId": "b90cb87b-7ff0-4107-e4dd-be03efda7f9a",
    "scrolled": true
   },
   "outputs": [
    {
     "data": {
      "text/html": [
       "<div>\n",
       "<style scoped>\n",
       "    .dataframe tbody tr th:only-of-type {\n",
       "        vertical-align: middle;\n",
       "    }\n",
       "\n",
       "    .dataframe tbody tr th {\n",
       "        vertical-align: top;\n",
       "    }\n",
       "\n",
       "    .dataframe thead th {\n",
       "        text-align: right;\n",
       "    }\n",
       "</style>\n",
       "<table border=\"1\" class=\"dataframe\">\n",
       "  <thead>\n",
       "    <tr style=\"text-align: right;\">\n",
       "      <th></th>\n",
       "      <th>ass</th>\n",
       "      <th>not</th>\n",
       "    </tr>\n",
       "    <tr>\n",
       "      <th>token</th>\n",
       "      <th></th>\n",
       "      <th></th>\n",
       "    </tr>\n",
       "  </thead>\n",
       "  <tbody>\n",
       "    <tr>\n",
       "      <th>14ct</th>\n",
       "      <td>0.000000</td>\n",
       "      <td>0.075014</td>\n",
       "    </tr>\n",
       "    <tr>\n",
       "      <th>14er</th>\n",
       "      <td>0.000000</td>\n",
       "      <td>0.195984</td>\n",
       "    </tr>\n",
       "    <tr>\n",
       "      <th>14f</th>\n",
       "      <td>2.143324</td>\n",
       "      <td>2.049230</td>\n",
       "    </tr>\n",
       "    <tr>\n",
       "      <th>14fbrother</th>\n",
       "      <td>0.000000</td>\n",
       "      <td>0.119085</td>\n",
       "    </tr>\n",
       "    <tr>\n",
       "      <th>14i</th>\n",
       "      <td>0.000000</td>\n",
       "      <td>0.115009</td>\n",
       "    </tr>\n",
       "    <tr>\n",
       "      <th>14m</th>\n",
       "      <td>0.000000</td>\n",
       "      <td>0.320997</td>\n",
       "    </tr>\n",
       "    <tr>\n",
       "      <th>14th</th>\n",
       "      <td>0.081493</td>\n",
       "      <td>0.410422</td>\n",
       "    </tr>\n",
       "    <tr>\n",
       "      <th>14y</th>\n",
       "      <td>0.244315</td>\n",
       "      <td>0.113001</td>\n",
       "    </tr>\n",
       "    <tr>\n",
       "      <th>14yo</th>\n",
       "      <td>1.109644</td>\n",
       "      <td>0.537994</td>\n",
       "    </tr>\n",
       "    <tr>\n",
       "      <th>14yrs</th>\n",
       "      <td>0.000000</td>\n",
       "      <td>0.096177</td>\n",
       "    </tr>\n",
       "  </tbody>\n",
       "</table>\n",
       "</div>"
      ],
      "text/plain": [
       "                 ass       not\n",
       "token                         \n",
       "14ct        0.000000  0.075014\n",
       "14er        0.000000  0.195984\n",
       "14f         2.143324  2.049230\n",
       "14fbrother  0.000000  0.119085\n",
       "14i         0.000000  0.115009\n",
       "14m         0.000000  0.320997\n",
       "14th        0.081493  0.410422\n",
       "14y         0.244315  0.113001\n",
       "14yo        1.109644  0.537994\n",
       "14yrs       0.000000  0.096177"
      ]
     },
     "execution_count": 35,
     "metadata": {},
     "output_type": "execute_result"
    }
   ],
   "source": [
    "tokens = pd.DataFrame({'token':X_train_tokens, 'ass':ass_token_count, 'not':not_token_count}).set_index('token')\n",
    "tokens[110:120] # just a random slice"
   ]
  },
  {
   "cell_type": "markdown",
   "metadata": {
    "id": "kwi7-mcsRl6i"
   },
   "source": [
    "Using `.class_count_`, we can count the number of observations in each class"
   ]
  },
  {
   "cell_type": "code",
   "execution_count": 36,
   "metadata": {
    "colab": {
     "base_uri": "https://localhost:8080/"
    },
    "executionInfo": {
     "elapsed": 291,
     "status": "ok",
     "timestamp": 1647136637616,
     "user": {
      "displayName": "Tom van Nuenen",
      "photoUrl": "https://lh3.googleusercontent.com/a-/AOh14GhuBmxDvW5I_LJfZtwlPqMFD8QGLVPP3skvpkTnuQ=s64",
      "userId": "10012302451096885058"
     },
     "user_tz": 300
    },
    "id": "5yTWTl_qZh4V",
    "outputId": "c885663f-5843-4096-e1ef-568d6196dc61",
    "scrolled": true
   },
   "outputs": [
    {
     "data": {
      "text/plain": [
       "array([3142., 4381.])"
      ]
     },
     "execution_count": 36,
     "metadata": {},
     "output_type": "execute_result"
    }
   ],
   "source": [
    "# Naive Bayes counts the number of observations in each class\n",
    "nb.class_count_"
   ]
  },
  {
   "cell_type": "code",
   "execution_count": 37,
   "metadata": {
    "colab": {
     "base_uri": "https://localhost:8080/",
     "height": 237
    },
    "executionInfo": {
     "elapsed": 5,
     "status": "ok",
     "timestamp": 1647136637973,
     "user": {
      "displayName": "Tom van Nuenen",
      "photoUrl": "https://lh3.googleusercontent.com/a-/AOh14GhuBmxDvW5I_LJfZtwlPqMFD8QGLVPP3skvpkTnuQ=s64",
      "userId": "10012302451096885058"
     },
     "user_tz": 300
    },
    "id": "ClI4U7QVZh4Y",
    "outputId": "d4844697-b5b4-480b-dc0e-3f51c77468d6",
    "scrolled": true
   },
   "outputs": [
    {
     "data": {
      "text/html": [
       "<div>\n",
       "<style scoped>\n",
       "    .dataframe tbody tr th:only-of-type {\n",
       "        vertical-align: middle;\n",
       "    }\n",
       "\n",
       "    .dataframe tbody tr th {\n",
       "        vertical-align: top;\n",
       "    }\n",
       "\n",
       "    .dataframe thead th {\n",
       "        text-align: right;\n",
       "    }\n",
       "</style>\n",
       "<table border=\"1\" class=\"dataframe\">\n",
       "  <thead>\n",
       "    <tr style=\"text-align: right;\">\n",
       "      <th></th>\n",
       "      <th>ass</th>\n",
       "      <th>not</th>\n",
       "    </tr>\n",
       "    <tr>\n",
       "      <th>token</th>\n",
       "      <th></th>\n",
       "      <th></th>\n",
       "    </tr>\n",
       "  </thead>\n",
       "  <tbody>\n",
       "    <tr>\n",
       "      <th>floral</th>\n",
       "      <td>1.289091</td>\n",
       "      <td>1.000000</td>\n",
       "    </tr>\n",
       "    <tr>\n",
       "      <th>legumessince</th>\n",
       "      <td>1.000000</td>\n",
       "      <td>1.106742</td>\n",
       "    </tr>\n",
       "    <tr>\n",
       "      <th>names</th>\n",
       "      <td>1.515527</td>\n",
       "      <td>1.000000</td>\n",
       "    </tr>\n",
       "    <tr>\n",
       "      <th>chabge</th>\n",
       "      <td>1.000000</td>\n",
       "      <td>1.257308</td>\n",
       "    </tr>\n",
       "    <tr>\n",
       "      <th>patience</th>\n",
       "      <td>2.377625</td>\n",
       "      <td>2.636335</td>\n",
       "    </tr>\n",
       "  </tbody>\n",
       "</table>\n",
       "</div>"
      ],
      "text/plain": [
       "                   ass       not\n",
       "token                           \n",
       "floral        1.289091  1.000000\n",
       "legumessince  1.000000  1.106742\n",
       "names         1.515527  1.000000\n",
       "chabge        1.000000  1.257308\n",
       "patience      2.377625  2.636335"
      ]
     },
     "execution_count": 37,
     "metadata": {},
     "output_type": "execute_result"
    }
   ],
   "source": [
    "# add 1 to 'ass' and 'not' counts to avoid dividing by 0\n",
    "tokens['ass'] = tokens['ass'] + 1\n",
    "tokens['not'] = tokens['not'] + 1\n",
    "tokens.sample(5, random_state=6)"
   ]
  },
  {
   "cell_type": "code",
   "execution_count": 38,
   "metadata": {
    "colab": {
     "base_uri": "https://localhost:8080/",
     "height": 237
    },
    "executionInfo": {
     "elapsed": 178,
     "status": "ok",
     "timestamp": 1647136640315,
     "user": {
      "displayName": "Tom van Nuenen",
      "photoUrl": "https://lh3.googleusercontent.com/a-/AOh14GhuBmxDvW5I_LJfZtwlPqMFD8QGLVPP3skvpkTnuQ=s64",
      "userId": "10012302451096885058"
     },
     "user_tz": 300
    },
    "id": "VU5nSXh3Zh4b",
    "outputId": "f6914634-9bbc-48d7-902d-7e9396907a02"
   },
   "outputs": [
    {
     "data": {
      "text/html": [
       "<div>\n",
       "<style scoped>\n",
       "    .dataframe tbody tr th:only-of-type {\n",
       "        vertical-align: middle;\n",
       "    }\n",
       "\n",
       "    .dataframe tbody tr th {\n",
       "        vertical-align: top;\n",
       "    }\n",
       "\n",
       "    .dataframe thead th {\n",
       "        text-align: right;\n",
       "    }\n",
       "</style>\n",
       "<table border=\"1\" class=\"dataframe\">\n",
       "  <thead>\n",
       "    <tr style=\"text-align: right;\">\n",
       "      <th></th>\n",
       "      <th>ass</th>\n",
       "      <th>not</th>\n",
       "    </tr>\n",
       "    <tr>\n",
       "      <th>token</th>\n",
       "      <th></th>\n",
       "      <th></th>\n",
       "    </tr>\n",
       "  </thead>\n",
       "  <tbody>\n",
       "    <tr>\n",
       "      <th>floral</th>\n",
       "      <td>0.000410</td>\n",
       "      <td>0.000228</td>\n",
       "    </tr>\n",
       "    <tr>\n",
       "      <th>legumessince</th>\n",
       "      <td>0.000318</td>\n",
       "      <td>0.000253</td>\n",
       "    </tr>\n",
       "    <tr>\n",
       "      <th>names</th>\n",
       "      <td>0.000482</td>\n",
       "      <td>0.000228</td>\n",
       "    </tr>\n",
       "    <tr>\n",
       "      <th>chabge</th>\n",
       "      <td>0.000318</td>\n",
       "      <td>0.000287</td>\n",
       "    </tr>\n",
       "    <tr>\n",
       "      <th>patience</th>\n",
       "      <td>0.000757</td>\n",
       "      <td>0.000602</td>\n",
       "    </tr>\n",
       "  </tbody>\n",
       "</table>\n",
       "</div>"
      ],
      "text/plain": [
       "                   ass       not\n",
       "token                           \n",
       "floral        0.000410  0.000228\n",
       "legumessince  0.000318  0.000253\n",
       "names         0.000482  0.000228\n",
       "chabge        0.000318  0.000287\n",
       "patience      0.000757  0.000602"
      ]
     },
     "execution_count": 38,
     "metadata": {},
     "output_type": "execute_result"
    }
   ],
   "source": [
    "# convert the 'ass' and 'not' counts into frequencies\n",
    "tokens['ass'] = tokens['ass'] / nb.class_count_[0]\n",
    "tokens['not'] = tokens['not'] / nb.class_count_[1]\n",
    "tokens.sample(5, random_state=6)"
   ]
  },
  {
   "cell_type": "code",
   "execution_count": 39,
   "metadata": {
    "colab": {
     "base_uri": "https://localhost:8080/",
     "height": 237
    },
    "executionInfo": {
     "elapsed": 3,
     "status": "ok",
     "timestamp": 1647136640463,
     "user": {
      "displayName": "Tom van Nuenen",
      "photoUrl": "https://lh3.googleusercontent.com/a-/AOh14GhuBmxDvW5I_LJfZtwlPqMFD8QGLVPP3skvpkTnuQ=s64",
      "userId": "10012302451096885058"
     },
     "user_tz": 300
    },
    "id": "GIVy9xmUZh4e",
    "outputId": "8b98bd68-8f60-41bd-d0f3-4551c204dfe8"
   },
   "outputs": [
    {
     "data": {
      "text/html": [
       "<div>\n",
       "<style scoped>\n",
       "    .dataframe tbody tr th:only-of-type {\n",
       "        vertical-align: middle;\n",
       "    }\n",
       "\n",
       "    .dataframe tbody tr th {\n",
       "        vertical-align: top;\n",
       "    }\n",
       "\n",
       "    .dataframe thead th {\n",
       "        text-align: right;\n",
       "    }\n",
       "</style>\n",
       "<table border=\"1\" class=\"dataframe\">\n",
       "  <thead>\n",
       "    <tr style=\"text-align: right;\">\n",
       "      <th></th>\n",
       "      <th>ass</th>\n",
       "      <th>not</th>\n",
       "      <th>ass_ratio</th>\n",
       "    </tr>\n",
       "    <tr>\n",
       "      <th>token</th>\n",
       "      <th></th>\n",
       "      <th></th>\n",
       "      <th></th>\n",
       "    </tr>\n",
       "  </thead>\n",
       "  <tbody>\n",
       "    <tr>\n",
       "      <th>floral</th>\n",
       "      <td>0.000410</td>\n",
       "      <td>0.000228</td>\n",
       "      <td>1.797424</td>\n",
       "    </tr>\n",
       "    <tr>\n",
       "      <th>legumessince</th>\n",
       "      <td>0.000318</td>\n",
       "      <td>0.000253</td>\n",
       "      <td>1.259855</td>\n",
       "    </tr>\n",
       "    <tr>\n",
       "      <th>names</th>\n",
       "      <td>0.000482</td>\n",
       "      <td>0.000228</td>\n",
       "      <td>2.113152</td>\n",
       "    </tr>\n",
       "    <tr>\n",
       "      <th>chabge</th>\n",
       "      <td>0.000318</td>\n",
       "      <td>0.000287</td>\n",
       "      <td>1.108984</td>\n",
       "    </tr>\n",
       "    <tr>\n",
       "      <th>patience</th>\n",
       "      <td>0.000757</td>\n",
       "      <td>0.000602</td>\n",
       "      <td>1.257505</td>\n",
       "    </tr>\n",
       "  </tbody>\n",
       "</table>\n",
       "</div>"
      ],
      "text/plain": [
       "                   ass       not  ass_ratio\n",
       "token                                      \n",
       "floral        0.000410  0.000228   1.797424\n",
       "legumessince  0.000318  0.000253   1.259855\n",
       "names         0.000482  0.000228   2.113152\n",
       "chabge        0.000318  0.000287   1.108984\n",
       "patience      0.000757  0.000602   1.257505"
      ]
     },
     "execution_count": 39,
     "metadata": {},
     "output_type": "execute_result"
    }
   ],
   "source": [
    "# calculate the ratio of ass-to-not for each token\n",
    "tokens['ass_ratio'] = tokens['ass'] / tokens['not']\n",
    "tokens.sample(5, random_state=6)"
   ]
  },
  {
   "cell_type": "markdown",
   "metadata": {
    "id": "nH8mWcAnR9sf"
   },
   "source": [
    "Finally, we can examine the DataFrame sorted by ass_ratio. These are the words, according to our classifier, that are the most typical of \"assholeish\" posts. A well-working classifier would yield interesting info here on how telling each word is for being considered an asshole by the community. But then again, creating such a classifier is not a trivial matter.  \n"
   ]
  },
  {
   "cell_type": "code",
   "execution_count": 40,
   "metadata": {
    "colab": {
     "base_uri": "https://localhost:8080/",
     "height": 394
    },
    "executionInfo": {
     "elapsed": 250,
     "status": "ok",
     "timestamp": 1647136644574,
     "user": {
      "displayName": "Tom van Nuenen",
      "photoUrl": "https://lh3.googleusercontent.com/a-/AOh14GhuBmxDvW5I_LJfZtwlPqMFD8QGLVPP3skvpkTnuQ=s64",
      "userId": "10012302451096885058"
     },
     "user_tz": 300
    },
    "id": "YO7FYCGHZh4h",
    "outputId": "aa7484a1-2dad-4691-b55e-6b442aa0598b"
   },
   "outputs": [
    {
     "data": {
      "text/html": [
       "<div>\n",
       "<style scoped>\n",
       "    .dataframe tbody tr th:only-of-type {\n",
       "        vertical-align: middle;\n",
       "    }\n",
       "\n",
       "    .dataframe tbody tr th {\n",
       "        vertical-align: top;\n",
       "    }\n",
       "\n",
       "    .dataframe thead th {\n",
       "        text-align: right;\n",
       "    }\n",
       "</style>\n",
       "<table border=\"1\" class=\"dataframe\">\n",
       "  <thead>\n",
       "    <tr style=\"text-align: right;\">\n",
       "      <th></th>\n",
       "      <th>ass</th>\n",
       "      <th>not</th>\n",
       "      <th>ass_ratio</th>\n",
       "    </tr>\n",
       "    <tr>\n",
       "      <th>token</th>\n",
       "      <th></th>\n",
       "      <th></th>\n",
       "      <th></th>\n",
       "    </tr>\n",
       "  </thead>\n",
       "  <tbody>\n",
       "    <tr>\n",
       "      <th>taylor</th>\n",
       "      <td>0.001073</td>\n",
       "      <td>0.000228</td>\n",
       "      <td>4.702777</td>\n",
       "    </tr>\n",
       "    <tr>\n",
       "      <th>erin</th>\n",
       "      <td>0.000951</td>\n",
       "      <td>0.000228</td>\n",
       "      <td>4.166537</td>\n",
       "    </tr>\n",
       "    <tr>\n",
       "      <th>sabrina</th>\n",
       "      <td>0.000918</td>\n",
       "      <td>0.000228</td>\n",
       "      <td>4.023814</td>\n",
       "    </tr>\n",
       "    <tr>\n",
       "      <th>honk</th>\n",
       "      <td>0.001098</td>\n",
       "      <td>0.000290</td>\n",
       "      <td>3.791639</td>\n",
       "    </tr>\n",
       "    <tr>\n",
       "      <th>beth</th>\n",
       "      <td>0.001409</td>\n",
       "      <td>0.000385</td>\n",
       "      <td>3.661614</td>\n",
       "    </tr>\n",
       "    <tr>\n",
       "      <th>alyssa</th>\n",
       "      <td>0.000819</td>\n",
       "      <td>0.000228</td>\n",
       "      <td>3.589107</td>\n",
       "    </tr>\n",
       "    <tr>\n",
       "      <th>shrimp</th>\n",
       "      <td>0.001188</td>\n",
       "      <td>0.000349</td>\n",
       "      <td>3.402469</td>\n",
       "    </tr>\n",
       "    <tr>\n",
       "      <th>mikey</th>\n",
       "      <td>0.000756</td>\n",
       "      <td>0.000228</td>\n",
       "      <td>3.311161</td>\n",
       "    </tr>\n",
       "    <tr>\n",
       "      <th>harry</th>\n",
       "      <td>0.000750</td>\n",
       "      <td>0.000228</td>\n",
       "      <td>3.284590</td>\n",
       "    </tr>\n",
       "    <tr>\n",
       "      <th>amelia</th>\n",
       "      <td>0.000736</td>\n",
       "      <td>0.000228</td>\n",
       "      <td>3.226358</td>\n",
       "    </tr>\n",
       "  </tbody>\n",
       "</table>\n",
       "</div>"
      ],
      "text/plain": [
       "              ass       not  ass_ratio\n",
       "token                                 \n",
       "taylor   0.001073  0.000228   4.702777\n",
       "erin     0.000951  0.000228   4.166537\n",
       "sabrina  0.000918  0.000228   4.023814\n",
       "honk     0.001098  0.000290   3.791639\n",
       "beth     0.001409  0.000385   3.661614\n",
       "alyssa   0.000819  0.000228   3.589107\n",
       "shrimp   0.001188  0.000349   3.402469\n",
       "mikey    0.000756  0.000228   3.311161\n",
       "harry    0.000750  0.000228   3.284590\n",
       "amelia   0.000736  0.000228   3.226358"
      ]
     },
     "execution_count": 40,
     "metadata": {},
     "output_type": "execute_result"
    }
   ],
   "source": [
    "# note: use sort() instead of sort_values() for pandas 0.16.2 and earlier\n",
    "tokens.sort_values('ass_ratio', ascending=False)[:10]"
   ]
  },
  {
   "cell_type": "code",
   "execution_count": 41,
   "metadata": {
    "colab": {
     "base_uri": "https://localhost:8080/"
    },
    "executionInfo": {
     "elapsed": 254,
     "status": "ok",
     "timestamp": 1647136657234,
     "user": {
      "displayName": "Tom van Nuenen",
      "photoUrl": "https://lh3.googleusercontent.com/a-/AOh14GhuBmxDvW5I_LJfZtwlPqMFD8QGLVPP3skvpkTnuQ=s64",
      "userId": "10012302451096885058"
     },
     "user_tz": 300
    },
    "id": "dFAf18XCZh4j",
    "outputId": "bc8f4f3d-b274-4903-e0cc-1f954ca967ae"
   },
   "outputs": [
    {
     "data": {
      "text/plain": [
       "1.2218982234162412"
      ]
     },
     "execution_count": 41,
     "metadata": {},
     "output_type": "execute_result"
    }
   ],
   "source": [
    "# look up the not_ratio for a given token\n",
    "tokens.loc['beard', 'ass_ratio']"
   ]
  },
  {
   "cell_type": "markdown",
   "metadata": {
    "id": "SiQuWUN9Zh4l"
   },
   "source": [
    "Looks like the word 'beard' occurs 3 as often for people who are classified as assholes (according to our very imprecise classifier at least). With a precise classifier, this would be a very interesting result!"
   ]
  },
  {
   "cell_type": "markdown",
   "metadata": {
    "id": "wH_tIIPyZh4m"
   },
   "source": [
    "### Looking at other classes\n",
    "\n",
    "We've trained for 2 classes now (asshole and non-asshole), but the posts in this subreddit (as well as many others) actually have more labels, called **flair**. We can find them here under the `flair_text` category."
   ]
  },
  {
   "cell_type": "code",
   "execution_count": 42,
   "metadata": {
    "colab": {
     "base_uri": "https://localhost:8080/"
    },
    "executionInfo": {
     "elapsed": 235,
     "status": "ok",
     "timestamp": 1647136671676,
     "user": {
      "displayName": "Tom van Nuenen",
      "photoUrl": "https://lh3.googleusercontent.com/a-/AOh14GhuBmxDvW5I_LJfZtwlPqMFD8QGLVPP3skvpkTnuQ=s64",
      "userId": "10012302451096885058"
     },
     "user_tz": 300
    },
    "id": "zlfcXlTSZh4m",
    "outputId": "0df02942-41db-4400-927e-3f003aa29ac4",
    "scrolled": true
   },
   "outputs": [
    {
     "data": {
      "text/plain": [
       "array(['asshole', 'Asshole', 'Everyone Sucks', 'OP Banned - Rule 3',\n",
       "       'Probably Fake', 'Probably a Fake Story',\n",
       "       'Fake story/Everyone Sucks', 'asshole (Kinda)',\n",
       "       'justified asshole', 'Asshole (maybe justified?)',\n",
       "       'Record Setting Asshole', 'Not the A-hole', 'No A-holes here',\n",
       "       'probably fake', 'not the a-hole', 'weeabo h8r', 'Pobably Fake'],\n",
       "      dtype=object)"
      ]
     },
     "execution_count": 42,
     "metadata": {},
     "output_type": "execute_result"
    }
   ],
   "source": [
    "df.flair_text.unique()[:100]"
   ]
  },
  {
   "cell_type": "markdown",
   "metadata": {
    "id": "M2Qt_PAJZh4p"
   },
   "source": [
    "Quite a lot of categories, turns out. Let's see what the most-frequent categories are, as well as their counts:"
   ]
  },
  {
   "cell_type": "code",
   "execution_count": 43,
   "metadata": {
    "colab": {
     "base_uri": "https://localhost:8080/"
    },
    "executionInfo": {
     "elapsed": 227,
     "status": "ok",
     "timestamp": 1647136673449,
     "user": {
      "displayName": "Tom van Nuenen",
      "photoUrl": "https://lh3.googleusercontent.com/a-/AOh14GhuBmxDvW5I_LJfZtwlPqMFD8QGLVPP3skvpkTnuQ=s64",
      "userId": "10012302451096885058"
     },
     "user_tz": 300
    },
    "id": "Bx1jHEb1Zh4p",
    "outputId": "f4c54a67-accb-4218-ca18-5c785800e7d5",
    "scrolled": true
   },
   "outputs": [
    {
     "data": {
      "text/plain": [
       "Not the A-hole                5105\n",
       "Asshole                       3246\n",
       "Everyone Sucks                 646\n",
       "No A-holes here                382\n",
       "not the a-hole                   8\n",
       "asshole                          4\n",
       "Probably Fake                    3\n",
       "Record Setting Asshole           1\n",
       "weeabo h8r                       1\n",
       "probably fake                    1\n",
       "justified asshole                1\n",
       "Asshole (maybe justified?)       1\n",
       "asshole (Kinda)                  1\n",
       "Fake story/Everyone Sucks        1\n",
       "Probably a Fake Story            1\n",
       "OP Banned - Rule 3               1\n",
       "Pobably Fake                     1\n",
       "Name: flair_text, dtype: int64"
      ]
     },
     "execution_count": 43,
     "metadata": {},
     "output_type": "execute_result"
    }
   ],
   "source": [
    "df['flair_text'].value_counts()"
   ]
  },
  {
   "cell_type": "markdown",
   "metadata": {
    "id": "pD3Dlhs6Zh4s"
   },
   "source": [
    "## What to do next\n",
    "\n",
    "As you can see, there are a bunch of categories, particularly \"Everyone Sucks\" and \"No A-holes here\", which we could work with as well. The point is that as long as you can find categorical variables in your data, you can use them in a classification context. Learning to see these opportunities is part of becoming a data scientist. Of course, as we discussed in the notebooks on Word Embeddings and language bias, you will also realize that classification itself can be the problem."
   ]
  }
 ],
 "metadata": {
  "colab": {
   "collapsed_sections": [
    "_tAYGMaxZh37",
    "JLFyNfiSZh5M"
   ],
   "name": "Week 5-1 Naive Bayes Classification.ipynb",
   "provenance": []
  },
  "kernelspec": {
   "display_name": "Python 3",
   "language": "python",
   "name": "python3"
  },
  "language_info": {
   "codemirror_mode": {
    "name": "ipython",
    "version": 3
   },
   "file_extension": ".py",
   "mimetype": "text/x-python",
   "name": "python",
   "nbconvert_exporter": "python",
   "pygments_lexer": "ipython3",
   "version": "3.8.5"
  }
 },
 "nbformat": 4,
 "nbformat_minor": 4
}
