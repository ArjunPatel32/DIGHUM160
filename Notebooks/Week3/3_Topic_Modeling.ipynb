{
 "cells": [
  {
   "cell_type": "markdown",
   "metadata": {
    "id": "yPgJH0CIZWyQ"
   },
   "source": [
    "<img src=\"../../Img/backdrop-wh.png\" alt=\"Drawing\" style=\"width: 300px;\"/>\n",
    "\n",
    "DIGHUM160 - Critical Digital Humanities<br>\n",
    "Digital Hermeneutics<br>\n",
    "Week 3: Topic Modeling <br>\n",
    "Created by Tom van Nuenen (tom.van_nuenen@kcl.ac.uk)"
   ]
  },
  {
   "cell_type": "code",
   "execution_count": 1,
   "metadata": {},
   "outputs": [
    {
     "data": {
      "image/jpeg": "[encoded data removed]",
      "text/html": [
       "\n",
       "        <iframe\n",
       "            width=\"640\"\n",
       "            height=\"360\"\n",
       "            src=\"https://www.youtube.com/embed/ka8k32dszuY\"\n",
       "            frameborder=\"0\"\n",
       "            allowfullscreen\n",
       "            \n",
       "        ></iframe>\n",
       "        "
      ],
      "text/plain": [
       "<IPython.lib.display.YouTubeVideo at 0x7fc7683fd0d0>"
      ]
     },
     "execution_count": 1,
     "metadata": {},
     "output_type": "execute_result"
    }
   ],
   "source": [
    "# Please run this cell for the accompanying video.\n",
    "from IPython.display import YouTubeVideo\n",
    "YouTubeVideo('ka8k32dszuY', width=640, height=360)"
   ]
  },
  {
   "cell_type": "code",
   "execution_count": 1,
   "metadata": {},
   "outputs": [],
   "source": [
    "!pwd"
   ]
  },
  {
   "cell_type": "markdown",
   "metadata": {},
   "source": [
    "Run the following cell to add progress bars to all of the longer running operations in this notebook (thanks to [@akash329d](https://github.com/akash329d)). You might need to install `rich` first (uncomment the first line)."
   ]
  },
  {
   "cell_type": "code",
   "execution_count": 2,
   "metadata": {},
   "outputs": [],
   "source": [
    "#!pip install rich\n",
    "%run ../../Lib/progress.py\n",
    "import warnings\n",
    "# Ignore pyLDAvis warnings so progress bar works.\n",
    "warnings.filterwarnings(\"ignore\")"
   ]
  },
  {
   "cell_type": "markdown",
   "metadata": {
    "id": "m6EAS2bBZWyR"
   },
   "source": [
    "# Topic modeling\n",
    "\n",
    "This notebook introduces topic modeling. Topic modeling is a type of statistical modeling for the discovery of abstract \"topics\" that occur in a collection of documents. It is frequently used in NLP to aid the discovery of hidden semantic structures in a collection of texts.\n",
    "\n",
    "Before you start, please read [this post](https://tomvannuenen.medium.com/analyzing-reddit-communities-with-python-part-5-topic-modeling-a5b0d119add) for an explainer of how topic modeling (and LDA, which is just one form of topic modeling) works.\n",
    "\n",
    "We'll use the `Gensim` package to create our topic models, which also allows us to run tests to optimize our topic amount.\n",
    "\n",
    "After reading this notebook, you'll be able to:\n",
    "\n",
    "1. Use gensim to create topic models;\n",
    "2. Explore the topic models using `PyLDAvis`;\n",
    "3. Evaluate and improve topic models using several methods;\n",
    "4. Give names to topics, and use them to classify text.\n"
   ]
  },
  {
   "cell_type": "markdown",
   "metadata": {
    "id": "ib68CU9JeGgc"
   },
   "source": [
    "## Loading the data"
   ]
  },
  {
   "cell_type": "code",
   "execution_count": 3,
   "metadata": {},
   "outputs": [
    {
     "data": {
      "text/plain": [
       "'/Users/tomvannuenen/Documents/GitHub/DIGHUM160/Notebooks/Week3'"
      ]
     },
     "execution_count": 3,
     "metadata": {},
     "output_type": "execute_result"
    }
   ],
   "source": [
    "import os\n",
    "os.getcwd()"
   ]
  },
  {
   "cell_type": "code",
   "execution_count": 4,
   "metadata": {
    "id": "hrvXJsJoerlm"
   },
   "outputs": [],
   "source": [
    "# We include two ../ because we want to go two levels up in the file structure\n",
    "os.chdir(\"../../Data\")"
   ]
  },
  {
   "cell_type": "code",
   "execution_count": 5,
   "metadata": {
    "colab": {
     "base_uri": "https://localhost:8080/"
    },
    "executionInfo": {
     "elapsed": 2574,
     "status": "ok",
     "timestamp": 1639939141559,
     "user": {
      "displayName": "Tom van Nuenen",
      "photoUrl": "https://lh3.googleusercontent.com/a-/AOh14GhuBmxDvW5I_LJfZtwlPqMFD8QGLVPP3skvpkTnuQ=s64",
      "userId": "10012302451096885058"
     },
     "user_tz": -60
    },
    "id": "jlWzV3rveIdK",
    "outputId": "f6f0d10b-b6ff-4236-aaa4-6ec1cc29e980"
   },
   "outputs": [],
   "source": [
    "import pandas as pd\n",
    "\n",
    "df = pd.read_csv('aita_sub_top_sm_lemmas.csv')"
   ]
  },
  {
   "cell_type": "code",
   "execution_count": 6,
   "metadata": {
    "colab": {
     "base_uri": "https://localhost:8080/",
     "height": 520
    },
    "executionInfo": {
     "elapsed": 313,
     "status": "ok",
     "timestamp": 1639924447761,
     "user": {
      "displayName": "Tom van Nuenen",
      "photoUrl": "https://lh3.googleusercontent.com/a-/AOh14GhuBmxDvW5I_LJfZtwlPqMFD8QGLVPP3skvpkTnuQ=s64",
      "userId": "10012302451096885058"
     },
     "user_tz": -60
    },
    "id": "dkpQ_rR7HSyV",
    "outputId": "027347ac-5e0b-4d61-9a35-cd00c277ff77"
   },
   "outputs": [
    {
     "data": {
      "text/html": [
       "<div>\n",
       "<style scoped>\n",
       "    .dataframe tbody tr th:only-of-type {\n",
       "        vertical-align: middle;\n",
       "    }\n",
       "\n",
       "    .dataframe tbody tr th {\n",
       "        vertical-align: top;\n",
       "    }\n",
       "\n",
       "    .dataframe thead th {\n",
       "        text-align: right;\n",
       "    }\n",
       "</style>\n",
       "<table border=\"1\" class=\"dataframe\">\n",
       "  <thead>\n",
       "    <tr style=\"text-align: right;\">\n",
       "      <th></th>\n",
       "      <th>idint</th>\n",
       "      <th>idstr</th>\n",
       "      <th>created</th>\n",
       "      <th>nsfw</th>\n",
       "      <th>author</th>\n",
       "      <th>title</th>\n",
       "      <th>selftext</th>\n",
       "      <th>lemmas</th>\n",
       "      <th>score</th>\n",
       "      <th>distinguish</th>\n",
       "      <th>textlen</th>\n",
       "      <th>num_comments</th>\n",
       "      <th>flair_text</th>\n",
       "      <th>flair_css_class</th>\n",
       "    </tr>\n",
       "  </thead>\n",
       "  <tbody>\n",
       "    <tr>\n",
       "      <th>0</th>\n",
       "      <td>427576402</td>\n",
       "      <td>t3_72kg2a</td>\n",
       "      <td>1506433689</td>\n",
       "      <td>0.0</td>\n",
       "      <td>Ritsku</td>\n",
       "      <td>AITA for breaking up with my girlfriend becaus...</td>\n",
       "      <td>My girlfriend recently went to the beach with ...</td>\n",
       "      <td>girlfriend recently beach friend tiny bikini b...</td>\n",
       "      <td>679.0</td>\n",
       "      <td>NaN</td>\n",
       "      <td>4917.0</td>\n",
       "      <td>434.0</td>\n",
       "      <td>no a--holes here</td>\n",
       "      <td>NaN</td>\n",
       "    </tr>\n",
       "    <tr>\n",
       "      <th>1</th>\n",
       "      <td>551887974</td>\n",
       "      <td>t3_94kvhi</td>\n",
       "      <td>1533404095</td>\n",
       "      <td>0.0</td>\n",
       "      <td>hhhhhhffff678</td>\n",
       "      <td>AITA for banning smoking in my house and telli...</td>\n",
       "      <td>My parents smoke like chimneys. I used to as w...</td>\n",
       "      <td>parent smoke like chimney use quit wife young ...</td>\n",
       "      <td>832.0</td>\n",
       "      <td>NaN</td>\n",
       "      <td>2076.0</td>\n",
       "      <td>357.0</td>\n",
       "      <td>asshole</td>\n",
       "      <td>ass</td>\n",
       "    </tr>\n",
       "    <tr>\n",
       "      <th>2</th>\n",
       "      <td>552654542</td>\n",
       "      <td>t3_951az2</td>\n",
       "      <td>1533562299</td>\n",
       "      <td>0.0</td>\n",
       "      <td>creepatthepool</td>\n",
       "      <td>AITA? Creep wears skimpy bathing suit to pool</td>\n",
       "      <td>Hi guys. Throwaway for obv reasons.\\n\\nI'm a f...</td>\n",
       "      <td>hi guy throwaway obv reason i'm female child b...</td>\n",
       "      <td>23.0</td>\n",
       "      <td>NaN</td>\n",
       "      <td>1741.0</td>\n",
       "      <td>335.0</td>\n",
       "      <td>Shitpost</td>\n",
       "      <td>NaN</td>\n",
       "    </tr>\n",
       "  </tbody>\n",
       "</table>\n",
       "</div>"
      ],
      "text/plain": [
       "       idint      idstr     created  nsfw          author  \\\n",
       "0  427576402  t3_72kg2a  1506433689   0.0          Ritsku   \n",
       "1  551887974  t3_94kvhi  1533404095   0.0   hhhhhhffff678   \n",
       "2  552654542  t3_951az2  1533562299   0.0  creepatthepool   \n",
       "\n",
       "                                               title  \\\n",
       "0  AITA for breaking up with my girlfriend becaus...   \n",
       "1  AITA for banning smoking in my house and telli...   \n",
       "2      AITA? Creep wears skimpy bathing suit to pool   \n",
       "\n",
       "                                            selftext  \\\n",
       "0  My girlfriend recently went to the beach with ...   \n",
       "1  My parents smoke like chimneys. I used to as w...   \n",
       "2  Hi guys. Throwaway for obv reasons.\\n\\nI'm a f...   \n",
       "\n",
       "                                              lemmas  score distinguish  \\\n",
       "0  girlfriend recently beach friend tiny bikini b...  679.0         NaN   \n",
       "1  parent smoke like chimney use quit wife young ...  832.0         NaN   \n",
       "2  hi guy throwaway obv reason i'm female child b...   23.0         NaN   \n",
       "\n",
       "   textlen  num_comments        flair_text flair_css_class  \n",
       "0   4917.0         434.0  no a--holes here             NaN  \n",
       "1   2076.0         357.0           asshole             ass  \n",
       "2   1741.0         335.0          Shitpost             NaN  "
      ]
     },
     "execution_count": 6,
     "metadata": {},
     "output_type": "execute_result"
    }
   ],
   "source": [
    "df.head(3)"
   ]
  },
  {
   "cell_type": "markdown",
   "metadata": {},
   "source": [
    "Let's split up the lemmas--we need them tokenized to use in out topic model. All we need to do is run `.split()` on our \"lemmas\" column to tokenize the data again."
   ]
  },
  {
   "cell_type": "code",
   "execution_count": 7,
   "metadata": {
    "id": "JitcKXJqffVc"
   },
   "outputs": [
    {
     "data": {
      "text/html": [
       "<pre style=\"white-space:pre;overflow-x:auto;line-height:normal;font-family:Menlo,'DejaVu Sans Mono',consolas,'Courier New',monospace\">   <span style=\"color: #729c1f; text-decoration-color: #729c1f\">━━━━━━━━━━━━━━━━━━━━━━━━━━━━━━━━━━━━━━━━</span> <span style=\"color: #800080; text-decoration-color: #800080\">100%</span> <span style=\"color: #008000; text-decoration-color: #008000\">16310/16310</span> <span style=\"color: #808000; text-decoration-color: #808000\">0:00:00</span>\n",
       "</pre>\n"
      ],
      "text/plain": [
       "   \u001b[38;2;114;156;31m━━━━━━━━━━━━━━━━━━━━━━━━━━━━━━━━━━━━━━━━\u001b[0m \u001b[35m100%\u001b[0m \u001b[32m16310/16310\u001b[0m \u001b[33m0:00:00\u001b[0m\n"
      ]
     },
     "metadata": {},
     "output_type": "display_data"
    },
    {
     "data": {
      "text/html": [
       "<pre style=\"white-space:pre;overflow-x:auto;line-height:normal;font-family:Menlo,'DejaVu Sans Mono',consolas,'Courier New',monospace\"></pre>\n"
      ],
      "text/plain": []
     },
     "metadata": {},
     "output_type": "display_data"
    },
    {
     "data": {
      "text/html": [
       "<pre style=\"white-space:pre;overflow-x:auto;line-height:normal;font-family:Menlo,'DejaVu Sans Mono',consolas,'Courier New',monospace\">\n",
       "</pre>\n"
      ],
      "text/plain": [
       "\n"
      ]
     },
     "metadata": {},
     "output_type": "display_data"
    }
   ],
   "source": [
    "lemmas_split = [lemma.split() for lemma in ProgressDisplay(df['lemmas'])]"
   ]
  },
  {
   "cell_type": "code",
   "execution_count": 8,
   "metadata": {
    "colab": {
     "base_uri": "https://localhost:8080/",
     "height": 123
    },
    "executionInfo": {
     "elapsed": 12,
     "status": "ok",
     "timestamp": 1639908506458,
     "user": {
      "displayName": "Tom van Nuenen",
      "photoUrl": "https://lh3.googleusercontent.com/a-/AOh14GhuBmxDvW5I_LJfZtwlPqMFD8QGLVPP3skvpkTnuQ=s64",
      "userId": "10012302451096885058"
     },
     "user_tz": -60
    },
    "id": "BBoCdE99fo61",
    "outputId": "881ec95c-f21a-4d8f-87fc-eb10642118ed"
   },
   "outputs": [
    {
     "data": {
      "text/plain": [
       "['girlfriend',\n",
       " 'recently',\n",
       " 'beach',\n",
       " 'friend',\n",
       " 'tiny',\n",
       " 'bikini',\n",
       " 'basically',\n",
       " 'thong',\n",
       " 'hate',\n",
       " 'wear']"
      ]
     },
     "execution_count": 8,
     "metadata": {},
     "output_type": "execute_result"
    }
   ],
   "source": [
    "lemmas_split[0][:10]"
   ]
  },
  {
   "cell_type": "markdown",
   "metadata": {
    "id": "BNmgAQEoZWzx"
   },
   "source": [
    "## Creating a `Dictionary` with Gensim\n",
    "\n",
    "Now, let's create our gensim dictionary - a mapping of each word to a unique id – a Document-Term matrix – much like the `CountVectorizer` we saw last week. We'll use gensim's `Dictionary` class for this."
   ]
  },
  {
   "cell_type": "code",
   "execution_count": 11,
   "metadata": {
    "id": "v5U9p6rrZWzy"
   },
   "outputs": [
    {
     "data": {
      "text/html": [
       "<pre style=\"white-space:pre;overflow-x:auto;line-height:normal;font-family:Menlo,'DejaVu Sans Mono',consolas,'Courier New',monospace\">  <span style=\"color: #000080; text-decoration-color: #000080; font-weight: bold\">Create Dictionary-Term Matrix</span> <span style=\"color: #729c1f; text-decoration-color: #729c1f\">━━━━━━━━━━━━━━━━━━━━━━━━━━━━━━━━━━━━━━━━</span> <span style=\"color: #800080; text-decoration-color: #800080\">100%</span> <span style=\"color: #008000; text-decoration-color: #008000\">16310/16310</span> <span style=\"color: #808000; text-decoration-color: #808000\">0:00:00</span>\n",
       "</pre>\n"
      ],
      "text/plain": [
       "  \u001b[1;34mCreate Dictionary-Term Matrix\u001b[0m \u001b[38;2;114;156;31m━━━━━━━━━━━━━━━━━━━━━━━━━━━━━━━━━━━━━━━━\u001b[0m \u001b[35m100%\u001b[0m \u001b[32m16310/16310\u001b[0m \u001b[33m0:00:00\u001b[0m\n"
      ]
     },
     "metadata": {},
     "output_type": "display_data"
    },
    {
     "data": {
      "text/html": [
       "<pre style=\"white-space:pre;overflow-x:auto;line-height:normal;font-family:Menlo,'DejaVu Sans Mono',consolas,'Courier New',monospace\"></pre>\n"
      ],
      "text/plain": []
     },
     "metadata": {},
     "output_type": "display_data"
    },
    {
     "data": {
      "text/html": [
       "<pre style=\"white-space:pre;overflow-x:auto;line-height:normal;font-family:Menlo,'DejaVu Sans Mono',consolas,'Courier New',monospace\">\n",
       "</pre>\n"
      ],
      "text/plain": [
       "\n"
      ]
     },
     "metadata": {},
     "output_type": "display_data"
    }
   ],
   "source": [
    "from gensim import corpora, models, similarities\n",
    "from gensim.models.coherencemodel import CoherenceModel\n",
    "\n",
    "# Create Dictionary \n",
    "dictionary = corpora.Dictionary(ProgressDisplay(lemmas_split, msg=\"Create Dictionary\"))\n",
    "\n",
    "# filter extremes and assign new ids\n",
    "dictionary.filter_extremes(no_below=10, no_above=0.4)\n",
    "dictionary.compactify() \n",
    "\n",
    "# SAVE DICT\n",
    "dictionary.save('aita_lda.dict')\n",
    "\n",
    "# Create Document-Term Matrix of our whole corpus \n",
    "corpus = [dictionary.doc2bow(text) for text in ProgressDisplay(lemmas_split, msg=\"Create Dictionary-Term Matrix\")]\n"
   ]
  },
  {
   "cell_type": "markdown",
   "metadata": {
    "id": "8U9L6iKDe22R"
   },
   "source": [
    "Topic modeling uses a simplifying assumption known as the bag-of-words model. In the bag-of-words model, a document is represented by the counts of distinct terms that occur within it. Additional information, such as word order, is discarded.\n",
    "\n",
    "Let's view some of the corpus we have now:"
   ]
  },
  {
   "cell_type": "code",
   "execution_count": 12,
   "metadata": {
    "colab": {
     "base_uri": "https://localhost:8080/"
    },
    "executionInfo": {
     "elapsed": 172,
     "status": "ok",
     "timestamp": 1639858040767,
     "user": {
      "displayName": "Tom van Nuenen",
      "photoUrl": "https://lh3.googleusercontent.com/a-/AOh14GhuBmxDvW5I_LJfZtwlPqMFD8QGLVPP3skvpkTnuQ=s64",
      "userId": "10012302451096885058"
     },
     "user_tz": -60
    },
    "id": "1137g7AVdZDG",
    "outputId": "c5bc67b6-c8b9-4e42-ae44-cf9742c9485e"
   },
   "outputs": [
    {
     "data": {
      "text/plain": [
       "[(0, 1),\n",
       " (1, 1),\n",
       " (2, 2),\n",
       " (3, 1),\n",
       " (4, 1),\n",
       " (5, 1),\n",
       " (6, 5),\n",
       " (7, 1),\n",
       " (8, 1),\n",
       " (9, 1)]"
      ]
     },
     "execution_count": 12,
     "metadata": {},
     "output_type": "execute_result"
    }
   ],
   "source": [
    "corpus[0][:10]"
   ]
  },
  {
   "cell_type": "markdown",
   "metadata": {
    "id": "eXRXTfMgZW0A"
   },
   "source": [
    "Observe the first 10 tuples above. Each consists of words with a unique id. This a mapping of (word_id, word_frequency). For example, (0, 1) above demonstrates that word id 0 occurs once in the first document. Word id 5 occurs 4 times, and so on. This is used as the input by the LDA model.\n",
    "\n",
    "If you want to see what word a given id corresponds to, pass the id as a key to the dictionary."
   ]
  },
  {
   "cell_type": "code",
   "execution_count": 13,
   "metadata": {
    "colab": {
     "base_uri": "https://localhost:8080/",
     "height": 35
    },
    "executionInfo": {
     "elapsed": 357,
     "status": "ok",
     "timestamp": 1639822605042,
     "user": {
      "displayName": "Tom van Nuenen",
      "photoUrl": "https://lh3.googleusercontent.com/a-/AOh14GhuBmxDvW5I_LJfZtwlPqMFD8QGLVPP3skvpkTnuQ=s64",
      "userId": "10012302451096885058"
     },
     "user_tz": -60
    },
    "id": "0pKC0MBiZW0A",
    "outputId": "d65a3087-d363-4614-d561-16f65bd6f267"
   },
   "outputs": [
    {
     "data": {
      "text/plain": [
       "'add'"
      ]
     },
     "execution_count": 13,
     "metadata": {},
     "output_type": "execute_result"
    }
   ],
   "source": [
    "dictionary[0]"
   ]
  },
  {
   "cell_type": "markdown",
   "metadata": {
    "id": "QNr34ffPZW0D"
   },
   "source": [
    "And if you want to see the associated id for some word:"
   ]
  },
  {
   "cell_type": "code",
   "execution_count": 14,
   "metadata": {
    "colab": {
     "base_uri": "https://localhost:8080/"
    },
    "executionInfo": {
     "elapsed": 525,
     "status": "ok",
     "timestamp": 1639779996499,
     "user": {
      "displayName": "Tom van Nuenen",
      "photoUrl": "https://lh3.googleusercontent.com/a-/AOh14GhuBmxDvW5I_LJfZtwlPqMFD8QGLVPP3skvpkTnuQ=s64",
      "userId": "10012302451096885058"
     },
     "user_tz": -60
    },
    "id": "dNhZ-fZ4ZW0D",
    "outputId": "5f3719d7-001b-42f3-8a18-1f7725bd0b24"
   },
   "outputs": [
    {
     "data": {
      "text/plain": [
       "8"
      ]
     },
     "execution_count": 14,
     "metadata": {},
     "output_type": "execute_result"
    }
   ],
   "source": [
    "dictionary.token2id['attendance']"
   ]
  },
  {
   "cell_type": "markdown",
   "metadata": {
    "id": "uep-_3ImZW0S"
   },
   "source": [
    "## Running a model\n",
    "\n",
    "Let's run our first Gensim LDA topic model! Check out the comments to learn about the function arguments we're using.\n",
    "\n",
    "Note that topic modeling essentially adds a third latent layer on top of the documents and tokens (which is the representation we saw last week when running SKLearn's `CountVectorizer()`. That third layer consists of topics. Topic modeling assumes that documents are made of topics, and topics is made up of tokens. It also assumes a Dirichlet probability distribution, which encourages docs to only consist of a handful of topics and topics only of a handful of words."
   ]
  },
  {
   "cell_type": "code",
   "execution_count": 18,
   "metadata": {
    "colab": {
     "base_uri": "https://localhost:8080/"
    },
    "executionInfo": {
     "elapsed": 28047,
     "status": "ok",
     "timestamp": 1639913487603,
     "user": {
      "displayName": "Tom van Nuenen",
      "photoUrl": "https://lh3.googleusercontent.com/a-/AOh14GhuBmxDvW5I_LJfZtwlPqMFD8QGLVPP3skvpkTnuQ=s64",
      "userId": "10012302451096885058"
     },
     "user_tz": -60
    },
    "id": "GV46eCt2ydXL",
    "outputId": "5af4d56d-7564-40a8-d4ec-739f9778ce9c"
   },
   "outputs": [
    {
     "data": {
      "text/html": [
       "<pre style=\"white-space:pre;overflow-x:auto;line-height:normal;font-family:Menlo,'DejaVu Sans Mono',consolas,'Courier New',monospace\">   <span style=\"color: #729c1f; text-decoration-color: #729c1f\">━━━━━━━━━━━━━━━━━━━━━━━━━━━━━━━━━━━━━━━━</span> <span style=\"color: #800080; text-decoration-color: #800080\">100%</span> <span style=\"color: #008000; text-decoration-color: #008000\">32620/32620</span> <span style=\"color: #808000; text-decoration-color: #808000\">0:00:17</span>\n",
       "</pre>\n"
      ],
      "text/plain": [
       "   \u001b[38;2;114;156;31m━━━━━━━━━━━━━━━━━━━━━━━━━━━━━━━━━━━━━━━━\u001b[0m \u001b[35m100%\u001b[0m \u001b[32m32620/32620\u001b[0m \u001b[33m0:00:17\u001b[0m\n"
      ]
     },
     "metadata": {},
     "output_type": "display_data"
    },
    {
     "data": {
      "text/html": [
       "<pre style=\"white-space:pre;overflow-x:auto;line-height:normal;font-family:Menlo,'DejaVu Sans Mono',consolas,'Courier New',monospace\"></pre>\n"
      ],
      "text/plain": []
     },
     "metadata": {},
     "output_type": "display_data"
    },
    {
     "data": {
      "text/html": [
       "<pre style=\"white-space:pre;overflow-x:auto;line-height:normal;font-family:Menlo,'DejaVu Sans Mono',consolas,'Courier New',monospace\">\n",
       "</pre>\n"
      ],
      "text/plain": [
       "\n"
      ]
     },
     "metadata": {},
     "output_type": "display_data"
    }
   ],
   "source": [
    "from gensim.models.ldamodel import LdaModel\n",
    "\n",
    "%time\n",
    "lda_model = LdaModel(corpus=ProgressDisplay(corpus, iter_count=2),   # stream of document vectors or sparse matrix of shape\n",
    "            id2word=dictionary,       # mapping from word IDs to words (for determining vocab size)\n",
    "            num_topics=10,            # amount of topics\n",
    "            random_state=100,         # seed to generate random state; useful for reproducibility\n",
    "            passes=2,                 # amount of iterations/epochs \n",
    "            per_word_topics=False)    # computing most-likely topics for each word "
   ]
  },
  {
   "cell_type": "markdown",
   "metadata": {
    "id": "EAi5A0nFh1NS"
   },
   "source": [
    "The most challenging part about topic modeling is creating a *good*, i.e. interpretable, topic model. This is a heavily iterative process. The first thing we should do is visualize the model."
   ]
  },
  {
   "cell_type": "markdown",
   "metadata": {},
   "source": [
    "## 1. Visualizing the Topic Model\n",
    "\n",
    "One of the best ways to visualize a topic model is through the pyLDAvis package. pyLDAv was designed to help users interpret the topics in a topic model. Let's start by downloading the package."
   ]
  },
  {
   "cell_type": "code",
   "execution_count": 19,
   "metadata": {
    "colab": {
     "base_uri": "https://localhost:8080/",
     "height": 992
    },
    "executionInfo": {
     "elapsed": 33843,
     "status": "ok",
     "timestamp": 1639933951198,
     "user": {
      "displayName": "Tom van Nuenen",
      "photoUrl": "https://lh3.googleusercontent.com/a-/AOh14GhuBmxDvW5I_LJfZtwlPqMFD8QGLVPP3skvpkTnuQ=s64",
      "userId": "10012302451096885058"
     },
     "user_tz": -60
    },
    "id": "RiccfvG7IuRZ",
    "outputId": "e02afe24-c09f-4b39-ee1e-5d93d3f0fbfb"
   },
   "outputs": [],
   "source": [
    "try:\n",
    "    import pyLDAvis\n",
    "except ImportError:\n",
    "    !pip install pyLDAvis"
   ]
  },
  {
   "cell_type": "markdown",
   "metadata": {
    "id": "JWRO12UXZW0d"
   },
   "source": [
    "PyLDAvis allows us to visualize our topics. A \"good\" topic model produces non-overlapping, fairly large bubbles, which should be scattered throughout the chart instead of being clustered in one quadrant. A model with too many topics will typically have many overlaps, small sized bubbles clustered in one region of the chart."
   ]
  },
  {
   "cell_type": "code",
   "execution_count": 20,
   "metadata": {
    "colab": {
     "base_uri": "https://localhost:8080/",
     "height": 916
    },
    "executionInfo": {
     "elapsed": 10987,
     "status": "ok",
     "timestamp": 1639940889440,
     "user": {
      "displayName": "Tom van Nuenen",
      "photoUrl": "https://lh3.googleusercontent.com/a-/AOh14GhuBmxDvW5I_LJfZtwlPqMFD8QGLVPP3skvpkTnuQ=s64",
      "userId": "10012302451096885058"
     },
     "user_tz": -60
    },
    "id": "Aze6E-0ZZW0e",
    "outputId": "81b759c9-9655-421f-d6e7-0648a7a42802"
   },
   "outputs": [
    {
     "data": {
      "text/html": [
       "\n",
       "<link rel=\"stylesheet\" type=\"text/css\" href=\"https://cdn.jsdelivr.net/gh/bmabey/pyLDAvis@3.3.1/pyLDAvis/js/ldavis.v1.0.0.css\">\n",
       "\n",
       "\n",
       "<div id=\"ldavis_el439551403841213962404795196025\"></div>\n",
       "<script type=\"text/javascript\">\n",
       "\n",
       "var ldavis_el439551403841213962404795196025_data = {\"mdsDat\": {\"x\": [0.05607771111409372, 0.11820425758224555, -0.028717591030842673, 0.06962616523130224, -0.08764308397607126, 0.05089871583984907, 0.12630687313997802, -0.09356849952319747, -0.14998443613753012, -0.06120011223982722], \"y\": [0.052575900149928814, 0.0002521819985375927, 0.05590071930863441, -0.047105053141756864, -0.05545849743911739, -0.11501797224141902, 0.043199718944205955, -0.09010812884510411, 0.016381931306472006, 0.1393791999596187], \"topics\": [1, 2, 3, 4, 5, 6, 7, 8, 9, 10], \"cluster\": [1, 1, 1, 1, 1, 1, 1, 1, 1, 1], \"Freq\": [13.53183966551496, 13.359437922620558, 12.807278195293058, 12.326405019098921, 10.815561266544481, 9.487969502154089, 8.812596743514023, 6.989826997083033, 6.8258535028878535, 5.043231185289024]}, \"tinfo\": {\"Term\": [\"mom\", \"dad\", \"sister\", \"eat\", \"kid\", \"pay\", \"money\", \"food\", \"wedding\", \"husband\", \"son\", \"child\", \"parent\", \"family\", \"gift\", \"christmas\", \"dog\", \"daughter\", \"house\", \"cook\", \"baby\", \"friend\", \"cat\", \"birthday\", \"room\", \"job\", \"wear\", \"$\", \"dinner\", \"dress\", \"adam\", \"gender_reveal\", \"katie\", \"jill\", \"infertile\", \"annie\", \"emma\", \"bachelorette_party\", \"taylor\", \"covid_restriction\", \"bmw\", \"pout\", \"align\", \"bestie\", \"scott\", \"38f\", \"kayla\", \"jackie\", \"ben\", \"charlotte\", \"jim\", \"andy\", \"vendor\", \"entirety\", \"ruby\", \"=_iossmf\", \"jennifer\", \"bride_groom\", \"dancing\", \"whistle\", \"sarah\", \"anna\", \"venue\", \"wedding\", \"stripper\", \"invitation\", \"dance\", \"fianc\\u00e9e\", \"reception\", \"engagement\", \"emily\", \"fiance\", \"nickname\", \"bisexual\", \"fianc\\u00e9\", \"ceremony\", \"invite\", \"honeymoon\", \"anniversary\", \"marry\", \"party\", \"date\", \"husband\", \"attend\", \"engage\", \"fiancee\", \"friend\", \"family\", \"bride\", \"daughter\", \"plan\", \"cousin\", \"meet\", \"mil\", \"wife\", \"baby\", \"talk\", \"relationship\", \"good\", \"close\", \"happy\", \"love\", \"people\", \"man\", \"upset\", \"girl\", \"lot\", \"sister\", \"month\", \"end\", \"comment\", \"find\", \"week\", \"mia\", \"liz\", \"dna_test\", \"alice\", \"hannah\", \"dan\", \"maiden\", \"ancestry\", \"dh\", \"6f\", \"brad\", \"chloe\", \"asl\", \"tyler\", \"steve\", \"8f\", \"7f\", \"ellie\", \"10f\", \"39f\", \"stepkid\", \"maria\", \"mummy\", \"bagel\", \"paternity_test\", \"jerry\", \"dna\", \"unappreciated\", \"ppd\", \"sean\", \"abortion\", \"lucy\", \"michael\", \"parenting\", \"sperm\", \"youngest\", \"surname\", \"sophie\", \"james\", \"adoption\", \"olivia\", \"conceive\", \"child\", \"son\", \"kid\", \"hub\", \"niece\", \"birth\", \"biological\", \"boy\", \"adopt\", \"baby\", \"pregnant\", \"daughter\", \"sil\", \"wife\", \"raise\", \"bear\", \"custody\", \"old\", \"mother\", \"ex\", \"father\", \"young\", \"brother\", \"life\", \"age\", \"parent\", \"pregnancy\", \"love\", \"family\", \"support\", \"month\", \"talk\", \"relationship\", \"mom\", \"m\", \"school\", \"help\", \"ago\", \"way\", \"find\", \"need\", \"husband\", \"good\", \"ella\", \"jen\", \"gown\", \"daisy\", \"piercing\", \"jean\", \"dye\", \"datum\", \"shave\", \"hairdresser\", \"curly\", \"pixie\", \"bald\", \"salon\", \"ink\", \"jason\", \"pierce\", \"presentation\", \"elope\", \"dress_code\", \"haircut\", \"purple\", \"portfolio\", \"wig\", \"seamstress\", \"pagan\", \"modern\", \"decor\", \"castle\", \"macbook\", \"hair\", \"colour\", \"painting\", \"photograph\", \"color\", \"joe\", \"dress\", \"wear\", \"principal\", \"interview\", \"makeup\", \"client\", \"professor\", \"employee\", \"department\", \"jessica\", \"kim\", \"jack\", \"design\", \"supervisor\", \"hr\", \"boss\", \"manager\", \"coworker\", \"team\", \"art\", \"email\", \"teacher\", \"student\", \"class\", \"company\", \"office\", \"j\", \"amy\", \"people\", \"look\", \"report\", \"post\", \"school\", \"clothe\", \"fire\", \"comment\", \"friend\", \"job\", \"use\", \"new\", \"woman\", \"good\", \"lot\", \"send\", \"find\", \"talk\", \"guy\", \"way\", \"person\", \"need\", \"week\", \"pretty\", \"girl\", \"loan\", \"mortgage\", \"bank_account\", \"saving\", \"taxis\", \"lily\", \"payment\", \"investment\", \"settlement\", \"redo\", \"student_loan\", \"paycheck\", \"bicker\", \"tuition\", \"debt\", \"potty_train\", \"joint_account\", \"25k\", \"downsize\", \"computer_science\", \"afloat\", \"35k\", \"registration\", \"playground\", \"residency\", \"contribution\", \"80k\", \"40k\", \"influencer\", \"ethic\", \"income\", \"fund\", \"expense\", \"bank\", \"credit_card\", \"guitar\", \"money\", \"finance\", \"retirement\", \"100k\", \"pay\", \"$\", \"fee\", \"bill\", \"rent\", \"ski\", \"financial\", \"afford\", \"insurance\", \"\\u00a3\", \"earn\", \"cost\", \"sell\", \"save\", \"job\", \"financially\", \"college\", \"price\", \"degree\", \"buy\", \"account\", \"property\", \"car\", \"expensive\", \"month\", \"house\", \"live\", \"school\", \"spend\", \"help\", \"parent\", \"need\", \"use\", \"new\", \"family\", \"home\", \"week\", \"plan\", \"wife\", \"good\", \"kid\", \"friend\", \"hoa\", \"marie\", \"pam\", \"samantha\", \"balcony\", \"kelly\", \"kyle\", \"mattress\", \"sofa\", \"wrestling\", \"anne\", \"tina\", \"5'2\", \"cooking_cleaning\", \"lax\", \"bee\", \"dryer\", \"isolated\", \"cult\", \"golden_retriever\", \"damper\", \"washing_machine\", \"dave\", \"dnd\", \"roam\", \"washing\", \"charger\", \"bathtub\", \"f19\", \"barge\", \"roommate\", \"naked\", \"jane\", \"pup\", \"alley\", \"laundry\", \"bark\", \"reset\", \"topless\", \"towel\", \"wash\", \"gf\", \"living_room\", \"bed\", \"room\", \"bedroom\", \"pool\", \"leash\", \"shower\", \"couch\", \"bathroom\", \"dog\", \"apartment\", \"clean\", \"boyfriend\", \"movie\", \"sleep\", \"door\", \"bf\", \"night\", \"neighbor\", \"girlfriend\", \"smell\", \"game\", \"friend\", \"home\", \"play\", \"house\", \"watch\", \"live\", \"guy\", \"walk\", \"stay\", \"use\", \"place\", \"need\", \"talk\", \"m\", \"week\", \"cat\", \"susan\", \"beth\", \"jeff\", \"checkup\", \"sd\", \"molly\", \"kitten\", \"rehome\", \"stepchildren\", \"amber\", \"eric\", \"marijuana\", \"endanger\", \"hamster\", \"flush\", \"carrier\", \"f28\", \"seizure\", \"premature\", \"rang\", \"juggle\", \"44f\", \"accessible\", \"bella\", \"surface\", \"proceeding\", \"anonymously\", \"cm\", \"dysfunctional\", \"vet\", \"organ\", \"stepdaughter\", \"rehab\", \"terminal\", \"hospitalize\", \"driveway\", \"tow\", \"matt\", \"jess\", \"animal\", \"police\", \"stepson\", \"fil\", \"pet\", \"mil\", \"drug\", \"nanny\", \"garage\", \"husband\", \"car\", \"dog\", \"house\", \"home\", \"parking\", \"hospital\", \"stay\", \"drive\", \"help\", \"care\", \"live\", \"away\", \"need\", \"wife\", \"week\", \"therapy\", \"therapist\", \"let\", \"clean\", \"find\", \"hour\", \"mother\", \"month\", \"refuse\", \"ago\", \"brother\", \"daughter\", \"baby\", \"family\", \"old\", \"place\", \"mom\", \"son\", \"kid\", \"ava\", \"chris\", \"kate\", \"josh\", \"ss\", \"lisa\", \"stepbrother\", \"leo\", \"laura\", \"jay\", \"leah\", \"f25\", \"alan\", \"3,000\", \"jan\", \"rick\", \"stepsister\", \"alex\", \"stepdad\", \"stepmom\", \"11th\", \"spontaneous\", \"jewish\", \"global\", \"unkind\", \"f16\", \"shadow\", \"suppress\", \"pastor\", \"ovary\", \"sis\", \"atheist\", \"dad\", \"maya\", \"greg\", \"sister\", \"mom\", \"bio\", \"church\", \"sibling\", \"grandpa\", \"grandparent\", \"grandma\", \"mum\", \"christian\", \"parent\", \"funeral\", \"family\", \"brother\", \"uncle\", \"die\", \"step\", \"grandmother\", \"religious\", \"twin\", \"father\", \"life\", \"ago\", \"relationship\", \"talk\", \"love\", \"live\", \"mother\", \"away\", \"pass\", \"bad\", \"m\", \"close\", \"old\", \"good\", \"mad\", \"half\", \"stay\", \"upset\", \"school\", \"house\", \"lot\", \"lauren\", \"kevin\", \"faint\", \"airline\", \"snake\", \"tampon\", \"lizard\", \"classy\", \"ann\", \"adoptive\", \"lamb\", \"bladder\", \"swollen\", \"publish\", \"unbelievable\", \"chunky\", \"q\", \"fiction\", \"flight_attendant\", \"migraine\", \"landing\", \"adamantly\", \"mold\", \"mushroom\", \"-i\", \"poc\", \"alarm\", \"podcast\", \"buckle\", \"seatbelt\", \"pad\", \"mary\", \"seat\", \"airport\", \"l\", \"mission\", \"nicole\", \"window\", \"tom\", \"wake\", \"nurse\", \"bedtime\", \"bus\", \"autistic\", \"flight\", \"plane\", \"p.m.\", \"diaper\", \"minute\", \"headphone\", \"pain\", \"doctor\", \"noise\", \"morning\", \"phone\", \"wait\", \"sit\", \"hour\", \"wipe\", \"sleep\", \"appointment\", \"loud\", \"book\", \"need\", \"today\", \"hear\", \"read\", \"walk\", \"stop\", \"look\", \"talk\", \"drive\", \"early\", \"turn\", \"point\", \"bad\", \"home\", \"use\", \"way\", \"night\", \"help\", \"let\", \"happen\", \"glitter\", \"jade\", \"pepper\", \"salad\", \"bacon\", \"fry\", \"potato\", \"salsa\", \"soup\", \"sauce\", \"vegetarian\", \"burger\", \"veggie\", \"rice\", \"chicken\", \"bread\", \"pork\", \"mini_fridge\", \"earring\", \"tim\", \"garlic\", \"tomato\", \"strawberry\", \"meat\", \"shaky\", \"ingredient\", \"lactose\", \"mash_potato\", \"vegan\", \"ear_pierce\", \"diet\", \"recipe\", \"dairy\", \"spicy\", \"eat\", \"pizza\", \"vegetable\", \"food\", \"meal\", \"sandwich\", \"cook\", \"snack\", \"dessert\", \"fridge\", \"restaurant\", \"milk\", \"cooking\", \"hungry\", \"cake\", \"plate\", \"dish\", \"order\", \"weight\", \"waitress\", \"dinner\", \"table\", \"drink\", \"serve\", \"lunch\", \"taste\", \"tip\", \"bring\", \"buy\", \"people\", \"home\", \"lot\", \"way\", \"good\", \"friend\", \"week\", \"use\", \"look\", \"need\", \"stop\", \"rachel\", \"pearl\", \"santa\", \"rose\", \"betty\", \"kat\", \"brace\", \"performer\", \"pumpkin\", \"luke\", \"korean\", \"salmon\", \"engagement_ring\", \"ring\", \"diamond\", \"billy\", \"handed\", \"ff\", \"ryan\", \"gran\", \"treasure\", \"julie\", \"enclosure\", \"48f\", \"handmade\", \"climbing\", \"linkedin\", \"pun\", \"handout\", \"nibling\", \"melissa\", \"greeting\", \"harry\", \"doll\", \"candy\", \"backpack\", \"tree\", \"cottage\", \"gift\", \"halloween\", \"christmas\", \"circus\", \"costume\", \"nephews\", \"plant\", \"asian\", \"birthday\", \"christmas_eve\", \"jewelry\", \"trick\", \"mark\", \"joke\", \"present\", \"prank\", \"card\", \"celebrate\", \"laugh\", \"funny\", \"white\", \"camera\", \"toy\", \"look\", \"holiday\", \"buy\", \"kid\", \"little\", \"friend\", \"people\", \"bil\", \"party\", \"girlfriend\", \"big\", \"open\", \"mean\", \"family\", \"love\", \"bf\", \"point\", \"use\", \"old\", \"post\"], \"Freq\": [12283.0, 8500.0, 11658.0, 5169.0, 15167.0, 9219.0, 7979.0, 5002.0, 6199.0, 12670.0, 8398.0, 8352.0, 12368.0, 15687.0, 2563.0, 2615.0, 3889.0, 10126.0, 10201.0, 2250.0, 6332.0, 15449.0, 2162.0, 3026.0, 5623.0, 6128.0, 3354.0, 3095.0, 3933.0, 2738.0, 369.4833638683833, 242.57710688912772, 212.96765222634886, 113.3040759062824, 107.03595039456249, 109.1819434744417, 265.40415344027724, 141.04574146435763, 72.96893951307065, 48.82538000341853, 49.48505720681954, 46.46867418527486, 44.98407802991324, 44.82492565748911, 57.6737633530646, 44.15937795154928, 45.49111044193349, 126.37334667288806, 241.05118270856934, 38.14086214298493, 36.693204815515756, 44.203660770300885, 36.619182546818784, 35.22350379009786, 43.41727529672262, 33.67398816258582, 34.893340786459454, 68.40737143446204, 41.32190846144092, 29.50598607841776, 568.9206411952898, 225.69973258348068, 276.8255717991599, 5504.8650654608155, 123.73536483230149, 239.96192698716402, 355.0529651056714, 442.2969500293146, 191.6096227206277, 242.1309643300052, 180.86518039619588, 665.2861832594888, 171.43468317396307, 107.57926501368523, 1085.7772571366713, 257.59485294846064, 1812.4597355288886, 202.75865288847442, 202.70524773089085, 1974.3272661871652, 1761.4930799532901, 2002.1573566782886, 5313.3509185298135, 779.3206403578056, 464.8649127773391, 317.2001210735977, 5259.270379562276, 4751.896368392959, 283.4806423790216, 3105.261022937971, 1793.9015058039088, 960.7220766996321, 1394.5876405739546, 1054.0465890119203, 2864.1193516310136, 1854.3792822544503, 2548.3700498266653, 1179.608242951617, 1894.9574465090898, 1138.771057429166, 995.2720868905402, 1405.6921612325389, 1778.4067560083251, 826.6594973365205, 1172.1966826864057, 1059.9377907394594, 1263.0599926719763, 1470.549035534307, 1175.9675620801875, 1026.1342020484549, 949.8464352878345, 1026.9931245770385, 996.7998871304985, 192.8833329537373, 156.67224816821488, 144.93358226702807, 133.75153601555664, 107.88092339169815, 118.1887744283954, 96.68729343817441, 79.3673050864549, 78.66303761018114, 82.54470452687508, 76.83987403660574, 71.40153043212403, 69.51942194430792, 68.5255233301114, 78.83877649301559, 62.373149835567695, 62.927531461568734, 60.65844938024264, 59.832410261941604, 59.65481536288892, 54.43024160973843, 54.05563888524231, 52.26322498576904, 49.52175011961675, 117.55625490547277, 47.0651370856788, 67.94575942826096, 45.96726297664526, 46.2448087865108, 44.30875235119538, 180.1875800697926, 357.5523485460645, 130.49454782146213, 213.1354564987594, 91.66056098136785, 141.7125259295328, 135.320622158974, 78.48756111633388, 538.3586109783669, 306.17920874344117, 110.47816534678711, 148.2410880584805, 6211.902332323441, 6102.322270458556, 10499.394194746938, 203.18602110124536, 1142.9919879893453, 732.8085450974663, 341.66225669737935, 1257.8573666579166, 647.8055644535139, 3276.3131121320157, 1488.2493442427874, 4668.293974346805, 1148.7247860587202, 4696.819670262783, 829.3481829917591, 802.3310694056817, 471.7578034771979, 2884.9559247248103, 2336.6083810890336, 1466.4793312761433, 1523.0184163279257, 1285.6335561492988, 2448.3166954636927, 1701.8974470839378, 801.2158236022312, 2834.544147301972, 539.9654811359401, 1713.5147966651632, 2459.4800194891955, 926.0507490124528, 1457.9181651405777, 1550.5921032597796, 973.1535852217328, 1602.0931962802754, 1106.883682513571, 1141.414320182582, 1209.6647209422977, 1130.740953569401, 1148.0919655601945, 1109.257407638187, 1182.7065677051073, 1200.6931166921763, 1120.0259751497804, 572.9757793404737, 297.2600764908107, 208.3246072311957, 484.1783782380082, 184.0310037541899, 222.93222121696377, 118.43349946601572, 136.21127286651995, 302.19185153252835, 98.82962635013031, 116.88343988627959, 76.38987382939455, 87.94448879784476, 73.8237977443883, 75.81717433433553, 88.02115798188404, 71.47131225507962, 77.89432253200995, 64.55737653415525, 66.36256848980517, 65.38178296537023, 73.77258631025533, 119.77670095584176, 61.69131922698933, 54.099446067517874, 54.06304614611739, 52.416493482058925, 52.43940249763141, 51.10646622954178, 49.672124367412366, 2299.8684855278743, 149.2828545593355, 193.96982473200086, 76.63006152213171, 515.7487107175879, 315.29375169646164, 2478.26953119511, 2944.8376866464264, 290.38649881282123, 421.49543489210185, 479.97181984168924, 255.49675984240534, 127.44944186752217, 553.1277604103167, 305.2390280420937, 182.3479216974658, 111.04571371138027, 368.1678336213295, 293.4517569093587, 135.60395645434045, 434.9634058102823, 616.8014030803889, 663.2668201445044, 792.17930210487, 506.92110831589696, 493.1941060871324, 824.9036008731413, 1048.6347411779816, 768.1561825966451, 1162.1964588873684, 925.5738277203488, 936.8318203211751, 363.4155131514595, 437.92763192985944, 2936.397166335726, 2578.6807563251655, 482.60468830279376, 1223.600107759924, 1650.7811807813498, 689.0137570686468, 466.1488461128419, 1184.1633083642182, 2161.1553099337116, 1355.818945507599, 1476.4656859668505, 1102.1994450262018, 918.3678270203336, 1348.8862697458399, 1257.5077886883273, 878.3691667240511, 1045.1826081444779, 1050.2357458509625, 817.4819824273342, 908.4132475399651, 776.6884425466475, 917.9272400042275, 876.0243607303549, 796.4415257468429, 791.6343686474158, 460.3428410402315, 472.35744055959054, 143.7696918501541, 574.0214477805881, 131.01515088344001, 107.21240742278718, 511.8931395566484, 146.14915943531648, 104.03366265678494, 70.36316526778978, 136.7425124424448, 100.52621800729216, 55.20968906976576, 242.62121521037673, 443.3500211893334, 55.90260625407821, 52.61359941763164, 49.881072469289336, 44.96877796139952, 74.07709228852858, 42.31465920089691, 42.84341157835796, 43.62486952566298, 41.0965036418205, 43.14899096183347, 54.66391140264166, 45.45735606689112, 39.171841285164405, 38.848068838079904, 47.066431074943544, 714.4791903086017, 540.1611871253779, 543.6183106866026, 286.78112813960587, 116.09100697490908, 136.6835113758835, 7185.511098253847, 356.8844494632785, 164.82529694699468, 64.69565924408721, 7901.04139904296, 2723.6712912758762, 256.4913220829592, 1220.3862066892, 1641.0523329078287, 105.81898252351368, 567.263568437729, 1215.5051394535049, 549.0947147763959, 249.01400854252736, 378.33771007100273, 1095.6915326001365, 819.8889606315106, 1141.0320365064188, 3602.2980281673117, 512.4695641692806, 1636.5230789350662, 431.9271982376519, 393.92273570663406, 2161.5589161251423, 664.9131675846664, 511.7448607478055, 1726.742445769197, 732.1529647814392, 2283.7666304614345, 2431.45118477733, 1991.230028741247, 1727.295799725824, 1424.9206170642244, 1825.7909811387872, 2117.074817755604, 1969.8648923430042, 1467.0847758375521, 1176.7495134523344, 1592.107565923133, 1393.7341030285531, 1199.4054672952107, 1017.1714378376695, 1262.4432720469974, 1118.8051399006554, 1241.1231376691103, 1081.134575271302, 315.9694119405987, 254.8099352649143, 154.3596412442791, 130.73097485870028, 128.90721518764062, 241.03479676830685, 84.40524624778726, 75.28282416479341, 89.45774729549893, 65.0597072899173, 84.04317962075379, 59.073465332182, 58.940624473111654, 53.23026690132167, 53.59252096254629, 53.937724760183144, 58.08619321716755, 51.29228795808183, 45.37889229873476, 38.955366373059775, 37.71700116778202, 35.93945652045216, 98.04518221451593, 32.33085164031755, 30.17898216985337, 31.26584744233236, 35.48132674655404, 28.551719133079835, 28.555517799353694, 63.60117563591507, 1149.6574509068917, 273.03211238938627, 478.3330554493135, 55.37712563107592, 49.75017939824834, 371.741180261129, 106.22961487915354, 58.17998528641616, 60.55864388035859, 147.94373139457093, 586.6135877435809, 1113.8298301204889, 523.273626644251, 1715.3885205818, 3531.067428827964, 972.7288712025381, 313.4388254391211, 158.4114686323095, 748.8966095588781, 344.87543792519864, 1112.9829274712224, 2286.4806079830437, 1228.1364966161734, 1326.2412516644413, 2248.647491333848, 433.87151606449004, 1724.3045901159567, 1151.5602828153887, 1161.594159883079, 2431.8785582110413, 743.2616880012174, 1323.0798616404738, 342.16349010036976, 643.0351279267448, 3770.4213907437647, 2617.902044659129, 1079.033147367831, 2416.3356153972372, 975.3490512473827, 1761.0153008461295, 1198.8070942806166, 1073.2434801419613, 1359.6647165590996, 1368.0755634788331, 949.7762299619659, 1257.7565968865822, 1202.2070005606217, 984.3395946334874, 1062.1171866258308, 2150.842352636873, 120.69673504544375, 103.95423361077552, 182.36605397772118, 79.24506496235875, 99.80292415922943, 88.50442407166895, 84.53966797113338, 57.02322134539412, 50.98044277082225, 50.42733239180599, 50.21324848633634, 79.97226512861087, 48.80344074612348, 46.12143419080339, 66.44640451856729, 39.74193386061246, 37.14385082706789, 69.98756935862612, 35.99416654188804, 37.0814453138145, 33.76401350148799, 31.821854286303054, 30.61623194840372, 36.70260285124371, 27.45015515526677, 27.05920264689119, 26.7609540601007, 28.142115882957263, 25.38517173937467, 368.9826984070826, 64.69349799703096, 199.94143278758574, 84.33827234628744, 37.9952152737734, 37.892980069248935, 164.63666191276965, 91.14256699423241, 112.51635114644233, 151.57155853767776, 437.9380610644981, 344.9871701813918, 141.0185374137258, 388.7050329546571, 299.7608106048853, 1490.1115010601277, 268.87386336459963, 197.25739281882662, 176.8368794639212, 4399.792968422535, 1754.5565351454918, 1563.596936158628, 3202.7099584818316, 3164.656209949777, 220.16476532878977, 452.1056581864674, 1680.7841640352367, 947.539004925448, 1993.3562247083596, 1307.6715864907499, 1667.2167910980033, 1332.1383185444242, 1858.097640531519, 1978.1687857927766, 1504.293611602007, 430.41782949724774, 275.9171471219685, 1194.7945373970738, 631.7725887620487, 1114.5625982471279, 886.9818261218612, 963.1073005338952, 1020.5291421650267, 714.332813704199, 859.5076153019477, 954.4824705546446, 1023.7006094220917, 854.3701277369568, 1048.3524643122007, 822.8541706316603, 693.8899382823628, 828.5296632186917, 724.8500445592641, 720.459318488191, 299.88458314188114, 317.9372843386392, 418.970755859987, 380.767676353141, 137.58073129038706, 118.3976477856261, 130.70133633654982, 101.23478043025708, 97.55596498954172, 87.36197792082422, 142.19317126727287, 51.56699463864134, 47.68980256525413, 47.52545764551111, 73.23762581812983, 41.53708013414827, 213.04556854278542, 304.24353394695254, 312.8654238733499, 440.52942092217444, 37.91563498346309, 26.248128197878597, 159.5088326139428, 25.81031033831787, 25.858150730576487, 24.623466440472928, 24.21492552646999, 24.326227299935947, 119.2571508946845, 23.17263877452298, 199.98496582505345, 69.02719785893713, 7468.217607118336, 68.00642464757911, 90.67692638871944, 8347.497779068348, 8760.545377654847, 460.0938937865769, 363.8461618040482, 1381.625193315225, 169.4537085621726, 671.1868310746366, 592.4045101571795, 822.1788164494781, 191.87355668334615, 4742.3547199401455, 295.38844660756416, 4365.609026981128, 2636.5035607900195, 395.0725008948841, 696.4243217590541, 685.5017556789752, 388.80520842408936, 301.3032346759587, 397.8089255152609, 808.2922078060941, 914.246670107711, 997.1099457525105, 749.9650793862085, 1196.149272854032, 894.7287878546362, 973.2634536082095, 860.487294996635, 779.3976392148738, 575.1064831939927, 758.6906374954156, 741.8085457712923, 669.2843539613881, 805.9994121448005, 764.8454853177178, 605.4386002105982, 577.001833246942, 652.794169101605, 651.6325397249473, 664.1999498699722, 708.7392303391917, 672.254505433521, 241.09352070131436, 163.8490927328869, 128.06851360570664, 113.25245643401198, 80.9707854339778, 208.8369809755963, 221.4126641829097, 69.49652554694192, 87.53780868428719, 50.34512166565637, 45.302965941526395, 60.88973436865461, 71.32276647485783, 43.472780081893454, 40.0347418069832, 38.966464796291326, 37.024173425714736, 51.500465782402046, 36.73033052311058, 127.88977630029562, 33.531574362855125, 27.11856698045665, 26.61855597037421, 32.276985131807336, 26.920668289719924, 25.209958947017785, 118.41178914732163, 23.793098563621523, 52.1596812348646, 23.493005144847476, 513.9100099340615, 298.3614605028265, 791.4217512435098, 221.02222496355347, 303.70473120941983, 59.27428281162553, 52.20051551782718, 525.3658009186677, 243.44667045162905, 1221.6884843764544, 388.79279786444135, 126.31391134567583, 291.90598554690297, 318.84693773066647, 451.8139905494368, 90.91895030328666, 436.3279894876418, 312.8980291549816, 1458.1677028383892, 143.9498719286505, 464.6911198389073, 645.0745237176274, 327.76614973461847, 973.8317759696849, 1243.798191341009, 966.1411537952189, 1108.869348609941, 1412.5755657301816, 238.60549224160758, 980.8831980719561, 331.33559824773863, 320.3126595456983, 491.4475606616248, 1561.4077529869019, 690.4722649275901, 832.1672348833457, 592.0300916096378, 694.7237142050247, 826.5879627755265, 1008.8402871402476, 1022.4025182253105, 593.934254024018, 549.5930600124256, 635.2503274190212, 665.7467088703352, 692.0650321177959, 785.2178151476116, 716.9672823530833, 627.487477057703, 600.3800705596066, 615.2761973279736, 594.6760465476628, 563.1224718497955, 188.2262447324871, 161.64115534275686, 199.98583077218242, 192.41390488968116, 140.29438313135884, 175.9699727070731, 177.79164359648695, 110.68084356663168, 272.47958799917, 194.77213417826184, 269.981568678789, 165.9744097438355, 132.35754895869258, 156.36673533436812, 411.5939338057849, 129.43135070473383, 127.63870087574114, 80.51903465851882, 77.8085622490765, 84.6934381845803, 76.04546973923013, 121.06460264379074, 85.3917495648064, 791.6695449411847, 69.06349942983906, 156.87439885163735, 84.39206866719061, 67.6781381026155, 723.8434152027368, 66.23029474775154, 342.6067408380749, 462.84244521590216, 159.96910063766637, 113.51707653328486, 4890.970288899188, 460.49158159863487, 150.47913501837454, 4534.487191110004, 1500.430715043052, 207.29025818471484, 2005.6005661509803, 476.14235558208065, 187.64303182423018, 369.20296548251025, 991.8836326625055, 387.48793695790016, 519.7506312114988, 266.11782456391506, 636.185743825499, 373.0741541302748, 719.4124670797838, 1285.0900304698268, 587.5767294053159, 218.9318199879257, 1940.2978807054128, 726.6192796320194, 977.4520271184259, 444.33423238768563, 775.3075972542663, 335.9768164956024, 322.8805898110971, 777.7649870900577, 752.8321108325865, 805.4869134325246, 795.0679742057625, 581.774788534511, 569.6055008287832, 586.259110172934, 620.6105823223027, 554.5662195151896, 549.9460666961431, 533.030384558537, 537.5932523278825, 481.42128647268703, 366.14360051257046, 213.8483813834286, 264.3310182925469, 76.41568111559152, 65.75084064721324, 75.43285114787717, 53.77481635556907, 56.59401918590749, 57.324363835408164, 56.243285248033985, 66.85711940538737, 50.36943133259294, 186.0741456920766, 1228.2886509276836, 182.91498236104596, 43.8899313700501, 42.83013745872961, 40.790255008680056, 59.342393513068075, 36.79007312196155, 36.321213019298966, 41.178471651468264, 35.10791656468954, 29.16002367344388, 27.90407629391986, 28.742338854049724, 25.117400620457904, 24.142541481334145, 23.642264194636105, 22.790642630667726, 43.80888004613965, 34.98253624668752, 88.98614393328924, 247.2766614079261, 241.8467092294548, 77.58217808537663, 426.66041521098157, 87.21938763499298, 2064.8391376732275, 241.028580586134, 1972.7485657625482, 88.44516472910611, 116.03765620598595, 129.04045490191632, 177.24924980995252, 134.34085780927407, 1457.9802427672566, 107.72827715893615, 164.76897155725865, 131.1924387822793, 254.26353549139458, 737.063452033118, 457.286249790394, 129.41074883363385, 339.70743853771944, 375.10397717421836, 558.9554270153359, 303.93268175394513, 343.644212133402, 225.01180650275523, 202.09229485991983, 1124.8605775270835, 333.6240415604336, 674.1765976874035, 1147.9534197319897, 657.7278839365699, 1024.389448468431, 755.3240143647497, 282.3170065550973, 426.54122568638417, 415.0669615585406, 451.9067795263298, 344.5578275741955, 403.4977000700676, 472.5158462841605, 398.53835306967034, 328.75980845324756, 350.99562343905035, 369.94424074627153, 362.14678933077863, 329.7648320511531], \"Total\": [12283.0, 8500.0, 11658.0, 5169.0, 15167.0, 9219.0, 7979.0, 5002.0, 6199.0, 12670.0, 8398.0, 8352.0, 12368.0, 15687.0, 2563.0, 2615.0, 3889.0, 10126.0, 10201.0, 2250.0, 6332.0, 15449.0, 2162.0, 3026.0, 5623.0, 6128.0, 3354.0, 3095.0, 3933.0, 2738.0, 370.6054250480162, 243.4816015973762, 214.05935489671867, 114.20691411301934, 108.0612344419992, 110.32096549131143, 268.9246692387732, 143.39587069751008, 74.2549158667985, 49.7320969452412, 50.439011152465305, 47.37188771407536, 45.889177073695144, 45.75074666045402, 58.870620510135495, 45.07590872725019, 46.44100593529676, 129.18103990039987, 246.7633662395683, 39.04494700584721, 37.59831538016633, 45.30171802238917, 37.529474677722654, 36.13024051576535, 44.538565692970614, 34.58065459884615, 35.83914337313567, 70.33661999514476, 42.51754074153897, 30.40922697272056, 592.1791610238113, 233.02147722984577, 287.49465100186535, 6199.159609413514, 129.44994667382474, 257.02065886071875, 386.93032846024977, 504.25296800679985, 211.2610683457472, 270.3481852161312, 199.382785480661, 798.504572374789, 191.4144446881757, 116.63693721396862, 1421.9356510501939, 304.8145158372667, 2612.0973841677637, 237.1924534524527, 238.7717803759404, 3320.789187191928, 2909.841902983996, 3660.272530527685, 12670.501207527719, 1258.8022366814196, 672.5739237834653, 417.2904188868765, 15449.38431493172, 15687.915539559808, 374.9924872453699, 10126.597569456835, 4797.745693407137, 2096.4435206987628, 3799.2066253060702, 2616.4666826014823, 12240.016776380811, 6332.70659884301, 10558.828701866076, 3661.9003574673166, 8629.525115719838, 3953.2570912985725, 3248.5464133342025, 6175.317360071344, 9687.731435033478, 2365.424282283367, 5323.900995582752, 4295.33905931681, 7442.7129399634705, 11658.143058045558, 8376.785085749374, 5535.601907948143, 4298.838988613579, 7024.057337933695, 8229.470141257108, 193.81277231179618, 157.5656457759618, 145.89838722648986, 134.7260212819617, 108.78801227322455, 119.31669083877465, 97.62061808284658, 80.26081486684423, 79.55515667858346, 83.48639968072958, 77.73377397933918, 72.31401681510157, 70.41471215807377, 69.41867243455256, 79.8878216975953, 63.26975639657628, 63.84686446509139, 61.55139101582068, 60.72757144999663, 60.556610168497116, 55.327099001140354, 54.947651252244974, 53.1752408666942, 50.433935542161606, 119.76702850688666, 47.95762189294559, 69.24482705643597, 46.8641617296592, 47.147858464872684, 45.202464115716865, 184.28899874303346, 369.8832268357505, 133.72511627563318, 219.81173220677888, 93.81094072971386, 145.8799159751595, 141.07884377711162, 80.53929020506068, 587.6199548456036, 335.9097193218285, 115.36107846379612, 157.31231758944307, 8352.446595545027, 8398.933004207236, 15167.531707954915, 227.12758721220436, 1549.7273942536742, 946.6276582781632, 410.86992453226514, 1819.8063302714224, 901.4339390998556, 6332.70659884301, 2546.4134177369324, 10126.597569456835, 2004.7463111881636, 12240.016776380811, 1420.429727548532, 1363.4643596043004, 700.506646264473, 7587.59118093697, 5804.753580119967, 3154.4174019345087, 3405.3753793040974, 3090.5612660398397, 8384.660269502067, 5281.2991417007615, 1763.5197965003283, 12368.193853889026, 979.0218965172375, 6175.317360071344, 15687.915539559808, 2831.051204542308, 8376.785085749374, 10558.828701866076, 3661.9003574673166, 12283.900113941749, 5468.243769516879, 6071.5044026013065, 7944.723258405572, 6296.914983401824, 6939.8292698442465, 7024.057337933695, 10944.872333864383, 12670.501207527719, 8629.525115719838, 574.018010912556, 298.14276696934, 209.22178783971518, 486.5111457765177, 185.0360694449313, 224.4571502015523, 119.34182756328364, 137.26224760443344, 304.81036279051875, 99.71021253278882, 118.13700268115288, 77.27089787383487, 88.9907088653911, 74.73047716185137, 76.7769136238412, 89.15480747621979, 72.39287706951184, 78.94438422672708, 65.43834589548648, 67.28331954196479, 66.31124182920394, 74.84117096044096, 121.65101779100212, 62.662324268299805, 54.98006634533359, 54.95137610974549, 53.29821187363463, 53.353890437497014, 52.00952516259962, 50.5621300489857, 2367.661734087477, 152.22229215860315, 198.36487661756703, 78.14306699295152, 544.464200439954, 331.107516835497, 2738.998483473118, 3354.5680438734034, 308.48301596637566, 455.6699133069062, 522.4399150532914, 272.1181811695354, 132.04129487300702, 609.5048687733473, 327.9575473638756, 192.11277138294142, 114.51817346058056, 407.0057171625423, 320.33051576057466, 141.33841533458815, 498.31988430673147, 729.1590014685004, 800.1953764283539, 997.8447635528552, 616.9867223094549, 599.0034871901466, 1090.936543723415, 1483.728334812005, 1058.5599692295298, 1816.9334424607327, 1386.8889551013638, 1484.1629346735563, 438.4161510877821, 566.8313930381829, 9687.731435033478, 9058.463260512057, 701.0974623533655, 3542.052061015625, 6071.5044026013065, 1330.5746092486306, 696.2405748417923, 4298.838988613579, 15449.38431493172, 6128.409498952617, 8072.224948690984, 4759.093348482913, 3210.8025735705587, 8629.525115719838, 7442.7129399634705, 3500.932001972351, 7024.057337933695, 10558.828701866076, 3906.167647217003, 6939.8292698442465, 3148.7416295644803, 10944.872333864383, 8229.470141257108, 4336.045331478789, 4295.33905931681, 462.29886716911165, 474.61725181482115, 144.87206802603905, 578.4401144490115, 132.18157084052265, 108.16935563208982, 516.462276688518, 147.45732194825544, 105.02642144671161, 71.2728622220143, 138.65698232735036, 102.15015776607845, 56.12132676811491, 246.68028551282674, 450.8132389676319, 56.88008509703784, 53.55020748764991, 50.79367311567621, 45.89350982945119, 75.6543739593005, 43.22374732002261, 43.772405388314965, 44.57577413768168, 42.00720373809573, 44.13121672763226, 55.91683791322909, 46.52147556798633, 40.08944587693898, 39.760555887725396, 48.17591315841711, 733.9167825832501, 557.8743204924092, 565.2993521959163, 296.5331276163059, 119.49882286923946, 141.35856826674845, 7979.599407310659, 375.06838754111686, 171.38189227916334, 66.50791709387202, 9219.860816147055, 3095.5962360314024, 271.8585710712366, 1398.3732394047306, 1914.3085386853702, 110.31674198276214, 634.2706501133591, 1425.9133271047037, 625.3714569414916, 272.3643579067829, 430.2650478419136, 1381.940605074845, 1038.678729941096, 1543.6122588948474, 6128.409498952617, 641.2484717003189, 2674.917583083845, 555.3556794585265, 504.62404058977813, 4650.422501798554, 1048.8825945267886, 726.0451165234683, 4134.073624982041, 1249.9769568447962, 8376.785085749374, 10201.503988244262, 7692.8527809042835, 6071.5044026013065, 4531.030366670392, 7944.723258405572, 12368.193853889026, 10944.872333864383, 8072.224948690984, 4759.093348482913, 15687.915539559808, 10617.802078127761, 8229.470141257108, 4797.745693407137, 12240.016776380811, 8629.525115719838, 15167.531707954915, 15449.38431493172, 316.8593209260715, 255.7007884505425, 155.2504504573159, 131.62108507487642, 129.797926397408, 242.8203721606674, 85.32158105241061, 76.17997578429815, 90.64626839491844, 65.95140123135218, 85.21177513896713, 59.96708772481407, 59.832431760902175, 54.12372577303215, 54.49613153291512, 54.85205000068935, 59.09842167707083, 52.22463493917317, 46.2698797580901, 39.84809642832596, 38.61803148105911, 36.869941993266494, 100.63440563693212, 33.22966737030136, 31.07949315724669, 32.20026547210558, 36.543196930679784, 29.44163234645215, 29.44913975054713, 65.64387521667454, 1209.726239916782, 284.39661311592795, 505.6790039524803, 57.435093109055934, 51.531812596379574, 408.9035048011428, 112.44340736090693, 60.553907527209645, 63.23204379828679, 160.46307626632333, 697.5133241459758, 1407.9854599199311, 634.8404584176408, 2276.144888125584, 5623.711063444454, 1389.0230423944417, 394.93406764586416, 183.80798470684934, 1056.8312383678665, 440.8273410091278, 1687.3714200460854, 3889.7184539441073, 1930.3152625373418, 2304.945681220321, 4544.559417005602, 619.3584269817636, 3333.141785997225, 2050.7289868355706, 2108.540848083316, 5317.904726723903, 1308.2691551516466, 3060.5845952689124, 497.47739587704615, 1208.2285535060842, 15449.38431493172, 10617.802078127761, 2696.520911934356, 10201.503988244262, 2515.8996625209775, 7692.8527809042835, 3906.167647217003, 3273.48182776118, 5337.39700198151, 8072.224948690984, 4038.593259419081, 10944.872333864383, 10558.828701866076, 5468.243769516879, 8229.470141257108, 2162.7292858326673, 121.602575383604, 104.86057557010075, 184.15373478629024, 80.151138654642, 101.08957233186935, 89.66473311146807, 85.85335111714915, 57.940983894972916, 51.89197928529687, 51.33665643176529, 51.12035020826092, 81.44098150737754, 49.713582478646764, 47.043794278349715, 67.94806786218628, 40.65350313145773, 38.05124053390936, 71.74692837571783, 36.902849596481666, 38.018700253435675, 34.678570230953966, 32.73059679164196, 31.52438819078052, 37.816478264145665, 28.3582000730668, 27.96956505202847, 27.67723320358334, 29.146807997168565, 26.32599433983239, 387.5655974485051, 67.13918924278816, 214.5365386342935, 89.0202085557253, 39.505266253093225, 39.475417519186095, 192.2389354797738, 101.63901800931194, 130.1301494171537, 182.00087361486388, 592.1105462031902, 458.4692106826085, 170.13376590475355, 536.0004655977233, 410.05157486140536, 2616.4666826014823, 387.2139402662732, 271.1187576476475, 238.39508043677108, 12670.501207527719, 4134.073624982041, 3889.7184539441073, 10201.503988244262, 10617.802078127761, 321.054440235072, 848.1915038153841, 5337.39700198151, 2552.7221734162963, 7944.723258405572, 4872.648753741226, 7692.8527809042835, 5621.045428628446, 10944.872333864383, 12240.016776380811, 8229.470141257108, 1055.088411487273, 507.6337441370299, 6905.981950224494, 2304.945681220321, 7024.057337933695, 4576.6900818589775, 5804.753580119967, 8376.785085749374, 3857.126608080702, 6296.914983401824, 8384.660269502067, 10126.597569456835, 6332.70659884301, 15687.915539559808, 7587.59118093697, 4038.593259419081, 12283.900113941749, 8398.933004207236, 15167.531707954915, 300.7912229921438, 318.98317502698364, 420.60525338195015, 382.3972828481547, 138.4845263248423, 119.30832335646915, 131.75018111737955, 102.1824088244685, 98.65771121795676, 88.45408689818669, 144.0322955694035, 52.513854833769095, 48.59235321374116, 48.47773451428824, 74.72964468841377, 42.4391907421037, 217.7811036807117, 311.1180334921825, 321.16157394504177, 453.25648023857286, 39.093828592703645, 27.151879787053243, 165.01641828424042, 26.71203030277503, 26.776317765477998, 25.53389770647031, 25.11651702712711, 25.248713785691116, 123.80821072463549, 24.142228910162654, 211.2456152095438, 72.2042135333844, 8500.278530564887, 71.85769572153738, 99.13826048728455, 11658.143058045558, 12283.900113941749, 557.3353633662126, 434.2952748298893, 1930.2746212660568, 198.68237750711182, 923.1062178027684, 808.4774682713663, 1255.2445161029373, 237.0692330066922, 12368.193853889026, 437.26019656694507, 15687.915539559808, 8384.660269502067, 653.0563687253618, 1541.397064447845, 1592.7710879167025, 705.412381459628, 498.4974916513582, 837.2062095435061, 3405.3753793040974, 5281.2991417007615, 6296.914983401824, 3661.9003574673166, 10558.828701866076, 6175.317360071344, 7692.8527809042835, 5804.753580119967, 5621.045428628446, 2258.469791595804, 5893.678348920426, 5468.243769516879, 3953.2570912985725, 7587.59118093697, 8629.525115719838, 3089.3148759429623, 2439.8429211933426, 5337.39700198151, 5323.900995582752, 6071.5044026013065, 10201.503988244262, 7442.7129399634705, 242.3784408186385, 164.85881768161698, 129.2474768352833, 114.32727546277368, 81.86397010734373, 211.25166357614194, 224.02244972837252, 70.52433676081067, 89.04267971368088, 51.295685570518984, 46.2027415013775, 62.11388861024299, 72.78867151763453, 44.39887712056096, 40.92788260633054, 39.86155960894179, 37.917825168888506, 52.81875668325072, 37.69873537773979, 131.30866710646492, 34.473719836225044, 28.015829037040117, 27.521266673297568, 33.40229328701939, 27.871829610815926, 26.11192998842781, 122.80779018598069, 24.687118562728937, 54.23325242834076, 24.45223257594725, 542.509373437124, 314.29817864166085, 853.2517111066468, 238.09178539063836, 334.261911216591, 62.546549428258274, 55.44200528401027, 650.17035642504, 287.27049562682794, 1634.4327605917608, 482.52859309945995, 142.36697716914475, 359.5596649031911, 396.8938944563484, 590.4101370268432, 101.14412640829282, 606.3747301923678, 421.85543569460566, 2629.097255104349, 175.37155532980015, 725.8630328042914, 1145.253421965942, 528.1610392520263, 2219.7212345636362, 3357.1573027865616, 2401.441521538735, 3070.7235570758066, 4576.6900818589775, 364.7699418125808, 3333.141785997225, 617.2989502930965, 595.0004317907498, 1225.8461796647705, 10944.872333864383, 2424.5967408950432, 3638.536926427646, 2119.8195038394824, 3273.48182776118, 5024.2864233158625, 9058.463260512057, 10558.828701866076, 2552.7221734162963, 2245.307588202388, 3999.9785430914994, 4991.289291102814, 5893.678348920426, 10617.802078127761, 8072.224948690984, 6939.8292698442465, 5317.904726723903, 7944.723258405572, 6905.981950224494, 5082.933942466422, 189.12343168976167, 162.5566546320299, 201.1539284617792, 193.72144521813243, 141.2522914859832, 177.17543322193876, 179.10122869009015, 111.58300930479962, 274.85401345171897, 196.53225979561725, 272.5061081567483, 167.54606633575546, 133.61663858864776, 157.89997513226217, 415.78623801762126, 130.8167353975879, 129.03011564870133, 81.41912656092909, 78.7083173757393, 85.68614016915855, 76.94261583028846, 122.54851206213739, 86.44595275099583, 801.8911984581079, 69.96494340273588, 158.94671404088962, 85.52382230112363, 68.6011582478478, 733.7261821476343, 67.1398986465256, 349.361197046668, 474.06123771686475, 162.57909977255474, 115.11086619840782, 5169.304953711534, 475.530496135671, 153.34088039440567, 5002.198691144511, 1612.8884976438906, 213.82281249012155, 2250.299090943327, 507.4000146222138, 193.13657257016544, 394.8184997774631, 1189.1220223765356, 428.74611820902714, 592.4343262162683, 287.0362279613127, 801.4725762201911, 433.2354258322798, 947.0375053413023, 1933.9726391372365, 773.9516384893097, 233.5086530489256, 3933.5854374648275, 1119.2472186912796, 1697.5119842793624, 599.0244799703706, 1288.8994914285083, 436.1171381062598, 445.7732379961636, 4544.593198598076, 4650.422501798554, 9687.731435033478, 10617.802078127761, 7442.7129399634705, 6939.8292698442465, 8629.525115719838, 15449.38431493172, 8229.470141257108, 8072.224948690984, 9058.463260512057, 10944.872333864383, 5024.2864233158625, 367.0510353886617, 215.1505188130172, 266.6638119672953, 77.32086581740012, 66.66766850271947, 76.70110970747277, 54.68105156251558, 57.554019907161916, 58.30272231426537, 57.230680887440386, 68.05926974671132, 51.27773216083922, 189.52821895225924, 1253.1497936577478, 186.65563923274559, 44.79869004665741, 43.736024096332166, 41.698867156083, 60.694506763631125, 37.70401990876344, 37.22591383101143, 42.21964022912256, 36.017110139745974, 30.065145406726177, 28.811085845102937, 29.75743317100338, 26.02323918775387, 25.053391847950742, 24.552625688958194, 23.697380053141018, 45.64242485090859, 36.38652831109224, 94.0270597863459, 267.9929352071649, 264.185862433891, 82.22694786404946, 485.06376130625443, 93.5013920827142, 2563.7059679122385, 270.1474326597248, 2615.387441311036, 97.85015635254831, 134.2553431174981, 151.36511397138702, 219.35860448959573, 167.75620506871044, 3026.349636014649, 129.96435863970194, 222.5347575412845, 168.61439945324457, 400.2788807863285, 1731.7878561145394, 926.793423393025, 172.12993391498904, 672.5722621445725, 776.1494906960113, 1532.1312029639103, 632.754883504789, 847.4077733778049, 450.98786366567685, 391.5778429793744, 9058.463260512057, 1001.787158935209, 4650.422501798554, 15167.531707954915, 5202.141261518203, 15449.38431493172, 9687.731435033478, 861.4917100649227, 2909.841902983996, 3060.5845952689124, 4395.878540277858, 2150.6062347028283, 4702.666387665327, 15687.915539559808, 6175.317360071344, 2108.540848083316, 4991.289291102814, 8072.224948690984, 7587.59118093697, 3542.052061015625], \"Category\": [\"Default\", \"Default\", \"Default\", \"Default\", \"Default\", \"Default\", \"Default\", \"Default\", \"Default\", \"Default\", \"Default\", \"Default\", \"Default\", \"Default\", \"Default\", \"Default\", \"Default\", \"Default\", \"Default\", \"Default\", \"Default\", \"Default\", \"Default\", \"Default\", \"Default\", \"Default\", \"Default\", \"Default\", \"Default\", \"Default\", \"Topic1\", \"Topic1\", \"Topic1\", \"Topic1\", \"Topic1\", \"Topic1\", \"Topic1\", \"Topic1\", \"Topic1\", \"Topic1\", \"Topic1\", \"Topic1\", \"Topic1\", \"Topic1\", \"Topic1\", \"Topic1\", \"Topic1\", \"Topic1\", \"Topic1\", \"Topic1\", \"Topic1\", \"Topic1\", \"Topic1\", \"Topic1\", \"Topic1\", \"Topic1\", \"Topic1\", \"Topic1\", \"Topic1\", \"Topic1\", \"Topic1\", \"Topic1\", \"Topic1\", \"Topic1\", \"Topic1\", \"Topic1\", \"Topic1\", \"Topic1\", \"Topic1\", \"Topic1\", \"Topic1\", \"Topic1\", \"Topic1\", \"Topic1\", \"Topic1\", \"Topic1\", \"Topic1\", \"Topic1\", \"Topic1\", \"Topic1\", \"Topic1\", \"Topic1\", \"Topic1\", \"Topic1\", \"Topic1\", \"Topic1\", \"Topic1\", \"Topic1\", \"Topic1\", \"Topic1\", \"Topic1\", \"Topic1\", \"Topic1\", \"Topic1\", \"Topic1\", \"Topic1\", \"Topic1\", \"Topic1\", \"Topic1\", \"Topic1\", \"Topic1\", \"Topic1\", \"Topic1\", \"Topic1\", \"Topic1\", \"Topic1\", \"Topic1\", \"Topic1\", \"Topic1\", \"Topic1\", \"Topic1\", \"Topic1\", \"Topic1\", \"Topic2\", \"Topic2\", \"Topic2\", \"Topic2\", \"Topic2\", \"Topic2\", \"Topic2\", \"Topic2\", \"Topic2\", \"Topic2\", \"Topic2\", \"Topic2\", \"Topic2\", \"Topic2\", \"Topic2\", \"Topic2\", \"Topic2\", \"Topic2\", \"Topic2\", \"Topic2\", \"Topic2\", \"Topic2\", \"Topic2\", \"Topic2\", \"Topic2\", \"Topic2\", \"Topic2\", \"Topic2\", \"Topic2\", \"Topic2\", \"Topic2\", \"Topic2\", \"Topic2\", \"Topic2\", \"Topic2\", \"Topic2\", \"Topic2\", \"Topic2\", \"Topic2\", \"Topic2\", \"Topic2\", \"Topic2\", \"Topic2\", \"Topic2\", \"Topic2\", \"Topic2\", \"Topic2\", \"Topic2\", \"Topic2\", \"Topic2\", \"Topic2\", \"Topic2\", \"Topic2\", \"Topic2\", \"Topic2\", \"Topic2\", \"Topic2\", \"Topic2\", \"Topic2\", \"Topic2\", \"Topic2\", \"Topic2\", \"Topic2\", \"Topic2\", \"Topic2\", \"Topic2\", \"Topic2\", \"Topic2\", \"Topic2\", \"Topic2\", \"Topic2\", \"Topic2\", \"Topic2\", \"Topic2\", \"Topic2\", \"Topic2\", \"Topic2\", \"Topic2\", \"Topic2\", \"Topic2\", \"Topic2\", \"Topic2\", \"Topic2\", \"Topic2\", \"Topic2\", \"Topic3\", \"Topic3\", \"Topic3\", \"Topic3\", \"Topic3\", \"Topic3\", \"Topic3\", \"Topic3\", \"Topic3\", \"Topic3\", \"Topic3\", \"Topic3\", \"Topic3\", \"Topic3\", \"Topic3\", \"Topic3\", \"Topic3\", \"Topic3\", \"Topic3\", \"Topic3\", \"Topic3\", \"Topic3\", \"Topic3\", \"Topic3\", \"Topic3\", \"Topic3\", \"Topic3\", \"Topic3\", \"Topic3\", \"Topic3\", \"Topic3\", \"Topic3\", \"Topic3\", \"Topic3\", \"Topic3\", \"Topic3\", \"Topic3\", \"Topic3\", \"Topic3\", \"Topic3\", \"Topic3\", \"Topic3\", \"Topic3\", \"Topic3\", \"Topic3\", \"Topic3\", \"Topic3\", \"Topic3\", \"Topic3\", \"Topic3\", \"Topic3\", \"Topic3\", \"Topic3\", \"Topic3\", \"Topic3\", \"Topic3\", \"Topic3\", \"Topic3\", \"Topic3\", \"Topic3\", \"Topic3\", \"Topic3\", \"Topic3\", \"Topic3\", \"Topic3\", \"Topic3\", \"Topic3\", \"Topic3\", \"Topic3\", \"Topic3\", \"Topic3\", \"Topic3\", \"Topic3\", \"Topic3\", \"Topic3\", \"Topic3\", \"Topic3\", \"Topic3\", \"Topic3\", \"Topic3\", \"Topic3\", \"Topic3\", \"Topic3\", \"Topic3\", \"Topic3\", \"Topic3\", \"Topic3\", \"Topic3\", \"Topic3\", \"Topic4\", \"Topic4\", \"Topic4\", \"Topic4\", \"Topic4\", \"Topic4\", \"Topic4\", \"Topic4\", \"Topic4\", \"Topic4\", \"Topic4\", \"Topic4\", \"Topic4\", \"Topic4\", \"Topic4\", \"Topic4\", \"Topic4\", \"Topic4\", \"Topic4\", \"Topic4\", \"Topic4\", \"Topic4\", \"Topic4\", \"Topic4\", \"Topic4\", \"Topic4\", \"Topic4\", \"Topic4\", \"Topic4\", \"Topic4\", \"Topic4\", \"Topic4\", \"Topic4\", \"Topic4\", \"Topic4\", \"Topic4\", \"Topic4\", \"Topic4\", \"Topic4\", \"Topic4\", \"Topic4\", \"Topic4\", \"Topic4\", \"Topic4\", \"Topic4\", \"Topic4\", \"Topic4\", \"Topic4\", \"Topic4\", \"Topic4\", \"Topic4\", \"Topic4\", \"Topic4\", \"Topic4\", \"Topic4\", \"Topic4\", \"Topic4\", \"Topic4\", \"Topic4\", \"Topic4\", \"Topic4\", \"Topic4\", \"Topic4\", \"Topic4\", \"Topic4\", \"Topic4\", \"Topic4\", \"Topic4\", \"Topic4\", \"Topic4\", \"Topic4\", \"Topic4\", \"Topic4\", \"Topic4\", \"Topic4\", \"Topic4\", \"Topic4\", \"Topic4\", \"Topic4\", \"Topic4\", \"Topic4\", \"Topic4\", \"Topic5\", \"Topic5\", \"Topic5\", \"Topic5\", \"Topic5\", \"Topic5\", \"Topic5\", \"Topic5\", \"Topic5\", \"Topic5\", \"Topic5\", \"Topic5\", \"Topic5\", \"Topic5\", \"Topic5\", \"Topic5\", \"Topic5\", \"Topic5\", \"Topic5\", \"Topic5\", \"Topic5\", \"Topic5\", \"Topic5\", \"Topic5\", \"Topic5\", \"Topic5\", \"Topic5\", \"Topic5\", \"Topic5\", \"Topic5\", \"Topic5\", \"Topic5\", \"Topic5\", \"Topic5\", \"Topic5\", \"Topic5\", \"Topic5\", \"Topic5\", \"Topic5\", \"Topic5\", \"Topic5\", \"Topic5\", \"Topic5\", \"Topic5\", \"Topic5\", \"Topic5\", \"Topic5\", \"Topic5\", \"Topic5\", \"Topic5\", \"Topic5\", \"Topic5\", \"Topic5\", \"Topic5\", \"Topic5\", \"Topic5\", \"Topic5\", \"Topic5\", \"Topic5\", \"Topic5\", \"Topic5\", \"Topic5\", \"Topic5\", \"Topic5\", \"Topic5\", \"Topic5\", \"Topic5\", \"Topic5\", \"Topic5\", \"Topic5\", \"Topic5\", \"Topic5\", \"Topic5\", \"Topic5\", \"Topic5\", \"Topic5\", \"Topic5\", \"Topic5\", \"Topic5\", \"Topic6\", \"Topic6\", \"Topic6\", \"Topic6\", \"Topic6\", \"Topic6\", \"Topic6\", \"Topic6\", \"Topic6\", \"Topic6\", \"Topic6\", \"Topic6\", \"Topic6\", \"Topic6\", \"Topic6\", \"Topic6\", \"Topic6\", \"Topic6\", \"Topic6\", \"Topic6\", \"Topic6\", \"Topic6\", \"Topic6\", \"Topic6\", \"Topic6\", \"Topic6\", \"Topic6\", \"Topic6\", \"Topic6\", \"Topic6\", \"Topic6\", \"Topic6\", \"Topic6\", \"Topic6\", \"Topic6\", \"Topic6\", \"Topic6\", \"Topic6\", \"Topic6\", \"Topic6\", \"Topic6\", \"Topic6\", \"Topic6\", \"Topic6\", \"Topic6\", \"Topic6\", \"Topic6\", \"Topic6\", \"Topic6\", \"Topic6\", \"Topic6\", \"Topic6\", \"Topic6\", \"Topic6\", \"Topic6\", \"Topic6\", \"Topic6\", \"Topic6\", \"Topic6\", \"Topic6\", \"Topic6\", \"Topic6\", \"Topic6\", \"Topic6\", \"Topic6\", \"Topic6\", \"Topic6\", \"Topic6\", \"Topic6\", \"Topic6\", \"Topic6\", \"Topic6\", \"Topic6\", \"Topic6\", \"Topic6\", \"Topic6\", \"Topic6\", \"Topic6\", \"Topic6\", \"Topic6\", \"Topic6\", \"Topic6\", \"Topic6\", \"Topic6\", \"Topic7\", \"Topic7\", \"Topic7\", \"Topic7\", \"Topic7\", \"Topic7\", \"Topic7\", \"Topic7\", \"Topic7\", \"Topic7\", \"Topic7\", \"Topic7\", \"Topic7\", \"Topic7\", \"Topic7\", \"Topic7\", \"Topic7\", \"Topic7\", \"Topic7\", \"Topic7\", \"Topic7\", \"Topic7\", \"Topic7\", \"Topic7\", \"Topic7\", \"Topic7\", \"Topic7\", \"Topic7\", \"Topic7\", \"Topic7\", \"Topic7\", \"Topic7\", \"Topic7\", \"Topic7\", \"Topic7\", \"Topic7\", \"Topic7\", \"Topic7\", \"Topic7\", \"Topic7\", \"Topic7\", \"Topic7\", \"Topic7\", \"Topic7\", \"Topic7\", \"Topic7\", \"Topic7\", \"Topic7\", \"Topic7\", \"Topic7\", \"Topic7\", \"Topic7\", \"Topic7\", \"Topic7\", \"Topic7\", \"Topic7\", \"Topic7\", \"Topic7\", \"Topic7\", \"Topic7\", \"Topic7\", \"Topic7\", \"Topic7\", \"Topic7\", \"Topic7\", \"Topic7\", \"Topic7\", \"Topic7\", \"Topic7\", \"Topic7\", \"Topic7\", \"Topic7\", \"Topic7\", \"Topic7\", \"Topic7\", \"Topic7\", \"Topic7\", \"Topic8\", \"Topic8\", \"Topic8\", \"Topic8\", \"Topic8\", \"Topic8\", \"Topic8\", \"Topic8\", \"Topic8\", \"Topic8\", \"Topic8\", \"Topic8\", \"Topic8\", \"Topic8\", \"Topic8\", \"Topic8\", \"Topic8\", \"Topic8\", \"Topic8\", \"Topic8\", \"Topic8\", \"Topic8\", \"Topic8\", \"Topic8\", \"Topic8\", \"Topic8\", \"Topic8\", \"Topic8\", \"Topic8\", \"Topic8\", \"Topic8\", \"Topic8\", \"Topic8\", \"Topic8\", \"Topic8\", \"Topic8\", \"Topic8\", \"Topic8\", \"Topic8\", \"Topic8\", \"Topic8\", \"Topic8\", \"Topic8\", \"Topic8\", \"Topic8\", \"Topic8\", \"Topic8\", \"Topic8\", \"Topic8\", \"Topic8\", \"Topic8\", \"Topic8\", \"Topic8\", \"Topic8\", \"Topic8\", \"Topic8\", \"Topic8\", \"Topic8\", \"Topic8\", \"Topic8\", \"Topic8\", \"Topic8\", \"Topic8\", \"Topic8\", \"Topic8\", \"Topic8\", \"Topic8\", \"Topic8\", \"Topic8\", \"Topic8\", \"Topic8\", \"Topic8\", \"Topic8\", \"Topic8\", \"Topic8\", \"Topic8\", \"Topic8\", \"Topic8\", \"Topic8\", \"Topic8\", \"Topic8\", \"Topic8\", \"Topic8\", \"Topic9\", \"Topic9\", \"Topic9\", \"Topic9\", \"Topic9\", \"Topic9\", \"Topic9\", \"Topic9\", \"Topic9\", \"Topic9\", \"Topic9\", \"Topic9\", \"Topic9\", \"Topic9\", \"Topic9\", \"Topic9\", \"Topic9\", \"Topic9\", \"Topic9\", \"Topic9\", \"Topic9\", \"Topic9\", \"Topic9\", \"Topic9\", \"Topic9\", \"Topic9\", \"Topic9\", \"Topic9\", \"Topic9\", \"Topic9\", \"Topic9\", \"Topic9\", \"Topic9\", \"Topic9\", \"Topic9\", \"Topic9\", \"Topic9\", \"Topic9\", \"Topic9\", \"Topic9\", \"Topic9\", \"Topic9\", \"Topic9\", \"Topic9\", \"Topic9\", \"Topic9\", \"Topic9\", \"Topic9\", \"Topic9\", \"Topic9\", \"Topic9\", \"Topic9\", \"Topic9\", \"Topic9\", \"Topic9\", \"Topic9\", \"Topic9\", \"Topic9\", \"Topic9\", \"Topic9\", \"Topic9\", \"Topic9\", \"Topic9\", \"Topic9\", \"Topic9\", \"Topic9\", \"Topic9\", \"Topic9\", \"Topic9\", \"Topic9\", \"Topic9\", \"Topic9\", \"Topic9\", \"Topic9\", \"Topic10\", \"Topic10\", \"Topic10\", \"Topic10\", \"Topic10\", \"Topic10\", \"Topic10\", \"Topic10\", \"Topic10\", \"Topic10\", \"Topic10\", \"Topic10\", \"Topic10\", \"Topic10\", \"Topic10\", \"Topic10\", \"Topic10\", \"Topic10\", \"Topic10\", \"Topic10\", \"Topic10\", \"Topic10\", \"Topic10\", \"Topic10\", \"Topic10\", \"Topic10\", \"Topic10\", \"Topic10\", \"Topic10\", \"Topic10\", \"Topic10\", \"Topic10\", \"Topic10\", \"Topic10\", \"Topic10\", \"Topic10\", \"Topic10\", \"Topic10\", \"Topic10\", \"Topic10\", \"Topic10\", \"Topic10\", \"Topic10\", \"Topic10\", \"Topic10\", \"Topic10\", \"Topic10\", \"Topic10\", \"Topic10\", \"Topic10\", \"Topic10\", \"Topic10\", \"Topic10\", \"Topic10\", \"Topic10\", \"Topic10\", \"Topic10\", \"Topic10\", \"Topic10\", \"Topic10\", \"Topic10\", \"Topic10\", \"Topic10\", \"Topic10\", \"Topic10\", \"Topic10\", \"Topic10\", \"Topic10\", \"Topic10\", \"Topic10\", \"Topic10\", \"Topic10\", \"Topic10\", \"Topic10\", \"Topic10\", \"Topic10\", \"Topic10\", \"Topic10\", \"Topic10\", \"Topic10\", \"Topic10\"], \"logprob\": [30.0, 29.0, 28.0, 27.0, 26.0, 25.0, 24.0, 23.0, 22.0, 21.0, 20.0, 19.0, 18.0, 17.0, 16.0, 15.0, 14.0, 13.0, 12.0, 11.0, 10.0, 9.0, 8.0, 7.0, 6.0, 5.0, 4.0, 3.0, 2.0, 1.0, -6.5888, -7.0096, -7.1398, -7.7709, -7.8278, -7.8079, -6.9197, -7.5518, -8.2109, -8.6127, -8.5993, -8.6622, -8.6946, -8.6982, -8.4461, -8.7131, -8.6834, -7.6617, -7.0159, -8.8596, -8.8983, -8.7121, -8.9004, -8.9392, -8.7301, -8.9842, -8.9486, -8.2755, -8.7795, -9.1163, -6.1572, -7.0817, -6.8775, -3.8875, -7.6828, -7.0205, -6.6287, -6.4089, -7.2455, -7.0115, -7.3032, -6.0007, -7.3567, -7.8227, -5.5109, -6.9495, -4.9985, -7.1889, -7.1892, -4.9129, -5.027, -4.899, -3.923, -5.8425, -6.3592, -6.7414, -3.9332, -4.0346, -6.8538, -4.4601, -5.0088, -5.6332, -5.2606, -5.5405, -4.5409, -4.9756, -4.6577, -5.428, -4.954, -5.4632, -5.5979, -5.2526, -5.0175, -5.7835, -5.4343, -5.535, -5.3596, -5.2075, -5.4311, -5.5674, -5.6446, -5.5665, -5.5964, -7.226, -7.434, -7.5118, -7.5921, -7.8071, -7.7158, -7.9166, -8.114, -8.1229, -8.0748, -8.1464, -8.2198, -8.2465, -8.2609, -8.1207, -8.355, -8.3461, -8.3828, -8.3966, -8.3995, -8.4912, -8.4981, -8.5318, -8.5857, -7.7212, -8.6366, -8.2694, -8.6602, -8.6542, -8.6969, -7.2941, -6.6088, -7.6168, -7.1262, -7.97, -7.5343, -7.5805, -8.1252, -6.1996, -6.7639, -7.7833, -7.4893, -3.7539, -3.7717, -3.229, -7.174, -5.4467, -5.8912, -6.6543, -5.3509, -6.0145, -4.3936, -5.1828, -4.0396, -5.4417, -4.0335, -5.7675, -5.8006, -6.3316, -4.5208, -4.7317, -5.1975, -5.1597, -5.3291, -4.685, -5.0486, -5.802, -4.5385, -6.1966, -5.0418, -4.6804, -5.6572, -5.2033, -5.1417, -5.6076, -5.109, -5.4788, -5.4481, -5.39, -5.4575, -5.4423, -5.4767, -5.4125, -5.3975, -5.467, -6.0951, -6.7513, -7.1068, -6.2634, -7.2308, -7.039, -7.6715, -7.5317, -6.7348, -7.8525, -7.6847, -8.11, -7.9692, -8.1442, -8.1176, -7.9683, -8.1766, -8.0905, -8.2783, -8.2508, -8.2657, -8.1449, -7.6603, -8.3238, -8.4551, -8.4557, -8.4867, -8.4862, -8.512, -8.5405, -4.7053, -7.4401, -7.1782, -8.1069, -6.2003, -6.6924, -4.6306, -4.4581, -6.7747, -6.4021, -6.2722, -6.9027, -7.5982, -6.1303, -6.7248, -7.24, -7.736, -6.5374, -6.7642, -7.5362, -6.3706, -6.0214, -5.9487, -5.7711, -6.2175, -6.245, -5.7306, -5.4907, -5.8019, -5.3878, -5.6155, -5.6034, -6.5504, -6.3638, -4.461, -4.5909, -6.2667, -5.3363, -5.0369, -5.9106, -6.3014, -5.3691, -4.7675, -5.2337, -5.1485, -5.4408, -5.6233, -5.2389, -5.309, -5.6678, -5.494, -5.4891, -5.7397, -5.6342, -5.7909, -5.6238, -5.6705, -5.7657, -5.7718, -6.2757, -6.2499, -7.4394, -6.055, -7.5323, -7.7328, -6.1695, -7.423, -7.7629, -8.154, -7.4895, -7.7972, -8.3965, -6.9161, -6.3133, -8.384, -8.4447, -8.498, -8.6017, -8.1025, -8.6625, -8.6501, -8.632, -8.6917, -8.643, -8.4064, -8.5909, -8.7397, -8.748, -8.5561, -5.8361, -6.1158, -6.1094, -6.7489, -7.6533, -7.49, -3.5278, -6.5302, -7.3027, -8.2379, -3.4329, -4.4979, -6.8605, -5.3007, -5.0045, -7.7459, -6.0668, -5.3047, -6.0994, -6.8901, -6.4718, -5.4085, -5.6985, -5.3679, -4.2183, -6.1684, -5.0073, -6.3394, -6.4315, -4.729, -5.908, -6.1698, -4.9536, -5.8116, -4.674, -4.6114, -4.8111, -4.9533, -5.1458, -4.8979, -4.7498, -4.8219, -5.1166, -5.3371, -5.0348, -5.1679, -5.318, -5.4828, -5.2668, -5.3876, -5.2839, -5.4219, -6.5212, -6.7364, -7.2376, -7.4037, -7.4178, -6.7919, -7.8412, -7.9556, -7.7831, -8.1016, -7.8455, -8.1981, -8.2003, -8.3022, -8.2955, -8.289, -8.2149, -8.3393, -8.4618, -8.6145, -8.6468, -8.695, -7.6914, -8.8008, -8.8697, -8.8343, -8.7079, -8.9252, -8.925, -8.1242, -5.2297, -6.6673, -6.1066, -8.2627, -8.3699, -6.3587, -7.6113, -8.2133, -8.1733, -7.28, -5.9025, -5.2613, -6.0168, -4.8295, -4.1075, -5.3968, -6.5293, -7.2117, -5.6583, -6.4337, -5.2621, -4.5421, -5.1636, -5.0868, -4.5588, -6.2041, -4.8243, -5.228, -5.2193, -4.4805, -5.6658, -5.0892, -6.4416, -5.8107, -4.0419, -4.4067, -5.2931, -4.4869, -5.3941, -4.8032, -5.1878, -5.2984, -5.0619, -5.0557, -5.4206, -5.1398, -5.185, -5.3849, -5.3089, -4.4723, -7.3526, -7.502, -6.9399, -7.7734, -7.5427, -7.6629, -7.7087, -8.1025, -8.2145, -8.2254, -8.2296, -7.7642, -8.2581, -8.3146, -7.9495, -8.4635, -8.5311, -7.8976, -8.5626, -8.5328, -8.6265, -8.6858, -8.7244, -8.5431, -8.8335, -8.8479, -8.859, -8.8086, -8.9117, -6.2352, -7.9762, -6.8479, -7.7111, -8.5084, -8.5111, -7.0422, -7.6335, -7.4228, -7.1249, -6.0638, -6.3024, -7.197, -6.1831, -6.4429, -4.8393, -6.5517, -6.8614, -6.9707, -3.7566, -4.6759, -4.7912, -4.0742, -4.0861, -6.7515, -6.032, -4.7189, -5.292, -4.5483, -4.9699, -4.727, -4.9514, -4.6186, -4.556, -4.8298, -6.0812, -6.5258, -5.0602, -5.6974, -5.1297, -5.3581, -5.2757, -5.2178, -5.5746, -5.3896, -5.2847, -5.2147, -5.3955, -5.1909, -5.4331, -5.6036, -5.4263, -5.5599, -5.566, -6.3687, -6.3102, -6.0343, -6.1299, -7.1479, -7.298, -7.1992, -7.4546, -7.4916, -7.602, -7.1149, -8.1292, -8.2073, -8.2108, -7.7784, -8.3455, -6.7106, -6.3542, -6.3263, -5.9841, -8.4367, -8.8045, -7.0, -8.8213, -8.8194, -8.8684, -8.8851, -8.8805, -7.2908, -8.9291, -6.7738, -7.8376, -3.1537, -7.8525, -7.5648, -3.0424, -2.9941, -5.9406, -6.1753, -4.8411, -6.9395, -5.563, -5.6879, -5.3601, -6.8152, -3.6078, -6.3838, -3.6906, -4.1949, -6.093, -5.5261, -5.5419, -6.109, -6.364, -6.0861, -5.3771, -5.254, -5.1672, -5.452, -4.9852, -5.2755, -5.1914, -5.3146, -5.4135, -5.7175, -5.4405, -5.463, -5.5659, -5.38, -5.4324, -5.6661, -5.7142, -5.5908, -5.5926, -5.5735, -5.5086, -5.5614, -6.3552, -6.7414, -6.9878, -7.1107, -7.4463, -6.4988, -6.4403, -7.5991, -7.3683, -7.9214, -8.027, -7.7313, -7.5731, -8.0682, -8.1506, -8.1776, -8.2288, -7.8988, -8.2367, -6.9892, -8.3279, -8.5401, -8.5587, -8.366, -8.5474, -8.6131, -7.0662, -8.6709, -7.886, -8.6836, -5.5983, -6.142, -5.1665, -6.4421, -6.1243, -7.7582, -7.8852, -5.5762, -6.3454, -4.7324, -5.8773, -7.0016, -6.1639, -6.0756, -5.7271, -7.3304, -5.7619, -6.0945, -4.5554, -6.8709, -5.699, -5.371, -6.048, -4.9591, -4.7144, -4.967, -4.8292, -4.5872, -6.3655, -4.9519, -6.0372, -6.071, -5.643, -4.487, -5.303, -5.1163, -5.4568, -5.2968, -5.123, -4.9238, -4.9104, -5.4536, -5.5312, -5.3863, -5.3394, -5.3007, -5.1744, -5.2653, -5.3986, -5.4428, -5.4183, -5.4523, -5.5068, -6.579, -6.7312, -6.5184, -6.557, -6.8729, -6.6463, -6.636, -7.11, -6.209, -6.5448, -6.2182, -6.7048, -6.9311, -6.7644, -5.7966, -6.9535, -6.9674, -7.4281, -7.4624, -7.3776, -7.4853, -7.0203, -7.3694, -5.1425, -7.5816, -6.7612, -7.3811, -7.6018, -5.232, -7.6235, -5.98, -5.6792, -6.7416, -7.0846, -3.3215, -5.6843, -6.8028, -3.3971, -4.5031, -6.4825, -4.2129, -5.6509, -6.5821, -5.9053, -4.917, -5.8569, -5.5633, -6.2327, -5.3611, -5.8948, -5.2382, -4.658, -5.4406, -6.4278, -4.246, -5.2282, -4.9317, -5.72, -5.1633, -5.9996, -6.0393, -5.1602, -5.1928, -5.1252, -5.1382, -5.4505, -5.4717, -5.4428, -5.3859, -5.4984, -5.5068, -5.538, -5.5295, -5.6399, -5.6109, -6.1487, -5.9367, -7.1777, -7.3281, -7.1907, -7.5291, -7.478, -7.4652, -7.4842, -7.3114, -7.5945, -6.2878, -4.4006, -6.3049, -7.7322, -7.7567, -7.8055, -7.4306, -7.9087, -7.9215, -7.796, -7.9555, -8.1411, -8.1852, -8.1556, -8.2904, -8.33, -8.3509, -8.3876, -7.7341, -7.9591, -7.0255, -6.0034, -6.0256, -7.1626, -5.4579, -7.0455, -3.8811, -6.029, -3.9267, -7.0315, -6.76, -6.6538, -6.3364, -6.6136, -4.2291, -6.8343, -6.4094, -6.6373, -5.9756, -4.9113, -5.3886, -6.6509, -5.6858, -5.5867, -5.1879, -5.7971, -5.6743, -6.0978, -6.2052, -4.4885, -5.7039, -5.0004, -4.4682, -5.0251, -4.5821, -4.8868, -5.8709, -5.4582, -5.4855, -5.4005, -5.6717, -5.5138, -5.3559, -5.5261, -5.7186, -5.6532, -5.6006, -5.6219, -5.7156], \"loglift\": [30.0, 29.0, 28.0, 27.0, 26.0, 25.0, 24.0, 23.0, 22.0, 21.0, 20.0, 19.0, 18.0, 17.0, 16.0, 15.0, 14.0, 13.0, 12.0, 11.0, 10.0, 9.0, 8.0, 7.0, 6.0, 5.0, 4.0, 3.0, 2.0, 1.0, 1.9971, 1.9964, 1.995, 1.9922, 1.9906, 1.9897, 1.9869, 1.9836, 1.9827, 1.9817, 1.981, 1.9809, 1.9802, 1.9797, 1.9796, 1.9796, 1.9795, 1.9782, 1.9767, 1.9767, 1.9758, 1.9756, 1.9756, 1.9747, 1.9746, 1.9736, 1.9734, 1.9723, 1.9716, 1.97, 1.9601, 1.9682, 1.9623, 1.8813, 1.955, 1.9314, 1.9141, 1.869, 1.9025, 1.8899, 1.9027, 1.8176, 1.8899, 1.9193, 1.7304, 1.8318, 1.6347, 1.8433, 1.8364, 1.4801, 1.4982, 1.3968, 1.1311, 1.5206, 1.6308, 1.7259, 0.9225, 0.8058, 1.7204, 0.8181, 1.0164, 1.2198, 0.9979, 1.0909, 0.5477, 0.7719, 0.5786, 0.8673, 0.4841, 0.7555, 0.8172, 0.5201, 0.305, 0.9488, 0.4868, 0.6008, 0.2264, -0.0702, 0.0368, 0.3147, 0.4903, 0.0774, -0.1108, 2.0081, 2.0073, 2.0063, 2.0057, 2.0046, 2.0034, 2.0033, 2.0018, 2.0017, 2.0016, 2.0014, 2.0002, 2.0002, 2.0, 1.9997, 1.9987, 1.9984, 1.9983, 1.9981, 1.9979, 1.9966, 1.9966, 1.9956, 1.9947, 1.9943, 1.9942, 1.994, 1.9936, 1.9936, 1.993, 1.9904, 1.979, 1.9885, 1.9821, 1.9898, 1.984, 1.9713, 1.9871, 1.9254, 1.9203, 1.9697, 1.9536, 1.7169, 1.6935, 1.6451, 1.9016, 1.7085, 1.7569, 1.8285, 1.6436, 1.6826, 1.3539, 1.4759, 1.2386, 1.4561, 1.0551, 1.4749, 1.4827, 1.6176, 1.0459, 1.103, 1.247, 1.2083, 1.1358, 0.7819, 0.8805, 1.224, 0.5397, 1.4179, 0.7309, 0.16, 0.8955, 0.2645, 0.0946, 0.6878, -0.024, 0.4155, 0.3416, 0.1308, 0.2958, 0.2138, 0.1673, -0.2121, -0.3434, -0.0289, 2.0533, 2.0522, 2.0509, 2.0504, 2.0497, 2.0483, 2.0475, 2.0475, 2.0465, 2.0463, 2.0445, 2.0437, 2.0433, 2.0429, 2.0426, 2.0424, 2.0423, 2.0418, 2.0416, 2.0414, 2.041, 2.0408, 2.0396, 2.0395, 2.039, 2.0389, 2.0385, 2.0379, 2.0376, 2.0374, 2.0261, 2.0357, 2.0328, 2.0356, 2.001, 2.0062, 1.9551, 1.9249, 1.9947, 1.9772, 1.9704, 1.9921, 2.0198, 1.9581, 1.9834, 2.003, 2.0244, 1.9549, 1.9675, 2.0137, 1.9192, 1.8878, 1.8675, 1.8243, 1.8587, 1.8608, 1.7756, 1.7081, 1.7345, 1.6083, 1.6508, 1.5951, 1.8675, 1.7971, 0.8615, 0.7987, 1.6817, 0.9922, 0.7528, 1.3971, 1.654, 0.7658, 0.0882, 0.5466, 0.3564, 0.5924, 0.8035, 0.1992, 0.2771, 0.6724, 0.15, -0.2528, 0.4911, 0.0218, 0.6554, -0.4234, -0.1849, 0.3606, 0.364, 2.0892, 2.0887, 2.0858, 2.0858, 2.0846, 2.0845, 2.0845, 2.0845, 2.0839, 2.0806, 2.0795, 2.0774, 2.077, 2.0768, 2.0767, 2.0761, 2.0758, 2.0753, 2.0731, 2.0724, 2.0722, 2.072, 2.0719, 2.0715, 2.0709, 2.0708, 2.0703, 2.0703, 2.0702, 2.0701, 2.0666, 2.0612, 2.0543, 2.06, 2.0645, 2.0598, 1.9886, 2.0437, 2.0544, 2.0658, 1.9391, 1.9654, 2.0352, 1.9573, 1.9394, 2.0518, 1.9818, 1.9338, 1.9634, 2.0038, 1.9648, 1.8613, 1.8569, 1.7912, 1.5621, 1.8693, 1.6021, 1.8421, 1.8458, 1.3273, 1.6376, 1.7436, 1.2204, 1.5585, 0.7938, 0.6594, 0.7419, 0.8364, 0.9366, 0.6229, 0.3283, 0.3785, 0.3883, 0.6961, -0.1944, 0.0629, 0.1675, 0.5423, -0.1782, 0.0505, -0.4097, -0.5661, 2.2214, 2.2207, 2.2184, 2.2174, 2.2173, 2.2168, 2.2134, 2.2123, 2.211, 2.2106, 2.2104, 2.2092, 2.2092, 2.2075, 2.2075, 2.2074, 2.2069, 2.2062, 2.2047, 2.2015, 2.2006, 2.1986, 2.1981, 2.1968, 2.1948, 2.1947, 2.1947, 2.1935, 2.1934, 2.1926, 2.1733, 2.1834, 2.1686, 2.1877, 2.189, 2.1289, 2.1673, 2.1842, 2.181, 2.143, 2.051, 1.9898, 2.0309, 1.9413, 1.7588, 1.8679, 1.9931, 2.0755, 1.8798, 1.9787, 1.8081, 1.6929, 1.772, 1.6715, 1.5206, 1.8682, 1.5651, 1.6471, 1.628, 1.4418, 1.6588, 1.3855, 1.8499, 1.5935, 0.8138, 0.824, 1.3083, 0.7839, 1.2766, 0.7498, 1.043, 1.109, 0.8567, 0.4492, 0.7768, 0.0606, 0.0514, 0.5094, 0.1767, 2.3496, 2.3477, 2.3465, 2.3454, 2.3438, 2.3423, 2.3421, 2.3397, 2.3392, 2.3374, 2.3373, 2.3372, 2.3369, 2.3367, 2.3353, 2.3328, 2.3325, 2.331, 2.3303, 2.3302, 2.3302, 2.3284, 2.327, 2.3259, 2.3252, 2.3226, 2.3221, 2.3215, 2.3201, 2.3188, 2.306, 2.318, 2.2847, 2.3011, 2.3162, 2.3142, 2.2001, 2.2461, 2.2097, 2.1722, 2.0535, 2.0708, 2.1675, 2.0338, 2.0418, 1.7922, 1.9904, 2.0371, 2.0564, 1.2974, 1.4981, 1.4438, 1.1966, 1.1447, 1.9779, 1.726, 1.1997, 1.3641, 0.9725, 1.0398, 0.826, 0.9154, 0.5818, 0.5326, 0.6557, 1.4585, 1.7455, 0.6007, 1.0609, 0.5143, 0.7142, 0.5589, 0.25, 0.6688, 0.3637, 0.1822, 0.0634, 0.352, -0.3505, 0.1337, 0.5938, -0.3412, -0.0947, -0.6919, 2.426, 2.4257, 2.4251, 2.4247, 2.4224, 2.4213, 2.421, 2.4197, 2.4178, 2.4166, 2.4161, 2.4108, 2.4102, 2.4091, 2.4088, 2.4075, 2.407, 2.4066, 2.4028, 2.4005, 2.3984, 2.3951, 2.395, 2.3946, 2.3941, 2.3927, 2.3924, 2.3918, 2.3915, 2.388, 2.3742, 2.384, 2.2995, 2.3739, 2.3398, 2.0949, 2.091, 2.2373, 2.252, 2.0946, 2.2699, 2.1103, 2.118, 2.0059, 2.2175, 1.4704, 2.0368, 1.1499, 1.272, 1.9264, 1.6345, 1.5859, 1.8333, 1.9255, 1.6849, 0.9908, 0.6752, 0.586, 0.8433, 0.2511, 0.4972, 0.3616, 0.5201, 0.4532, 1.0611, 0.3789, 0.4314, 0.6529, 0.1868, 0.0057, 0.7992, 0.9871, 0.3278, 0.3285, 0.2162, -0.2378, 0.0246, 2.6554, 2.6546, 2.6516, 2.6513, 2.6497, 2.6492, 2.649, 2.646, 2.6437, 2.642, 2.641, 2.6408, 2.6404, 2.6396, 2.6387, 2.638, 2.6369, 2.6354, 2.6347, 2.6343, 2.633, 2.6282, 2.6274, 2.6264, 2.626, 2.6256, 2.6243, 2.6238, 2.6217, 2.6207, 2.6066, 2.6087, 2.5855, 2.5863, 2.5648, 2.607, 2.6005, 2.4476, 2.4952, 2.3697, 2.4447, 2.5411, 2.4523, 2.4418, 2.3932, 2.5541, 2.3316, 2.3619, 2.0713, 2.4633, 2.2147, 2.0867, 2.1836, 1.8368, 1.6678, 1.7502, 1.6421, 1.4852, 2.2363, 1.4375, 2.0385, 2.0414, 1.7467, 0.7134, 1.4047, 1.1854, 1.3852, 1.1106, 0.856, 0.4658, 0.3259, 1.2026, 1.2533, 0.8207, 0.6462, 0.5188, 0.0564, 0.2396, 0.2574, 0.4794, 0.1025, 0.2086, 0.4606, 2.6797, 2.6788, 2.6786, 2.6777, 2.6776, 2.6776, 2.6771, 2.6763, 2.6758, 2.6755, 2.6751, 2.675, 2.675, 2.6747, 2.6743, 2.6738, 2.6736, 2.6733, 2.673, 2.6728, 2.6727, 2.6723, 2.6722, 2.6716, 2.6715, 2.6713, 2.6711, 2.6709, 2.6709, 2.6708, 2.6649, 2.6605, 2.6683, 2.6705, 2.6291, 2.6523, 2.6656, 2.5863, 2.6122, 2.6534, 2.5693, 2.6209, 2.6556, 2.6174, 2.5031, 2.5833, 2.5536, 2.6088, 2.4535, 2.5349, 2.4095, 2.2757, 2.409, 2.62, 1.9777, 2.2524, 2.1325, 2.3857, 2.1762, 2.4236, 2.3619, 0.9192, 0.8636, 0.1973, 0.0926, 0.1355, 0.1844, -0.0047, -0.5302, -0.0128, -0.0019, -0.1484, -0.3291, 0.3392, 2.9846, 2.9811, 2.9783, 2.9753, 2.9733, 2.9704, 2.9704, 2.9703, 2.9702, 2.9697, 2.9693, 2.9693, 2.9687, 2.9671, 2.9669, 2.9666, 2.9662, 2.9651, 2.9646, 2.9626, 2.9625, 2.9622, 2.9616, 2.9566, 2.9551, 2.9524, 2.9517, 2.9501, 2.9493, 2.9481, 2.9461, 2.9478, 2.932, 2.9067, 2.8988, 2.929, 2.8588, 2.9176, 2.7707, 2.8731, 2.7051, 2.8861, 2.8413, 2.8276, 2.774, 2.765, 2.2568, 2.7995, 2.6866, 2.7362, 2.5333, 2.1329, 2.2807, 2.7019, 2.3041, 2.26, 1.9788, 2.2538, 2.0845, 2.2918, 2.3257, 0.9011, 1.8876, 1.0559, 0.4059, 0.9191, 0.2737, 0.4357, 1.8715, 1.067, 0.9892, 0.7122, 1.1559, 0.5314, -0.5155, 0.2466, 1.1287, 0.3324, -0.0957, -0.0551, 0.613]}, \"token.table\": {\"Topic\": [1, 2, 3, 4, 5, 6, 7, 8, 9, 10, 8, 3, 4, 2, 7, 4, 7, 4, 1, 2, 4, 6, 10, 5, 2, 2, 4, 2, 1, 1, 2, 6, 6, 1, 2, 3, 4, 5, 6, 7, 8, 9, 10, 1, 8, 1, 2, 3, 4, 5, 6, 7, 8, 10, 1, 2, 6, 7, 8, 1, 2, 3, 4, 5, 6, 7, 8, 9, 10, 4, 1, 2, 3, 4, 5, 6, 7, 8, 9, 10, 1, 2, 3, 4, 5, 6, 7, 8, 9, 10, 8, 4, 5, 6, 7, 8, 9, 10, 7, 5, 6, 8, 3, 4, 7, 2, 1, 2, 5, 6, 2, 3, 4, 2, 1, 1, 2, 3, 4, 5, 6, 7, 8, 9, 10, 3, 8, 1, 8, 5, 1, 1, 3, 5, 7, 9, 10, 6, 1, 2, 3, 4, 5, 6, 7, 8, 9, 10, 1, 2, 3, 4, 5, 6, 7, 8, 1, 2, 3, 4, 5, 6, 7, 8, 9, 10, 1, 2, 3, 4, 7, 8, 9, 10, 2, 1, 3, 4, 7, 1, 2, 3, 4, 5, 6, 7, 8, 9, 10, 1, 2, 3, 4, 5, 6, 7, 8, 9, 10, 7, 1, 2, 3, 4, 5, 6, 7, 8, 9, 10, 1, 2, 3, 4, 5, 6, 7, 8, 9, 10, 1, 3, 2, 7, 10, 9, 1, 2, 3, 4, 5, 6, 7, 8, 9, 10, 2, 5, 3, 1, 2, 3, 4, 7, 4, 5, 9, 5, 6, 1, 2, 3, 4, 5, 6, 7, 8, 9, 10, 5, 1, 2, 3, 4, 5, 6, 7, 8, 9, 10, 1, 2, 3, 4, 5, 6, 7, 8, 9, 10, 1, 2, 3, 4, 5, 6, 7, 8, 9, 10, 2, 5, 6, 8, 5, 6, 1, 2, 4, 5, 7, 1, 6, 10, 1, 2, 3, 4, 5, 6, 7, 8, 9, 10, 4, 1, 2, 3, 4, 5, 6, 7, 8, 9, 10, 1, 2, 4, 6, 7, 9, 10, 1, 2, 3, 4, 5, 6, 7, 8, 9, 10, 10, 1, 2, 3, 4, 6, 7, 8, 1, 2, 4, 6, 7, 8, 10, 1, 2, 4, 5, 6, 7, 8, 10, 1, 2, 3, 4, 5, 6, 7, 8, 9, 10, 1, 2, 3, 5, 7, 8, 1, 1, 2, 3, 4, 5, 6, 7, 8, 9, 10, 1, 2, 3, 4, 5, 6, 7, 8, 9, 10, 1, 2, 3, 4, 5, 6, 7, 8, 9, 10, 1, 2, 3, 4, 5, 6, 7, 8, 9, 10, 10, 2, 9, 1, 3, 7, 1, 3, 1, 2, 3, 4, 5, 6, 7, 8, 9, 10, 1, 2, 3, 4, 5, 6, 7, 8, 9, 10, 6, 8, 5, 9, 1, 3, 4, 6, 8, 9, 10, 1, 2, 3, 4, 5, 6, 7, 8, 9, 10, 1, 2, 5, 7, 9, 10, 1, 3, 4, 5, 6, 8, 9, 10, 9, 10, 1, 2, 3, 4, 5, 6, 7, 8, 9, 10, 1, 2, 3, 4, 5, 6, 7, 8, 9, 10, 1, 2, 3, 4, 5, 6, 7, 8, 9, 10, 6, 3, 3, 5, 6, 8, 9, 10, 1, 2, 3, 4, 5, 6, 7, 9, 10, 1, 3, 4, 7, 9, 5, 1, 6, 5, 9, 10, 1, 2, 3, 4, 5, 6, 7, 8, 9, 10, 2, 7, 1, 2, 3, 4, 6, 7, 8, 10, 1, 2, 3, 4, 5, 6, 7, 8, 9, 10, 1, 9, 10, 8, 1, 2, 3, 4, 5, 6, 7, 10, 3, 10, 1, 2, 3, 4, 5, 6, 7, 8, 9, 10, 8, 1, 2, 3, 4, 5, 6, 7, 8, 9, 10, 1, 3, 4, 6, 10, 1, 2, 3, 4, 5, 6, 7, 8, 9, 10, 1, 2, 3, 4, 5, 6, 7, 8, 9, 10, 6, 1, 2, 3, 4, 5, 6, 7, 8, 9, 10, 1, 2, 3, 5, 6, 7, 8, 9, 10, 1, 3, 10, 1, 2, 3, 4, 5, 6, 7, 8, 9, 10, 1, 2, 3, 4, 5, 6, 7, 8, 9, 10, 3, 4, 1, 2, 6, 4, 1, 2, 3, 4, 5, 6, 7, 8, 9, 10, 2, 4, 5, 6, 7, 8, 9, 10, 5, 1, 2, 3, 4, 5, 6, 7, 8, 9, 10, 1, 3, 10, 2, 3, 6, 10, 1, 2, 4, 5, 6, 7, 8, 9, 1, 2, 3, 4, 5, 6, 7, 8, 9, 10, 1, 1, 2, 3, 4, 5, 6, 7, 8, 9, 10, 3, 4, 7, 9, 5, 3, 1, 2, 4, 6, 7, 1, 2, 3, 4, 5, 6, 7, 8, 9, 10, 2, 9, 3, 9, 5, 2, 1, 2, 3, 4, 5, 6, 7, 8, 9, 1, 1, 2, 3, 4, 5, 6, 7, 8, 9, 10, 3, 1, 2, 3, 4, 5, 6, 7, 8, 9, 10, 3, 5, 3, 4, 5, 6, 7, 3, 1, 2, 3, 4, 5, 6, 7, 8, 9, 1, 2, 3, 4, 6, 8, 9, 1, 3, 4, 5, 6, 8, 9, 10, 1, 2, 5, 9, 2, 3, 10, 1, 2, 3, 4, 5, 6, 8, 10, 1, 2, 3, 4, 5, 6, 7, 8, 9, 10, 2, 6, 9, 1, 2, 3, 4, 5, 6, 7, 8, 9, 10, 1, 2, 4, 5, 6, 7, 8, 9, 10, 2, 2, 5, 1, 2, 3, 4, 5, 6, 7, 8, 9, 10, 2, 3, 4, 5, 6, 7, 8, 9, 10, 1, 4, 5, 10, 1, 2, 3, 4, 5, 6, 7, 8, 9, 10, 4, 1, 3, 5, 6, 7, 8, 9, 10, 3, 1, 2, 3, 4, 5, 6, 7, 8, 9, 10, 1, 2, 3, 4, 5, 6, 7, 8, 9, 10, 4, 5, 6, 10, 1, 2, 3, 4, 5, 6, 7, 8, 10, 5, 3, 6, 9, 1, 2, 3, 4, 5, 6, 7, 8, 9, 10, 1, 2, 3, 4, 5, 6, 7, 9, 9, 1, 2, 3, 4, 5, 6, 7, 8, 9, 10, 3, 2, 3, 1, 2, 3, 4, 5, 6, 7, 8, 9, 10, 1, 2, 3, 9, 1, 3, 4, 6, 3, 4, 9, 10, 1, 2, 3, 4, 5, 6, 7, 8, 9, 10, 6, 1, 2, 3, 4, 5, 6, 7, 8, 9, 10, 1, 3, 4, 6, 7, 10, 7, 10, 1, 6, 4, 1, 2, 3, 4, 5, 6, 7, 8, 9, 10, 1, 2, 3, 4, 6, 7, 9, 1, 2, 3, 4, 5, 6, 7, 8, 9, 10, 7, 5, 7, 6, 8, 1, 2, 3, 4, 5, 6, 7, 8, 9, 10, 1, 2, 3, 4, 5, 6, 7, 8, 9, 10, 3, 4, 6, 9, 10, 1, 2, 3, 4, 5, 6, 7, 10, 1, 2, 3, 4, 6, 7, 10, 1, 2, 3, 4, 5, 6, 7, 9, 10, 1, 2, 4, 7, 9, 10, 8, 1, 2, 4, 6, 9, 10, 1, 2, 3, 4, 6, 7, 1, 2, 3, 4, 5, 6, 7, 9, 10, 1, 2, 3, 4, 5, 6, 7, 9, 10, 1, 2, 3, 4, 5, 6, 7, 8, 9, 10, 1, 2, 3, 4, 5, 6, 7, 8, 9, 10, 1, 3, 4, 5, 6, 8, 9, 10, 8, 6, 1, 2, 3, 4, 5, 6, 7, 8, 9, 10, 2, 5, 9, 1, 2, 3, 4, 5, 6, 7, 8, 9, 10, 9, 2, 3, 4, 7, 1, 2, 6, 7, 1, 2, 3, 4, 5, 6, 7, 8, 9, 10, 1, 2, 3, 4, 5, 6, 7, 8, 9, 10, 3, 4, 5, 6, 8, 9, 9, 1, 1, 2, 3, 4, 5, 6, 7, 8, 9, 10, 1, 2, 3, 4, 5, 6, 7, 9, 10, 1, 2, 3, 4, 5, 6, 7, 8, 9, 10, 1, 2, 3, 4, 5, 6, 7, 8, 9, 10, 9, 7, 5, 1, 2, 3, 4, 5, 6, 7, 8, 9, 10, 3, 10, 1, 2, 3, 4, 5, 6, 7, 8, 9, 10, 1, 2, 3, 4, 6, 7, 9, 10, 2, 3, 4, 6, 7, 10, 1, 2, 3, 4, 6, 7, 10, 3, 10, 1, 7, 2, 3, 4, 1, 2, 3, 4, 5, 6, 7, 8, 9, 10, 1, 2, 3, 5, 6, 7, 8, 10, 3, 3, 1, 2, 3, 4, 5, 6, 7, 8, 9, 10, 1, 3, 4, 10, 6, 10, 10, 10, 2, 1, 2, 3, 4, 5, 6, 7, 8, 9, 10, 1, 2, 3, 4, 5, 6, 7, 8, 9, 10, 1, 4, 10, 3, 5, 8, 1, 2, 3, 4, 5, 6, 7, 8, 9, 10, 1, 2, 3, 4, 5, 6, 7, 8, 9, 10, 5, 1, 2, 3, 4, 5, 6, 7, 8, 9, 10, 1, 2, 3, 4, 5, 6, 7, 8, 9, 10, 1, 3, 4, 6, 7, 1, 2, 3, 4, 5, 6, 7, 8, 9, 10, 6, 9, 1, 2, 3, 4, 5, 6, 7, 8, 9, 10, 1, 2, 3, 4, 5, 6, 7, 8, 9, 10, 1, 2, 3, 4, 5, 8, 9, 10, 2, 3, 6, 9, 10, 1, 2, 4, 5, 6, 7, 8, 9, 10, 1, 2, 3, 4, 5, 6, 7, 8, 9, 10, 1, 2, 3, 4, 5, 6, 9, 1, 4, 9, 10, 3, 1, 2, 3, 4, 6, 7, 8, 9, 2, 3, 4, 6, 7, 8, 4, 1, 3, 4, 7, 1, 2, 3, 4, 5, 6, 7, 8, 9, 10, 5, 1, 2, 3, 5, 7, 9, 10, 1, 2, 3, 6, 10, 1, 3, 7, 9, 1, 2, 3, 5, 7, 10, 4, 7, 2, 3, 5, 7, 3, 7, 3, 9, 5, 6, 3, 1, 2, 3, 6, 7, 9, 3, 7, 9, 3, 4, 7, 10, 4, 7, 9, 1, 1, 1, 2, 3, 4, 5, 6, 7, 8, 9, 10, 1, 3, 5, 4, 1, 2, 3, 4, 5, 6, 7, 8, 9, 10, 7, 9, 6, 10, 10, 7, 10, 1, 1, 5, 7, 8, 1, 2, 3, 4, 5, 6, 7, 8, 9, 10, 3, 5, 6, 10, 5, 1, 2, 3, 4, 5, 6, 8, 9, 8, 8, 1, 2, 3, 4, 5, 6, 7, 8, 9, 10, 2, 4, 5, 6, 8, 9, 7, 8, 5, 1, 7, 5, 6, 7, 1, 2, 3, 4, 5, 6, 7, 8, 9, 10, 1, 2, 3, 4, 5, 6, 7, 8, 9, 10, 4, 10, 7, 1, 2, 3, 4, 5, 6, 7, 8, 9, 10, 1, 2, 3, 4, 5, 6, 7, 8, 9, 10, 1, 2, 3, 4, 5, 6, 7, 8, 9, 10, 2, 6, 8, 3, 4, 1, 2, 3, 4, 5, 6, 7, 8, 9, 10, 1, 2, 3, 4, 5, 6, 7, 8, 9, 10, 1, 2, 3, 4, 5, 6, 7, 8, 9, 10, 1, 2, 3, 4, 5, 6, 7, 8, 9, 10, 2, 3, 10, 1, 2, 3, 4, 5, 6, 7, 8, 9, 10, 1, 2, 3, 4, 5, 6, 7, 8, 9, 10, 3, 1, 2, 3, 4, 5, 6, 7, 8, 9, 10, 2, 1, 3, 4, 5, 7, 8, 9, 10, 1, 2, 3, 4, 5, 6, 7, 8, 9, 10, 1, 3, 4, 5, 6, 8, 9, 10, 2, 5, 6, 1, 2, 3, 4, 5, 6, 7, 8, 9, 10, 1, 2, 3, 4, 5, 6, 7, 8, 9, 10, 1, 3, 4, 6, 8, 9, 9, 1, 6, 5, 7, 10, 1, 2, 3, 4, 5, 6, 7, 8, 9, 10, 1, 2, 3, 4, 5, 6, 7, 8, 9, 10, 1, 2, 3, 5, 9, 1, 2, 3, 4, 5, 6, 7, 8, 9, 10, 2, 10, 2, 2, 9, 5, 6, 8, 1, 2, 3, 4, 6, 9, 10, 1, 2, 5, 8, 9, 10, 9, 1, 2, 3, 4, 5, 6, 7, 8, 9, 10, 3, 8, 3, 8, 6, 1, 2, 3, 4, 5, 6, 7, 8, 9, 10, 1, 2, 3, 4, 5, 6, 7, 8, 9, 10, 1, 2, 3, 4, 5, 6, 7, 8, 9, 10, 1, 2, 3, 4, 5, 6, 7, 8, 9, 10, 4, 6, 1, 2, 3, 4, 5, 6, 7, 8, 9, 10, 1, 2, 3, 4, 5, 6, 7, 8, 9, 10, 1, 2, 3, 4, 5, 6, 7, 8, 9, 10, 2, 8, 3, 5, 8, 4, 6, 7, 8, 10, 1, 2, 3, 4, 5, 6, 7, 8, 9, 10, 2, 3, 4, 5, 6, 8, 9, 10, 7, 9, 10, 1, 2, 3, 4, 5, 6, 7, 8, 9, 10, 10, 1, 2, 7, 1, 8, 1, 2, 3, 4, 5, 6, 7, 9, 10, 1, 2, 3, 4, 5, 6, 7, 8, 9, 10, 1, 2, 3, 4, 5, 6, 8, 9, 1, 4, 6, 7, 8, 9, 1, 2, 3, 4, 5, 6, 7, 8, 9, 10, 1, 2, 3, 4, 5, 6, 7, 8, 9, 10, 2, 7, 1, 2, 3, 4, 5, 6, 7, 8, 9, 10, 1, 2, 3, 4, 5, 6, 7, 8, 9, 10, 6, 9, 7, 1, 2, 3, 4, 5, 6, 7, 8, 9, 2, 5, 8, 9, 3, 1, 2, 3, 4, 5, 6, 7, 8, 9, 3, 5, 7, 5, 1, 2, 3, 4, 5, 6, 7, 8, 9, 10, 1, 2, 4, 6, 8, 3, 4, 5, 6, 8, 9, 10, 1, 2, 3, 4, 5, 6, 7, 8, 9, 10, 1, 2, 3, 4, 5, 6, 7, 8, 9, 10, 1, 7, 1, 2, 1, 2, 3, 4, 5, 6, 7, 8, 9, 10, 3, 4, 3, 4, 6, 9, 10, 1, 2, 3, 4, 5, 6, 7, 8, 9, 10, 9, 10, 1, 2, 3, 4, 5, 6, 7, 8, 9, 10, 1, 3, 4, 5, 6, 8, 9, 10, 1, 2, 3, 4, 5, 6, 7, 8, 9, 10, 3, 7, 3, 3, 3, 1, 5, 7, 9, 10, 1, 2, 3, 4, 5, 6, 7, 8, 9, 10, 1, 2, 3, 4, 5, 6, 7, 8, 9, 10, 1, 2, 4, 8, 10, 3, 4, 5, 6, 9, 10, 1, 2, 3, 4, 5, 6, 7, 8, 9, 10, 1, 2, 3, 4, 5, 6, 7, 8, 9, 10, 4, 8, 8, 1, 2, 3, 4, 5, 6, 7, 8, 9, 10, 1, 2, 3, 4, 5, 6, 7, 8, 10, 1, 2, 3, 4, 5, 6, 7, 9, 10, 9, 3, 4, 1, 2, 3, 4, 5, 6, 7, 8, 9, 10, 9, 4, 1, 2, 1, 2, 3, 5, 6, 7, 8, 10, 1, 2, 4, 5, 6, 7, 8, 9, 1, 2, 3, 4, 5, 6, 7, 8, 9, 10, 6, 1, 2, 3, 4, 5, 6, 7, 8, 9, 10, 3, 1, 2, 3, 4, 5, 6, 7, 8, 9, 10, 1, 3, 4, 5, 6, 7, 9, 10, 2, 3, 4, 6, 3, 4, 1, 2, 3, 4, 5, 6, 7, 10, 8, 10, 10, 4, 5, 3, 8, 10, 1, 2, 3, 4, 5, 6, 7, 8, 9, 10, 6, 1, 2, 3, 4, 5, 6, 7, 8, 9, 10, 1, 3, 7, 9, 2, 5, 7, 8, 9, 10, 4, 1, 2, 3, 4, 5, 6, 7, 8, 9, 10, 4, 6, 7, 6, 1, 2, 3, 4, 5, 6, 7, 8, 9, 10, 1, 2, 3, 4, 5, 6, 7, 9, 10, 2, 3, 4, 5, 6, 7, 9, 1, 2, 3, 4, 5, 6, 8, 9, 10, 5, 9, 4, 1, 2, 3, 4, 5, 6, 7, 8, 9, 10, 2, 3, 4, 6, 9, 7, 1, 3, 4, 5, 6, 7, 8, 10, 5, 1, 2, 3, 4, 5, 6, 7, 8, 9, 10, 2, 3, 4, 5, 6, 7, 8, 9, 10, 1, 10, 9, 10, 3, 9, 5, 5, 8, 9, 10, 1, 10, 1, 2, 3, 6, 7, 9, 10, 5, 9, 1, 2, 3, 4, 5, 6, 7, 8, 9, 10, 2, 3, 4, 6, 1, 2, 3, 4, 5, 6, 7, 8, 9, 10, 1, 6, 3, 2, 1, 3, 4, 6, 8, 9, 10, 8, 6, 2, 3, 4, 5, 6, 7, 9, 10, 1, 2, 3, 4, 5, 6, 7, 8, 9, 10, 1, 2, 3, 4, 5, 6, 7, 9, 10, 4, 7, 9, 3, 10, 1, 2, 3, 4, 5, 6, 7, 8, 9, 10, 1, 2, 3, 4, 5, 6, 7, 8, 9, 10, 1, 2, 3, 4, 5, 6, 9, 10, 1, 3, 6, 7, 1, 2, 3, 4, 5, 6, 7, 8, 9, 10, 1, 2, 3, 4, 5, 6, 7, 8, 9, 10, 1, 3, 4, 8, 1, 2, 3, 4, 5, 6, 7, 8, 9, 10, 2, 3, 5, 6, 8, 9, 10, 2, 5, 7, 8, 9, 10, 8, 5, 1, 2, 3, 4, 5, 6, 7, 8, 9, 10, 2, 4, 5, 9, 1, 2, 3, 4, 5, 6, 7, 8, 9, 10, 1, 2, 9, 10, 7, 7, 1, 2, 3, 4, 5, 6, 7, 8, 9, 10, 1, 2, 3, 4, 5, 6, 7, 8, 9, 10, 7, 6, 2, 4, 6, 7, 1, 2, 4, 6, 7, 2, 1, 2, 6, 7, 8, 7, 8, 4, 6, 7, 9, 2, 1, 2, 3, 4, 5, 6, 7, 8, 9, 10, 9, 1, 4, 5, 7, 1, 2, 3, 4, 5, 6, 7, 8, 9, 10, 3, 4, 3, 4, 9, 1, 2, 3, 4, 5, 6, 7, 8, 9, 10, 7, 6, 2, 7, 8, 6, 1, 8, 1, 2, 3, 4, 5, 6, 7, 8, 9, 10, 1, 2, 3, 4, 5, 6, 7, 8, 9, 10, 8, 9, 1, 2, 3, 4, 5, 6, 7, 8, 9, 10, 4, 1, 1, 2, 3, 4, 7, 8, 9, 1, 2, 3, 4, 5, 7, 8, 9, 2, 6, 1, 2, 3, 4, 5, 6, 7, 8, 9, 1, 2, 3, 4, 5, 6, 7, 8, 9, 9, 5, 1, 2, 3, 4, 6, 7, 8, 9, 1, 2, 3, 4, 5, 6, 7, 8, 9, 10, 1, 3, 4, 5, 8, 9, 10, 2, 9, 3, 5, 3, 4, 6, 8, 3, 5, 6, 8, 10, 1, 2, 3, 4, 5, 6, 7, 8, 10, 10, 3, 4, 5, 6, 9, 10, 1, 2, 3, 4, 5, 6, 8, 10, 3, 4, 7, 1, 2, 3, 4, 5, 6, 7, 8, 9, 10, 1, 2, 3, 4, 5, 6, 7, 8, 10, 2, 2, 8, 1, 2, 3, 4, 5, 6, 7, 8, 9, 10, 7, 1, 2, 3, 4, 5, 6, 7, 8, 9, 10, 1, 2, 3, 4, 5, 6, 7, 8, 9, 10, 1, 5, 9, 5, 9, 5, 9, 9, 1, 1, 3, 4, 7, 3, 4, 5, 6, 8, 9, 1, 2, 3, 4, 5, 6, 7, 8, 9, 10, 1, 3, 4, 6, 7, 9, 1, 2, 3, 4, 5, 6, 7, 8, 9, 10, 1, 2, 3, 4, 5, 6, 7, 8, 9, 10, 1, 2, 3, 5, 6, 7, 8, 9, 5, 5, 1, 2, 3, 4, 5, 6, 7, 8, 9, 10, 1, 2, 3, 4, 5, 6, 7, 8, 9, 10, 1, 2, 3, 4, 5, 6, 7, 8, 9, 10, 1, 2, 3, 4, 5, 6, 7, 9, 10, 1, 2, 3, 4, 5, 6, 7, 8, 9, 10, 1, 2, 3, 4, 5, 6, 7, 8, 9, 1, 1, 2, 3, 4, 5, 6, 7, 8, 9, 10, 1, 2, 3, 4, 5, 6, 7, 8, 9, 10, 3, 1, 3, 4, 5, 6, 7, 8, 9, 10, 2, 3, 5, 6, 7, 8, 9, 10, 1, 2, 3, 4, 5, 6, 7, 8, 9, 10, 5, 1, 2, 3, 4, 5, 6, 7, 8, 9, 10, 1, 2, 10, 3, 4, 7, 9, 10], \"Freq\": [0.00032303954513202726, 0.00032303954513202726, 0.05039416904059626, 0.8799597209396424, 0.001292158180528109, 0.002584316361056218, 0.006137751357508518, 0.00032303954513202726, 0.04102602223176746, 0.0177671749822615, 0.9687200437506405, 0.01503580391171413, 0.9773272542614184, 0.9880190919441638, 0.9720204279785533, 0.9843745674019535, 0.9901452797026348, 0.9823540565919835, 0.9761311805434605, 0.9908084325237433, 0.9728246212161872, 0.9776784763109323, 0.9645720853062003, 0.9860872818235322, 0.9941739051798895, 0.986736005406273, 0.9672951997027083, 0.9799310686670356, 0.9832086868920773, 0.0054262598788892835, 0.9767267782000709, 0.0054262598788892835, 0.9833656346442948, 0.03718242652085875, 0.06959787528263305, 0.18305194594884308, 0.6340080419582326, 0.02478828434723917, 0.005720373310901346, 0.010487351069985803, 0.001906791103633782, 0.00953395551816891, 0.023834888795422275, 0.9956681015994081, 0.9637408896343179, 0.012202779951888947, 0.718854673529458, 0.0011093436319899043, 0.003328030895969713, 0.0011093436319899043, 0.16972957569445535, 0.08985683419118225, 0.0022186872639798085, 0.0022186872639798085, 0.005953980742319157, 0.910959053574831, 0.08037874002130861, 0.0029769903711595784, 0.9747408469911619, 0.02033784203341733, 0.011220878363264734, 0.02945480570356993, 0.8527867556081198, 0.007714353874744505, 0.04488351345305894, 0.011220878363264734, 0.0021039146931121377, 0.009818268567856643, 0.010519573465560688, 0.9716880789867164, 0.0986663151416274, 0.4542052783243882, 0.0595400177578786, 0.09186174168358412, 0.06067411333421914, 0.05557068324068669, 0.09129469389541385, 0.014176194704256809, 0.014176194704256809, 0.0595400177578786, 0.1521379917825178, 0.1796117627411562, 0.0808332336297511, 0.13228700120546694, 0.08242131287591518, 0.13657481517010994, 0.15833150084255768, 0.03128516114943216, 0.02397999661707744, 0.02255072529552978, 0.9883905615925759, 0.025200365439554204, 0.008400121813184735, 0.004200060906592367, 0.01680024362636947, 0.9282134603569132, 0.004200060906592367, 0.012600182719777102, 0.9878097442382425, 0.016285611824552747, 0.016285611824552747, 0.9608510976486121, 0.00321421419637871, 0.01607107098189355, 0.9771211156991279, 0.9946111280133313, 0.980623381581518, 0.019405488563587925, 0.9702744281793962, 0.9739629238701604, 0.22052413034148896, 0.7727165527165772, 0.007056772170927646, 0.9842910283313723, 0.9712655925820335, 0.0033777476399038412, 0.0016888738199519206, 0.011822116739663444, 0.0016888738199519206, 0.10133242919711523, 0.7397267331389412, 0.0016888738199519206, 0.0016888738199519206, 0.10977679829687484, 0.02871085493918265, 0.011230569466412363, 0.9882901130442879, 0.9698676820981613, 0.025748699524729947, 0.9857792524919131, 0.9880261608894688, 0.8501842205991905, 0.004188099608863008, 0.02094049804431504, 0.04606909569749308, 0.008376199217726015, 0.07119769335067114, 0.9755310366971341, 0.0010361001846771183, 0.005698551015724151, 0.00621660110806271, 0.17717313157978723, 0.6361655133917506, 0.11448907040682157, 0.04351620775643897, 0.007252701292739828, 0.005180500923385591, 0.0025902504616927956, 0.011339724450651288, 0.14741641785846674, 0.14093657531523743, 0.0016199606358073269, 0.0032399212716146537, 0.13121681150039347, 0.027539330808724557, 0.5362069704522252, 0.00166943936285059, 0.03505822661986239, 0.8230336058853409, 0.09348860431963305, 0.00166943936285059, 0.00166943936285059, 0.01168607553995413, 0.00166943936285059, 0.01502495426565531, 0.016694393628505902, 0.011922062728951396, 0.011922062728951396, 0.08941547046713547, 0.011922062728951396, 0.011922062728951396, 0.02980515682237849, 0.03576618818685419, 0.7987782028397435, 0.9941104330989413, 0.013849607260629452, 0.013849607260629452, 0.013849607260629452, 0.9556229009834322, 0.6188422432849164, 0.042897921870841446, 0.12074970600681297, 0.07070213049083128, 0.009532871526853655, 0.010327277487424793, 0.11201124044053044, 0.01112168344799593, 0.0015888119211422758, 0.0015888119211422758, 0.05794999701747645, 0.06298912719290918, 0.020156520701730938, 0.010078260350865469, 0.010078260350865469, 0.007558695263149101, 0.010078260350865469, 0.8037412629815212, 0.015117390526298203, 0.0025195650877163672, 0.9973695276601723, 0.11154508675675125, 0.09695705308202461, 0.04287458677572097, 0.09161996759127096, 0.0971349559317164, 0.236966595789462, 0.13858631990990308, 0.0681367914319549, 0.06315551164058483, 0.053015049208152906, 0.29276581364731585, 0.5173143503282668, 0.0003158207266961336, 0.0033161176303094027, 0.003631938357005536, 0.13485545029924903, 0.002368655450221002, 0.04168833592388963, 0.0011053725434364676, 0.0025265658135690686, 0.9832919128991928, 0.006973701509923353, 0.024322926387912572, 0.012161463193956286, 0.9485941291285903, 0.9911343633946819, 0.12844270677558495, 0.12912140007426703, 0.12759434015223234, 0.061761090180069915, 0.09705314171153843, 0.11062700768518018, 0.128782053424926, 0.11741394067200105, 0.05836762368665948, 0.04089127124559574, 0.9913959611222716, 0.9938525489616457, 0.9888672775166938, 0.010116913493327466, 0.010116913493327466, 0.006744608995551643, 0.9678513908616608, 0.0033723044977758214, 0.9939804267453247, 0.9749576756209394, 0.015233713681577178, 0.942696441595498, 0.044466813282806515, 0.0035558264936335878, 0.005926377489389313, 0.020742321212862597, 0.0005926377489389313, 0.6596058145690306, 0.07348708086842748, 0.0017779132468167939, 0.2234244313499771, 0.00888956623408397, 0.002370550995755725, 0.9849997329884677, 0.0990124890680525, 0.5882075276487267, 0.019069071968661963, 0.034471014712581245, 0.006600832604536834, 0.05060638330144906, 0.16355396342352377, 0.016135368588867816, 0.000733425844948537, 0.021269349503507576, 0.0065900901468326865, 0.017573573724887163, 0.005272072117466149, 0.003075375401855254, 0.7534669734545372, 0.06985495555642647, 0.012301501607421016, 0.1287264275347985, 0.0017573573724887165, 0.0008786786862443582, 0.003599652307697389, 0.008639165538473733, 0.002879721846157911, 0.07631262892318465, 0.7004923390779119, 0.1907815723079616, 0.0064793741538553, 0.00935909600001321, 0.0007199304615394778, 0.0014398609230789556, 0.05619280649960898, 0.04916870568715786, 0.007024100812451122, 0.8850367023688415, 0.9844663964121916, 0.978409457949981, 0.9766441578124162, 0.00405246538511376, 0.00405246538511376, 0.01215739615534128, 0.00405246538511376, 0.9835905047402658, 0.991793144702649, 0.9899851229581813, 0.049797470177277335, 0.03224979021004627, 0.016599156725759113, 0.09010970793983518, 0.5510920032952025, 0.01138227889766339, 0.048374685315069416, 0.02466160427827068, 0.01944472645017496, 0.15603207322213566, 0.9800195962446135, 0.16265235571199513, 0.08143992076208986, 0.13216925687925757, 0.08098494913772065, 0.17812139094054852, 0.04754453474658319, 0.08598963700578204, 0.036170244137352765, 0.09235923974695108, 0.10282358710744308, 0.24724555966295736, 0.019733213682020072, 0.0023215545508258905, 0.3691271735813166, 0.013929327304955344, 0.019733213682020072, 0.3273391916664506, 0.0007151166597164625, 0.0007151166597164625, 0.0057209332777317, 0.8724423248540841, 0.009296516576314012, 0.042191882923271286, 0.0021453499791493874, 0.0007151166597164625, 0.06579073269391454, 0.0007151166597164625, 0.9821715758691697, 0.005382755513449748, 0.15968841356567587, 0.0017942518378165828, 0.0017942518378165828, 0.0035885036756331656, 0.8253558453956281, 0.0017942518378165828, 0.021904742748561145, 0.8323802244453236, 0.0024338603053956826, 0.012169301526978414, 0.1265607358805755, 0.0024338603053956826, 0.0024338603053956826, 0.08239776148298424, 0.774327681628557, 0.0031691446724224706, 0.001056381557474157, 0.09190519550025165, 0.008451052459793256, 0.036973354511595495, 0.002112763114948314, 0.2729360778973794, 0.02907793565976923, 0.0029738797833854897, 0.028747504572726398, 0.006608621740856644, 0.0009912932611284965, 0.09483372198129283, 0.00033043108704283215, 0.08128604741253671, 0.4817685249084493, 0.925950239947365, 0.008573613332845972, 0.03429445333138389, 0.008573613332845972, 0.017147226665691944, 0.9820669960428254, 0.9714702743058243, 0.09381274902814381, 0.04160391478639421, 0.13786395291962003, 0.09381274902814381, 0.039972388716339534, 0.004078815175136688, 0.03181475836606616, 0.4005396501984227, 0.014683734630492074, 0.14031124202470205, 0.002742885976819968, 0.008228657930459904, 0.84618032384896, 0.06308637746685926, 0.002742885976819968, 0.03565751769865958, 0.002742885976819968, 0.026057416779789695, 0.012342986895689856, 0.001371442988409984, 0.09231751599355244, 0.6912823519041009, 0.018683306808218943, 0.017584288760676654, 0.08407488063698525, 0.0362675955688956, 0.021980360950845816, 0.014836743641820926, 0.0016485270713134364, 0.02143085192707467, 0.12894539299171795, 0.06689317315611307, 0.037847453233063974, 0.06887356315086642, 0.4948774553555865, 0.024424809935291284, 0.09373845975165845, 0.03652719323656174, 0.02618515659729426, 0.022004333275037195, 0.9875450170935914, 0.9905604225579707, 0.9861123625194717, 0.7546817859708849, 0.23733808816752208, 0.002666720091769911, 0.9667794671494585, 0.014217345105139096, 0.16943210675875917, 0.13180497655648926, 0.07063338476566454, 0.06799288440059297, 0.15314902117415113, 0.092417512777505, 0.08801667883571905, 0.0182634608584117, 0.17119244033547354, 0.036967005111001996, 0.11413700367574137, 0.2919617398100469, 0.009302702493947573, 0.08432064952847351, 0.02230263290215636, 0.11377920742597415, 0.3145029035453814, 0.0047706166635628575, 0.015146707906812074, 0.02981635414726786, 0.018438872006087327, 0.958821344316541, 0.0059685077774135325, 0.9907722910506463, 0.008343538758185595, 0.00556235917212373, 0.08621656716791783, 0.08621656716791783, 0.8121044391300647, 0.002781179586061865, 0.002781179586061865, 0.011611848166293593, 0.015482464221724791, 0.10214125701832327, 0.4649039951023472, 0.039781331680820646, 0.027954449289225317, 0.027094312388018384, 0.004300684506034665, 0.16192077165220511, 0.14493306785336818, 0.10605478281099376, 0.006238516635940809, 0.0012477033271881617, 0.0012477033271881617, 0.7935393160916709, 0.09108234288473581, 0.00886941827544444, 0.2505610662813054, 0.026608254826333323, 0.042129736808361094, 0.15078011068255548, 0.00221735456886111, 0.01995619111974999, 0.49890477799374977, 0.07948949200585997, 0.9160217650199102, 0.010159470732740627, 0.0014513529618200897, 0.017416235541841078, 0.4177477608438825, 0.014997313938807592, 0.4245207413323762, 0.011610823694560717, 0.07208386377039779, 0.012094608015167414, 0.01814191202275112, 0.03865755616667281, 0.016355119916669266, 0.19477460991669762, 0.14868290833335696, 0.0014868290833335695, 0.008920974500001417, 0.03717072708333924, 0.0014868290833335695, 0.047578530666674224, 0.5055218883334136, 0.08085951192305546, 0.19045083011318648, 0.07942292160970169, 0.08660587317647057, 0.07511315066964036, 0.2684371614095344, 0.10815472787677723, 0.04556043565207694, 0.026474307203233894, 0.038993165648173955, 0.9839250475083401, 0.9805896100869311, 0.0009247574410266446, 0.001387136161539967, 0.9945766278241562, 0.001387136161539967, 0.0009247574410266446, 0.0004623787205133223, 0.3362754251966957, 0.011595704317127437, 0.00515364636316775, 0.007730469544751625, 0.009018881135543562, 0.0012884115907919374, 0.09663086930939531, 0.04895964045009363, 0.48315434654697653, 0.8464163830627415, 0.05577162213979304, 0.006561367310563887, 0.08857845869261248, 0.0032806836552819437, 0.9577706095718135, 0.9732373306668665, 0.9856379001725469, 0.004810164014892765, 0.9908937870679096, 0.0024050820074463827, 0.07099716151627841, 0.7437341776376416, 0.0023945079769402498, 0.07518755047592385, 0.0035917619654103746, 0.06572924396700985, 0.013289519272018387, 0.0162826542431937, 0.0019156063815522, 0.006944073133126724, 0.9818290163791986, 0.9969177840589853, 0.07592718705717448, 0.00843635411746383, 0.06327265588097873, 0.012654531176195746, 0.004218177058731915, 0.8098899952765277, 0.004218177058731915, 0.02530906235239149, 0.0493234761176857, 0.011470575841322255, 0.004970582864572978, 0.05047053370181793, 0.002294115168264451, 0.013382338481542631, 0.10361753509994438, 0.0007647050560881504, 0.00955881320110188, 0.7543815378309604, 0.1461939273110514, 0.015388834453794884, 0.8309970605049237, 0.9783862042179473, 0.06447226489159345, 0.00230258088898548, 0.07598516933652084, 0.00460516177797096, 0.00230258088898548, 0.011512904444927401, 0.8381394435907148, 0.00230258088898548, 0.09197736963826132, 0.899334280907444, 0.007154912610554227, 0.047882876701401365, 0.639539111804924, 0.14199749642484544, 0.004953401038076004, 0.002201511572478224, 0.027518894655977795, 0.1161297354482263, 0.009906802076152008, 0.0027518894655977795, 0.9783856632926504, 0.0021692485166734253, 0.010846242583367128, 0.008676994066693701, 0.023427883980072995, 0.5752847066217924, 0.274193012507521, 0.013449340803375238, 0.02299403427673831, 0.06247435728019465, 0.006073895846685592, 0.00367487389376963, 0.9370928429112556, 0.02572411725638741, 0.02204924336261778, 0.9745464211697719, 0.28811685496170436, 0.07158654078504155, 0.0675392451929544, 0.07563383637712871, 0.1307782388193162, 0.07841635209668862, 0.16922754694414416, 0.05135006282460578, 0.033896100583729924, 0.033643144609224476, 0.017285764992154777, 0.030062199986356133, 0.5178213947649843, 0.10521769995224646, 0.25628025488368605, 0.012776434994201356, 0.008267104996247936, 0.0015031099993178065, 0.04283863498055749, 0.008267104996247936, 0.9606540792638435, 0.04972115808019313, 0.04822578490484898, 0.07701171853022395, 0.6119814720095952, 0.019439851279474007, 0.011962985402753234, 0.1723417584584138, 0.0029907463506883085, 0.004112276232196424, 0.0022430597630162317, 0.011020008285488199, 0.007346672190325466, 0.9477207125519851, 0.0018366680475813664, 0.0018366680475813664, 0.007346672190325466, 0.011020008285488199, 0.0018366680475813664, 0.011020008285488199, 0.013138680095003194, 0.9788316670777379, 0.006569340047501597, 0.2209899004164343, 0.13119821456301994, 0.27542320220321914, 0.05001350377845618, 0.06722745391615738, 0.03838245638811753, 0.05233971325652391, 0.04652418956135459, 0.06746007486396416, 0.050246124726262956, 0.007210382607213949, 0.004326229564328369, 0.6676814294280117, 0.2747155773348514, 0.004326229564328369, 0.02235218608236324, 0.0036051913036069744, 0.0036051913036069744, 0.011536612171542318, 0.0014420765214427898, 0.013218006410811967, 0.9781324744000857, 0.044497469157302384, 0.9408036336115361, 0.012713562616372109, 0.9836035450600439, 0.0013331561178129428, 0.001777541490417257, 0.00044438537260431426, 0.0013331561178129428, 0.08576637691263266, 0.009332092824690599, 0.0039994683534388285, 0.001777541490417257, 0.8914370574442544, 0.0031106976082301997, 0.0050638524259056, 0.0016879508086352, 0.062454179919502396, 0.038822868598609596, 0.0016879508086352, 0.0016879508086352, 0.877734420490304, 0.0101277048518112, 0.9792378341109684, 0.0057889608067249205, 0.0021708603025218454, 0.08828165230255504, 0.7930876305213141, 0.0057889608067249205, 0.03256290453782768, 0.0057889608067249205, 0.0014472402016812301, 0.0383518653445526, 0.02677394373110276, 0.007448493123471565, 0.11917588997554504, 0.8640252023227015, 0.010695027931941048, 0.021390055863882096, 0.021390055863882096, 0.9304674300788712, 0.0022684618374868314, 0.0022684618374868314, 0.009073847349947326, 0.7826193339329568, 0.17240309964899916, 0.006805385512460494, 0.009073847349947326, 0.01587923286240782, 0.45839536839976036, 0.058193792866566875, 0.025757908317988614, 0.13642151442490266, 0.028619898131098463, 0.00763197283495959, 0.20415527333516903, 0.003815986417479795, 0.011924957554624359, 0.06439477079497154, 0.9852791860747939, 0.04509719511858357, 0.009019439023716715, 0.7937106340870709, 0.008017279132192636, 0.013028078589813032, 0.004008639566096318, 0.004008639566096318, 0.03206911652877054, 0.04810367479315581, 0.042090715444011335, 0.008368283268315046, 0.9707208591245454, 0.008368283268315046, 0.008368283268315046, 0.9725549371485439, 0.990375558416514, 0.008565229226582852, 0.6737980324911844, 0.09421752149241137, 0.10849290353671613, 0.11563059455886851, 0.0041175121349434265, 0.07576222328295905, 0.002470507280966056, 0.009411456308442118, 0.001764648057832897, 0.022940424751827664, 0.8785594463930717, 0.0028234368925326354, 0.0014117184462663177, 0.0005882160192776324, 0.01230170423380351, 0.9841363387042809, 0.9948384619790988, 0.0020554513677254107, 0.9839962976527626, 0.9889647388850751, 0.9174778348667749, 0.002584444605258521, 0.018091112236809644, 0.005168889210517042, 0.02326000144732669, 0.002584444605258521, 0.02326000144732669, 0.002584444605258521, 0.002584444605258521, 0.9643078899891225, 0.5469538083032798, 0.05190870308572585, 0.056826369693847245, 0.06666170291009003, 0.16583464617387153, 0.013660185022559434, 0.0603780177997127, 0.002458833304060698, 0.019670666432485585, 0.016119018326620133, 0.9908041167439497, 0.3066182870113347, 0.46096430395133986, 0.020539968984978296, 0.07406238816698905, 0.004641242991797981, 0.10111984731066238, 0.004344993439130024, 0.013034980317390072, 0.009677485387153236, 0.004838742693576618, 0.00993695936961948, 0.9738220182227091, 0.0022182134719246774, 0.982668568062632, 0.0022182134719246774, 0.0022182134719246774, 0.00887285388769871, 0.9746243352378761, 0.01189003994535717, 0.005945019972678585, 0.09512031956285737, 0.7807792897451208, 0.005945019972678585, 0.02378007989071434, 0.03567011983607151, 0.03170677318761912, 0.00792669329690478, 0.015245875693942782, 0.0030491751387885565, 0.9299984173305097, 0.021344225971519894, 0.0030491751387885565, 0.021344225971519894, 0.0030491751387885565, 0.012487102549385988, 0.9146802617425236, 0.04058308328550446, 0.003121775637346497, 0.003121775637346497, 0.003121775637346497, 0.003121775637346497, 0.018730653824078982, 0.015533049800343313, 0.005177683266781104, 0.005177683266781104, 0.9734044541548476, 0.9930217386055012, 0.01607237805582303, 0.9804150614052047, 0.02607528330620645, 0.1445992983344176, 0.0023704803005642227, 0.007111440901692669, 0.0023704803005642227, 0.07585536961805513, 0.7419603340766018, 0.0023704803005642227, 0.11547965420821836, 0.11028955738987146, 0.02919429460320127, 0.038925726137601695, 0.0006487621022933616, 0.2160377800636894, 0.45153842319617965, 0.010380193636693786, 0.005190096818346893, 0.022706673580267654, 0.011449468440725764, 0.002862367110181441, 0.9817919187922343, 0.15609169033219714, 0.025422099402637968, 0.009406176778976047, 0.011185723737160706, 0.14058420969658797, 0.006101303856633112, 0.09228222083157582, 0.012711049701318984, 0.49318872841117656, 0.05338640874553973, 0.0010559243898578341, 0.0021118487797156683, 0.0010559243898578341, 0.21857634870057166, 0.005279621949289171, 0.0042236975594313365, 0.0031677731695735024, 0.7592096363077827, 0.005279621949289171, 0.9820228151422574, 0.993842377262915, 0.962994893791794, 0.03143409075189874, 0.1816191910109705, 0.013970707000843885, 0.00960486106308017, 0.0052390151253164565, 0.15804362294704644, 0.016590214563502112, 0.5631941259715191, 0.020082891313713085, 0.0008731691875527428, 0.00025708801596835814, 0.00025708801596835814, 0.005913024367272237, 0.5877032045036668, 0.40208565697451215, 0.0007712640479050745, 0.00025708801596835814, 0.002313792143715223, 0.00025708801596835814, 0.014925766594958575, 0.055971624731094655, 0.003731441648739644, 0.921666087238692, 0.0024381573733520865, 0.0014628944240112518, 0.019017627512146272, 0.01072789244274918, 0.5617514588203207, 0.2647838907460366, 0.0029257888480225037, 0.09947682083276513, 0.01609183866412377, 0.021943416360168777, 0.9805308020072634, 0.07557506922658784, 0.9047102490023413, 0.0032858725750690362, 0.0003650969527854485, 0.012413296394705248, 0.000730193905570897, 0.0025556786694981392, 0.0003650969527854485, 0.9809266315826707, 0.09543378868619486, 0.004123682227181259, 0.011192851759491989, 0.015316533986673249, 0.19675855198264866, 0.03652404258360544, 0.0200293136748804, 0.025920288285139342, 0.5755482194222986, 0.01826202129180272, 0.02115388841071257, 0.005876080114086826, 0.04387473151851497, 0.17824109679396705, 0.05445167572387125, 0.3713682632102874, 0.027421707199071853, 0.2326927725178383, 0.04387473151851497, 0.02115388841071257, 0.10923905684137275, 0.026009299247945893, 0.8583068751822145, 0.005201859849589179, 0.005165103298255924, 0.1497879956494218, 0.005165103298255924, 0.06198123957907109, 0.002582551649127962, 0.6947063936154217, 0.06198123957907109, 0.002582551649127962, 0.015495309894767773, 0.9814136884556259, 0.988756435269335, 0.9496317471349561, 0.9830220380205388, 0.13895646264206934, 0.09976361420456262, 0.08194868309660501, 0.08907465553978805, 0.13494810314277889, 0.06457912526634633, 0.07660420376421773, 0.24495530273441712, 0.05299942004617389, 0.01647881127486079, 0.009296595249981042, 0.013944892874971564, 0.06275201793737203, 0.8785282511232085, 0.0023241488124952606, 0.018593190499962085, 0.009296595249981042, 0.004648297624990521, 0.9910007302994687, 0.0038689920945058783, 0.009479030631539402, 0.00019344960472529393, 0.0005803488141758817, 0.017603914030001746, 0.0052231393275829355, 0.002514844861428821, 0.00793143379373705, 0.9461620167114125, 0.006577286560659993, 0.9982265174729665, 0.9910417781512207, 0.9933013909583446, 0.03666574397029383, 0.05683190315395544, 0.7562309693873103, 0.05499861595544075, 0.005499861595544075, 0.012833010389602842, 0.03758238756955118, 0.032082525974007105, 0.004583217996286729, 0.0027499307977720375, 0.9078015414603382, 0.005015478129615128, 0.055170259425766414, 0.025077390648075643, 0.9854060646430002, 0.0037185134514830195, 0.0037185134514830195, 0.0037185134514830195, 0.907293818854859, 0.06234568737158163, 0.027891491718865468, 0.9717603623444636, 0.18534569809415774, 0.15553864138310897, 0.10820864830253459, 0.11615719675881425, 0.08400170527659195, 0.10875059478819, 0.08020807987700393, 0.07424666853479418, 0.059072166936442086, 0.02818121725408246, 0.9856461264091505, 0.6913738156606061, 0.01932873033029651, 0.0862358737813229, 0.041631111480638645, 0.0029736508200456173, 0.01189460328018247, 0.11299873116173346, 0.0014868254100228087, 0.0014868254100228087, 0.029736508200456174, 0.8951419437364889, 0.02219360191082204, 0.0036989336518036733, 0.0036989336518036733, 0.014795734607214693, 0.055484004777055104, 0.010552518306014289, 0.9813842024593289, 0.9687176033253315, 0.9780840662535235, 0.9755912637389903, 0.2640741201494597, 0.46474509020301075, 0.0034871732552749783, 0.13029347344709236, 0.006023299259111326, 0.11539373317455383, 0.014582724522059, 0.0003170157504795435, 0.0003170157504795435, 0.000634031500959087, 0.005306922762862617, 0.0017689742542875391, 0.008844871271437696, 0.9623219943324213, 0.012382819780012775, 0.0070758970171501566, 0.0035379485085750783, 0.02800051617619203, 0.0032000589915648033, 0.11520212369633291, 0.585610795456359, 0.01680030970571522, 0.012800235966259213, 0.015200280209932816, 0.0016000294957824017, 0.08480156327646729, 0.13680252188939535, 0.9790906303217852, 0.9847486291840227, 0.9902148711916944, 0.9723730286014579, 0.9903481532806004, 0.3029083110510766, 0.1567448520359001, 0.017911876137490006, 0.10147938366862666, 0.017146956160088298, 0.06680301135974921, 0.27830338511132163, 0.006374333145014238, 0.022118936013199406, 0.030150595775917343, 0.09250081559712561, 0.4472341020775311, 0.003817493977024232, 0.1104136719508547, 0.0011746135313920713, 0.09514369604275777, 0.2372719333411984, 0.0070476811883524275, 0.0020555736799361245, 0.0029365338284801784, 0.025748682384436394, 0.9416660986308167, 0.011035149593329885, 0.011035149593329885, 0.9832401404703138, 0.8328067527807133, 0.05510300319150584, 0.035065547485503716, 0.02254213766925239, 0.005009363926500531, 0.026299160614127785, 0.017532773742751858, 0.003757022944875398, 0.7596627807693224, 0.004792825115263864, 0.03594618836447898, 0.002396412557631932, 0.07668520184422183, 0.028756950691583183, 0.09346008974764534, 0.763747641602429, 0.0014065334099492247, 0.02039473444426376, 0.042899269003451354, 0.0014065334099492247, 0.01828493432933992, 0.13854354087999862, 0.007735933754720736, 0.004922866934822286, 0.8765441713652732, 0.001983131609423695, 0.001983131609423695, 0.001983131609423695, 0.00396626321884739, 0.11105537012772693, 0.9844987513022935, 0.2220147325194888, 0.01865670021172175, 0.001865670021172175, 0.725745638235976, 0.0298507203387548, 0.001865670021172175, 0.010664721775736165, 0.002666180443934041, 0.023995623995406373, 0.9518264184844527, 0.007998541331802124, 0.002666180443934041, 0.006306456083511204, 0.039415350521945024, 0.012612912167022408, 0.8939401498377132, 0.001576614020877801, 0.02995566639667822, 0.004729842062633403, 0.001576614020877801, 0.009459684125266807, 0.009356747446259864, 0.10760259563198844, 0.007797289538549888, 0.7984424487475085, 0.003118915815419955, 0.042105363508169395, 0.028070242338779597, 0.0015594579077099775, 0.0015594579077099775, 0.14621179050655617, 0.1578859548897476, 0.14877441195652502, 0.12243635816517849, 0.06776710056584298, 0.15874016203973723, 0.08470887570730372, 0.04029010390784362, 0.03744274674121156, 0.03587670029956393, 0.0043088554565807865, 0.002872570304387191, 0.6693088809222154, 0.10053996065355168, 0.02441684758729112, 0.1263930933930364, 0.008617710913161573, 0.02154427728290393, 0.02154427728290393, 0.020107992130710337, 0.14396771781060297, 0.006774951426381316, 0.06774951426381316, 0.001693737856595329, 0.006774951426381316, 0.7655695111810887, 0.005081213569785987, 0.003387475713190658, 0.981465283364588, 0.9713300477338459, 0.007596659458424179, 0.008596219913479992, 0.0009995604550558132, 0.026588308104484627, 0.019591384919093936, 0.011794813369658595, 0.007796571549435342, 0.0029986813651674393, 0.9064014206446113, 0.007596659458424179, 0.002532809380927296, 0.0582546157613278, 0.9346066615621722, 0.340401914587445, 0.024078629440298448, 0.13987612424861545, 0.06997042587355544, 0.2440226693277558, 0.020453889524554597, 0.033852481713107764, 0.020842254515527153, 0.04019577656565951, 0.06628095845931616, 0.9933657099036617, 0.008962592140084056, 0.0035850368560336222, 0.967959951129078, 0.0161326658521513, 0.059461163408271414, 0.009147871293580218, 0.251566460573456, 0.674655507901541, 0.09166266671659916, 0.018964689665503274, 0.11694891960393687, 0.0047411724163758185, 0.1706822069895295, 0.007901954027293032, 0.023705862081879095, 0.06005485060742704, 0.023705862081879095, 0.4804388048594163, 0.0347616350218862, 0.019036133464366254, 0.024829739301347287, 0.16139330545875735, 0.5321840790255435, 0.0024829739301347287, 0.023174423347924133, 0.09269769339169653, 0.0173808175109431, 0.09187003541498495, 0.008389434867262098, 0.15520454504434883, 0.06711547893809679, 0.7424649857526957, 0.016778869734524197, 0.004194717433631049, 0.9877491060043035, 0.9980220205788995, 0.014204692143012154, 0.02698891507172309, 0.029829853500325524, 0.0553982993577474, 0.7912013523657769, 0.02130703821451823, 0.016335395964463977, 0.0056818768572048615, 0.0184660997859158, 0.019886569000217017, 0.06240965305795051, 0.005070784310958479, 0.02223343890189487, 0.07801206632243814, 0.0007801206632243814, 0.0007801206632243814, 0.019893076912221724, 0.005070784310958479, 0.8054745847791738, 0.24677912159246332, 0.23048238714767802, 0.18438590971814242, 0.020952944286152547, 0.18880930906744128, 0.016529544936853675, 0.02840288003234012, 0.01583111346064859, 0.010709282635144635, 0.05727138104881696, 0.10553539363012451, 0.06305984820623539, 0.026792267113530062, 0.03169329158551727, 0.43227035842927164, 0.015029808380760767, 0.1192582621516887, 0.014376338451162473, 0.0561984139454533, 0.13559501039164606, 0.9940597964000328, 0.9733442087814246, 0.9787167643038754, 0.21959493420420126, 0.1297869795824303, 0.15632378165776648, 0.12967109835066026, 0.07010814522086636, 0.07091931384325655, 0.08864914230407069, 0.031172051346137274, 0.06790640181723585, 0.03592318184870838, 0.9941603221522455, 0.9813277228670302, 0.070502892457688, 0.0655553210571485, 0.002473785700269754, 0.02968542840323705, 0.004947571400539508, 0.03092232125337193, 0.7322405672798473, 0.007421357100809263, 0.012368928501348771, 0.042054356904585824, 0.07796857759456231, 0.25658750081119597, 0.009923273512035204, 0.0283522100343863, 0.038275483546421504, 0.5514504851688135, 0.0042528315051579444, 0.035440262542982874, 0.020132636070639028, 0.0352321131236183, 0.06039790821191709, 0.020132636070639028, 0.850603873984499, 0.005033159017659757, 0.03249896861425954, 0.10399669956563053, 0.006499793722851908, 0.07908082362803155, 0.023832576983790328, 0.726893598005605, 0.02491587593759898, 0.027482698856300485, 0.961894459970517, 0.08069538400894252, 0.9179099931017212, 0.014148417209673005, 0.014148417209673005, 0.9691665788626008, 0.19098002630058566, 0.043264912124395406, 0.20915640950077544, 0.031488663853849914, 0.3069504712257402, 0.02150445336360482, 0.036096761003193804, 0.07424156518387377, 0.041216868946909235, 0.04505694990469581, 0.0021117881528490623, 0.0008447152611396249, 0.9714225503105686, 0.014782517069943435, 0.0012670728917094374, 0.0016894305222792498, 0.0042235763056981245, 0.0033788610445584996, 0.9802259497329086, 0.9928772337883116, 0.03729748305087252, 0.062299092568490366, 0.06967661668844317, 0.2934615149936783, 0.07664427835728749, 0.06762730443290073, 0.2364906342895983, 0.053691981095212095, 0.08320207757502332, 0.019673397653207483, 0.09624374270011797, 0.007403364823085998, 0.003701682411542999, 0.8921054611818627, 0.9778122854595067, 0.9831712161418465, 0.9718481334072732, 0.9774921959077183, 0.9927564420310812, 0.13299405572679557, 0.1418472103239935, 0.1265017423555171, 0.06059492479859916, 0.12630500558669044, 0.1143040626882666, 0.0838098635201404, 0.11076280084938743, 0.05154503343257461, 0.05134829666374799, 0.3062908370081634, 0.17022998277941143, 0.10127606570420679, 0.09327248604369197, 0.042172708211174255, 0.0692617470621475, 0.110818795299436, 0.009234899608286334, 0.052946757754174976, 0.04463534810671728, 0.010635236306146994, 0.04254094522458798, 0.9465360312470825, 0.011404358000012266, 0.15395883300016558, 0.8211137760008831, 0.14621261533336236, 0.10608659683962006, 0.07475532212532812, 0.04562273335589878, 0.19980558523938804, 0.06018902774061345, 0.06925860726317165, 0.22866333826570956, 0.028857753026321518, 0.0401260184937423, 0.06066919945764514, 0.15230234718620458, 0.07300443088264352, 0.22983808757190874, 0.03713156398341352, 0.2508583288777733, 0.0699835578806031, 0.0774098706772858, 0.03876787019285208, 0.00994370696504972, 0.9972880048989564, 0.17868066924540893, 0.03393934499633466, 0.030944696908422775, 0.12278057160438714, 0.015971456468863367, 0.03893042514285446, 0.15871634865932974, 0.012976808380951487, 0.075864418227101, 0.3334041537875228, 0.03691912856498842, 0.03974457207761508, 0.036165676961621304, 0.13128894188671902, 0.24656703720188694, 0.2980842905821131, 0.042381652689399966, 0.07393243858039772, 0.07487425308460662, 0.020154830390070207, 0.8558451040293874, 0.008431971468269826, 0.0632397860120237, 0.05902380027788878, 0.01264795720240474, 0.02240060165013809, 0.015326727444831325, 0.002357958068435588, 0.021221622615920296, 0.0035369371026533827, 0.532898523466443, 0.005894895171088971, 0.39142103936030764, 0.002357958068435588, 0.001178979034217794, 0.9626243973614971, 0.025332220983197293, 0.06729754352842161, 0.012235917005167565, 0.07232300944125829, 0.12738463596451233, 0.12672914041066408, 0.19380818542113626, 0.02469033252828455, 0.3087384058625316, 0.05440613096940578, 0.012454415523116987, 0.025976561917279418, 0.049110405737950905, 0.005783460955167871, 0.2382981963053067, 0.23682782487602672, 0.31397331253224897, 0.06949955622396645, 0.005783460955167871, 0.03548496382662321, 0.01921285334259157, 0.002006743121220643, 0.002006743121220643, 0.8729332577309797, 0.08227646797004635, 0.006020229363661929, 0.02608766057586836, 0.010033715606103215, 0.002006743121220643, 0.8937707765562531, 0.004402811707173661, 0.03962530536456295, 0.017611246828694645, 0.04402811707173661, 0.003483880787810457, 0.003483880787810457, 0.003483880787810457, 0.003483880787810457, 0.013935523151241828, 0.003483880787810457, 0.04180656945372548, 0.9267122895575816, 0.003483880787810457, 0.4193204288432942, 0.09478709486933866, 0.006077107664395568, 0.05627243850277974, 0.008602658901546973, 0.34726329510831816, 0.0041040207603710325, 0.022177496801235774, 0.034331712130026906, 0.007103112854488326, 0.0013625522998400262, 0.006812761499200131, 0.008175313799040159, 0.9728623420857788, 0.0027251045996800525, 0.005450209199360105, 0.0013625522998400262, 0.9901793233486629, 0.9808715982273228, 0.9877524109093012, 0.006291416629995549, 0.9898808953476876, 0.001599049635061227, 0.003198099270122454, 0.003198099270122454, 0.8778782496486136, 0.11033442481922466, 0.001599049635061227, 0.001599049635061227, 0.001599049635061227, 0.0021945710497819778, 0.9239144119582127, 0.05486427624454945, 0.0021945710497819778, 0.013167426298691868, 0.0021945710497819778, 0.9901169916217057, 0.9337770787135738, 0.042798116107705474, 0.011672213483919674, 0.0077814756559464494, 0.6936954230660579, 0.022587213002702767, 0.017610369459734362, 0.01033652120462669, 0.08116083316225402, 0.003062672949519019, 0.12595242504896967, 0.0015313364747595096, 0.029095393020430686, 0.014930530628905219, 0.9765506271015676, 0.03649500585300378, 0.004561875731625473, 0.8279804452900233, 0.029652192255565576, 0.09579939036413494, 0.0022809378658127364, 0.0022809378658127364, 0.014741807662627582, 0.06633813448182412, 0.904164203307825, 0.0024569679437712634, 0.009827871775085054, 0.9753753344697296, 0.007741074083093092, 0.007741074083093092, 0.9965756269204114, 0.0034035603854288736, 0.915557743680367, 0.0646676473231486, 0.0017017801927144368, 0.013614241541715495, 0.0017017801927144368, 0.013381570381734225, 0.9768546378665983, 0.037573242811136116, 0.01186523457193772, 0.9452636875643717, 0.003955078190645907, 0.9870471653867032, 0.9835611112026923, 0.9935081141311656, 0.004455193336911056, 0.005430245556303794, 0.9883046912472905, 0.9961670478175393, 0.9765858417875949, 0.9800319145289719, 0.07692270768779777, 0.8351608263246615, 0.08241718680835475, 0.010988958241113967, 0.9473602337307213, 0.010410552019018915, 0.0364369320665662, 0.1662661617843486, 0.058417840626933296, 0.031455760337579464, 0.7414572079572302, 0.006060003061498415, 0.9696004898397464, 0.02424001224599366, 0.9894322150073596, 0.9840866439329365, 0.012727609017205963, 0.019254588000388508, 0.22126458752988828, 0.5877544574355882, 0.016480621932535928, 0.09251992708661258, 0.013706655864683344, 0.023007600915718473, 0.009953642949353381, 0.0032634894915912725, 0.003020167012689194, 0.9513526089970962, 0.039262171164959524, 0.9897253901812276, 0.2656214491722223, 0.03984321737583335, 0.06698280022603867, 0.007506693128780196, 0.07795412095271742, 0.00288718966491546, 0.03175908631407006, 0.058898669164275386, 0.02252007938634059, 0.4255717566085388, 0.9963459916928605, 0.0026150813430258807, 0.9804325776283511, 0.971112017475666, 0.9778215763245074, 0.9961834680640748, 0.0023775261767639017, 0.9950511160924044, 0.9689712592077696, 0.9925032148477932, 0.0041182706010281876, 0.9947905869173733, 0.026701773749224448, 0.6922022780076728, 0.006593030555364061, 0.081819509192068, 0.01944944013832398, 0.04746981999862124, 0.01938350983277034, 0.02155920991604048, 0.009098382166402404, 0.07568799077557942, 0.9692784703574443, 0.026196715415066064, 0.9900603633283374, 0.9844360694633738, 0.9845105888087236, 0.0029916660153122623, 0.017949996091873574, 0.005983332030624525, 0.020941662107185836, 0.03589999218374715, 0.005983332030624525, 0.9094664686549278, 0.9821824813236439, 0.973968178893851, 0.9862585227681969, 0.16317140432645363, 0.049604106915241905, 0.09920821383048381, 0.010442969876893032, 0.18144660161101644, 0.00717954179036396, 0.029370852778761655, 0.04895142129793609, 0.0450353075941012, 0.36485126007395036, 0.0024455647561307118, 0.024455647561307116, 0.9097500892806247, 0.04891129512261423, 0.0048911295122614235, 0.009782259024522847, 0.9933334028345364, 0.9943128571419851, 0.9908960229109939, 0.0069428873298637344, 0.9858900008406504, 0.859592689904033, 0.1305710415044101, 0.9884284502775847, 0.1133799661863505, 0.12496412620539014, 0.1068638761756407, 0.08572278414089336, 0.13205942421705194, 0.17303839028440465, 0.08412996213827541, 0.08615719014160735, 0.04995669008210846, 0.04387500607211265, 0.16416415293620273, 0.32226919065446025, 0.05661485781767545, 0.10508777956123704, 0.014390398642619847, 0.13008162983526098, 0.17306347841255973, 0.00889932547635701, 0.012875619838133547, 0.012496925137011972, 0.9891895849313638, 0.9606797916135132, 0.9890340982115712, 0.13571334658335665, 0.13206100439485272, 0.1038034095680065, 0.08554169862548684, 0.16339425580149172, 0.054400675755084886, 0.06362764549446324, 0.06247427427704095, 0.0724701581613675, 0.1264863768439783, 0.02703808404033307, 0.07422474032226051, 0.02703808404033307, 0.2588116602129959, 0.22891377882224298, 0.21669464468863092, 0.12648103736175037, 0.005589603912184241, 0.01949861829831712, 0.015728885427309144, 0.003150397825912137, 0.006300795651824274, 0.009451193477736411, 0.0015751989129560685, 0.8238290314760238, 0.06930875217006702, 0.058282359779374536, 0.014176790216604618, 0.0015751989129560685, 0.007875994564780343, 0.9964100945153611, 0.008927676678944464, 0.9865082730233633, 0.002163102856218322, 0.9950273138604281, 0.09228938462932426, 0.06270379242757916, 0.2847061279414202, 0.06358694443360141, 0.09129583862254924, 0.05828803239746796, 0.052768332359828946, 0.11138754675955524, 0.058840002401231856, 0.12419325084687775, 0.16969618607999126, 0.13382217049538503, 0.16902438803533573, 0.1260293131773807, 0.08921478033025669, 0.06932955820845249, 0.09028965720170556, 0.045413547818715004, 0.07819729239790572, 0.029021675529119648, 0.06050415777288126, 0.020168052590960422, 0.033613420984934035, 0.011764697344726913, 0.2689073678794723, 0.01848738154171372, 0.0016806710492467017, 0.5378147357589446, 0.016806710492467018, 0.02857140783719393, 0.22768060619701597, 0.27755658536392985, 0.06623141389372655, 0.04598953923182968, 0.03789278936707093, 0.08890231351505104, 0.14493182257918158, 0.005991594899921473, 0.040483749323793734, 0.0646120639207748, 0.9678730313417879, 0.029739115488155495, 0.9784961340952617, 0.035689361587859306, 0.023275670600777808, 0.09310268240311123, 0.006982701180233342, 0.054309898068481556, 0.007758556866925936, 0.029482516094318557, 0.09232682671641863, 0.6012881571867601, 0.056637465128559335, 0.15233410124172203, 0.20244159672819484, 0.03913505121936196, 0.13112070899197442, 0.17994808598061762, 0.056873836117857804, 0.13569256076993727, 0.02615099216994748, 0.03785493272153237, 0.03840355493488791, 0.988882389874772, 0.11102785367428916, 0.10455392634634228, 0.06409188054667421, 0.04628858039482026, 0.1790040906177315, 0.07477386063778658, 0.19583630167039343, 0.08901650075926974, 0.05923643505071404, 0.07606864610337596, 0.9936425511840143, 0.015312765677913336, 0.9187659406748002, 0.009570478548695836, 0.01914095709739167, 0.005742287129217501, 0.028711435646087507, 0.001914095709739167, 0.003828191419478334, 0.34962015321906176, 0.09723414176588174, 0.21645165471361502, 0.03255229963466476, 0.0980796560421068, 0.04565777091615317, 0.05199912798784111, 0.07017768492667988, 0.022828885458076584, 0.015642014110163586, 0.001249694798867081, 0.8285476516488748, 0.03374175956941119, 0.002499389597734162, 0.001249694798867081, 0.027493285575075785, 0.0987258891104994, 0.006248473994335406, 0.9827535621514621, 0.9972593418472073, 0.9823064324532115, 0.01748780746625662, 0.01498954925679139, 0.13740420152058774, 0.03497561493251324, 0.01748780746625662, 0.10242858658807451, 0.0024982582094652318, 0.02748084030411755, 0.007494774628395695, 0.6345575852041688, 0.5944370114229449, 0.09576036962132548, 0.01987479369499208, 0.08040257449337705, 0.002107932664620372, 0.0614311805117937, 0.13581109024911253, 0.0003011332378029103, 0.0036135988536349236, 0.006022664756058206, 0.025453535984759867, 0.009545075994284951, 0.012726767992379933, 0.0031816919980949833, 0.9481442154323051, 0.0031816919980949833, 0.9912369081921927, 0.13063844217609935, 0.868361409758778, 0.9845106831270303, 0.9463147867072345, 0.041749181766495634, 0.014880135877377283, 0.006200056615573868, 0.0006200056615573868, 0.010540096246475575, 0.017980164185164217, 0.009920090584918188, 0.002480022646229547, 0.003100028307786934, 0.9300084923360802, 0.0037200339693443207, 0.16437483254766055, 0.11865608869546519, 0.1346044877136729, 0.08824780790074921, 0.1214204778586212, 0.04869577833559414, 0.1124893744084249, 0.07166147292181321, 0.0537992660214206, 0.08569606405783597, 0.0012470519715427975, 0.0012470519715427975, 0.0012470519715427975, 0.008729363800799582, 0.9876651614618955, 0.36718192443339837, 0.1803008016034967, 0.055801123999914305, 0.04685188713200352, 0.09686232845268145, 0.05185293126407131, 0.14713598262241556, 0.01184457820752898, 0.014739919547147175, 0.027374136301844754, 0.021909440685207008, 0.9640153901491083, 0.9958064047993255, 0.9721434807508037, 0.014956053550012366, 0.015231287043515583, 0.0076156435217577916, 0.9748023707849973, 0.40283333512660524, 0.021785104461305976, 0.00038219481511063115, 0.00038219481511063115, 0.5694702745148404, 0.0042041429662169425, 0.0007643896302212623, 0.041982887390771516, 0.02565620896102704, 0.009329530531282559, 0.004664765265641279, 0.9026320789015876, 0.0116619131641032, 0.9948522346206277, 0.057814521583366495, 0.008367891281803045, 0.04298053249289746, 0.022060804288389847, 0.12095406489151675, 0.06542169547591471, 0.011410760838822333, 0.5545629767667655, 0.08786285845893198, 0.028526902097055835, 0.03197618443035018, 0.9432974406953303, 0.9756424872805757, 0.9810594955717163, 0.9925864597105118, 0.027515691015460402, 0.13041460652889814, 0.007977922247086152, 0.0193749540286378, 0.005128664301698241, 0.0674867096207594, 0.7132099674155283, 0.018560880329955537, 0.0059427380003805015, 0.004395997972884207, 0.007895133174515174, 0.0051381025421447955, 0.021680286336367063, 0.9005464601915243, 0.0015038348903838425, 0.009524287639097668, 0.0283222237688957, 0.0007519174451919213, 0.016667503368420922, 0.008020452748713826, 0.14038798751093862, 0.17405245390386778, 0.06577702476065236, 0.2726583022746461, 0.09001066546194533, 0.12188446874886763, 0.07437220766948534, 0.018861651383272365, 0.03151567066572091, 0.010624601095640764, 0.03919411079432363, 0.024327379113718118, 0.038743603773699224, 0.022975858051844888, 0.20858475054910164, 0.09685900943424806, 0.02252535103122048, 0.43879383808817496, 0.07163061627928112, 0.03604056164995277, 0.9944855527168188, 0.002106960916772921, 0.14884352764930697, 0.40260106957920183, 0.017227260144595715, 0.04634132978896247, 0.006201813652054457, 0.16589851519245674, 0.14815443724352315, 0.014987716325798272, 0.007579994463622114, 0.042379059955705456, 0.0888015688557337, 0.0193748877503419, 0.0193748877503419, 0.02744775764631769, 0.7007251069706987, 0.00968744387517095, 0.0193748877503419, 0.04036434947987896, 0.020989461729537057, 0.053280941313440223, 0.02230641093492245, 0.10276882180732129, 0.03425627393577376, 0.005576602733730613, 0.003983287666950438, 0.04142619173628455, 0.6548524924466519, 0.014339835601021575, 0.013543178067631488, 0.10754876700766182, 0.9778987203905586, 0.9580180535818377, 0.028129730211445866, 0.9599270434655902, 0.007032432552861467, 0.24343575698209416, 0.7266188503859478, 0.00368842056033476, 0.00737684112066952, 0.01106526168100428, 0.08506266419567136, 0.10808714472983806, 0.08387489337446435, 0.1799929629059856, 0.11493966869834005, 0.16975986044635596, 0.0537237879130556, 0.14262386553108808, 0.04915543860072094, 0.012882745060783742, 0.0007643687050651943, 0.0015287374101303887, 0.13300015468134382, 0.5679259478634394, 0.2591209910171009, 0.009936793165847528, 0.0030574748202607774, 0.023695429857021028, 0.1255243001606805, 0.019819626341160083, 0.8522439326698835, 0.06955106272616296, 0.07459404008395121, 0.23155671034511052, 0.2473160145881988, 0.09224446083621009, 0.11241637026736309, 0.060305604236884504, 0.02374401839291968, 0.04349567971092366, 0.044756424050370724, 0.9705714280828871, 0.8933495080717031, 0.06269119354889145, 0.03656986290352001, 0.036073731275676084, 0.9379170131675781, 0.09421011756090912, 0.7375490710419118, 0.001935824333443338, 0.03419956322416564, 0.001290549555628892, 0.015486594667546705, 0.0574294552254857, 0.005807473000330014, 0.05226725700297013, 0.12429707449971734, 0.03008703770038544, 0.020120706462132765, 0.028018553858483942, 0.45732297304585867, 0.08311544164731478, 0.04212185278053961, 0.1128263913764454, 0.08593610143172592, 0.016171782763957174, 0.0018933619212355855, 0.013253533448649098, 0.0018933619212355855, 0.003786723842471171, 0.3275516123737563, 0.028400428818533784, 0.6210227101652721, 0.0018933619212355855, 0.0062172481442599875, 0.018651744432779963, 0.165793283846933, 0.0020724160480866624, 0.8061698427057117, 0.0020724160480866624, 0.002695121880859938, 0.006737804702149844, 0.6313323005914404, 0.05255487667676879, 0.09904572912160271, 0.05255487667676879, 0.002695121880859938, 0.09837194865138774, 0.05322865714698377, 0.0006737804702149845, 0.07367292025490634, 0.3802260732297045, 0.06576527228479116, 0.10477633560402601, 0.05825300671318175, 0.10846657132341309, 0.10622607106521378, 0.041646945975939896, 0.013179413283525284, 0.04770947608636153, 0.953527840280389, 0.0346737396465596, 0.06463293826505952, 0.0627729975955614, 0.08974213730328408, 0.0595181014239397, 0.1752994081001974, 0.17436943776544833, 0.030689021046718907, 0.11206142533726146, 0.07114273060830292, 0.16041988274421248, 0.01913160468314901, 0.02637059023893512, 0.06204844762102381, 0.11530669849573591, 0.012926759921046627, 0.017580393492623414, 0.019648675079990872, 0.04343391333471667, 0.6644354599417966, 0.019648675079990872, 0.9681379941146974, 0.029788861357375303, 0.9526875122254419, 0.008245726200387321, 0.008245726200387321, 0.0032982904801549286, 0.009894871440464786, 0.16326537876766897, 0.03957948576185914, 0.0016491452400774643, 0.7190273246737744, 0.04782521196224646, 0.0073731444945505506, 0.03686572247275275, 0.9474490675497458, 0.0073731444945505506, 0.9826869465862791, 0.028931077973304176, 0.0619951670856518, 0.005510681518724605, 0.0027553407593623024, 0.020665055695217267, 0.17634180859918736, 0.04821846328884029, 0.6406167265517353, 0.013776703796811512, 0.9779957183348431, 0.015123645128889326, 0.005041215042963109, 0.9919455920827766, 0.07769929961906487, 0.2292169765036929, 0.019404611767508396, 0.1711648462992303, 0.020859957650071523, 0.05780957255736876, 0.38340278750635337, 0.016655625100444705, 0.008893780393441348, 0.014876869021756436, 0.009098695415031723, 0.9690110617008785, 0.009098695415031723, 0.0045493477075158615, 0.0045493477075158615, 0.07475367723438898, 0.0716389406829561, 0.0840978868886876, 0.6852420413152324, 0.06540946758009036, 0.009344209654298623, 0.0031147365514328745, 0.6051875183301618, 0.010997161037231787, 0.03367880567652235, 0.01752672540308816, 0.08110406264958443, 0.0030929515417214403, 0.03952104747755174, 0.0013746451296539734, 0.06082804698718832, 0.14674336759056167, 0.0934260891091708, 0.09209775608866126, 0.06464554033146416, 0.11113719604929796, 0.03143721481872572, 0.19526495401490201, 0.254597162264328, 0.09652553282369306, 0.014611663225604912, 0.04693443339133699, 0.03230803495655459, 0.961164039957499, 0.00834954337990025, 0.9852461188282294, 0.007592305501771418, 0.006182305908585297, 0.04229998779558362, 0.8569543681356567, 0.015509995525047325, 0.018980763754428545, 0.016486149089560795, 0.006182305908585297, 0.028633837892395063, 0.0013015380860179574, 0.009789510088569587, 0.9887405189455284, 0.001936249838830159, 0.9913599174810414, 0.001936249838830159, 0.001936249838830159, 0.9946524934294159, 0.1835310993005305, 0.08980430618192436, 0.303063727528885, 0.05832118734803134, 0.08010131218065898, 0.029212205344235166, 0.04903108670852192, 0.04572793981447413, 0.08309478905338978, 0.07793362203144011, 0.9942634555009525, 0.990373914662163, 0.18388298187555155, 0.1124258645663994, 0.24676524510760545, 0.042556683197450616, 0.09273545890787747, 0.06701089667658269, 0.09686409235240626, 0.06796365824070472, 0.04763807820610144, 0.04160392163332859, 0.002438717618236177, 0.029264611418834127, 0.002438717618236177, 0.19997484469536653, 0.7316152854708532, 0.002438717618236177, 0.009754870472944708, 0.02438717618236177, 0.0738720225573437, 0.03336155857428425, 0.08697834914009822, 0.13642494488412665, 0.10842506536642381, 0.06255292232678297, 0.0792337016139251, 0.37055159702151436, 0.012510584465356593, 0.03634026916127391, 0.985372125296098, 0.012797040588261012, 0.9807594735021459, 0.9944007163141798, 0.9835526969557161, 0.0021029145514879777, 0.0189262309633918, 0.006308743654463932, 0.9673406936844696, 0.0021029145514879777, 0.08691145095668498, 0.05744574536168352, 0.09334933621273572, 0.15525207905937746, 0.23523042281723855, 0.17184201414227743, 0.06140752090386859, 0.021789765482017887, 0.09433978009828199, 0.022532598396177588, 0.3739256131197701, 0.11609619091845703, 0.03522487659823921, 0.2119745532568596, 0.0919181691113816, 0.034391151708340055, 0.07274249664370108, 0.008962542566415894, 0.02918037114647035, 0.025220177919449374, 0.049434407884609004, 0.0197737631538436, 0.0098868815769218, 0.8997062234998838, 0.0098868815769218, 0.004558745267033418, 0.07293992427253469, 0.004558745267033418, 0.036469962136267346, 0.07293992427253469, 0.8068979122649149, 0.020773924437758714, 0.006924641479252904, 0.0046164276528352696, 0.0023082138264176348, 0.016157496784923443, 0.07155462861894668, 0.0023082138264176348, 0.0046164276528352696, 0.8609637572537777, 0.011541069132088173, 0.06304419863669816, 0.12312161145519876, 0.0448726355002381, 0.11162531640968322, 0.400145237229396, 0.023363438318305788, 0.022992590091031096, 0.0979039320005195, 0.008158661000043291, 0.1049500483187387, 0.9760230710814414, 0.9574167827150045, 0.972166919319361, 0.12161186511108531, 0.10317975375981703, 0.14324956104518285, 0.08254380300785362, 0.14244816489947554, 0.05930331478234144, 0.05950366381876827, 0.13343245826026823, 0.08454729337212191, 0.07032251178581704, 0.0021811715524170396, 0.006543514657251119, 0.0719786612297623, 0.07415983278217934, 0.01963054397175336, 0.7525041855838787, 0.008724686209668158, 0.013087029314502239, 0.052348117258008954, 0.017724477510197657, 0.032916886804652795, 0.07089791004079063, 0.05823756896207802, 0.7925373515274096, 0.005064136431485045, 0.0025320682157425225, 0.0025320682157425225, 0.015192409294455136, 0.9920164711662669, 0.9864282451476191, 0.00822023537623016, 0.16092366520343065, 0.13523234321481278, 0.3455623968578932, 0.07933254372309477, 0.036419566335513257, 0.04093672184999552, 0.06239321054378628, 0.021738810913445896, 0.02427971089034217, 0.0931663324861967, 0.993851361611842, 0.9845273596982773, 0.9710400454726287, 0.9756540699355859, 0.034857388622267525, 0.005809564770377921, 0.005809564770377921, 0.005809564770377921, 0.011619129540755842, 0.04066695339264545, 0.15104868402982594, 0.7494338553787518, 0.3728210791795845, 0.551570911662947, 0.002042855228381285, 0.0010214276141906425, 0.029621400811528635, 0.003064282842571928, 0.03881424933924442, 0.0010214276141906425, 0.24583596506349836, 0.5843513035375169, 0.0011781276280998325, 0.012566694699731547, 0.003927092093666108, 0.07029494847662333, 0.02984589991186242, 0.04516155907716025, 0.005890638140499162, 0.00039270920936661084, 0.9755344206110375, 0.11005688800269452, 0.12084677898335085, 0.05502844400134726, 0.10142497521816946, 0.011868880078721958, 0.028053716549706446, 0.04208057482455967, 0.014026858274853223, 0.023737760157443916, 0.4930980178159941, 0.9880373476089848, 0.13768306241309422, 0.10908557541271956, 0.18357741655079232, 0.08556183610595973, 0.15682492871173212, 0.04266560560539771, 0.08394746183980954, 0.07126309260577239, 0.06480559554117166, 0.06434434575084304, 0.0018006478316292776, 0.13144729170893726, 0.777879863263848, 0.012604534821404945, 0.0018006478316292776, 0.0018006478316292776, 0.043215547959102665, 0.028810365306068442, 0.04862504327186358, 0.9400841699226958, 0.009725008654372716, 0.9653349971576282, 0.9618203163044139, 0.02272016495207277, 0.001377324875881424, 0.005509299503525696, 0.009641274131169967, 0.705190336451289, 0.04269707115232414, 0.22312662989279067, 0.002754649751762848, 0.011018599007051391, 0.968492961730486, 0.977655892168407, 0.9579541223661935, 0.017410958107114613, 0.9576026958913036, 0.988760585254798, 0.9757943614961974, 0.9971365415505535, 0.048576848725268934, 0.5836261970035934, 0.07462530383881893, 0.11827406646152436, 0.008448147604394596, 0.030272528915747308, 0.10489783275456625, 0.006336110703295948, 0.01196820910622568, 0.013376233706958111, 0.9732052845929783, 0.12972802613708928, 0.1476540806578507, 0.1839779279762357, 0.06698683531442429, 0.024058652119969284, 0.03349341765721214, 0.025473866950555712, 0.27926905990238854, 0.03490863248779857, 0.07500638602108071, 0.9088281220171396, 0.07100219703258903, 0.014200439406517806, 0.004733479802172602, 0.006328296349324734, 0.002109432116441578, 0.008437728465766311, 0.002109432116441578, 0.9766670699124506, 0.004218864232883156, 0.9821409975363506, 0.09825967319973185, 0.15451916946448596, 0.08425961422140595, 0.1376672466202048, 0.05885209977925892, 0.1851118909356426, 0.14725987962387255, 0.052111330641546445, 0.06248174469956564, 0.018926005655885026, 0.9870832498409724, 0.9436059672609873, 0.044933617488618446, 0.9837596148405315, 0.32223705857909374, 0.26570903220123576, 0.012288701386490863, 0.06089734242638806, 0.06608590523401753, 0.05325103934146041, 0.2048116897748477, 0.002184658024265042, 0.002730822530331303, 0.01010404336222582, 0.12236771703289231, 0.06419290073856647, 0.13841594221753392, 0.012036168888481212, 0.006018084444240606, 0.006018084444240606, 0.6038144725721408, 0.006018084444240606, 0.04012056296160404, 0.0015671454937249646, 0.0036566728186915843, 0.8572285850675556, 0.0914168204672896, 0.0370891100181575, 0.007835727468624824, 0.0005223818312416549, 0.002852670430850832, 0.03851105081648623, 0.688919909050476, 0.044216391678187895, 0.009984346507977911, 0.13692818068083992, 0.06561141990956913, 0.001426335215425416, 0.009984346507977911, 0.9578242324648982, 0.03302842180913442, 0.9743669716923087, 0.042888786045752705, 0.0025228697673972183, 0.015137218604383308, 0.042888786045752705, 0.0067276527130592486, 0.0067276527130592486, 0.024387741084839775, 0.0033638263565296243, 0.8342289364193468, 0.021864871317442556, 0.0058349221536841455, 0.0058349221536841455, 0.962762155357884, 0.017504766461052437, 0.987967223359784, 0.9896512931932988, 0.00638391359156614, 0.004787935193674605, 0.0007979891989457676, 0.0007979891989457676, 0.004787935193674605, 0.001595978397891535, 0.0007979891989457676, 0.9799307363054025, 0.9652667065133593, 0.02400550072309621, 0.02667277858121801, 0.01689275976810474, 0.04249862720607403, 0.627877207801872, 0.09691109551175878, 0.053523375686310805, 0.08944271750901772, 0.011558204051861138, 0.010669111432487204, 0.0033065332205038083, 0.009919599661511425, 0.00826633305125952, 0.9506283008948448, 0.014879399492267137, 0.0016532666102519042, 0.0008266333051259521, 0.010746232966637376, 0.9829170844967068, 0.965455427918878, 0.9720813817594693, 0.9911138118126568, 0.9750821242087804, 0.9902251773360246, 0.9947751068157064, 0.9952812645897646, 0.009353538926499708, 0.004676769463249854, 0.9680912788927198, 0.014030308389749563, 0.0037500401446396627, 0.990010598184871, 0.9608578576393382, 0.005066034398801432, 0.0016886781329338105, 0.011820746930536674, 0.016886781329338105, 0.0016886781329338105, 0.0016886781329338105, 0.005088223180458745, 0.9922035201894553, 0.02267408787298588, 0.027856736529668368, 0.06089612171601922, 0.7391752646593397, 0.027856736529668368, 0.026561074365497744, 0.04729166899222769, 0.006478310820853109, 0.0356307095146921, 0.005830479738767797, 0.001728787431958349, 0.003457574863916698, 0.9923239859440922, 0.001728787431958349, 0.024705573784272187, 0.1879270645856971, 0.2719260154522225, 0.2844435061695871, 0.0055999300577683625, 0.015482159571477236, 0.10936333995171155, 0.08712832354586658, 0.0072469683100531744, 0.006094041533453806, 0.9852112904095243, 0.9892217139044533, 0.9821741512791613, 0.9733982618151392, 0.05156743247890246, 0.0023439742035864758, 0.0011719871017932379, 0.0035159613053797134, 0.9270417975184512, 0.012891858119725616, 0.0011719871017932379, 0.9406094076916414, 0.9756515238315197, 0.0038510464156966437, 0.09531339878849193, 0.789464515217812, 0.0009627616039241609, 0.04621255698835973, 0.0038510464156966437, 0.0038510464156966437, 0.05487741142367718, 0.1202536923775776, 0.13053666844786926, 0.25079036082544687, 0.12996539199951973, 0.03913243671194331, 0.0574132830591285, 0.13539251825884036, 0.02570744017572918, 0.05569945371407989, 0.05484253904155558, 0.038395759721101284, 0.011685666002074303, 0.08179966201452013, 0.025040712861587794, 0.01836318943183105, 0.01335504685951349, 0.025040712861587794, 0.7412051007029987, 0.043403902293418846, 0.9902270168537315, 0.9555465024899267, 0.9862081871890981, 0.9907799631062735, 0.0032807283546565347, 0.21384682037694738, 0.010408473558170005, 0.01135469842709455, 0.0018924497378490918, 0.7087224268244848, 0.013247148164943642, 0.0037848994756981835, 0.02744052119881183, 0.006623574082471821, 0.0028386746067736376, 0.017614073990000232, 0.18028522789764945, 0.0015541829991176676, 0.04610742897382414, 0.0005180609997058892, 0.024348866986176793, 0.7159603015935389, 0.0010361219994117785, 0.004662548997353003, 0.008288975995294228, 0.333708058853342, 0.5731398499588789, 0.003990529851758948, 0.0014964486944096054, 0.0014964486944096054, 0.06783900747990211, 0.010973957092337106, 0.007482243472048027, 0.02840295640715826, 0.00473382606785971, 0.01420147820357913, 0.946765213571942, 0.12617789923111541, 0.037741859729225544, 0.007205264130124877, 0.035168551111323804, 0.005232394189733542, 0.03379611984844288, 0.7159802344541946, 0.024103324054346315, 0.0069479332683347024, 0.007719925853705225, 0.07294697677485207, 0.028983397022151046, 0.05177932726429232, 0.04884842194744558, 0.16445635388973345, 0.05503588872745536, 0.03679914453374234, 0.361152666264781, 0.12212105486861395, 0.05796679404430209, 0.00906480722714108, 0.00906480722714108, 0.9608695660769544, 0.00906480722714108, 0.0345019826288589, 0.015600896493049245, 0.002700155162258523, 0.00300017240250947, 0.5172297221926326, 0.11580665473686555, 0.015300879252798298, 0.294316912686179, 0.000900051720752841, 0.000900051720752841, 0.002010141582889436, 0.002010141582889436, 0.687468421348187, 0.07236509698401969, 0.0904563712300246, 0.13668962763648163, 0.006030424748668307, 0.005912494902534954, 0.025620811244318132, 0.0019708316341783176, 0.01773748470760486, 0.9381158578688793, 0.009854158170891589, 0.989446271586745, 0.981838542015363, 0.024645987757767388, 0.7265208565115777, 0.0029765685697786697, 0.11763398987765303, 0.004762509711645871, 0.08632048852358143, 0.021669419187988717, 0.0071437645674688076, 0.005119697940019312, 0.0032146940553609634, 0.9684714106792424, 0.012416300136913362, 0.003638295062319185, 0.9896162569508183, 0.15581444900330718, 0.04899547829849036, 0.03420855466786489, 0.31449800259166105, 0.13573071690798005, 0.09092854531071183, 0.09953585906585204, 0.015669725041409076, 0.04767127618231494, 0.05671999064284695, 0.010659737470080161, 0.9806958472473748, 0.9903495974351101, 0.008687277170483421, 0.9575764257912451, 0.9965012240883451, 0.05583245913492428, 0.06950953805052654, 0.022857583941143497, 0.09405333720044291, 0.2548058537701242, 0.3149475295496903, 0.12234428125874347, 0.04046916501054914, 0.012178220952248584, 0.013115007179344629, 0.06717851724691515, 0.2059304080092352, 0.0339031769283497, 0.07659606639367895, 0.0257413010011544, 0.11677760941987118, 0.43069591431199805, 0.01695158846417485, 0.010673222366332313, 0.01506807863482209, 0.9943060335020625, 0.9828108448052664, 0.0031136975314834, 0.0031136975314834, 0.0186821851889004, 0.9745873273543042, 0.018644842624307184, 0.02330605328038398, 0.013983631968230386, 0.9322421312153591, 0.004661210656076796, 0.9760135805943304, 0.00220625637712592, 0.00661876913137776, 0.01323753826275552, 0.9729590623125308, 0.00441251275425184, 0.9780462877636928, 0.018367066436876862, 0.09404364803725866, 0.8287596483283419, 0.06465500802561533, 0.005877728002328666, 0.9888866453142754, 0.08996302398335304, 0.14250779905327604, 0.09832242001720443, 0.04617571142508386, 0.14230876581437482, 0.08001136203829186, 0.08140459471060042, 0.16460048857131188, 0.09573498791148852, 0.05871480547586094, 0.9832733320071, 0.9578991972275046, 0.007724993526028263, 0.02317498057808479, 0.007724993526028263, 0.001889359184303649, 0.00850211632936642, 0.7255139267726012, 0.21538694701061598, 0.0028340387764554734, 0.0009446795921518245, 0.0028340387764554734, 0.033063785725313856, 0.007557436737214596, 0.001889359184303649, 0.007212042143244798, 0.9880497736245374, 0.9622295515203662, 0.014150434581181856, 0.014150434581181856, 0.14870801323710514, 0.3270869839847016, 0.03179031161838353, 0.28434667614220815, 0.006004836639027999, 0.09183867800866351, 0.09289835506260963, 0.004591933900433175, 0.008830642116217645, 0.003885482531135764, 0.9505434694103593, 0.9521055613696459, 0.9569117267028677, 0.021264705037841506, 0.01417647002522767, 0.99504471528088, 0.01373840158296789, 0.9754265123907202, 0.0929195965495503, 0.02591027211477845, 0.016975695523475536, 0.02680372977390874, 0.06522240911651127, 0.01250840722782408, 0.01876261084173612, 0.03663176402434195, 0.6495437181877218, 0.05539437486607807, 0.24131464501831426, 0.1468912929448216, 0.0994428482218328, 0.07822837393450846, 0.11383838434537431, 0.05824509681564492, 0.1132701394983924, 0.09679103893591726, 0.02386628357323987, 0.028033412451107152, 0.9893413214455925, 0.0047336905332325, 0.08254662991764522, 0.006878885826470436, 0.034394429132352175, 0.002292961942156812, 0.009171847768627247, 0.002292961942156812, 0.016050733595097684, 0.002292961942156812, 0.7704352125646887, 0.07566774409117479, 0.9910610016736129, 0.9830998951093067, 0.0013479556554087167, 0.23117439490259492, 0.7070027412618719, 0.02021933483113075, 0.0026959113108174335, 0.03639480269603535, 0.0006739778277043584, 0.04214029096554769, 0.003241560843503668, 0.8217356738281799, 0.03241560843503668, 0.07131433855708069, 0.0048623412652555025, 0.001620780421751834, 0.022690925904525677, 0.025313080883784728, 0.9618970735838196, 0.023639090463538487, 0.3092781002312952, 0.013789469437064118, 0.003939848410589748, 0.005909772615884622, 0.5436990806613852, 0.05515787774825647, 0.033488711490012854, 0.009849621026474369, 0.047389393586001985, 0.4160788756850974, 0.013269030204080556, 0.011373454460640475, 0.009477878717200397, 0.40754878483961704, 0.08814427206996368, 0.004738939358600198, 0.0009477878717200396, 0.9919924019473395, 0.9838730249957779, 0.0022432930350309776, 0.0022432930350309776, 0.19516649404769504, 0.026919516420371728, 0.0022432930350309776, 0.015703051245216842, 0.031406102490433685, 0.7245836503150057, 0.05320472383064388, 0.047018128036382965, 0.12084483784789657, 0.074239149531131, 0.1645634481273404, 0.05774156074643522, 0.04371861027944381, 0.28458340653600217, 0.09692333411008769, 0.05650424158758304, 0.08354495280704581, 0.017405198501467878, 0.03132935730264218, 0.006962079400587151, 0.8458926471713388, 0.0034810397002935753, 0.006962079400587151, 0.008160033795375311, 0.9873640892404125, 0.03162953274735346, 0.9647007487942804, 0.009838741258877395, 0.009838741258877395, 0.895325454557843, 0.07870993007101916, 0.018695889857058758, 0.9223305662815653, 0.037391779714117515, 0.0062319632856862525, 0.018695889857058758, 0.015322623860298546, 0.18131771568019947, 0.007661311930149273, 0.08427443123164201, 0.03319901836398018, 0.13790361474268692, 0.007661311930149273, 0.015322623860298546, 0.5158616699633845, 0.9670682676434347, 0.006184753921672354, 0.04741644673282139, 0.05360120065449374, 0.004123169281114903, 0.006184753921672354, 0.8802966415180318, 0.03558414951187933, 0.03558414951187933, 0.053376224267819, 0.02372276634125289, 0.0059306915853132225, 0.017792074755939667, 0.04744553268250578, 0.7769205976760322, 0.0040538302358499685, 0.9850807473115424, 0.012161490707549906, 0.1342507201513546, 0.08075043316366394, 0.08675046534919935, 0.12550067321411548, 0.14200076172433784, 0.09450050692218258, 0.09025048412409499, 0.15875085157562416, 0.044750240050451535, 0.04225022663981178, 0.15288945368643778, 0.25800095309586374, 0.00716669314155177, 0.045389056563161216, 0.008361141998477066, 0.03344456799390826, 0.47539064505626744, 0.010750039712327656, 0.008361141998477066, 0.9939688786911435, 0.9815602862024032, 0.9773288392352107, 0.04440658018021067, 0.1102508197577644, 0.01378135246972055, 0.06431297819202923, 0.0030625227710490113, 0.03675027325258814, 0.6048482472821797, 0.026031443553916594, 0.030625227710490113, 0.06737550096307825, 0.9710072993502159, 0.22013933034675323, 0.16961247039515204, 0.08433665471475445, 0.06574126759502016, 0.09354043217805727, 0.0646142744362484, 0.12246658991986614, 0.04789720924780041, 0.07494504505832299, 0.05653749013171734, 0.04744664605290867, 0.11830691117631276, 0.18284921559815456, 0.18173428135670242, 0.16947000470072862, 0.056613883149293116, 0.0407570406041957, 0.08882309456902224, 0.06813487031096546, 0.04583618548192222, 0.006814531253832157, 0.004088718752299294, 0.9867441255548963, 0.006521418146471545, 0.9782127219707318, 0.0036696425146726976, 0.9908034789616283, 0.9879009185852613, 0.9858917642128109, 0.9634961869193273, 0.02782660467637046, 0.0034783255845463076, 0.0034783255845463076, 0.0025802083739717573, 0.007740625121915271, 0.023221875365745815, 0.9520968899955784, 0.0051604167479435145, 0.007740625121915271, 0.11368171889735378, 0.058714733935995904, 0.0474714870120818, 0.05455056840862031, 0.08369972710024949, 0.08786389262762508, 0.04289090493196864, 0.4022583899444826, 0.08536539331119972, 0.02331932695330334, 0.00428249654538702, 0.012847489636161058, 0.029977475817709136, 0.00428249654538702, 0.012847489636161058, 0.9378667434397573, 0.009177495924989364, 0.0201904910349766, 0.0018354991849978727, 0.00244733224666383, 0.15051093316982556, 0.05139397717994043, 0.007953829801657448, 0.7476600013558001, 0.007341996739991491, 0.0018354991849978727, 0.038796610667870615, 0.01191391981139334, 0.10600333780906382, 0.01894007764888172, 0.3277855373750014, 0.1344134542823864, 0.0198565330189889, 0.2123121607414967, 0.08492486429659868, 0.04490631313525182, 0.0014336643693858952, 0.0014336643693858952, 0.04300993108157686, 0.8415609848295205, 0.012902979324473058, 0.0014336643693858952, 0.031540616126489694, 0.06594856099175118, 0.9627249820922954, 0.9764051163024512, 0.023848327854171618, 0.2555745801705392, 0.03418260325764599, 0.07313487208612629, 0.3875353276302888, 0.0771095933951549, 0.01391152458160011, 0.04213204587570319, 0.029412937686811663, 0.062005652420846206, 0.14034927404227912, 0.16542193696153637, 0.13083895362462983, 0.0998583643853177, 0.1056221949414688, 0.07348883959092645, 0.07175969042408112, 0.09034804396766839, 0.08213458542515308, 0.040058622365250096, 0.021761371075278424, 0.00596201947267902, 0.8779073673519857, 0.000298100973633951, 0.039647429493315484, 0.002086706815437657, 0.02116516912801052, 0.011327836998090137, 0.001490504868169755, 0.018780361338938914, 0.8880235946241128, 0.00048393656382785444, 0.06968686519121103, 0.003387555946794981, 0.00016131218794261814, 0.00016131218794261814, 0.03726311541474479, 0.00048393656382785444, 0.00048393656382785444, 0.12114996262052193, 0.12625357187835737, 0.10644670737771034, 0.14569589286058757, 0.12904840551955293, 0.18275781723296386, 0.05796241942827378, 0.04556793980210203, 0.067440550907111, 0.017619603390146118, 0.019381055939462537, 0.06460351979820846, 0.038762111878925073, 0.023257267127355045, 0.009044492771749185, 0.0335938302950684, 0.012920703959641693, 0.03747004148296091, 0.7597373928269315, 0.9865426709765537, 0.0649038181237913, 0.037762221453842205, 0.4342655467191854, 0.003540208261297707, 0.001180069420432569, 0.002360138840865138, 0.02360138840865138, 0.012980763624758258, 0.012980763624758258, 0.4059438806288037, 0.23398660739800406, 0.3837413041021037, 0.011682990523014867, 0.10310443384646686, 0.032843092239524314, 0.16160108569596787, 0.021977094060776216, 0.005473848706587385, 0.032597994536244276, 0.012908479039415027, 0.989430263303609, 0.0015380584336365276, 0.012304467469092221, 0.01999475963727486, 0.0722887463809168, 0.06152233734546111, 0.0015380584336365276, 0.8074806776591771, 0.016918642770001803, 0.0030761168672730553, 0.019190177691769922, 0.02193163164773705, 0.13433124384238945, 0.04934617120740837, 0.0027414539559671314, 0.6552074954761444, 0.104175250326751, 0.013707269779835659, 0.2556993091876747, 0.10651542477732613, 0.28590982440229645, 0.01650677635438095, 0.09468037757984545, 0.026161683278641507, 0.03768528186566217, 0.09966355534720574, 0.025227337447261453, 0.05170046933636298, 0.9855742074680909, 0.10839455075073137, 0.41610564855355386, 0.052417663348114873, 0.12457284190755695, 0.0252381342046479, 0.04788774182420371, 0.167607096384713, 0.018119686095644648, 0.0074420139321397655, 0.03268014813678767, 0.013709906443465193, 0.9734033574860287, 0.006854953221732596, 0.055073285342033526, 0.9142165366777565, 0.0036715523561355683, 0.011014657068406705, 0.014686209424542273], \"Term\": [\"$\", \"$\", \"$\", \"$\", \"$\", \"$\", \"$\", \"$\", \"$\", \"$\", \"-i\", \"100k\", \"100k\", \"10f\", \"11th\", \"25k\", \"3,000\", \"35k\", \"38f\", \"39f\", \"40k\", \"44f\", \"48f\", \"5'2\", \"6f\", \"7f\", \"80k\", \"8f\", \"=_iossmf\", \"abortion\", \"abortion\", \"abortion\", \"accessible\", \"account\", \"account\", \"account\", \"account\", \"account\", \"account\", \"account\", \"account\", \"account\", \"account\", \"adam\", \"adamantly\", \"adopt\", \"adopt\", \"adopt\", \"adopt\", \"adopt\", \"adopt\", \"adopt\", \"adopt\", \"adopt\", \"adoption\", \"adoption\", \"adoption\", \"adoption\", \"adoptive\", \"afford\", \"afford\", \"afford\", \"afford\", \"afford\", \"afford\", \"afford\", \"afford\", \"afford\", \"afford\", \"afloat\", \"age\", \"age\", \"age\", \"age\", \"age\", \"age\", \"age\", \"age\", \"age\", \"age\", \"ago\", \"ago\", \"ago\", \"ago\", \"ago\", \"ago\", \"ago\", \"ago\", \"ago\", \"ago\", \"airline\", \"airport\", \"airport\", \"airport\", \"airport\", \"airport\", \"airport\", \"airport\", \"alan\", \"alarm\", \"alarm\", \"alarm\", \"alex\", \"alex\", \"alex\", \"alice\", \"align\", \"alley\", \"alley\", \"amber\", \"amy\", \"amy\", \"amy\", \"ancestry\", \"andy\", \"animal\", \"animal\", \"animal\", \"animal\", \"animal\", \"animal\", \"animal\", \"animal\", \"animal\", \"animal\", \"ann\", \"ann\", \"anna\", \"anna\", \"anne\", \"annie\", \"anniversary\", \"anniversary\", \"anniversary\", \"anniversary\", \"anniversary\", \"anniversary\", \"anonymously\", \"apartment\", \"apartment\", \"apartment\", \"apartment\", \"apartment\", \"apartment\", \"apartment\", \"apartment\", \"apartment\", \"apartment\", \"appointment\", \"appointment\", \"appointment\", \"appointment\", \"appointment\", \"appointment\", \"appointment\", \"appointment\", \"art\", \"art\", \"art\", \"art\", \"art\", \"art\", \"art\", \"art\", \"art\", \"art\", \"asian\", \"asian\", \"asian\", \"asian\", \"asian\", \"asian\", \"asian\", \"asian\", \"asl\", \"atheist\", \"atheist\", \"atheist\", \"atheist\", \"attend\", \"attend\", \"attend\", \"attend\", \"attend\", \"attend\", \"attend\", \"attend\", \"attend\", \"attend\", \"autistic\", \"autistic\", \"autistic\", \"autistic\", \"autistic\", \"autistic\", \"autistic\", \"autistic\", \"autistic\", \"autistic\", \"ava\", \"away\", \"away\", \"away\", \"away\", \"away\", \"away\", \"away\", \"away\", \"away\", \"away\", \"baby\", \"baby\", \"baby\", \"baby\", \"baby\", \"baby\", \"baby\", \"baby\", \"baby\", \"baby\", \"bachelorette_party\", \"bachelorette_party\", \"backpack\", \"backpack\", \"backpack\", \"bacon\", \"bad\", \"bad\", \"bad\", \"bad\", \"bad\", \"bad\", \"bad\", \"bad\", \"bad\", \"bad\", \"bagel\", \"balcony\", \"bald\", \"bank\", \"bank\", \"bank\", \"bank\", \"bank\", \"bank_account\", \"barge\", \"barge\", \"bark\", \"bark\", \"bathroom\", \"bathroom\", \"bathroom\", \"bathroom\", \"bathroom\", \"bathroom\", \"bathroom\", \"bathroom\", \"bathroom\", \"bathroom\", \"bathtub\", \"bear\", \"bear\", \"bear\", \"bear\", \"bear\", \"bear\", \"bear\", \"bear\", \"bear\", \"bear\", \"bed\", \"bed\", \"bed\", \"bed\", \"bed\", \"bed\", \"bed\", \"bed\", \"bed\", \"bed\", \"bedroom\", \"bedroom\", \"bedroom\", \"bedroom\", \"bedroom\", \"bedroom\", \"bedroom\", \"bedroom\", \"bedroom\", \"bedroom\", \"bedtime\", \"bedtime\", \"bedtime\", \"bedtime\", \"bee\", \"bella\", \"ben\", \"ben\", \"ben\", \"ben\", \"ben\", \"bestie\", \"beth\", \"betty\", \"bf\", \"bf\", \"bf\", \"bf\", \"bf\", \"bf\", \"bf\", \"bf\", \"bf\", \"bf\", \"bicker\", \"big\", \"big\", \"big\", \"big\", \"big\", \"big\", \"big\", \"big\", \"big\", \"big\", \"bil\", \"bil\", \"bil\", \"bil\", \"bil\", \"bil\", \"bil\", \"bill\", \"bill\", \"bill\", \"bill\", \"bill\", \"bill\", \"bill\", \"bill\", \"bill\", \"bill\", \"billy\", \"bio\", \"bio\", \"bio\", \"bio\", \"bio\", \"bio\", \"bio\", \"biological\", \"biological\", \"biological\", \"biological\", \"biological\", \"biological\", \"biological\", \"birth\", \"birth\", \"birth\", \"birth\", \"birth\", \"birth\", \"birth\", \"birth\", \"birthday\", \"birthday\", \"birthday\", \"birthday\", \"birthday\", \"birthday\", \"birthday\", \"birthday\", \"birthday\", \"birthday\", \"bisexual\", \"bisexual\", \"bisexual\", \"bisexual\", \"bisexual\", \"bladder\", \"bmw\", \"book\", \"book\", \"book\", \"book\", \"book\", \"book\", \"book\", \"book\", \"book\", \"book\", \"boss\", \"boss\", \"boss\", \"boss\", \"boss\", \"boss\", \"boss\", \"boss\", \"boss\", \"boss\", \"boy\", \"boy\", \"boy\", \"boy\", \"boy\", \"boy\", \"boy\", \"boy\", \"boy\", \"boy\", \"boyfriend\", \"boyfriend\", \"boyfriend\", \"boyfriend\", \"boyfriend\", \"boyfriend\", \"boyfriend\", \"boyfriend\", \"boyfriend\", \"boyfriend\", \"brace\", \"brad\", \"bread\", \"bride\", \"bride\", \"bride\", \"bride_groom\", \"bride_groom\", \"bring\", \"bring\", \"bring\", \"bring\", \"bring\", \"bring\", \"bring\", \"bring\", \"bring\", \"bring\", \"brother\", \"brother\", \"brother\", \"brother\", \"brother\", \"brother\", \"brother\", \"brother\", \"brother\", \"brother\", \"buckle\", \"buckle\", \"burger\", \"burger\", \"bus\", \"bus\", \"bus\", \"bus\", \"bus\", \"bus\", \"bus\", \"buy\", \"buy\", \"buy\", \"buy\", \"buy\", \"buy\", \"buy\", \"buy\", \"buy\", \"buy\", \"cake\", \"cake\", \"cake\", \"cake\", \"cake\", \"cake\", \"camera\", \"camera\", \"camera\", \"camera\", \"camera\", \"camera\", \"camera\", \"camera\", \"candy\", \"candy\", \"car\", \"car\", \"car\", \"car\", \"car\", \"car\", \"car\", \"car\", \"car\", \"car\", \"card\", \"card\", \"card\", \"card\", \"card\", \"card\", \"card\", \"card\", \"card\", \"card\", \"care\", \"care\", \"care\", \"care\", \"care\", \"care\", \"care\", \"care\", \"care\", \"care\", \"carrier\", \"castle\", \"cat\", \"cat\", \"cat\", \"cat\", \"cat\", \"cat\", \"celebrate\", \"celebrate\", \"celebrate\", \"celebrate\", \"celebrate\", \"celebrate\", \"celebrate\", \"celebrate\", \"celebrate\", \"ceremony\", \"ceremony\", \"ceremony\", \"ceremony\", \"ceremony\", \"charger\", \"charlotte\", \"checkup\", \"chicken\", \"chicken\", \"chicken\", \"child\", \"child\", \"child\", \"child\", \"child\", \"child\", \"child\", \"child\", \"child\", \"child\", \"chloe\", \"chris\", \"christian\", \"christian\", \"christian\", \"christian\", \"christian\", \"christian\", \"christian\", \"christian\", \"christmas\", \"christmas\", \"christmas\", \"christmas\", \"christmas\", \"christmas\", \"christmas\", \"christmas\", \"christmas\", \"christmas\", \"christmas_eve\", \"christmas_eve\", \"christmas_eve\", \"chunky\", \"church\", \"church\", \"church\", \"church\", \"church\", \"church\", \"church\", \"church\", \"circus\", \"circus\", \"class\", \"class\", \"class\", \"class\", \"class\", \"class\", \"class\", \"class\", \"class\", \"class\", \"classy\", \"clean\", \"clean\", \"clean\", \"clean\", \"clean\", \"clean\", \"clean\", \"clean\", \"clean\", \"clean\", \"client\", \"client\", \"client\", \"client\", \"climbing\", \"close\", \"close\", \"close\", \"close\", \"close\", \"close\", \"close\", \"close\", \"close\", \"close\", \"clothe\", \"clothe\", \"clothe\", \"clothe\", \"clothe\", \"clothe\", \"clothe\", \"clothe\", \"clothe\", \"clothe\", \"cm\", \"college\", \"college\", \"college\", \"college\", \"college\", \"college\", \"college\", \"college\", \"college\", \"college\", \"color\", \"color\", \"color\", \"color\", \"color\", \"color\", \"color\", \"color\", \"color\", \"colour\", \"colour\", \"colour\", \"comment\", \"comment\", \"comment\", \"comment\", \"comment\", \"comment\", \"comment\", \"comment\", \"comment\", \"comment\", \"company\", \"company\", \"company\", \"company\", \"company\", \"company\", \"company\", \"company\", \"company\", \"company\", \"computer_science\", \"computer_science\", \"conceive\", \"conceive\", \"conceive\", \"contribution\", \"cook\", \"cook\", \"cook\", \"cook\", \"cook\", \"cook\", \"cook\", \"cook\", \"cook\", \"cook\", \"cooking\", \"cooking\", \"cooking\", \"cooking\", \"cooking\", \"cooking\", \"cooking\", \"cooking\", \"cooking_cleaning\", \"cost\", \"cost\", \"cost\", \"cost\", \"cost\", \"cost\", \"cost\", \"cost\", \"cost\", \"cost\", \"costume\", \"costume\", \"costume\", \"cottage\", \"cottage\", \"cottage\", \"cottage\", \"couch\", \"couch\", \"couch\", \"couch\", \"couch\", \"couch\", \"couch\", \"couch\", \"cousin\", \"cousin\", \"cousin\", \"cousin\", \"cousin\", \"cousin\", \"cousin\", \"cousin\", \"cousin\", \"cousin\", \"covid_restriction\", \"coworker\", \"coworker\", \"coworker\", \"coworker\", \"coworker\", \"coworker\", \"coworker\", \"coworker\", \"coworker\", \"coworker\", \"credit_card\", \"credit_card\", \"credit_card\", \"credit_card\", \"cult\", \"curly\", \"custody\", \"custody\", \"custody\", \"custody\", \"custody\", \"dad\", \"dad\", \"dad\", \"dad\", \"dad\", \"dad\", \"dad\", \"dad\", \"dad\", \"dad\", \"dairy\", \"dairy\", \"daisy\", \"daisy\", \"damper\", \"dan\", \"dance\", \"dance\", \"dance\", \"dance\", \"dance\", \"dance\", \"dance\", \"dance\", \"dance\", \"dancing\", \"date\", \"date\", \"date\", \"date\", \"date\", \"date\", \"date\", \"date\", \"date\", \"date\", \"datum\", \"daughter\", \"daughter\", \"daughter\", \"daughter\", \"daughter\", \"daughter\", \"daughter\", \"daughter\", \"daughter\", \"daughter\", \"dave\", \"dave\", \"debt\", \"debt\", \"debt\", \"debt\", \"debt\", \"decor\", \"degree\", \"degree\", \"degree\", \"degree\", \"degree\", \"degree\", \"degree\", \"degree\", \"degree\", \"department\", \"department\", \"department\", \"department\", \"department\", \"department\", \"department\", \"design\", \"design\", \"design\", \"design\", \"design\", \"design\", \"design\", \"design\", \"dessert\", \"dessert\", \"dessert\", \"dessert\", \"dh\", \"diamond\", \"diamond\", \"diaper\", \"diaper\", \"diaper\", \"diaper\", \"diaper\", \"diaper\", \"diaper\", \"diaper\", \"die\", \"die\", \"die\", \"die\", \"die\", \"die\", \"die\", \"die\", \"die\", \"die\", \"diet\", \"diet\", \"diet\", \"dinner\", \"dinner\", \"dinner\", \"dinner\", \"dinner\", \"dinner\", \"dinner\", \"dinner\", \"dinner\", \"dinner\", \"dish\", \"dish\", \"dish\", \"dish\", \"dish\", \"dish\", \"dish\", \"dish\", \"dish\", \"dna\", \"dna_test\", \"dnd\", \"doctor\", \"doctor\", \"doctor\", \"doctor\", \"doctor\", \"doctor\", \"doctor\", \"doctor\", \"doctor\", \"doctor\", \"dog\", \"dog\", \"dog\", \"dog\", \"dog\", \"dog\", \"dog\", \"dog\", \"dog\", \"doll\", \"doll\", \"doll\", \"doll\", \"door\", \"door\", \"door\", \"door\", \"door\", \"door\", \"door\", \"door\", \"door\", \"door\", \"downsize\", \"dress\", \"dress\", \"dress\", \"dress\", \"dress\", \"dress\", \"dress\", \"dress\", \"dress_code\", \"drink\", \"drink\", \"drink\", \"drink\", \"drink\", \"drink\", \"drink\", \"drink\", \"drink\", \"drink\", \"drive\", \"drive\", \"drive\", \"drive\", \"drive\", \"drive\", \"drive\", \"drive\", \"drive\", \"drive\", \"driveway\", \"driveway\", \"driveway\", \"driveway\", \"drug\", \"drug\", \"drug\", \"drug\", \"drug\", \"drug\", \"drug\", \"drug\", \"drug\", \"dryer\", \"dye\", \"dysfunctional\", \"ear_pierce\", \"early\", \"early\", \"early\", \"early\", \"early\", \"early\", \"early\", \"early\", \"early\", \"early\", \"earn\", \"earn\", \"earn\", \"earn\", \"earn\", \"earn\", \"earn\", \"earn\", \"earring\", \"eat\", \"eat\", \"eat\", \"eat\", \"eat\", \"eat\", \"eat\", \"eat\", \"eat\", \"eat\", \"ella\", \"ellie\", \"elope\", \"email\", \"email\", \"email\", \"email\", \"email\", \"email\", \"email\", \"email\", \"email\", \"email\", \"emily\", \"emily\", \"emily\", \"emily\", \"emma\", \"emma\", \"emma\", \"emma\", \"employee\", \"employee\", \"employee\", \"enclosure\", \"end\", \"end\", \"end\", \"end\", \"end\", \"end\", \"end\", \"end\", \"end\", \"end\", \"endanger\", \"engage\", \"engage\", \"engage\", \"engage\", \"engage\", \"engage\", \"engage\", \"engage\", \"engage\", \"engage\", \"engagement\", \"engagement\", \"engagement\", \"engagement\", \"engagement\", \"engagement\", \"engagement_ring\", \"engagement_ring\", \"entirety\", \"eric\", \"ethic\", \"ex\", \"ex\", \"ex\", \"ex\", \"ex\", \"ex\", \"ex\", \"ex\", \"ex\", \"ex\", \"expense\", \"expense\", \"expense\", \"expense\", \"expense\", \"expense\", \"expense\", \"expensive\", \"expensive\", \"expensive\", \"expensive\", \"expensive\", \"expensive\", \"expensive\", \"expensive\", \"expensive\", \"expensive\", \"f16\", \"f19\", \"f25\", \"f28\", \"faint\", \"family\", \"family\", \"family\", \"family\", \"family\", \"family\", \"family\", \"family\", \"family\", \"family\", \"father\", \"father\", \"father\", \"father\", \"father\", \"father\", \"father\", \"father\", \"father\", \"father\", \"fee\", \"fee\", \"fee\", \"fee\", \"ff\", \"fiance\", \"fiance\", \"fiance\", \"fiance\", \"fiance\", \"fiance\", \"fiance\", \"fiance\", \"fiancee\", \"fiancee\", \"fiancee\", \"fiancee\", \"fiancee\", \"fiancee\", \"fiancee\", \"fianc\\u00e9\", \"fianc\\u00e9\", \"fianc\\u00e9\", \"fianc\\u00e9\", \"fianc\\u00e9\", \"fianc\\u00e9\", \"fianc\\u00e9\", \"fianc\\u00e9\", \"fianc\\u00e9\", \"fianc\\u00e9e\", \"fianc\\u00e9e\", \"fianc\\u00e9e\", \"fianc\\u00e9e\", \"fianc\\u00e9e\", \"fianc\\u00e9e\", \"fiction\", \"fil\", \"fil\", \"fil\", \"fil\", \"fil\", \"fil\", \"finance\", \"finance\", \"finance\", \"finance\", \"finance\", \"finance\", \"financial\", \"financial\", \"financial\", \"financial\", \"financial\", \"financial\", \"financial\", \"financial\", \"financial\", \"financially\", \"financially\", \"financially\", \"financially\", \"financially\", \"financially\", \"financially\", \"financially\", \"financially\", \"find\", \"find\", \"find\", \"find\", \"find\", \"find\", \"find\", \"find\", \"find\", \"find\", \"fire\", \"fire\", \"fire\", \"fire\", \"fire\", \"fire\", \"fire\", \"fire\", \"fire\", \"fire\", \"flight\", \"flight\", \"flight\", \"flight\", \"flight\", \"flight\", \"flight\", \"flight\", \"flight_attendant\", \"flush\", \"food\", \"food\", \"food\", \"food\", \"food\", \"food\", \"food\", \"food\", \"food\", \"food\", \"fridge\", \"fridge\", \"fridge\", \"friend\", \"friend\", \"friend\", \"friend\", \"friend\", \"friend\", \"friend\", \"friend\", \"friend\", \"friend\", \"fry\", \"fund\", \"fund\", \"fund\", \"fund\", \"funeral\", \"funeral\", \"funeral\", \"funeral\", \"funny\", \"funny\", \"funny\", \"funny\", \"funny\", \"funny\", \"funny\", \"funny\", \"funny\", \"funny\", \"game\", \"game\", \"game\", \"game\", \"game\", \"game\", \"game\", \"game\", \"game\", \"game\", \"garage\", \"garage\", \"garage\", \"garage\", \"garage\", \"garage\", \"garlic\", \"gender_reveal\", \"gf\", \"gf\", \"gf\", \"gf\", \"gf\", \"gf\", \"gf\", \"gf\", \"gf\", \"gf\", \"gift\", \"gift\", \"gift\", \"gift\", \"gift\", \"gift\", \"gift\", \"gift\", \"gift\", \"girl\", \"girl\", \"girl\", \"girl\", \"girl\", \"girl\", \"girl\", \"girl\", \"girl\", \"girl\", \"girlfriend\", \"girlfriend\", \"girlfriend\", \"girlfriend\", \"girlfriend\", \"girlfriend\", \"girlfriend\", \"girlfriend\", \"girlfriend\", \"girlfriend\", \"glitter\", \"global\", \"golden_retriever\", \"good\", \"good\", \"good\", \"good\", \"good\", \"good\", \"good\", \"good\", \"good\", \"good\", \"gown\", \"gran\", \"grandma\", \"grandma\", \"grandma\", \"grandma\", \"grandma\", \"grandma\", \"grandma\", \"grandma\", \"grandma\", \"grandma\", \"grandmother\", \"grandmother\", \"grandmother\", \"grandmother\", \"grandmother\", \"grandmother\", \"grandmother\", \"grandmother\", \"grandpa\", \"grandpa\", \"grandpa\", \"grandpa\", \"grandpa\", \"grandpa\", \"grandparent\", \"grandparent\", \"grandparent\", \"grandparent\", \"grandparent\", \"grandparent\", \"grandparent\", \"greeting\", \"greeting\", \"greg\", \"greg\", \"guitar\", \"guitar\", \"guitar\", \"guy\", \"guy\", \"guy\", \"guy\", \"guy\", \"guy\", \"guy\", \"guy\", \"guy\", \"guy\", \"hair\", \"hair\", \"hair\", \"hair\", \"hair\", \"hair\", \"hair\", \"hair\", \"haircut\", \"hairdresser\", \"half\", \"half\", \"half\", \"half\", \"half\", \"half\", \"half\", \"half\", \"half\", \"half\", \"halloween\", \"halloween\", \"halloween\", \"halloween\", \"hamster\", \"handed\", \"handmade\", \"handout\", \"hannah\", \"happen\", \"happen\", \"happen\", \"happen\", \"happen\", \"happen\", \"happen\", \"happen\", \"happen\", \"happen\", \"happy\", \"happy\", \"happy\", \"happy\", \"happy\", \"happy\", \"happy\", \"happy\", \"happy\", \"happy\", \"harry\", \"harry\", \"harry\", \"headphone\", \"headphone\", \"headphone\", \"hear\", \"hear\", \"hear\", \"hear\", \"hear\", \"hear\", \"hear\", \"hear\", \"hear\", \"hear\", \"help\", \"help\", \"help\", \"help\", \"help\", \"help\", \"help\", \"help\", \"help\", \"help\", \"hoa\", \"holiday\", \"holiday\", \"holiday\", \"holiday\", \"holiday\", \"holiday\", \"holiday\", \"holiday\", \"holiday\", \"holiday\", \"home\", \"home\", \"home\", \"home\", \"home\", \"home\", \"home\", \"home\", \"home\", \"home\", \"honeymoon\", \"honeymoon\", \"honeymoon\", \"honeymoon\", \"honeymoon\", \"hospital\", \"hospital\", \"hospital\", \"hospital\", \"hospital\", \"hospital\", \"hospital\", \"hospital\", \"hospital\", \"hospital\", \"hospitalize\", \"hospitalize\", \"hour\", \"hour\", \"hour\", \"hour\", \"hour\", \"hour\", \"hour\", \"hour\", \"hour\", \"hour\", \"house\", \"house\", \"house\", \"house\", \"house\", \"house\", \"house\", \"house\", \"house\", \"house\", \"hr\", \"hr\", \"hr\", \"hr\", \"hr\", \"hr\", \"hr\", \"hr\", \"hub\", \"hub\", \"hub\", \"hub\", \"hub\", \"hungry\", \"hungry\", \"hungry\", \"hungry\", \"hungry\", \"hungry\", \"hungry\", \"hungry\", \"hungry\", \"husband\", \"husband\", \"husband\", \"husband\", \"husband\", \"husband\", \"husband\", \"husband\", \"husband\", \"husband\", \"income\", \"income\", \"income\", \"income\", \"income\", \"income\", \"income\", \"infertile\", \"influencer\", \"ingredient\", \"ingredient\", \"ink\", \"insurance\", \"insurance\", \"insurance\", \"insurance\", \"insurance\", \"insurance\", \"insurance\", \"insurance\", \"interview\", \"interview\", \"interview\", \"interview\", \"interview\", \"interview\", \"investment\", \"invitation\", \"invitation\", \"invitation\", \"invitation\", \"invite\", \"invite\", \"invite\", \"invite\", \"invite\", \"invite\", \"invite\", \"invite\", \"invite\", \"invite\", \"isolated\", \"j\", \"j\", \"j\", \"j\", \"j\", \"j\", \"j\", \"jack\", \"jack\", \"jack\", \"jack\", \"jack\", \"jackie\", \"jackie\", \"jackie\", \"jade\", \"james\", \"james\", \"james\", \"james\", \"james\", \"james\", \"jan\", \"jan\", \"jane\", \"jane\", \"jane\", \"jane\", \"jason\", \"jay\", \"jean\", \"jean\", \"jeff\", \"jeff\", \"jen\", \"jennifer\", \"jerry\", \"jess\", \"jess\", \"jess\", \"jess\", \"jessica\", \"jessica\", \"jessica\", \"jewelry\", \"jewelry\", \"jewelry\", \"jewelry\", \"jewish\", \"jewish\", \"jewish\", \"jill\", \"jim\", \"job\", \"job\", \"job\", \"job\", \"job\", \"job\", \"job\", \"job\", \"job\", \"job\", \"joe\", \"joe\", \"joe\", \"joint_account\", \"joke\", \"joke\", \"joke\", \"joke\", \"joke\", \"joke\", \"joke\", \"joke\", \"joke\", \"joke\", \"josh\", \"josh\", \"juggle\", \"julie\", \"kat\", \"kate\", \"kate\", \"katie\", \"kayla\", \"kelly\", \"kelly\", \"kevin\", \"kid\", \"kid\", \"kid\", \"kid\", \"kid\", \"kid\", \"kid\", \"kid\", \"kid\", \"kid\", \"kim\", \"kim\", \"kitten\", \"korean\", \"kyle\", \"l\", \"l\", \"l\", \"l\", \"l\", \"l\", \"l\", \"lactose\", \"lamb\", \"landing\", \"laugh\", \"laugh\", \"laugh\", \"laugh\", \"laugh\", \"laugh\", \"laugh\", \"laugh\", \"laugh\", \"laugh\", \"laundry\", \"laundry\", \"laundry\", \"laundry\", \"laundry\", \"laundry\", \"laura\", \"lauren\", \"lax\", \"leah\", \"leah\", \"leash\", \"leash\", \"leo\", \"let\", \"let\", \"let\", \"let\", \"let\", \"let\", \"let\", \"let\", \"let\", \"let\", \"life\", \"life\", \"life\", \"life\", \"life\", \"life\", \"life\", \"life\", \"life\", \"life\", \"lily\", \"linkedin\", \"lisa\", \"little\", \"little\", \"little\", \"little\", \"little\", \"little\", \"little\", \"little\", \"little\", \"little\", \"live\", \"live\", \"live\", \"live\", \"live\", \"live\", \"live\", \"live\", \"live\", \"live\", \"living_room\", \"living_room\", \"living_room\", \"living_room\", \"living_room\", \"living_room\", \"living_room\", \"living_room\", \"living_room\", \"living_room\", \"liz\", \"lizard\", \"lizard\", \"loan\", \"loan\", \"look\", \"look\", \"look\", \"look\", \"look\", \"look\", \"look\", \"look\", \"look\", \"look\", \"lot\", \"lot\", \"lot\", \"lot\", \"lot\", \"lot\", \"lot\", \"lot\", \"lot\", \"lot\", \"loud\", \"loud\", \"loud\", \"loud\", \"loud\", \"loud\", \"loud\", \"loud\", \"loud\", \"loud\", \"love\", \"love\", \"love\", \"love\", \"love\", \"love\", \"love\", \"love\", \"love\", \"love\", \"lucy\", \"lucy\", \"luke\", \"lunch\", \"lunch\", \"lunch\", \"lunch\", \"lunch\", \"lunch\", \"lunch\", \"lunch\", \"lunch\", \"lunch\", \"m\", \"m\", \"m\", \"m\", \"m\", \"m\", \"m\", \"m\", \"m\", \"m\", \"macbook\", \"mad\", \"mad\", \"mad\", \"mad\", \"mad\", \"mad\", \"mad\", \"mad\", \"mad\", \"mad\", \"maiden\", \"makeup\", \"makeup\", \"makeup\", \"makeup\", \"makeup\", \"makeup\", \"makeup\", \"makeup\", \"man\", \"man\", \"man\", \"man\", \"man\", \"man\", \"man\", \"man\", \"man\", \"man\", \"manager\", \"manager\", \"manager\", \"manager\", \"manager\", \"manager\", \"manager\", \"manager\", \"maria\", \"marie\", \"marijuana\", \"mark\", \"mark\", \"mark\", \"mark\", \"mark\", \"mark\", \"mark\", \"mark\", \"mark\", \"mark\", \"marry\", \"marry\", \"marry\", \"marry\", \"marry\", \"marry\", \"marry\", \"marry\", \"marry\", \"marry\", \"mary\", \"mary\", \"mary\", \"mary\", \"mary\", \"mary\", \"mash_potato\", \"matt\", \"matt\", \"mattress\", \"maya\", \"maya\", \"meal\", \"meal\", \"meal\", \"meal\", \"meal\", \"meal\", \"meal\", \"meal\", \"meal\", \"meal\", \"mean\", \"mean\", \"mean\", \"mean\", \"mean\", \"mean\", \"mean\", \"mean\", \"mean\", \"mean\", \"meat\", \"meat\", \"meat\", \"meat\", \"meat\", \"meet\", \"meet\", \"meet\", \"meet\", \"meet\", \"meet\", \"meet\", \"meet\", \"meet\", \"meet\", \"melissa\", \"melissa\", \"mia\", \"michael\", \"michael\", \"migraine\", \"migraine\", \"migraine\", \"mil\", \"mil\", \"mil\", \"mil\", \"mil\", \"mil\", \"mil\", \"milk\", \"milk\", \"milk\", \"milk\", \"milk\", \"milk\", \"mini_fridge\", \"minute\", \"minute\", \"minute\", \"minute\", \"minute\", \"minute\", \"minute\", \"minute\", \"minute\", \"minute\", \"mission\", \"mission\", \"modern\", \"mold\", \"molly\", \"mom\", \"mom\", \"mom\", \"mom\", \"mom\", \"mom\", \"mom\", \"mom\", \"mom\", \"mom\", \"money\", \"money\", \"money\", \"money\", \"money\", \"money\", \"money\", \"money\", \"money\", \"money\", \"month\", \"month\", \"month\", \"month\", \"month\", \"month\", \"month\", \"month\", \"month\", \"month\", \"morning\", \"morning\", \"morning\", \"morning\", \"morning\", \"morning\", \"morning\", \"morning\", \"morning\", \"morning\", \"mortgage\", \"mortgage\", \"mother\", \"mother\", \"mother\", \"mother\", \"mother\", \"mother\", \"mother\", \"mother\", \"mother\", \"mother\", \"movie\", \"movie\", \"movie\", \"movie\", \"movie\", \"movie\", \"movie\", \"movie\", \"movie\", \"movie\", \"mum\", \"mum\", \"mum\", \"mum\", \"mum\", \"mum\", \"mum\", \"mum\", \"mum\", \"mum\", \"mummy\", \"mushroom\", \"naked\", \"naked\", \"naked\", \"nanny\", \"nanny\", \"nanny\", \"nanny\", \"nanny\", \"need\", \"need\", \"need\", \"need\", \"need\", \"need\", \"need\", \"need\", \"need\", \"need\", \"neighbor\", \"neighbor\", \"neighbor\", \"neighbor\", \"neighbor\", \"neighbor\", \"neighbor\", \"neighbor\", \"nephews\", \"nephews\", \"nephews\", \"new\", \"new\", \"new\", \"new\", \"new\", \"new\", \"new\", \"new\", \"new\", \"new\", \"nibling\", \"nickname\", \"nickname\", \"nickname\", \"nicole\", \"nicole\", \"niece\", \"niece\", \"niece\", \"niece\", \"niece\", \"niece\", \"niece\", \"niece\", \"niece\", \"night\", \"night\", \"night\", \"night\", \"night\", \"night\", \"night\", \"night\", \"night\", \"night\", \"noise\", \"noise\", \"noise\", \"noise\", \"noise\", \"noise\", \"noise\", \"noise\", \"nurse\", \"nurse\", \"nurse\", \"nurse\", \"nurse\", \"nurse\", \"office\", \"office\", \"office\", \"office\", \"office\", \"office\", \"office\", \"office\", \"office\", \"office\", \"old\", \"old\", \"old\", \"old\", \"old\", \"old\", \"old\", \"old\", \"old\", \"old\", \"olivia\", \"olivia\", \"open\", \"open\", \"open\", \"open\", \"open\", \"open\", \"open\", \"open\", \"open\", \"open\", \"order\", \"order\", \"order\", \"order\", \"order\", \"order\", \"order\", \"order\", \"order\", \"order\", \"organ\", \"organ\", \"ovary\", \"p.m.\", \"p.m.\", \"p.m.\", \"p.m.\", \"p.m.\", \"p.m.\", \"p.m.\", \"p.m.\", \"p.m.\", \"pad\", \"pad\", \"pad\", \"pad\", \"pagan\", \"pain\", \"pain\", \"pain\", \"pain\", \"pain\", \"pain\", \"pain\", \"pain\", \"pain\", \"painting\", \"painting\", \"painting\", \"pam\", \"parent\", \"parent\", \"parent\", \"parent\", \"parent\", \"parent\", \"parent\", \"parent\", \"parent\", \"parent\", \"parenting\", \"parenting\", \"parenting\", \"parenting\", \"parenting\", \"parking\", \"parking\", \"parking\", \"parking\", \"parking\", \"parking\", \"parking\", \"party\", \"party\", \"party\", \"party\", \"party\", \"party\", \"party\", \"party\", \"party\", \"party\", \"pass\", \"pass\", \"pass\", \"pass\", \"pass\", \"pass\", \"pass\", \"pass\", \"pass\", \"pass\", \"pastor\", \"pastor\", \"paternity_test\", \"paternity_test\", \"pay\", \"pay\", \"pay\", \"pay\", \"pay\", \"pay\", \"pay\", \"pay\", \"pay\", \"pay\", \"paycheck\", \"paycheck\", \"payment\", \"payment\", \"payment\", \"payment\", \"pearl\", \"people\", \"people\", \"people\", \"people\", \"people\", \"people\", \"people\", \"people\", \"people\", \"people\", \"pepper\", \"performer\", \"person\", \"person\", \"person\", \"person\", \"person\", \"person\", \"person\", \"person\", \"person\", \"person\", \"pet\", \"pet\", \"pet\", \"pet\", \"pet\", \"pet\", \"pet\", \"pet\", \"phone\", \"phone\", \"phone\", \"phone\", \"phone\", \"phone\", \"phone\", \"phone\", \"phone\", \"phone\", \"photograph\", \"photograph\", \"pierce\", \"piercing\", \"pixie\", \"pizza\", \"pizza\", \"pizza\", \"pizza\", \"pizza\", \"place\", \"place\", \"place\", \"place\", \"place\", \"place\", \"place\", \"place\", \"place\", \"place\", \"plan\", \"plan\", \"plan\", \"plan\", \"plan\", \"plan\", \"plan\", \"plan\", \"plan\", \"plan\", \"plane\", \"plane\", \"plane\", \"plane\", \"plane\", \"plant\", \"plant\", \"plant\", \"plant\", \"plant\", \"plant\", \"plate\", \"plate\", \"plate\", \"plate\", \"plate\", \"plate\", \"plate\", \"plate\", \"plate\", \"plate\", \"play\", \"play\", \"play\", \"play\", \"play\", \"play\", \"play\", \"play\", \"play\", \"play\", \"playground\", \"poc\", \"podcast\", \"point\", \"point\", \"point\", \"point\", \"point\", \"point\", \"point\", \"point\", \"point\", \"point\", \"police\", \"police\", \"police\", \"police\", \"police\", \"police\", \"police\", \"police\", \"police\", \"pool\", \"pool\", \"pool\", \"pool\", \"pool\", \"pool\", \"pool\", \"pool\", \"pool\", \"pork\", \"portfolio\", \"portfolio\", \"post\", \"post\", \"post\", \"post\", \"post\", \"post\", \"post\", \"post\", \"post\", \"post\", \"potato\", \"potty_train\", \"pout\", \"ppd\", \"prank\", \"prank\", \"prank\", \"prank\", \"prank\", \"prank\", \"prank\", \"prank\", \"pregnancy\", \"pregnancy\", \"pregnancy\", \"pregnancy\", \"pregnancy\", \"pregnancy\", \"pregnancy\", \"pregnancy\", \"pregnant\", \"pregnant\", \"pregnant\", \"pregnant\", \"pregnant\", \"pregnant\", \"pregnant\", \"pregnant\", \"pregnant\", \"pregnant\", \"premature\", \"present\", \"present\", \"present\", \"present\", \"present\", \"present\", \"present\", \"present\", \"present\", \"present\", \"presentation\", \"pretty\", \"pretty\", \"pretty\", \"pretty\", \"pretty\", \"pretty\", \"pretty\", \"pretty\", \"pretty\", \"pretty\", \"price\", \"price\", \"price\", \"price\", \"price\", \"price\", \"price\", \"price\", \"principal\", \"principal\", \"principal\", \"proceeding\", \"professor\", \"professor\", \"property\", \"property\", \"property\", \"property\", \"property\", \"property\", \"property\", \"property\", \"publish\", \"pumpkin\", \"pun\", \"pup\", \"pup\", \"purple\", \"q\", \"rachel\", \"raise\", \"raise\", \"raise\", \"raise\", \"raise\", \"raise\", \"raise\", \"raise\", \"raise\", \"raise\", \"rang\", \"read\", \"read\", \"read\", \"read\", \"read\", \"read\", \"read\", \"read\", \"read\", \"read\", \"reception\", \"reception\", \"reception\", \"reception\", \"recipe\", \"recipe\", \"recipe\", \"recipe\", \"recipe\", \"recipe\", \"redo\", \"refuse\", \"refuse\", \"refuse\", \"refuse\", \"refuse\", \"refuse\", \"refuse\", \"refuse\", \"refuse\", \"refuse\", \"registration\", \"rehab\", \"rehab\", \"rehome\", \"relationship\", \"relationship\", \"relationship\", \"relationship\", \"relationship\", \"relationship\", \"relationship\", \"relationship\", \"relationship\", \"relationship\", \"religious\", \"religious\", \"religious\", \"religious\", \"religious\", \"religious\", \"religious\", \"religious\", \"religious\", \"rent\", \"rent\", \"rent\", \"rent\", \"rent\", \"rent\", \"rent\", \"report\", \"report\", \"report\", \"report\", \"report\", \"report\", \"report\", \"report\", \"report\", \"reset\", \"reset\", \"residency\", \"restaurant\", \"restaurant\", \"restaurant\", \"restaurant\", \"restaurant\", \"restaurant\", \"restaurant\", \"restaurant\", \"restaurant\", \"restaurant\", \"retirement\", \"retirement\", \"retirement\", \"retirement\", \"rice\", \"rick\", \"ring\", \"ring\", \"ring\", \"ring\", \"ring\", \"ring\", \"ring\", \"ring\", \"roam\", \"room\", \"room\", \"room\", \"room\", \"room\", \"room\", \"room\", \"room\", \"room\", \"room\", \"roommate\", \"roommate\", \"roommate\", \"roommate\", \"roommate\", \"roommate\", \"roommate\", \"roommate\", \"rose\", \"ruby\", \"ryan\", \"salad\", \"salmon\", \"salon\", \"salsa\", \"samantha\", \"sandwich\", \"sandwich\", \"sandwich\", \"sandwich\", \"santa\", \"santa\", \"sarah\", \"sarah\", \"sarah\", \"sarah\", \"sarah\", \"sarah\", \"sarah\", \"sauce\", \"sauce\", \"save\", \"save\", \"save\", \"save\", \"save\", \"save\", \"save\", \"save\", \"save\", \"save\", \"saving\", \"saving\", \"saving\", \"saving\", \"school\", \"school\", \"school\", \"school\", \"school\", \"school\", \"school\", \"school\", \"school\", \"school\", \"scott\", \"sd\", \"seamstress\", \"sean\", \"seat\", \"seat\", \"seat\", \"seat\", \"seat\", \"seat\", \"seat\", \"seatbelt\", \"seizure\", \"sell\", \"sell\", \"sell\", \"sell\", \"sell\", \"sell\", \"sell\", \"sell\", \"send\", \"send\", \"send\", \"send\", \"send\", \"send\", \"send\", \"send\", \"send\", \"send\", \"serve\", \"serve\", \"serve\", \"serve\", \"serve\", \"serve\", \"serve\", \"serve\", \"serve\", \"settlement\", \"shadow\", \"shaky\", \"shave\", \"shave\", \"shower\", \"shower\", \"shower\", \"shower\", \"shower\", \"shower\", \"shower\", \"shower\", \"shower\", \"shower\", \"sibling\", \"sibling\", \"sibling\", \"sibling\", \"sibling\", \"sibling\", \"sibling\", \"sibling\", \"sibling\", \"sibling\", \"sil\", \"sil\", \"sil\", \"sil\", \"sil\", \"sil\", \"sil\", \"sil\", \"sis\", \"sis\", \"sis\", \"sis\", \"sister\", \"sister\", \"sister\", \"sister\", \"sister\", \"sister\", \"sister\", \"sister\", \"sister\", \"sister\", \"sit\", \"sit\", \"sit\", \"sit\", \"sit\", \"sit\", \"sit\", \"sit\", \"sit\", \"sit\", \"ski\", \"ski\", \"ski\", \"ski\", \"sleep\", \"sleep\", \"sleep\", \"sleep\", \"sleep\", \"sleep\", \"sleep\", \"sleep\", \"sleep\", \"sleep\", \"smell\", \"smell\", \"smell\", \"smell\", \"smell\", \"smell\", \"smell\", \"snack\", \"snack\", \"snack\", \"snack\", \"snack\", \"snack\", \"snake\", \"sofa\", \"son\", \"son\", \"son\", \"son\", \"son\", \"son\", \"son\", \"son\", \"son\", \"son\", \"sophie\", \"sophie\", \"soup\", \"soup\", \"spend\", \"spend\", \"spend\", \"spend\", \"spend\", \"spend\", \"spend\", \"spend\", \"spend\", \"spend\", \"sperm\", \"sperm\", \"spicy\", \"spicy\", \"spontaneous\", \"ss\", \"stay\", \"stay\", \"stay\", \"stay\", \"stay\", \"stay\", \"stay\", \"stay\", \"stay\", \"stay\", \"step\", \"step\", \"step\", \"step\", \"step\", \"step\", \"step\", \"step\", \"step\", \"step\", \"stepbrother\", \"stepchildren\", \"stepdad\", \"stepdad\", \"stepdad\", \"stepdad\", \"stepdaughter\", \"stepdaughter\", \"stepdaughter\", \"stepdaughter\", \"stepdaughter\", \"stepkid\", \"stepmom\", \"stepmom\", \"stepmom\", \"stepmom\", \"stepmom\", \"stepsister\", \"stepsister\", \"stepson\", \"stepson\", \"stepson\", \"stepson\", \"steve\", \"stop\", \"stop\", \"stop\", \"stop\", \"stop\", \"stop\", \"stop\", \"stop\", \"stop\", \"stop\", \"strawberry\", \"stripper\", \"stripper\", \"stripper\", \"stripper\", \"student\", \"student\", \"student\", \"student\", \"student\", \"student\", \"student\", \"student\", \"student\", \"student\", \"student_loan\", \"student_loan\", \"supervisor\", \"supervisor\", \"supervisor\", \"support\", \"support\", \"support\", \"support\", \"support\", \"support\", \"support\", \"support\", \"support\", \"support\", \"suppress\", \"surface\", \"surname\", \"surname\", \"surname\", \"susan\", \"swollen\", \"swollen\", \"table\", \"table\", \"table\", \"table\", \"table\", \"table\", \"table\", \"table\", \"table\", \"table\", \"talk\", \"talk\", \"talk\", \"talk\", \"talk\", \"talk\", \"talk\", \"talk\", \"talk\", \"talk\", \"tampon\", \"tampon\", \"taste\", \"taste\", \"taste\", \"taste\", \"taste\", \"taste\", \"taste\", \"taste\", \"taste\", \"taste\", \"taxis\", \"taylor\", \"teacher\", \"teacher\", \"teacher\", \"teacher\", \"teacher\", \"teacher\", \"teacher\", \"team\", \"team\", \"team\", \"team\", \"team\", \"team\", \"team\", \"team\", \"terminal\", \"terminal\", \"therapist\", \"therapist\", \"therapist\", \"therapist\", \"therapist\", \"therapist\", \"therapist\", \"therapist\", \"therapist\", \"therapy\", \"therapy\", \"therapy\", \"therapy\", \"therapy\", \"therapy\", \"therapy\", \"therapy\", \"therapy\", \"tim\", \"tina\", \"tip\", \"tip\", \"tip\", \"tip\", \"tip\", \"tip\", \"tip\", \"tip\", \"today\", \"today\", \"today\", \"today\", \"today\", \"today\", \"today\", \"today\", \"today\", \"today\", \"tom\", \"tom\", \"tom\", \"tom\", \"tom\", \"tom\", \"tom\", \"tomato\", \"tomato\", \"topless\", \"topless\", \"tow\", \"tow\", \"tow\", \"tow\", \"towel\", \"towel\", \"towel\", \"towel\", \"towel\", \"toy\", \"toy\", \"toy\", \"toy\", \"toy\", \"toy\", \"toy\", \"toy\", \"toy\", \"treasure\", \"tree\", \"tree\", \"tree\", \"tree\", \"tree\", \"tree\", \"trick\", \"trick\", \"trick\", \"trick\", \"trick\", \"trick\", \"trick\", \"trick\", \"tuition\", \"tuition\", \"tuition\", \"turn\", \"turn\", \"turn\", \"turn\", \"turn\", \"turn\", \"turn\", \"turn\", \"turn\", \"turn\", \"twin\", \"twin\", \"twin\", \"twin\", \"twin\", \"twin\", \"twin\", \"twin\", \"twin\", \"tyler\", \"unappreciated\", \"unbelievable\", \"uncle\", \"uncle\", \"uncle\", \"uncle\", \"uncle\", \"uncle\", \"uncle\", \"uncle\", \"uncle\", \"uncle\", \"unkind\", \"upset\", \"upset\", \"upset\", \"upset\", \"upset\", \"upset\", \"upset\", \"upset\", \"upset\", \"upset\", \"use\", \"use\", \"use\", \"use\", \"use\", \"use\", \"use\", \"use\", \"use\", \"use\", \"vegan\", \"vegan\", \"vegan\", \"vegetable\", \"vegetable\", \"vegetarian\", \"vegetarian\", \"veggie\", \"vendor\", \"venue\", \"venue\", \"venue\", \"venue\", \"vet\", \"vet\", \"vet\", \"vet\", \"vet\", \"vet\", \"wait\", \"wait\", \"wait\", \"wait\", \"wait\", \"wait\", \"wait\", \"wait\", \"wait\", \"wait\", \"waitress\", \"waitress\", \"waitress\", \"waitress\", \"waitress\", \"waitress\", \"wake\", \"wake\", \"wake\", \"wake\", \"wake\", \"wake\", \"wake\", \"wake\", \"wake\", \"wake\", \"walk\", \"walk\", \"walk\", \"walk\", \"walk\", \"walk\", \"walk\", \"walk\", \"walk\", \"walk\", \"wash\", \"wash\", \"wash\", \"wash\", \"wash\", \"wash\", \"wash\", \"wash\", \"washing\", \"washing_machine\", \"watch\", \"watch\", \"watch\", \"watch\", \"watch\", \"watch\", \"watch\", \"watch\", \"watch\", \"watch\", \"way\", \"way\", \"way\", \"way\", \"way\", \"way\", \"way\", \"way\", \"way\", \"way\", \"wear\", \"wear\", \"wear\", \"wear\", \"wear\", \"wear\", \"wear\", \"wear\", \"wear\", \"wear\", \"wedding\", \"wedding\", \"wedding\", \"wedding\", \"wedding\", \"wedding\", \"wedding\", \"wedding\", \"wedding\", \"week\", \"week\", \"week\", \"week\", \"week\", \"week\", \"week\", \"week\", \"week\", \"week\", \"weight\", \"weight\", \"weight\", \"weight\", \"weight\", \"weight\", \"weight\", \"weight\", \"weight\", \"whistle\", \"white\", \"white\", \"white\", \"white\", \"white\", \"white\", \"white\", \"white\", \"white\", \"white\", \"wife\", \"wife\", \"wife\", \"wife\", \"wife\", \"wife\", \"wife\", \"wife\", \"wife\", \"wife\", \"wig\", \"window\", \"window\", \"window\", \"window\", \"window\", \"window\", \"window\", \"window\", \"window\", \"wipe\", \"wipe\", \"wipe\", \"wipe\", \"wipe\", \"wipe\", \"wipe\", \"wipe\", \"woman\", \"woman\", \"woman\", \"woman\", \"woman\", \"woman\", \"woman\", \"woman\", \"woman\", \"woman\", \"wrestling\", \"young\", \"young\", \"young\", \"young\", \"young\", \"young\", \"young\", \"young\", \"young\", \"young\", \"youngest\", \"youngest\", \"youngest\", \"\\u00a3\", \"\\u00a3\", \"\\u00a3\", \"\\u00a3\", \"\\u00a3\"]}, \"R\": 30, \"lambda.step\": 0.01, \"plot.opts\": {\"xlab\": \"PC1\", \"ylab\": \"PC2\"}, \"topic.order\": [6, 4, 10, 3, 9, 7, 1, 8, 5, 2]};\n",
       "\n",
       "function LDAvis_load_lib(url, callback){\n",
       "  var s = document.createElement('script');\n",
       "  s.src = url;\n",
       "  s.async = true;\n",
       "  s.onreadystatechange = s.onload = callback;\n",
       "  s.onerror = function(){console.warn(\"failed to load library \" + url);};\n",
       "  document.getElementsByTagName(\"head\")[0].appendChild(s);\n",
       "}\n",
       "\n",
       "if(typeof(LDAvis) !== \"undefined\"){\n",
       "   // already loaded: just create the visualization\n",
       "   !function(LDAvis){\n",
       "       new LDAvis(\"#\" + \"ldavis_el439551403841213962404795196025\", ldavis_el439551403841213962404795196025_data);\n",
       "   }(LDAvis);\n",
       "}else if(typeof define === \"function\" && define.amd){\n",
       "   // require.js is available: use it to load d3/LDAvis\n",
       "   require.config({paths: {d3: \"https://d3js.org/d3.v5\"}});\n",
       "   require([\"d3\"], function(d3){\n",
       "      window.d3 = d3;\n",
       "      LDAvis_load_lib(\"https://cdn.jsdelivr.net/gh/bmabey/pyLDAvis@3.3.1/pyLDAvis/js/ldavis.v3.0.0.js\", function(){\n",
       "        new LDAvis(\"#\" + \"ldavis_el439551403841213962404795196025\", ldavis_el439551403841213962404795196025_data);\n",
       "      });\n",
       "    });\n",
       "}else{\n",
       "    // require.js not available: dynamically load d3 & LDAvis\n",
       "    LDAvis_load_lib(\"https://d3js.org/d3.v5.js\", function(){\n",
       "         LDAvis_load_lib(\"https://cdn.jsdelivr.net/gh/bmabey/pyLDAvis@3.3.1/pyLDAvis/js/ldavis.v3.0.0.js\", function(){\n",
       "                 new LDAvis(\"#\" + \"ldavis_el439551403841213962404795196025\", ldavis_el439551403841213962404795196025_data);\n",
       "            })\n",
       "         });\n",
       "}\n",
       "</script>"
      ],
      "text/plain": [
       "PreparedData(topic_coordinates=              x         y  topics  cluster       Freq\n",
       "topic                                                \n",
       "5      0.056078  0.052576       1        1  13.531840\n",
       "3      0.118204  0.000252       2        1  13.359438\n",
       "9     -0.028718  0.055901       3        1  12.807278\n",
       "2      0.069626 -0.047105       4        1  12.326405\n",
       "8     -0.087643 -0.055458       5        1  10.815561\n",
       "6      0.050899 -0.115018       6        1   9.487970\n",
       "0      0.126307  0.043200       7        1   8.812597\n",
       "7     -0.093568 -0.090108       8        1   6.989827\n",
       "4     -0.149984  0.016382       9        1   6.825854\n",
       "1     -0.061200  0.139379      10        1   5.043231, topic_info=        Term          Freq         Total Category  logprob  loglift\n",
       "79       mom  12283.000000  12283.000000  Default  30.0000  30.0000\n",
       "169      dad   8500.000000   8500.000000  Default  29.0000  29.0000\n",
       "1385  sister  11658.000000  11658.000000  Default  28.0000  28.0000\n",
       "303      eat   5169.000000   5169.000000  Default  27.0000  27.0000\n",
       "186      kid  15167.000000  15167.000000  Default  26.0000  26.0000\n",
       "...      ...           ...           ...      ...      ...      ...\n",
       "2137      bf    328.759808   2108.540848  Topic10  -5.7186   1.1287\n",
       "99     point    350.995623   4991.289291  Topic10  -5.6532   0.3324\n",
       "218      use    369.944241   8072.224949  Topic10  -5.6006  -0.0957\n",
       "86       old    362.146789   7587.591181  Topic10  -5.6219  -0.0551\n",
       "101     post    329.764832   3542.052061  Topic10  -5.7156   0.6130\n",
       "\n",
       "[847 rows x 6 columns], token_table=      Topic      Freq Term\n",
       "term                      \n",
       "1481      1  0.000323    $\n",
       "1481      2  0.000323    $\n",
       "1481      3  0.050394    $\n",
       "1481      4  0.879960    $\n",
       "1481      5  0.001292    $\n",
       "...     ...       ...  ...\n",
       "2355      3  0.055073    £\n",
       "2355      4  0.914217    £\n",
       "2355      7  0.003672    £\n",
       "2355      9  0.011015    £\n",
       "2355     10  0.014686    £\n",
       "\n",
       "[3292 rows x 3 columns], R=30, lambda_step=0.01, plot_opts={'xlab': 'PC1', 'ylab': 'PC2'}, topic_order=[6, 4, 10, 3, 9, 7, 1, 8, 5, 2])"
      ]
     },
     "execution_count": 20,
     "metadata": {},
     "output_type": "execute_result"
    },
    {
     "name": "stderr",
     "output_type": "stream",
     "text": [
      "/Users/tomvannuenen/opt/anaconda3/lib/python3.8/site-packages/past/builtins/misc.py:45: DeprecationWarning: the imp module is deprecated in favour of importlib; see the module's documentation for alternative uses\n",
      "  from imp import reload\n",
      "/Users/tomvannuenen/opt/anaconda3/lib/python3.8/site-packages/past/builtins/misc.py:45: DeprecationWarning: the imp module is deprecated in favour of importlib; see the module's documentation for alternative uses\n",
      "  from imp import reload\n",
      "/Users/tomvannuenen/opt/anaconda3/lib/python3.8/site-packages/past/builtins/misc.py:45: DeprecationWarning: the imp module is deprecated in favour of importlib; see the module's documentation for alternative uses\n",
      "  from imp import reload\n",
      "/Users/tomvannuenen/opt/anaconda3/lib/python3.8/site-packages/past/builtins/misc.py:45: DeprecationWarning: the imp module is deprecated in favour of importlib; see the module's documentation for alternative uses\n",
      "  from imp import reload\n",
      "/Users/tomvannuenen/opt/anaconda3/lib/python3.8/site-packages/past/builtins/misc.py:45: DeprecationWarning: the imp module is deprecated in favour of importlib; see the module's documentation for alternative uses\n",
      "  from imp import reload\n",
      "/Users/tomvannuenen/opt/anaconda3/lib/python3.8/site-packages/past/builtins/misc.py:45: DeprecationWarning: the imp module is deprecated in favour of importlib; see the module's documentation for alternative uses\n",
      "  from imp import reload\n",
      "/Users/tomvannuenen/opt/anaconda3/lib/python3.8/site-packages/past/builtins/misc.py:45: DeprecationWarning: the imp module is deprecated in favour of importlib; see the module's documentation for alternative uses\n",
      "  from imp import reload\n",
      "/Users/tomvannuenen/opt/anaconda3/lib/python3.8/site-packages/past/builtins/misc.py:45: DeprecationWarning: the imp module is deprecated in favour of importlib; see the module's documentation for alternative uses\n",
      "  from imp import reload\n",
      "/Users/tomvannuenen/opt/anaconda3/lib/python3.8/site-packages/past/builtins/misc.py:45: DeprecationWarning: the imp module is deprecated in favour of importlib; see the module's documentation for alternative uses\n",
      "  from imp import reload\n",
      "/Users/tomvannuenen/opt/anaconda3/lib/python3.8/site-packages/past/builtins/misc.py:45: DeprecationWarning: the imp module is deprecated in favour of importlib; see the module's documentation for alternative uses\n",
      "  from imp import reload\n"
     ]
    }
   ],
   "source": [
    "import pyLDAvis\n",
    "import pyLDAvis.gensim_models as gensimvis\n",
    "pyLDAvis.enable_notebook()\n",
    "\n",
    "# feed the LDA model into the pyLDAvis instance\n",
    "lda_viz = gensimvis.prepare(lda_model, corpus, dictionary)\n",
    "lda_viz"
   ]
  },
  {
   "cell_type": "markdown",
   "metadata": {
    "id": "jOGnQ-WiZW0h"
   },
   "source": [
    "On the left, there is a 2D plot of the \"distance\" between all of the topics (labeled as the Intertopic Distance Map). This plot uses a multidimensional scaling (MDS) algorithm. \n",
    "- Similar topics should appear close together on the plot; dissimilar topics should appear far apart. \n",
    "- The relative size of a topic's circle in the plot corresponds to the relative frequency of the topic in the corpus.\n",
    "\n",
    "### Exploring topics and words\n",
    "- You can scrutinize a topic more closely by clicking on its circle, or entering its number in the \"selected topic\" box in the upper-left (Note that, though the data used by gensim and pyLDAvis are the same, they don't use the same ID numbers for topics.)\n",
    "- If you roll your mouse over a term in the bar chart on the right, the topic circles will resize in the plot on the left. This shows the strength of the relationship between the topics and the selected term.\n",
    "\n",
    "### Salience\n",
    "On the right, there is a bar chart with the top terms. When no topic is selected in the plot on the left, the bar chart shows the top-30 most **salient** terms in the corpus. A term's saliency is a measure of both how frequent the term is in the corpus and how \"distinctive\" it is in distinguishing between different topics.\n",
    "\n",
    "### Probability Vs Exclusivity \n",
    "When you select a particular topic, this bar chart changes to show the top-30 most \"relevant\" terms for the selected topic. The relevance metric is controlled by the parameter λ, which can be adjusted with a slider above the bar chart:\n",
    "\n",
    "* Setting λ close to 1.0 (the default) will rank the terms according to their probability within the topic.\n",
    "* Setting λ close to 0.0 will rank the terms according to their \"distinctiveness\" or \"exclusivity\" within the topic. This means that terms that occur only in this topic, and do not occur in other topics.\n",
    "\n",
    "You can move the slider between 0.0 and 1.0 to weigh term probability and exclusivity.\n",
    "\n",
    "### Exploring the graph\n",
    "The interactive visualization pyLDAvis produces is helpful for **individual** topics: you can manually select each topic to view its top most frequent and/or \"relevant\" terms, using different values of the λ parameter. This can help when you're trying to assign a name or \"meaning\" to each topic. \n",
    "\n",
    "It also helps you to see the **relationships** between topics: exploring the Intertopic Distance Plot can help you learn about how topics relate to each other, including potential higher-level structure between groups of topics.\n",
    "\n",
    "### Getting insights about the model\n",
    "As you can see, this model probably has too many topics: they are overlapping, and most of them appear in one corner of the graph. So we have our first hint that we might want to alter our model."
   ]
  },
  {
   "cell_type": "markdown",
   "metadata": {
    "id": "osn95IYrZW0i"
   },
   "source": [
    "## 2. Calculating Topic Coherence\n",
    "\n",
    "We can apply statistical measures to help us determine the optimal number of topics in our topic model.\n",
    "\n",
    "**Topic Coherence** measures the score of a single topic by measuring the degree of semantic similarity between high scoring words in the topic. This helps to distinguish between topics that are semantically interpretable topics, and topics that are artifacts of statistical inference. \n",
    "\n",
    "A set of statements or facts is said to be coherent if the statements support each other. An example of a coherent fact set is “the game is a team sport”, “the game is played with a ball”, “the game demands great physical efforts”\n",
    "\n",
    "A good model will generate topics with *high* topic coherence scores. Good topics are topics that can be described by a short label, therefore this is what the topic coherence measure should capture.\n",
    "\n",
    "*(There are different ways to measure coherence. For instance, the c_v measure used here retrieves cooccurrence counts for the given words using a sliding window, with a window size 110. The counts are used to calculate the NPMI (a measure of association) of every top word to every other top word. This results in a set of vectors, one for every top word. The one-set segmentation of the top words leads to the calculation of the similarity between every top word vector and the sum of all top word vectors. As similarity measure the cosinus is used. The coherence is the arithmetic mean of these similarities.)*"
   ]
  },
  {
   "cell_type": "code",
   "execution_count": 16,
   "metadata": {
    "colab": {
     "base_uri": "https://localhost:8080/"
    },
    "executionInfo": {
     "elapsed": 43064,
     "status": "ok",
     "timestamp": 1639913530642,
     "user": {
      "displayName": "Tom van Nuenen",
      "photoUrl": "https://lh3.googleusercontent.com/a-/AOh14GhuBmxDvW5I_LJfZtwlPqMFD8QGLVPP3skvpkTnuQ=s64",
      "userId": "10012302451096885058"
     },
     "user_tz": -60
    },
    "id": "wQFU0eNUZW0i",
    "outputId": "9de0d9f7-993b-4228-b6a7-0bbc8e25ffd5",
    "scrolled": true
   },
   "outputs": [
    {
     "name": "stdout",
     "output_type": "stream",
     "text": [
      "\n",
      "Coherence Score:  0.40183156444316365\n"
     ]
    }
   ],
   "source": [
    "#import logging\n",
    "#logging.getLogger().setLevel(logging.CRITICAL)\n",
    "import warnings\n",
    "warnings.simplefilter(\"ignore\", DeprecationWarning)\n",
    "\n",
    "# Compute Coherence Score\n",
    "coherence_model = CoherenceModel(model=lda_model, corpus=corpus, texts=ProgressDisplay(lemmas_split), dictionary=dictionary, coherence='c_v') \n",
    "coherence = coherence_model.get_coherence()\n",
    "print('\\nCoherence Score: ', coherence)"
   ]
  },
  {
   "cell_type": "markdown",
   "metadata": {
    "id": "Xg-5r0htZW0k"
   },
   "source": [
    "There's no hard or fast rule on what makes a good coherence score.\n",
    "In general, a coherence score of .4 means you probably are not using the right number of topics. .6 to .7 is good. Anything more is suspiciously great. As you can see, our coherence score here is very low, so we should definitely try to improve upon our model."
   ]
  },
  {
   "cell_type": "markdown",
   "metadata": {
    "id": "BwWnkvExc11X"
   },
   "source": [
    "## 3. Tweaking the data\n",
    "\n",
    "Remember we used the lemmas of our dataset? What if we tweaked it some more -- for instance, by POS tagging?\n",
    "\n",
    "POS - Part of Speech - tagging is the process of marking up a word in a corpus to a corresponding part of a speech tag (noun, adjective, verb, etc.). Often it is a process of converting a sentence to a list of tuples where each tuple takes the form of (word, tag).\n",
    "\n",
    "Let's do this with spaCy."
   ]
  },
  {
   "cell_type": "code",
   "execution_count": 17,
   "metadata": {
    "id": "WZtZ7YtScsMX"
   },
   "outputs": [],
   "source": [
    "import warnings\n",
    "warnings.simplefilter(\"ignore\", DeprecationWarning)\n",
    "\n",
    "import spacy\n",
    "#!spacy download en_core_web_sm\n",
    "nlp = spacy.load('en_core_web_sm')\n",
    "\n",
    "def POS(text, allowed_postags = ['NOUN', 'ADJ']):\n",
    "    parsed = nlp(text)\n",
    "    return [token.lemma_ for token in parsed if token.pos_ in allowed_postags]"
   ]
  },
  {
   "cell_type": "code",
   "execution_count": 21,
   "metadata": {},
   "outputs": [],
   "source": [
    "# This will take a long time\n",
    "pos_lemmas_split = [POS(text) for text in ProgressDisplay(df['lemmas'])]"
   ]
  },
  {
   "cell_type": "markdown",
   "metadata": {
    "id": "lw5laa23bOJM"
   },
   "source": [
    "We can save our POS-tagged lemmas to disk again. Let's save them to a JSON file, a common data file type. See https://www.w3schools.com/js/js_json_intro.asp for more. Let's also update our CSV so we have our POS tagged lemmas in there as well."
   ]
  },
  {
   "cell_type": "code",
   "execution_count": 29,
   "metadata": {
    "id": "eKHxNE4LbK7A"
   },
   "outputs": [],
   "source": [
    "import json\n",
    "with open('aita_pos_lemmas.json', 'w' ) as write:\n",
    "    json.dump(pos_lemmas_split, write)\n",
    "\n",
    "# Uncomment the following two lines if you want to import this data again\n",
    "#with open(\"aita_pos_lemmas.json\") as f:\n",
    "#    pos_lemmas = json.load(f)\n"
   ]
  },
  {
   "cell_type": "code",
   "execution_count": null,
   "metadata": {},
   "outputs": [],
   "source": [
    "# turn them into a string so we can save them in our DF\n",
    "str_pos_lemmas = [' '.join(t) for t in pos_lemmas_split]"
   ]
  },
  {
   "cell_type": "code",
   "execution_count": null,
   "metadata": {},
   "outputs": [],
   "source": [
    "str_pos_lemmas[0]"
   ]
  },
  {
   "cell_type": "code",
   "execution_count": null,
   "metadata": {},
   "outputs": [],
   "source": [
    "df.insert(loc=9, column='pos_lemmas', value=str_pos_lemmas)"
   ]
  },
  {
   "cell_type": "code",
   "execution_count": null,
   "metadata": {},
   "outputs": [],
   "source": [
    "df.to_csv('aita_sub_top_sm_pos_lemmas.csv', index=False)"
   ]
  },
  {
   "cell_type": "code",
   "execution_count": null,
   "metadata": {},
   "outputs": [],
   "source": [
    "# Let's see the difference between our lemmas and our POS-tagged lemmas\n",
    "df[['lemmas','pos_lemmas']]"
   ]
  },
  {
   "cell_type": "markdown",
   "metadata": {},
   "source": [
    "Next, we need to create new dictionary and corpus objects for Gensim."
   ]
  },
  {
   "cell_type": "code",
   "execution_count": null,
   "metadata": {},
   "outputs": [],
   "source": [
    "# Create Dictionary \n",
    "pos_dictionary = corpora.Dictionary(ProgressDisplay(pos_lemmas_split, msg=\"Create Dictionary\"))\n",
    "\n",
    "# filter extremes and assign new ids\n",
    "pos_dictionary.filter_extremes(no_below=10, no_above=0.4)\n",
    "pos_dictionary.compactify() \n",
    "\n",
    "# SAVE DICT\n",
    "pos_dictionary.save('aita_pos_lda.dict')\n",
    "\n",
    "# Create Document-Term Matrix of our whole corpus \n",
    "pos_corpus = [pos_dictionary.doc2bow(text) for text in ProgressDisplay(pos_lemmas_split, msg=\"Create Dictionary-Term Matrix\")]\n"
   ]
  },
  {
   "cell_type": "markdown",
   "metadata": {
    "id": "1sP9L4KPXyXm"
   },
   "source": [
    "## 3. Tweaking hyperparameters\n",
    "\n",
    "Next, let's change some hyperparameters. This can also determine how interpretable our topic models become.\n",
    "\n",
    "`passes` controls how often we train the model on the entire corpus. Another word for passes might be “epochs”.\n",
    " \n",
    "`iterations` is somewhat technical, but essentially it controls how often we repeat a particular loop over each document. It is important to set the number of “passes” and “iterations” high enough.\n",
    "\n",
    "Gensim's designer suggests the following way to choose iterations and passes. First, enable `logging`, and set `eval_every = 1` in `LdaModel`. This will yield a **perplexity** score for every update. Perplexity is a measure of how well a probability model predicts a sample. It captures how surprised a model is of new data it has not seen before, and is measured as the normalized log-likelihood of a held-out test set. \n"
   ]
  },
  {
   "cell_type": "code",
   "execution_count": 35,
   "metadata": {
    "id": "ufxXZDJMYKB2"
   },
   "outputs": [],
   "source": [
    "import logging\n",
    "for handler in logging.root.handlers[:]:\n",
    "    logging.root.removeHandler(handler)\n",
    "\n",
    "logging.basicConfig(filename='gensim.log', filemode='w', format=\"%(asctime)s:%(levelname)s:%(message)s\", level=logging.INFO)\n",
    "\n",
    "lda_model_tweak = LdaModel(corpus=ProgressDisplay(pos_corpus, iter_count=20),\n",
    "                           id2word=pos_dictionary,\n",
    "                           num_topics=20, \n",
    "                           random_state=100,\n",
    "                           eval_every=1,           # show perplexity after every update for visualization\n",
    "                           iterations=50,          # number of model iterations over each doc\n",
    "                           passes=20,              # number of model training cycles, aka epochs\n",
    "                           per_word_topics=False)"
   ]
  },
  {
   "cell_type": "markdown",
   "metadata": {
    "id": "Jgq0gBoOTNha"
   },
   "source": [
    "Using regular expressions we can now search through our newly created \"gensim.log\" file and find  / plot the relevant information.\n",
    "This shows how topic/word assignments reach a steady state and no longer change much, (i.e. converge). Adding \"passes\" when running the topic model can increase the log-likelihood. The higher the value of the log-likelihood, the better our model fits the dataset."
   ]
  },
  {
   "cell_type": "code",
   "execution_count": 36,
   "metadata": {
    "id": "QTjA3CXoeBNg"
   },
   "outputs": [
    {
     "data": {
      "image/png": "[encoded data removed]",
      "text/plain": [
       "<Figure size 432x288 with 1 Axes>"
      ]
     },
     "metadata": {
      "needs_background": "light"
     },
     "output_type": "display_data"
    }
   ],
   "source": [
    "import matplotlib.pyplot as plt\n",
    "%matplotlib inline\n",
    "import re\n",
    "\n",
    "p = re.compile(r\"(-*\\d+\\.\\d+) per-word .* (\\d+\\.\\d+) perplexity\")\n",
    "matches = [p.findall(l) for l in open('gensim.log')]\n",
    "matches = [m for m in matches if len(m) > 0]\n",
    "tuples = [t[0] for t in matches]\n",
    "likelihood = [float(t[0]) for t in tuples]\n",
    "perplexity = [float(t[1]) for t in tuples]\n",
    "iter = list(range(0,len(tuples)*10,10))\n",
    "plt.plot(iter,likelihood,c=\"black\")\n",
    "plt.ylabel(\"log likelihood\")\n",
    "plt.xlabel(\"iteration\")\n",
    "plt.title(\"Topic Model Convergence\")\n",
    "plt.grid()\n",
    "plt.savefig(\"convergence_liklihood_1_it_1_pa.pdf\")"
   ]
  },
  {
   "cell_type": "markdown",
   "metadata": {},
   "source": [
    " Note that the graph contains about 20 \"peaks\", which refers to the number of `passes` we set above. As you can see, the model converges quite rapidly, so we do not need to set `passes` very high."
   ]
  },
  {
   "cell_type": "markdown",
   "metadata": {
    "id": "RjFdiMk6ZW0v"
   },
   "source": [
    "## 4. Changing number of topics\n",
    "\n",
    "The final and most important thing we can do to find optimal scores is to play around with the amount of topics our model creates. One way to do this is to build many LDA models with different values of number of topics (k), and then pick the one that gives the highest coherence value. Choosing a ‘k’ at the end of a rapid growth of topic coherence usually yields meaningful and interpretable topics. If you see the same keywords being repeated in multiple topics, it’s probably a sign that the ‘k’ is too large.\n",
    "\n",
    "This `compute_coherence_values()` function trains multiple LDA models, provides the models, and tells you their corresponding coherence scores.\n",
    "\n",
    "Also note the docstring I create here: these are documentation for the functions we create. It describes what a function does, and can be called using `help(function_X)`."
   ]
  },
  {
   "cell_type": "code",
   "execution_count": 37,
   "metadata": {
    "id": "oOZRa_4LZW0w"
   },
   "outputs": [],
   "source": [
    "from gensim.models.ldamodel import LdaModel\n",
    "from gensim.models.coherencemodel import CoherenceModel\n",
    "\n",
    "def compute_coherence_values(dictionary, corpus, texts, start, limit, step):\n",
    "    \"\"\"\n",
    "    Compute c_v coherence for various number of topics\n",
    "\n",
    "    Parameters:\n",
    "    ----------\n",
    "    dictionary : Gensim dictionary\n",
    "    corpus : Gensim corpus\n",
    "    texts : Tokenized text (list of lis of str)\n",
    "    limit : Max num of topics\n",
    "\n",
    "    Returns:\n",
    "    -------\n",
    "    model_list : List of LDA topic models\n",
    "    coherence_values : Coherence values corresponding to the LDA model with respective number of topics\n",
    "    \"\"\"\n",
    "    coherence_values = []\n",
    "    model_list = []\n",
    "    total_amount = int(limit/step - start/step)\n",
    "    current_amount = 0\n",
    "    passes=10\n",
    "    corpus = ProgressDisplay(corpus, iter_count=passes*total_amount)\n",
    "    for num_topics in range(start, limit, step):\n",
    "        model = LdaModel(corpus=corpus, id2word=dictionary, num_topics=num_topics, random_state=100, \n",
    "                         update_every=1, iterations=50, passes=passes, alpha='auto', per_word_topics=False)\n",
    "        model_list.append(model)\n",
    "        coherencemodel = CoherenceModel(model=model, texts=texts, dictionary=dictionary, coherence='c_v')\n",
    "        # When using 'c_v' texts should be provided, corpus isn’t needed. \n",
    "        # When using ‘u_mass’ corpus should be provided, if texts is provided, it will be converted to corpus using the dictionary \n",
    "        coherence_values.append(coherencemodel.get_coherence())\n",
    "        current_amount += 1\n",
    "        print(\"Built \" + str(current_amount) + \" of \" + str(total_amount) + \" models\")\n",
    "\n",
    "    return model_list, coherence_values\n"
   ]
  },
  {
   "cell_type": "code",
   "execution_count": 38,
   "metadata": {
    "colab": {
     "base_uri": "https://localhost:8080/"
    },
    "executionInfo": {
     "elapsed": 20,
     "status": "ok",
     "timestamp": 1626885144832,
     "user": {
      "displayName": "Tom van Nuenen",
      "photoUrl": "https://lh3.googleusercontent.com/a-/AOh14GhuBmxDvW5I_LJfZtwlPqMFD8QGLVPP3skvpkTnuQ=s64",
      "userId": "10012302451096885058"
     },
     "user_tz": -60
    },
    "id": "NTH4i85HeD3j",
    "outputId": "e2a55457-299a-416c-bcdd-f598f17f95e3"
   },
   "outputs": [
    {
     "name": "stdout",
     "output_type": "stream",
     "text": [
      "Help on function compute_coherence_values in module __main__:\n",
      "\n",
      "compute_coherence_values(dictionary, corpus, texts, start, limit, step)\n",
      "    Compute c_v coherence for various number of topics\n",
      "    \n",
      "    Parameters:\n",
      "    ----------\n",
      "    dictionary : Gensim dictionary\n",
      "    corpus : Gensim corpus\n",
      "    texts : Tokenized text (list of lis of str)\n",
      "    limit : Max num of topics\n",
      "    \n",
      "    Returns:\n",
      "    -------\n",
      "    model_list : List of LDA topic models\n",
      "    coherence_values : Coherence values corresponding to the LDA model with respective number of topics\n",
      "\n"
     ]
    }
   ],
   "source": [
    "help(compute_coherence_values)"
   ]
  },
  {
   "cell_type": "markdown",
   "metadata": {
    "id": "eX4Mc6JZo4sG"
   },
   "source": [
    "Using our new function, let's run a bunch of topic models with different amounts of topics."
   ]
  },
  {
   "cell_type": "code",
   "execution_count": 39,
   "metadata": {
    "colab": {
     "base_uri": "https://localhost:8080/"
    },
    "executionInfo": {
     "elapsed": 242071,
     "status": "ok",
     "timestamp": 1639940656827,
     "user": {
      "displayName": "Tom van Nuenen",
      "photoUrl": "https://lh3.googleusercontent.com/a-/AOh14GhuBmxDvW5I_LJfZtwlPqMFD8QGLVPP3skvpkTnuQ=s64",
      "userId": "10012302451096885058"
     },
     "user_tz": -60
    },
    "id": "LYWcr2NhZW0z",
    "outputId": "0f0f4a01-b509-4c46-d11d-015179e38522"
   },
   "outputs": [
    {
     "name": "stdout",
     "output_type": "stream",
     "text": [
      "Built 1 of 12 models\n",
      "Built 2 of 12 models\n",
      "Built 3 of 12 models\n",
      "Built 4 of 12 models\n",
      "Built 5 of 12 models\n",
      "Built 6 of 12 models\n",
      "Built 7 of 12 models\n",
      "Built 8 of 12 models\n",
      "Built 9 of 12 models\n",
      "Built 10 of 12 models\n",
      "Built 11 of 12 models\n",
      "Built 12 of 12 models\n"
     ]
    }
   ],
   "source": [
    "# Can take a long time to run\n",
    "model_list, coherence_values = compute_coherence_values(dictionary=pos_dictionary, \n",
    "                                                        corpus=pos_corpus, texts=pos_lemmas_split, \n",
    "                                                        start=6, limit=30, step=2)"
   ]
  },
  {
   "cell_type": "markdown",
   "metadata": {
    "id": "ks6jTrgtpC1m"
   },
   "source": [
    "Now, from all those models, let's visualize the output of the coherence scores."
   ]
  },
  {
   "cell_type": "code",
   "execution_count": 40,
   "metadata": {
    "colab": {
     "base_uri": "https://localhost:8080/",
     "height": 279
    },
    "executionInfo": {
     "elapsed": 901,
     "status": "ok",
     "timestamp": 1639940737397,
     "user": {
      "displayName": "Tom van Nuenen",
      "photoUrl": "https://lh3.googleusercontent.com/a-/AOh14GhuBmxDvW5I_LJfZtwlPqMFD8QGLVPP3skvpkTnuQ=s64",
      "userId": "10012302451096885058"
     },
     "user_tz": -60
    },
    "id": "td7Zi7YpZW03",
    "outputId": "dee7e449-79a6-461b-c582-dba9eeb9cef6",
    "scrolled": true
   },
   "outputs": [
    {
     "data": {
      "image/png": "[encoded data removed]",
      "text/plain": [
       "<Figure size 432x288 with 1 Axes>"
      ]
     },
     "metadata": {
      "needs_background": "light"
     },
     "output_type": "display_data"
    }
   ],
   "source": [
    "import matplotlib.pyplot as plt\n",
    "%matplotlib inline\n",
    "\n",
    "# Show graph\n",
    "start=6; limit=30; step=2\n",
    "x = range(start, limit, step) # range uses start, stop, and incrementation\n",
    "plt.plot(x, coherence_values)\n",
    "plt.xlabel(\"Num Topics\")\n",
    "plt.ylabel(\"Coherence score\")\n",
    "plt.legend((\"coherence_values\"), loc='best')\n",
    "plt.show()"
   ]
  },
  {
   "cell_type": "code",
   "execution_count": 41,
   "metadata": {
    "colab": {
     "base_uri": "https://localhost:8080/"
    },
    "executionInfo": {
     "elapsed": 548,
     "status": "ok",
     "timestamp": 1639940764419,
     "user": {
      "displayName": "Tom van Nuenen",
      "photoUrl": "https://lh3.googleusercontent.com/a-/AOh14GhuBmxDvW5I_LJfZtwlPqMFD8QGLVPP3skvpkTnuQ=s64",
      "userId": "10012302451096885058"
     },
     "user_tz": -60
    },
    "id": "2zX73ICjZW05",
    "outputId": "e1593fa6-dcd7-4bf9-eb75-5b838e238b10",
    "scrolled": true
   },
   "outputs": [
    {
     "name": "stdout",
     "output_type": "stream",
     "text": [
      "model_list[0]: Num Topics = 6, Coherence Value = 0.3987\n",
      "model_list[1]: Num Topics = 8, Coherence Value = 0.421\n",
      "model_list[2]: Num Topics = 10, Coherence Value = 0.4357\n",
      "model_list[3]: Num Topics = 12, Coherence Value = 0.4284\n",
      "model_list[4]: Num Topics = 14, Coherence Value = 0.4253\n",
      "model_list[5]: Num Topics = 16, Coherence Value = 0.4318\n",
      "model_list[6]: Num Topics = 18, Coherence Value = 0.432\n",
      "model_list[7]: Num Topics = 20, Coherence Value = 0.4483\n",
      "model_list[8]: Num Topics = 22, Coherence Value = 0.4416\n",
      "model_list[9]: Num Topics = 24, Coherence Value = 0.4032\n",
      "model_list[10]: Num Topics = 26, Coherence Value = 0.4396\n",
      "model_list[11]: Num Topics = 28, Coherence Value = 0.4128\n"
     ]
    }
   ],
   "source": [
    "# Print these coherence scores\n",
    "c = 0\n",
    "for m, cv in zip(x, coherence_values):\n",
    "    print(f\"model_list[{c}]: Num Topics = {m}, Coherence Value = {round(cv, 4)}\")\n",
    "    c += 1"
   ]
  },
  {
   "cell_type": "markdown",
   "metadata": {
    "id": "DPwvgE04ZW0_"
   },
   "source": [
    "If the coherence score seems to keep increasing, it generally makes sense to pick the model that gave the highest CV before dropping again. Following this \"elbow method\", we have a few options.\n",
    "\n",
    "However, such methods are only heuristics. The scores we have here are not that far apart. At this point you should *go back* to pyLDAvis using the models from our `model_list`, and compare them to see which topic model looks better. Based on these combined insights, I will pick the 5th model, with 16 topics."
   ]
  },
  {
   "cell_type": "code",
   "execution_count": 42,
   "metadata": {
    "id": "UzmroqZHm3M3"
   },
   "outputs": [],
   "source": [
    "from gensim import corpora, models, similarities\n",
    "\n",
    "# SAVE MODEL\n",
    "optimal_lda_model = model_list[5]\n",
    "optimal_lda_model.save('aita_pos_lda_optimal.model')\n"
   ]
  },
  {
   "cell_type": "code",
   "execution_count": 43,
   "metadata": {},
   "outputs": [
    {
     "name": "stderr",
     "output_type": "stream",
     "text": [
      "/Users/tomvannuenen/opt/anaconda3/lib/python3.8/site-packages/pyLDAvis/_prepare.py:246: FutureWarning: In a future version of pandas all arguments of DataFrame.drop except for the argument 'labels' will be keyword-only\n",
      "  default_term_info = default_term_info.sort_values(\n"
     ]
    },
    {
     "data": {
      "text/html": [
       "\n",
       "<link rel=\"stylesheet\" type=\"text/css\" href=\"https://cdn.jsdelivr.net/gh/bmabey/pyLDAvis@3.3.1/pyLDAvis/js/ldavis.v1.0.0.css\">\n",
       "\n",
       "\n",
       "<div id=\"ldavis_el4850140290241015472473124981\"></div>\n",
       "<script type=\"text/javascript\">\n",
       "\n",
       "var ldavis_el4850140290241015472473124981_data = {\"mdsDat\": {\"x\": [-0.009903729388834959, 0.17248784767573375, -0.009917066390315348, -0.08788421287887264, -0.02229934924846594, 0.18541711089806717, 0.12013226040276706, 0.17157070386975756, -0.15999098628294062, 0.1528585683997921, -0.004798987052230927, 0.05534131673438619, -0.16693601307505113, -0.18881996775673943, -0.02187517178649689, -0.18538232412055622], \"y\": [-0.06679913957637346, 0.03284447423328921, -0.02876971701942871, 0.1324289617972893, 0.14074963049046596, 0.07422383184900043, -0.05337915009834809, -0.02576337038822164, 0.09925544538591052, 0.026012561278041725, -0.21353745139311534, -0.08614587184015758, -0.003074812313382174, 0.12689289308032653, 0.09544241026348116, -0.25038069574877836], \"topics\": [1, 2, 3, 4, 5, 6, 7, 8, 9, 10, 11, 12, 13, 14, 15, 16], \"cluster\": [1, 1, 1, 1, 1, 1, 1, 1, 1, 1, 1, 1, 1, 1, 1, 1], \"Freq\": [19.240639712975916, 10.191730335813805, 9.329692982251496, 7.3526491446018705, 6.720075067587847, 6.4919330324548845, 5.8358896529422895, 5.6959199305038375, 5.278806715484571, 4.332232832735383, 4.244992938516859, 3.9161341843750828, 3.8146251878035704, 2.9162258405889365, 2.549233553193379, 2.0892188881702847]}, \"tinfo\": {\"Term\": [\"husband\", \"wife\", \"parent\", \"sister\", \"money\", \"daughter\", \"friend\", \"mom\", \"kid\", \"child\", \"baby\", \"family\", \"brother\", \"wedding\", \"food\", \"work\", \"pay\", \"school\", \"car\", \"room\", \"son\", \"dog\", \"job\", \"dress\", \"woman\", \"pregnant\", \"dad\", \"dinner\", \"hair\", \"night\", \"alcohol\", \"purse\", \"drinking\", \"crawl\", \"wet\", \"giggle\", \"tea\", \"basketball\", \"ally\", \"whisper\", \"airport\", \"uncalled\", \"hat\", \"juice\", \"closing\", \"hyphenate\", \"cold_shoulder\", \"grass\", \"topless\", \"prank\", \"pour\", \"hangout\", \"irritate\", \"outing\", \"convenience\", \"obnoxious\", \"baseball\", \"impatient\", \"calorie\", \"theater\", \"friend\", \"movie\", \"fume\", \"production\", \"friendship\", \"boyfriend\", \"bf\", \"bar\", \"drunk\", \"vibe\", \"group\", \"laugh\", \"party\", \"mutual\", \"joke\", \"gay\", \"guy\", \"dude\", \"beer\", \"girlfriend\", \"fuck\", \"cool\", \"nickname\", \"date\", \"drink\", \"text\", \"scene\", \"talk\", \"sex\", \"girl\", \"funny\", \"uncomfortable\", \"game\", \"rude\", \"weird\", \"texte\", \"birthday\", \"play\", \"little\", \"people\", \"good\", \"bit\", \"night\", \"mad\", \"tell\", \"upset\", \"couple\", \"bad\", \"start\", \"point\", \"way\", \"wrong\", \"phone\", \"day\", \"leave\", \"end\", \"lot\", \"month\", \"want\", \"daughter\", \"wife\", \"emma\", \"stepdaughter\", \"stepdad\", \"faint\", \"grandson\", \"visitation\", \"paternity_t\", \"son\", \"mommy\", \"counselling\", \"grieving\", \"curfew\", \"disown\", \"guardian\", \"kidney\", \"disrupt\", \"sooo\", \"undermine\", \"dental\", \"typo\", \"alimony\", \"seed\", \"stepmom\", \"delusional\", \"insulin\", \"jack\", \"postpartum\", \"accomplish\", \"stepsister\", \"mom\", \"affair\", \"step\", \"reconcile\", \"dad\", \"14f\", \"divorce\", \"decorate\", \"punishment\", \"daddy\", \"father\", \"mother\", \"grandma\", \"custody\", \"allowance\", \"old\", \"counseling\", \"bond\", \"relationship\", \"facetime\", \"love\", \"life\", \"contact\", \"marriage\", \"family\", \"therapy\", \"talk\", \"young\", \"cruel\", \"help\", \"month\", \"fight\", \"bad\", \"good\", \"care\", \"tell\", \"happy\", \"hard\", \"lot\", \"leave\", \"right\", \"week\", \"home\", \"parent\", \"way\", \"company\", \"team\", \"boss\", \"language\", \"interview\", \"computer\", \"coach\", \"colleague\", \"campus\", \"flag\", \"spanish\", \"supervisor\", \"german\", \"department\", \"accent\", \"management\", \"device\", \"tablet\", \"workplace\", \"settlement\", \"promotion\", \"hub\", \"print\", \"grace\", \"district\", \"cottage\", \"pronoun\", \"deaf\", \"unprofessional\", \"pc\", \"coworker\", \"tenant\", \"fence\", \"fire\", \"office\", \"meeting\", \"email\", \"laptop\", \"contract\", \"client\", \"project\", \"employee\", \"report\", \"design\", \"tree\", \"manager\", \"sign\", \"work\", \"skill\", \"job\", \"people\", \"information\", \"new\", \"position\", \"address\", \"phone\", \"number\", \"person\", \"case\", \"lot\", \"use\", \"situation\", \"good\", \"issue\", \"week\", \"reason\", \"comment\", \"talk\", \"day\", \"point\", \"way\", \"flight\", \"bus\", \"seat\", \"row\", \"lauren\", \"plane\", \"jess\", \"tour\", \"slack\", \"alarm\", \"dye\", \"midnight\", \"h\", \"housework\", \"ambulance\", \"nut\", \"sweep\", \"bridal\", \"shampoo\", \"library\", \"commute\", \"russian\", \"lay\", \"sitter\", \"seizure\", \"calendar\", \"chore\", \"playstation\", \"housewife\", \"temp\", \"p.m.\", \"exhausted\", \"shift\", \"cabin\", \"schedule\", \"trip\", \"laundry\", \"hour\", \"wake\", \"morning\", \"work\", \"tired\", \"weekend\", \"home\", \"day\", \"week\", \"vacation\", \"sleep\", \"night\", \"minute\", \"late\", \"early\", \"help\", \"care\", \"job\", \"today\", \"clean\", \"leave\", \"plan\", \"phone\", \"long\", \"able\", \"month\", \"tell\", \"money\", \"income\", \"expense\", \"payment\", \"debt\", \"mortgage\", \"loan\", \"finance\", \"tuition\", \"inheritance\", \"utility\", \"deposit\", \"saving\", \"retirement\", \"investment\", \"fund\", \"childless\", \"wealth\", \"calculate\", \"classy\", \"sd\", \"bill\", \"7th\", \"adore\", \"buck\", \"price\", \"prospective\", \"inspection\", \"absent\", \"bounce\", \"rent\", \"pay\", \"financial\", \"cost\", \"fee\", \"cash\", \"dollar\", \"budget\", \"salary\", \"homeless\", \"insurance\", \"scholarship\", \"expensive\", \"job\", \"college\", \"account\", \"month\", \"house\", \"cover\", \"cheap\", \"help\", \"work\", \"live\", \"support\", \"car\", \"half\", \"able\", \"use\", \"new\", \"plan\", \"good\", \"lot\", \"home\", \"sister\", \"brother\", \"niece\", \"nephew\", \"sis\", \"lawsuit\", \"fertility\", \"greedy\", \"stepbrother\", \"precaution\", \"dna_t\", \"obligate\", \"assist\", \"administrator\", \"uninvite\", \"surrogate\", \"eligible\", \"forum\", \"vain\", \"unwell\", \"\\u00a3\", \"unstable\", \"clause\", \"t\", \"convert\", \"lavish\", \"attentive\", \"era\", \"rsvp\", \"sewing\", \"golden\", \"uncle\", \"aunt\", \"parent\", \"grandparent\", \"gift\", \"sibling\", \"cousin\", \"tidy\", \"stepmother\", \"twin\", \"family\", \"ivf\", \"dad\", \"present\", \"birthday\", \"mother\", \"member\", \"young\", \"old\", \"ungrateful\", \"mom\", \"visit\", \"card\", \"care\", \"contact\", \"help\", \"life\", \"live\", \"close\", \"half\", \"tell\", \"lot\", \"bad\", \"week\", \"month\", \"wedding\", \"ring\", \"fiance\", \"fianc\\u00e9e\", \"bride\", \"propose\", \"ceremony\", \"venue\", \"anniversary\", \"reception\", \"invitation\", \"planning\", \"fiancee\", \"pepper\", \"gown\", \"diamond\", \"groom\", \"glitter\", \"engagement\", \"necklace\", \"romantic\", \"honeymoon\", \"engagement_ring\", \"spice\", \"salt\", \"proposal\", \"destination\", \"alter\", \"bachelorette\", \"vacuum\", \"tradition\", \"engage\", \"fianc\\u00e9\", \"speech\", \"attend\", \"traditional\", \"flower\", \"jewelry\", \"family\", \"guest\", \"event\", \"grandmother\", \"plan\", \"member\", \"date\", \"important\", \"day\", \"relationship\", \"idea\", \"love\", \"happy\", \"cousin\", \"future\", \"big\", \"good\", \"people\", \"lot\", \"marriage\", \"month\", \"close\", \"tell\", \"talk\", \"foster\", \"donor\", \"campaign\", \"triplet\", \"childfree\", \"pastor\", \"hypothetical\", \"swim\", \"deceased\", \"apt\", \"registration\", \"pediatrician\", \"reduce\", \"o'clock\", \"advanced\", \"reader\", \"atheist\", \"youth\", \"ableist\", \"sin\", \"dna\", \"surname\", \"sperm\", \"backup\", \"stability\", \"sympathize\", \"ect\", \"traumatize\", \"conscience\", \"nicole\", \"kid\", \"catholic\", \"child\", \"religion\", \"religious\", \"church\", \"biological\", \"parenting\", \"grandkid\", \"belief\", \"boy\", \"age\", \"testing\", \"young\", \"guitar\", \"raise\", \"football\", \"old\", \"life\", \"activity\", \"adult\", \"mother\", \"support\", \"partner\", \"parent\", \"decision\", \"choice\", \"free\", \"autistic\", \"single\", \"family\", \"different\", \"love\", \"care\", \"relationship\", \"change\", \"live\", \"want\", \"plan\", \"good\", \"way\", \"reason\", \"people\", \"problem\", \"roommate\", \"bathroom\", \"pad\", \"toilet\", \"living_room\", \"towel\", \"bath\", \"basement\", \"leash\", \"plastic\", \"asthma\", \"carpet\", \"costume\", \"studio\", \"snake\", \"storage\", \"throw_tantrum\", \"upstairs\", \"upstage\", \"attic\", \"supervise\", \"flush\", \"suite\", \"precedent\", \"waiting\", \"curtain\", \"poop\", \"viable\", \"ceiling\", \"cupcake\", \"wipe\", \"bedroom\", \"room\", \"sheet\", \"furniture\", \"shelf\", \"lock\", \"chair\", \"noise\", \"bed\", \"door\", \"tv\", \"couch\", \"apartment\", \"clean\", \"floor\", \"sleep\", \"bag\", \"space\", \"blanket\", \"shower\", \"toy\", \"smell\", \"use\", \"kitchen\", \"glass\", \"house\", \"water\", \"live\", \"guest\", \"stuff\", \"share\", \"night\", \"home\", \"rule\", \"issue\", \"place\", \"small\", \"open\", \"leave\", \"problem\", \"old\", \"big\", \"baby\", \"husband\", \"pregnancy\", \"abortion\", \"miscarriage\", \"newborn\", \"formula\", \"condom\", \"infertility\", \"breastfeed\", \"heal\", \"grieve\", \"timing\", \"rabbit\", \"infertile\", \"fil\", \"abort\", \"risky\", \"premature\", \"autonomy\", \"angel\", \"malice\", \"panic_attack\", \"spontaneous\", \"signature\", \"spoiler\", \"unborn\", \"vasectomy\", \"abnormal\", \"ovary\", \"pregnant\", \"nursery\", \"hubby\", \"birth\", \"egg\", \"l\", \"mil\", \"labor\", \"sil\", \"maternity\", \"law\", \"delivery\", \"announcement\", \"month\", \"child\", \"feed\", \"adoption\", \"shower\", \"week\", \"bear\", \"bil\", \"doctor\", \"family\", \"help\", \"woman\", \"plan\", \"support\", \"want\", \"mother\", \"talk\", \"change\", \"upset\", \"day\", \"right\", \"issue\", \"able\", \"good\", \"end\", \"tell\", \"hair\", \"makeup\", \"racist\", \"profile\", \"race\", \"tattoo\", \"colour\", \"tinder\", \"30f\", \"crop\", \"blonde\", \"scar\", \"anime\", \"japanese\", \"bleach\", \"uniform\", \"racism\", \"sing\", \"stereotype\", \"yellow\", \"follower\", \"writer\", \"slur\", \"subreddit\", \"curl\", \"explicit\", \"asperger\", \"bald\", \"color\", \"caption\", \"skin\", \"delete\", \"screenshot\", \"video\", \"white\", \"green\", \"r_amitheasshole_comment\", \"black\", \"trick\", \"pink\", \"picture\", \"post\", \"photo\", \"insecure\", \"comment\", \"blue\", \"dark\", \"award\", \"fake\", \"offensive\", \"update\", \"style\", \"people\", \"message\", \"short\", \"edit\", \"story\", \"use\", \"book\", \"advice\", \"beautiful\", \"long\", \"change\", \"girl\", \"account\", \"eye\", \"different\", \"woman\", \"love\", \"lot\", \"little\", \"weight\", \"surgery\", \"exercise\", \"artist\", \"song\", \"height\", \"heel\", \"junk\", \"painting\", \"mask\", \"sweater\", \"overweight\", \"doll\", \"speechless\", \"jake\", \"adoptive\", \"tooth\", \"ancestor\", \"massage\", \"implant\", \"noticeable\", \"singer\", \"incapable\", \"piano\", \"hearted\", \"flaw\", \"wander\", \"obese\", \"trimester\", \"35k\", \"fat\", \"art\", \"bone\", \"anxiety\", \"depression\", \"therapist\", \"unhealthy\", \"disorder\", \"pain\", \"severe\", \"diagnosis\", \"body\", \"therapy\", \"healthy\", \"disability\", \"health\", \"cancer\", \"music\", \"struggle\", \"issue\", \"lose\", \"bad\", \"lot\", \"help\", \"comment\", \"condition\", \"life\", \"love\", \"good\", \"point\", \"way\", \"care\", \"problem\", \"talk\", \"bit\", \"work\", \"meal\", \"cook\", \"meat\", \"cake\", \"snack\", \"food\", \"pizza\", \"recipe\", \"chicken\", \"vegetarian\", \"sauce\", \"cookie\", \"potato\", \"salad\", \"ingredient\", \"cheese\", \"soup\", \"bread\", \"waitress\", \"pork\", \"dessert\", \"rice\", \"cater\", \"pie\", \"spicy\", \"fruit\", \"sandwich\", \"fridge\", \"waiter\", \"bake\", \"plate\", \"eat\", \"chocolate\", \"vegetable\", \"restaurant\", \"hungry\", \"tip\", \"cooking\", \"dish\", \"order\", \"dinner\", \"table\", \"taste\", \"allergy\", \"lunch\", \"coffee\", \"milk\", \"drink\", \"sweet\", \"breakfast\", \"people\", \"small\", \"lot\", \"point\", \"place\", \"dog\", \"cat\", \"neighbor\", \"parking\", \"vet\", \"truck\", \"pet\", \"porch\", \"driver\", \"bike\", \"driveway\", \"electric\", \"alice\", \"rescue\", \"tow\", \"gate\", \"interior\", \"brake\", \"sticker\", \"invalidate\", \"cage\", \"beloved\", \"dice\", \"retaliation\", \"suffering\", \"bird\", \"homeowner\", \"bolt\", \"cable\", \"speed\", \"plant\", \"yard\", \"neighborhood\", \"car\", \"vehicle\", \"garden\", \"animal\", \"garage\", \"camera\", \"package\", \"drive\", \"park\", \"window\", \"property\", \"police\", \"key\", \"owner\", \"road\", \"spot\", \"accident\", \"door\", \"walk\", \"home\", \"house\", \"open\", \"apartment\", \"old\", \"leave\", \"right\", \"teacher\", \"grade\", \"medication\", \"principal\", \"candy\", \"classmate\", \"class\", \"exam\", \"prescription\", \"tampon\", \"dairy\", \"clinic\", \"constructive\", \"airline\", \"semester\", \"student\", \"shaky\", \"babysitting\", \"tutor\", \"soda\", \"ethic\", \"restroom\", \"usable\", \"perfume\", \"drawing\", \"resident\", \"dismiss\", \"liquor\", \"reliable\", \"vodka\", \"assignment\", \"school\", \"senior\", \"test\", \"nurse\", \"donation\", \"doctor\", \"appointment\", \"drug\", \"medicine\", \"academic\", \"math\", \"high\", \"study\", \"patient\", \"lesson\", \"college\", \"medical\", \"program\", \"dorm\", \"graduate\", \"private\", \"degree\", \"bad\", \"period\", \"pass\", \"leave\", \"email\", \"book\", \"use\", \"day\", \"course\", \"shirt\", \"clothing\", \"jewish\", \"daisy\", \"workout\", \"bacon\", \"hiking\", \"cashier\", \"wrestling\", \"jewellery\", \"breadwinner\", \"nipple\", \"hectic\", \"elevator\", \"disturb\", \"rotate\", \"jean\", \"bikini\", \"interfere\", \"lobster\", \"trunk\", \"lobby\", \"yarn\", \"motorcycle\", \"platinum\", \"category\", \"skate\", \"prone\", \"technical\", \"lotion\", \"wear\", \"outfit\", \"dress\", \"clothe\", \"customer\", \"shoe\", \"woman\", \"female\", \"pool\", \"receipt\", \"store\", \"gym\", \"sexist\", \"item\", \"male\", \"shop\", \"horse\", \"section\", \"size\", \"suit\", \"man\", \"shopping\", \"body\", \"manager\", \"pant\", \"short\", \"uncomfortable\", \"comfortable\", \"inappropriate\", \"cover\", \"nice\", \"girl\", \"small\", \"look\", \"business\"], \"Freq\": [10665.0, 9792.0, 11391.0, 7766.0, 7612.0, 8467.0, 15416.0, 10576.0, 7117.0, 7654.0, 5651.0, 14080.0, 6339.0, 5412.0, 4483.0, 13369.0, 6084.0, 4581.0, 4044.0, 5042.0, 5572.0, 3075.0, 5737.0, 2188.0, 2985.0, 2434.0, 4245.0, 3345.0, 2032.0, 4971.0, 263.3037778823176, 133.28009153519736, 101.07545570952271, 92.81958833860692, 104.39957422255371, 83.2427770503527, 163.7787653155935, 76.17646973523844, 68.62271571926318, 67.76082433697044, 67.33518903088311, 66.68946513714869, 62.18546762675604, 60.428348759400244, 60.148098342803024, 59.784612457272885, 59.12616527304693, 54.28240114635344, 51.56480229668472, 49.353674238973284, 72.51303418019869, 48.68300066215756, 49.284209940460805, 45.409998408109814, 42.16902747730801, 69.75142437351622, 40.74497893548161, 40.71173409967284, 40.47032960611725, 39.49055849233907, 14769.045465038382, 561.3927345057944, 112.50339083552845, 45.81066374956884, 283.5719931563595, 3099.261814807821, 1119.1452828699391, 580.870591413851, 387.1287068482324, 120.93034657651289, 877.0903736227365, 612.5517740322045, 1334.7061097940564, 435.3909465361009, 1153.0259586985355, 229.27999545801202, 1920.6328638356729, 169.8214494320341, 235.80608348694278, 1463.3774361075182, 725.3399448298294, 487.90203511244874, 128.8684899924709, 2332.911392071105, 1043.1819654332699, 1317.4604129079614, 280.9429367804249, 5287.194435086159, 423.2599313014138, 2502.524184947491, 501.209596410272, 1242.045616670719, 743.539956107946, 901.6419704993016, 895.3533929069004, 601.8878447821011, 1452.890199694974, 1142.2501293930568, 2376.268688345722, 3970.5709199340563, 3462.283983047096, 1618.1170945092117, 2276.679694258694, 1256.8283224878048, 2685.2802856329736, 1566.9858542232378, 1527.8224573657321, 2045.0289482074786, 1634.0788342592004, 1699.5973172376096, 1897.1923712305554, 1432.8808040028546, 1420.8039269776552, 2137.7836558771974, 1473.5612605767785, 1365.4130209781295, 1396.054490370514, 1296.3547319947436, 1263.1614653995048, 8466.676995718246, 9788.779001468389, 124.48653839580977, 119.33550272601074, 110.3453210901414, 88.86622478453941, 74.60564450962714, 67.70084839624154, 60.99468498350456, 5478.136042740977, 54.31233901671866, 53.54293989893612, 50.784553067654485, 46.539310874589205, 46.24991332879309, 46.11368369732855, 41.275787817598015, 39.36974397466256, 37.5535625567303, 37.428573785713866, 37.39593983819437, 35.997364085129085, 35.06976212157501, 33.28046709429086, 31.542090765545034, 29.135504549243606, 29.127187601683637, 28.754518520866732, 27.822338207493313, 27.584736713153568, 176.75070239686738, 9205.144760635118, 163.10082421150614, 955.209774648975, 58.068648543194904, 2815.876065214642, 66.01297894731736, 458.6063362956632, 124.68204843627659, 182.67944517942811, 116.73123278262511, 732.3513617166865, 2357.072371065836, 408.7615750255753, 281.29338317651553, 100.4694713791689, 1925.9096626953276, 122.30011762748879, 216.02806648080676, 1084.1289434970183, 96.00779159276685, 1177.9754818165993, 1163.62155835327, 558.5531488458663, 409.35267454421427, 2119.2129851026334, 379.1757735674281, 1456.5933181824596, 672.0031748217898, 203.03639635973525, 937.6993860587306, 1009.4731860211244, 318.7559373779007, 819.1987866936744, 941.4101376920495, 623.2768988619672, 841.0359790690727, 522.5523720369376, 445.7320380898664, 686.8948260980814, 600.3364047533346, 543.2405973549747, 639.8254508196916, 606.6496787862676, 676.6951866069248, 555.5579161180642, 1251.892159416506, 530.4917452925126, 509.53634507053016, 465.390376765259, 309.69529193502115, 219.57720770896495, 164.36262154267467, 153.36330358865422, 149.98944056674839, 151.635998489499, 128.1369966479466, 127.92529428304701, 124.34263988571244, 118.53757615299601, 116.4610703304192, 150.15994325183908, 113.91947493332248, 116.92997566140775, 103.78782197382601, 101.9295289047628, 101.15736272247567, 99.47207683845336, 97.43269924419575, 94.30560158649217, 92.91140153699489, 87.66652625779712, 85.9395555290541, 83.48639127155991, 83.29182047307351, 82.15315153760417, 666.1293259143242, 120.64872537278957, 192.13612294581267, 549.3664436710593, 870.9209493597533, 463.1411522340754, 722.9649529515167, 433.2907385188399, 261.23623378882724, 216.3050981928888, 362.1393373160978, 404.1196868058, 352.2491850258822, 221.54087990813133, 308.76225424677114, 469.9995483280421, 490.87081833180247, 4202.819251953601, 188.69558252994494, 1849.3894799523282, 2569.9589245954658, 318.0261766489177, 1078.1788889655563, 323.72904104858816, 288.1618898397172, 860.6124275647692, 380.5488018819076, 692.9834398095691, 420.4372251723763, 909.4557363211221, 717.1608070983631, 523.6103759843431, 695.2772470623792, 580.330035495046, 661.5999836483829, 527.0739289521092, 488.65657812453037, 540.5172454805601, 509.39525386914767, 438.51821998032074, 436.64818460913506, 413.6299558214959, 248.52913999847252, 624.6589731347334, 136.22880519709082, 104.4225773750115, 103.61273049404811, 103.05037012482666, 102.596402006708, 99.25673434130597, 111.42841219800675, 79.36158931517949, 112.97910652618262, 72.48794054233026, 72.4522420933423, 70.85126818677568, 67.97965374181406, 66.64341878890149, 62.75221034498299, 53.62854139698674, 53.26464869661408, 52.4721059270504, 50.41710706592876, 50.214092482170514, 79.88524407123424, 48.645923533285824, 47.71181153462662, 464.7042109316619, 44.62383111030901, 43.88192960554935, 43.842536788197464, 311.07763822161456, 121.01622298623155, 517.2050812624634, 73.3193387665747, 686.1555425935738, 1325.5773150495443, 235.0131667487924, 2775.3495599629273, 570.9314691681323, 1314.519631345659, 6398.542336665672, 573.5082058473184, 1052.4432270558113, 2552.1087692706055, 3469.8615467838613, 2755.0939634243027, 517.4487545660198, 1046.8026551038665, 1676.9217290042297, 893.6872796364117, 519.12296997127, 527.4851185100621, 1218.246975256041, 807.1972696388884, 1021.7292301983674, 620.249209713187, 471.3285285920616, 820.4578922808128, 725.4331576558886, 672.4831348032136, 650.9403893249035, 579.828913598537, 692.5433380075019, 615.3148563178602, 7607.241041307684, 686.9304198889077, 523.7594267385817, 494.1104612761473, 464.1279419771371, 410.70209241740736, 360.99422153237856, 352.98322477347165, 241.3559142173972, 226.9777566674357, 190.89311757187733, 183.77983360770529, 181.70570979052914, 142.01250100324904, 139.46155462860523, 326.6843805039465, 50.12714133288118, 50.04674688682463, 63.48860948601967, 49.20356385410896, 45.23073516320221, 875.2154214923936, 35.48073154409233, 31.60582691529958, 63.34985067443134, 514.0656623968501, 29.753944817218102, 29.219718906305825, 27.456212140901876, 27.167407938420993, 1658.3290312799384, 5682.270984703903, 535.1254182258966, 919.7015068769315, 225.13735476780133, 299.27367122282953, 282.92078731225894, 288.9873378555354, 205.02523713784294, 159.92198837417916, 400.3340045476384, 168.68084615607128, 739.778434367606, 2646.699106686101, 1079.3930601365796, 530.1598144635211, 1863.533588078593, 998.1626327349422, 418.29415402014837, 324.25244851073575, 1024.7138808080877, 1459.6541053453018, 676.2025215378218, 571.7489041184967, 651.051224871195, 518.2083186881496, 558.0530226486848, 623.3178610945207, 580.1293828710282, 545.3793746945674, 612.1961130723166, 442.87819382233005, 431.8677059710077, 7745.440258474355, 6320.031498050716, 299.8407139903845, 258.66431941018584, 101.23179748549903, 87.44849438254417, 73.97524495536169, 71.14666381643255, 103.12184615242727, 56.10301804638558, 54.223393766979086, 53.9407674075221, 45.76628662173389, 43.445215762829164, 41.30628199250994, 40.18989623931211, 35.691503860065545, 35.12668682124276, 32.63706479324475, 31.968460088724125, 31.796834067469074, 29.806848143188027, 29.616588244106918, 29.231148226276346, 28.90823628519542, 28.144502771658043, 28.105083988121248, 25.723868747206527, 25.558611410844406, 25.322744246093794, 41.74056152045603, 264.86156076566925, 464.0304470832323, 8504.018148231287, 366.12591336248346, 1337.027472684849, 683.052878253181, 825.702660632052, 44.81773122658846, 61.53934298211484, 402.85424687867993, 5628.222827717745, 51.58803560796054, 1379.8299987249156, 372.272405971012, 872.0672706007721, 1003.6691182865827, 345.98236524270965, 651.017042861562, 1105.9010730259836, 117.4784221376498, 1172.465107656432, 314.3788704885786, 218.36419382675984, 548.9574623270282, 356.8595315884117, 610.8289988328992, 444.30777961781536, 370.4200128378275, 328.4955988809925, 284.0419958445288, 413.44046104119326, 403.1071329395574, 375.3666014164141, 384.7988974685561, 340.0823717617848, 5412.021726924471, 845.2410896015508, 665.5458328528871, 446.7809764396036, 299.69160352698077, 283.71979855859234, 267.66521755493966, 227.3522877197335, 205.0929489716638, 189.024145450656, 209.12363007525667, 171.3475741055879, 158.52114364722553, 142.80481905402627, 133.10756387167822, 119.29661368830283, 115.37594793954533, 110.84861882651109, 98.49582936422146, 98.3700576911397, 95.65309755625425, 93.52092566812179, 88.63011855243865, 78.16803806685239, 75.99950607523932, 65.40244701015196, 63.91672298481475, 60.993794715809514, 60.27411811313725, 52.26752162012697, 322.3032407556953, 334.32085781360166, 133.89104905206926, 134.6224096085895, 497.7480809682723, 266.9703647404885, 163.70028892617438, 154.8599855262647, 4039.222750532621, 415.6160452269489, 456.65032080109137, 293.5959342951493, 940.2900910645388, 418.0090698944618, 764.7712347062796, 450.98165517566633, 1093.7459023802319, 591.2942528350211, 462.7988118390169, 614.3823690015644, 492.5630465500726, 335.8389433973153, 289.3247171223771, 456.09510128274974, 544.5968234760895, 548.7700414346983, 453.87871798418746, 299.49278356118566, 373.66624636146787, 334.70081392315166, 360.01164544327344, 302.26094147769214, 108.44491703807321, 85.51731085635735, 84.11480910622397, 79.27568413377982, 66.05182116055319, 59.81838398379563, 59.44804119400947, 50.294454542105605, 48.26582478882609, 47.60642625544745, 42.215203411792956, 40.38162574444104, 36.78889280730856, 36.50269499906088, 35.96481875849492, 34.974808340417695, 34.54685854015196, 33.556111623330416, 33.38639669529163, 32.78964258364108, 32.190568901216984, 31.534944923902984, 31.254386934844142, 31.072369675877823, 29.918834521653604, 29.27614530353671, 29.053492526894686, 28.97142695349574, 26.948102793072717, 26.932756400759022, 6574.198878738346, 108.46079979360289, 6414.885106183678, 254.17866943597795, 399.8182060325577, 275.36199041766946, 279.0827500522859, 97.09052403785238, 60.55407418058038, 196.62388632387365, 856.7972964357471, 763.4836100075541, 48.914488052464165, 1042.3434891354723, 55.024517659732005, 288.75627679870524, 90.920409742264, 1570.6847607839957, 1215.545834793668, 236.52380186242422, 378.66119086471224, 1029.4957488660905, 605.1648792781458, 396.7151767143179, 1599.343784183162, 424.2978232095038, 311.8377311637725, 394.3338841438265, 145.68535962715026, 362.63789216161746, 1145.0317798849444, 461.03060201737424, 566.1536935721969, 478.46663339881155, 463.7214802339561, 410.2540089793475, 417.826368851593, 442.0990298813853, 410.204119194841, 495.60383842016245, 435.60122167710165, 398.27613777037584, 429.3909041565788, 365.84787390620625, 943.7789232766789, 1247.8484893335717, 373.2819941309699, 301.3561335146981, 145.1069430837455, 137.58539045938682, 129.26903562636105, 111.78121321514159, 110.4040125804966, 102.26324012621694, 105.58756817529738, 99.78254734660422, 86.83786148677473, 92.75991250402284, 66.92450050043841, 65.828501730039, 53.50168540887164, 51.28445893716238, 43.54931175128457, 42.805701903529666, 40.67446746937881, 40.570699069973216, 39.68084971121244, 39.4743738555332, 38.8765991733248, 37.437155305075024, 36.90540022048651, 33.425232237933486, 33.392636058561344, 32.76874956269634, 211.74617600779632, 1106.9679430516417, 4515.112814341031, 106.33549598740748, 204.27155713345658, 109.95423946519503, 449.7513325810378, 184.45275363115303, 266.4301823782577, 1133.3329882535509, 973.0577486315179, 252.04420898326737, 331.9273211495399, 1124.8269249178402, 890.9314317251689, 426.95236207863866, 1387.6945047741108, 525.9801114499147, 562.909241926398, 144.94271205459293, 314.89979225474866, 215.59627186099334, 177.5450641867764, 1400.140213498701, 258.57911417164473, 209.39180223353017, 992.0712740391243, 343.58502363685375, 823.7941787404525, 353.4752393814376, 676.1208661548023, 505.22396840012584, 736.7532171261456, 803.8518903606093, 365.5309365077042, 553.9780297429029, 521.4393341986363, 452.38448956597597, 419.7955216394571, 475.00952474819746, 423.7749041710971, 449.93773212822015, 379.4213381723335, 5650.251291236321, 10661.741103677019, 829.2749403815742, 197.34469943192312, 159.97064959106152, 156.5850667453261, 98.53318397875461, 74.96301015864202, 73.82112167465296, 64.32438746986527, 61.725106870243266, 55.62434910208233, 55.37899459794813, 55.363468144068285, 52.861827628531444, 50.34257828765323, 42.74762157495596, 38.09270241409972, 35.55378014283493, 32.106727761748935, 27.359898082729462, 26.87170375110906, 25.75175932193684, 24.995310488910828, 23.65781456345886, 23.623281903388452, 23.45358994009264, 22.688694411715723, 21.471249940983526, 21.07023969230117, 2292.6334034025217, 80.86110203763018, 94.12378676418226, 531.5237324666415, 139.970445911917, 88.94367464543076, 170.38031492876226, 109.68818607954776, 583.8630553448809, 67.07078578660288, 573.4945016215318, 169.53561494964433, 71.2814261250969, 1022.3391730541821, 883.6889871817091, 225.03316467837456, 128.7217918946039, 171.26180347036728, 647.4183475328149, 164.20140734273946, 114.54628563363673, 226.6789444344163, 666.7953132644169, 432.2286136411567, 280.05660348247426, 287.18386687147796, 238.51465671732905, 266.08067608632024, 281.03400288741864, 291.3345081211359, 209.73470002954085, 219.72345842457264, 260.9127415784549, 204.18751818584806, 203.79375513784433, 194.1489655399028, 193.52243963742114, 183.9809040021833, 186.97962850528745, 2031.8622575917345, 451.6319610679094, 290.69522424960144, 208.22043715163804, 169.55597615767135, 161.33165104869195, 114.85919780809564, 104.40923222396962, 101.08736349328224, 71.37419626226871, 69.9065009138441, 65.2706438585021, 63.26216683319454, 62.985257929175745, 62.4075693839529, 59.962587798614166, 55.930014255384464, 55.18571381147744, 52.092678403644456, 51.599542742048065, 50.113179176514556, 48.60923324095232, 48.48962002564151, 47.66063842496395, 46.47518873997133, 62.92632387720975, 43.66142186538902, 41.82415667337446, 477.1124725156921, 40.836056712104366, 290.66911619013564, 200.724178476098, 153.86836155427807, 540.2993221316343, 437.9733889562265, 165.53901017467078, 84.15423455940456, 445.538044065431, 119.05826392615455, 163.55213673330417, 834.6696972493106, 1134.4263034504536, 407.20826261986326, 193.57661990191494, 1835.181224752416, 154.23567617700922, 195.26406206163855, 122.40356786195657, 289.6276337192517, 98.69189534156021, 485.0750010868837, 199.7528942290885, 1195.532908708521, 517.6916995454715, 379.34005696950936, 441.16148371311533, 350.1684291218578, 587.4915726625211, 291.3695472187657, 257.4584474463154, 234.15850785366, 372.98255357141875, 339.67434950855215, 358.17637235224817, 249.06740304718235, 236.4793806974522, 269.0715223066887, 268.80313909210696, 276.1096251087146, 283.7179050192935, 272.46344607262455, 763.635963968146, 561.4480584474326, 205.5508672529008, 174.3879524528894, 168.086232736155, 146.866721590023, 128.75669128296767, 123.13644295416042, 116.72446724987246, 84.51740645191664, 83.70509964665045, 82.4262028437366, 78.68975665930182, 76.85016258661616, 71.22285813879715, 59.87344846791839, 59.60299326043002, 57.47787404745241, 56.56072718373374, 56.516001736705974, 55.62350725758456, 55.163775235201065, 53.969617908344254, 49.720342681162094, 49.55570724287824, 49.70980803858135, 45.95033039548453, 45.70754651274784, 45.67686175183474, 44.482412713349525, 255.91592565681017, 491.0951394244883, 103.53448929954901, 481.0243733728459, 255.15423907506286, 320.49931705310235, 124.10204146816034, 218.12914243042434, 537.579442451787, 198.2881503603052, 100.42261972751515, 562.2531825418482, 582.2358473915016, 387.9438381168262, 142.79497765669768, 360.32656257630356, 248.2280583297803, 246.2546126515977, 407.63747728664663, 743.8210608247942, 317.0057125433306, 806.9486901074674, 682.1177328318156, 637.5940842029933, 484.87087189709365, 213.72350426642063, 383.4000937607451, 364.10419514027427, 398.95402569181334, 332.199705348897, 340.899646906725, 272.1790580924836, 265.10807829964915, 262.6925959365424, 238.99242414232904, 246.12815290868483, 1148.23886900364, 1033.5892809416778, 635.9379629432087, 628.1887887637376, 420.67623829973877, 4473.5092600934995, 281.34658151042305, 264.7882561981764, 257.610492096614, 192.48752137056692, 174.8508512036562, 171.9514248969068, 162.6290340685204, 154.9735758597928, 149.46493179871655, 145.26091269878037, 133.4647740902518, 119.79039157654478, 114.84882564232686, 114.57945120102036, 110.80843419840284, 93.0416553828649, 85.0822797122644, 82.63716677192431, 82.09515284204686, 81.01721008679961, 79.1175959379493, 248.23608568766963, 74.26328557717822, 74.24719623918044, 371.61067351645846, 664.4222996142867, 122.44342208332677, 133.8307381728006, 865.5100090927035, 243.15183343506683, 258.13890434355227, 217.32289697666727, 397.9919551790846, 1089.1404198064545, 1820.7169677286774, 720.1209821584033, 270.11955833246463, 208.67630123479242, 382.6746909521694, 259.39060229878964, 232.40557104249248, 317.90546048640016, 228.277071574358, 202.60290586214973, 368.4471912033555, 235.3579029098424, 243.2644641623769, 237.04178804091367, 233.6447449412277, 3074.8305620691312, 1167.2583851713753, 533.6080152554978, 306.5430343887402, 270.89807305881544, 236.08541759041142, 197.02129190877017, 188.38948973999157, 262.2344981093008, 101.46927712897772, 94.3658145710228, 88.39638452921517, 87.0489186043928, 80.16486529545261, 77.98792158169826, 52.335069434389716, 41.4620812188773, 38.13380866096919, 33.723179440825035, 32.444966455851315, 29.726809572403578, 29.650138065329408, 22.27246927796104, 21.75841585175933, 21.448481638641535, 19.828555511830075, 19.579607249558784, 19.563015890371535, 19.356998999594023, 108.73145603899958, 210.74137867382498, 341.9941128987554, 269.5605340786451, 3392.084368069156, 145.16854000774944, 137.93747809351552, 360.8714728366279, 161.48720741894755, 254.42859150417513, 158.30445354102562, 909.2603234053762, 251.4736901064749, 324.3153638997956, 404.91894112822365, 276.8396814241994, 274.0642847614212, 257.82660679131504, 165.98664631568985, 271.71132836759347, 274.4498699162877, 388.7479073034694, 401.4431497462376, 468.5725431705294, 355.0599066264547, 259.16553931450005, 242.14790351635622, 250.65013897401147, 232.3814130464822, 221.29331917067705, 1283.6954522125493, 581.1545229892984, 254.0012688696775, 223.63934699846632, 211.3574005424773, 174.17564647861204, 1422.9454863959925, 101.13885736867596, 97.66378336608578, 90.49089607153087, 80.63441021928635, 79.96722421506915, 67.17077178441848, 64.7069244102075, 90.6106352790154, 966.033396956547, 59.51296219671594, 57.425247130731584, 50.48303157933253, 47.62250777314522, 47.59805833113821, 46.62837855643915, 44.67627118836269, 42.74798626165561, 38.94862394641936, 37.80183261446169, 34.452839482948136, 32.39297041099639, 31.935252779800596, 28.633712847973722, 109.49573683873467, 3420.782253846089, 183.50938577638595, 670.5185806805915, 261.686447930928, 109.14570567133765, 668.2084666970073, 376.599169318531, 251.51527941580602, 94.63828673498449, 63.91637334338985, 92.91575475466324, 626.8900562206047, 237.23568743114424, 123.70130691954753, 135.28323403507193, 472.1559009189677, 221.75507751652128, 111.32595528285471, 103.95518658706189, 136.5806739145192, 171.06119457990374, 145.19169286588527, 304.69066606459035, 152.79790567540155, 137.9396530108352, 178.79332344890048, 140.515314304471, 141.68539064868006, 167.02394105702686, 175.0649125258191, 142.78097215141642, 302.65436593385846, 246.18546031274627, 165.18473833029225, 156.7831113379339, 87.45976386953944, 77.09123312105957, 63.50290360398985, 54.03927801657019, 51.833275117573166, 49.052674354539924, 47.327145393842585, 44.80900811862593, 44.24805829722966, 43.29946941621368, 43.04541850201229, 41.15423965373107, 39.75752927284203, 36.69792176204524, 35.25492607648033, 33.739241644023885, 33.50134639475472, 33.078312863107925, 32.833523120697926, 30.276370883657492, 28.448766426769872, 28.14880605760386, 27.8406092943748, 24.324633612501366, 24.040460399370996, 20.763917133359243, 1010.5712669951312, 160.95451459420735, 1995.514469728921, 371.35126002336693, 244.6624703015273, 173.78825534411192, 1343.3657964645536, 304.9398845373928, 183.14425871577444, 139.8562732700351, 494.75286817057076, 110.61689229401111, 150.57234754839104, 267.184841417555, 185.3694534406524, 257.1719232224397, 82.18171224703792, 123.7012308388949, 193.6776935250674, 109.96898611832495, 476.26092143318556, 157.91228132357853, 284.0881184066795, 215.76019128058857, 95.40168555647085, 247.07638856266917, 279.7869412922917, 236.65341833257472, 147.0745844277212, 178.6626737399843, 234.7360210306076, 267.56468453199204, 195.47679213041704, 183.70960715332274, 171.19227313377746], \"Total\": [10665.0, 9792.0, 11391.0, 7766.0, 7612.0, 8467.0, 15416.0, 10576.0, 7117.0, 7654.0, 5651.0, 14080.0, 6339.0, 5412.0, 4483.0, 13369.0, 6084.0, 4581.0, 4044.0, 5042.0, 5572.0, 3075.0, 5737.0, 2188.0, 2985.0, 2434.0, 4245.0, 3345.0, 2032.0, 4971.0, 264.2582487510321, 134.2059101362271, 102.02033732678773, 93.74540811701559, 105.52933159760332, 84.16864273049669, 165.6134765412272, 77.102288363862, 69.54853543268825, 68.68664384245925, 68.26100962537546, 67.61897517553803, 63.11245629505249, 61.354167464245194, 61.073922209504545, 60.7104330305097, 60.05198430172537, 55.208220123651536, 52.49062069254955, 50.279494623526716, 73.87531402260934, 49.637126467080805, 50.297196243085324, 46.36041364235363, 43.09484659480296, 71.30546484480038, 41.670806146355865, 41.63755579181075, 41.39614857535823, 40.416376832616635, 15416.317326829949, 581.6169060631914, 116.60787875188988, 46.93705225371208, 302.7450849334494, 3565.1090122340847, 1247.7318055096766, 637.2980779449474, 428.1754683853541, 127.56000933338467, 1007.0086490953823, 698.4737152481213, 1585.7457899786334, 489.02464181047395, 1391.009633820258, 251.64500184886586, 2422.326039102765, 183.55855271158973, 260.7404795287729, 1856.6129060852063, 873.9865248644621, 580.5433077675802, 137.58898558934817, 3226.165735144562, 1363.8544146112042, 1781.4454880981211, 323.9784686686936, 8998.309539234868, 520.245529995093, 3958.019366687575, 633.1379874757611, 1808.5726183018323, 1004.1773836443181, 1259.2121087712012, 1301.7241168831717, 812.966631648725, 2495.4364607926764, 1875.75434181208, 4995.268750850383, 9951.39480140851, 8351.460974808631, 3058.971333452142, 4971.700066545791, 2191.673145914605, 6768.794999776216, 3448.590603398115, 3338.2443567134987, 6022.794307263146, 4197.454892931845, 4531.99910300012, 5660.529263005197, 3406.267760291001, 3345.425032503885, 9372.84480108163, 4624.1184331521445, 3777.054444965468, 6391.73788222494, 7696.319629231742, 3865.273696878864, 8467.610063933185, 9792.891312718537, 125.41959931501323, 120.26856339420367, 111.27838337033738, 89.7992902705984, 75.53870520526614, 68.63391009738955, 61.92775463904277, 5572.110065684581, 55.24659587070772, 54.476001672813396, 51.71779739781001, 47.472372267185996, 47.18297465047744, 47.04674518863001, 42.20884884436952, 40.30280869658534, 38.48662885064452, 38.36163526731125, 38.32900256702756, 36.93042817374513, 36.00282388682357, 34.21353157603551, 32.47521918530484, 30.0685663189323, 30.060248985620046, 29.68757976811227, 28.758904413579184, 28.51779980573546, 186.06664809220487, 10576.975245341946, 185.67249331859648, 1254.1565552600325, 62.99595947992501, 4245.379350871957, 72.38536924366073, 614.196183964722, 147.62260262050572, 230.47125466519876, 140.27949280584505, 1225.0009753369964, 4880.153793035554, 665.5554028613407, 467.2776099514812, 127.4932184189301, 6515.757114200638, 170.7474468019539, 369.0682962473339, 3522.6477212960813, 123.63902592020581, 4486.365517222467, 4624.141169585174, 1643.3851907236763, 1098.9242196225155, 14080.788724280934, 994.0251585486955, 8998.309539234868, 2635.3944489161217, 375.97885828026716, 5778.383807877678, 7696.319629231742, 884.301232370691, 6022.794307263146, 8351.460974808631, 3573.869256403377, 6768.794999776216, 2681.918774819522, 2045.7436893953663, 6391.73788222494, 4624.1184331521445, 3660.554919312299, 7273.1803922199115, 6223.868162173846, 11391.08358250396, 5660.529263005197, 1252.8231766080942, 531.4207389436343, 510.46401260737844, 466.3181099924397, 310.62295958335454, 220.50487597087798, 165.2902902527652, 154.29098241001395, 150.917109201073, 152.71943449964724, 129.06466408746024, 128.85296149271778, 125.27030759713111, 119.46524339362871, 117.38873797034616, 151.3602132869479, 114.84714245967115, 117.91145108771907, 104.71548929278785, 102.85719704817934, 102.08503007276224, 100.39974602831869, 98.3605033558539, 95.23326896360453, 93.83907467050294, 88.59419493136804, 86.8672230788903, 84.41405867022796, 84.21948792312185, 83.08085745896925, 677.5885410016278, 122.06741321974486, 195.43125760415788, 578.2316207555667, 964.2907691143565, 505.33662831971316, 865.5369485278629, 507.92311572064926, 291.63926301202497, 241.8496816056305, 453.03630326427333, 516.3253169315614, 452.26808000618865, 258.7455919846079, 406.0207832876332, 701.4434523453521, 746.8792022328556, 13369.528502342695, 217.85029012441743, 5737.989228218201, 9951.39480140851, 491.5794230461537, 3921.341637895237, 532.0728362913843, 447.5197314903843, 3345.425032503885, 764.1475513532287, 3174.9752548999895, 1090.7225866479223, 6391.73788222494, 5020.42360945743, 2832.8945328390037, 8351.460974808631, 4306.759486533811, 7273.1803922199115, 3462.403609783804, 4267.550890775515, 8998.309539234868, 9372.84480108163, 4531.99910300012, 5660.529263005197, 414.563102777776, 249.46228635507148, 628.7073019948193, 137.16196861687965, 105.35572383307564, 104.54587875798182, 103.98351838146723, 103.52954857531618, 100.18988125501095, 112.65896064103902, 80.29473619528297, 114.3282982793315, 73.4210871531628, 73.38538836961317, 71.78445962438084, 68.91280201916317, 67.57656531661868, 63.68535926897664, 54.561687902909306, 54.19779567261567, 53.405260524392034, 51.35025419005155, 51.15789560641563, 81.41115327427555, 49.57907007259221, 48.6449581903608, 474.3363269281957, 45.55697776695589, 44.81507639232117, 44.77568381254222, 327.6709309866364, 126.0006334191138, 563.5895454168985, 76.00748790455646, 784.0823991405667, 1577.0956763962502, 266.049315459249, 3833.3602726223785, 710.6555671610771, 2041.2860896186924, 13369.528502342695, 852.234383348072, 1830.0203483709297, 6223.868162173846, 9372.84480108163, 7273.1803922199115, 897.7218861116916, 2506.939296822329, 4971.700066545791, 2299.2619481682227, 1153.8149929600193, 1414.8915333228567, 5778.383807877678, 3573.869256403377, 5737.989228218201, 2365.463612743691, 1456.8383183158842, 4624.1184331521445, 3653.7864849153734, 3345.425032503885, 3681.1002099595594, 2832.173536179346, 7696.319629231742, 6768.794999776216, 7612.86227045134, 687.8742723070806, 524.6966675388544, 495.0477015928396, 465.0651823684019, 411.63933259305, 361.9314616723919, 353.9204693404607, 242.29315442428867, 227.91500001582057, 191.83035912071148, 184.717077616902, 182.64295000898346, 142.94974163168453, 140.39879498652812, 330.8885331643744, 51.06438331850974, 50.98398721868775, 64.69089117980405, 50.14080905047755, 46.16797575218742, 893.9785205646762, 36.41799696847794, 32.54306972968669, 65.27479112665632, 529.8567614691756, 30.691185875393444, 30.156960498999048, 28.393454506966734, 28.10465021313819, 1747.4924899927948, 6084.420410722279, 569.7857630591391, 996.760921398751, 247.44180149484487, 333.3922267322338, 324.5610911308322, 338.37936699510817, 233.07143872684236, 180.7822184157516, 530.0761677298706, 200.7213205782236, 1157.0697913046458, 5737.989228218201, 2136.5272820942473, 924.0348769504236, 7696.319629231742, 3624.4825782635826, 825.5690155956975, 523.1096166786078, 5778.383807877678, 13369.528502342695, 3073.896896266535, 2329.5377990931947, 4044.0237996393885, 2056.3160597372193, 2832.173536179346, 5020.42360945743, 3921.341637895237, 3653.7864849153734, 8351.460974808631, 6391.73788222494, 6223.868162173846, 7766.770669743983, 6339.204388686242, 300.77710936177175, 259.6825781427993, 102.16806155985611, 88.38475913384816, 74.91150919687226, 72.0829282957282, 104.63362114733332, 57.039282788485444, 55.159658894578286, 54.87703197170192, 46.70255380003806, 44.38148069548523, 42.24254678261408, 41.126160000446, 36.627768730823625, 36.06295346080797, 33.573330490037165, 32.90472700059871, 32.733098143550976, 30.74311243638111, 30.552856346501372, 30.16741269555349, 29.844501275421926, 29.080768535944618, 29.041349441999497, 26.660153849391232, 26.494875847734242, 26.259013809519455, 43.466225161920484, 295.419327693417, 539.2545598857932, 11391.08358250396, 445.5433571660188, 1785.6202224332114, 920.6517200669579, 1163.1009188206053, 48.09662257570336, 68.61310668885997, 607.1621653596221, 14080.788724280934, 58.23309222935545, 4245.379350871957, 794.1285689419711, 2495.4364607926764, 4880.153793035554, 1008.5972354972879, 2635.3944489161217, 6515.757114200638, 215.4486517788294, 10576.975245341946, 1206.7832118330195, 667.643632235111, 3573.869256403377, 1643.3851907236763, 5778.383807877678, 4624.141169585174, 3073.896896266535, 3097.916494791498, 2056.3160597372193, 6768.794999776216, 6391.73788222494, 6022.794307263146, 7273.1803922199115, 7696.319629231742, 5412.959229509487, 846.178589803084, 666.4833332308256, 447.71847657112994, 300.62924951054214, 284.657298785354, 268.60271802576136, 228.28978793833002, 206.03430713216318, 189.96165098484698, 210.17985050961016, 172.28507467149194, 159.45864378089482, 143.74232038813008, 134.04506439272387, 120.2341136903562, 116.31345323287789, 111.78611939511431, 99.43332951509772, 99.30755802874951, 96.5906021838585, 94.45842583798299, 89.56761852847163, 79.10553900278228, 76.93700691018046, 66.33994708005845, 64.85422342344845, 61.93129672819796, 61.21161828980775, 53.205069114648126, 349.36789176142867, 368.35734027905113, 140.9094739675756, 148.91767598025388, 664.3519634706179, 328.361498342532, 189.71392187852916, 182.1288695847923, 14080.788724280934, 849.4337723480286, 1097.9243064026946, 549.7470277177713, 3653.7864849153734, 1008.5972354972879, 3226.165735144562, 1563.511952958925, 9372.84480108163, 3522.6477212960813, 2128.9234261518304, 4486.365517222467, 2681.918774819522, 1163.1009188206053, 849.4238829177003, 3559.9526475377033, 8351.460974808631, 9951.39480140851, 6391.73788222494, 1098.9242196225155, 7696.319629231742, 3097.916494791498, 6768.794999776216, 8998.309539234868, 109.37691925716007, 86.44931337496715, 85.04681181647778, 80.20768723576508, 66.98382349325342, 60.750386516893116, 60.38004355087148, 51.249441490712464, 49.197827776926076, 48.53843070249559, 43.14721054983022, 41.31362872860981, 37.720895526220566, 37.434698894731774, 36.89683830404208, 35.90681106658954, 35.47886084534965, 34.48811398549084, 34.318401177825095, 33.72174677335145, 33.12257137154489, 32.466947241057674, 32.18638901564481, 32.004372604488076, 30.850836775138816, 30.208148352683818, 29.985495782533043, 29.903430011430267, 27.880106001979343, 27.864758785762174, 7117.382897826355, 115.26557940308822, 7654.500872123587, 294.91220929295804, 483.80596315204855, 333.3017866732076, 339.3972052482154, 111.16252900781672, 66.34150961365769, 248.22643851190014, 1442.3920255874511, 1574.5950270391065, 54.90761925059389, 2635.3944489161217, 64.25494987980234, 564.1282124836588, 123.54575783018855, 6515.757114200638, 4624.141169585174, 484.3157814753596, 1065.4028340648988, 4880.153793035554, 2329.5377990931947, 1255.9811668863408, 11391.08358250396, 1450.114395032782, 934.4128864462853, 1477.3500038052362, 289.5126995158481, 1531.8235864101216, 14080.788724280934, 2732.6879985346745, 4486.365517222467, 3573.869256403377, 3522.6477212960813, 2734.523096291334, 3073.896896266535, 3865.273696878864, 3653.7864849153734, 8351.460974808631, 5660.529263005197, 3462.403609783804, 9951.39480140851, 3209.206444834702, 944.7136931237216, 1250.7692635764129, 374.2148517137202, 302.28901409068055, 146.0398236798839, 138.5182481813906, 130.20191970356873, 112.71407097479774, 111.33687210261856, 103.19609833550498, 106.56037291811921, 100.71540510996404, 87.77072032950315, 93.96225837389473, 67.85735854167798, 66.7613609771181, 54.43454450419783, 52.2173165680171, 44.48217337367626, 43.73855998153997, 41.60732602963045, 41.50748074933652, 40.61370787812312, 40.40731656960153, 39.80945724616975, 38.3700129497513, 37.838258109364126, 34.35809339724349, 34.32549389455332, 33.70160903495893, 221.26499016416207, 1191.070306186158, 5042.680158467294, 114.58975494595559, 228.79014485670874, 119.43563539292346, 550.0495233397855, 210.96888648121433, 321.9039684433423, 1591.3376540045122, 1392.9607649680956, 314.78475017673827, 436.41921021945285, 1776.6352968367203, 1456.8383183158842, 610.9808954110472, 2506.939296822329, 796.4288214928721, 948.8068365042241, 170.81499388490653, 511.5685156982318, 299.69764340274406, 229.64976860083357, 5020.42360945743, 406.52520338978445, 302.72110392393796, 3624.4825782635826, 690.5272186083298, 3073.896896266535, 849.4337723480286, 3438.015603984542, 1968.0033769457084, 4971.700066545791, 6223.868162173846, 1062.6013206633152, 4306.759486533811, 3676.0114418169837, 2452.457535339258, 2016.4037317249417, 4624.1184331521445, 3209.206444834702, 6515.757114200638, 3559.9526475377033, 5651.18633395156, 10665.854715104864, 830.2086653904661, 198.27852782549476, 160.90437454172857, 157.52137238096395, 99.46692909657443, 75.9049635862696, 74.75484674377, 65.25811255653579, 62.65883334433414, 56.5580745363237, 56.312720640112886, 56.29813705918532, 53.7955527126865, 51.27630549897751, 43.68141503763065, 39.02642817887261, 36.48750550941302, 33.04045360831271, 28.293625658262076, 27.805430861620426, 26.68548560535445, 25.929036424070368, 24.59154067221917, 24.557008673030676, 24.3873148235685, 23.622419298366346, 22.404979000832444, 22.003964902921435, 2434.0599257995386, 85.70786128439762, 100.75132047154001, 610.3680262659807, 167.13390225401923, 102.96821496819854, 210.41602787375166, 133.43474041511618, 858.4780943873538, 83.49639779625129, 1300.4456613544603, 321.62416957648344, 97.05312733018269, 7696.319629231742, 7654.500872123587, 741.0762844849035, 288.89879496928614, 511.5685156982318, 7273.1803922199115, 500.93629555589735, 254.8697231021356, 1092.331315415385, 14080.788724280934, 5778.383807877678, 2985.019045199113, 3653.7864849153734, 2329.5377990931947, 3865.273696878864, 4880.153793035554, 8998.309539234868, 2734.523096291334, 3448.590603398115, 9372.84480108163, 3660.554919312299, 4306.759486533811, 2832.173536179346, 8351.460974808631, 3777.054444965468, 6768.794999776216, 2032.7855341887848, 452.5887910258995, 291.61959644402344, 209.14371396088274, 170.48018227178693, 162.25492772381563, 115.78494987258671, 105.33251327052908, 102.01064141771029, 72.2975249814817, 70.82977748133739, 66.19392076388938, 64.18544421080938, 63.90853447836786, 63.33084696554654, 60.88586471682333, 56.85329210268262, 56.10899084926686, 53.01595537606042, 52.52281964423517, 51.03645590878967, 49.532620525195505, 49.412900336888406, 48.58391533986074, 47.39846532089699, 64.18815788110255, 44.584699417238504, 42.74743317635467, 488.15898112794014, 41.782826988448676, 299.19370565122557, 207.22606197075308, 165.4893773943303, 621.2474058006542, 508.0705615904658, 182.6060264369899, 89.6028470946241, 549.061298563438, 134.03046719676374, 194.23051449066537, 1246.843438711891, 1845.8650125155175, 595.3716226365461, 246.5205780634432, 4267.550890775515, 202.95373289535846, 284.908815632759, 157.48020943720698, 586.54226245426, 119.39710599643979, 1449.400060596624, 368.42500140371504, 9951.39480140851, 2238.3963700658705, 1284.7411684608662, 2219.874738772248, 1467.646821607693, 5020.42360945743, 961.6297459376397, 789.7677259673582, 631.8637054567525, 3681.1002099595594, 2734.523096291334, 3958.019366687575, 924.0348769504236, 969.9593596213704, 2732.6879985346745, 2985.019045199113, 4486.365517222467, 6391.73788222494, 4995.268750850383, 764.5609629911876, 562.8247494198641, 206.47586705199177, 175.3129646913276, 169.01123784287412, 147.79172012139426, 129.68169005097153, 124.06144217401905, 117.64946582756284, 85.44240568587595, 84.63009837213998, 83.35120136670704, 79.61475645855445, 77.77516206532168, 72.14785681598539, 60.798447268759475, 60.52799180563165, 58.40287577714935, 57.48572566712161, 57.44100080834606, 56.54850605426483, 56.0887747107275, 54.894617373974526, 50.64534137769794, 50.480706555049736, 50.64289343697078, 46.87532976646262, 46.63254495796959, 46.60186383868444, 45.407413094832904, 262.5470962422029, 520.9326424055184, 106.75714132126907, 519.1362230133789, 281.4774753131057, 379.2103520665905, 135.95331603573575, 261.3939127275424, 736.0756623089098, 237.62224796050717, 115.7209981338799, 948.8942046668533, 994.0251585486955, 611.9595916941678, 180.95686729967784, 597.8897078520151, 372.766060394439, 515.0639519206597, 1203.5407073690897, 4306.759486533811, 984.9554066528227, 6022.794307263146, 6391.73788222494, 5778.383807877678, 4267.550890775515, 559.4168368002986, 4624.141169585174, 4486.365517222467, 8351.460974808631, 4531.99910300012, 5660.529263005197, 3573.869256403377, 3209.206444834702, 8998.309539234868, 3058.971333452142, 13369.528502342695, 1149.171859606299, 1034.522264420813, 636.8709461616619, 629.1642027865009, 421.6092332815889, 4483.7306891187545, 282.27956480337065, 265.72124038883965, 258.5434753809719, 193.42050459688465, 175.78383441757913, 172.88440845313886, 163.56201732934696, 155.90655911869104, 150.39791511422553, 146.19389600067404, 134.3977578104299, 120.72337489035432, 115.78180910130789, 115.51243445320911, 111.74141757351843, 93.97463864853441, 86.01526402362951, 83.5701501104616, 83.02813600821842, 81.95019346184989, 80.05057926695713, 251.1791132243538, 75.19626915233873, 75.1802078879061, 382.5409244447917, 716.485991522363, 126.29130348022213, 138.75006569016523, 1018.8529302944116, 270.17157847294015, 294.57511574533936, 243.6572055938376, 482.7935593682793, 1676.6753445682214, 3345.1830171302086, 1106.3929454642407, 371.08874531538464, 268.7276451599014, 894.9101085089956, 473.07423143849496, 390.35584712782736, 1363.8544146112042, 555.7839086331868, 375.6151409169291, 9951.39480140851, 2452.457535339258, 6391.73788222494, 4531.99910300012, 3676.0114418169837, 3075.763399329087, 1168.1912223661202, 534.5408530879854, 307.47587161290403, 271.83091051587076, 237.01825501565025, 197.9541298513421, 189.32232698022682, 263.67258788079585, 102.40261511019425, 95.29865179149925, 89.32922241594298, 87.98175590039322, 81.09770311749132, 78.92075891689437, 53.26790684411424, 42.395905913681695, 39.066645925722945, 34.65601721608496, 33.37780512229862, 30.659646822867245, 30.582976545651277, 23.205308405123542, 22.69125431124789, 22.381327859805555, 20.76139267353385, 20.512444943611992, 20.495853492293065, 20.289836304124513, 114.03280174385107, 221.87147760323788, 363.3654250498646, 291.5217732816115, 4044.0237996393885, 162.61975067410356, 159.10712998010104, 453.4868853796611, 200.1392815922795, 339.5342636839377, 201.34694833061545, 1495.7189853303767, 343.06622044655035, 499.1221525820632, 705.5203565742594, 457.47307203690355, 455.83118646600076, 435.7252729244666, 233.6519285031414, 601.5498543620055, 667.2888576497866, 1392.9607649680956, 1793.5344543752733, 6223.868162173846, 3624.4825782635826, 2016.4037317249417, 1776.6352968367203, 6515.757114200638, 4624.1184331521445, 3660.554919312299, 1284.6263078887353, 582.0881839294118, 254.9321562577012, 224.57020220984307, 212.28825541035204, 175.10866792373702, 1432.1304138778382, 102.06971252330482, 98.59463837144646, 91.4217510478514, 81.56526602392287, 80.89807908086472, 68.10570301083473, 65.63788281517166, 91.99729813261838, 980.8613385019511, 60.44381922680945, 58.35610293111519, 51.413886730378266, 48.55336282564749, 48.528914356014624, 47.559233677222615, 45.60712849821994, 43.67884133457382, 39.879478987315146, 38.732687936524464, 35.38369486327965, 33.32382545608091, 32.866109019133816, 29.56456787224055, 116.38167442503476, 4581.431608301409, 208.1937924952006, 843.3051023140353, 336.83898601957065, 126.97242618783804, 1092.331315415385, 583.5179542592056, 361.5232174683041, 122.01567252767246, 72.1371175640277, 120.61389683901557, 1747.5883120306153, 472.9911456469264, 183.91761143559802, 220.92732585771557, 2136.5272820942473, 571.5522376825862, 173.21218395304692, 152.0346485005714, 302.66374991665487, 771.2464697611093, 465.4378577587158, 6022.794307263146, 621.0876974606367, 764.4778612326156, 4624.1184331521445, 865.5369485278629, 961.6297459376397, 5020.42360945743, 9372.84480108163, 1343.5076464646872, 303.5815239571692, 247.11258777452758, 166.11186125871873, 157.71023461557934, 88.3868870262624, 78.01835699047524, 64.43002698197715, 54.966400803567296, 52.76039809264501, 49.9797975723342, 48.25426919262311, 45.736131147039806, 45.17518202676273, 44.226592807372484, 43.97254404522444, 42.08136526706305, 40.68465291592435, 37.6250445429233, 36.182851560530295, 34.66636472338452, 34.42847123935049, 34.00543634921526, 33.76064659508093, 31.20349414051813, 29.37588991905887, 29.07592941424433, 28.767733968829884, 25.251759438857317, 24.96758399333499, 21.691056708761224, 1075.802185202159, 168.40907555991498, 2188.30669699258, 443.8682548610715, 328.363263202309, 244.30167896621288, 2985.019045199113, 514.2257706574034, 275.5806437020712, 197.7582362607378, 979.0122768726087, 150.7596383596066, 225.7248454494591, 480.0173611008193, 303.358783217691, 488.72582538932045, 107.98538004545985, 201.77079216650367, 427.3689301963166, 179.20936107499537, 2023.5638027856166, 343.94290205008207, 948.8942046668533, 701.4434523453521, 148.33634156697786, 1284.7411684608662, 1808.5726183018323, 1387.4857725513996, 438.00705824136116, 825.5690155956975, 2247.8112368080488, 3958.019366687575, 2452.457535339258, 1995.6594022609343, 1329.3156082647001], \"Category\": [\"Default\", \"Default\", \"Default\", \"Default\", \"Default\", \"Default\", \"Default\", \"Default\", \"Default\", \"Default\", \"Default\", \"Default\", \"Default\", \"Default\", \"Default\", \"Default\", \"Default\", \"Default\", \"Default\", \"Default\", \"Default\", \"Default\", \"Default\", \"Default\", \"Default\", \"Default\", \"Default\", \"Default\", \"Default\", \"Default\", \"Topic1\", \"Topic1\", \"Topic1\", \"Topic1\", \"Topic1\", \"Topic1\", \"Topic1\", \"Topic1\", \"Topic1\", \"Topic1\", \"Topic1\", \"Topic1\", \"Topic1\", \"Topic1\", \"Topic1\", \"Topic1\", \"Topic1\", \"Topic1\", \"Topic1\", \"Topic1\", \"Topic1\", \"Topic1\", \"Topic1\", \"Topic1\", \"Topic1\", \"Topic1\", \"Topic1\", \"Topic1\", \"Topic1\", \"Topic1\", \"Topic1\", \"Topic1\", \"Topic1\", \"Topic1\", \"Topic1\", \"Topic1\", \"Topic1\", \"Topic1\", \"Topic1\", \"Topic1\", \"Topic1\", \"Topic1\", \"Topic1\", \"Topic1\", \"Topic1\", \"Topic1\", \"Topic1\", \"Topic1\", \"Topic1\", \"Topic1\", \"Topic1\", \"Topic1\", \"Topic1\", \"Topic1\", \"Topic1\", \"Topic1\", \"Topic1\", \"Topic1\", \"Topic1\", \"Topic1\", \"Topic1\", \"Topic1\", \"Topic1\", \"Topic1\", \"Topic1\", \"Topic1\", \"Topic1\", \"Topic1\", \"Topic1\", \"Topic1\", \"Topic1\", \"Topic1\", \"Topic1\", \"Topic1\", \"Topic1\", \"Topic1\", \"Topic1\", \"Topic1\", \"Topic1\", \"Topic1\", \"Topic1\", \"Topic1\", \"Topic1\", \"Topic1\", \"Topic1\", \"Topic1\", \"Topic1\", \"Topic1\", \"Topic1\", \"Topic2\", \"Topic2\", \"Topic2\", \"Topic2\", \"Topic2\", \"Topic2\", \"Topic2\", \"Topic2\", \"Topic2\", \"Topic2\", \"Topic2\", \"Topic2\", \"Topic2\", \"Topic2\", \"Topic2\", \"Topic2\", \"Topic2\", \"Topic2\", \"Topic2\", \"Topic2\", \"Topic2\", \"Topic2\", \"Topic2\", \"Topic2\", \"Topic2\", \"Topic2\", \"Topic2\", \"Topic2\", \"Topic2\", \"Topic2\", \"Topic2\", \"Topic2\", \"Topic2\", \"Topic2\", \"Topic2\", \"Topic2\", \"Topic2\", \"Topic2\", \"Topic2\", \"Topic2\", \"Topic2\", \"Topic2\", \"Topic2\", \"Topic2\", \"Topic2\", \"Topic2\", \"Topic2\", \"Topic2\", \"Topic2\", \"Topic2\", \"Topic2\", \"Topic2\", \"Topic2\", \"Topic2\", \"Topic2\", \"Topic2\", \"Topic2\", \"Topic2\", \"Topic2\", \"Topic2\", \"Topic2\", \"Topic2\", \"Topic2\", \"Topic2\", \"Topic2\", \"Topic2\", \"Topic2\", \"Topic2\", \"Topic2\", \"Topic2\", \"Topic2\", \"Topic2\", \"Topic2\", \"Topic2\", \"Topic2\", \"Topic2\", \"Topic3\", \"Topic3\", \"Topic3\", \"Topic3\", \"Topic3\", \"Topic3\", \"Topic3\", \"Topic3\", \"Topic3\", \"Topic3\", \"Topic3\", \"Topic3\", \"Topic3\", \"Topic3\", \"Topic3\", \"Topic3\", \"Topic3\", \"Topic3\", \"Topic3\", \"Topic3\", \"Topic3\", \"Topic3\", \"Topic3\", \"Topic3\", \"Topic3\", \"Topic3\", \"Topic3\", \"Topic3\", \"Topic3\", \"Topic3\", \"Topic3\", \"Topic3\", \"Topic3\", \"Topic3\", \"Topic3\", \"Topic3\", \"Topic3\", \"Topic3\", \"Topic3\", \"Topic3\", \"Topic3\", \"Topic3\", \"Topic3\", \"Topic3\", \"Topic3\", \"Topic3\", \"Topic3\", \"Topic3\", \"Topic3\", \"Topic3\", \"Topic3\", \"Topic3\", \"Topic3\", \"Topic3\", \"Topic3\", \"Topic3\", \"Topic3\", \"Topic3\", \"Topic3\", \"Topic3\", \"Topic3\", \"Topic3\", \"Topic3\", \"Topic3\", \"Topic3\", \"Topic3\", \"Topic3\", \"Topic3\", \"Topic3\", \"Topic3\", \"Topic3\", \"Topic4\", \"Topic4\", \"Topic4\", \"Topic4\", \"Topic4\", \"Topic4\", \"Topic4\", \"Topic4\", \"Topic4\", \"Topic4\", \"Topic4\", \"Topic4\", \"Topic4\", \"Topic4\", \"Topic4\", \"Topic4\", \"Topic4\", \"Topic4\", \"Topic4\", \"Topic4\", \"Topic4\", \"Topic4\", \"Topic4\", \"Topic4\", \"Topic4\", \"Topic4\", \"Topic4\", \"Topic4\", \"Topic4\", \"Topic4\", \"Topic4\", \"Topic4\", \"Topic4\", \"Topic4\", \"Topic4\", \"Topic4\", \"Topic4\", \"Topic4\", \"Topic4\", \"Topic4\", \"Topic4\", \"Topic4\", \"Topic4\", \"Topic4\", \"Topic4\", \"Topic4\", \"Topic4\", \"Topic4\", \"Topic4\", \"Topic4\", \"Topic4\", \"Topic4\", \"Topic4\", \"Topic4\", \"Topic4\", \"Topic4\", \"Topic4\", \"Topic4\", \"Topic4\", \"Topic4\", \"Topic4\", \"Topic4\", \"Topic4\", \"Topic4\", \"Topic5\", \"Topic5\", \"Topic5\", \"Topic5\", \"Topic5\", \"Topic5\", \"Topic5\", \"Topic5\", \"Topic5\", \"Topic5\", \"Topic5\", \"Topic5\", \"Topic5\", \"Topic5\", \"Topic5\", \"Topic5\", \"Topic5\", \"Topic5\", \"Topic5\", \"Topic5\", \"Topic5\", \"Topic5\", \"Topic5\", \"Topic5\", \"Topic5\", \"Topic5\", \"Topic5\", \"Topic5\", \"Topic5\", \"Topic5\", \"Topic5\", \"Topic5\", \"Topic5\", \"Topic5\", \"Topic5\", \"Topic5\", \"Topic5\", \"Topic5\", \"Topic5\", \"Topic5\", \"Topic5\", \"Topic5\", \"Topic5\", \"Topic5\", \"Topic5\", \"Topic5\", \"Topic5\", \"Topic5\", \"Topic5\", \"Topic5\", \"Topic5\", \"Topic5\", \"Topic5\", \"Topic5\", \"Topic5\", \"Topic5\", \"Topic5\", \"Topic5\", \"Topic5\", \"Topic5\", \"Topic5\", \"Topic5\", \"Topic5\", \"Topic6\", \"Topic6\", \"Topic6\", \"Topic6\", \"Topic6\", \"Topic6\", \"Topic6\", \"Topic6\", \"Topic6\", \"Topic6\", \"Topic6\", \"Topic6\", \"Topic6\", \"Topic6\", \"Topic6\", \"Topic6\", \"Topic6\", \"Topic6\", \"Topic6\", \"Topic6\", \"Topic6\", \"Topic6\", \"Topic6\", \"Topic6\", \"Topic6\", \"Topic6\", \"Topic6\", \"Topic6\", \"Topic6\", \"Topic6\", \"Topic6\", \"Topic6\", \"Topic6\", \"Topic6\", \"Topic6\", \"Topic6\", \"Topic6\", \"Topic6\", \"Topic6\", \"Topic6\", \"Topic6\", \"Topic6\", \"Topic6\", \"Topic6\", \"Topic6\", \"Topic6\", \"Topic6\", \"Topic6\", \"Topic6\", \"Topic6\", \"Topic6\", \"Topic6\", \"Topic6\", \"Topic6\", \"Topic6\", \"Topic6\", \"Topic6\", \"Topic6\", \"Topic6\", \"Topic6\", \"Topic6\", \"Topic6\", \"Topic6\", \"Topic6\", \"Topic6\", \"Topic6\", \"Topic7\", \"Topic7\", \"Topic7\", \"Topic7\", \"Topic7\", \"Topic7\", \"Topic7\", \"Topic7\", \"Topic7\", \"Topic7\", \"Topic7\", \"Topic7\", \"Topic7\", \"Topic7\", \"Topic7\", \"Topic7\", \"Topic7\", \"Topic7\", \"Topic7\", \"Topic7\", \"Topic7\", \"Topic7\", \"Topic7\", \"Topic7\", \"Topic7\", \"Topic7\", \"Topic7\", \"Topic7\", \"Topic7\", \"Topic7\", \"Topic7\", \"Topic7\", \"Topic7\", \"Topic7\", \"Topic7\", \"Topic7\", \"Topic7\", \"Topic7\", \"Topic7\", \"Topic7\", \"Topic7\", \"Topic7\", \"Topic7\", \"Topic7\", \"Topic7\", \"Topic7\", \"Topic7\", \"Topic7\", \"Topic7\", \"Topic7\", \"Topic7\", \"Topic7\", \"Topic7\", \"Topic7\", \"Topic7\", \"Topic7\", \"Topic7\", \"Topic7\", \"Topic7\", \"Topic7\", \"Topic7\", \"Topic7\", \"Topic8\", \"Topic8\", \"Topic8\", \"Topic8\", \"Topic8\", \"Topic8\", \"Topic8\", \"Topic8\", \"Topic8\", \"Topic8\", \"Topic8\", \"Topic8\", \"Topic8\", \"Topic8\", \"Topic8\", \"Topic8\", \"Topic8\", \"Topic8\", \"Topic8\", \"Topic8\", \"Topic8\", \"Topic8\", \"Topic8\", \"Topic8\", \"Topic8\", \"Topic8\", \"Topic8\", \"Topic8\", \"Topic8\", \"Topic8\", \"Topic8\", \"Topic8\", \"Topic8\", \"Topic8\", \"Topic8\", \"Topic8\", \"Topic8\", \"Topic8\", \"Topic8\", \"Topic8\", \"Topic8\", \"Topic8\", \"Topic8\", \"Topic8\", \"Topic8\", \"Topic8\", \"Topic8\", \"Topic8\", \"Topic8\", \"Topic8\", \"Topic8\", \"Topic8\", \"Topic8\", \"Topic8\", \"Topic8\", \"Topic8\", \"Topic8\", \"Topic8\", \"Topic8\", \"Topic8\", \"Topic8\", \"Topic8\", \"Topic8\", \"Topic8\", \"Topic8\", \"Topic8\", \"Topic8\", \"Topic8\", \"Topic8\", \"Topic8\", \"Topic8\", \"Topic8\", \"Topic8\", \"Topic8\", \"Topic9\", \"Topic9\", \"Topic9\", \"Topic9\", \"Topic9\", \"Topic9\", \"Topic9\", \"Topic9\", \"Topic9\", \"Topic9\", \"Topic9\", \"Topic9\", \"Topic9\", \"Topic9\", \"Topic9\", \"Topic9\", \"Topic9\", \"Topic9\", \"Topic9\", \"Topic9\", \"Topic9\", \"Topic9\", \"Topic9\", \"Topic9\", \"Topic9\", \"Topic9\", \"Topic9\", \"Topic9\", \"Topic9\", \"Topic9\", \"Topic9\", \"Topic9\", \"Topic9\", \"Topic9\", \"Topic9\", \"Topic9\", \"Topic9\", \"Topic9\", \"Topic9\", \"Topic9\", \"Topic9\", \"Topic9\", \"Topic9\", \"Topic9\", \"Topic9\", \"Topic9\", \"Topic9\", \"Topic9\", \"Topic9\", \"Topic9\", \"Topic9\", \"Topic9\", \"Topic9\", \"Topic9\", \"Topic9\", \"Topic9\", \"Topic9\", \"Topic9\", \"Topic9\", \"Topic9\", \"Topic9\", \"Topic9\", \"Topic9\", \"Topic9\", \"Topic9\", \"Topic9\", \"Topic9\", \"Topic9\", \"Topic9\", \"Topic9\", \"Topic9\", \"Topic9\", \"Topic9\", \"Topic10\", \"Topic10\", \"Topic10\", \"Topic10\", \"Topic10\", \"Topic10\", \"Topic10\", \"Topic10\", \"Topic10\", \"Topic10\", \"Topic10\", \"Topic10\", \"Topic10\", \"Topic10\", \"Topic10\", \"Topic10\", \"Topic10\", \"Topic10\", \"Topic10\", \"Topic10\", \"Topic10\", \"Topic10\", \"Topic10\", \"Topic10\", \"Topic10\", \"Topic10\", \"Topic10\", \"Topic10\", \"Topic10\", \"Topic10\", \"Topic10\", \"Topic10\", \"Topic10\", \"Topic10\", \"Topic10\", \"Topic10\", \"Topic10\", \"Topic10\", \"Topic10\", \"Topic10\", \"Topic10\", \"Topic10\", \"Topic10\", \"Topic10\", \"Topic10\", \"Topic10\", \"Topic10\", \"Topic10\", \"Topic10\", \"Topic10\", \"Topic10\", \"Topic10\", \"Topic10\", \"Topic10\", \"Topic10\", \"Topic10\", \"Topic10\", \"Topic10\", \"Topic10\", \"Topic10\", \"Topic10\", \"Topic10\", \"Topic10\", \"Topic10\", \"Topic10\", \"Topic10\", \"Topic10\", \"Topic10\", \"Topic10\", \"Topic11\", \"Topic11\", \"Topic11\", \"Topic11\", \"Topic11\", \"Topic11\", \"Topic11\", \"Topic11\", \"Topic11\", \"Topic11\", \"Topic11\", \"Topic11\", \"Topic11\", \"Topic11\", \"Topic11\", \"Topic11\", \"Topic11\", \"Topic11\", \"Topic11\", \"Topic11\", \"Topic11\", \"Topic11\", \"Topic11\", \"Topic11\", \"Topic11\", \"Topic11\", \"Topic11\", \"Topic11\", \"Topic11\", \"Topic11\", \"Topic11\", \"Topic11\", \"Topic11\", \"Topic11\", \"Topic11\", \"Topic11\", \"Topic11\", \"Topic11\", \"Topic11\", \"Topic11\", \"Topic11\", \"Topic11\", \"Topic11\", \"Topic11\", \"Topic11\", \"Topic11\", \"Topic11\", \"Topic11\", \"Topic11\", \"Topic11\", \"Topic11\", \"Topic11\", \"Topic11\", \"Topic11\", \"Topic11\", \"Topic11\", \"Topic11\", \"Topic11\", \"Topic11\", \"Topic11\", \"Topic11\", \"Topic11\", \"Topic11\", \"Topic11\", \"Topic11\", \"Topic11\", \"Topic11\", \"Topic11\", \"Topic11\", \"Topic11\", \"Topic11\", \"Topic12\", \"Topic12\", \"Topic12\", \"Topic12\", \"Topic12\", \"Topic12\", \"Topic12\", \"Topic12\", \"Topic12\", \"Topic12\", \"Topic12\", \"Topic12\", \"Topic12\", \"Topic12\", \"Topic12\", \"Topic12\", \"Topic12\", \"Topic12\", \"Topic12\", \"Topic12\", \"Topic12\", \"Topic12\", \"Topic12\", \"Topic12\", \"Topic12\", \"Topic12\", \"Topic12\", \"Topic12\", \"Topic12\", \"Topic12\", \"Topic12\", \"Topic12\", \"Topic12\", \"Topic12\", \"Topic12\", \"Topic12\", \"Topic12\", \"Topic12\", \"Topic12\", \"Topic12\", \"Topic12\", \"Topic12\", \"Topic12\", \"Topic12\", \"Topic12\", \"Topic12\", \"Topic12\", \"Topic12\", \"Topic12\", \"Topic12\", \"Topic12\", \"Topic12\", \"Topic12\", \"Topic12\", \"Topic12\", \"Topic12\", \"Topic12\", \"Topic12\", \"Topic12\", \"Topic12\", \"Topic12\", \"Topic12\", \"Topic12\", \"Topic12\", \"Topic12\", \"Topic12\", \"Topic13\", \"Topic13\", \"Topic13\", \"Topic13\", \"Topic13\", \"Topic13\", \"Topic13\", \"Topic13\", \"Topic13\", \"Topic13\", \"Topic13\", \"Topic13\", \"Topic13\", \"Topic13\", \"Topic13\", \"Topic13\", \"Topic13\", \"Topic13\", \"Topic13\", \"Topic13\", \"Topic13\", \"Topic13\", \"Topic13\", \"Topic13\", \"Topic13\", \"Topic13\", \"Topic13\", \"Topic13\", \"Topic13\", \"Topic13\", \"Topic13\", \"Topic13\", \"Topic13\", \"Topic13\", \"Topic13\", \"Topic13\", \"Topic13\", \"Topic13\", \"Topic13\", \"Topic13\", \"Topic13\", \"Topic13\", \"Topic13\", \"Topic13\", \"Topic13\", \"Topic13\", \"Topic13\", \"Topic13\", \"Topic13\", \"Topic13\", \"Topic13\", \"Topic13\", \"Topic13\", \"Topic13\", \"Topic13\", \"Topic14\", \"Topic14\", \"Topic14\", \"Topic14\", \"Topic14\", \"Topic14\", \"Topic14\", \"Topic14\", \"Topic14\", \"Topic14\", \"Topic14\", \"Topic14\", \"Topic14\", \"Topic14\", \"Topic14\", \"Topic14\", \"Topic14\", \"Topic14\", \"Topic14\", \"Topic14\", \"Topic14\", \"Topic14\", \"Topic14\", \"Topic14\", \"Topic14\", \"Topic14\", \"Topic14\", \"Topic14\", \"Topic14\", \"Topic14\", \"Topic14\", \"Topic14\", \"Topic14\", \"Topic14\", \"Topic14\", \"Topic14\", \"Topic14\", \"Topic14\", \"Topic14\", \"Topic14\", \"Topic14\", \"Topic14\", \"Topic14\", \"Topic14\", \"Topic14\", \"Topic14\", \"Topic14\", \"Topic14\", \"Topic14\", \"Topic14\", \"Topic14\", \"Topic14\", \"Topic14\", \"Topic14\", \"Topic14\", \"Topic14\", \"Topic14\", \"Topic14\", \"Topic14\", \"Topic15\", \"Topic15\", \"Topic15\", \"Topic15\", \"Topic15\", \"Topic15\", \"Topic15\", \"Topic15\", \"Topic15\", \"Topic15\", \"Topic15\", \"Topic15\", \"Topic15\", \"Topic15\", \"Topic15\", \"Topic15\", \"Topic15\", \"Topic15\", \"Topic15\", \"Topic15\", \"Topic15\", \"Topic15\", \"Topic15\", \"Topic15\", \"Topic15\", \"Topic15\", \"Topic15\", \"Topic15\", \"Topic15\", \"Topic15\", \"Topic15\", \"Topic15\", \"Topic15\", \"Topic15\", \"Topic15\", \"Topic15\", \"Topic15\", \"Topic15\", \"Topic15\", \"Topic15\", \"Topic15\", \"Topic15\", \"Topic15\", \"Topic15\", \"Topic15\", \"Topic15\", \"Topic15\", \"Topic15\", \"Topic15\", \"Topic15\", \"Topic15\", \"Topic15\", \"Topic15\", \"Topic15\", \"Topic15\", \"Topic15\", \"Topic15\", \"Topic15\", \"Topic15\", \"Topic15\", \"Topic15\", \"Topic15\", \"Topic16\", \"Topic16\", \"Topic16\", \"Topic16\", \"Topic16\", \"Topic16\", \"Topic16\", \"Topic16\", \"Topic16\", \"Topic16\", \"Topic16\", \"Topic16\", \"Topic16\", \"Topic16\", \"Topic16\", \"Topic16\", \"Topic16\", \"Topic16\", \"Topic16\", \"Topic16\", \"Topic16\", \"Topic16\", \"Topic16\", \"Topic16\", \"Topic16\", \"Topic16\", \"Topic16\", \"Topic16\", \"Topic16\", \"Topic16\", \"Topic16\", \"Topic16\", \"Topic16\", \"Topic16\", \"Topic16\", \"Topic16\", \"Topic16\", \"Topic16\", \"Topic16\", \"Topic16\", \"Topic16\", \"Topic16\", \"Topic16\", \"Topic16\", \"Topic16\", \"Topic16\", \"Topic16\", \"Topic16\", \"Topic16\", \"Topic16\", \"Topic16\", \"Topic16\", \"Topic16\", \"Topic16\", \"Topic16\", \"Topic16\", \"Topic16\", \"Topic16\", \"Topic16\", \"Topic16\", \"Topic16\", \"Topic16\", \"Topic16\", \"Topic16\", \"Topic16\"], \"logprob\": [30.0, 29.0, 28.0, 27.0, 26.0, 25.0, 24.0, 23.0, 22.0, 21.0, 20.0, 19.0, 18.0, 17.0, 16.0, 15.0, 14.0, 13.0, 12.0, 11.0, 10.0, 9.0, 8.0, 7.0, 6.0, 5.0, 4.0, 3.0, 2.0, 1.0, -6.7824, -7.4633, -7.7399, -7.8251, -7.7075, -7.934, -7.2572, -8.0227, -8.1271, -8.1398, -8.1461, -8.1557, -8.2256, -8.2543, -8.2589, -8.265, -8.2761, -8.3615, -8.4129, -8.4567, -8.072, -8.4704, -8.4581, -8.54, -8.6141, -8.1108, -8.6484, -8.6492, -8.6552, -8.6797, -2.7555, -6.0253, -7.6328, -8.5312, -6.7083, -4.3168, -5.3354, -5.9912, -6.397, -7.5605, -5.5791, -5.9381, -5.1593, -6.2795, -5.3056, -6.9208, -4.7953, -7.221, -6.8927, -5.0672, -5.7691, -6.1656, -7.4969, -4.6009, -5.4057, -5.1723, -6.7176, -3.7827, -6.3078, -4.5307, -6.1387, -5.2312, -5.7443, -5.5515, -5.5585, -5.9557, -5.0744, -5.315, -4.5825, -4.0691, -4.2061, -4.9667, -4.6253, -5.2194, -4.4602, -4.9988, -5.0241, -4.7326, -4.9569, -4.9176, -4.8076, -5.0883, -5.0968, -4.6882, -5.0603, -5.1365, -5.1143, -5.1884, -5.2144, -2.6764, -2.5313, -6.8961, -6.9384, -7.0167, -7.2332, -7.4081, -7.5052, -7.6095, -3.1118, -7.7255, -7.7398, -7.7927, -7.88, -7.8862, -7.8892, -8.0, -8.0473, -8.0945, -8.0979, -8.0987, -8.1368, -8.163, -8.2153, -8.269, -8.3483, -8.3486, -8.3615, -8.3945, -8.403, -6.5456, -2.5928, -6.6259, -4.8584, -7.6587, -3.7773, -7.5304, -5.5921, -6.8945, -6.5126, -6.9604, -5.124, -3.9551, -5.7072, -6.0809, -7.1104, -4.1571, -6.9138, -6.3449, -4.7318, -7.1559, -4.6487, -4.661, -5.3949, -5.7057, -4.0615, -5.7823, -4.4364, -5.21, -6.4069, -4.8769, -4.8031, -5.9559, -5.012, -4.8729, -5.2853, -4.9857, -5.4616, -5.6206, -5.1881, -5.3228, -5.4227, -5.2591, -5.3123, -5.2031, -5.4003, -4.4995, -5.3581, -5.3984, -5.489, -5.8963, -6.2402, -6.5298, -6.5991, -6.6214, -6.6104, -6.7788, -6.7805, -6.8089, -6.8567, -6.8744, -6.6202, -6.8964, -6.8703, -6.9896, -7.0076, -7.0152, -7.032, -7.0528, -7.0854, -7.1003, -7.1584, -7.1783, -7.2072, -7.2096, -7.2233, -5.1304, -6.839, -6.3737, -5.3232, -4.8624, -5.4939, -5.0486, -5.5605, -6.0665, -6.2552, -5.7399, -5.6302, -5.7676, -6.2313, -5.8993, -5.4792, -5.4357, -3.2884, -6.3918, -4.1093, -3.7803, -5.8698, -4.6489, -5.852, -5.9684, -4.8743, -5.6903, -5.0909, -5.5906, -4.8191, -5.0566, -5.3712, -5.0876, -5.2683, -5.1373, -5.3646, -5.4403, -5.3394, -5.3987, -5.5485, -5.5528, -5.3688, -5.8782, -4.9566, -6.4794, -6.7453, -6.7531, -6.7586, -6.763, -6.7961, -6.6804, -7.0198, -6.6666, -7.1104, -7.1108, -7.1332, -7.1746, -7.1944, -7.2546, -7.4117, -7.4185, -7.4335, -7.4734, -7.4775, -7.0132, -7.5092, -7.5286, -5.2524, -7.5955, -7.6123, -7.6132, -5.6537, -6.5979, -5.1453, -7.099, -4.8627, -4.2042, -5.9341, -3.4652, -5.0465, -4.2125, -2.63, -5.042, -4.4349, -3.5491, -3.2419, -3.4726, -5.1449, -4.4403, -3.9691, -4.5984, -5.1416, -5.1257, -4.2886, -4.7002, -4.4645, -4.9637, -5.2382, -4.6839, -4.807, -4.8828, -4.9154, -5.031, -4.8534, -4.9716, -2.367, -4.7716, -5.0428, -5.1011, -5.1637, -5.2859, -5.415, -5.4374, -5.8175, -5.879, -6.0521, -6.0901, -6.1014, -6.3479, -6.366, -5.5148, -7.3893, -7.3909, -7.153, -7.4078, -7.492, -4.5293, -7.7348, -7.8505, -7.1551, -5.0615, -7.9109, -7.929, -7.9912, -8.0018, -3.8902, -2.6587, -5.0213, -4.4798, -5.8871, -5.6025, -5.6586, -5.6374, -5.9807, -6.2291, -5.3115, -6.1758, -4.6975, -3.4227, -4.3197, -5.0306, -3.7736, -4.3979, -5.2676, -5.5223, -4.3716, -4.0179, -4.7873, -4.9551, -4.8252, -5.0534, -4.9794, -4.8688, -4.9406, -5.0023, -4.8868, -5.2105, -5.2357, -2.3144, -2.5178, -5.566, -5.7137, -6.6519, -6.7982, -6.9655, -7.0045, -6.6334, -7.2421, -7.2762, -7.2814, -7.4457, -7.4978, -7.5483, -7.5757, -7.6944, -7.7103, -7.7838, -7.8045, -7.8099, -7.8745, -7.8809, -7.894, -7.9051, -7.9319, -7.9333, -8.0219, -8.0283, -8.0376, -7.5378, -5.6901, -5.1293, -2.221, -5.3663, -4.0711, -4.7427, -4.553, -7.4667, -7.1496, -5.2707, -2.6337, -7.326, -4.0396, -5.3496, -4.4984, -4.3579, -5.4229, -4.7907, -4.2609, -6.503, -4.2024, -5.5187, -5.8831, -4.9613, -5.3919, -4.8545, -5.1728, -5.3546, -5.4748, -5.6202, -5.2448, -5.2701, -5.3414, -5.3166, -5.4401, -2.5664, -4.4231, -4.6621, -5.0607, -5.46, -5.5148, -5.573, -5.7362, -5.8393, -5.9209, -5.8198, -6.019, -6.0969, -6.2013, -6.2716, -6.3811, -6.4145, -6.4546, -6.5727, -6.574, -6.602, -6.6246, -6.6783, -6.8039, -6.832, -6.9822, -7.0052, -7.052, -7.0638, -7.2064, -5.3872, -5.3506, -6.2657, -6.2603, -4.9526, -5.5756, -6.0647, -6.1202, -2.8589, -5.133, -5.0388, -5.4805, -4.3166, -5.1272, -4.5232, -5.0513, -4.1654, -4.7804, -5.0254, -4.7421, -4.9631, -5.3461, -5.4952, -5.04, -4.8627, -4.8551, -5.0449, -5.4607, -5.2394, -5.3495, -5.2766, -5.4515, -6.4522, -6.6897, -6.7063, -6.7655, -6.948, -7.0472, -7.0534, -7.2206, -7.2617, -7.2755, -7.3957, -7.4401, -7.5333, -7.5411, -7.5559, -7.5838, -7.5961, -7.6252, -7.6303, -7.6484, -7.6668, -7.6874, -7.6963, -7.7021, -7.74, -7.7617, -7.7693, -7.7722, -7.8446, -7.8451, -2.3476, -6.4521, -2.3721, -5.6004, -5.1475, -5.5204, -5.507, -6.5628, -7.0349, -5.8572, -4.3853, -4.5006, -7.2484, -4.1892, -7.1307, -5.4729, -6.6285, -3.7792, -4.0355, -5.6724, -5.2018, -4.2016, -4.733, -5.1552, -3.7611, -5.088, -5.396, -5.1613, -6.157, -5.2451, -4.0953, -5.005, -4.7996, -4.9679, -4.9992, -5.1217, -5.1034, -5.0469, -5.1218, -4.9327, -5.0617, -5.1513, -5.0761, -5.2362, -4.2125, -3.9332, -5.1401, -5.3541, -6.0849, -6.1382, -6.2005, -6.3459, -6.3583, -6.4349, -6.4029, -6.4594, -6.5984, -6.5324, -6.8589, -6.8754, -7.0827, -7.125, -7.2885, -7.3057, -7.3568, -7.3594, -7.3815, -7.3868, -7.402, -7.4398, -7.4541, -7.5531, -7.5541, -7.5729, -5.707, -4.053, -2.6472, -6.3958, -5.743, -6.3624, -4.9537, -5.845, -5.4773, -4.0295, -4.182, -5.5328, -5.2575, -4.037, -4.2701, -5.0057, -3.827, -4.7972, -4.7293, -6.0861, -5.3102, -5.689, -5.8832, -3.8181, -5.5072, -5.7182, -4.1626, -5.223, -4.3485, -5.1946, -4.546, -4.8374, -4.4602, -4.373, -5.1611, -4.7453, -4.8058, -4.9479, -5.0226, -4.8991, -5.0132, -4.9533, -5.1238, -2.2253, -1.5904, -4.1442, -5.5798, -5.7898, -5.8112, -6.2744, -6.5478, -6.5632, -6.7009, -6.7421, -6.8462, -6.8506, -6.8509, -6.8971, -6.9459, -7.1095, -7.2248, -7.2938, -7.3957, -7.5557, -7.5737, -7.6163, -7.6461, -7.7011, -7.7026, -7.7098, -7.7429, -7.7981, -7.8169, -3.1273, -6.4721, -6.3202, -4.5891, -5.9234, -6.3768, -5.7268, -6.1672, -4.4951, -6.659, -4.513, -5.7317, -6.5982, -3.9349, -4.0807, -5.4486, -6.0071, -5.7216, -4.3918, -5.7637, -6.1238, -5.4413, -4.3623, -4.7958, -5.2298, -5.2047, -5.3904, -5.281, -5.2263, -5.1903, -5.519, -5.4724, -5.3006, -5.5458, -5.5477, -5.5962, -5.5994, -5.65, -5.6338, -3.2277, -4.7316, -5.1722, -5.5059, -5.7113, -5.761, -6.1007, -6.1961, -6.2285, -6.5765, -6.5973, -6.6659, -6.6972, -6.7016, -6.7108, -6.7507, -6.8204, -6.8338, -6.8914, -6.9009, -6.9302, -6.9606, -6.9631, -6.9803, -7.0055, -6.7025, -7.068, -7.111, -4.6767, -7.1349, -5.1723, -5.5425, -5.8084, -4.5523, -4.7623, -5.7352, -6.4118, -4.7452, -6.0648, -5.7473, -4.1174, -3.8106, -4.8351, -5.5788, -3.3296, -5.806, -5.5701, -6.0371, -5.1759, -6.2525, -4.6602, -5.5474, -3.7581, -4.5951, -4.906, -4.755, -4.986, -4.4686, -5.1699, -5.2936, -5.3885, -4.9229, -5.0165, -4.9634, -5.3267, -5.3786, -5.2495, -5.2505, -5.2237, -5.1965, -5.237, -4.1257, -4.4333, -5.4381, -5.6025, -5.6393, -5.7743, -5.9059, -5.9505, -6.004, -6.3269, -6.3365, -6.3519, -6.3983, -6.422, -6.498, -6.6716, -6.6761, -6.7124, -6.7285, -6.7293, -6.7452, -6.7535, -6.7754, -6.8574, -6.8607, -6.8576, -6.9363, -6.9416, -6.9422, -6.9687, -5.219, -4.5672, -6.1239, -4.5879, -5.222, -4.9939, -5.9427, -5.3787, -4.4767, -5.4741, -6.1544, -4.4319, -4.3969, -4.803, -5.8024, -4.8768, -5.2495, -5.2575, -4.7534, -4.152, -5.0049, -4.0706, -4.2386, -4.3061, -4.5799, -5.3991, -4.8147, -4.8664, -4.775, -4.9581, -4.9322, -5.1574, -5.1837, -5.1928, -5.2874, -5.258, -3.6916, -3.7968, -4.2825, -4.2947, -4.6957, -2.3316, -5.098, -5.1586, -5.1861, -5.4775, -5.5736, -5.5903, -5.6461, -5.6943, -5.7305, -5.759, -5.8437, -5.9518, -5.9939, -5.9963, -6.0298, -6.2045, -6.2939, -6.3231, -6.3297, -6.3429, -6.3666, -5.2232, -6.4299, -6.4302, -4.8197, -4.2386, -5.9299, -5.841, -3.9742, -5.2439, -5.1841, -5.3562, -4.7511, -3.7444, -3.2306, -4.1581, -5.1387, -5.3968, -4.7904, -5.1792, -5.2891, -4.9758, -5.307, -5.4263, -4.8283, -5.2765, -5.2434, -5.2693, -5.2838, -2.438, -3.4066, -4.1893, -4.7436, -4.8673, -5.0048, -5.1857, -5.2305, -4.8998, -5.8492, -5.9218, -5.9872, -6.0025, -6.0849, -6.1125, -6.5113, -6.7442, -6.8279, -6.9508, -6.9895, -7.077, -7.0795, -7.3657, -7.389, -7.4034, -7.4819, -7.4945, -7.4954, -7.506, -5.7801, -5.1184, -4.6342, -4.8722, -2.3398, -5.4911, -5.5422, -4.5805, -5.3846, -4.93, -5.4045, -3.6564, -4.9417, -4.6873, -4.4653, -4.8456, -4.8556, -4.9167, -5.3571, -4.8643, -4.8542, -4.5061, -4.4739, -4.3193, -4.5967, -4.9115, -4.9795, -4.9449, -5.0206, -5.0695, -3.177, -3.9695, -4.7972, -4.9245, -4.981, -5.1744, -3.074, -5.718, -5.753, -5.8293, -5.9446, -5.9529, -6.1273, -6.1646, -5.8279, -3.4613, -6.2483, -6.284, -6.4129, -6.4712, -6.4717, -6.4923, -6.5351, -6.5792, -6.6723, -6.7022, -6.7949, -6.8566, -6.8708, -6.9799, -5.6386, -2.1969, -5.1222, -3.8265, -4.7674, -5.6418, -3.8299, -4.4033, -4.807, -5.7844, -6.1769, -5.8028, -3.8937, -4.8655, -5.5166, -5.4271, -4.1772, -4.9329, -5.622, -5.6905, -5.4176, -5.1925, -5.3565, -4.6152, -5.3054, -5.4077, -5.1483, -5.3892, -5.3809, -5.2164, -5.1694, -5.3732, -4.4229, -4.6294, -5.0284, -5.0806, -5.6643, -5.7905, -5.9844, -6.1458, -6.1875, -6.2426, -6.2784, -6.3331, -6.3457, -6.3674, -6.3732, -6.4182, -6.4527, -6.5328, -6.5729, -6.6168, -6.6239, -6.6366, -6.6441, -6.7251, -6.7874, -6.798, -6.809, -6.944, -6.9558, -7.1023, -3.2172, -5.0544, -2.5368, -4.2184, -4.6356, -4.9777, -2.9326, -4.4154, -4.9252, -5.1949, -3.9314, -5.4294, -5.1211, -4.5476, -4.9132, -4.5858, -5.7266, -5.3176, -4.8693, -5.4353, -3.9695, -5.0735, -4.4862, -4.7613, -5.5774, -4.6258, -4.5015, -4.6689, -5.1446, -4.95, -4.677, -4.5461, -4.8601, -4.9221, -4.9927], \"loglift\": [30.0, 29.0, 28.0, 27.0, 26.0, 25.0, 24.0, 23.0, 22.0, 21.0, 20.0, 19.0, 18.0, 17.0, 16.0, 15.0, 14.0, 13.0, 12.0, 11.0, 10.0, 9.0, 8.0, 7.0, 6.0, 5.0, 4.0, 3.0, 2.0, 1.0, 1.6445, 1.6412, 1.6388, 1.6382, 1.6374, 1.6371, 1.637, 1.6361, 1.6347, 1.6346, 1.6345, 1.6343, 1.6333, 1.6329, 1.6329, 1.6328, 1.6326, 1.6312, 1.6304, 1.6296, 1.6295, 1.6287, 1.6278, 1.6274, 1.6264, 1.6261, 1.6257, 1.6257, 1.6255, 1.625, 1.6053, 1.6128, 1.6123, 1.6239, 1.5827, 1.5081, 1.5394, 1.5554, 1.5474, 1.5948, 1.51, 1.5169, 1.4758, 1.532, 1.4605, 1.5551, 1.4161, 1.5704, 1.5476, 1.4101, 1.4617, 1.4743, 1.5827, 1.324, 1.3801, 1.3464, 1.5056, 1.1164, 1.4418, 1.1897, 1.4145, 1.2724, 1.3476, 1.3141, 1.2739, 1.3475, 1.1072, 1.1521, 0.9052, 0.7293, 0.7676, 1.0113, 0.8671, 1.0921, 0.7236, 0.8593, 0.8665, 0.568, 0.7047, 0.6674, 0.555, 0.7822, 0.7918, 0.1701, 0.5045, 0.6307, 0.1268, -0.133, 0.5297, 2.2835, 2.2832, 2.2761, 2.2758, 2.2752, 2.2731, 2.2712, 2.2699, 2.2684, 2.2666, 2.2665, 2.2663, 2.2654, 2.2637, 2.2636, 2.2636, 2.2612, 2.2602, 2.2591, 2.259, 2.2589, 2.258, 2.2573, 2.2559, 2.2544, 2.2521, 2.2521, 2.2517, 2.2505, 2.2503, 2.2322, 2.1447, 2.154, 2.0113, 2.2021, 1.873, 2.1914, 1.9915, 2.1147, 2.0512, 2.0998, 1.7692, 1.5558, 1.7961, 1.7761, 2.0454, 1.0648, 1.9499, 1.748, 1.1052, 2.0307, 0.9463, 0.9038, 1.2044, 1.2961, 0.3898, 1.3198, 0.4627, 0.9171, 1.6674, 0.4651, 0.2523, 1.2632, 0.2886, 0.1008, 0.5372, 0.1981, 0.648, 0.7598, 0.053, 0.242, 0.3758, -0.1472, -0.0446, -0.5398, -0.0377, 2.3712, 2.3702, 2.3701, 2.37, 2.369, 2.3678, 2.3663, 2.3659, 2.3658, 2.3648, 2.3648, 2.3647, 2.3645, 2.3642, 2.364, 2.364, 2.3639, 2.3636, 2.3631, 2.3629, 2.3628, 2.3627, 2.3625, 2.3622, 2.362, 2.3614, 2.3612, 2.3609, 2.3609, 2.3607, 2.3549, 2.3603, 2.355, 2.3208, 2.2701, 2.2848, 2.192, 2.213, 2.2619, 2.2603, 2.148, 2.1269, 2.122, 2.2167, 2.0981, 1.9716, 1.9522, 1.2147, 2.2283, 1.2397, 1.0181, 1.9365, 1.0808, 1.8751, 1.9318, 1.0143, 1.6748, 0.8499, 1.4187, 0.4221, 0.426, 0.6837, -0.1139, 0.3676, -0.0253, 0.4896, 0.2048, -0.4403, -0.5404, 0.0365, -0.1902, 2.6079, 2.6064, 2.6036, 2.6033, 2.6012, 2.6011, 2.6011, 2.6011, 2.6008, 2.5991, 2.5984, 2.5982, 2.5973, 2.5973, 2.597, 2.5965, 2.5962, 2.5953, 2.5929, 2.5927, 2.5925, 2.5918, 2.5915, 2.5912, 2.5911, 2.5907, 2.5896, 2.5894, 2.5891, 2.589, 2.5581, 2.5697, 2.5242, 2.5741, 2.4767, 2.4364, 2.4861, 2.2871, 2.3912, 2.17, 1.8732, 2.214, 2.0569, 1.7186, 1.6164, 1.6394, 2.0592, 1.7368, 1.5233, 1.6651, 1.8114, 1.6234, 1.0534, 1.1223, 0.8845, 1.2715, 1.4816, 0.8809, 0.9934, 1.0057, 0.8776, 1.024, 0.202, 0.2122, 2.6993, 2.6987, 2.6983, 2.6982, 2.6981, 2.6978, 2.6975, 2.6974, 2.6962, 2.696, 2.6952, 2.695, 2.6949, 2.6935, 2.6934, 2.6873, 2.6815, 2.6815, 2.6813, 2.6812, 2.6796, 2.6789, 2.674, 2.6708, 2.6701, 2.6698, 2.6691, 2.6685, 2.6665, 2.6662, 2.6477, 2.6317, 2.6373, 2.6196, 2.6056, 2.5921, 2.5628, 2.5423, 2.5719, 2.5775, 2.4193, 2.5262, 2.2528, 1.9263, 2.0173, 2.1445, 1.2818, 1.4105, 2.0202, 2.2218, 0.9704, 0.4853, 1.1859, 1.2953, 0.8737, 1.3218, 1.0757, 0.6139, 0.7891, 0.798, 0.0869, 0.0306, 0.032, 2.7319, 2.7316, 2.7315, 2.7307, 2.7254, 2.724, 2.722, 2.7215, 2.7201, 2.7181, 2.7175, 2.7174, 2.7144, 2.7133, 2.7122, 2.7116, 2.7087, 2.7083, 2.7063, 2.7057, 2.7056, 2.7037, 2.7035, 2.7031, 2.7027, 2.7019, 2.7018, 2.6989, 2.6986, 2.6983, 2.6941, 2.6254, 2.5844, 2.4423, 2.5383, 2.4453, 2.4361, 2.392, 2.664, 2.6258, 2.3244, 1.8176, 2.6134, 1.6107, 1.977, 1.6833, 1.1531, 1.6647, 1.3364, 0.961, 2.1281, 0.535, 1.3895, 1.617, 0.8612, 1.2074, 0.4875, 0.3921, 0.6185, 0.4906, 0.7551, -0.061, -0.0289, -0.0408, -0.2046, -0.3847, 2.841, 2.84, 2.8397, 2.839, 2.838, 2.8378, 2.8376, 2.837, 2.8366, 2.8362, 2.8361, 2.8357, 2.8352, 2.8346, 2.8341, 2.8333, 2.8331, 2.8327, 2.8317, 2.8317, 2.8314, 2.8312, 2.8306, 2.8292, 2.8289, 2.8269, 2.8266, 2.8259, 2.8257, 2.8234, 2.7605, 2.7442, 2.7901, 2.7402, 2.5524, 2.6342, 2.6937, 2.679, 1.5924, 2.1263, 1.9639, 2.2139, 1.4838, 1.9603, 1.4017, 1.5979, 0.6929, 1.0565, 1.3151, 0.853, 1.1465, 1.5989, 1.7641, 0.7863, 0.111, -0.0566, 0.1962, 1.5411, -0.184, 0.6159, -0.0928, -0.5524, 2.8569, 2.8546, 2.8544, 2.8537, 2.8514, 2.85, 2.8499, 2.8466, 2.8463, 2.846, 2.8436, 2.8426, 2.8404, 2.8402, 2.8398, 2.8391, 2.8388, 2.838, 2.8379, 2.8374, 2.8369, 2.8363, 2.836, 2.8359, 2.8347, 2.8341, 2.8338, 2.8338, 2.8314, 2.8314, 2.786, 2.8046, 2.6887, 2.7168, 2.6747, 2.6745, 2.6698, 2.7301, 2.7741, 2.6324, 2.3446, 2.1416, 2.7498, 1.9379, 2.7103, 2.1957, 2.5588, 1.4427, 1.5293, 2.1487, 1.831, 1.3093, 1.5175, 1.713, 0.9022, 1.6365, 1.768, 1.5446, 2.1787, 1.4246, 0.356, 1.0858, 0.7955, 0.8546, 0.8377, 0.9685, 0.8698, 0.6972, 0.6786, 0.041, 0.3009, 0.7028, -0.2777, 0.6939, 2.9405, 2.9391, 2.939, 2.9384, 2.9351, 2.9347, 2.9343, 2.9332, 2.9331, 2.9324, 2.9323, 2.9322, 2.9308, 2.9286, 2.9276, 2.9274, 2.9242, 2.9234, 2.9203, 2.9199, 2.9188, 2.9186, 2.9182, 2.9181, 2.9178, 2.9169, 2.9165, 2.9139, 2.9139, 2.9134, 2.8975, 2.8682, 2.831, 2.8667, 2.8281, 2.8588, 2.7402, 2.8072, 2.7523, 2.6021, 2.5827, 2.7192, 2.6678, 2.4844, 2.4497, 2.5831, 2.3501, 2.5266, 2.4194, 2.7772, 2.4562, 2.6121, 2.6841, 1.6645, 2.489, 2.5729, 1.6458, 2.2434, 1.6247, 2.0647, 1.3152, 1.5817, 1.0322, 0.8947, 1.8743, 0.8907, 0.9885, 1.2512, 1.3722, 0.6658, 0.9169, 0.2686, 0.7026, 3.1389, 3.1387, 3.138, 3.1344, 3.1333, 3.1331, 3.1297, 3.1266, 3.1265, 3.1247, 3.1241, 3.1224, 3.1224, 3.1223, 3.1216, 3.1207, 3.1175, 3.1149, 3.1132, 3.1104, 3.1055, 3.1049, 3.1035, 3.1024, 3.1004, 3.1003, 3.1, 3.0988, 3.0965, 3.0957, 3.0792, 3.0809, 3.071, 3.0008, 2.9617, 2.9927, 2.928, 2.9431, 2.7536, 2.92, 2.3204, 2.4988, 2.8305, 1.1204, 0.9801, 1.9472, 2.3307, 2.0448, 0.7201, 2.0237, 2.3393, 1.5666, 0.089, 0.5462, 0.7727, 0.5957, 0.8601, 0.4631, 0.2846, -0.2912, 0.5712, 0.3857, -0.4423, 0.2528, 0.0883, 0.4589, -0.6257, 0.1172, -0.45, 3.159, 3.1573, 3.1563, 3.155, 3.154, 3.1537, 3.1514, 3.1506, 3.1503, 3.1466, 3.1463, 3.1454, 3.1449, 3.1449, 3.1447, 3.1441, 3.1431, 3.1428, 3.1419, 3.1417, 3.1412, 3.1406, 3.1406, 3.1402, 3.1398, 3.1396, 3.1385, 3.1376, 3.1365, 3.1365, 3.1305, 3.1276, 3.0866, 3.0198, 3.011, 3.0613, 3.0967, 2.9505, 3.041, 2.9875, 2.7581, 2.6726, 2.7796, 2.9177, 2.3155, 2.8849, 2.7816, 2.9075, 2.4538, 2.969, 2.0648, 2.5473, 1.0403, 1.6953, 1.9396, 1.5436, 1.7264, 1.014, 1.9654, 2.0385, 2.1668, 0.87, 1.0737, 0.757, 1.8484, 1.748, 0.8414, 0.752, 0.3714, 0.0446, 0.2507, 3.2389, 3.2376, 3.2356, 3.2348, 3.2346, 3.2338, 3.2329, 3.2326, 3.2322, 3.2292, 3.2291, 3.2289, 3.2284, 3.2281, 3.2272, 3.2247, 3.2247, 3.2241, 3.2238, 3.2238, 3.2236, 3.2234, 3.2231, 3.2216, 3.2216, 3.2215, 3.2201, 3.22, 3.22, 3.2195, 3.2145, 3.1811, 3.2094, 3.1638, 3.1419, 3.0719, 3.1489, 3.0591, 2.9258, 3.0591, 3.0983, 2.7167, 2.7052, 2.7843, 3.0032, 2.7337, 2.8335, 2.5021, 2.1574, 1.4839, 2.1064, 1.23, 1.0025, 1.0359, 1.0652, 2.2779, 0.7501, 0.7287, 0.1987, 0.6269, 0.4304, 0.6651, 0.7464, -0.2937, 0.6907, -0.7548, 3.2655, 3.2654, 3.2649, 3.2648, 3.2641, 3.264, 3.263, 3.2628, 3.2627, 3.2615, 3.261, 3.2609, 3.2606, 3.2603, 3.2601, 3.2599, 3.2594, 3.2586, 3.2582, 3.2582, 3.2579, 3.2564, 3.2554, 3.2551, 3.255, 3.2549, 3.2546, 3.2545, 3.2538, 3.2538, 3.2373, 3.1909, 3.2354, 3.2302, 3.1032, 3.161, 3.1343, 3.1519, 3.0732, 2.8349, 2.658, 2.8369, 2.9488, 3.0134, 2.4168, 2.6654, 2.7478, 1.81, 2.3765, 2.649, -0.0298, 0.9226, -0.0023, 0.3156, 0.5105, 3.5346, 3.5341, 3.5331, 3.5318, 3.5314, 3.5309, 3.5302, 3.5299, 3.5294, 3.5257, 3.525, 3.5244, 3.5242, 3.5233, 3.523, 3.5172, 3.5126, 3.5107, 3.5076, 3.5065, 3.504, 3.5039, 3.4939, 3.4929, 3.4923, 3.4889, 3.4883, 3.4883, 3.4878, 3.4873, 3.4834, 3.4743, 3.4566, 3.3591, 3.4214, 3.3921, 3.3064, 3.3203, 3.2463, 3.2944, 3.0371, 3.2243, 3.1037, 2.9796, 3.0326, 3.0261, 3.0102, 3.193, 2.7401, 2.6464, 2.2586, 2.038, 0.9484, 1.2117, 1.4833, 1.542, 0.277, 0.5442, 0.729, 3.6687, 3.6678, 3.6657, 3.6652, 3.665, 3.664, 3.6629, 3.6602, 3.6599, 3.6591, 3.6579, 3.6578, 3.6556, 3.6551, 3.6542, 3.6541, 3.6539, 3.6533, 3.6511, 3.65, 3.65, 3.6496, 3.6488, 3.6478, 3.6458, 3.6451, 3.6427, 3.641, 3.6406, 3.6374, 3.6084, 3.3772, 3.5432, 3.4401, 3.4169, 3.5181, 3.1779, 3.2315, 3.3066, 3.4153, 3.5484, 3.4085, 2.6442, 2.9794, 3.2728, 3.1789, 2.1597, 2.7226, 3.2273, 3.2892, 2.8737, 2.1634, 2.5045, 0.6854, 2.267, 1.957, 0.4166, 1.8513, 1.7544, 0.2662, -0.311, 1.4277, 3.8653, 3.8646, 3.8628, 3.8625, 3.8578, 3.8564, 3.8539, 3.8514, 3.8507, 3.8497, 3.849, 3.8479, 3.8476, 3.8472, 3.8471, 3.8461, 3.8453, 3.8434, 3.8424, 3.8413, 3.8411, 3.8407, 3.8405, 3.8382, 3.8363, 3.836, 3.8356, 3.831, 3.8305, 3.8247, 3.8058, 3.8231, 3.7762, 3.69, 3.5741, 3.5278, 3.07, 3.3458, 3.4598, 3.5219, 3.1859, 3.5588, 3.4635, 3.2825, 3.3758, 3.2263, 3.5953, 3.3791, 3.0769, 3.38, 2.4217, 3.0899, 2.6624, 2.6894, 3.427, 2.2198, 2.0021, 2.0997, 2.7771, 2.3378, 1.6091, 1.1742, 1.339, 1.483, 1.8187]}, \"token.table\": {\"Topic\": [2, 11, 11, 12, 5, 1, 2, 3, 4, 5, 6, 7, 8, 9, 10, 11, 12, 13, 14, 15, 8, 10, 10, 10, 5, 3, 15, 3, 1, 2, 3, 5, 6, 7, 8, 9, 10, 12, 14, 15, 2, 3, 5, 7, 8, 11, 1, 2, 3, 4, 5, 6, 7, 8, 12, 16, 1, 2, 3, 6, 7, 8, 9, 11, 6, 6, 8, 10, 12, 5, 1, 2, 3, 4, 5, 6, 7, 8, 9, 11, 13, 8, 1, 2, 3, 5, 6, 7, 8, 9, 10, 11, 12, 2, 7, 1, 2, 3, 5, 6, 7, 8, 9, 11, 12, 16, 15, 1, 4, 1, 14, 2, 13, 14, 15, 2, 4, 12, 1, 7, 4, 12, 10, 9, 11, 13, 14, 11, 7, 7, 10, 15, 10, 12, 15, 4, 5, 9, 14, 4, 6, 10, 14, 15, 8, 12, 15, 12, 11, 4, 15, 6, 9, 8, 1, 2, 3, 4, 6, 7, 8, 10, 15, 16, 6, 9, 2, 6, 7, 1, 6, 8, 10, 2, 3, 11, 15, 10, 15, 7, 8, 16, 1, 2, 3, 4, 5, 6, 7, 8, 9, 10, 11, 12, 13, 14, 15, 16, 1, 4, 9, 13, 16, 13, 11, 1, 3, 13, 16, 1, 9, 1, 9, 9, 15, 2, 3, 5, 6, 8, 9, 10, 2, 7, 10, 11, 12, 16, 1, 4, 9, 5, 9, 1, 13, 3, 7, 8, 11, 13, 16, 14, 1, 4, 5, 7, 9, 1, 2, 3, 4, 5, 6, 7, 8, 9, 10, 11, 12, 13, 14, 15, 16, 14, 16, 6, 7, 10, 5, 13, 14, 2, 8, 14, 2, 6, 8, 10, 1, 2, 5, 6, 7, 13, 1, 2, 3, 4, 5, 6, 7, 8, 9, 10, 11, 12, 13, 14, 15, 16, 11, 16, 9, 12, 11, 11, 6, 7, 11, 9, 10, 11, 12, 16, 14, 1, 2, 6, 7, 8, 10, 5, 12, 1, 3, 4, 6, 7, 8, 9, 11, 15, 3, 5, 1, 2, 8, 9, 10, 1, 4, 5, 7, 9, 14, 13, 16, 4, 13, 10, 4, 7, 2, 6, 7, 5, 13, 5, 7, 13, 4, 1, 2, 3, 4, 5, 6, 8, 9, 10, 13, 14, 16, 4, 7, 14, 14, 13, 5, 4, 1, 3, 11, 14, 8, 3, 2, 6, 7, 12, 15, 11, 5, 14, 1, 3, 5, 6, 13, 15, 16, 1, 2, 3, 4, 5, 6, 7, 8, 9, 10, 11, 12, 13, 14, 15, 16, 9, 1, 2, 3, 4, 5, 6, 7, 8, 9, 10, 11, 12, 13, 14, 15, 16, 5, 13, 16, 14, 16, 13, 7, 8, 9, 7, 9, 13, 1, 2, 3, 4, 5, 6, 7, 8, 9, 10, 11, 12, 13, 16, 4, 5, 6, 7, 9, 11, 13, 14, 13, 13, 2, 6, 8, 10, 8, 5, 12, 13, 1, 2, 3, 5, 6, 7, 8, 10, 11, 12, 13, 14, 2, 4, 5, 9, 7, 8, 5, 15, 15, 5, 6, 2, 4, 5, 6, 9, 14, 3, 16, 15, 1, 2, 3, 4, 5, 6, 7, 8, 9, 10, 11, 13, 14, 1, 4, 5, 9, 16, 16, 3, 4, 9, 13, 16, 1, 3, 1, 2, 3, 5, 6, 7, 8, 9, 12, 15, 7, 11, 11, 1, 2, 3, 4, 5, 7, 8, 9, 10, 11, 12, 14, 16, 1, 2, 3, 4, 5, 6, 7, 8, 9, 10, 11, 12, 13, 16, 4, 3, 3, 2, 3, 4, 5, 6, 10, 12, 15, 10, 8, 15, 1, 2, 3, 5, 6, 7, 8, 10, 14, 3, 5, 1, 6, 13, 13, 4, 13, 1, 2, 3, 4, 6, 7, 9, 11, 3, 4, 5, 7, 13, 9, 3, 1, 4, 9, 2, 10, 2, 1, 2, 3, 4, 5, 6, 7, 8, 9, 10, 11, 12, 13, 14, 15, 16, 1, 2, 3, 4, 5, 6, 7, 8, 9, 10, 11, 12, 13, 14, 15, 6, 7, 3, 4, 5, 9, 11, 12, 16, 3, 16, 1, 11, 1, 2, 5, 7, 8, 9, 10, 12, 9, 2, 11, 9, 2, 8, 3, 13, 16, 2, 5, 6, 7, 9, 1, 2, 15, 16, 2, 4, 6, 7, 11, 12, 14, 1, 2, 3, 4, 5, 7, 8, 10, 11, 2, 1, 2, 3, 4, 5, 6, 7, 8, 9, 10, 11, 12, 13, 14, 15, 16, 3, 5, 8, 2, 3, 5, 6, 7, 8, 10, 11, 12, 14, 15, 2, 10, 2, 3, 5, 12, 15, 3, 11, 10, 13, 14, 2, 2, 3, 5, 2, 10, 12, 3, 7, 13, 7, 3, 2, 12, 15, 7, 14, 1, 2, 3, 4, 5, 6, 7, 8, 9, 10, 11, 13, 15, 16, 1, 2, 4, 6, 7, 8, 10, 13, 8, 12, 14, 15, 4, 9, 13, 15, 12, 13, 2, 2, 3, 16, 2, 5, 7, 8, 10, 8, 6, 10, 12, 15, 14, 12, 5, 13, 14, 3, 6, 15, 8, 1, 3, 4, 9, 14, 9, 15, 15, 7, 16, 1, 4, 13, 1, 1, 2, 3, 4, 5, 6, 13, 14, 15, 4, 14, 14, 2, 6, 15, 1, 2, 5, 7, 1, 3, 11, 16, 4, 1, 2, 3, 4, 5, 6, 7, 8, 9, 10, 12, 13, 14, 15, 12, 13, 8, 1, 2, 3, 4, 5, 6, 7, 8, 9, 10, 11, 12, 13, 14, 15, 16, 6, 9, 10, 14, 16, 6, 3, 6, 15, 2, 3, 16, 1, 2, 3, 4, 5, 6, 7, 8, 9, 10, 11, 12, 13, 14, 15, 16, 3, 7, 8, 7, 7, 6, 15, 1, 2, 3, 4, 6, 7, 8, 16, 15, 12, 4, 9, 5, 4, 5, 6, 7, 9, 13, 14, 15, 16, 11, 1, 2, 3, 4, 6, 7, 8, 9, 10, 11, 12, 13, 14, 15, 2, 6, 11, 2, 1, 3, 6, 7, 10, 11, 13, 15, 1, 2, 3, 4, 5, 6, 7, 8, 9, 10, 12, 13, 14, 12, 13, 2, 5, 6, 7, 8, 10, 3, 5, 1, 2, 4, 9, 10, 12, 13, 14, 1, 3, 11, 14, 16, 1, 3, 6, 7, 7, 6, 7, 7, 1, 2, 3, 4, 5, 6, 7, 8, 9, 10, 12, 14, 10, 5, 5, 6, 8, 10, 3, 4, 11, 3, 12, 4, 1, 3, 4, 7, 9, 16, 7, 16, 9, 11, 5, 13, 3, 8, 10, 6, 8, 1, 3, 4, 5, 6, 7, 8, 9, 11, 12, 13, 14, 15, 16, 9, 13, 1, 2, 3, 4, 5, 7, 8, 10, 11, 12, 13, 15, 16, 1, 7, 13, 1, 2, 3, 4, 5, 6, 7, 9, 11, 13, 14, 15, 16, 1, 15, 5, 15, 1, 3, 11, 5, 9, 1, 2, 3, 5, 6, 7, 8, 10, 11, 12, 13, 15, 1, 3, 4, 8, 9, 9, 14, 3, 9, 10, 14, 14, 1, 7, 11, 16, 3, 1, 5, 6, 7, 10, 1, 1, 2, 4, 6, 7, 8, 9, 10, 11, 15, 16, 1, 4, 5, 6, 7, 9, 11, 13, 14, 1, 9, 13, 7, 6, 7, 1, 2, 3, 4, 5, 6, 7, 8, 9, 10, 11, 12, 13, 14, 15, 16, 7, 3, 15, 2, 3, 5, 6, 15, 2, 8, 2, 5, 7, 9, 2, 6, 7, 8, 2, 5, 6, 7, 8, 2, 1, 6, 11, 13, 10, 2, 7, 1, 3, 11, 16, 2, 1, 7, 9, 13, 1, 8, 1, 2, 3, 4, 5, 7, 11, 13, 14, 16, 12, 16, 4, 11, 1, 2, 3, 4, 5, 6, 7, 8, 9, 10, 11, 12, 13, 14, 1, 1, 2, 3, 4, 5, 6, 7, 8, 9, 10, 11, 12, 13, 14, 16, 1, 2, 3, 4, 5, 6, 7, 8, 9, 10, 11, 12, 13, 15, 1, 10, 2, 3, 5, 6, 10, 12, 13, 15, 2, 8, 10, 12, 13, 12, 16, 12, 12, 1, 2, 3, 4, 5, 6, 7, 8, 9, 10, 11, 12, 13, 14, 15, 16, 1, 2, 3, 4, 5, 6, 7, 8, 9, 10, 11, 12, 14, 15, 16, 16, 1, 2, 3, 4, 5, 6, 7, 8, 9, 10, 12, 13, 14, 15, 16, 5, 6, 14, 14, 7, 6, 16, 1, 2, 3, 4, 5, 6, 7, 9, 10, 11, 13, 14, 15, 1, 2, 3, 4, 5, 6, 7, 8, 9, 10, 13, 14, 4, 4, 3, 7, 10, 9, 13, 2, 10, 1, 8, 1, 2, 3, 4, 5, 6, 7, 8, 9, 10, 11, 12, 13, 14, 15, 16, 1, 12, 1, 2, 3, 4, 5, 6, 7, 8, 9, 10, 12, 13, 14, 15, 16, 1, 3, 7, 10, 11, 16, 12, 5, 10, 10, 2, 3, 5, 6, 7, 8, 10, 11, 12, 15, 13, 5, 11, 16, 5, 2, 5, 14, 15, 16, 14, 3, 14, 5, 7, 1, 1, 2, 3, 4, 5, 6, 7, 8, 9, 10, 11, 12, 13, 14, 15, 16, 3, 5, 6, 7, 9, 13, 16, 2, 6, 2, 12, 11, 16, 4, 16, 5, 7, 16, 2, 3, 4, 5, 6, 16, 1, 7, 10, 11, 1, 12, 1, 3, 6, 9, 14, 1, 2, 4, 5, 6, 8, 9, 10, 15, 2, 9, 13, 3, 10, 4, 10, 3, 3, 6, 15, 1, 2, 3, 4, 5, 6, 7, 9, 10, 13, 14, 15, 1, 7, 9, 11, 16, 4, 9, 4, 6, 2, 3, 5, 6, 7, 10, 14, 6, 4, 9, 1, 2, 3, 4, 5, 6, 7, 8, 9, 10, 11, 13, 14, 15, 16, 1, 3, 5, 6, 15, 4, 1, 2, 3, 4, 5, 6, 7, 8, 10, 11, 12, 14, 15, 15, 1, 2, 3, 4, 5, 6, 7, 8, 9, 10, 11, 12, 13, 14, 15, 16, 1, 2, 3, 4, 5, 6, 7, 8, 9, 13, 14, 9, 5, 16, 16, 3, 9, 11, 14, 1, 2, 3, 4, 5, 6, 7, 8, 9, 10, 11, 12, 13, 14, 15, 16, 1, 2, 3, 4, 5, 6, 7, 8, 9, 10, 11, 12, 13, 14, 15, 16, 1, 2, 3, 4, 5, 6, 7, 9, 10, 11, 12, 13, 14, 1, 2, 3, 4, 5, 6, 7, 8, 9, 10, 11, 12, 13, 14, 15, 16, 16, 1, 2, 3, 4, 5, 6, 7, 8, 10, 11, 12, 13, 14, 1, 3, 4, 13, 16, 1, 2, 3, 4, 5, 6, 7, 9, 10, 11, 12, 13, 14, 15, 16, 11, 1, 8, 11, 15, 16, 10, 1, 2, 3, 7, 8, 10, 11, 14, 16, 3, 3, 13, 16, 2, 5, 7, 8, 10, 12, 12, 4, 10, 5, 15, 13, 13, 5, 6, 10, 12, 15, 15, 5, 15, 2, 3, 15, 2, 3, 6, 7, 8, 10, 14, 16, 1, 2, 3, 4, 5, 6, 7, 8, 10, 11, 4, 2, 7, 10, 9, 10, 13, 1, 3, 4, 9, 10, 13, 14, 15, 16, 10, 1, 2, 5, 6, 7, 9, 15, 2, 5, 6, 1, 2, 3, 4, 5, 6, 7, 8, 9, 10, 11, 12, 13, 14, 15, 1, 3, 4, 7, 9, 10, 11, 12, 13, 14, 15, 5, 2, 5, 6, 7, 8, 10, 12, 16, 1, 4, 1, 4, 12, 1, 4, 5, 7, 11, 7, 14, 5, 14, 6, 1, 2, 3, 4, 5, 6, 7, 8, 9, 10, 11, 12, 13, 14, 15, 16, 10, 1, 2, 3, 4, 5, 6, 7, 8, 9, 11, 13, 14, 16, 1, 10, 8, 6, 1, 2, 3, 4, 7, 9, 10, 11, 13, 16, 1, 3, 9, 12, 1, 2, 3, 4, 5, 6, 7, 10, 13, 14, 15, 4, 10, 15, 9, 10, 4, 8, 12, 6, 1, 4, 3, 7, 11, 3, 9, 15, 1, 2, 3, 4, 5, 6, 7, 8, 9, 10, 11, 12, 14, 15, 16, 1, 2, 3, 4, 5, 6, 7, 8, 9, 10, 11, 13, 14, 16, 1, 2, 3, 4, 5, 6, 7, 8, 9, 13, 16, 7, 16, 1, 10, 12, 3, 5, 14, 16, 4, 9, 2, 6, 13, 14, 9, 2, 4, 6, 10, 12, 15, 12, 10, 1, 9, 16, 1, 2, 4, 5, 6, 7, 8, 9, 10, 11, 15, 2, 8, 1, 8, 14, 14, 1, 3, 4, 5, 6, 7, 8, 9, 10, 12, 13, 1, 6, 7, 1, 2, 3, 4, 5, 6, 7, 8, 9, 11, 13, 14, 15, 8, 2, 3, 6, 12, 15, 3, 4, 5, 7, 13, 14, 5, 3, 8, 1, 2, 3, 4, 5, 6, 7, 8, 9, 10, 11, 12, 13, 14, 15, 16, 7, 15, 2, 3, 4, 7, 9, 10, 11, 12, 15, 1, 2, 3, 4, 5, 6, 7, 8, 9, 10, 11, 12, 13, 14, 15, 16, 14, 1, 2, 3, 4, 5, 6, 7, 9, 10, 11, 14, 7, 11, 12, 1, 2, 6, 7, 10, 11, 14, 13, 11, 16, 13, 1, 2, 3, 4, 5, 6, 7, 8, 9, 10, 11, 12, 13, 14, 16, 1, 2, 3, 4, 5, 6, 7, 8, 10, 13, 4, 7, 13, 14, 9, 13, 14, 16, 1, 2, 3, 4, 8, 9, 12, 14, 4, 1, 2, 3, 4, 5, 6, 7, 8, 9, 10, 11, 12, 13, 14, 15, 16, 1, 2, 3, 4, 6, 9, 11, 14, 1, 8, 9, 16, 9, 14, 13, 1, 2, 3, 4, 5, 6, 7, 8, 9, 10, 1, 2, 3, 4, 5, 6, 7, 8, 10, 11, 12, 15, 2, 13, 1, 1, 6, 9, 10, 2, 8, 10, 10, 15, 1, 2, 3, 5, 6, 7, 8, 10, 15, 5, 13, 15, 3, 1, 2, 3, 5, 6, 7, 8, 9, 10, 11, 15, 1, 2, 3, 4, 5, 6, 7, 8, 9, 10, 11, 12, 13, 14, 15, 16, 1, 11, 3, 5, 15, 3, 4, 11, 15, 3, 16, 3, 3, 5, 14, 7, 7, 5, 1, 2, 3, 8, 1, 3, 11, 10, 11, 11, 11, 2, 3, 5, 6, 8, 10, 11, 13, 8, 1, 2, 3, 4, 5, 6, 7, 8, 9, 10, 11, 12, 13, 14, 15, 16, 3, 4, 13, 16, 7, 13, 2, 7, 8, 8, 1, 2, 3, 5, 6, 7, 8, 10, 11, 12, 15, 8, 16, 6, 7, 8, 16, 5, 9, 14, 3, 11, 14, 15, 14, 15, 1, 5, 7, 13, 14, 15, 14, 5, 13, 1, 2, 3, 4, 5, 6, 7, 8, 9, 10, 11, 12, 13, 14, 15, 16, 7, 10, 1, 4, 5, 10, 12, 14, 7, 1, 2, 3, 4, 9, 10, 15, 9, 16, 4, 6, 1, 2, 3, 4, 7, 9, 10, 11, 12, 13, 14, 15, 16, 1, 2, 3, 8, 9, 11, 13, 14, 15, 4, 13, 3, 5, 7, 13, 13, 5, 11, 1, 3, 7, 3, 4, 10, 15, 3, 5, 2, 3, 4, 5, 6, 8, 11, 15, 3, 11, 5, 1, 4, 3, 11, 15, 16, 2, 4, 5, 15, 3, 5, 15, 3, 2, 10, 12, 15, 6, 1, 8, 9, 10, 11, 12, 1, 16, 15, 4, 1, 2, 3, 5, 6, 7, 8, 9, 10, 11, 12, 13, 15, 9, 15, 9, 13, 3, 4, 16, 5, 9, 12, 16, 4, 5, 6, 11, 13, 14, 16, 1, 2, 4, 5, 7, 13, 14, 16, 1, 2, 3, 4, 5, 6, 7, 8, 9, 10, 11, 12, 13, 14, 16, 4, 9, 10, 2, 6, 7, 8, 1, 2, 3, 5, 6, 8, 9, 10, 14, 16, 10, 6, 7, 10, 8, 11, 12, 1, 2, 3, 4, 5, 6, 7, 8, 9, 11, 13, 16, 6, 2, 6, 7, 4, 7, 1, 2, 3, 4, 5, 6, 7, 8, 9, 10, 11, 12, 13, 14, 15, 16, 5, 9, 11, 12, 13, 16, 16, 2, 3, 5, 11, 12, 4, 1, 2, 4, 9, 10, 11, 1, 2, 3, 4, 5, 6, 7, 8, 9, 10, 11, 12, 13, 14, 15, 16, 9, 13, 14, 15, 13, 9, 15, 1, 2, 8, 10, 12, 2, 13, 1, 2, 3, 4, 6, 7, 8, 9, 10, 14, 3, 7, 12, 12, 3, 14, 8, 7, 13, 10, 10, 1, 3, 4, 5, 7, 11, 14, 15, 16, 8, 1, 2, 3, 4, 5, 6, 7, 8, 9, 10, 11, 12, 13, 14, 15, 1, 2, 3, 5, 6, 7, 8, 9, 12, 14, 15, 16, 6, 9, 2, 2, 2, 6, 7, 2, 7, 11, 14, 9, 3, 4, 9, 13, 14, 15, 16, 1, 2, 3, 4, 5, 6, 7, 8, 9, 10, 11, 14, 15, 1, 2, 3, 5, 6, 7, 8, 10, 12, 15, 3, 5, 15, 9, 2, 3, 4, 5, 6, 8, 9, 15, 1, 2, 3, 4, 5, 6, 7, 9, 10, 11, 13, 14, 15, 16, 7, 11, 13, 16, 11, 14, 5, 7, 11, 16, 9, 9, 3, 1, 2, 3, 5, 6, 7, 8, 10, 11, 12, 12, 8, 6, 12, 4, 1, 2, 6, 7, 8, 9, 11, 12, 13, 14, 8, 8, 6, 1, 2, 7, 9, 10, 13, 3, 1, 2, 3, 4, 5, 6, 7, 8, 9, 10, 11, 12, 13, 14, 15, 16, 15, 1, 7, 11, 12, 13, 11, 1, 6, 15, 3, 16, 1, 2, 3, 4, 5, 6, 7, 8, 9, 10, 11, 12, 13, 14, 15, 16, 4, 3, 4, 6, 10, 15, 6, 8, 1, 2, 3, 4, 6, 7, 10, 11, 1, 2, 3, 4, 7, 10, 11, 13, 14, 1, 2, 12, 15, 2, 3, 10, 12, 15, 9, 6, 14, 10, 11, 3, 11, 13, 1, 2, 4, 6, 9, 10, 12, 13, 1, 2, 3, 4, 5, 6, 7, 8, 9, 10, 11, 12, 13, 14, 15, 16, 9, 12, 1, 4, 14, 9, 1, 2, 6, 9, 10, 2, 7, 8, 7, 8, 11, 13, 8, 3, 6, 9, 11, 15, 12, 1, 2, 4, 5, 7, 8, 14, 16, 5, 15, 1, 3, 4, 5, 9, 6, 8, 10, 2, 10, 1, 2, 5, 6, 7, 1, 2, 3, 7, 9, 10, 11, 12, 16, 2, 1, 2, 4, 5, 6, 7, 13, 12, 13, 11, 6, 3, 6, 6, 1, 2, 3, 4, 5, 6, 7, 8, 9, 10, 11, 12, 13, 1, 2, 3, 4, 5, 6, 7, 8, 9, 10, 11, 12, 13, 14, 15, 16, 9, 9, 15, 1, 2, 3, 4, 5, 6, 7, 8, 9, 10, 11, 12, 13, 14, 15, 16, 5, 1, 2, 4, 5, 6, 7, 7, 6, 10, 12, 13, 13, 5, 14, 7, 14, 9, 1, 3, 1, 3, 4, 11, 12, 1, 2, 3, 4, 6, 7, 8, 9, 10, 13, 14, 2, 15, 13, 9, 13, 1, 4, 9, 10, 1, 2, 3, 4, 9, 12, 13, 14, 15, 16, 12, 1, 2, 3, 4, 5, 6, 7, 8, 9, 10, 11, 12, 13, 14, 15, 16, 1, 4, 9, 12, 13, 14, 15, 1, 2, 3, 4, 5, 6, 7, 8, 9, 10, 11, 12, 13, 14, 15, 16, 5, 7, 11, 16, 7, 1, 2, 3, 4, 5, 6, 7, 8, 9, 10, 11, 12, 13, 14, 15, 16, 1, 2, 4, 5, 6, 7, 8, 9, 10, 13, 12, 1, 2, 3, 7, 8, 9, 10, 11, 13, 16, 1, 1, 7, 11, 16, 2, 4, 5, 3, 4, 9, 14, 9, 15, 1, 2, 3, 6, 7, 8, 9, 10, 11, 12, 14, 16, 1, 2, 3, 4, 5, 6, 7, 8, 9, 10, 12, 13, 14, 15, 16, 16, 3, 16, 11, 1, 2, 3, 4, 5, 6, 7, 8, 9, 10, 11, 12, 13, 14, 15, 16, 1, 14, 16, 11, 1, 2, 3, 5, 6, 7, 8, 9, 10, 12, 16, 8, 6], \"Freq\": [0.9117864658234103, 0.08288967871121912, 0.9900927844030316, 0.9690047725931108, 0.9610632905015258, 0.04237028503623482, 0.048019656374399464, 0.08156279869475204, 0.20478971100846832, 0.19702182541849192, 0.05790605621618759, 0.0752072559393168, 0.09780474129197539, 0.03813325653261134, 0.0684986274752463, 0.0031777713777176118, 0.04907891350030534, 0.007767885589976384, 0.014123428345411608, 0.014476514054046898, 0.9615832575942674, 0.9372916617873088, 0.9844003442415127, 0.9935518593994203, 0.9509233895218763, 0.09703742312391282, 0.8871992971329172, 0.9881697512524842, 0.04795524401936675, 0.04196083851694591, 0.010490209629236477, 0.017983216507262534, 0.1888237733262566, 0.01648461513165732, 0.023977622009683376, 0.09141468391191787, 0.08542027840949704, 0.03296923026331464, 0.4106167769158278, 0.031470628887709434, 0.9818429258476202, 0.152591642931639, 0.5735714237855933, 0.0021644204671154464, 0.0010822102335577232, 0.26947034815587306, 0.0805259739445104, 0.12182134519810549, 0.0805259739445104, 0.12182134519810549, 0.0020647685626797537, 0.0020647685626797537, 0.01651814850143803, 0.4893501493551017, 0.07433166825647114, 0.014453379938758278, 0.2033429893625937, 0.08938153378575547, 0.6435470432574394, 0.03128353682501441, 0.011172691723219434, 0.004469076689287773, 0.004469076689287773, 0.008938153378575547, 0.9688725866321589, 0.06922839536982586, 0.484598767588781, 0.4465231501353768, 0.9868673082187455, 0.9833122771085332, 0.13609875566669213, 0.2553024933885535, 0.0028158363241384578, 0.010324733188507679, 0.06382562334713837, 0.08822953815633834, 0.0018772242160923053, 0.3557339889494918, 0.06758007177932299, 0.0009386121080461527, 0.016895017944830747, 0.9756933562531338, 0.01646053589246986, 0.06204355836392486, 0.19246165043503222, 0.020259121098424444, 0.035453461922242774, 0.029122486578985137, 0.16207296878739555, 0.008863365480560693, 0.06077736329527333, 0.3254121326434426, 0.08483506959965235, 0.8778898644954769, 0.11848820256994166, 0.18925501153167232, 0.20830752947110243, 0.00381050358788602, 0.010796426832343723, 0.055887385955661624, 0.004445587519200356, 0.48456903959283887, 0.02095776973337311, 0.00190525179394301, 0.0006350839313143367, 0.019687601870744437, 0.9902817886895001, 0.9815266484879723, 0.9852744900929372, 0.9952385639540904, 0.9888413695504702, 0.9721459658282364, 0.7777391115664279, 0.1786195088765002, 0.040933637450864625, 0.7843554444708573, 0.16471464333888003, 0.03921777222354286, 0.992112911806473, 0.9849624216285152, 0.9890720132395562, 0.9759793373445793, 0.9542785476175153, 0.026461625213160356, 0.006615406303290089, 0.16759029301668224, 0.7960538918292407, 0.9815309494950922, 0.9949799276316652, 0.23698360509035546, 0.7315580852789234, 0.020607270007856997, 0.0019262766797419732, 0.9265390829558892, 0.06934596047071104, 0.009568649249662164, 0.22064179446279814, 0.633219435639408, 0.13621253637754374, 0.09768336961004619, 0.03941609650931688, 0.17308807597569587, 0.041129839835808917, 0.6460812340874984, 0.9889071258649509, 0.9425402826221486, 0.05566938532798841, 0.992510738189618, 0.9868856485547499, 0.05155450829902603, 0.9365735674323062, 0.9849568440508388, 0.9947412635412809, 0.986502925011122, 0.00451567868382266, 0.04365156061028572, 0.0030104524558817736, 0.00903135736764532, 0.00451567868382266, 0.7496026615145617, 0.054188144205871924, 0.006020904911763547, 0.12794422937497538, 0.0015052262279408868, 0.9641425256743235, 0.9831142135943277, 0.09086617646845217, 0.8604470588033022, 0.048214705881219524, 0.4283059092308044, 0.06217343843672968, 0.5042956673201408, 0.9685097056884552, 0.0698500468046818, 0.12700008509942146, 0.7747005191064709, 0.02540001701988429, 0.9997900734675066, 0.9767615919672367, 0.980206073231534, 0.9686176443169134, 0.9869472130693605, 0.3395433906042328, 0.13598339212951915, 0.04781833569389684, 0.051803197001721576, 0.010626296820865964, 0.06226345793476151, 0.018263947660863377, 0.027727993266947127, 0.03104871102346774, 0.027229885603469034, 0.03503357233129248, 0.13399096147560677, 0.0189280912121675, 0.008301794391301536, 0.05064094578693936, 0.0008301794391301535, 0.0037668149607853556, 0.09417037401963389, 0.6604482231243657, 0.07156948425492175, 0.169506673235341, 0.984301614466592, 0.9825151331713619, 0.9116613090588818, 0.0015691244562115003, 0.07845622281057502, 0.006276497824846001, 0.9839022517587045, 0.9936647574821657, 0.9857035583864895, 0.9907688019784566, 0.9977859516882478, 0.001599015948218346, 0.3513420799438976, 0.027947665450082763, 0.03593271272153498, 0.07585794907879607, 0.16369346906477047, 0.015970094542904437, 0.32738693812954095, 0.052226452817297736, 0.3133587169037864, 0.020574057170450622, 0.3703330290681112, 0.1281922023697308, 0.11553124411099196, 0.01759526014453285, 0.26958452150016404, 0.7119796337055614, 0.06968522308793713, 0.9294161681728482, 0.9051145431139596, 0.09204554675735183, 0.04028579735482364, 0.06042869603223546, 0.7936302078900257, 0.016114318941929457, 0.08460017444512964, 0.004028579735482364, 0.9809378742196311, 0.8968273430706594, 0.002404362850055387, 0.040072714167589785, 0.004007271416758979, 0.056903254117977496, 0.341858479730554, 0.03707914488449723, 0.03455102136964514, 0.020786793344339357, 0.046348931105621535, 0.05898954867988195, 0.12809159141917226, 0.019382280280532644, 0.10646209023654886, 0.019663182893293985, 0.036517339658974544, 0.04438261281629214, 0.050562470297041674, 0.00955068883388565, 0.005618052255226853, 0.03960726839934931, 0.9863029366126548, 0.9833875401207768, 0.34527443640190714, 0.20402580332839967, 0.45121091120703777, 0.9787707197341962, 0.01677892662401479, 0.0033557853248029584, 0.17383761294336772, 0.8220456612067727, 0.9633265125559493, 0.05242738581141753, 0.01474520225946118, 0.06225752065105832, 0.8716052891148165, 0.5822628717777306, 0.015227797059569004, 0.0008014630031352107, 0.34943786936695187, 0.007613898529784502, 0.04448119667400419, 0.5289359799831919, 0.02549876788546908, 0.05753568138259689, 0.037267429986454804, 0.041844131914615924, 0.0052305164893269905, 0.029421655252464318, 0.0016345364029146845, 0.047728462965108784, 0.0212489732378909, 0.07813084005932192, 0.07813084005932192, 0.03694052270587187, 0.002288350964080558, 0.0003269072805829369, 0.007845774733990485, 0.8122954598455816, 0.18759289767734283, 0.8488716166081977, 0.14635717527727546, 0.9789858018751817, 0.988284906280328, 0.16259863531071178, 0.07390847059577808, 0.7587936314499883, 0.01370015744227689, 0.044262047121202255, 0.04953133844515491, 0.5922683448122779, 0.2992957472005105, 0.975807131306851, 0.15986201090667704, 0.5852575314549532, 0.06502861460610591, 0.01625715365152648, 0.06773814021469365, 0.10296197312633436, 0.01873410973024568, 0.9741737059727753, 0.00415960510466509, 0.06239407656997636, 0.34732702623953504, 0.002079802552332545, 0.09047141102646572, 0.01975812424715918, 0.02391772935182427, 0.3026112713643853, 0.14766598121561073, 0.9990909983937784, 0.9606951090029295, 0.17817624851006103, 0.15737746463729127, 0.5941519259654564, 0.0034664639787949617, 0.06655610839286326, 0.8692581319015554, 0.01178084593090201, 0.024964173520244735, 0.03674501945114674, 0.05694075533269305, 0.9726967621497133, 0.994007996454611, 0.9740070834434094, 0.45791551315030576, 0.5404467974971632, 0.9807209784768777, 0.989238354358935, 0.9979068919223042, 0.0009464910156088941, 0.9969705364413685, 0.0018929820312177882, 0.9651505414664228, 0.015319849864546393, 0.854070987147919, 0.05614999569484588, 0.08865788793923035, 0.9981468687639081, 0.1647464293945096, 0.08801521570391609, 0.3076771215632622, 0.01730213642042795, 0.24072537628421495, 0.011284002013322575, 0.0007522668008881717, 0.006018134407105373, 0.0045136008053290304, 0.01354080241598709, 0.015797602818651606, 0.12863762295187736, 0.9604316891997142, 0.02631319696437573, 0.9364294376361078, 0.9784848525268969, 0.9981496042188275, 0.9738619897026255, 0.9867415203064435, 0.9662734668947122, 0.2061647600466058, 0.04417816286712982, 0.7480835578833982, 0.9876913455764021, 0.9939230932402031, 0.2011985745715139, 0.12340179240386187, 0.008047942982860557, 0.6652966199164727, 0.9939315747455655, 0.9812643843207379, 0.16097828110162227, 0.8387685552944741, 0.21119051121324375, 0.20370148599291596, 0.166256359891277, 0.3265214996062918, 0.04193854123383564, 0.014978050440655586, 0.03594732105757341, 0.09121766259800884, 0.17432087054772855, 0.006715410743411694, 0.2258056862472182, 0.018747188325357645, 0.15361502075554248, 0.016508718077553747, 0.13374859730628288, 0.008674072210240105, 0.013710630267798875, 0.039732846898519185, 0.07610798842533252, 0.001119235123901949, 0.02238470247803898, 0.009233689772191078, 0.007834645867313642, 0.9928967658007934, 0.10176739838232582, 0.040340229989390415, 0.3850658317169085, 0.0256710554477939, 0.06692810884603409, 0.04309070021593976, 0.0412570533982402, 0.09351598770267779, 0.044924347033639324, 0.056843051348686495, 0.03025517249204281, 0.027504702265493463, 0.024754232038944116, 0.0036672936353991286, 0.007334587270798257, 0.006417763861948475, 0.8968415458592677, 0.09898251175035395, 0.9824183357571308, 0.9989802847827367, 0.9629958719834685, 0.9881966993282657, 0.05205370094933342, 0.9369666170880016, 0.9613845645273106, 0.997756098560017, 0.8721665221301921, 0.12324092160535323, 0.09800612046885689, 0.11885070579245705, 0.039129309291670474, 0.081915563376955, 0.02340444667913, 0.022307363241045784, 0.0987375094275797, 0.14993473653817657, 0.04790597679634422, 0.07679584066589532, 0.12433612298287813, 0.04498042096145297, 0.02377014115849141, 0.05010014367251266, 0.015293161786614797, 0.6193730523578993, 0.03249796879655644, 0.015293161786614797, 0.08028909937972768, 0.12425693951624522, 0.05161442102982494, 0.05734935669980549, 0.9918334757241264, 0.9978979342635853, 0.04428766887134096, 0.0020902734570544404, 0.8380690141877647, 0.11548760850225784, 0.9853125211141087, 0.9791560526273129, 0.023754604769518555, 0.9660205939604213, 0.04387781953214414, 0.12628250499495142, 0.019263432965331576, 0.08026430402221489, 0.03959705665095935, 0.08026430402221489, 0.3338995047324139, 0.10594888130932366, 0.06635182465836431, 0.027824958727701164, 0.06528163393806811, 0.010701907202961986, 0.0063246262824271, 0.9803170737762005, 0.0042164175216180665, 0.0063246262824271, 0.1710161849683896, 0.8250780853738096, 0.005586083447762325, 0.9936245932707235, 0.9936686862113538, 0.9772478930419914, 0.9819049210904734, 0.0006864179692610003, 0.32330286352193116, 0.0006864179692610003, 0.06246403520275103, 0.6115984106115513, 0.0006864179692610003, 0.8931167432844422, 0.10336999343569933, 0.98889863528197, 0.39930062739901423, 0.1271822531893384, 0.028728986126525677, 0.04809684194216097, 0.009683927907817644, 0.10587761179213957, 0.10813719497063036, 0.023887022172616856, 0.04551446116674293, 0.046482853957524696, 0.006455951938545096, 0.0019367855815635288, 0.04841963953908822, 0.9824160268302301, 0.00450584149259782, 0.06082886015007057, 0.09687559209085314, 0.8358335968768956, 0.9954976483207616, 0.9921937928066309, 0.3403271395916897, 0.0021138331651657746, 0.5474827897779356, 0.10780549142345451, 0.982482105896122, 0.9916328071164698, 0.06739909253995092, 0.07301568358494682, 0.008424886567493866, 0.5050251447958822, 0.08284471791368968, 0.0018721970149986366, 0.03884808806122171, 0.00046804925374965915, 0.00046804925374965915, 0.22091924776983912, 0.02048512961268069, 0.9771406825248689, 0.993220622598615, 0.24144391721147532, 0.08576664521840467, 0.015135290332659647, 0.06270334566387568, 0.04252295855366282, 0.06630698621927084, 0.12756887566098846, 0.0958568387735111, 0.019459658999133832, 0.023784027665608016, 0.029549852554240263, 0.019459658999133832, 0.1708125623257303, 0.08576347637496812, 0.01405958629097838, 0.1145856282714738, 0.004452202325476487, 0.006795466707306217, 0.04545932900749676, 0.051083163523888114, 0.07100091076944082, 0.00234326438182973, 0.03983549449110541, 0.42998901406575546, 0.1136483225187419, 0.01874611505463784, 0.00234326438182973, 0.9736868519955969, 0.999342942704554, 0.9977103636885352, 0.055414849823453606, 0.03217636441361822, 0.06971545622950615, 0.15730667046657798, 0.17160727687263053, 0.08044091103404555, 0.38254122136190555, 0.0500521224211839, 0.9880776757735867, 0.9684324728924324, 0.9837648983572077, 0.06328400705266357, 0.3401515379080667, 0.192286021429247, 0.0024340002712562913, 0.217234524209624, 0.07180300800206059, 0.08032200895145761, 0.007302000813768874, 0.024948502780376986, 0.894941227406813, 0.10286680774790954, 0.9745944891022076, 0.9717032873952762, 0.9994951636723785, 0.9948843943704815, 0.10260316307523261, 0.8905954554930191, 0.8405918963678247, 0.006890097511211678, 0.013780195022423357, 0.03617301193386131, 0.0017225243778029196, 0.012057670644620436, 0.0017225243778029196, 0.08612621889014598, 0.03210398733840259, 0.001003249604325081, 0.9229896359790745, 0.04012998417300324, 0.0030097488129752427, 0.9912189358067274, 0.99329307149494, 0.01603962391224726, 0.2222633599268549, 0.7607364484094415, 0.7145055594389358, 0.28111694141859767, 0.9912621767714838, 0.4577256296193715, 0.0467311506679463, 0.07339187124132593, 0.09406141865214833, 0.06859893271128015, 0.00629073182068508, 0.06919805002753587, 0.04733026798420203, 0.03864306689849406, 0.030255424470913953, 0.01318058095762588, 0.0068898491369408016, 0.014678374248265185, 0.02516292728274032, 0.0017973519487671655, 0.005991173162557218, 0.1786368694153228, 0.11388100425226828, 0.10420484049227163, 0.07964227094766475, 0.064011544873824, 0.04689217822152223, 0.06475586516305451, 0.07964227094766475, 0.002232960867691535, 0.03870465503998661, 0.03870465503998661, 0.01711936665230177, 0.05656834198151889, 0.009676163759996652, 0.10643780135996317, 0.7101705334714818, 0.2888829288697553, 0.03270471576566846, 0.07631100345322642, 0.5063174514833118, 0.0835787180678194, 0.02422571538197664, 0.059353002685842766, 0.21682015266869092, 0.9828973775375578, 0.016234040770139846, 0.9920485906244587, 0.9820529820099091, 0.17022233721528104, 0.5399239758547196, 0.045215308322809025, 0.0026597240189887663, 0.07713199655067422, 0.05053475636078656, 0.053194480379775325, 0.05851392841775286, 0.9791817347880588, 0.9900495331362973, 0.9704955569462196, 0.9642946967063721, 0.6013555839518547, 0.3959102598971286, 0.18881527548287572, 0.06395356105065146, 0.7461248789242669, 0.6633093929336662, 0.006359855685088419, 0.3250592905711859, 0.004711004211176607, 0.00047110042111766067, 0.1639583914937113, 0.8340492089027922, 0.9930697703633176, 0.9954965851308855, 0.02105936942201839, 0.04211873884403678, 0.1544353757614682, 0.007019789807339464, 0.6844295062155977, 0.007019789807339464, 0.08072758278440383, 0.7231494571358281, 0.008059102394141248, 0.0006199309533954806, 0.0024797238135819224, 0.007439171440745768, 0.23712358967377134, 0.006509275010652547, 0.007129205964048028, 0.007439171440745768, 0.9999279532325439, 0.22810577208674937, 0.04939802267360382, 0.05430581758286035, 0.3702184420678299, 0.004374338940859085, 0.021765003510615936, 0.11672016588536192, 0.0012802943241538786, 0.03254081407224441, 0.027846401550346858, 0.011415957723705418, 0.021551621123256957, 0.024112209771564714, 0.014189928759372155, 0.018670958893910728, 0.003627500585102656, 0.9832485406755275, 0.9977096062900745, 0.9756528320242654, 0.2599794894053702, 0.0737872821389247, 0.06896007676535018, 0.03310083684736809, 0.08275209211842022, 0.29239072548508477, 0.08275209211842022, 0.0027584030706140077, 0.07930408828015272, 0.012412813817763034, 0.01103361228245603, 0.8467538017964513, 0.14902866911617543, 0.040821776061563196, 0.16113858971669684, 0.408217760615632, 0.07734652306401447, 0.31153460678561384, 0.02895388708803824, 0.969955217449281, 0.5285672411493731, 0.40730769759157576, 0.062184381311690955, 0.9644623455738396, 0.9653264505199822, 0.9961056171618403, 0.9961179679423621, 0.08171168927252742, 0.0071053642845676016, 0.9059339462823692, 0.8579856309714686, 0.1391328050224003, 0.9933648812623069, 0.9868285613741603, 0.9926237393327516, 0.01728294805827859, 0.8641474029139296, 0.11233916237881084, 0.9897357442702621, 0.9480589361674926, 0.24920517833179884, 0.042083106473064416, 0.13612970093895618, 0.0504997277676773, 0.021590463320963482, 0.019760763039525897, 0.07209019108864077, 0.16869836594854518, 0.009148501407187917, 0.0032934605065876497, 0.09843787514134197, 0.038789645966476764, 0.04793814737366468, 0.04244904652935193, 0.24243815535562147, 0.02540967102987401, 0.06098321047169763, 0.050520404753514214, 0.07323964002728392, 0.0002989373062338119, 0.002391498449870495, 0.5443648346517714, 0.07184032412802023, 0.7902435654082225, 0.022104715116313914, 0.11052357558156958, 0.153274621345046, 0.02071278666824946, 0.8243689093963285, 0.9608945626332649, 0.833990347079073, 0.16067703934550948, 0.974927934085532, 0.967674493696125, 0.9910583658944935, 0.9778829252129646, 0.7473182217399839, 0.056985049588016194, 0.030934741204923077, 0.14327669610701216, 0.01953773128731984, 0.9661085681134866, 0.9789763222286302, 0.20781240709342644, 0.1803482123233701, 0.611536070213255, 0.9997518016732843, 0.9922783603706119, 0.8719467851613836, 0.09243252139519968, 0.03389192451157321, 0.01575145139812701, 0.11813588548595257, 0.858454101197922, 0.994802580177609, 0.0007178953098674706, 0.018665278056554237, 0.0028715812394698825, 0.6985121365010489, 0.2792612755384461, 0.3091400576351078, 0.6840545956181109, 0.9779465777976967, 0.0877390725275704, 0.9121207748178674, 0.7647443809443029, 0.0014664321782249337, 0.23316271633776445, 0.9899986869919924, 0.015377220069797887, 0.02808014099702223, 0.029417290568309003, 0.2413554976172625, 0.0026742991425735456, 0.05214883328018414, 0.008691472213364023, 0.6077344801498382, 0.014040070498511114, 0.0037925823387150565, 0.9936565727433448, 0.9863728209467167, 0.05255540745917872, 0.2489466669118992, 0.6970506673533178, 0.9038350596295802, 0.007006473330461863, 0.007006473330461863, 0.08174218885538839, 0.9261349988257254, 0.01634355880280692, 0.027239264671344864, 0.027239264671344864, 0.9838752045696486, 0.1519551110006821, 0.04452638136299057, 0.08834599476783843, 0.37246671394120684, 0.012721823246568734, 0.10530842576326341, 0.07774447539569782, 0.023323342618709348, 0.007774447539569782, 0.06926325989798533, 0.021909806702423932, 0.015548895079139565, 0.0021203038744281224, 0.00565414366514166, 0.07118073570655176, 0.9267452648853013, 0.9671342508498023, 0.12973705000998612, 0.06441804913690283, 0.16667607119338496, 0.025677124481143086, 0.10405992552884304, 0.02162284166833102, 0.01126189670225574, 0.07838280104769994, 0.04910186962183503, 0.05045329722610571, 0.19865985782779125, 0.008108565625624132, 0.03468664184294768, 0.018469510591699413, 0.03738949705148906, 0.0013514276042706887, 0.023932906167179545, 0.1316309839194875, 0.8376517158512841, 0.9851199598519538, 0.9722657177613734, 0.9828608525013609, 0.8353196258457886, 0.0011553521795930686, 0.16290465732262266, 0.9886812003644848, 0.7824524321234281, 0.21498074248935772, 0.361392725439646, 0.11861094578531972, 0.08472210413237123, 0.06883670960755163, 0.05798169001559156, 0.05851120316641888, 0.06195303864679646, 0.03150603247422555, 0.015885394524819605, 0.048715209876113455, 0.013767341921510325, 0.003177078904963921, 0.03362408507753483, 0.014561611647751304, 0.02303382206098843, 0.0034418354803775813, 0.07601314522139954, 0.9067282322838374, 0.013573775932392776, 0.985585019408607, 0.9936626814713043, 0.9752381830532345, 0.989101047014272, 0.2240591619708368, 0.0009108096015074667, 0.14026467863214986, 0.015483763225626933, 0.0081972864135672, 0.41623998788891226, 0.1420862978351648, 0.0519161472859256, 0.9895197850874659, 0.9976952897266588, 0.9603126326954224, 0.031745872155220574, 0.9986722470677731, 0.0043212605130432844, 0.6395465559304061, 0.1063030086208648, 0.08469670605564837, 0.04839811774608479, 0.05358363036173673, 0.021606302565216423, 0.008642521026086569, 0.031113075693911647, 0.9814894535016349, 0.32578684546469305, 0.04123884119806241, 0.014433594419321844, 0.05361049355748113, 0.018557478539128085, 0.055672435617384254, 0.010309710299515603, 0.03402204398840149, 0.015464565449273403, 0.2433091630685682, 0.12371652359418722, 0.006185826179709361, 0.05154855149757801, 0.0051548551497578015, 0.7764538687158252, 0.040440305662282565, 0.17793734491404328, 0.9910991471292273, 0.1687857914717957, 0.11593367495032432, 0.003409813969127186, 0.044327581598653416, 0.07160609335167091, 0.494423025523442, 0.02898341873758108, 0.07160609335167091, 0.0014203749798128828, 0.15048872911117495, 0.0012073187328409504, 0.00028407499596257656, 0.02535369338965996, 0.3996935193193452, 0.2868447271732117, 0.08131646759428754, 7.101874899064414e-05, 0.047369505576759646, 0.00014203749798128828, 0.005255387425307667, 0.000497131242934509, 0.9750631550075758, 0.02285304269549006, 0.5975505446423238, 0.046530575197557995, 0.14367335499596856, 0.011428562329224772, 0.17061210905771265, 0.030204057584379752, 0.08486844127845354, 0.9093047279834309, 0.0067469437420674275, 0.0647706599238473, 0.15383031731913735, 0.03913227370399108, 0.30361246839303424, 0.005397554993653942, 0.280672859670005, 0.14438459608024296, 0.365598168601419, 0.02139138220540218, 0.011668026657492097, 0.0058340133287460485, 0.593124688422515, 0.010233777464866752, 0.9824426366272082, 0.9878321875150485, 0.9992748007238492, 0.9971237446273216, 0.042580529406991106, 0.9509651567561347, 0.9983952492275225, 0.2985408029934008, 0.360736803617026, 0.001130836374975003, 0.13909287412192536, 0.021485891124525057, 0.05993432787367516, 0.038448436749150106, 0.04071010949910011, 0.013570036499700037, 0.015831709249650043, 0.007915854624825022, 0.002261672749950006, 0.9751092539418044, 0.9973992198242276, 0.938949399380608, 0.0052651368189566795, 0.05440641379588569, 0.0017550456063188933, 0.949446519861072, 0.03977644800875165, 0.00864705391494601, 0.995289175198924, 0.9873053573099864, 0.9986416958624563, 0.06383178310962101, 0.10147616802042314, 0.05892164594734247, 0.022913973423966515, 0.6988761894309787, 0.05401150878506393, 0.8644594891934532, 0.1317773611575386, 0.9877737521002251, 0.9796918518276038, 0.0020072570419631705, 0.9978297784159139, 0.25901334503110524, 0.7365691999322056, 0.9953056850069124, 0.9705250580221293, 0.9874112448356427, 0.05888922718104213, 0.09950248730589877, 0.13673130908701736, 0.2423257854116446, 0.02098351773117593, 0.025721731412409205, 0.2666937414865586, 0.026398619081156816, 0.004061326012485664, 0.004061326012485664, 0.09611804896216071, 0.0033844383437380532, 0.008799539693718939, 0.006091989018728496, 0.007962445500847019, 0.9873432421050303, 0.9580108976024135, 0.0003891980083698613, 0.0007783960167397226, 0.0056433711213629886, 0.009016420527235119, 0.009989415548159773, 0.00019459900418493064, 6.486633472831021e-05, 0.01504898965696797, 0.00025946533891324085, 6.486633472831021e-05, 0.00019459900418493064, 0.00025946533891324085, 0.938082942163801, 0.0594559611230578, 0.9884052322305714, 0.8295322403425305, 0.0022883648009449117, 0.020595283208504206, 0.05377657282220542, 0.01716273600708684, 0.006865094402834735, 0.012586006405197015, 0.0022883648009449117, 0.02974874241228385, 0.006865094402834735, 0.01373018880566947, 0.0011441824004724559, 0.0034325472014173674, 0.9690597342949143, 0.025727249583050824, 0.9882482081588403, 0.009066497322558167, 0.7912966997880224, 0.028429821549270266, 0.17847610194819669, 0.10489962325532509, 0.8916467976702632, 0.0035318055688465574, 0.02001356489013049, 0.1506903709374531, 0.13774041718501573, 0.025899907504874753, 0.34023060313221837, 0.24604912129631015, 0.04591347239500524, 0.005886342614744262, 0.007063611137693115, 0.005886342614744262, 0.011772685229488523, 0.7409049557558314, 0.006970879960068306, 0.21808895875070844, 0.03087103982315964, 0.002987519982886417, 0.1898677745701765, 0.8044397817315373, 0.025140293841641577, 0.06913580806451433, 0.03142536730205197, 0.8673401375366344, 0.9761975470929484, 0.9100121135627955, 0.04371237226720852, 0.003973852024291683, 0.03973852024291683, 0.9898594677262516, 0.02128112099235667, 0.10808569346117992, 0.7487594412310754, 0.1209663719565537, 0.0005600294997988597, 0.9861154618562804, 0.6323870017075572, 0.11167201548331614, 0.00025265161874053424, 0.001010606474962137, 0.0007579548562216028, 0.0841329890405979, 0.003031819424886411, 0.007579548562216027, 0.09044927950911126, 0.0012632580937026712, 0.06771063382246319, 0.7879940913934689, 0.003770306657385019, 0.007540613314770038, 0.003770306657385019, 0.1114933540112427, 0.05817044557108315, 0.007001998078000749, 0.008079228551539325, 0.011849535208924344, 0.21802246075510887, 0.6904044590578448, 0.08919100667254454, 0.9929676475096543, 0.9662674833975461, 0.023006368652322525, 0.41453824791168703, 0.11267489638500795, 0.08321897235662117, 0.01975702221416186, 0.0732805914852549, 0.03508368187120864, 0.06525804307101948, 0.059390806171056264, 0.002275051042842881, 0.02322946854271152, 0.030653319314093555, 0.0477760718997005, 0.021433375614151352, 0.002634269628554915, 0.006106715957104575, 0.0025145300999842367, 0.9922036339237225, 0.9870500196304733, 0.9981305514190891, 0.03634396257572667, 0.0033039965977933335, 0.45595153049548004, 0.049559948966900004, 0.4526475338976867, 0.07536759457416164, 0.9194846538047721, 0.6145243479981328, 0.010517531628329902, 0.3410685256615554, 0.033055099403322546, 0.38381289822693326, 0.0036380369500183247, 0.5347914316526937, 0.07639877595038481, 0.10997807331631156, 0.004488900951686186, 0.8214688741585721, 0.031422306661803304, 0.031422306661803304, 0.9928684877004142, 0.9781152132608976, 0.9849766328681132, 0.9090609069097728, 0.08762032837684558, 0.9901327168419554, 0.9861208822895384, 0.9887076413228988, 0.8708961941765129, 0.08937361171708798, 0.031777284166075725, 0.006951280911329065, 0.9777509541960199, 0.008240783717193636, 0.4897380037646504, 0.41557095030990765, 0.0859396016221622, 0.12450402677093504, 0.8559651840501784, 0.7930394046837488, 0.0243567542302661, 0.07967548417697215, 0.0024769580573151965, 0.0012384790286575982, 0.0012384790286575982, 0.020641317144293306, 0.0024769580573151965, 0.019402838115635705, 0.05573155628959192, 0.25868992804939867, 0.7362713336790578, 0.9806447002044755, 0.9996135676019072, 0.1171998822159653, 0.13033015947667512, 0.030151007043111407, 0.14832350238949968, 0.2519068007795437, 0.1381110645200587, 0.03695929895607205, 0.006321985347749166, 0.021883795434516344, 0.001458919695634423, 0.04522651056466711, 0.004863065652114743, 0.0549526418688966, 0.012643970695498332, 0.9871643160588004, 0.19016235867707074, 0.19500963448648626, 0.038032471735414144, 0.01155888846860626, 0.03318519592599862, 0.06376032026231195, 0.18382361338783504, 0.058167309712986344, 0.007084480029145772, 0.061523116042581705, 0.05555723812330106, 0.052574299163660736, 0.0238635116771226, 0.009321684248876016, 0.01640616427802179, 0.09189812046081135, 0.21801362619958436, 0.18770679923910402, 0.13882482027058735, 0.06843477055592334, 0.06647949139718268, 0.029329187381110004, 0.046926699809776005, 0.005377017686536834, 0.02541862906362867, 0.0043993781071665, 0.07087886950434917, 0.011242855162758834, 0.03568384464701717, 0.9823734273650874, 0.989485387627414, 0.011707844955465571, 0.008362746396761123, 0.11707844955465573, 0.055194126218623414, 0.10704315387854237, 0.6021177405668009, 0.0016725492793522245, 0.0953353089230768, 0.0016340948219008534, 0.13726396503967167, 0.07843655145124095, 0.6340287908975311, 0.14870262879297766, 0.99047742022934, 0.9739861141883939, 0.9947433592922518, 0.9946430008342554, 0.0064031745259907884, 0.16232912717241513, 0.07389609520535316, 0.21078558304477785, 0.1773852402470421, 0.10573890906433438, 0.009691291174472545, 0.01938258234894509, 0.02578575687493588, 0.07476138906021677, 0.008825997319608925, 0.11041149588059793, 0.005018704358208997, 0.00017305877097272403, 0.006922350838908961, 0.0024228227936181363, 0.12817664117913594, 0.030899725998541697, 0.10128243521744222, 0.009727691518059424, 0.22144803632288215, 0.005149954333090283, 0.0017166514443634276, 0.021744251628603415, 0.0005722171481211425, 0.00228886859248457, 0.010872125814301708, 0.07324379495950624, 0.0005722171481211425, 0.35878015187195633, 0.03376081173914741, 0.9933256743459468, 0.09849180349377677, 0.09752777279073817, 0.02715353146892051, 0.41003439235908373, 0.06941021061877906, 0.026992859685080747, 0.0069088867051099526, 0.010925681301104112, 0.12918011420717215, 0.019923301196131026, 0.00016067178383976635, 0.02779621860427958, 0.07535506662085041, 0.00016067178383976635, 0.0003213435676795327, 0.8850427957026284, 0.033189104838848564, 0.07744124462397999, 0.9750178516007875, 0.9951467978222579, 0.2315128213604051, 0.7593620540621288, 0.08034726143527832, 0.009652106081510707, 0.06234738793192051, 0.723907956113303, 0.0018260741235290527, 0.02191288948234863, 0.017999873503357803, 0.020608550822685024, 0.004173883710923549, 0.0005217354638654436, 0.008869502885712541, 0.011478180205039759, 0.035738879274782885, 0.04524783785236709, 0.11643041203474946, 0.0008277043509579346, 0.058491107467694044, 0.2753496474186729, 0.0670440524275927, 0.003310817403831738, 0.03310817403831738, 0.273694238716757, 0.017105889919797314, 0.011311959463091773, 0.09794501486335559, 0.9818124511227917, 0.9811217409842472, 0.9860582712238747, 0.05955256935510702, 0.93299025323001, 0.0962351411904865, 0.8994284349726238, 0.00028127141050884874, 0.9996385929484484, 0.9882980075244616, 0.9771440451229758, 0.26069514440131797, 0.07844340381084702, 0.07515535694452409, 0.01174302452258189, 0.054957354765683246, 0.037577678472262045, 0.2174808141582166, 0.1442043411373056, 0.014091629427098268, 0.033819910625035844, 0.031941026701422744, 0.015970513350711372, 0.0018788839236131025, 0.002348604904516378, 0.011273303541678614, 0.007985256675355686, 0.984687963073564, 0.992322543093957, 0.05692313373848452, 0.11384626747696903, 0.19827158942618203, 0.1771652589388788, 0.0031979288617126136, 0.014710472763878022, 0.28845318332647774, 0.07675029268110273, 0.011512543902165408, 0.03581680325118127, 0.006395857723425227, 0.008954200812795318, 0.0006395857723425228, 0.005756271951082704, 0.0006395857723425228, 0.42465069112540604, 0.08903966104242385, 0.03881215994156937, 0.05935977402828257, 0.05022750110085448, 0.3356110300829822, 0.9837030037411525, 0.9987290231045445, 0.9852115523947598, 0.989902370526458, 0.16070648260755782, 0.646894448977258, 0.0203425927351339, 0.0406851854702678, 0.0203425927351339, 0.02441111128216068, 0.02237685200864729, 0.01017129636756695, 0.02441111128216068, 0.02644537055567407, 0.9907052227874048, 0.9959853453447248, 0.7869525600011907, 0.21093573773227792, 0.961635374392673, 0.9647292014737723, 0.7546085343037757, 0.19053865491170335, 0.0528225974012643, 0.9673090563757392, 0.9670745114746748, 0.9979944831374019, 0.9587209189684509, 0.9900369872358068, 0.9943864718394773, 0.9742093726891654, 0.1260808739605332, 0.10750542291662406, 0.13467202006834117, 0.03668651581172052, 0.04040160602050235, 0.020897382424397766, 0.05549415999367851, 0.06106679530685125, 0.1286349984790707, 0.04736740016196827, 0.006501407865368194, 0.17275169470835486, 0.022058348114642086, 0.011377463764394339, 0.020432996148300037, 0.008358952969759106, 0.006249773952175663, 0.1687438967087429, 0.022915837824644097, 0.004166515968117109, 0.11874570509133761, 0.12082896307539616, 0.5562298817436341, 0.1030341987742733, 0.8929630560437021, 0.9768394805678702, 0.9840902160279962, 0.985783831756064, 0.9831717154540017, 0.9905415935450543, 0.9803961276370484, 0.1427560609104609, 0.85104574773544, 0.9933065510777283, 0.0188219244938417, 0.32223831841771583, 0.17811117437690943, 0.4613114271777684, 0.016904876628728197, 0.002439879101053554, 0.8288943311150261, 0.01509694792143586, 0.006470120537758226, 0.1488127723684392, 0.9779286799868265, 0.9914442218676599, 0.11846490894722429, 0.008775178440535132, 0.028519329931739182, 0.2391236125045824, 0.6010997231766566, 0.0008430064935571188, 0.0646304978393791, 0.0011240086580761584, 0.0001405010822595198, 0.004215032467785594, 0.9236541147740831, 0.0023885183984118366, 0.0014050108225951978, 0.0015455119048547177, 0.9713602981965528, 0.637106870226852, 0.3616011966152403, 0.12625255282919118, 0.8643444001383088, 0.1723689042931914, 0.8243730205326545, 0.997173367355471, 0.8524912267197228, 0.09450249164560437, 0.051188849641369036, 0.04073443341156912, 0.1508040726300644, 0.10053604842004293, 0.4498121476724335, 0.08926907747641744, 0.0416011234841557, 0.03293422275828993, 0.0008666900725865771, 0.05893492493588724, 0.019067181596904695, 0.012133661016212079, 0.004333450362932885, 0.8776278714829546, 0.0415190999559636, 0.008590158611578675, 0.044382486159823153, 0.027202168936665803, 0.8832948868684278, 0.11276104938745887, 0.9871319394547217, 0.9628356267610755, 0.09381399286836227, 0.10842436880687771, 0.023837981794419923, 0.17993831419013748, 0.1499485951584479, 0.4406181796194392, 0.0030758686186348285, 0.9843326027313022, 0.9773662385309215, 0.987992548404033, 0.31876346190277216, 0.12975446210424918, 0.0439002596786043, 0.17733109820914053, 0.008434040036776197, 0.035033704768147274, 0.01427299083146741, 0.013191703647265332, 0.10272228249919726, 0.035033704768147274, 0.0002162574368404153, 0.02984352628397731, 0.05017172534697635, 0.03871008119443434, 0.0025950892420849836, 0.17652863831392807, 0.0769483808035071, 0.11768575887595205, 0.013579126024148312, 0.6110606710866741, 0.9778995500139709, 0.10726316126817027, 0.25172241878256085, 0.0575241953575268, 0.00043251274704907367, 0.044765069319579125, 0.09601782984489436, 0.05319906788703606, 0.2629677502058368, 0.025950764822944422, 0.013407895158521284, 0.08282619105989761, 0.0017300509881962947, 0.0019463073617208314, 0.9602739049925212, 0.4756500838109091, 0.09228732686735232, 0.0452428110022161, 0.04203978013480257, 0.03503315011233548, 0.05164887273704316, 0.014814017761787573, 0.056053040179736766, 0.04384148499772268, 0.019218185204481177, 0.054451524746029996, 0.007407008880893786, 0.03423239239548209, 0.015614775478640956, 0.00500473573033364, 0.007607198310107133, 0.0240736766707687, 0.08458318830270084, 0.01951919730062327, 0.037086474871184216, 0.2199162895870222, 0.1203683833538435, 0.020169837210644047, 0.13598374119434212, 0.2680636429285596, 0.0035785195051142664, 0.06636527082211913, 0.9928798621247094, 0.9974264141943122, 0.9704330702041275, 0.9807777732478821, 0.001818018119401703, 0.8181081537307663, 0.10544505092529877, 0.07453874289546981, 0.16054982648964417, 0.10295834896713223, 0.049713398050092866, 0.17684930126016643, 0.06900110986187753, 0.05270163509135528, 0.07633587350861254, 0.07361929438019217, 0.01847273807325855, 0.04156366066483174, 0.10132840149007999, 0.04509521353177823, 0.004618184518314638, 0.014669527293470026, 0.0019016053898942627, 0.010866316513681501, 0.3958591326280369, 0.054618538552475976, 0.06464028874559083, 0.03908482575314794, 0.006514137625524658, 0.035076125675902, 0.015032625289672287, 0.0035076125675902003, 0.028561988050377345, 0.007015225135180401, 0.10322402698908303, 0.09370336430562393, 0.007015225135180401, 0.049106575946262804, 0.0045097875869016864, 0.09220010177665669, 0.17361192074787413, 0.13401621952467477, 0.0741150304947065, 0.04162625000387626, 0.06700810976233738, 0.07309975610436806, 0.05787064024929138, 0.0010152743903384452, 0.044672073174891594, 0.0010152743903384452, 0.3218419817372871, 0.0020305487806768904, 0.009137469513046007, 0.21840695374605343, 0.10748250517445467, 0.14221484309109067, 0.028787162957932544, 0.06930822386067455, 0.06305014495677617, 0.0710291955592466, 0.033637174108453786, 0.02002585249247481, 0.02378069983481384, 0.04443236021767849, 0.10670024531146736, 0.038017829341182655, 0.012672609780394218, 0.013924225561173894, 0.006570982849093298, 0.9681409385425608, 0.19347509619264894, 0.2625733448328807, 0.0011144878812940607, 0.006909824864023176, 0.006686927287764364, 0.045694003133056486, 0.13685911182291066, 0.12616002816248767, 0.029868275218680827, 0.06151973104743215, 0.08113471775820762, 0.014042547304305165, 0.033880431591339445, 0.1542054321298493, 0.1486182787918113, 0.2413650242032424, 0.4279759456937122, 0.02681833602258249, 0.573534426126959, 0.13596917978188847, 0.0004562724153754647, 0.0606842312449368, 0.007300358646007435, 0.05885914158343494, 0.017338351784267656, 0.05064623810667658, 0.013231900045888475, 0.021901075938022305, 0.0004562724153754647, 0.020075986276520446, 0.02737634492252788, 0.0063878138152565055, 0.0063878138152565055, 0.9986990596374141, 0.267010564654969, 0.09559637499992717, 0.013185706896541678, 0.006592853448270839, 0.6098389439650527, 0.9710333256251693, 0.486764982969185, 0.066713982437401, 0.019767105907378072, 0.06424309419897874, 0.11464921426279281, 0.0014825329430533554, 0.00840102001063568, 0.001976710590737807, 0.23522856029779907, 0.9910134026808669, 0.6700468846469436, 0.021384475041923732, 0.30793644060370173, 0.3721821693405693, 0.02365950220746895, 0.27208427538589297, 0.24660481147015714, 0.08371823858027476, 0.9948221766191552, 0.9915504995112305, 0.19162503320255028, 0.8024298265356794, 0.22385480203858382, 0.7710554292440109, 0.9989802573074662, 0.9986324605213804, 0.19245834894463126, 0.055987883329347274, 0.17321251405016813, 0.18720948488250494, 0.3884159405973467, 0.9963435124411731, 0.22128304864997203, 0.7785885045091608, 0.05145085185384679, 0.916220938781964, 0.029683183761834687, 0.006940332328542083, 0.14475550285244917, 0.34305071223936584, 0.4144369876186558, 0.0059488562816075, 0.015863616750953335, 0.0178465688448225, 0.049573802346729166, 0.47534029907700803, 0.023677665273572766, 0.0969444031012319, 0.020997174865243776, 0.0026804904083289924, 0.0696927506165538, 0.031719136498559744, 0.01563619404858579, 0.03127238809717158, 0.2314156719190697, 0.9883817191428307, 0.09504979350717464, 0.09504979350717464, 0.8079232448109845, 0.29972652097020275, 0.10247060545989838, 0.5943295116674105, 0.32923608404126686, 0.014787353840690983, 0.38882042157581587, 0.07045739182917468, 0.0021746108589251445, 0.05653988233205376, 0.08698443435700579, 0.04001283980422266, 0.010438132122840693, 0.9943794285002858, 0.0001890899764449001, 0.8702866165876527, 0.0014181748233367507, 0.11080672619671146, 0.013709023292255257, 0.003309074587785752, 9.454498822245005e-05, 0.9774357885574506, 0.9992299518573856, 0.000525426555465958, 0.1683921747581277, 0.13110162371215342, 0.04443682389450592, 0.09004303789149884, 0.24219368344841824, 0.04417695942728659, 0.04859465537001525, 0.008315662951018652, 0.04365723049284792, 0.1327907427490791, 0.013642884529014975, 0.016501393668427636, 0.0028585091394126615, 0.011434036557650646, 0.0019489835041449964, 0.1014066578186829, 0.03086289585786001, 0.6442017151283479, 0.0009797744716780955, 0.143536960100841, 0.003919097886712382, 0.0029393234150342866, 0.0004898872358390478, 0.03184267032953811, 0.016656166018527624, 0.023024700084435246, 0.998446862234902, 0.482976582287973, 0.0010245578750275202, 0.20573122130552604, 0.03954793397606228, 0.21085401068066364, 0.05758015257654663, 0.0018442041750495364, 0.9614307892860184, 0.9645524298756346, 0.03266755110095732, 0.4620785421159923, 0.05824519438436877, 0.477610593951824, 0.8895257269440183, 0.0020448867286069388, 0.06339148858681509, 0.03067330092910408, 0.012269320371641631, 0.9868332475925853, 0.9989881912956494, 0.07203578574459991, 0.9261743881448561, 0.9973714904261928, 0.1323526608812822, 0.10481106670945468, 0.27490591219657456, 0.036467110801586426, 0.14790856129314775, 0.024481417041624452, 0.032641889388832605, 0.006375369021256368, 0.07930959062442922, 0.015300885651015284, 0.04258746506199254, 0.0005100295217005095, 0.01657595945526656, 0.04921784884409916, 0.001020059043401019, 0.035957081279885915, 0.9966901483076023, 0.43064114288110134, 0.04760186186805562, 0.016015579693925256, 0.023578492327167737, 0.11299881228491708, 0.032476036601570654, 0.07963302125590613, 0.000444877213720146, 0.01557070248020511, 0.05338526564641752, 0.05560965171501825, 0.027137510036928904, 0.1045461452242343, 0.9375750496846957, 0.05814418912773307, 0.9689658614161759, 0.9974163281127985, 0.4579922299258895, 0.006034153226955066, 0.0002011384408985022, 0.3373091653867882, 0.007039845431447577, 0.14823903094219612, 0.0008045537635940088, 0.0008045537635940088, 0.04143451882509145, 0.9839048225423096, 0.1118345951871553, 0.05591729759357765, 0.8263333977717586, 0.9903002556117314, 0.3467916628545254, 0.03271619460891749, 0.4985948058399025, 0.0065432389217834975, 0.0026172955687133992, 0.06281509364912158, 0.019629716765350493, 0.007851886706140197, 0.009160534490496896, 0.011777830059210296, 0.0013086477843566996, 0.11281354468212348, 0.10687598969885383, 0.777819702808325, 0.046670164674009494, 0.9450708346486922, 0.9867542460556264, 0.988387808435319, 0.9864355471368823, 0.9840182323972227, 0.9816919383718795, 0.014024170548169708, 0.15913283526793812, 0.008375412382523059, 0.8291658258697828, 0.9032545243588316, 0.06948111725837167, 0.02592579002178047, 0.062310487159681155, 0.2955911287427239, 0.037908104257244446, 0.01918426328807917, 0.012891824929589204, 0.16974236157292452, 0.008287601740450203, 0.24110782100457906, 0.06906334783708502, 0.019337737394383808, 0.0046042231891390015, 0.001995163381960234, 0.03852200068246298, 0.0015347410630463338, 0.01810994454394674, 0.26036452508986696, 0.048105445588032564, 0.14034887733415688, 0.02082916200718936, 0.001983729714970415, 0.0937312290323521, 0.013886108004792905, 0.004959324287426038, 0.20829162007189359, 0.019837297149704152, 0.024300689008387586, 0.02777221600958581, 0.1284464990443344, 0.0069430540023964525, 0.020874643450436867, 0.011928367685963925, 0.10019828856209696, 0.035188684673593575, 0.0805164818802565, 0.011928367685963925, 0.013717622838858513, 0.022663898603331456, 0.0029820919214909813, 0.6494996205007357, 0.05009914428104848, 0.041565455880135195, 0.9560054852431095, 0.9706557052564606, 0.9543734546318905, 0.9837890594910279, 0.38097399970824336, 0.0045900481892559445, 0.5921162164140168, 0.02295024094627972, 0.9491229480245952, 0.04882947642570264, 0.014899654675043518, 0.14899654675043517, 0.04469896402513055, 0.7847151462189585, 0.996753598345558, 0.01901978385766082, 0.027171119796658313, 0.004075667969498747, 0.19699061852577276, 0.7309031225301087, 0.020378339847493734, 0.9944796534094362, 0.9743124177880088, 0.0943801084219043, 0.25617458000231164, 0.6404364500057792, 0.002633638826606299, 0.05943244952041547, 0.0003511518435475065, 0.03485182047209002, 0.7465488193819988, 0.007110824831837006, 0.1403729494581157, 0.005618429496760104, 0.0003511518435475065, 8.778796088687662e-05, 0.002545850865719422, 0.1169458819984733, 0.872596196450147, 0.11076578728893069, 0.15448912437666648, 0.731637173934779, 0.9984523285992888, 0.2874246919601052, 0.039809514121898225, 0.19427042891486335, 0.023089518190700972, 0.0007961902824379645, 0.10668949784668726, 0.31608754212787193, 0.0007961902824379645, 0.016719995931197256, 0.009554283389255574, 0.004777141694627787, 0.8418751658914939, 0.0018918543053741436, 0.15576267114247114, 0.1360405647749096, 0.1425809765429341, 0.0981061765203675, 0.0143889058896539, 0.0222374000112833, 0.078484941216294, 0.1334244000676998, 0.0366263059009372, 0.0209293176576784, 0.0091565764752343, 0.0170050705968637, 0.1111870000564165, 0.1805153647974762, 0.9876480371580113, 0.9850187586414144, 0.1359304299618647, 0.059809389183220464, 0.1250559955649155, 0.6742149326108489, 0.0024653128790321963, 0.03566485964999911, 0.933860518577396, 0.0009861251516128785, 0.019065086264515654, 0.007889001212903028, 0.997883635073007, 0.98699029485218, 0.9682035016280205, 0.3990395396068447, 0.008441027783171734, 0.258255254794659, 0.0008039074079211175, 0.002210745371783073, 0.017183520844313887, 0.05516814586858669, 0.043109534749769925, 0.004120025465595727, 0.009244935191092851, 0.12018415748420706, 0.021303546309909615, 0.036979740764371404, 0.012058611118816762, 0.0006029305559408382, 0.011355192136885786, 0.9948357561911781, 0.984458348394043, 0.008050392916238516, 0.019320942998972437, 0.08694424349537597, 0.057962828996917314, 0.44438168897636604, 0.017710864415724732, 0.003220157166495406, 0.11592565799383463, 0.24634202323689858, 0.39527867124732347, 0.08315025435003458, 0.21826941766884078, 0.012598523386368875, 0.0009448892539776657, 0.0503940935454755, 0.04252001642899496, 0.013228449555687319, 0.0100788187090951, 0.024252157518760087, 0.06740210011707348, 0.044094831852291065, 0.013543412640346541, 0.0100788187090951, 0.0009448892539776657, 0.012913486471028097, 0.9951800457406036, 0.42475918192566753, 0.03856012277861443, 0.25736640087121726, 0.20087133726534032, 0.0014945784022718774, 0.042446026624521314, 0.0002989156804543755, 0.000597831360908751, 0.000597831360908751, 0.023315423075441287, 0.009864217454994391, 0.31408954154027097, 0.6836066492347075, 0.9872576359415731, 0.00401012656822855, 0.0874207591873824, 0.00160405062729142, 0.11709569579227366, 0.060151898523428254, 0.6696911368941679, 0.060151898523428254, 0.9931775866178536, 0.8443575430465214, 0.15445564811826612, 0.9954670299840445, 0.2633288865721092, 0.06528815369556426, 0.11425426896723745, 0.09521189080603121, 0.10609324975529191, 0.041893231954653734, 0.021218649951058384, 0.015233902528964994, 0.14172970031412074, 0.006256781395824908, 0.014145766634038923, 0.0005440679474630355, 0.06365594985317514, 0.04923814924540471, 0.0019042378161206242, 0.14943401927128375, 0.007389594359568976, 0.014505500039153917, 0.1984242929884262, 0.1491603305912997, 0.027368867998403615, 0.257267359184994, 0.11221235879345483, 0.07854865115541838, 0.005200084919696687, 0.9947785721975181, 0.9925409982615019, 0.04507113806616694, 0.9510010131961224, 0.9884094616482854, 0.9724449757628142, 0.02614099397211866, 0.953162613188913, 0.6088217281676482, 0.026122823712972646, 0.00533118851285156, 0.15833629883169134, 0.0970276309338984, 0.08956396701590622, 0.0063974262154218725, 0.00799678276927734, 0.9877740404597277, 0.3751104008106762, 0.04655782033591334, 0.09686674467993343, 0.0655339935533946, 0.02912621935706427, 0.020741398633060917, 0.035304508311593055, 0.04810239257454554, 0.048543698928440446, 0.011694618378215199, 0.039717571850542185, 0.07325685474655558, 0.05229480293654721, 0.0218446645177982, 0.011915271555162655, 0.023389236756430398, 0.030602894149954787, 0.08743684042844224, 0.25138091623177145, 0.002185921010711056, 0.015301447074977393, 0.002185921010711056, 0.006557763032133169, 0.6055001199669625, 0.15240547897625925, 0.1632915846174206, 0.018143509401935622, 0.6640524441108439, 0.9778462817463398, 0.9930154725999912, 0.9955638156564289, 0.03007107092991637, 0.0281916289967966, 0.6089391863308066, 0.06578046765919207, 0.15035535464958186, 0.0018794419331197732, 0.0018794419331197732, 0.0639010257260723, 0.02255330319743728, 0.024432745130557054, 0.030338079773062077, 0.008126271367784484, 0.1543991559879052, 0.002167005698075863, 0.019503051282682763, 0.046590622508631045, 0.02979632834854311, 0.04767412535766898, 0.037380848291808634, 0.6143461154045071, 0.0037922599716327596, 0.005417514245189657, 0.9736114977585568, 0.996563888496097, 0.9881514679945529, 0.9745523571168112, 0.9817795256588456, 0.9651717389553096, 0.9985441426464784, 0.05669539954102397, 0.0008216724571162894, 0.9420474720838258, 0.9866391110434433, 0.9939688569148536, 0.26695929134302604, 0.050369677611891706, 0.057925129253675454, 0.021407112985053975, 0.4684380017905928, 0.011333177462675634, 0.03777725820891878, 0.0012592419402972926, 0.0843692099999186, 0.9700734941548952, 0.0283095377671662, 0.9974609177698907, 0.9861681944537047, 0.30599815915280637, 0.04019467344803813, 0.1880073435472751, 0.03889807107874657, 0.002593204738583105, 0.049270890033078996, 0.028525252124414154, 0.04538108292520433, 0.009076216585040866, 0.06742332320316073, 0.22171900514885545, 0.14707685781938268, 0.09192303613711417, 0.056088632219256106, 0.13336630327689786, 0.020565831813727238, 0.01121772644385122, 0.056088632219256106, 0.11404688551248741, 0.13211988922758106, 0.02243545288770244, 0.014956968591801628, 0.08257493076723815, 0.047363733874038486, 0.023993470449348447, 0.02617469503565285, 0.019942624789068837, 0.9800359799195107, 0.9945314447218019, 0.15010491413841817, 0.20206430749402446, 0.6408325180524775, 0.7990529619628112, 0.1412690319492263, 0.002207328624206661, 0.05518321560516652, 0.9893713106418358, 0.9504288229147664, 0.9900166823785455, 0.012756541914255463, 0.41246152189426, 0.5740443861414959, 0.9798018066182445, 0.997690911885419, 0.9774793363084872, 0.00867787179318897, 0.7940252690767907, 0.18223530765696835, 0.013016807689783454, 0.9910144781626754, 0.05580179829241146, 0.9374702113125125, 0.9769417404021626, 0.9971833543031917, 0.9849913334633025, 0.9978753264472665, 0.20208172092315319, 0.06913322031581556, 0.13294850060733762, 0.024817053446703024, 0.512294889006941, 0.04077087351958354, 0.005317940024293505, 0.012408526723351512, 0.9747454301940696, 0.2582021337644753, 0.1253464497245887, 0.15220640323700058, 0.03148102078336444, 0.03408037112327527, 0.04967647316274022, 0.06036269122681806, 0.11494904836494539, 0.02859285373901908, 0.03090338737449537, 0.022816519650328358, 0.05574162395586548, 0.015307285335030417, 0.01213030158625052, 0.005776334088690723, 0.0023105336354762892, 0.2174372143130661, 0.010113358805258888, 0.06068015283155333, 0.7079351163681221, 0.994937657259445, 0.9972857254926847, 0.9206939695629673, 0.06349613583192878, 0.9808886953460727, 0.9734117099295372, 0.3210653149227971, 0.3077230781399753, 0.001419386891789554, 0.013342236782821808, 0.04116221986189707, 0.1677715306095253, 0.13171910355807062, 0.013626114161179719, 0.0005677547567158216, 0.0017032642701474649, 0.9736473514820513, 0.8612732602999257, 0.1356335842992009, 0.0041338886915940065, 0.09301249556086515, 0.8267777383188013, 0.07647694079448912, 0.9487880545952081, 0.049785621682619484, 0.0005722485250875803, 0.7782994545960072, 0.011055389980056922, 0.06633233988034153, 0.14150899174472858, 0.9864644364107205, 0.9810834730157328, 0.10894604775580811, 0.03140786962329603, 0.004907479628640005, 0.8499754716804488, 0.004907479628640005, 0.9882413227887974, 0.9695365314862635, 0.993356115087416, 0.9896287055470406, 0.239854344314809, 0.14833816510585568, 0.1049021278096659, 0.04917287241078089, 0.04125057630015508, 0.0385187500551117, 0.052997429153841626, 0.0721202128691453, 0.042343306798172435, 0.05572925539888501, 0.03442101068754662, 0.043162854671685444, 0.014751861723234267, 0.06037336001545876, 0.0008195478735130149, 0.0008195478735130149, 0.9986071618718712, 0.973699151401504, 0.1583552091225412, 0.09843702188698507, 0.008559741033650876, 0.008559741033650876, 0.017119482067301753, 0.7104585057930227, 0.9938855109036975, 0.010113669397485895, 0.0658380047052023, 0.00019830724308795875, 0.005750910049550803, 0.8953572025421337, 0.00634583177881468, 0.016062886690124657, 0.9992445402994407, 0.974302989929145, 0.9915284927112321, 0.9813218280176783, 0.7163209388767825, 0.011912210735201482, 0.036530779587951215, 0.010323915970507951, 0.01985368455866914, 0.00873562120581442, 0.01429465288224178, 0.01588294764693531, 0.0007941473823467655, 0.11673966520497453, 0.01588294764693531, 0.025412716235096496, 0.00714732644112089, 0.00846978055173305, 0.018821734559406774, 0.30867644677427114, 0.15716148357104656, 0.344437742437144, 0.13457540209975843, 0.009410867279703387, 0.011293040735644065, 0.00846978055173305, 0.973705014486313, 0.9941852406735442, 0.11584430999992135, 0.8795586499994028, 0.987821115639781, 0.98687605665596, 0.9955409186505905, 0.9964797436257362, 0.9819632868077411, 0.8673415895651875, 0.02160637411728225, 0.10803187058641125, 0.035710532503587404, 0.8749080463378913, 0.02295677089516333, 0.06631956036380518, 0.15444298548204755, 0.8419633724666463, 0.10324283770665461, 0.0037106305306831467, 0.0030558133782096503, 0.0814155992908714, 0.0004365447683156643, 0.059370088490930346, 0.0019644514574204894, 0.7467098262039438, 0.06646952313917438, 0.9305733239484414, 0.974701603586506, 0.004771695812155082, 0.9941032941989755, 0.024780593594904164, 0.15859579900738666, 0.1982447487592333, 0.6145587211536233, 0.9645306543892268, 0.9883202716036353, 0.010869884445502449, 0.9891594845407228, 0.03842573740609687, 0.07685147481219375, 0.8837919603402281, 0.9916661442001202, 0.012625080461736058, 0.0420836015391202, 0.8332553104745799, 0.10941736400171251, 0.9520540330016873, 0.8130776251051879, 0.001922169326489806, 0.02498820124436748, 0.05382074114171457, 0.08649761969204127, 0.017299523938408255, 0.32783276405684353, 0.668956045575451, 0.9926573265474165, 0.9897054522230175, 0.0757112521987865, 0.05741860066082465, 0.06910557247674472, 0.13465424048777463, 0.04979666252000722, 0.0792681566645013, 0.10213397108695359, 0.25660525074085355, 0.027438977306942756, 0.05284543777633419, 0.006605679722041774, 0.08485757796776741, 0.002540646046939144, 0.9250390669741216, 0.06108748555489483, 0.9209981563552471, 0.07535439461088385, 0.07984534199745064, 0.9173342625040439, 0.9980844553726818, 0.14735879078824846, 0.10233249360295031, 0.036839697697062114, 0.7122341554765341, 0.045015014261779056, 0.17187550899952003, 0.004092274023798096, 0.06752252139266858, 0.13095276876153908, 0.053199562309375246, 0.5258572120580554, 0.06977902395120607, 0.1250207512459109, 0.18316993787191593, 0.08431632060770733, 0.008722377993900758, 0.05524172729470481, 0.008722377993900758, 0.45937857434543994, 0.13154400602143373, 0.0023351006986053325, 0.059155884364668426, 0.08873382654700264, 0.017902438689307548, 0.04203181257489599, 0.02023753938791288, 0.021794273186983106, 0.04514528017303643, 0.011675503493026663, 0.295001054923807, 0.06538281956094931, 0.0007783668995351108, 0.006226935196280887, 0.1922566241851724, 0.04691453688709278, 0.6157532966430928, 0.3342660753205361, 0.2204959764646245, 0.7418657730312243, 0.0010861870761804163, 0.035844173513953734, 0.02276137821106429, 0.012050141405857567, 0.6574021589195628, 0.17941321648721265, 0.01874466440911177, 0.03213371041562017, 0.0026778092013016812, 0.010711236805206725, 0.04552275642212858, 0.01740575980846093, 0.9759453594183536, 0.2143327840313854, 0.10367183575431141, 0.6802736188822233, 0.9785969932636525, 0.9802350597920021, 0.9805883669888895, 0.14492530469534304, 0.13643868775372384, 0.16320417195421513, 0.1024922199872471, 0.04112745133246221, 0.048308434898447675, 0.02545985082485756, 0.23697245767752037, 0.031988017703026166, 0.017626050571055235, 0.024154217449223837, 0.027418300888308142, 0.9885672533860125, 0.0007725218440366, 0.9971969470105778, 0.0019313046100915, 0.9826663397148871, 0.01228332924643609, 0.28627963046236354, 0.10978170785918011, 0.18496982288813626, 0.07307013995771795, 0.06142127706590784, 0.04200650557955766, 0.031063634378160287, 0.06389224798235241, 0.060362289530288736, 0.04059452219873219, 0.021179750712382015, 0.014119833808254675, 0.0035299584520636688, 0.0070599169041273375, 0.0003529958452063669, 0.0003529958452063669, 0.05849746725508561, 0.15911311093383287, 0.0070196960706102735, 0.2878075388950212, 0.03509848035305137, 0.45394034589946436, 0.9733126714234173, 0.12393832473016177, 0.8675682731111324, 0.009180616646678649, 0.9726140440241177, 0.026738530419907015, 0.9881237382447597, 0.016753497004589262, 0.002393356714941323, 0.4176407467572609, 0.5536631867230927, 0.009174534073941738, 0.971406245590615, 0.21529424766450023, 0.0032620340555227305, 0.08725941098523304, 0.013863644735971604, 0.07176474922150007, 0.017533433048434677, 0.11254017491553421, 0.036290128867690376, 0.18430492413703428, 0.003669788312463072, 0.0028542797985823894, 0.037513391638511404, 0.09582225038098022, 0.037513391638511404, 0.001223262770821024, 0.07951208010336656, 0.7750933131110236, 0.16111490216352736, 0.034835654521843756, 0.026126740891382817, 0.9985549811685884, 0.9873652827032547, 0.9886029969204279, 0.0007178609095742199, 0.9831105156618942, 0.012742031144942404, 0.00323037409308399, 0.9940167419883982, 0.9873558982644859, 0.989599842786057, 0.04953589939672695, 0.013701418982073412, 0.01897119551364011, 0.008431642450506715, 0.02107910612626679, 0.05058985470304029, 0.0042158212252533574, 0.59337683745441, 0.040050301639906895, 0.19919755289322114, 0.9917509250499519, 0.9065411416835478, 0.08729655438434164, 0.990033295402578, 0.03507762625165605, 0.9558653153576274, 0.9631400398762303, 0.986024505784059, 0.9876170168614088, 0.9773177311435981, 0.9641700366771853, 0.2693043624319629, 0.14462641686160968, 0.003324745215209418, 0.001662372607604709, 0.06483253169658365, 0.003324745215209418, 0.45216534926848084, 0.03823456997490831, 0.02161084389886122, 0.9724209498322436, 0.38928351624493124, 0.09338992556181948, 0.06003638071831253, 0.09196048792566919, 0.05598630741588668, 0.038356576570033, 0.02620635666275547, 0.005955990150626243, 0.07766611156416621, 0.021918043754304572, 0.0393095349941332, 0.0393095349941332, 0.01786797045187873, 0.01786797045187873, 0.025015158632630218, 0.03588068795021356, 0.7614679331656434, 0.06458523831038442, 0.02152841277012814, 0.04704356864583556, 0.015149623801201282, 0.0023920458633475707, 0.027907201739054994, 0.004784091726695141, 0.006378788968926856, 0.003986743105579285, 0.008770834832274426, 0.9843872253543339, 0.00955715752771198, 0.9885118445144653, 0.9894522445566619, 0.9853667135364593, 0.9036174426724555, 0.0874468492908828, 0.9512720405017888, 0.04299534646335769, 0.9808367996227947, 0.9810706114325081, 0.9885957840587005, 0.09397226385545239, 0.03166456716868504, 0.15832283584342524, 0.18488021475909655, 0.024514503614465843, 0.0010214376506027434, 0.505611637048358, 0.4074549756765987, 0.09334670847440472, 0.09062125713208634, 0.0074949911913755616, 0.016352708053910318, 0.04701403565499216, 0.02725451342318386, 0.008176354026955159, 0.006813628355795965, 0.010220442533693948, 0.23847699245285878, 0.02929860192992265, 0.017034070889489914, 0.012463226136147592, 0.0988749273467709, 0.009139699166508235, 0.23430865135957474, 0.09056610992267251, 0.001661763484819679, 0.07477935681688555, 0.08558081946821347, 0.33899975090321455, 0.05400731325663957, 0.0010195120969160422, 0.013253657259908548, 0.9848486856208968, 0.989759096997587, 0.0021142044818455645, 0.1374232913199617, 0.006342613445536694, 0.18182158543871857, 0.09936761064674154, 0.03805568067322016, 0.03171306722768347, 0.5010664621973988, 0.3598005775675827, 0.07649761673425566, 0.04392068489305173, 0.06224520905372895, 0.06253607451659683, 0.0677716528482189, 0.006108174720225738, 0.19662505289869517, 0.00029086546286789225, 0.050901456001881146, 0.05613703433350321, 0.004944712868754169, 0.0005817309257357845, 0.011052887588979906, 0.07057067218820354, 0.5428513245246426, 0.10585600828230529, 0.2795684321301909, 0.9879813033639621, 0.9382821310487895, 0.11160131301193814, 0.1618219038673103, 0.10602124736134122, 0.6138072215656597, 0.9848891443262263, 0.9854033871535521, 0.9933803501073122, 0.0017170788134698034, 0.12878091101023525, 0.01030247288081882, 0.2455422703261819, 0.10560034702839291, 0.03992208241317293, 0.25970817053730777, 0.10259545910482075, 0.03434157626939607, 0.0716880404623643, 0.9967578728161031, 0.9856177657360045, 0.9726169425875456, 0.992554677540734, 0.9914679694962701, 0.24290015940187823, 0.06477337584050086, 0.03598520880027826, 0.08996302200069564, 0.04858003188037564, 0.02518964616019478, 0.014394083520111303, 0.030587427480236518, 0.41023138032317213, 0.03598520880027826, 0.9756203881570321, 0.9600058785934663, 0.9613021936175004, 0.26753605146659615, 0.001807676023422947, 0.021692112281075364, 0.054230280702688406, 0.003615352046845894, 0.6507633684322609, 0.9922700375636883, 0.5875548042604408, 0.16191930202524346, 0.06012240384053309, 0.019448097360616066, 0.021559605074054383, 0.02444903668191734, 0.033561859445177436, 0.00711244703473959, 0.004000751457041019, 0.032339407611081575, 0.008112634898999844, 0.029227712033383, 0.00011113198491780609, 0.00022226396983561218, 0.008779426808506682, 0.0015558477888492853, 0.9844484378000238, 0.016168639107878788, 0.1536020715248485, 0.06736932961616163, 0.032337278215757576, 0.7275887598545455, 0.9922657034740312, 0.9902575770104944, 0.006038155957381064, 0.9995124590825447, 0.9973265271008082, 0.961246390776405, 0.3966732631271547, 0.12424663474485553, 0.034127196939431184, 0.09085812172186225, 0.052298821283803636, 0.06101529149777091, 0.05318524198352912, 0.012262153012869214, 0.03900251078792136, 0.027626778474777628, 0.022455991059712296, 0.02821772560792795, 0.018762571477522774, 0.010932521963280987, 0.017432940427934546, 0.010637048396705824, 0.9826762263243216, 0.9912555432150978, 0.008192194572025602, 0.04268917607781068, 0.1612702207383959, 0.7956788096725268, 0.09106204326908454, 0.8924080240370285, 0.739287285970246, 0.009542812347375992, 0.023015018014259744, 0.14931694614129493, 0.042100642709011725, 0.02638306943098068, 0.001684025708360469, 0.008420128541802345, 0.7404977972824331, 0.015990816220384767, 0.0061503139309172184, 0.19065973185843377, 0.0061503139309172184, 0.007380376717100662, 0.030751569654586093, 0.0012300627861834437, 0.0012300627861834437, 0.9649553734496656, 0.14767529339538238, 0.8438588194021851, 0.005274117621263657, 0.38127807605327674, 0.005030053773789931, 0.026156279623707642, 0.585498259269148, 0.0010060107547579863, 0.9920171187587632, 0.9356166314832332, 0.041582961399254804, 0.9766887370173019, 0.9873494590686663, 0.09844687636504416, 0.02376303912259687, 0.8758377276614274, 0.1361127904090006, 0.051628989465482986, 0.6735236352997099, 0.011733861242155225, 0.031681425353819105, 0.030508039229603583, 0.015254019614801792, 0.05045560334126747, 0.2828198228862332, 0.03043800784425828, 0.1255567823575654, 0.2621050675477796, 0.004650251198428349, 0.003804750980532285, 0.005495751416324412, 0.0029592507626362216, 0.06890826775852917, 0.011414252941596856, 0.0333972586068945, 0.018601004793713394, 0.046925262093231515, 0.023674006101089773, 0.0414295106769071, 0.03762475969637482, 0.9957358222409833, 0.9912768986731437, 0.9906531741085092, 0.9948850489294759, 0.9883331213544975, 0.9962586288218723, 0.04671374736566185, 0.05005044360606627, 0.0734073172888972, 0.7207263879273542, 0.11011097593334579, 0.07155780651151435, 0.9216645478683048, 0.005724624520921148, 0.8131282179784597, 0.1126806893827828, 0.05786305671007766, 0.012181696149490034, 0.9697884152057159, 0.7610447856830478, 0.23151524224662295, 0.0073887843270198815, 0.8878578317965704, 0.10445386256430239, 0.9870849835369712, 0.02916753922318303, 0.02029046206830124, 0.8407860219552326, 0.04184907801587131, 0.06784623254088228, 0.9849429988896804, 0.9957038962438441, 0.9875547410638215, 0.9946628520010756, 0.972499905759063, 0.09212644508260877, 0.0063535479367316395, 0.019060643810194917, 0.07941934920914549, 0.8005470400281866, 0.6637435976619247, 0.2651680377756076, 0.07082127716988278, 0.9748059196777308, 0.943113260578087, 0.990846131963237, 0.08462547185113335, 0.003385018874045334, 0.8970300016220135, 0.01692509437022667, 0.6867294060695123, 0.013823055677727703, 0.006635066725309297, 0.0342811780807647, 0.08072664515792978, 0.0005529222271091081, 0.01714058904038235, 0.004976300043981973, 0.15481822359055025, 0.9645052861322747, 0.03713181741426011, 0.013924431530347541, 0.12531988377312786, 0.15781022401060546, 0.5430528296835541, 0.051056248944607655, 0.0649806804749552, 0.9120777897569354, 0.08091012651069589, 0.9854504042778495, 0.9705854197426024, 0.9855201218483419, 0.9758283277947577, 0.9725046495422299, 0.09452186716730644, 0.066924241716998, 0.25251827287032236, 0.04139643817546268, 0.011728990816381091, 0.01724851590644278, 0.05174554771932835, 0.013798812725154225, 0.02069821908773134, 0.06554436044448257, 0.33462120858498995, 0.02690768481405074, 0.0013798812725154227, 0.4543885256939271, 0.1359975868222411, 0.0037696559247103077, 0.02145804141758175, 0.02609761794030213, 0.05219523588060426, 0.06698388604677546, 0.025807644407632106, 0.024937723809622038, 0.06379417718740521, 0.014788650166171207, 0.062054335991385066, 0.036536665116422985, 0.0011598941306800946, 0.007829285382090639, 0.002609761794030213, 0.9891603009226703, 0.9766874928084164, 0.9866878595909927, 0.02828446582326273, 0.022508060831187948, 0.1428166337695731, 0.021910501694076764, 0.1240931141400893, 0.059357540953044324, 0.021113756177928517, 0.01195118274222369, 0.2788609306518861, 0.03087388875074453, 0.11692240449475509, 0.02708934754904036, 0.033662498057263394, 0.04282507149296822, 0.03326412529918927, 0.0041829139597782915, 0.9956713883844165, 0.0011139307345299403, 0.03453185277042815, 0.5759021897519792, 0.2071911166225689, 0.11473486565658385, 0.06683584407179642, 0.9773504830516919, 0.9829230379688634, 0.9736513313685279, 0.028828815180038686, 0.9657653085312959, 0.9926558737924649, 0.10453834746105764, 0.8916506106972564, 0.9943502162318428, 0.9969432817103328, 0.9604723876397504, 0.9485731510395257, 0.04703668517551367, 0.0032193293385626787, 0.11589585618825643, 0.0016096646692813394, 0.8692189214119233, 0.006438658677125357, 0.06132004429163309, 0.2784261470539016, 0.004143246235921155, 0.08120762622405464, 0.2601958636158485, 0.0348032683817377, 0.03728921612329039, 0.08783682020152848, 0.11683954385297657, 0.014915686449316158, 0.024030828168342698, 0.9907638935842349, 0.9809039024456486, 0.9840913762634257, 0.9796667098181141, 0.9932475653353817, 0.0014071514334219521, 0.8034834684839347, 0.18855829207854158, 0.0056286057336878085, 0.31669310763134834, 0.007248257745083676, 0.04237442989433534, 0.12154770680217242, 0.17061283615350806, 0.04181687160625198, 0.01784186521866751, 0.22358087352142725, 0.0016726748642500791, 0.05631338709641933, 0.9813264296843649, 0.326755645019355, 0.12858080409708586, 0.014487977926432208, 0.062350047861967184, 0.06623075623511866, 0.05536477279029451, 0.07114632017444388, 0.11435154006219707, 0.014229264034888776, 0.06881789515055299, 0.009572413987106995, 0.012935694577171614, 0.042946505996209756, 0.005174277830868646, 0.0007761416746302969, 0.005950419505498942, 0.18246927362825327, 0.041996896311264645, 0.49817008038189786, 0.010137181868236294, 0.15785040337682227, 0.10426815635900187, 0.0057926753532778815, 0.33512767302484986, 0.09822403068097865, 0.07720126152443826, 0.057768449699064785, 0.040808904833284296, 0.029149217738060212, 0.04981866304323018, 0.07702459959875305, 0.014662939831872713, 0.02066944530516997, 0.04151555253602515, 0.060241716658657775, 0.03656901861683918, 0.024379345744559452, 0.010776377466798019, 0.026322626927096797, 0.9807000732510956, 0.05205417944887031, 0.008365850268568443, 0.939763846835855, 0.9998227901839242, 0.12360479893523008, 0.0879945175957144, 0.09101932913806708, 0.37878889996280185, 0.04440973309908711, 0.05293420199117195, 0.03437285843582594, 0.01058684039823439, 0.01567402344673663, 0.08895695763191754, 0.003024811542352683, 0.014161617675560288, 0.025710898109997802, 0.012236737603154035, 0.01581151488047993, 0.0006874571687165188, 0.2863356139544901, 0.06885169343180488, 0.5748569959544343, 0.020218354420450637, 0.011475282238634145, 0.024043448499995353, 0.005464420113635307, 0.001639326034090592, 0.0005464420113635307, 0.006010862124998838, 0.9992662939669416, 0.6875496799913136, 0.043019868245266546, 0.006913907396560695, 0.01843708639082852, 0.02304635798853565, 0.049933775641827244, 0.0007682119329511884, 0.11600000187562944, 0.029960265385096347, 0.02458278185443803, 0.985507995033695, 0.9900032407459863, 0.12399852454112789, 0.8620849801430795, 0.011809383289631227, 0.9996026390374124, 0.0003063446641242453, 0.00010211488804141511, 0.0020035175654432307, 0.16829547549723137, 0.18031658088989075, 0.6491396912036067, 0.9581271752151655, 0.04067521026856835, 0.17018316878648737, 0.10653198361043895, 0.024455455357113343, 0.003015056139918083, 0.004355081090992787, 0.04924591695199536, 0.0003350062377686759, 0.09380174657522926, 0.09011667795977382, 0.0006700124755373518, 0.007035130993142194, 0.44991337732333175, 0.0018699238343086923, 0.025954542820204648, 0.3143715950239773, 0.47862570462965287, 0.10920355192362763, 0.0014959390674469538, 0.0005235786736064338, 0.013463451607022585, 0.005460177596181381, 0.00680652275688364, 0.01840005052959753, 0.012865075980043803, 0.004039035482106775, 0.0005983756269787816, 0.006357741036649553, 0.9843089051676827, 0.9931673022050509, 0.9855877112354273, 0.9892470755726607, 0.4206950541896264, 0.13240297937161305, 0.10216460492532448, 0.027302609936940163, 0.009981599331784576, 0.060476748892577134, 0.02377969252572208, 0.02700903348600532, 0.021724657369178193, 0.02642188058413564, 0.06928404242062235, 0.015265975448611704, 0.02700903348600532, 0.01262378739019814, 0.01820173995796011, 0.006165105469631649, 0.05779306051784694, 0.9412012712906501, 0.9774694304820644, 0.9900458572525903, 0.019731391640969126, 0.254990291975601, 0.026940938586707843, 0.009865695820484563, 0.24702184535136348, 0.003415048553244656, 0.3953867324978813, 0.0049328479102422815, 0.00037944983924940626, 0.013660194212978625, 0.023525890033463188, 0.9858468924773274, 0.9776037654506159], \"Term\": [\"14f\", \"14f\", \"30f\", \"35k\", \"7th\", \"able\", \"able\", \"able\", \"able\", \"able\", \"able\", \"able\", \"able\", \"able\", \"able\", \"able\", \"able\", \"able\", \"able\", \"able\", \"ableist\", \"abnormal\", \"abort\", \"abortion\", \"absent\", \"academic\", \"academic\", \"accent\", \"accident\", \"accident\", \"accident\", \"accident\", \"accident\", \"accident\", \"accident\", \"accident\", \"accident\", \"accident\", \"accident\", \"accident\", \"accomplish\", \"account\", \"account\", \"account\", \"account\", \"account\", \"activity\", \"activity\", \"activity\", \"activity\", \"activity\", \"activity\", \"activity\", \"activity\", \"activity\", \"activity\", \"address\", \"address\", \"address\", \"address\", \"address\", \"address\", \"address\", \"address\", \"administrator\", \"adoption\", \"adoption\", \"adoption\", \"adoptive\", \"adore\", \"adult\", \"adult\", \"adult\", \"adult\", \"adult\", \"adult\", \"adult\", \"adult\", \"adult\", \"adult\", \"adult\", \"advanced\", \"advice\", \"advice\", \"advice\", \"advice\", \"advice\", \"advice\", \"advice\", \"advice\", \"advice\", \"advice\", \"advice\", \"affair\", \"affair\", \"age\", \"age\", \"age\", \"age\", \"age\", \"age\", \"age\", \"age\", \"age\", \"age\", \"age\", \"airline\", \"airport\", \"alarm\", \"alcohol\", \"alice\", \"alimony\", \"allergy\", \"allergy\", \"allergy\", \"allowance\", \"allowance\", \"allowance\", \"ally\", \"alter\", \"ambulance\", \"ancestor\", \"angel\", \"animal\", \"animal\", \"animal\", \"animal\", \"anime\", \"anniversary\", \"announcement\", \"announcement\", \"announcement\", \"anxiety\", \"anxiety\", \"anxiety\", \"apartment\", \"apartment\", \"apartment\", \"apartment\", \"appointment\", \"appointment\", \"appointment\", \"appointment\", \"appointment\", \"apt\", \"art\", \"art\", \"artist\", \"asperger\", \"assignment\", \"assignment\", \"assist\", \"asthma\", \"atheist\", \"attend\", \"attend\", \"attend\", \"attend\", \"attend\", \"attend\", \"attend\", \"attend\", \"attend\", \"attend\", \"attentive\", \"attic\", \"aunt\", \"aunt\", \"aunt\", \"autistic\", \"autistic\", \"autistic\", \"autonomy\", \"award\", \"award\", \"award\", \"award\", \"baby\", \"babysitting\", \"bachelorette\", \"backup\", \"bacon\", \"bad\", \"bad\", \"bad\", \"bad\", \"bad\", \"bad\", \"bad\", \"bad\", \"bad\", \"bad\", \"bad\", \"bad\", \"bad\", \"bad\", \"bad\", \"bad\", \"bag\", \"bag\", \"bag\", \"bag\", \"bag\", \"bake\", \"bald\", \"bar\", \"bar\", \"bar\", \"bar\", \"baseball\", \"basement\", \"basketball\", \"bath\", \"bathroom\", \"bathroom\", \"bear\", \"bear\", \"bear\", \"bear\", \"bear\", \"bear\", \"bear\", \"beautiful\", \"beautiful\", \"beautiful\", \"beautiful\", \"beautiful\", \"beautiful\", \"bed\", \"bed\", \"bed\", \"bedroom\", \"bedroom\", \"beer\", \"beer\", \"belief\", \"belief\", \"belief\", \"belief\", \"belief\", \"belief\", \"beloved\", \"bf\", \"bf\", \"bf\", \"bf\", \"bf\", \"big\", \"big\", \"big\", \"big\", \"big\", \"big\", \"big\", \"big\", \"big\", \"big\", \"big\", \"big\", \"big\", \"big\", \"big\", \"big\", \"bike\", \"bikini\", \"bil\", \"bil\", \"bil\", \"bill\", \"bill\", \"bill\", \"biological\", \"biological\", \"bird\", \"birth\", \"birth\", \"birth\", \"birth\", \"birthday\", \"birthday\", \"birthday\", \"birthday\", \"birthday\", \"birthday\", \"bit\", \"bit\", \"bit\", \"bit\", \"bit\", \"bit\", \"bit\", \"bit\", \"bit\", \"bit\", \"bit\", \"bit\", \"bit\", \"bit\", \"bit\", \"bit\", \"black\", \"black\", \"blanket\", \"blanket\", \"bleach\", \"blonde\", \"blue\", \"blue\", \"blue\", \"body\", \"body\", \"body\", \"body\", \"body\", \"bolt\", \"bond\", \"bond\", \"bond\", \"bond\", \"bond\", \"bond\", \"bone\", \"bone\", \"book\", \"book\", \"book\", \"book\", \"book\", \"book\", \"book\", \"book\", \"book\", \"boss\", \"bounce\", \"boy\", \"boy\", \"boy\", \"boy\", \"boy\", \"boyfriend\", \"boyfriend\", \"boyfriend\", \"boyfriend\", \"boyfriend\", \"brake\", \"bread\", \"breadwinner\", \"breakfast\", \"breakfast\", \"breastfeed\", \"bridal\", \"bride\", \"brother\", \"brother\", \"brother\", \"buck\", \"buck\", \"budget\", \"budget\", \"budget\", \"bus\", \"business\", \"business\", \"business\", \"business\", \"business\", \"business\", \"business\", \"business\", \"business\", \"business\", \"business\", \"business\", \"cabin\", \"cabin\", \"cable\", \"cage\", \"cake\", \"calculate\", \"calendar\", \"calorie\", \"camera\", \"camera\", \"camera\", \"campaign\", \"campus\", \"cancer\", \"cancer\", \"cancer\", \"cancer\", \"candy\", \"caption\", \"car\", \"car\", \"card\", \"card\", \"card\", \"card\", \"card\", \"card\", \"card\", \"care\", \"care\", \"care\", \"care\", \"care\", \"care\", \"care\", \"care\", \"care\", \"care\", \"care\", \"care\", \"care\", \"care\", \"care\", \"care\", \"carpet\", \"case\", \"case\", \"case\", \"case\", \"case\", \"case\", \"case\", \"case\", \"case\", \"case\", \"case\", \"case\", \"case\", \"case\", \"case\", \"case\", \"cash\", \"cash\", \"cashier\", \"cat\", \"category\", \"cater\", \"catholic\", \"catholic\", \"ceiling\", \"ceremony\", \"chair\", \"chair\", \"change\", \"change\", \"change\", \"change\", \"change\", \"change\", \"change\", \"change\", \"change\", \"change\", \"change\", \"change\", \"change\", \"change\", \"cheap\", \"cheap\", \"cheap\", \"cheap\", \"cheap\", \"cheap\", \"cheap\", \"cheap\", \"cheese\", \"chicken\", \"child\", \"child\", \"child\", \"child\", \"childfree\", \"childless\", \"chocolate\", \"chocolate\", \"choice\", \"choice\", \"choice\", \"choice\", \"choice\", \"choice\", \"choice\", \"choice\", \"choice\", \"choice\", \"choice\", \"choice\", \"chore\", \"chore\", \"chore\", \"chore\", \"church\", \"church\", \"class\", \"class\", \"classmate\", \"classy\", \"clause\", \"clean\", \"clean\", \"clean\", \"clean\", \"clean\", \"clean\", \"client\", \"client\", \"clinic\", \"close\", \"close\", \"close\", \"close\", \"close\", \"close\", \"close\", \"close\", \"close\", \"close\", \"close\", \"close\", \"close\", \"closing\", \"clothe\", \"clothe\", \"clothe\", \"clothe\", \"clothing\", \"coach\", \"coffee\", \"coffee\", \"coffee\", \"coffee\", \"cold_shoulder\", \"colleague\", \"college\", \"college\", \"college\", \"college\", \"college\", \"college\", \"college\", \"college\", \"college\", \"college\", \"color\", \"color\", \"colour\", \"comfortable\", \"comfortable\", \"comfortable\", \"comfortable\", \"comfortable\", \"comfortable\", \"comfortable\", \"comfortable\", \"comfortable\", \"comfortable\", \"comfortable\", \"comfortable\", \"comfortable\", \"comment\", \"comment\", \"comment\", \"comment\", \"comment\", \"comment\", \"comment\", \"comment\", \"comment\", \"comment\", \"comment\", \"comment\", \"comment\", \"comment\", \"commute\", \"company\", \"computer\", \"condition\", \"condition\", \"condition\", \"condition\", \"condition\", \"condition\", \"condition\", \"condition\", \"condom\", \"conscience\", \"constructive\", \"contact\", \"contact\", \"contact\", \"contact\", \"contact\", \"contact\", \"contact\", \"contact\", \"contact\", \"contract\", \"contract\", \"convenience\", \"convert\", \"cook\", \"cookie\", \"cooking\", \"cooking\", \"cool\", \"cool\", \"cool\", \"cool\", \"cool\", \"cool\", \"cool\", \"cool\", \"cost\", \"cost\", \"cost\", \"cost\", \"cost\", \"costume\", \"cottage\", \"couch\", \"couch\", \"couch\", \"counseling\", \"counseling\", \"counselling\", \"couple\", \"couple\", \"couple\", \"couple\", \"couple\", \"couple\", \"couple\", \"couple\", \"couple\", \"couple\", \"couple\", \"couple\", \"couple\", \"couple\", \"couple\", \"couple\", \"course\", \"course\", \"course\", \"course\", \"course\", \"course\", \"course\", \"course\", \"course\", \"course\", \"course\", \"course\", \"course\", \"course\", \"course\", \"cousin\", \"cousin\", \"cover\", \"cover\", \"cover\", \"cover\", \"cover\", \"cover\", \"cover\", \"coworker\", \"coworker\", \"crawl\", \"crop\", \"cruel\", \"cruel\", \"cruel\", \"cruel\", \"cruel\", \"cruel\", \"cruel\", \"cruel\", \"cupcake\", \"curfew\", \"curl\", \"curtain\", \"custody\", \"custody\", \"customer\", \"customer\", \"customer\", \"dad\", \"dad\", \"dad\", \"dad\", \"dad\", \"daddy\", \"daddy\", \"dairy\", \"daisy\", \"dark\", \"dark\", \"dark\", \"dark\", \"dark\", \"dark\", \"dark\", \"date\", \"date\", \"date\", \"date\", \"date\", \"date\", \"date\", \"date\", \"date\", \"daughter\", \"day\", \"day\", \"day\", \"day\", \"day\", \"day\", \"day\", \"day\", \"day\", \"day\", \"day\", \"day\", \"day\", \"day\", \"day\", \"day\", \"deaf\", \"debt\", \"deceased\", \"decision\", \"decision\", \"decision\", \"decision\", \"decision\", \"decision\", \"decision\", \"decision\", \"decision\", \"decision\", \"decision\", \"decorate\", \"decorate\", \"degree\", \"degree\", \"degree\", \"degree\", \"degree\", \"delete\", \"delete\", \"delivery\", \"delivery\", \"delivery\", \"delusional\", \"dental\", \"department\", \"deposit\", \"depression\", \"depression\", \"depression\", \"design\", \"design\", \"dessert\", \"destination\", \"device\", \"diagnosis\", \"diagnosis\", \"diagnosis\", \"diamond\", \"dice\", \"different\", \"different\", \"different\", \"different\", \"different\", \"different\", \"different\", \"different\", \"different\", \"different\", \"different\", \"different\", \"different\", \"different\", \"dinner\", \"dinner\", \"dinner\", \"dinner\", \"dinner\", \"dinner\", \"dinner\", \"dinner\", \"disability\", \"disability\", \"disability\", \"disability\", \"dish\", \"dish\", \"dish\", \"dismiss\", \"disorder\", \"disorder\", \"disown\", \"disrupt\", \"district\", \"disturb\", \"divorce\", \"divorce\", \"divorce\", \"divorce\", \"divorce\", \"dna\", \"dna_t\", \"doctor\", \"doctor\", \"doctor\", \"dog\", \"doll\", \"dollar\", \"dollar\", \"dollar\", \"donation\", \"donation\", \"donation\", \"donor\", \"door\", \"door\", \"door\", \"door\", \"door\", \"dorm\", \"dorm\", \"drawing\", \"dress\", \"dress\", \"drink\", \"drink\", \"drink\", \"drinking\", \"drive\", \"drive\", \"drive\", \"drive\", \"drive\", \"drive\", \"drive\", \"drive\", \"drive\", \"driver\", \"driver\", \"driveway\", \"drug\", \"drug\", \"drug\", \"drunk\", \"drunk\", \"drunk\", \"drunk\", \"dude\", \"dude\", \"dude\", \"dude\", \"dye\", \"early\", \"early\", \"early\", \"early\", \"early\", \"early\", \"early\", \"early\", \"early\", \"early\", \"early\", \"early\", \"early\", \"early\", \"eat\", \"eat\", \"ect\", \"edit\", \"edit\", \"edit\", \"edit\", \"edit\", \"edit\", \"edit\", \"edit\", \"edit\", \"edit\", \"edit\", \"edit\", \"edit\", \"edit\", \"edit\", \"edit\", \"egg\", \"egg\", \"egg\", \"electric\", \"elevator\", \"eligible\", \"email\", \"email\", \"email\", \"emma\", \"employee\", \"employee\", \"end\", \"end\", \"end\", \"end\", \"end\", \"end\", \"end\", \"end\", \"end\", \"end\", \"end\", \"end\", \"end\", \"end\", \"end\", \"end\", \"engage\", \"engage\", \"engage\", \"engagement\", \"engagement_ring\", \"era\", \"ethic\", \"event\", \"event\", \"event\", \"event\", \"event\", \"event\", \"event\", \"event\", \"exam\", \"exercise\", \"exhausted\", \"exhausted\", \"expense\", \"expensive\", \"expensive\", \"expensive\", \"expensive\", \"expensive\", \"expensive\", \"expensive\", \"expensive\", \"expensive\", \"explicit\", \"eye\", \"eye\", \"eye\", \"eye\", \"eye\", \"eye\", \"eye\", \"eye\", \"eye\", \"eye\", \"eye\", \"eye\", \"eye\", \"eye\", \"facetime\", \"facetime\", \"facetime\", \"faint\", \"fake\", \"fake\", \"fake\", \"fake\", \"fake\", \"fake\", \"fake\", \"fake\", \"family\", \"family\", \"family\", \"family\", \"family\", \"family\", \"family\", \"family\", \"family\", \"family\", \"family\", \"family\", \"family\", \"fat\", \"fat\", \"father\", \"father\", \"father\", \"father\", \"father\", \"father\", \"fee\", \"fee\", \"feed\", \"feed\", \"feed\", \"feed\", \"feed\", \"feed\", \"feed\", \"feed\", \"female\", \"female\", \"female\", \"female\", \"female\", \"fence\", \"fence\", \"fertility\", \"fiance\", \"fiancee\", \"fianc\\u00e9\", \"fianc\\u00e9\", \"fianc\\u00e9e\", \"fight\", \"fight\", \"fight\", \"fight\", \"fight\", \"fight\", \"fight\", \"fight\", \"fight\", \"fight\", \"fight\", \"fight\", \"fil\", \"finance\", \"financial\", \"financial\", \"financial\", \"financial\", \"fire\", \"fire\", \"fire\", \"flag\", \"flaw\", \"flight\", \"floor\", \"floor\", \"floor\", \"floor\", \"floor\", \"floor\", \"flower\", \"flower\", \"flush\", \"follower\", \"food\", \"food\", \"football\", \"football\", \"formula\", \"forum\", \"foster\", \"free\", \"free\", \"free\", \"free\", \"free\", \"free\", \"free\", \"free\", \"free\", \"free\", \"free\", \"free\", \"free\", \"free\", \"fridge\", \"fridge\", \"friend\", \"friend\", \"friend\", \"friend\", \"friend\", \"friend\", \"friend\", \"friend\", \"friend\", \"friend\", \"friend\", \"friend\", \"friend\", \"friendship\", \"friendship\", \"fruit\", \"fuck\", \"fuck\", \"fuck\", \"fuck\", \"fuck\", \"fuck\", \"fuck\", \"fuck\", \"fuck\", \"fuck\", \"fuck\", \"fuck\", \"fuck\", \"fume\", \"fume\", \"fund\", \"fund\", \"funny\", \"funny\", \"funny\", \"furniture\", \"furniture\", \"future\", \"future\", \"future\", \"future\", \"future\", \"future\", \"future\", \"future\", \"future\", \"future\", \"future\", \"future\", \"game\", \"game\", \"game\", \"game\", \"game\", \"garage\", \"garage\", \"garden\", \"garden\", \"garden\", \"garden\", \"gate\", \"gay\", \"gay\", \"gay\", \"gay\", \"german\", \"gift\", \"gift\", \"gift\", \"gift\", \"gift\", \"giggle\", \"girl\", \"girl\", \"girl\", \"girl\", \"girl\", \"girl\", \"girl\", \"girl\", \"girl\", \"girl\", \"girl\", \"girlfriend\", \"girlfriend\", \"girlfriend\", \"girlfriend\", \"girlfriend\", \"girlfriend\", \"girlfriend\", \"girlfriend\", \"girlfriend\", \"glass\", \"glass\", \"glass\", \"glitter\", \"golden\", \"golden\", \"good\", \"good\", \"good\", \"good\", \"good\", \"good\", \"good\", \"good\", \"good\", \"good\", \"good\", \"good\", \"good\", \"good\", \"good\", \"good\", \"gown\", \"grace\", \"grade\", \"graduate\", \"graduate\", \"graduate\", \"graduate\", \"graduate\", \"grandkid\", \"grandkid\", \"grandma\", \"grandma\", \"grandma\", \"grandma\", \"grandmother\", \"grandmother\", \"grandmother\", \"grandmother\", \"grandparent\", \"grandparent\", \"grandparent\", \"grandparent\", \"grandparent\", \"grandson\", \"grass\", \"greedy\", \"green\", \"green\", \"grieve\", \"grieving\", \"groom\", \"group\", \"group\", \"group\", \"group\", \"guardian\", \"guest\", \"guest\", \"guest\", \"guest\", \"guitar\", \"guitar\", \"guy\", \"guy\", \"guy\", \"guy\", \"guy\", \"guy\", \"guy\", \"guy\", \"guy\", \"guy\", \"gym\", \"gym\", \"h\", \"hair\", \"half\", \"half\", \"half\", \"half\", \"half\", \"half\", \"half\", \"half\", \"half\", \"half\", \"half\", \"half\", \"half\", \"half\", \"hangout\", \"happy\", \"happy\", \"happy\", \"happy\", \"happy\", \"happy\", \"happy\", \"happy\", \"happy\", \"happy\", \"happy\", \"happy\", \"happy\", \"happy\", \"happy\", \"hard\", \"hard\", \"hard\", \"hard\", \"hard\", \"hard\", \"hard\", \"hard\", \"hard\", \"hard\", \"hard\", \"hard\", \"hard\", \"hard\", \"hat\", \"heal\", \"health\", \"health\", \"health\", \"health\", \"health\", \"health\", \"health\", \"health\", \"healthy\", \"healthy\", \"healthy\", \"healthy\", \"healthy\", \"hearted\", \"hectic\", \"heel\", \"height\", \"help\", \"help\", \"help\", \"help\", \"help\", \"help\", \"help\", \"help\", \"help\", \"help\", \"help\", \"help\", \"help\", \"help\", \"help\", \"help\", \"high\", \"high\", \"high\", \"high\", \"high\", \"high\", \"high\", \"high\", \"high\", \"high\", \"high\", \"high\", \"high\", \"high\", \"high\", \"hiking\", \"home\", \"home\", \"home\", \"home\", \"home\", \"home\", \"home\", \"home\", \"home\", \"home\", \"home\", \"home\", \"home\", \"home\", \"home\", \"homeless\", \"homeless\", \"homeless\", \"homeowner\", \"honeymoon\", \"horse\", \"horse\", \"hour\", \"hour\", \"hour\", \"hour\", \"hour\", \"hour\", \"hour\", \"hour\", \"hour\", \"hour\", \"hour\", \"hour\", \"hour\", \"house\", \"house\", \"house\", \"house\", \"house\", \"house\", \"house\", \"house\", \"house\", \"house\", \"house\", \"house\", \"housewife\", \"housework\", \"hub\", \"hubby\", \"hubby\", \"hungry\", \"hungry\", \"husband\", \"husband\", \"hyphenate\", \"hypothetical\", \"idea\", \"idea\", \"idea\", \"idea\", \"idea\", \"idea\", \"idea\", \"idea\", \"idea\", \"idea\", \"idea\", \"idea\", \"idea\", \"idea\", \"idea\", \"idea\", \"impatient\", \"implant\", \"important\", \"important\", \"important\", \"important\", \"important\", \"important\", \"important\", \"important\", \"important\", \"important\", \"important\", \"important\", \"important\", \"important\", \"important\", \"inappropriate\", \"inappropriate\", \"inappropriate\", \"inappropriate\", \"inappropriate\", \"inappropriate\", \"incapable\", \"income\", \"infertile\", \"infertility\", \"information\", \"information\", \"information\", \"information\", \"information\", \"information\", \"information\", \"information\", \"information\", \"information\", \"ingredient\", \"inheritance\", \"insecure\", \"insecure\", \"inspection\", \"insulin\", \"insurance\", \"insurance\", \"insurance\", \"interfere\", \"interior\", \"interview\", \"invalidate\", \"investment\", \"invitation\", \"irritate\", \"issue\", \"issue\", \"issue\", \"issue\", \"issue\", \"issue\", \"issue\", \"issue\", \"issue\", \"issue\", \"issue\", \"issue\", \"issue\", \"issue\", \"issue\", \"issue\", \"item\", \"item\", \"item\", \"item\", \"item\", \"item\", \"item\", \"ivf\", \"ivf\", \"jack\", \"jake\", \"japanese\", \"jean\", \"jess\", \"jewellery\", \"jewelry\", \"jewelry\", \"jewish\", \"job\", \"job\", \"job\", \"job\", \"job\", \"job\", \"joke\", \"joke\", \"joke\", \"joke\", \"juice\", \"junk\", \"key\", \"key\", \"key\", \"key\", \"key\", \"kid\", \"kid\", \"kid\", \"kid\", \"kid\", \"kid\", \"kid\", \"kid\", \"kid\", \"kidney\", \"kitchen\", \"kitchen\", \"l\", \"l\", \"labor\", \"labor\", \"language\", \"laptop\", \"laptop\", \"laptop\", \"late\", \"late\", \"late\", \"late\", \"late\", \"late\", \"late\", \"late\", \"late\", \"late\", \"late\", \"late\", \"laugh\", \"laugh\", \"laugh\", \"laugh\", \"laugh\", \"laundry\", \"laundry\", \"lauren\", \"lavish\", \"law\", \"law\", \"law\", \"law\", \"law\", \"law\", \"law\", \"lawsuit\", \"lay\", \"leash\", \"leave\", \"leave\", \"leave\", \"leave\", \"leave\", \"leave\", \"leave\", \"leave\", \"leave\", \"leave\", \"leave\", \"leave\", \"leave\", \"leave\", \"leave\", \"lesson\", \"lesson\", \"lesson\", \"lesson\", \"lesson\", \"library\", \"life\", \"life\", \"life\", \"life\", \"life\", \"life\", \"life\", \"life\", \"life\", \"life\", \"life\", \"life\", \"life\", \"liquor\", \"little\", \"little\", \"little\", \"little\", \"little\", \"little\", \"little\", \"little\", \"little\", \"little\", \"little\", \"little\", \"little\", \"little\", \"little\", \"little\", \"live\", \"live\", \"live\", \"live\", \"live\", \"live\", \"live\", \"live\", \"live\", \"live\", \"live\", \"living_room\", \"loan\", \"lobby\", \"lobster\", \"lock\", \"lock\", \"lock\", \"lock\", \"long\", \"long\", \"long\", \"long\", \"long\", \"long\", \"long\", \"long\", \"long\", \"long\", \"long\", \"long\", \"long\", \"long\", \"long\", \"long\", \"look\", \"look\", \"look\", \"look\", \"look\", \"look\", \"look\", \"look\", \"look\", \"look\", \"look\", \"look\", \"look\", \"look\", \"look\", \"look\", \"lose\", \"lose\", \"lose\", \"lose\", \"lose\", \"lose\", \"lose\", \"lose\", \"lose\", \"lose\", \"lose\", \"lose\", \"lose\", \"lot\", \"lot\", \"lot\", \"lot\", \"lot\", \"lot\", \"lot\", \"lot\", \"lot\", \"lot\", \"lot\", \"lot\", \"lot\", \"lot\", \"lot\", \"lot\", \"lotion\", \"love\", \"love\", \"love\", \"love\", \"love\", \"love\", \"love\", \"love\", \"love\", \"love\", \"love\", \"love\", \"love\", \"lunch\", \"lunch\", \"lunch\", \"lunch\", \"lunch\", \"mad\", \"mad\", \"mad\", \"mad\", \"mad\", \"mad\", \"mad\", \"mad\", \"mad\", \"mad\", \"mad\", \"mad\", \"mad\", \"mad\", \"mad\", \"makeup\", \"male\", \"male\", \"male\", \"male\", \"male\", \"malice\", \"man\", \"man\", \"man\", \"man\", \"man\", \"man\", \"man\", \"man\", \"man\", \"management\", \"manager\", \"manager\", \"manager\", \"marriage\", \"marriage\", \"marriage\", \"marriage\", \"marriage\", \"mask\", \"massage\", \"maternity\", \"maternity\", \"math\", \"math\", \"meal\", \"meat\", \"medical\", \"medical\", \"medical\", \"medical\", \"medical\", \"medication\", \"medicine\", \"medicine\", \"meeting\", \"meeting\", \"meeting\", \"member\", \"member\", \"member\", \"member\", \"member\", \"member\", \"member\", \"member\", \"message\", \"message\", \"message\", \"message\", \"message\", \"message\", \"message\", \"message\", \"message\", \"message\", \"midnight\", \"mil\", \"mil\", \"mil\", \"milk\", \"milk\", \"milk\", \"minute\", \"minute\", \"minute\", \"minute\", \"minute\", \"minute\", \"minute\", \"minute\", \"minute\", \"miscarriage\", \"mom\", \"mom\", \"mom\", \"mom\", \"mom\", \"mom\", \"mom\", \"mommy\", \"money\", \"money\", \"month\", \"month\", \"month\", \"month\", \"month\", \"month\", \"month\", \"month\", \"month\", \"month\", \"month\", \"month\", \"month\", \"month\", \"month\", \"morning\", \"morning\", \"morning\", \"morning\", \"morning\", \"morning\", \"morning\", \"morning\", \"morning\", \"morning\", \"morning\", \"mortgage\", \"mother\", \"mother\", \"mother\", \"mother\", \"mother\", \"mother\", \"mother\", \"motorcycle\", \"movie\", \"movie\", \"music\", \"music\", \"music\", \"mutual\", \"mutual\", \"mutual\", \"mutual\", \"mutual\", \"necklace\", \"neighbor\", \"neighborhood\", \"neighborhood\", \"nephew\", \"new\", \"new\", \"new\", \"new\", \"new\", \"new\", \"new\", \"new\", \"new\", \"new\", \"new\", \"new\", \"new\", \"new\", \"new\", \"new\", \"newborn\", \"nice\", \"nice\", \"nice\", \"nice\", \"nice\", \"nice\", \"nice\", \"nice\", \"nice\", \"nice\", \"nice\", \"nice\", \"nice\", \"nickname\", \"nickname\", \"nicole\", \"niece\", \"night\", \"night\", \"night\", \"night\", \"night\", \"night\", \"night\", \"night\", \"night\", \"nipple\", \"noise\", \"noise\", \"noise\", \"noticeable\", \"number\", \"number\", \"number\", \"number\", \"number\", \"number\", \"number\", \"number\", \"number\", \"number\", \"number\", \"nurse\", \"nurse\", \"nurse\", \"nursery\", \"nursery\", \"nut\", \"o'clock\", \"obese\", \"obligate\", \"obnoxious\", \"obnoxious\", \"offensive\", \"offensive\", \"offensive\", \"office\", \"office\", \"office\", \"old\", \"old\", \"old\", \"old\", \"old\", \"old\", \"old\", \"old\", \"old\", \"old\", \"old\", \"old\", \"old\", \"old\", \"old\", \"open\", \"open\", \"open\", \"open\", \"open\", \"open\", \"open\", \"open\", \"open\", \"open\", \"open\", \"open\", \"open\", \"open\", \"order\", \"order\", \"order\", \"order\", \"order\", \"order\", \"order\", \"order\", \"order\", \"order\", \"order\", \"outfit\", \"outfit\", \"outing\", \"ovary\", \"overweight\", \"owner\", \"owner\", \"owner\", \"owner\", \"p.m.\", \"p.m.\", \"package\", \"package\", \"package\", \"package\", \"pad\", \"pain\", \"pain\", \"pain\", \"pain\", \"pain\", \"pain\", \"painting\", \"panic_attack\", \"pant\", \"pant\", \"pant\", \"parent\", \"parent\", \"parent\", \"parent\", \"parent\", \"parent\", \"parent\", \"parent\", \"parent\", \"parent\", \"parent\", \"parenting\", \"parenting\", \"park\", \"park\", \"park\", \"parking\", \"partner\", \"partner\", \"partner\", \"partner\", \"partner\", \"partner\", \"partner\", \"partner\", \"partner\", \"partner\", \"partner\", \"party\", \"party\", \"party\", \"pass\", \"pass\", \"pass\", \"pass\", \"pass\", \"pass\", \"pass\", \"pass\", \"pass\", \"pass\", \"pass\", \"pass\", \"pass\", \"pastor\", \"paternity_t\", \"patient\", \"patient\", \"patient\", \"patient\", \"pay\", \"pay\", \"pay\", \"pay\", \"pay\", \"pay\", \"payment\", \"pc\", \"pediatrician\", \"people\", \"people\", \"people\", \"people\", \"people\", \"people\", \"people\", \"people\", \"people\", \"people\", \"people\", \"people\", \"people\", \"people\", \"people\", \"people\", \"pepper\", \"perfume\", \"period\", \"period\", \"period\", \"period\", \"period\", \"period\", \"period\", \"period\", \"period\", \"person\", \"person\", \"person\", \"person\", \"person\", \"person\", \"person\", \"person\", \"person\", \"person\", \"person\", \"person\", \"person\", \"person\", \"person\", \"person\", \"pet\", \"phone\", \"phone\", \"phone\", \"phone\", \"phone\", \"phone\", \"phone\", \"phone\", \"phone\", \"phone\", \"phone\", \"photo\", \"photo\", \"piano\", \"picture\", \"picture\", \"picture\", \"picture\", \"picture\", \"picture\", \"picture\", \"pie\", \"pink\", \"pink\", \"pizza\", \"place\", \"place\", \"place\", \"place\", \"place\", \"place\", \"place\", \"place\", \"place\", \"place\", \"place\", \"place\", \"place\", \"place\", \"place\", \"plan\", \"plan\", \"plan\", \"plan\", \"plan\", \"plan\", \"plan\", \"plan\", \"plan\", \"plan\", \"plane\", \"planning\", \"plant\", \"plant\", \"plastic\", \"plate\", \"plate\", \"platinum\", \"play\", \"play\", \"play\", \"play\", \"play\", \"play\", \"play\", \"play\", \"playstation\", \"point\", \"point\", \"point\", \"point\", \"point\", \"point\", \"point\", \"point\", \"point\", \"point\", \"point\", \"point\", \"point\", \"point\", \"point\", \"point\", \"police\", \"police\", \"police\", \"police\", \"police\", \"police\", \"police\", \"police\", \"pool\", \"pool\", \"pool\", \"pool\", \"poop\", \"porch\", \"pork\", \"position\", \"position\", \"position\", \"position\", \"position\", \"position\", \"position\", \"position\", \"position\", \"position\", \"post\", \"post\", \"post\", \"post\", \"post\", \"post\", \"post\", \"post\", \"post\", \"post\", \"post\", \"post\", \"postpartum\", \"potato\", \"pour\", \"prank\", \"precaution\", \"precedent\", \"pregnancy\", \"pregnant\", \"pregnant\", \"pregnant\", \"premature\", \"prescription\", \"present\", \"present\", \"present\", \"present\", \"present\", \"present\", \"present\", \"present\", \"present\", \"price\", \"price\", \"principal\", \"print\", \"private\", \"private\", \"private\", \"private\", \"private\", \"private\", \"private\", \"private\", \"private\", \"private\", \"private\", \"problem\", \"problem\", \"problem\", \"problem\", \"problem\", \"problem\", \"problem\", \"problem\", \"problem\", \"problem\", \"problem\", \"problem\", \"problem\", \"problem\", \"problem\", \"problem\", \"production\", \"profile\", \"program\", \"program\", \"program\", \"project\", \"project\", \"project\", \"project\", \"promotion\", \"prone\", \"pronoun\", \"property\", \"property\", \"property\", \"proposal\", \"propose\", \"prospective\", \"punishment\", \"punishment\", \"punishment\", \"punishment\", \"purse\", \"r_amitheasshole_comment\", \"r_amitheasshole_comment\", \"rabbit\", \"race\", \"racism\", \"racist\", \"raise\", \"raise\", \"raise\", \"raise\", \"raise\", \"raise\", \"raise\", \"raise\", \"reader\", \"reason\", \"reason\", \"reason\", \"reason\", \"reason\", \"reason\", \"reason\", \"reason\", \"reason\", \"reason\", \"reason\", \"reason\", \"reason\", \"reason\", \"reason\", \"reason\", \"receipt\", \"receipt\", \"receipt\", \"receipt\", \"reception\", \"recipe\", \"reconcile\", \"reconcile\", \"reduce\", \"registration\", \"relationship\", \"relationship\", \"relationship\", \"relationship\", \"relationship\", \"relationship\", \"relationship\", \"relationship\", \"relationship\", \"relationship\", \"reliable\", \"religion\", \"religion\", \"religious\", \"religious\", \"religious\", \"religious\", \"rent\", \"rent\", \"rent\", \"report\", \"report\", \"report\", \"report\", \"rescue\", \"resident\", \"restaurant\", \"restaurant\", \"restaurant\", \"restaurant\", \"restaurant\", \"restroom\", \"retaliation\", \"retirement\", \"rice\", \"right\", \"right\", \"right\", \"right\", \"right\", \"right\", \"right\", \"right\", \"right\", \"right\", \"right\", \"right\", \"right\", \"right\", \"right\", \"right\", \"ring\", \"risky\", \"road\", \"road\", \"road\", \"road\", \"road\", \"road\", \"romantic\", \"room\", \"room\", \"room\", \"room\", \"room\", \"room\", \"room\", \"roommate\", \"rotate\", \"row\", \"rsvp\", \"rude\", \"rude\", \"rude\", \"rude\", \"rude\", \"rude\", \"rude\", \"rude\", \"rude\", \"rude\", \"rude\", \"rude\", \"rude\", \"rule\", \"rule\", \"rule\", \"rule\", \"rule\", \"rule\", \"rule\", \"rule\", \"rule\", \"russian\", \"salad\", \"salary\", \"salary\", \"salt\", \"sandwich\", \"sauce\", \"saving\", \"scar\", \"scene\", \"scene\", \"scene\", \"schedule\", \"schedule\", \"schedule\", \"schedule\", \"scholarship\", \"scholarship\", \"school\", \"school\", \"school\", \"school\", \"school\", \"school\", \"school\", \"school\", \"screenshot\", \"screenshot\", \"sd\", \"seat\", \"seat\", \"section\", \"section\", \"section\", \"section\", \"seed\", \"seizure\", \"semester\", \"semester\", \"senior\", \"senior\", \"senior\", \"settlement\", \"severe\", \"severe\", \"severe\", \"severe\", \"sewing\", \"sex\", \"sex\", \"sex\", \"sex\", \"sex\", \"sex\", \"sexist\", \"sexist\", \"shaky\", \"shampoo\", \"share\", \"share\", \"share\", \"share\", \"share\", \"share\", \"share\", \"share\", \"share\", \"share\", \"share\", \"share\", \"share\", \"sheet\", \"sheet\", \"shelf\", \"shelf\", \"shift\", \"shift\", \"shirt\", \"shoe\", \"shoe\", \"shoe\", \"shoe\", \"shop\", \"shop\", \"shop\", \"shop\", \"shop\", \"shop\", \"shop\", \"shopping\", \"shopping\", \"shopping\", \"shopping\", \"shopping\", \"shopping\", \"shopping\", \"shopping\", \"short\", \"short\", \"short\", \"short\", \"short\", \"short\", \"short\", \"short\", \"short\", \"short\", \"short\", \"short\", \"short\", \"short\", \"short\", \"shower\", \"shower\", \"shower\", \"sibling\", \"sibling\", \"sibling\", \"sibling\", \"sign\", \"sign\", \"sign\", \"sign\", \"sign\", \"sign\", \"sign\", \"sign\", \"sign\", \"sign\", \"signature\", \"sil\", \"sil\", \"sil\", \"sin\", \"sing\", \"singer\", \"single\", \"single\", \"single\", \"single\", \"single\", \"single\", \"single\", \"single\", \"single\", \"single\", \"single\", \"single\", \"sis\", \"sister\", \"sister\", \"sister\", \"sitter\", \"sitter\", \"situation\", \"situation\", \"situation\", \"situation\", \"situation\", \"situation\", \"situation\", \"situation\", \"situation\", \"situation\", \"situation\", \"situation\", \"situation\", \"situation\", \"situation\", \"situation\", \"size\", \"size\", \"size\", \"size\", \"size\", \"size\", \"skate\", \"skill\", \"skill\", \"skill\", \"skin\", \"skin\", \"slack\", \"sleep\", \"sleep\", \"sleep\", \"sleep\", \"sleep\", \"slur\", \"small\", \"small\", \"small\", \"small\", \"small\", \"small\", \"small\", \"small\", \"small\", \"small\", \"small\", \"small\", \"small\", \"small\", \"small\", \"small\", \"smell\", \"smell\", \"smell\", \"smell\", \"snack\", \"snake\", \"soda\", \"son\", \"son\", \"son\", \"son\", \"song\", \"sooo\", \"soup\", \"space\", \"space\", \"space\", \"space\", \"space\", \"space\", \"space\", \"space\", \"space\", \"space\", \"spanish\", \"speech\", \"speech\", \"speechless\", \"speed\", \"speed\", \"sperm\", \"spice\", \"spicy\", \"spoiler\", \"spontaneous\", \"spot\", \"spot\", \"spot\", \"spot\", \"spot\", \"spot\", \"spot\", \"spot\", \"spot\", \"stability\", \"start\", \"start\", \"start\", \"start\", \"start\", \"start\", \"start\", \"start\", \"start\", \"start\", \"start\", \"start\", \"start\", \"start\", \"start\", \"step\", \"step\", \"step\", \"step\", \"step\", \"step\", \"step\", \"step\", \"step\", \"step\", \"step\", \"step\", \"stepbrother\", \"stepbrother\", \"stepdad\", \"stepdaughter\", \"stepmom\", \"stepmother\", \"stepmother\", \"stepsister\", \"stepsister\", \"stereotype\", \"sticker\", \"storage\", \"store\", \"store\", \"store\", \"store\", \"store\", \"store\", \"store\", \"story\", \"story\", \"story\", \"story\", \"story\", \"story\", \"story\", \"story\", \"story\", \"story\", \"story\", \"story\", \"story\", \"struggle\", \"struggle\", \"struggle\", \"struggle\", \"struggle\", \"struggle\", \"struggle\", \"struggle\", \"struggle\", \"struggle\", \"student\", \"student\", \"student\", \"studio\", \"study\", \"study\", \"study\", \"study\", \"study\", \"study\", \"study\", \"study\", \"stuff\", \"stuff\", \"stuff\", \"stuff\", \"stuff\", \"stuff\", \"stuff\", \"stuff\", \"stuff\", \"stuff\", \"stuff\", \"stuff\", \"stuff\", \"stuff\", \"style\", \"style\", \"style\", \"style\", \"subreddit\", \"suffering\", \"suit\", \"suit\", \"suit\", \"suit\", \"suite\", \"supervise\", \"supervisor\", \"support\", \"support\", \"support\", \"support\", \"support\", \"support\", \"support\", \"support\", \"support\", \"support\", \"surgery\", \"surname\", \"surrogate\", \"sweater\", \"sweep\", \"sweet\", \"sweet\", \"sweet\", \"sweet\", \"sweet\", \"sweet\", \"sweet\", \"sweet\", \"sweet\", \"sweet\", \"swim\", \"sympathize\", \"t\", \"table\", \"table\", \"table\", \"table\", \"table\", \"table\", \"tablet\", \"talk\", \"talk\", \"talk\", \"talk\", \"talk\", \"talk\", \"talk\", \"talk\", \"talk\", \"talk\", \"talk\", \"talk\", \"talk\", \"talk\", \"talk\", \"talk\", \"tampon\", \"taste\", \"taste\", \"taste\", \"taste\", \"taste\", \"tattoo\", \"tea\", \"tea\", \"teacher\", \"team\", \"technical\", \"tell\", \"tell\", \"tell\", \"tell\", \"tell\", \"tell\", \"tell\", \"tell\", \"tell\", \"tell\", \"tell\", \"tell\", \"tell\", \"tell\", \"tell\", \"tell\", \"temp\", \"tenant\", \"tenant\", \"test\", \"test\", \"test\", \"testing\", \"testing\", \"text\", \"text\", \"text\", \"text\", \"text\", \"text\", \"text\", \"text\", \"texte\", \"texte\", \"texte\", \"texte\", \"texte\", \"texte\", \"texte\", \"texte\", \"texte\", \"theater\", \"therapist\", \"therapist\", \"therapist\", \"therapy\", \"therapy\", \"therapy\", \"therapy\", \"therapy\", \"throw_tantrum\", \"tidy\", \"tidy\", \"timing\", \"tinder\", \"tip\", \"tip\", \"tip\", \"tired\", \"tired\", \"tired\", \"tired\", \"tired\", \"tired\", \"tired\", \"tired\", \"today\", \"today\", \"today\", \"today\", \"today\", \"today\", \"today\", \"today\", \"today\", \"today\", \"today\", \"today\", \"today\", \"today\", \"today\", \"today\", \"toilet\", \"tooth\", \"topless\", \"tour\", \"tow\", \"towel\", \"toy\", \"toy\", \"toy\", \"toy\", \"toy\", \"tradition\", \"tradition\", \"tradition\", \"traditional\", \"traditional\", \"traditional\", \"traditional\", \"traumatize\", \"tree\", \"tree\", \"tree\", \"trick\", \"trick\", \"trimester\", \"trip\", \"trip\", \"trip\", \"trip\", \"trip\", \"triplet\", \"truck\", \"trunk\", \"tuition\", \"tutor\", \"tv\", \"tv\", \"tv\", \"tv\", \"tv\", \"twin\", \"twin\", \"twin\", \"typo\", \"unborn\", \"uncalled\", \"uncle\", \"uncle\", \"uncle\", \"uncle\", \"uncomfortable\", \"uncomfortable\", \"uncomfortable\", \"uncomfortable\", \"uncomfortable\", \"uncomfortable\", \"uncomfortable\", \"uncomfortable\", \"uncomfortable\", \"undermine\", \"ungrateful\", \"ungrateful\", \"ungrateful\", \"ungrateful\", \"ungrateful\", \"ungrateful\", \"ungrateful\", \"unhealthy\", \"unhealthy\", \"uniform\", \"uninvite\", \"unprofessional\", \"unstable\", \"unwell\", \"update\", \"update\", \"update\", \"update\", \"update\", \"update\", \"update\", \"update\", \"update\", \"update\", \"update\", \"update\", \"update\", \"upset\", \"upset\", \"upset\", \"upset\", \"upset\", \"upset\", \"upset\", \"upset\", \"upset\", \"upset\", \"upset\", \"upset\", \"upset\", \"upset\", \"upset\", \"upset\", \"upstage\", \"upstairs\", \"usable\", \"use\", \"use\", \"use\", \"use\", \"use\", \"use\", \"use\", \"use\", \"use\", \"use\", \"use\", \"use\", \"use\", \"use\", \"use\", \"use\", \"utility\", \"vacation\", \"vacation\", \"vacation\", \"vacation\", \"vacation\", \"vacation\", \"vacuum\", \"vain\", \"vasectomy\", \"vegetable\", \"vegetable\", \"vegetarian\", \"vehicle\", \"vehicle\", \"venue\", \"vet\", \"viable\", \"vibe\", \"vibe\", \"video\", \"video\", \"video\", \"video\", \"video\", \"visit\", \"visit\", \"visit\", \"visit\", \"visit\", \"visit\", \"visit\", \"visit\", \"visit\", \"visit\", \"visit\", \"visitation\", \"vodka\", \"waiter\", \"waiting\", \"waitress\", \"wake\", \"wake\", \"wake\", \"wake\", \"walk\", \"walk\", \"walk\", \"walk\", \"walk\", \"walk\", \"walk\", \"walk\", \"walk\", \"walk\", \"wander\", \"want\", \"want\", \"want\", \"want\", \"want\", \"want\", \"want\", \"want\", \"want\", \"want\", \"want\", \"want\", \"want\", \"want\", \"want\", \"want\", \"water\", \"water\", \"water\", \"water\", \"water\", \"water\", \"water\", \"way\", \"way\", \"way\", \"way\", \"way\", \"way\", \"way\", \"way\", \"way\", \"way\", \"way\", \"way\", \"way\", \"way\", \"way\", \"way\", \"wealth\", \"wear\", \"wear\", \"wear\", \"wedding\", \"week\", \"week\", \"week\", \"week\", \"week\", \"week\", \"week\", \"week\", \"week\", \"week\", \"week\", \"week\", \"week\", \"week\", \"week\", \"week\", \"weekend\", \"weekend\", \"weekend\", \"weekend\", \"weekend\", \"weekend\", \"weekend\", \"weekend\", \"weekend\", \"weekend\", \"weight\", \"weird\", \"weird\", \"weird\", \"weird\", \"weird\", \"weird\", \"weird\", \"weird\", \"weird\", \"weird\", \"wet\", \"whisper\", \"white\", \"white\", \"white\", \"wife\", \"wife\", \"wife\", \"window\", \"window\", \"window\", \"window\", \"wipe\", \"wipe\", \"woman\", \"woman\", \"woman\", \"woman\", \"woman\", \"woman\", \"woman\", \"woman\", \"woman\", \"woman\", \"woman\", \"woman\", \"work\", \"work\", \"work\", \"work\", \"work\", \"work\", \"work\", \"work\", \"work\", \"work\", \"work\", \"work\", \"work\", \"work\", \"work\", \"workout\", \"workplace\", \"wrestling\", \"writer\", \"wrong\", \"wrong\", \"wrong\", \"wrong\", \"wrong\", \"wrong\", \"wrong\", \"wrong\", \"wrong\", \"wrong\", \"wrong\", \"wrong\", \"wrong\", \"wrong\", \"wrong\", \"wrong\", \"yard\", \"yard\", \"yarn\", \"yellow\", \"young\", \"young\", \"young\", \"young\", \"young\", \"young\", \"young\", \"young\", \"young\", \"young\", \"young\", \"youth\", \"\\u00a3\"]}, \"R\": 30, \"lambda.step\": 0.01, \"plot.opts\": {\"xlab\": \"PC1\", \"ylab\": \"PC2\"}, \"topic.order\": [16, 7, 9, 14, 12, 11, 5, 6, 2, 4, 3, 15, 10, 1, 8, 13]};\n",
       "\n",
       "function LDAvis_load_lib(url, callback){\n",
       "  var s = document.createElement('script');\n",
       "  s.src = url;\n",
       "  s.async = true;\n",
       "  s.onreadystatechange = s.onload = callback;\n",
       "  s.onerror = function(){console.warn(\"failed to load library \" + url);};\n",
       "  document.getElementsByTagName(\"head\")[0].appendChild(s);\n",
       "}\n",
       "\n",
       "if(typeof(LDAvis) !== \"undefined\"){\n",
       "   // already loaded: just create the visualization\n",
       "   !function(LDAvis){\n",
       "       new LDAvis(\"#\" + \"ldavis_el4850140290241015472473124981\", ldavis_el4850140290241015472473124981_data);\n",
       "   }(LDAvis);\n",
       "}else if(typeof define === \"function\" && define.amd){\n",
       "   // require.js is available: use it to load d3/LDAvis\n",
       "   require.config({paths: {d3: \"https://d3js.org/d3.v5\"}});\n",
       "   require([\"d3\"], function(d3){\n",
       "      window.d3 = d3;\n",
       "      LDAvis_load_lib(\"https://cdn.jsdelivr.net/gh/bmabey/pyLDAvis@3.3.1/pyLDAvis/js/ldavis.v3.0.0.js\", function(){\n",
       "        new LDAvis(\"#\" + \"ldavis_el4850140290241015472473124981\", ldavis_el4850140290241015472473124981_data);\n",
       "      });\n",
       "    });\n",
       "}else{\n",
       "    // require.js not available: dynamically load d3 & LDAvis\n",
       "    LDAvis_load_lib(\"https://d3js.org/d3.v5.js\", function(){\n",
       "         LDAvis_load_lib(\"https://cdn.jsdelivr.net/gh/bmabey/pyLDAvis@3.3.1/pyLDAvis/js/ldavis.v3.0.0.js\", function(){\n",
       "                 new LDAvis(\"#\" + \"ldavis_el4850140290241015472473124981\", ldavis_el4850140290241015472473124981_data);\n",
       "            })\n",
       "         });\n",
       "}\n",
       "</script>"
      ],
      "text/plain": [
       "PreparedData(topic_coordinates=              x         y  topics  cluster       Freq\n",
       "topic                                                \n",
       "15    -0.009904 -0.066799       1        1  19.240640\n",
       "6      0.172488  0.032844       2        1  10.191730\n",
       "8     -0.009917 -0.028770       3        1   9.329693\n",
       "13    -0.087884  0.132429       4        1   7.352649\n",
       "11    -0.022299  0.140750       5        1   6.720075\n",
       "10     0.185417  0.074224       6        1   6.491933\n",
       "4      0.120132 -0.053379       7        1   5.835890\n",
       "5      0.171571 -0.025763       8        1   5.695920\n",
       "1     -0.159991  0.099255       9        1   5.278807\n",
       "3      0.152859  0.026013      10        1   4.332233\n",
       "2     -0.004799 -0.213537      11        1   4.244993\n",
       "14     0.055341 -0.086146      12        1   3.916134\n",
       "9     -0.166936 -0.003075      13        1   3.814625\n",
       "0     -0.188820  0.126893      14        1   2.916226\n",
       "7     -0.021875  0.095442      15        1   2.549234\n",
       "12    -0.185382 -0.250381      16        1   2.089219, topic_info=         Term          Freq         Total Category  logprob  loglift\n",
       "523   husband  10665.000000  10665.000000  Default  30.0000  30.0000\n",
       "147      wife   9792.000000   9792.000000  Default  29.0000  29.0000\n",
       "134    parent  11391.000000  11391.000000  Default  28.0000  28.0000\n",
       "894    sister   7766.000000   7766.000000  Default  27.0000  27.0000\n",
       "259     money   7612.000000   7612.000000  Default  26.0000  26.0000\n",
       "..        ...           ...           ...      ...      ...      ...\n",
       "130      nice    234.736021   2247.811237  Topic16  -4.6770   1.6091\n",
       "33       girl    267.564685   3958.019367  Topic16  -4.5461   1.1742\n",
       "507     small    195.476792   2452.457535  Topic16  -4.8601   1.3390\n",
       "50       look    183.709607   1995.659402  Topic16  -4.9221   1.4830\n",
       "474  business    171.192273   1329.315608  Topic16  -4.9927   1.8187\n",
       "\n",
       "[1115 rows x 6 columns], token_table=      Topic      Freq   Term\n",
       "term                        \n",
       "4870      2  0.911786    14f\n",
       "4870     11  0.082890    14f\n",
       "2136     11  0.990093    30f\n",
       "3147     12  0.969005    35k\n",
       "4833      5  0.961063    7th\n",
       "...     ...       ...    ...\n",
       "149      10  0.000379  young\n",
       "149      12  0.013660  young\n",
       "149      16  0.023526  young\n",
       "4121      8  0.985847  youth\n",
       "1569      6  0.977604      £\n",
       "\n",
       "[3299 rows x 3 columns], R=30, lambda_step=0.01, plot_opts={'xlab': 'PC1', 'ylab': 'PC2'}, topic_order=[16, 7, 9, 14, 12, 11, 5, 6, 2, 4, 3, 15, 10, 1, 8, 13])"
      ]
     },
     "execution_count": 43,
     "metadata": {},
     "output_type": "execute_result"
    },
    {
     "name": "stderr",
     "output_type": "stream",
     "text": [
      "/Users/tomvannuenen/opt/anaconda3/lib/python3.8/site-packages/past/builtins/misc.py:45: DeprecationWarning: the imp module is deprecated in favour of importlib; see the module's documentation for alternative uses\n",
      "  from imp import reload\n",
      "/Users/tomvannuenen/opt/anaconda3/lib/python3.8/site-packages/past/builtins/misc.py:45: DeprecationWarning: the imp module is deprecated in favour of importlib; see the module's documentation for alternative uses\n",
      "  from imp import reload\n",
      "/Users/tomvannuenen/opt/anaconda3/lib/python3.8/site-packages/past/builtins/misc.py:45: DeprecationWarning: the imp module is deprecated in favour of importlib; see the module's documentation for alternative uses\n",
      "  from imp import reload\n",
      "/Users/tomvannuenen/opt/anaconda3/lib/python3.8/site-packages/past/builtins/misc.py:45: DeprecationWarning: the imp module is deprecated in favour of importlib; see the module's documentation for alternative uses\n",
      "  from imp import reload\n",
      "/Users/tomvannuenen/opt/anaconda3/lib/python3.8/site-packages/past/builtins/misc.py:45: DeprecationWarning: the imp module is deprecated in favour of importlib; see the module's documentation for alternative uses\n",
      "  from imp import reload\n",
      "/Users/tomvannuenen/opt/anaconda3/lib/python3.8/site-packages/past/builtins/misc.py:45: DeprecationWarning: the imp module is deprecated in favour of importlib; see the module's documentation for alternative uses\n",
      "  from imp import reload\n",
      "/Users/tomvannuenen/opt/anaconda3/lib/python3.8/site-packages/past/builtins/misc.py:45: DeprecationWarning: the imp module is deprecated in favour of importlib; see the module's documentation for alternative uses\n",
      "  from imp import reload\n",
      "/Users/tomvannuenen/opt/anaconda3/lib/python3.8/site-packages/past/builtins/misc.py:45: DeprecationWarning: the imp module is deprecated in favour of importlib; see the module's documentation for alternative uses\n",
      "  from imp import reload\n"
     ]
    }
   ],
   "source": [
    "import pyLDAvis\n",
    "import pyLDAvis.gensim_models as gensimvis\n",
    "pyLDAvis.enable_notebook()\n",
    "\n",
    "# feed the LDA model into the pyLDAvis instance\n",
    "lda_viz = gensimvis.prepare(optimal_lda_model, pos_corpus, pos_dictionary)\n",
    "lda_viz"
   ]
  },
  {
   "cell_type": "markdown",
   "metadata": {},
   "source": [
    "In case you want to load these models from disk again:"
   ]
  },
  {
   "cell_type": "code",
   "execution_count": 22,
   "metadata": {},
   "outputs": [],
   "source": [
    "# LOAD MODEL\n",
    "optimal_lda_model = LdaModel.load('aita_pos_lda_optimal.model')\n",
    "\n",
    "# LOAD DICT\n",
    "pos_dictionary = corpora.Dictionary.load('aita_pos_lda.dict')\n",
    "\n",
    "# LOAD CORPUS\n",
    "pos_corpus = [pos_dictionary.doc2bow(text) for text in ProgressDisplay(pos_lemmas_split)]"
   ]
  },
  {
   "cell_type": "markdown",
   "metadata": {},
   "source": [
    "## Naming our topics\n",
    "\n",
    "The next thing we should do is name our topics. This is the most important interpretative step in the process: after all, our model has no semantic knowledge of the data. We will print out the top words of each topic, then go over all of them and give them names."
   ]
  },
  {
   "cell_type": "code",
   "execution_count": 23,
   "metadata": {
    "colab": {
     "base_uri": "https://localhost:8080/"
    },
    "executionInfo": {
     "elapsed": 325,
     "status": "ok",
     "timestamp": 1639940904382,
     "user": {
      "displayName": "Tom van Nuenen",
      "photoUrl": "https://lh3.googleusercontent.com/a-/AOh14GhuBmxDvW5I_LJfZtwlPqMFD8QGLVPP3skvpkTnuQ=s64",
      "userId": "10012302451096885058"
     },
     "user_tz": -60
    },
    "id": "h3IDZcmfZW1A",
    "outputId": "9eff0a15-579a-4d68-afb7-e29d7f3d6bb8"
   },
   "outputs": [
    {
     "name": "stdout",
     "output_type": "stream",
     "text": [
      "[(0,\n",
      "  '0.096*\"car\" + 0.087*\"dog\" + 0.033*\"cat\" + 0.026*\"drive\" + 0.015*\"neighbor\" '\n",
      "  '+ 0.013*\"home\" + 0.012*\"property\" + 0.011*\"walk\" + 0.011*\"door\" + '\n",
      "  '0.010*\"animal\" + 0.010*\"house\" + 0.010*\"yard\" + 0.009*\"window\" + '\n",
      "  '0.009*\"parking\" + 0.008*\"police\" + 0.008*\"accident\" + 0.008*\"key\" + '\n",
      "  '0.008*\"spot\" + 0.008*\"vet\" + 0.008*\"neighborhood\"'),\n",
      " (1,\n",
      "  '0.071*\"room\" + 0.022*\"use\" + 0.022*\"sleep\" + 0.020*\"bathroom\" + 0.018*\"bed\" '\n",
      "  '+ 0.018*\"apartment\" + 0.017*\"bedroom\" + 0.016*\"house\" + 0.015*\"door\" + '\n",
      "  '0.015*\"roommate\" + 0.014*\"clean\" + 0.013*\"live\" + 0.013*\"home\" + '\n",
      "  '0.012*\"night\" + 0.011*\"stuff\" + 0.009*\"space\" + 0.009*\"issue\" + 0.008*\"bag\" '\n",
      "  '+ 0.008*\"place\" + 0.008*\"share\"'),\n",
      " (2,\n",
      "  '0.040*\"hair\" + 0.036*\"comment\" + 0.023*\"people\" + 0.022*\"post\" + '\n",
      "  '0.016*\"picture\" + 0.011*\"use\" + 0.011*\"video\" + 0.010*\"message\" + '\n",
      "  '0.009*\"update\" + 0.009*\"color\" + 0.009*\"makeup\" + 0.009*\"black\" + '\n",
      "  '0.009*\"edit\" + 0.009*\"white\" + 0.008*\"photo\" + 0.007*\"short\" + 0.007*\"long\" '\n",
      "  '+ 0.007*\"girl\" + 0.007*\"story\" + 0.007*\"change\"'),\n",
      " (3,\n",
      "  '0.204*\"husband\" + 0.108*\"baby\" + 0.044*\"pregnant\" + 0.020*\"month\" + '\n",
      "  '0.017*\"child\" + 0.016*\"pregnancy\" + 0.013*\"family\" + 0.012*\"week\" + '\n",
      "  '0.011*\"sil\" + 0.011*\"law\" + 0.010*\"birth\" + 0.008*\"help\" + 0.006*\"talk\" + '\n",
      "  '0.005*\"plan\" + 0.005*\"mother\" + 0.005*\"woman\" + 0.005*\"want\" + 0.005*\"day\" '\n",
      "  '+ 0.005*\"support\" + 0.004*\"doctor\"'),\n",
      " (4,\n",
      "  '0.077*\"wedding\" + 0.057*\"family\" + 0.016*\"day\" + 0.013*\"plan\" + '\n",
      "  '0.012*\"ring\" + 0.011*\"date\" + 0.009*\"fiance\" + 0.009*\"love\" + '\n",
      "  '0.008*\"relationship\" + 0.008*\"people\" + 0.008*\"good\" + 0.007*\"attend\" + '\n",
      "  '0.007*\"happy\" + 0.007*\"idea\" + 0.006*\"event\" + 0.006*\"big\" + 0.006*\"lot\" + '\n",
      "  '0.006*\"important\" + 0.006*\"fiancée\" + 0.006*\"member\"'),\n",
      " (5,\n",
      "  '0.096*\"kid\" + 0.093*\"child\" + 0.023*\"parent\" + 0.023*\"old\" + 0.018*\"life\" + '\n",
      "  '0.017*\"family\" + 0.015*\"young\" + 0.015*\"mother\" + 0.012*\"boy\" + 0.011*\"age\" '\n",
      "  '+ 0.009*\"support\" + 0.008*\"love\" + 0.007*\"good\" + 0.007*\"care\" + '\n",
      "  '0.007*\"relationship\" + 0.007*\"different\" + 0.006*\"want\" + 0.006*\"way\" + '\n",
      "  '0.006*\"people\" + 0.006*\"decision\"'),\n",
      " (6,\n",
      "  '0.080*\"wife\" + 0.075*\"mom\" + 0.069*\"daughter\" + 0.045*\"son\" + 0.023*\"dad\" + '\n",
      "  '0.019*\"mother\" + 0.017*\"family\" + 0.016*\"old\" + 0.012*\"talk\" + 0.010*\"love\" '\n",
      "  '+ 0.009*\"life\" + 0.009*\"relationship\" + 0.008*\"month\" + 0.008*\"step\" + '\n",
      "  '0.008*\"good\" + 0.008*\"help\" + 0.007*\"tell\" + 0.007*\"bad\" + 0.006*\"father\" + '\n",
      "  '0.006*\"lot\"'),\n",
      " (7,\n",
      "  '0.111*\"school\" + 0.046*\"class\" + 0.042*\"teacher\" + 0.031*\"student\" + '\n",
      "  '0.022*\"test\" + 0.022*\"doctor\" + 0.020*\"high\" + 0.019*\"grade\" + '\n",
      "  '0.015*\"college\" + 0.012*\"appointment\" + 0.010*\"bad\" + 0.009*\"nurse\" + '\n",
      "  '0.008*\"medication\" + 0.008*\"drug\" + 0.008*\"study\" + 0.007*\"principal\" + '\n",
      "  '0.007*\"medical\" + 0.007*\"candy\" + 0.006*\"senior\" + 0.006*\"leave\"'),\n",
      " (8,\n",
      "  '0.037*\"work\" + 0.023*\"people\" + 0.016*\"job\" + 0.011*\"company\" + 0.010*\"new\" '\n",
      "  '+ 0.008*\"lot\" + 0.008*\"office\" + 0.008*\"phone\" + 0.006*\"email\" + '\n",
      "  '0.006*\"use\" + 0.006*\"good\" + 0.006*\"person\" + 0.006*\"coworker\" + '\n",
      "  '0.006*\"week\" + 0.005*\"issue\" + 0.005*\"fire\" + 0.005*\"talk\" + 0.005*\"team\" + '\n",
      "  '0.005*\"reason\" + 0.005*\"situation\"'),\n",
      " (9,\n",
      "  '0.097*\"food\" + 0.040*\"dinner\" + 0.025*\"meal\" + 0.024*\"order\" + 0.022*\"cook\" '\n",
      "  '+ 0.019*\"restaurant\" + 0.016*\"table\" + 0.014*\"eat\" + 0.014*\"meat\" + '\n",
      "  '0.014*\"cake\" + 0.009*\"snack\" + 0.009*\"dish\" + 0.008*\"lunch\" + 0.008*\"plate\" '\n",
      "  '+ 0.008*\"people\" + 0.007*\"drink\" + 0.006*\"pizza\" + 0.006*\"taste\" + '\n",
      "  '0.006*\"recipe\" + 0.006*\"coffee\"'),\n",
      " (10,\n",
      "  '0.109*\"parent\" + 0.099*\"sister\" + 0.081*\"brother\" + 0.072*\"family\" + '\n",
      "  '0.018*\"dad\" + 0.017*\"gift\" + 0.015*\"mom\" + 0.014*\"old\" + 0.013*\"mother\" + '\n",
      "  '0.011*\"birthday\" + 0.011*\"cousin\" + 0.009*\"sibling\" + 0.008*\"young\" + '\n",
      "  '0.008*\"help\" + 0.007*\"care\" + 0.006*\"aunt\" + 0.006*\"life\" + 0.005*\"tell\" + '\n",
      "  '0.005*\"lot\" + 0.005*\"twin\"'),\n",
      " (11,\n",
      "  '0.094*\"money\" + 0.070*\"pay\" + 0.033*\"job\" + 0.023*\"month\" + 0.020*\"rent\" + '\n",
      "  '0.018*\"work\" + 0.013*\"college\" + 0.013*\"help\" + 0.012*\"house\" + '\n",
      "  '0.011*\"cost\" + 0.011*\"bill\" + 0.009*\"expensive\" + 0.008*\"income\" + '\n",
      "  '0.008*\"live\" + 0.008*\"car\" + 0.008*\"use\" + 0.008*\"good\" + 0.007*\"new\" + '\n",
      "  '0.007*\"support\" + 0.007*\"able\"'),\n",
      " (12,\n",
      "  '0.079*\"dress\" + 0.053*\"woman\" + 0.040*\"wear\" + 0.020*\"store\" + 0.019*\"man\" '\n",
      "  '+ 0.015*\"clothe\" + 0.012*\"female\" + 0.012*\"shirt\" + 0.011*\"body\" + '\n",
      "  '0.011*\"uncomfortable\" + 0.011*\"girl\" + 0.011*\"item\" + 0.010*\"shop\" + '\n",
      "  '0.010*\"short\" + 0.010*\"clothing\" + 0.010*\"customer\" + 0.009*\"comfortable\" + '\n",
      "  '0.009*\"nice\" + 0.009*\"manager\" + 0.008*\"small\"'),\n",
      " (13,\n",
      "  '0.072*\"work\" + 0.039*\"day\" + 0.031*\"hour\" + 0.031*\"week\" + 0.029*\"home\" + '\n",
      "  '0.019*\"night\" + 0.015*\"trip\" + 0.015*\"morning\" + 0.014*\"help\" + '\n",
      "  '0.012*\"weekend\" + 0.012*\"sleep\" + 0.012*\"job\" + 0.010*\"minute\" + '\n",
      "  '0.009*\"leave\" + 0.009*\"care\" + 0.008*\"plan\" + 0.008*\"month\" + '\n",
      "  '0.008*\"schedule\" + 0.008*\"phone\" + 0.007*\"long\"'),\n",
      " (14,\n",
      "  '0.017*\"bad\" + 0.016*\"weight\" + 0.016*\"issue\" + 0.014*\"lot\" + 0.013*\"help\" + '\n",
      "  '0.012*\"therapy\" + 0.012*\"body\" + 0.012*\"surgery\" + 0.011*\"pain\" + '\n",
      "  '0.010*\"art\" + 0.010*\"comment\" + 0.010*\"anxiety\" + 0.009*\"struggle\" + '\n",
      "  '0.008*\"good\" + 0.008*\"healthy\" + 0.008*\"life\" + 0.008*\"love\" + '\n",
      "  '0.008*\"health\" + 0.007*\"way\" + 0.007*\"point\"'),\n",
      " (15,\n",
      "  '0.064*\"friend\" + 0.023*\"talk\" + 0.017*\"people\" + 0.015*\"good\" + '\n",
      "  '0.013*\"boyfriend\" + 0.012*\"tell\" + 0.011*\"girl\" + 0.010*\"little\" + '\n",
      "  '0.010*\"date\" + 0.010*\"night\" + 0.009*\"day\" + 0.009*\"bad\" + 0.008*\"guy\" + '\n",
      "  '0.008*\"way\" + 0.007*\"point\" + 0.007*\"start\" + 0.007*\"bit\" + 0.007*\"upset\" + '\n",
      "  '0.007*\"couple\" + 0.006*\"leave\"')]\n"
     ]
    }
   ],
   "source": [
    "from pprint import pprint\n",
    "\n",
    "# Select the ideal model and print the topics\n",
    "model_topics = optimal_lda_model.show_topics(formatted=False)\n",
    "pprint(optimal_lda_model.print_topics(num_words=20))"
   ]
  },
  {
   "cell_type": "markdown",
   "metadata": {},
   "source": [
    "**Important**: If you are using your own data, make sure to replace the following names with those of your own!"
   ]
  },
  {
   "cell_type": "code",
   "execution_count": 25,
   "metadata": {
    "id": "VWep2BUPAc97"
   },
   "outputs": [],
   "source": [
    "# giving names to our topics\n",
    "topic_names = {0: 'around the house', \n",
    "               1: 'home',\n",
    "               2: 'physical appearance',\n",
    "               3: 'pregnancy & newborns',\n",
    "               4: 'marriage & weddings',\n",
    "               5: 'children',\n",
    "               6: 'family',\n",
    "               7: 'school & medicine',\n",
    "               8: 'work',\n",
    "               9: 'food',\n",
    "               10: 'family',\n",
    "               11: 'money',\n",
    "               12: 'clothes & shopping',\n",
    "               13: 'general',\n",
    "               14: 'lifestyle & psychology',\n",
    "               15: 'friends & dating'}\n",
    "               "
   ]
  },
  {
   "cell_type": "markdown",
   "metadata": {},
   "source": [
    "Naming topics is a heavily iterative process, based on looking closer at particular posts (see below). This process also means renaming topics: for instance, I had originally named topic 0 \"pets\" based on the top words, but upon looking closer at the posts associated with this topic, I changed it to a more general \"around the house\" category, where said pets often can be fou."
   ]
  },
  {
   "cell_type": "markdown",
   "metadata": {
    "id": "9fK6uo1EZW1M"
   },
   "source": [
    "## Finding most dominant topics per submission\n",
    "\n",
    "Topic modeling has several practical applications. One of them is to determine what topic a Reddit post is about. To figure this out, we find the topic number that has the highest percentage contribution to that thread. We'll write a `dominant_topic()` function that aggregates this information in a DataFrame."
   ]
  },
  {
   "cell_type": "code",
   "execution_count": 26,
   "metadata": {
    "colab": {
     "base_uri": "https://localhost:8080/",
     "height": 467
    },
    "executionInfo": {
     "elapsed": 118204,
     "status": "ok",
     "timestamp": 1639923042784,
     "user": {
      "displayName": "Tom van Nuenen",
      "photoUrl": "https://lh3.googleusercontent.com/a-/AOh14GhuBmxDvW5I_LJfZtwlPqMFD8QGLVPP3skvpkTnuQ=s64",
      "userId": "10012302451096885058"
     },
     "user_tz": -60
    },
    "id": "iz_TBN_dZW1Q",
    "outputId": "49fef3dd-409f-444e-dc75-fd443d24ca0f",
    "scrolled": true
   },
   "outputs": [
    {
     "data": {
      "text/html": [
       "<div>\n",
       "<style scoped>\n",
       "    .dataframe tbody tr th:only-of-type {\n",
       "        vertical-align: middle;\n",
       "    }\n",
       "\n",
       "    .dataframe tbody tr th {\n",
       "        vertical-align: top;\n",
       "    }\n",
       "\n",
       "    .dataframe thead th {\n",
       "        text-align: right;\n",
       "    }\n",
       "</style>\n",
       "<table border=\"1\" class=\"dataframe\">\n",
       "  <thead>\n",
       "    <tr style=\"text-align: right;\">\n",
       "      <th></th>\n",
       "      <th>Dominant_Topic</th>\n",
       "      <th>Dominant_Topic_Name</th>\n",
       "      <th>Topic_Perc_Contrib</th>\n",
       "      <th>Keywords</th>\n",
       "      <th>Text</th>\n",
       "    </tr>\n",
       "  </thead>\n",
       "  <tbody>\n",
       "    <tr>\n",
       "      <th>0</th>\n",
       "      <td>15.0</td>\n",
       "      <td>friends &amp; dating</td>\n",
       "      <td>0.5187</td>\n",
       "      <td>friend, talk, people, good, boyfriend, tell, g...</td>\n",
       "      <td>My girlfriend recently went to the beach with ...</td>\n",
       "    </tr>\n",
       "    <tr>\n",
       "      <th>1</th>\n",
       "      <td>0.0</td>\n",
       "      <td>around the house</td>\n",
       "      <td>0.3273</td>\n",
       "      <td>car, dog, cat, drive, neighbor, home, property...</td>\n",
       "      <td>My parents smoke like chimneys. I used to as w...</td>\n",
       "    </tr>\n",
       "    <tr>\n",
       "      <th>2</th>\n",
       "      <td>12.0</td>\n",
       "      <td>clothes &amp; shopping</td>\n",
       "      <td>0.4028</td>\n",
       "      <td>dress, woman, wear, store, man, clothe, female...</td>\n",
       "      <td>Hi guys. Throwaway for obv reasons.\\n\\nI'm a f...</td>\n",
       "    </tr>\n",
       "    <tr>\n",
       "      <th>3</th>\n",
       "      <td>9.0</td>\n",
       "      <td>food</td>\n",
       "      <td>0.5047</td>\n",
       "      <td>food, dinner, meal, order, cook, restaurant, t...</td>\n",
       "      <td>Yesterday night, me and my GF decided to go ou...</td>\n",
       "    </tr>\n",
       "    <tr>\n",
       "      <th>4</th>\n",
       "      <td>9.0</td>\n",
       "      <td>food</td>\n",
       "      <td>0.3251</td>\n",
       "      <td>food, dinner, meal, order, cook, restaurant, t...</td>\n",
       "      <td>My wife and I are vegetarians, much to my in-l...</td>\n",
       "    </tr>\n",
       "    <tr>\n",
       "      <th>...</th>\n",
       "      <td>...</td>\n",
       "      <td>...</td>\n",
       "      <td>...</td>\n",
       "      <td>...</td>\n",
       "      <td>...</td>\n",
       "    </tr>\n",
       "    <tr>\n",
       "      <th>16305</th>\n",
       "      <td>11.0</td>\n",
       "      <td>money</td>\n",
       "      <td>0.7399</td>\n",
       "      <td>money, pay, job, month, rent, work, college, h...</td>\n",
       "      <td>My (29m) good friend (26f) is currently house ...</td>\n",
       "    </tr>\n",
       "    <tr>\n",
       "      <th>16306</th>\n",
       "      <td>11.0</td>\n",
       "      <td>money</td>\n",
       "      <td>0.2970</td>\n",
       "      <td>money, pay, job, month, rent, work, college, h...</td>\n",
       "      <td>So I have a Degree in Fashion which some peopl...</td>\n",
       "    </tr>\n",
       "    <tr>\n",
       "      <th>16307</th>\n",
       "      <td>5.0</td>\n",
       "      <td>children</td>\n",
       "      <td>0.5170</td>\n",
       "      <td>kid, child, parent, old, life, family, young, ...</td>\n",
       "      <td>My husband and I have been friends since middl...</td>\n",
       "    </tr>\n",
       "    <tr>\n",
       "      <th>16308</th>\n",
       "      <td>5.0</td>\n",
       "      <td>children</td>\n",
       "      <td>0.3039</td>\n",
       "      <td>kid, child, parent, old, life, family, young, ...</td>\n",
       "      <td>I (30F) and my husband (30M) recently moved in...</td>\n",
       "    </tr>\n",
       "    <tr>\n",
       "      <th>16309</th>\n",
       "      <td>4.0</td>\n",
       "      <td>marriage &amp; weddings</td>\n",
       "      <td>0.4135</td>\n",
       "      <td>wedding, family, day, plan, ring, date, fiance...</td>\n",
       "      <td>I'm getting married in 7 months and one week a...</td>\n",
       "    </tr>\n",
       "  </tbody>\n",
       "</table>\n",
       "<p>16310 rows × 5 columns</p>\n",
       "</div>"
      ],
      "text/plain": [
       "       Dominant_Topic  Dominant_Topic_Name  Topic_Perc_Contrib  \\\n",
       "0                15.0     friends & dating              0.5187   \n",
       "1                 0.0     around the house              0.3273   \n",
       "2                12.0   clothes & shopping              0.4028   \n",
       "3                 9.0                 food              0.5047   \n",
       "4                 9.0                 food              0.3251   \n",
       "...               ...                  ...                 ...   \n",
       "16305            11.0                money              0.7399   \n",
       "16306            11.0                money              0.2970   \n",
       "16307             5.0             children              0.5170   \n",
       "16308             5.0             children              0.3039   \n",
       "16309             4.0  marriage & weddings              0.4135   \n",
       "\n",
       "                                                Keywords  \\\n",
       "0      friend, talk, people, good, boyfriend, tell, g...   \n",
       "1      car, dog, cat, drive, neighbor, home, property...   \n",
       "2      dress, woman, wear, store, man, clothe, female...   \n",
       "3      food, dinner, meal, order, cook, restaurant, t...   \n",
       "4      food, dinner, meal, order, cook, restaurant, t...   \n",
       "...                                                  ...   \n",
       "16305  money, pay, job, month, rent, work, college, h...   \n",
       "16306  money, pay, job, month, rent, work, college, h...   \n",
       "16307  kid, child, parent, old, life, family, young, ...   \n",
       "16308  kid, child, parent, old, life, family, young, ...   \n",
       "16309  wedding, family, day, plan, ring, date, fiance...   \n",
       "\n",
       "                                                    Text  \n",
       "0      My girlfriend recently went to the beach with ...  \n",
       "1      My parents smoke like chimneys. I used to as w...  \n",
       "2      Hi guys. Throwaway for obv reasons.\\n\\nI'm a f...  \n",
       "3      Yesterday night, me and my GF decided to go ou...  \n",
       "4      My wife and I are vegetarians, much to my in-l...  \n",
       "...                                                  ...  \n",
       "16305  My (29m) good friend (26f) is currently house ...  \n",
       "16306  So I have a Degree in Fashion which some peopl...  \n",
       "16307  My husband and I have been friends since middl...  \n",
       "16308  I (30F) and my husband (30M) recently moved in...  \n",
       "16309  I'm getting married in 7 months and one week a...  \n",
       "\n",
       "[16310 rows x 5 columns]"
      ]
     },
     "execution_count": 26,
     "metadata": {},
     "output_type": "execute_result"
    }
   ],
   "source": [
    "def dominant_topic(ldamodel=optimal_lda_model, corpus=corpus, texts=df['selftext']):\n",
    "    # Create DF\n",
    "    topics_df = pd.DataFrame()\n",
    "\n",
    "    # Get main topic in each document\n",
    "    for i, row in enumerate(ldamodel[corpus]):\n",
    "        row = sorted(row, key=lambda x: (x[1]), reverse=True)\n",
    "        # Get the Dominant topic, Perc Contribution and Keywords for each thread\n",
    "        for j, (topic_num, prop_topic) in enumerate(row):\n",
    "            if j == 0:  # => dominant topic\n",
    "                wp = ldamodel.show_topic(topic_num)\n",
    "                # get value of topic_names dict based on key\n",
    "                topic_name = topic_names[topic_num]\n",
    "                topic_keywords = \", \".join([word for word, prop in wp])\n",
    "                topics_df = topics_df.append(pd.Series([int(topic_num), topic_name, round(prop_topic,4), topic_keywords]), ignore_index=True)\n",
    "            else:\n",
    "                break\n",
    "    topics_df.columns = ['Dominant_Topic', 'Dominant_Topic_Name', 'Perc_Contribution', 'Topic_Keywords']\n",
    "\n",
    "    # Add original text to the end of the output\n",
    "    contents = pd.Series(texts)\n",
    "    topics_df = pd.concat([topics_df, contents], axis=1)\n",
    "    return topics_df \n",
    "\n",
    "# Run function\n",
    "df_topic_keywords = dominant_topic(ldamodel=optimal_lda_model, corpus=pos_corpus, texts=df['selftext'])\n",
    "\n",
    "# Format\n",
    "df_dominant_topic = df_topic_keywords.reset_index(drop=True)\n",
    "df_dominant_topic.columns = ['Dominant_Topic', 'Dominant_Topic_Name', 'Topic_Perc_Contrib', 'Keywords', 'Text']\n",
    "\n",
    "# Show\n",
    "df_dominant_topic"
   ]
  },
  {
   "cell_type": "markdown",
   "metadata": {
    "id": "v_OLtA9Wtq2F"
   },
   "source": [
    "We can now find the posts with a dominant topic using `.loc`"
   ]
  },
  {
   "cell_type": "code",
   "execution_count": 27,
   "metadata": {
    "colab": {
     "base_uri": "https://localhost:8080/",
     "height": 467
    },
    "executionInfo": {
     "elapsed": 9,
     "status": "ok",
     "timestamp": 1639923059054,
     "user": {
      "displayName": "Tom van Nuenen",
      "photoUrl": "https://lh3.googleusercontent.com/a-/AOh14GhuBmxDvW5I_LJfZtwlPqMFD8QGLVPP3skvpkTnuQ=s64",
      "userId": "10012302451096885058"
     },
     "user_tz": -60
    },
    "id": "bQBSqG5QtSud",
    "outputId": "ed2a055a-ca20-4e9d-9717-7a13000ab208"
   },
   "outputs": [
    {
     "data": {
      "text/html": [
       "<div>\n",
       "<style scoped>\n",
       "    .dataframe tbody tr th:only-of-type {\n",
       "        vertical-align: middle;\n",
       "    }\n",
       "\n",
       "    .dataframe tbody tr th {\n",
       "        vertical-align: top;\n",
       "    }\n",
       "\n",
       "    .dataframe thead th {\n",
       "        text-align: right;\n",
       "    }\n",
       "</style>\n",
       "<table border=\"1\" class=\"dataframe\">\n",
       "  <thead>\n",
       "    <tr style=\"text-align: right;\">\n",
       "      <th></th>\n",
       "      <th>Dominant_Topic</th>\n",
       "      <th>Dominant_Topic_Name</th>\n",
       "      <th>Topic_Perc_Contrib</th>\n",
       "      <th>Keywords</th>\n",
       "      <th>Text</th>\n",
       "    </tr>\n",
       "  </thead>\n",
       "  <tbody>\n",
       "    <tr>\n",
       "      <th>1</th>\n",
       "      <td>0.0</td>\n",
       "      <td>around the house</td>\n",
       "      <td>0.3273</td>\n",
       "      <td>car, dog, cat, drive, neighbor, home, property...</td>\n",
       "      <td>My parents smoke like chimneys. I used to as w...</td>\n",
       "    </tr>\n",
       "    <tr>\n",
       "      <th>14</th>\n",
       "      <td>0.0</td>\n",
       "      <td>around the house</td>\n",
       "      <td>0.2965</td>\n",
       "      <td>car, dog, cat, drive, neighbor, home, property...</td>\n",
       "      <td>So as the title says, i was minding my own bus...</td>\n",
       "    </tr>\n",
       "    <tr>\n",
       "      <th>32</th>\n",
       "      <td>0.0</td>\n",
       "      <td>around the house</td>\n",
       "      <td>0.4200</td>\n",
       "      <td>car, dog, cat, drive, neighbor, home, property...</td>\n",
       "      <td>Within the past year, my girlfriend moved in w...</td>\n",
       "    </tr>\n",
       "    <tr>\n",
       "      <th>67</th>\n",
       "      <td>0.0</td>\n",
       "      <td>around the house</td>\n",
       "      <td>0.3717</td>\n",
       "      <td>car, dog, cat, drive, neighbor, home, property...</td>\n",
       "      <td>I was walking home from school about two weeks...</td>\n",
       "    </tr>\n",
       "    <tr>\n",
       "      <th>71</th>\n",
       "      <td>0.0</td>\n",
       "      <td>around the house</td>\n",
       "      <td>0.5967</td>\n",
       "      <td>car, dog, cat, drive, neighbor, home, property...</td>\n",
       "      <td>I pay $85 a month for this spot in my apartmen...</td>\n",
       "    </tr>\n",
       "    <tr>\n",
       "      <th>...</th>\n",
       "      <td>...</td>\n",
       "      <td>...</td>\n",
       "      <td>...</td>\n",
       "      <td>...</td>\n",
       "      <td>...</td>\n",
       "    </tr>\n",
       "    <tr>\n",
       "      <th>16236</th>\n",
       "      <td>0.0</td>\n",
       "      <td>around the house</td>\n",
       "      <td>0.3814</td>\n",
       "      <td>car, dog, cat, drive, neighbor, home, property...</td>\n",
       "      <td>Background: neighbours have a pedigree cat tha...</td>\n",
       "    </tr>\n",
       "    <tr>\n",
       "      <th>16244</th>\n",
       "      <td>0.0</td>\n",
       "      <td>around the house</td>\n",
       "      <td>0.4617</td>\n",
       "      <td>car, dog, cat, drive, neighbor, home, property...</td>\n",
       "      <td>My wife left to go shopping for about 2 hours ...</td>\n",
       "    </tr>\n",
       "    <tr>\n",
       "      <th>16254</th>\n",
       "      <td>0.0</td>\n",
       "      <td>around the house</td>\n",
       "      <td>0.4054</td>\n",
       "      <td>car, dog, cat, drive, neighbor, home, property...</td>\n",
       "      <td>I(25F) and my girlfriend(24F) recently moved i...</td>\n",
       "    </tr>\n",
       "    <tr>\n",
       "      <th>16280</th>\n",
       "      <td>0.0</td>\n",
       "      <td>around the house</td>\n",
       "      <td>0.6071</td>\n",
       "      <td>car, dog, cat, drive, neighbor, home, property...</td>\n",
       "      <td>My brother’s car got messed up so he asked me ...</td>\n",
       "    </tr>\n",
       "    <tr>\n",
       "      <th>16297</th>\n",
       "      <td>0.0</td>\n",
       "      <td>around the house</td>\n",
       "      <td>0.3772</td>\n",
       "      <td>car, dog, cat, drive, neighbor, home, property...</td>\n",
       "      <td>So this is what happened. My son who is 15 app...</td>\n",
       "    </tr>\n",
       "  </tbody>\n",
       "</table>\n",
       "<p>469 rows × 5 columns</p>\n",
       "</div>"
      ],
      "text/plain": [
       "       Dominant_Topic Dominant_Topic_Name  Topic_Perc_Contrib  \\\n",
       "1                 0.0    around the house              0.3273   \n",
       "14                0.0    around the house              0.2965   \n",
       "32                0.0    around the house              0.4200   \n",
       "67                0.0    around the house              0.3717   \n",
       "71                0.0    around the house              0.5967   \n",
       "...               ...                 ...                 ...   \n",
       "16236             0.0    around the house              0.3814   \n",
       "16244             0.0    around the house              0.4617   \n",
       "16254             0.0    around the house              0.4054   \n",
       "16280             0.0    around the house              0.6071   \n",
       "16297             0.0    around the house              0.3772   \n",
       "\n",
       "                                                Keywords  \\\n",
       "1      car, dog, cat, drive, neighbor, home, property...   \n",
       "14     car, dog, cat, drive, neighbor, home, property...   \n",
       "32     car, dog, cat, drive, neighbor, home, property...   \n",
       "67     car, dog, cat, drive, neighbor, home, property...   \n",
       "71     car, dog, cat, drive, neighbor, home, property...   \n",
       "...                                                  ...   \n",
       "16236  car, dog, cat, drive, neighbor, home, property...   \n",
       "16244  car, dog, cat, drive, neighbor, home, property...   \n",
       "16254  car, dog, cat, drive, neighbor, home, property...   \n",
       "16280  car, dog, cat, drive, neighbor, home, property...   \n",
       "16297  car, dog, cat, drive, neighbor, home, property...   \n",
       "\n",
       "                                                    Text  \n",
       "1      My parents smoke like chimneys. I used to as w...  \n",
       "14     So as the title says, i was minding my own bus...  \n",
       "32     Within the past year, my girlfriend moved in w...  \n",
       "67     I was walking home from school about two weeks...  \n",
       "71     I pay $85 a month for this spot in my apartmen...  \n",
       "...                                                  ...  \n",
       "16236  Background: neighbours have a pedigree cat tha...  \n",
       "16244  My wife left to go shopping for about 2 hours ...  \n",
       "16254  I(25F) and my girlfriend(24F) recently moved i...  \n",
       "16280  My brother’s car got messed up so he asked me ...  \n",
       "16297  So this is what happened. My son who is 15 app...  \n",
       "\n",
       "[469 rows x 5 columns]"
      ]
     },
     "execution_count": 27,
     "metadata": {},
     "output_type": "execute_result"
    }
   ],
   "source": [
    "df_dominant_topic.loc[df_dominant_topic['Dominant_Topic_Name'] == 'around the house']"
   ]
  },
  {
   "cell_type": "markdown",
   "metadata": {
    "id": "tYGRZAxdqcdp"
   },
   "source": [
    "## Topic distribution across submissions\n",
    "\n",
    "We can also inspect the volume and distribution of topics in order to judge how widely each topic is discussed in our posts. The below table exposes that information."
   ]
  },
  {
   "cell_type": "code",
   "execution_count": 292,
   "metadata": {
    "colab": {
     "base_uri": "https://localhost:8080/",
     "height": 394
    },
    "executionInfo": {
     "elapsed": 303,
     "status": "ok",
     "timestamp": 1639923218416,
     "user": {
      "displayName": "Tom van Nuenen",
      "photoUrl": "https://lh3.googleusercontent.com/a-/AOh14GhuBmxDvW5I_LJfZtwlPqMFD8QGLVPP3skvpkTnuQ=s64",
      "userId": "10012302451096885058"
     },
     "user_tz": -60
    },
    "id": "XbA0yZsfqcd2",
    "outputId": "f56ceec6-3c4e-4bfa-8da2-0621c01f8676"
   },
   "outputs": [
    {
     "data": {
      "text/html": [
       "<div>\n",
       "<style scoped>\n",
       "    .dataframe tbody tr th:only-of-type {\n",
       "        vertical-align: middle;\n",
       "    }\n",
       "\n",
       "    .dataframe tbody tr th {\n",
       "        vertical-align: top;\n",
       "    }\n",
       "\n",
       "    .dataframe thead th {\n",
       "        text-align: right;\n",
       "    }\n",
       "</style>\n",
       "<table border=\"1\" class=\"dataframe\">\n",
       "  <thead>\n",
       "    <tr style=\"text-align: right;\">\n",
       "      <th></th>\n",
       "      <th>Dominant_Topic</th>\n",
       "      <th>Dominant_Topic_Name</th>\n",
       "      <th>Topic_Keywords</th>\n",
       "      <th>Num_Documents</th>\n",
       "      <th>Perc_Documents</th>\n",
       "    </tr>\n",
       "  </thead>\n",
       "  <tbody>\n",
       "    <tr>\n",
       "      <th>0.0</th>\n",
       "      <td>15.0</td>\n",
       "      <td>friends &amp; dating</td>\n",
       "      <td>friend, talk, people, good, boyfriend, tell, g...</td>\n",
       "      <td>468.0</td>\n",
       "      <td>0.03</td>\n",
       "    </tr>\n",
       "    <tr>\n",
       "      <th>1.0</th>\n",
       "      <td>0.0</td>\n",
       "      <td>around the house</td>\n",
       "      <td>car, dog, cat, drive, neighbor, home, property...</td>\n",
       "      <td>848.0</td>\n",
       "      <td>0.05</td>\n",
       "    </tr>\n",
       "    <tr>\n",
       "      <th>2.0</th>\n",
       "      <td>12.0</td>\n",
       "      <td>clothes &amp; shopping</td>\n",
       "      <td>dress, woman, wear, store, man, clothe, female...</td>\n",
       "      <td>470.0</td>\n",
       "      <td>0.03</td>\n",
       "    </tr>\n",
       "    <tr>\n",
       "      <th>3.0</th>\n",
       "      <td>9.0</td>\n",
       "      <td>food</td>\n",
       "      <td>food, dinner, meal, order, cook, restaurant, t...</td>\n",
       "      <td>538.0</td>\n",
       "      <td>0.03</td>\n",
       "    </tr>\n",
       "    <tr>\n",
       "      <th>4.0</th>\n",
       "      <td>9.0</td>\n",
       "      <td>food</td>\n",
       "      <td>food, dinner, meal, order, cook, restaurant, t...</td>\n",
       "      <td>937.0</td>\n",
       "      <td>0.06</td>\n",
       "    </tr>\n",
       "    <tr>\n",
       "      <th>5.0</th>\n",
       "      <td>15.0</td>\n",
       "      <td>friends &amp; dating</td>\n",
       "      <td>friend, talk, people, good, boyfriend, tell, g...</td>\n",
       "      <td>686.0</td>\n",
       "      <td>0.04</td>\n",
       "    </tr>\n",
       "    <tr>\n",
       "      <th>6.0</th>\n",
       "      <td>11.0</td>\n",
       "      <td>money</td>\n",
       "      <td>money, pay, job, month, rent, work, college, h...</td>\n",
       "      <td>1973.0</td>\n",
       "      <td>0.12</td>\n",
       "    </tr>\n",
       "    <tr>\n",
       "      <th>7.0</th>\n",
       "      <td>15.0</td>\n",
       "      <td>friends &amp; dating</td>\n",
       "      <td>friend, talk, people, good, boyfriend, tell, g...</td>\n",
       "      <td>214.0</td>\n",
       "      <td>0.01</td>\n",
       "    </tr>\n",
       "    <tr>\n",
       "      <th>8.0</th>\n",
       "      <td>15.0</td>\n",
       "      <td>friends &amp; dating</td>\n",
       "      <td>friend, talk, people, good, boyfriend, tell, g...</td>\n",
       "      <td>1390.0</td>\n",
       "      <td>0.09</td>\n",
       "    </tr>\n",
       "    <tr>\n",
       "      <th>9.0</th>\n",
       "      <td>8.0</td>\n",
       "      <td>work</td>\n",
       "      <td>work, people, job, company, new, lot, office, ...</td>\n",
       "      <td>801.0</td>\n",
       "      <td>0.05</td>\n",
       "    </tr>\n",
       "    <tr>\n",
       "      <th>10.0</th>\n",
       "      <td>2.0</td>\n",
       "      <td>physical appearance</td>\n",
       "      <td>hair, comment, people, post, picture, use, vid...</td>\n",
       "      <td>749.0</td>\n",
       "      <td>0.05</td>\n",
       "    </tr>\n",
       "  </tbody>\n",
       "</table>\n",
       "</div>"
      ],
      "text/plain": [
       "      Dominant_Topic  Dominant_Topic_Name  \\\n",
       "0.0             15.0     friends & dating   \n",
       "1.0              0.0     around the house   \n",
       "2.0             12.0   clothes & shopping   \n",
       "3.0              9.0                 food   \n",
       "4.0              9.0                 food   \n",
       "5.0             15.0     friends & dating   \n",
       "6.0             11.0                money   \n",
       "7.0             15.0     friends & dating   \n",
       "8.0             15.0     friends & dating   \n",
       "9.0              8.0                 work   \n",
       "10.0             2.0  physical appearance   \n",
       "\n",
       "                                         Topic_Keywords  Num_Documents  \\\n",
       "0.0   friend, talk, people, good, boyfriend, tell, g...          468.0   \n",
       "1.0   car, dog, cat, drive, neighbor, home, property...          848.0   \n",
       "2.0   dress, woman, wear, store, man, clothe, female...          470.0   \n",
       "3.0   food, dinner, meal, order, cook, restaurant, t...          538.0   \n",
       "4.0   food, dinner, meal, order, cook, restaurant, t...          937.0   \n",
       "5.0   friend, talk, people, good, boyfriend, tell, g...          686.0   \n",
       "6.0   money, pay, job, month, rent, work, college, h...         1973.0   \n",
       "7.0   friend, talk, people, good, boyfriend, tell, g...          214.0   \n",
       "8.0   friend, talk, people, good, boyfriend, tell, g...         1390.0   \n",
       "9.0   work, people, job, company, new, lot, office, ...          801.0   \n",
       "10.0  hair, comment, people, post, picture, use, vid...          749.0   \n",
       "\n",
       "      Perc_Documents  \n",
       "0.0             0.03  \n",
       "1.0             0.05  \n",
       "2.0             0.03  \n",
       "3.0             0.03  \n",
       "4.0             0.06  \n",
       "5.0             0.04  \n",
       "6.0             0.12  \n",
       "7.0             0.01  \n",
       "8.0             0.09  \n",
       "9.0             0.05  \n",
       "10.0            0.05  "
      ]
     },
     "execution_count": 292,
     "metadata": {},
     "output_type": "execute_result"
    }
   ],
   "source": [
    "# Number of posts for each topic\n",
    "topic_counts = df_topic_keywords['Dominant_Topic'].value_counts()\n",
    "\n",
    "# Percentage of posts for each topic\n",
    "topic_contribution = round(topic_counts/topic_counts.sum(), 2)\n",
    "\n",
    "# Topic Number and Keywords\n",
    "topic_num_keywords = df_topic_keywords[['Dominant_Topic', 'Dominant_Topic_Name', 'Topic_Keywords']]\n",
    "\n",
    "# Concatenate Column wise\n",
    "df_dominant_topic_dist = pd.concat([topic_num_keywords, topic_counts, topic_contribution], axis=1)\n",
    "\n",
    "# Change Column names\n",
    "df_dominant_topic_dist.columns = ['Dominant_Topic', 'Dominant_Topic_Name', 'Topic_Keywords', 'Num_Documents', 'Perc_Documents']\n",
    "\n",
    "# Show\n",
    "df_dominant_topic_dist[:10]"
   ]
  },
  {
   "cell_type": "markdown",
   "metadata": {},
   "source": [
    "As you can see, the \"money\" topic is the most pervasive dominant topic across our data."
   ]
  },
  {
   "cell_type": "markdown",
   "metadata": {
    "id": "AcbnUBXA79fN"
   },
   "source": [
    "## Text classification with LDA\n",
    "\n",
    "Beyond data exploration, one of the key uses for an LDA model is providing a compact, quantitative description of natural language text. Once an LDA model has been trained, it can be used to represent free text as a mixture of the topics the model learned from the original corpus. This mixture can be interpreted as a probability distribution across the topics, so the LDA representation of a paragraph of text might look like 50% Topic A, 20% Topic B, 20% Topic C, and 10% Topic D.\n",
    "\n",
    "First, let's create a little helper function that can retrieve a sample of our original dataframe:"
   ]
  },
  {
   "cell_type": "code",
   "execution_count": 30,
   "metadata": {
    "id": "qPQxr9_mgNCC"
   },
   "outputs": [],
   "source": [
    "def get_sample(i):\n",
    "    return df.iloc[i].selftext"
   ]
  },
  {
   "cell_type": "code",
   "execution_count": 31,
   "metadata": {
    "colab": {
     "base_uri": "https://localhost:8080/",
     "height": 157
    },
    "executionInfo": {
     "elapsed": 219,
     "status": "ok",
     "timestamp": 1639923941763,
     "user": {
      "displayName": "Tom van Nuenen",
      "photoUrl": "https://lh3.googleusercontent.com/a-/AOh14GhuBmxDvW5I_LJfZtwlPqMFD8QGLVPP3skvpkTnuQ=s64",
      "userId": "10012302451096885058"
     },
     "user_tz": -60
    },
    "id": "zXzQfahOgPuK",
    "outputId": "d2dbfe50-4f54-4bd0-84c1-b52cec784db9"
   },
   "outputs": [
    {
     "data": {
      "text/plain": [
       "'Yesterday night, me and my GF decided to go out to eat. She is vegan and I’m not. This was her first day going vegan. When we were asking for our for our food, I asked if I could have a meal that is basically Steak, Asparagus, and Rice, My girlfriend was offended that I would eat meat on her first day vegan. I told her I’m not vegan and I can order whatever I want, but she wouldn’t listen. AITA in this situation?'"
      ]
     },
     "execution_count": 31,
     "metadata": {},
     "output_type": "execute_result"
    }
   ],
   "source": [
    "sample = get_sample(3)\n",
    "sample"
   ]
  },
  {
   "cell_type": "markdown",
   "metadata": {
    "id": "HVS2MtAIn9RG"
   },
   "source": [
    "To use an LDA model to generate a vector representation of new text, we need our previously preprocessed \"pos_lemmas\" column."
   ]
  },
  {
   "cell_type": "code",
   "execution_count": 43,
   "metadata": {
    "colab": {
     "base_uri": "https://localhost:8080/"
    },
    "executionInfo": {
     "elapsed": 48532,
     "status": "ok",
     "timestamp": 1639923336137,
     "user": {
      "displayName": "Tom van Nuenen",
      "photoUrl": "https://lh3.googleusercontent.com/a-/AOh14GhuBmxDvW5I_LJfZtwlPqMFD8QGLVPP3skvpkTnuQ=s64",
      "userId": "10012302451096885058"
     },
     "user_tz": -60
    },
    "id": "969CBnR78pzH",
    "outputId": "f9cfb321-6595-461a-c632-cd69b857f1d4"
   },
   "outputs": [],
   "source": [
    "df = pd.read_csv('aita_sub_top_sm_pos_lemmas.csv').dropna(subset=['pos_lemmas'])\n",
    "lemmas_s = [doc.split(\" \") for doc in df.pos_lemmas]"
   ]
  },
  {
   "cell_type": "markdown",
   "metadata": {
    "id": "yuLis9AFpQ_b"
   },
   "source": [
    "Let's do the rest of our preprocessing using spaCy. We also need to create a bag-of-words representation using LDA.\n",
    "\n",
    "Once our LDA model is trained, we can use it to classify any input text as a mixture of topics. "
   ]
  },
  {
   "cell_type": "code",
   "execution_count": 45,
   "metadata": {
    "id": "uNQpT05NgzB_"
   },
   "outputs": [],
   "source": [
    "import spacy\n",
    "nlp = spacy.load('en_core_web_sm')\n",
    "\n",
    "def lda_classifier(text, min_topic_freq=0.1, allowed_postags = ['NOUN', 'ADJ']):\n",
    "    parsed_text = nlp(text)\n",
    "    unigram_text = [token.lemma_ for token in parsed_text if token.pos_ in allowed_postags\n",
    "                  and not token.is_punct or token.is_space or token.is_digit]\n",
    "    text_bow = dictionary.doc2bow(unigram_text)\n",
    "    text_lda = optimal_lda_model[text_bow]\n",
    "    text_lda = sorted(text_lda, key=lambda x:x[1], reverse=True)\n",
    "    for topic_number, freq in text_lda:\n",
    "        if freq < min_topic_freq:\n",
    "            break    \n",
    "        print('{:10} {}'.format(topic_names[topic_number],round(freq, 3)) )\n"
   ]
  },
  {
   "cell_type": "code",
   "execution_count": 46,
   "metadata": {
    "colab": {
     "base_uri": "https://localhost:8080/"
    },
    "executionInfo": {
     "elapsed": 214,
     "status": "ok",
     "timestamp": 1639923948958,
     "user": {
      "displayName": "Tom van Nuenen",
      "photoUrl": "https://lh3.googleusercontent.com/a-/AOh14GhuBmxDvW5I_LJfZtwlPqMFD8QGLVPP3skvpkTnuQ=s64",
      "userId": "10012302451096885058"
     },
     "user_tz": -60
    },
    "id": "r-zU5AY8hifI",
    "outputId": "bb3dae88-774f-46be-8b91-4a25a6c90ed7"
   },
   "outputs": [
    {
     "name": "stdout",
     "output_type": "stream",
     "text": [
      "friends & dating 0.48100000619888306\n",
      "general    0.22100000083446503\n",
      "lifestyle & psychology 0.10999999940395355\n"
     ]
    }
   ],
   "source": [
    "lda_classifier(sample)"
   ]
  },
  {
   "cell_type": "markdown",
   "metadata": {},
   "source": [
    "Looking a bit closer at posts of particular topics, we can get a better insight into what our topic model \"thinks\" our posts are about. As you see, our LDA model classified this post fairly well: it's about dating and lifestyle choices. However, not all posts will be classified well. \n",
    "\n",
    "Using this information, we could go back to our `topic_names` and rename topics that we now have better insights into. "
   ]
  },
  {
   "cell_type": "markdown",
   "metadata": {},
   "source": [
    "### Classifying new text\n",
    "Finally let's throw in a new text, to see how our topic model classifies it!"
   ]
  },
  {
   "cell_type": "code",
   "execution_count": 299,
   "metadata": {},
   "outputs": [],
   "source": [
    "new = \"\"\"I went to dinner with my boyfriend last night. He told me he'd like to have children \n",
    "and is looking into buying a house for us. Then he showed me a ring, and wants to get engaged! \n",
    "We only known each other for three months so I told him I wasn't sure. AITA?\"\"\""
   ]
  },
  {
   "cell_type": "code",
   "execution_count": 300,
   "metadata": {},
   "outputs": [
    {
     "name": "stdout",
     "output_type": "stream",
     "text": [
      "marriage & weddings 0.28600001335144043\n",
      "children   0.2029999941587448\n",
      "home       0.11900000274181366\n",
      "general    0.11800000071525574\n",
      "friends & dating 0.10000000149011612\n"
     ]
    }
   ],
   "source": [
    "lda_classifier(new)"
   ]
  },
  {
   "cell_type": "markdown",
   "metadata": {},
   "source": [
    "## Adding topics to original DF\n",
    "\n",
    "Once we are happy with your topic names, we can add the dominant topic names to our original DataFrame and save it."
   ]
  },
  {
   "cell_type": "code",
   "execution_count": 290,
   "metadata": {},
   "outputs": [],
   "source": [
    "df['dom_topic'] = df_dominant_topic['Dominant_Topic_Name']\n",
    "df['dom_topic_num'] = df_dominant_topic['Dominant_Topic']\n",
    "\n",
    "df.to_csv('aita_sub_top_sm_pos_lemmas_topics.csv', index=False)"
   ]
  },
  {
   "cell_type": "code",
   "execution_count": 291,
   "metadata": {},
   "outputs": [
    {
     "data": {
      "text/html": [
       "<div>\n",
       "<style scoped>\n",
       "    .dataframe tbody tr th:only-of-type {\n",
       "        vertical-align: middle;\n",
       "    }\n",
       "\n",
       "    .dataframe tbody tr th {\n",
       "        vertical-align: top;\n",
       "    }\n",
       "\n",
       "    .dataframe thead th {\n",
       "        text-align: right;\n",
       "    }\n",
       "</style>\n",
       "<table border=\"1\" class=\"dataframe\">\n",
       "  <thead>\n",
       "    <tr style=\"text-align: right;\">\n",
       "      <th></th>\n",
       "      <th>idint</th>\n",
       "      <th>idstr</th>\n",
       "      <th>created</th>\n",
       "      <th>created_datetime</th>\n",
       "      <th>nsfw</th>\n",
       "      <th>author</th>\n",
       "      <th>title</th>\n",
       "      <th>selftext</th>\n",
       "      <th>lemmas</th>\n",
       "      <th>pos_lemmas</th>\n",
       "      <th>score</th>\n",
       "      <th>distinguish</th>\n",
       "      <th>textlen</th>\n",
       "      <th>num_comments</th>\n",
       "      <th>flair_text</th>\n",
       "      <th>flair_css_class</th>\n",
       "      <th>dom_topic</th>\n",
       "      <th>dom_topic_num</th>\n",
       "    </tr>\n",
       "  </thead>\n",
       "  <tbody>\n",
       "    <tr>\n",
       "      <th>0</th>\n",
       "      <td>427576402</td>\n",
       "      <td>t3_72kg2a</td>\n",
       "      <td>1506433689</td>\n",
       "      <td>2017-09-26 13:48:09</td>\n",
       "      <td>0.0</td>\n",
       "      <td>Ritsku</td>\n",
       "      <td>AITA for breaking up with my girlfriend becaus...</td>\n",
       "      <td>My girlfriend recently went to the beach with ...</td>\n",
       "      <td>girlfriend recently beach friend tiny bikini b...</td>\n",
       "      <td>beach friend tiny bikini hate public wear wear...</td>\n",
       "      <td>679.0</td>\n",
       "      <td>NaN</td>\n",
       "      <td>4917.0</td>\n",
       "      <td>434.0</td>\n",
       "      <td>no a--holes here</td>\n",
       "      <td>NaN</td>\n",
       "      <td>friends &amp; dating</td>\n",
       "      <td>15.0</td>\n",
       "    </tr>\n",
       "    <tr>\n",
       "      <th>1</th>\n",
       "      <td>551887974</td>\n",
       "      <td>t3_94kvhi</td>\n",
       "      <td>1533404095</td>\n",
       "      <td>2018-08-04 17:34:55</td>\n",
       "      <td>0.0</td>\n",
       "      <td>hhhhhhffff678</td>\n",
       "      <td>AITA for banning smoking in my house and telli...</td>\n",
       "      <td>My parents smoke like chimneys. I used to as w...</td>\n",
       "      <td>parent smoke like chimney use quit wife young ...</td>\n",
       "      <td>parent smoke son week invite parent hour night...</td>\n",
       "      <td>832.0</td>\n",
       "      <td>NaN</td>\n",
       "      <td>2076.0</td>\n",
       "      <td>357.0</td>\n",
       "      <td>asshole</td>\n",
       "      <td>ass</td>\n",
       "      <td>around the house</td>\n",
       "      <td>0.0</td>\n",
       "    </tr>\n",
       "    <tr>\n",
       "      <th>2</th>\n",
       "      <td>552654542</td>\n",
       "      <td>t3_951az2</td>\n",
       "      <td>1533562299</td>\n",
       "      <td>2018-08-06 13:31:39</td>\n",
       "      <td>0.0</td>\n",
       "      <td>creepatthepool</td>\n",
       "      <td>AITA? Creep wears skimpy bathing suit to pool</td>\n",
       "      <td>Hi guys. Throwaway for obv reasons.\\n\\nI'm a f...</td>\n",
       "      <td>hi guy throwaway obv reason i'm female child b...</td>\n",
       "      <td>obv reason female child area wear thong penis ...</td>\n",
       "      <td>23.0</td>\n",
       "      <td>NaN</td>\n",
       "      <td>1741.0</td>\n",
       "      <td>335.0</td>\n",
       "      <td>Shitpost</td>\n",
       "      <td>NaN</td>\n",
       "      <td>clothes &amp; shopping</td>\n",
       "      <td>12.0</td>\n",
       "    </tr>\n",
       "  </tbody>\n",
       "</table>\n",
       "</div>"
      ],
      "text/plain": [
       "       idint      idstr     created     created_datetime  nsfw  \\\n",
       "0  427576402  t3_72kg2a  1506433689  2017-09-26 13:48:09   0.0   \n",
       "1  551887974  t3_94kvhi  1533404095  2018-08-04 17:34:55   0.0   \n",
       "2  552654542  t3_951az2  1533562299  2018-08-06 13:31:39   0.0   \n",
       "\n",
       "           author                                              title  \\\n",
       "0          Ritsku  AITA for breaking up with my girlfriend becaus...   \n",
       "1   hhhhhhffff678  AITA for banning smoking in my house and telli...   \n",
       "2  creepatthepool      AITA? Creep wears skimpy bathing suit to pool   \n",
       "\n",
       "                                            selftext  \\\n",
       "0  My girlfriend recently went to the beach with ...   \n",
       "1  My parents smoke like chimneys. I used to as w...   \n",
       "2  Hi guys. Throwaway for obv reasons.\\n\\nI'm a f...   \n",
       "\n",
       "                                              lemmas  \\\n",
       "0  girlfriend recently beach friend tiny bikini b...   \n",
       "1  parent smoke like chimney use quit wife young ...   \n",
       "2  hi guy throwaway obv reason i'm female child b...   \n",
       "\n",
       "                                          pos_lemmas  score distinguish  \\\n",
       "0  beach friend tiny bikini hate public wear wear...  679.0         NaN   \n",
       "1  parent smoke son week invite parent hour night...  832.0         NaN   \n",
       "2  obv reason female child area wear thong penis ...   23.0         NaN   \n",
       "\n",
       "   textlen  num_comments        flair_text flair_css_class  \\\n",
       "0   4917.0         434.0  no a--holes here             NaN   \n",
       "1   2076.0         357.0           asshole             ass   \n",
       "2   1741.0         335.0          Shitpost             NaN   \n",
       "\n",
       "            dom_topic  dom_topic_num  \n",
       "0    friends & dating           15.0  \n",
       "1    around the house            0.0  \n",
       "2  clothes & shopping           12.0  "
      ]
     },
     "execution_count": 291,
     "metadata": {},
     "output_type": "execute_result"
    }
   ],
   "source": [
    "df.head(3)"
   ]
  },
  {
   "cell_type": "markdown",
   "metadata": {
    "id": "5t8WVkZ2134h"
   },
   "source": [
    "# Reflection: The hermeneutics of topic modeling \n",
    "\n",
    "One thought to end with: for most topic models you will create, it will be hard to apply a meaningful interpretation to each topic. Not every topic will have some meaningful insight \"fall out of it\" upon first inspection. This is a typical issue in machine learning, which can pick up on patterns that might not make sense to humans.\n",
    "\n",
    "It is an open question to which extent you should let yourself be surprised by particular combinations of words in a topic, or if topic models primarily should follow the intuitions you already have as a researcher. What makes for a \"good\" topic model probably straddles the boundaries of surprise and expectation."
   ]
  }
 ],
 "metadata": {
  "colab": {
   "collapsed_sections": [],
   "name": "Week 3-1 Topic Modeling.ipynb",
   "provenance": []
  },
  "kernelspec": {
   "display_name": "Python 3",
   "language": "python",
   "name": "python3"
  },
  "language_info": {
   "codemirror_mode": {
    "name": "ipython",
    "version": 3
   },
   "file_extension": ".py",
   "mimetype": "text/x-python",
   "name": "python",
   "nbconvert_exporter": "python",
   "pygments_lexer": "ipython3",
   "version": "3.8.5"
  }
 },
 "nbformat": 4,
 "nbformat_minor": 4
}
