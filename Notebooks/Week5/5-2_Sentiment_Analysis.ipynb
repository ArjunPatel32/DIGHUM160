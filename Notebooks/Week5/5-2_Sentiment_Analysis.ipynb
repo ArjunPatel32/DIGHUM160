{
 "cells": [
  {
   "cell_type": "markdown",
   "metadata": {
    "id": "Q7oOwS5XZh19"
   },
   "source": [
    "<img src=\"../../Img/backdrop-wh.png\" alt=\"Drawing\" style=\"width: 300px;\"/>\n",
    "\n",
    "DIGHUM160 - Critical Digital Humanities<br>\n",
    "Digital Hermeneutics<br>\n",
    "Week 5-2: Sentiment Analysis<br>\n",
    "Created by Tom van Nuenen (tom.van_nuenen@kcl.ac.uk)"
   ]
  },
  {
   "cell_type": "code",
   "execution_count": 21,
   "metadata": {},
   "outputs": [
    {
     "data": {
      "image/jpeg": "[encoded data removed]",
      "text/html": [
       "\n",
       "        <iframe\n",
       "            width=\"640\"\n",
       "            height=\"360\"\n",
       "            src=\"https://www.youtube.com/embed/wkpY_l8VV6Q\"\n",
       "            frameborder=\"0\"\n",
       "            allowfullscreen\n",
       "            \n",
       "        ></iframe>\n",
       "        "
      ],
      "text/plain": [
       "<IPython.lib.display.YouTubeVideo at 0x7f9130d16cd0>"
      ]
     },
     "execution_count": 21,
     "metadata": {},
     "output_type": "execute_result"
    }
   ],
   "source": [
    "# Please run this cell for the accompanying video.\n",
    "from IPython.display import YouTubeVideo\n",
    "YouTubeVideo('wkpY_l8VV6Q', width=640, height=360)"
   ]
  },
  {
   "cell_type": "markdown",
   "metadata": {
    "id": "Osp8M8qTZh4t"
   },
   "source": [
    "## Automated sentiment analysis using NLTK VADER\n",
    "\n",
    "This notebook covers basic sentiment analysis (sometimes known as \"opinion mining\"). The most common use of sentiment analysis is to classify text (called \"sentiment classification\"). We'll get to that further on. First, let's see how sentiment analysis itself works.\n",
    "\n",
    "The simplest option is to use pre-built libraries for sentiment analysis. TextBlob and NLTK VADER are two examples of such libraties. VADER (Valence Aware Dictionary and sEntiment Reasoner) is specifically built for social media texts, and takes multiple text features into account, such as:\n",
    "\n",
    "- **Punctuation** (e.g. an exclamation mark \"!\" increases the magnitude of intensity)\n",
    "- **Capitalization** (e.g. \"The food here is GREAT\" is more intense than \"The food here is great\")\n",
    "- **Degree modifiers** (e.g. \"The service here is extremely good\" is more intense than \"The service here is good\")\n",
    "- **Conjunctions** signal a shift in sentiment polarity, with the sentiment of the text following the conjunction being dominant (e.g. “The food here is great, but the service is horrible”)\n",
    "- **Preceding Tri-grams** of a sentiment-laden lexical feature catch 90% of cases where negation flips the polarity of the text (e.g. \"The food here isn’t really all that great”)\n",
    "- **Emoji, emoticons & slang** are parsed very well by VADER."
   ]
  },
  {
   "cell_type": "code",
   "execution_count": 4,
   "metadata": {},
   "outputs": [
    {
     "name": "stderr",
     "output_type": "stream",
     "text": [
      "[nltk_data] Downloading package stopwords to\n",
      "[nltk_data]     /Users/tomvannuenen/nltk_data...\n",
      "[nltk_data]   Package stopwords is already up-to-date!\n",
      "[nltk_data] Downloading package punkt to\n",
      "[nltk_data]     /Users/tomvannuenen/nltk_data...\n",
      "[nltk_data]   Package punkt is already up-to-date!\n"
     ]
    },
    {
     "name": "stdout",
     "output_type": "stream",
     "text": [
      "Requirement already satisfied: vaderSentiment in /Users/tomvannuenen/opt/anaconda3/lib/python3.8/site-packages (3.3.2)\n",
      "Requirement already satisfied: requests in /Users/tomvannuenen/opt/anaconda3/lib/python3.8/site-packages (from vaderSentiment) (2.27.1)\n",
      "Requirement already satisfied: certifi>=2017.4.17 in /Users/tomvannuenen/opt/anaconda3/lib/python3.8/site-packages (from requests->vaderSentiment) (2020.6.20)\n",
      "Requirement already satisfied: idna<4,>=2.5 in /Users/tomvannuenen/opt/anaconda3/lib/python3.8/site-packages (from requests->vaderSentiment) (3.3)\n",
      "Requirement already satisfied: urllib3<1.27,>=1.21.1 in /Users/tomvannuenen/opt/anaconda3/lib/python3.8/site-packages (from requests->vaderSentiment) (1.26.8)\n",
      "Requirement already satisfied: charset-normalizer~=2.0.0 in /Users/tomvannuenen/opt/anaconda3/lib/python3.8/site-packages (from requests->vaderSentiment) (2.0.4)\n"
     ]
    }
   ],
   "source": [
    "import nltk\n",
    "from nltk import FreqDist\n",
    "from nltk.classify import apply_features\n",
    "from nltk.corpus import stopwords\n",
    "from nltk.classify import accuracy\n",
    "from nltk import NaiveBayesClassifier\n",
    "from nltk.metrics import precision as prec\n",
    "from nltk.metrics import recall as rec\n",
    "from nltk.metrics import f_measure as fmeas\n",
    "nltk.download('stopwords')\n",
    "nltk.download('punkt') \n",
    "\n",
    "# VADER - installing using magic command `!pip install vaderSentiment` (command line script)\n",
    "!pip install vaderSentiment\n",
    "from vaderSentiment.vaderSentiment import SentimentIntensityAnalyzer\n"
   ]
  },
  {
   "cell_type": "code",
   "execution_count": null,
   "metadata": {
    "colab": {
     "base_uri": "https://localhost:8080/"
    },
    "executionInfo": {
     "elapsed": 16712,
     "status": "ok",
     "timestamp": 1647302171151,
     "user": {
      "displayName": "Tom van Nuenen",
      "photoUrl": "https://lh3.googleusercontent.com/a-/AOh14GhuBmxDvW5I_LJfZtwlPqMFD8QGLVPP3skvpkTnuQ=s64",
      "userId": "10012302451096885058"
     },
     "user_tz": 300
    },
    "id": "FfaNzk2H1v2w",
    "outputId": "569ec459-ebc9-4abb-c993-b316a1fea0b0"
   },
   "outputs": [],
   "source": [
    "import os\n",
    "# We include two ../ because we want to go two levels up in the file structure\n",
    "os.chdir(\"../../Data\")"
   ]
  },
  {
   "cell_type": "code",
   "execution_count": 7,
   "metadata": {
    "executionInfo": {
     "elapsed": 15,
     "status": "aborted",
     "timestamp": 1647302105354,
     "user": {
      "displayName": "Tom van Nuenen",
      "photoUrl": "https://lh3.googleusercontent.com/a-/AOh14GhuBmxDvW5I_LJfZtwlPqMFD8QGLVPP3skvpkTnuQ=s64",
      "userId": "10012302451096885058"
     },
     "user_tz": 300
    },
    "id": "eKgDwRgz1v2_"
   },
   "outputs": [
    {
     "data": {
      "text/plain": [
       "16310"
      ]
     },
     "execution_count": 7,
     "metadata": {},
     "output_type": "execute_result"
    }
   ],
   "source": [
    "import pandas as pd \n",
    "\n",
    "# importing file in df\n",
    "df = pd.read_csv('aita_sub_top_sm_lemmas.csv')\n",
    "len(df)"
   ]
  },
  {
   "cell_type": "code",
   "execution_count": 9,
   "metadata": {
    "executionInfo": {
     "elapsed": 16,
     "status": "aborted",
     "timestamp": 1647302105355,
     "user": {
      "displayName": "Tom van Nuenen",
      "photoUrl": "https://lh3.googleusercontent.com/a-/AOh14GhuBmxDvW5I_LJfZtwlPqMFD8QGLVPP3skvpkTnuQ=s64",
      "userId": "10012302451096885058"
     },
     "user_tz": 300
    },
    "id": "J1tFJ5caZh4t"
   },
   "outputs": [],
   "source": [
    "# instantiate Class\n",
    "analyser = SentimentIntensityAnalyzer()"
   ]
  },
  {
   "cell_type": "code",
   "execution_count": 10,
   "metadata": {
    "executionInfo": {
     "elapsed": 16,
     "status": "aborted",
     "timestamp": 1647302105355,
     "user": {
      "displayName": "Tom van Nuenen",
      "photoUrl": "https://lh3.googleusercontent.com/a-/AOh14GhuBmxDvW5I_LJfZtwlPqMFD8QGLVPP3skvpkTnuQ=s64",
      "userId": "10012302451096885058"
     },
     "user_tz": 300
    },
    "id": "3CQ9bOWtZh4x"
   },
   "outputs": [
    {
     "data": {
      "text/plain": [
       "{'neg': 0.495, 'neu': 0.505, 'pos': 0.0, 'compound': -0.8323}"
      ]
     },
     "execution_count": 10,
     "metadata": {},
     "output_type": "execute_result"
    }
   ],
   "source": [
    "# a small test\n",
    "analyser.polarity_scores(\"\"\"This is really dumb. I don't want to use this stupid \n",
    "                          program.\"\"\")"
   ]
  },
  {
   "cell_type": "markdown",
   "metadata": {
    "id": "LFW3jV0qZh41"
   },
   "source": [
    "VADER spits out several metrics we can use. The **Positive**, **Negative** and **Neutral** scores represent the proportion of text that falls in these categories. This means our sentence was rated as 0% Positive, 50% Neutral and 50% Negative. All these add up to 1.\n",
    "\n",
    "The **Compound** score is a metric that calculates the sum of all the lexicon ratings which have been normalized between -1 (most extreme negative) and +1 (most extreme positive). The compound score turns out to be -.83: a pretty negative sentiment overall. Let's use that score for now (but be aware that you can use these `neg`, `neu` and `pos` scores to your advantage to train a more precise classifier!)"
   ]
  },
  {
   "cell_type": "markdown",
   "metadata": {
    "id": "Ws2-J4lsZh49"
   },
   "source": [
    "Now let's write a function that takes a text in, and spits out one of 3 tags based on the compound score. We first use `sent_tokenize` to split sentences, get the compound sentiment score for each sentence, and finally get the average of these scores."
   ]
  },
  {
   "cell_type": "code",
   "execution_count": 11,
   "metadata": {
    "executionInfo": {
     "elapsed": 15,
     "status": "aborted",
     "timestamp": 1647302105355,
     "user": {
      "displayName": "Tom van Nuenen",
      "photoUrl": "https://lh3.googleusercontent.com/a-/AOh14GhuBmxDvW5I_LJfZtwlPqMFD8QGLVPP3skvpkTnuQ=s64",
      "userId": "10012302451096885058"
     },
     "user_tz": 300
    },
    "id": "ircdPv5AZh4-"
   },
   "outputs": [],
   "source": [
    "from nltk.tokenize import sent_tokenize\n",
    "\n",
    "def sentiment_analyzer_scores(text):\n",
    "    sents = sent_tokenize(text)\n",
    "    temp_li = []\n",
    "    for sent in sents:\n",
    "        x = analyser.polarity_scores(sent)\n",
    "        temp_li.append(x['compound'])\n",
    "    avg = sum(temp_li) / len(temp_li)\n",
    "      # decide sentiment as positive, negative and neutral \n",
    "    if avg >= 0.05 : \n",
    "        tag = \"pos\"\n",
    "    elif avg <= - 0.05 : \n",
    "        tag = \"neg\"\n",
    "    else : \n",
    "        tag = \"neut\" \n",
    "    return [tag, avg]"
   ]
  },
  {
   "cell_type": "markdown",
   "metadata": {
    "id": "qiJQ_hLtZh5A"
   },
   "source": [
    "Let's append the output to 2 new columns in our dataframe. `.apply()` allows us to apply a function along an axis of the DataFrame. Also note the use of `zip()` here, allowing us to map the 2 returned values of our function to the tuple of variables we assign them to. Finally, note the `*` to unpack these containers."
   ]
  },
  {
   "cell_type": "code",
   "execution_count": 14,
   "metadata": {
    "executionInfo": {
     "elapsed": 15,
     "status": "aborted",
     "timestamp": 1647302105355,
     "user": {
      "displayName": "Tom van Nuenen",
      "photoUrl": "https://lh3.googleusercontent.com/a-/AOh14GhuBmxDvW5I_LJfZtwlPqMFD8QGLVPP3skvpkTnuQ=s64",
      "userId": "10012302451096885058"
     },
     "user_tz": 300
    },
    "id": "JGuQNv2iZh5B"
   },
   "outputs": [],
   "source": [
    "df[\"sent\"], df[\"sent_compound\"] = zip(*df.selftext.apply(sentiment_analyzer_scores))"
   ]
  },
  {
   "cell_type": "markdown",
   "metadata": {
    "id": "6HzQ4EE_Zh5E"
   },
   "source": [
    "Let's have a look:"
   ]
  },
  {
   "cell_type": "code",
   "execution_count": 16,
   "metadata": {
    "executionInfo": {
     "elapsed": 16,
     "status": "aborted",
     "timestamp": 1647302105356,
     "user": {
      "displayName": "Tom van Nuenen",
      "photoUrl": "https://lh3.googleusercontent.com/a-/AOh14GhuBmxDvW5I_LJfZtwlPqMFD8QGLVPP3skvpkTnuQ=s64",
      "userId": "10012302451096885058"
     },
     "user_tz": 300
    },
    "id": "7Djl4vZQZh5E",
    "scrolled": true
   },
   "outputs": [
    {
     "data": {
      "text/plain": [
       "pos     6415\n",
       "neut    5296\n",
       "neg     4599\n",
       "Name: sent, dtype: int64"
      ]
     },
     "execution_count": 16,
     "metadata": {},
     "output_type": "execute_result"
    }
   ],
   "source": [
    "df.sent.value_counts()"
   ]
  },
  {
   "cell_type": "code",
   "execution_count": 17,
   "metadata": {
    "executionInfo": {
     "elapsed": 16,
     "status": "aborted",
     "timestamp": 1647302105356,
     "user": {
      "displayName": "Tom van Nuenen",
      "photoUrl": "https://lh3.googleusercontent.com/a-/AOh14GhuBmxDvW5I_LJfZtwlPqMFD8QGLVPP3skvpkTnuQ=s64",
      "userId": "10012302451096885058"
     },
     "user_tz": 300
    },
    "id": "AU2rqIQOoZwS"
   },
   "outputs": [
    {
     "data": {
      "text/html": [
       "<div>\n",
       "<style scoped>\n",
       "    .dataframe tbody tr th:only-of-type {\n",
       "        vertical-align: middle;\n",
       "    }\n",
       "\n",
       "    .dataframe tbody tr th {\n",
       "        vertical-align: top;\n",
       "    }\n",
       "\n",
       "    .dataframe thead th {\n",
       "        text-align: right;\n",
       "    }\n",
       "</style>\n",
       "<table border=\"1\" class=\"dataframe\">\n",
       "  <thead>\n",
       "    <tr style=\"text-align: right;\">\n",
       "      <th></th>\n",
       "      <th>idint</th>\n",
       "      <th>idstr</th>\n",
       "      <th>created</th>\n",
       "      <th>nsfw</th>\n",
       "      <th>author</th>\n",
       "      <th>title</th>\n",
       "      <th>selftext</th>\n",
       "      <th>lemmas</th>\n",
       "      <th>score</th>\n",
       "      <th>distinguish</th>\n",
       "      <th>textlen</th>\n",
       "      <th>num_comments</th>\n",
       "      <th>flair_text</th>\n",
       "      <th>flair_css_class</th>\n",
       "      <th>sent</th>\n",
       "      <th>sent_compound</th>\n",
       "    </tr>\n",
       "  </thead>\n",
       "  <tbody>\n",
       "    <tr>\n",
       "      <th>0</th>\n",
       "      <td>427576402</td>\n",
       "      <td>t3_72kg2a</td>\n",
       "      <td>1506433689</td>\n",
       "      <td>0.0</td>\n",
       "      <td>Ritsku</td>\n",
       "      <td>AITA for breaking up with my girlfriend becaus...</td>\n",
       "      <td>My girlfriend recently went to the beach with ...</td>\n",
       "      <td>girlfriend recently beach friend tiny bikini b...</td>\n",
       "      <td>679.0</td>\n",
       "      <td>NaN</td>\n",
       "      <td>4917.0</td>\n",
       "      <td>434.0</td>\n",
       "      <td>no a--holes here</td>\n",
       "      <td>NaN</td>\n",
       "      <td>neut</td>\n",
       "      <td>-0.042952</td>\n",
       "    </tr>\n",
       "    <tr>\n",
       "      <th>1</th>\n",
       "      <td>551887974</td>\n",
       "      <td>t3_94kvhi</td>\n",
       "      <td>1533404095</td>\n",
       "      <td>0.0</td>\n",
       "      <td>hhhhhhffff678</td>\n",
       "      <td>AITA for banning smoking in my house and telli...</td>\n",
       "      <td>My parents smoke like chimneys. I used to as w...</td>\n",
       "      <td>parent smoke like chimney use quit wife young ...</td>\n",
       "      <td>832.0</td>\n",
       "      <td>NaN</td>\n",
       "      <td>2076.0</td>\n",
       "      <td>357.0</td>\n",
       "      <td>asshole</td>\n",
       "      <td>ass</td>\n",
       "      <td>neut</td>\n",
       "      <td>0.022829</td>\n",
       "    </tr>\n",
       "    <tr>\n",
       "      <th>2</th>\n",
       "      <td>552654542</td>\n",
       "      <td>t3_951az2</td>\n",
       "      <td>1533562299</td>\n",
       "      <td>0.0</td>\n",
       "      <td>creepatthepool</td>\n",
       "      <td>AITA? Creep wears skimpy bathing suit to pool</td>\n",
       "      <td>Hi guys. Throwaway for obv reasons.\\n\\nI'm a f...</td>\n",
       "      <td>hi guy throwaway obv reason i'm female child b...</td>\n",
       "      <td>23.0</td>\n",
       "      <td>NaN</td>\n",
       "      <td>1741.0</td>\n",
       "      <td>335.0</td>\n",
       "      <td>Shitpost</td>\n",
       "      <td>NaN</td>\n",
       "      <td>neut</td>\n",
       "      <td>-0.048050</td>\n",
       "    </tr>\n",
       "    <tr>\n",
       "      <th>3</th>\n",
       "      <td>556350346</td>\n",
       "      <td>t3_978ioa</td>\n",
       "      <td>1534254641</td>\n",
       "      <td>0.0</td>\n",
       "      <td>Pauly104</td>\n",
       "      <td>AITA for eating steak in front of my vegan GF?</td>\n",
       "      <td>Yesterday night, me and my GF decided to go ou...</td>\n",
       "      <td>yesterday night gf decide eat vegan day vegan ...</td>\n",
       "      <td>1011.0</td>\n",
       "      <td>NaN</td>\n",
       "      <td>416.0</td>\n",
       "      <td>380.0</td>\n",
       "      <td>not the a-hole</td>\n",
       "      <td>not</td>\n",
       "      <td>neut</td>\n",
       "      <td>-0.035217</td>\n",
       "    </tr>\n",
       "    <tr>\n",
       "      <th>4</th>\n",
       "      <td>560929656</td>\n",
       "      <td>t3_99yo3c</td>\n",
       "      <td>1535126620</td>\n",
       "      <td>0.0</td>\n",
       "      <td>ThatSpencerGuy</td>\n",
       "      <td>AITA for not wanting to cook my mother-in-law ...</td>\n",
       "      <td>My wife and I are vegetarians, much to my in-l...</td>\n",
       "      <td>wife vegetarian law vocal annoyance year visit...</td>\n",
       "      <td>349.0</td>\n",
       "      <td>NaN</td>\n",
       "      <td>1158.0</td>\n",
       "      <td>360.0</td>\n",
       "      <td>not the a-hole</td>\n",
       "      <td>not</td>\n",
       "      <td>pos</td>\n",
       "      <td>0.114105</td>\n",
       "    </tr>\n",
       "  </tbody>\n",
       "</table>\n",
       "</div>"
      ],
      "text/plain": [
       "       idint      idstr     created  nsfw          author  \\\n",
       "0  427576402  t3_72kg2a  1506433689   0.0          Ritsku   \n",
       "1  551887974  t3_94kvhi  1533404095   0.0   hhhhhhffff678   \n",
       "2  552654542  t3_951az2  1533562299   0.0  creepatthepool   \n",
       "3  556350346  t3_978ioa  1534254641   0.0        Pauly104   \n",
       "4  560929656  t3_99yo3c  1535126620   0.0  ThatSpencerGuy   \n",
       "\n",
       "                                               title  \\\n",
       "0  AITA for breaking up with my girlfriend becaus...   \n",
       "1  AITA for banning smoking in my house and telli...   \n",
       "2      AITA? Creep wears skimpy bathing suit to pool   \n",
       "3     AITA for eating steak in front of my vegan GF?   \n",
       "4  AITA for not wanting to cook my mother-in-law ...   \n",
       "\n",
       "                                            selftext  \\\n",
       "0  My girlfriend recently went to the beach with ...   \n",
       "1  My parents smoke like chimneys. I used to as w...   \n",
       "2  Hi guys. Throwaway for obv reasons.\\n\\nI'm a f...   \n",
       "3  Yesterday night, me and my GF decided to go ou...   \n",
       "4  My wife and I are vegetarians, much to my in-l...   \n",
       "\n",
       "                                              lemmas   score distinguish  \\\n",
       "0  girlfriend recently beach friend tiny bikini b...   679.0         NaN   \n",
       "1  parent smoke like chimney use quit wife young ...   832.0         NaN   \n",
       "2  hi guy throwaway obv reason i'm female child b...    23.0         NaN   \n",
       "3  yesterday night gf decide eat vegan day vegan ...  1011.0         NaN   \n",
       "4  wife vegetarian law vocal annoyance year visit...   349.0         NaN   \n",
       "\n",
       "   textlen  num_comments        flair_text flair_css_class  sent  \\\n",
       "0   4917.0         434.0  no a--holes here             NaN  neut   \n",
       "1   2076.0         357.0           asshole             ass  neut   \n",
       "2   1741.0         335.0          Shitpost             NaN  neut   \n",
       "3    416.0         380.0    not the a-hole             not  neut   \n",
       "4   1158.0         360.0    not the a-hole             not   pos   \n",
       "\n",
       "   sent_compound  \n",
       "0      -0.042952  \n",
       "1       0.022829  \n",
       "2      -0.048050  \n",
       "3      -0.035217  \n",
       "4       0.114105  "
      ]
     },
     "execution_count": 17,
     "metadata": {},
     "output_type": "execute_result"
    }
   ],
   "source": [
    "df.head()"
   ]
  },
  {
   "cell_type": "code",
   "execution_count": 18,
   "metadata": {
    "executionInfo": {
     "elapsed": 16,
     "status": "aborted",
     "timestamp": 1647302105356,
     "user": {
      "displayName": "Tom van Nuenen",
      "photoUrl": "https://lh3.googleusercontent.com/a-/AOh14GhuBmxDvW5I_LJfZtwlPqMFD8QGLVPP3skvpkTnuQ=s64",
      "userId": "10012302451096885058"
     },
     "user_tz": 300
    },
    "id": "jiBbH9XDZh5H",
    "scrolled": true
   },
   "outputs": [
    {
     "data": {
      "text/plain": [
       "array([[<AxesSubplot:title={'center':'sent_compound'}>]], dtype=object)"
      ]
     },
     "execution_count": 18,
     "metadata": {},
     "output_type": "execute_result"
    },
    {
     "data": {
      "image/png": "[encoded data removed]",
      "text/plain": [
       "<Figure size 432x288 with 1 Axes>"
      ]
     },
     "metadata": {
      "needs_background": "light"
     },
     "output_type": "display_data"
    }
   ],
   "source": [
    "df.hist(column=\"sent_compound\",bins=50)"
   ]
  },
  {
   "cell_type": "markdown",
   "metadata": {
    "id": "ImtMT8OtZh5K"
   },
   "source": [
    "Let's see if these scores make sense. We'll print out the comment with the lowest score (note: we could also use `.idxmax()` to find the comment with the highest score). "
   ]
  },
  {
   "cell_type": "code",
   "execution_count": 20,
   "metadata": {
    "executionInfo": {
     "elapsed": 16,
     "status": "aborted",
     "timestamp": 1647302105356,
     "user": {
      "displayName": "Tom van Nuenen",
      "photoUrl": "https://lh3.googleusercontent.com/a-/AOh14GhuBmxDvW5I_LJfZtwlPqMFD8QGLVPP3skvpkTnuQ=s64",
      "userId": "10012302451096885058"
     },
     "user_tz": 300
    },
    "id": "svUJ4frjZh5K"
   },
   "outputs": [
    {
     "data": {
      "text/plain": [
       "'So this happened today, we have to make a project with a group where they give us a theme for a debate we have to do, some people got abortion, homoparenting, inmigration, debatable stuff, but our group got anti vaxxers and we have to be on their side, and let me tell you that being on the internet and have myself investigate the safety of vaccinations for 3 months is not in my fucking favor, im just so angry of adding this as a theme for a fucking debate, I inmediately told the teacher it was unfair and she told me that I just had to look up the information, 30 minutes in and no one of my group gets anything helping our case, then the teacher tries for 20 minutes and also gets nothing, at the end, the teacher tell us that we still have to do it and that if we dont find anything we just lie (WICH IS SOMETHING THEY TOLD US NOT TO DO) and im just fucking pissed, I dont want to do this because its so easy to tear apart any of the arguments of anti vaxxers, basically Im fucked and me and my group will probably have the lowest grade and make fun of ourselves in front of other classes, Im seriously thinking in dropping everything and just not do it, but Im afraid my classmates might get uppset or I get called an a-hole for not doing my job and fucking my group, so what should I do?'"
      ]
     },
     "execution_count": 20,
     "metadata": {},
     "output_type": "execute_result"
    }
   ],
   "source": [
    "min_id = df.sent_compound.idxmin()\n",
    "df.selftext[min_id]"
   ]
  },
  {
   "cell_type": "markdown",
   "metadata": {
    "id": "sOafBLGmZh5M"
   },
   "source": [
    "That does look like a comment with lots of negative language. However, we should keep in mind that the language communities we are looking at often use highly specific vocabularies; as such, a pretrained sentiment analysis algorithm will not always be very precise. Further, misspellings and grammatical mistakes may cause the analysis to overlook important words or usage, and sarcasm and irony may be easily misinterpreted."
   ]
  },
  {
   "cell_type": "markdown",
   "metadata": {
    "id": "JLFyNfiSZh5M"
   },
   "source": [
    "## Working with sentiment scores\n",
    "\n",
    "You could use these sentiment scores for all kinds of purposes. \n",
    "\n",
    "First, you could look at comments with a high or low sentiment, and see what kinds of topics or concerns are discussed. \n",
    "\n",
    "You could train a Naive Bayes classifier (using the code we used above) to see whether sentiments in the posts tell you anything about what `flair_text` class that post falls under. You could also run a **regression analysis** to see if a post's sentiment score (X) is a predictor for something like the user score it received (y). Please see the additional notebook, I will share, \"5-X Regression\", if you're interested in that.\n",
    "\n",
    "You could also combine it with your **topic modeling** output, if that output is interesting. You could create a column in your DataFrame that tells you the most-associated topic with each post/comment (using the notebook from week 3), then see if certain topics relate to certain sentiments."
   ]
  }
 ],
 "metadata": {
  "colab": {
   "collapsed_sections": [
    "_tAYGMaxZh37",
    "JLFyNfiSZh5M"
   ],
   "name": "Week 5-2 Sentiment Analysis.ipynb",
   "provenance": []
  },
  "kernelspec": {
   "display_name": "Python 3",
   "language": "python",
   "name": "python3"
  },
  "language_info": {
   "codemirror_mode": {
    "name": "ipython",
    "version": 3
   },
   "file_extension": ".py",
   "mimetype": "text/x-python",
   "name": "python",
   "nbconvert_exporter": "python",
   "pygments_lexer": "ipython3",
   "version": "3.8.5"
  }
 },
 "nbformat": 4,
 "nbformat_minor": 4
}
