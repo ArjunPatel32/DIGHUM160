{
 "cells": [
  {
   "cell_type": "markdown",
   "metadata": {
    "id": "WClw_VPOmwXd"
   },
   "source": [
    "<img src=\"../../Img/backdrop-wh.png\" alt=\"Drawing\" style=\"width: 300px;\"/>  \n",
    "\n",
    "# Word Embeddings\n",
    "\n",
    "* * * "
   ]
  },
  {
   "cell_type": "markdown",
   "metadata": {
    "id": "WClw_VPOmwXd",
    "jp-MarkdownHeadingCollapsed": true,
    "tags": []
   },
   "source": [
    "<div class=\"alert alert-success\">  \n",
    "    \n",
    "### Learning Objectives \n",
    "    \n",
    "* Understand word embeddings, and how they are used in information retrieval.\n",
    "* Use `gensim`'s `word2vec` method to create word vectors for a corpus.\n",
    "* Use word embeddings to calculate word similarity.\n",
    "* Use word embeddings to reflect on implicit biases in your data.\n",
    "</div>\n",
    "\n",
    "### Icons Used in This Notebook\n",
    "🔔 **Question**: A quick question to help you understand what's going on.<br>\n",
    "💡 **Tip**: How to do something a bit more efficiently or effectively.<br>\n",
    "⚠️ **Warning:** Heads-up about tricky stuff or common mistakes.<br>\n",
    "💭 **Reflection**: Reflecting on ethical implications, biases, and social impact in data science.<br>\n",
    "\n",
    "### Sections\n",
    "1. [Word Embeddings](#we)\n",
    "2. [Using Comments Data](#comments)\n",
    "3. [Constructing a Word2Vec Model](#w2v)\n",
    "4. [Word Similarity](#sim)\n",
    "5. [Exploring Language Biases With Word Embeddings](#bias)\n"
   ]
  },
  {
   "cell_type": "markdown",
   "metadata": {
    "id": "MfjNP33MZOoi"
   },
   "source": [
    "<a id='we'></a>\n",
    "\n",
    "# Word Embeddings\n",
    "\n",
    "The goal of word embedding models is to learn **numerical representations** of text corpora. Like with TF-IDF, it's all about how we construct that numerical representation.\n",
    "\n",
    "When using word embeddings, we look for a **vector** of numbers to represent each term. The actual numbers themselves won't be meaningful to us as humans. However, if successful, the vectors for each term should encode information about the meaning or concept the term represents, as well as the relationship between it and other terms in the vocabulary.\n",
    "\n",
    "In this notebook, we'll work with word embeddings using Word2Vec.\n",
    "\n",
    "## Word2Vec\n",
    "\n",
    "**Word2Vec** is one example of a word embeddings model. It learns by taking words and their contexts (e.g. sentences) into account, and can then try to predict other words. Given enough data, usage and contexts, Word2Vec can make accurate guesses about a word’s meaning based on its appearances. Those guesses can be used to establish a word’s association with other words (e.g. \"Paris\" is to \"France\" as “Berlin” is to “Germany”), or cluster documents and classify them by topic.\n",
    "\n",
    "<img src=\"../../img/we.png\" alt=\"Word Embeddings\" width=\"600\"/>\n",
    "\n",
    "Word vector models such as Word2Vec are fully **unsupervised**: they learn all of these meanings and relationships without any advance knowledge. Unsupervised learning requires the specification of a right task. We won't go into detail in this lesson, but you can roughly think of the task as predicting nearby words, given a specific word. Read [this post](https://tomvannuenen.medium.com/analyzing-reddit-communities-with-python-part-6-word-embeddings-f92bba876d60) if you want a deeper introduction.\n",
    "\n",
    "We will be using the `gensim` package, which offers Word2Vec."
   ]
  },
  {
   "cell_type": "code",
   "execution_count": 1,
   "metadata": {},
   "outputs": [],
   "source": [
    "# Package imports\n",
    "import os\n",
    "import pandas as pd\n",
    "import numpy as np\n",
    "\n",
    "import pickle\n",
    "from gensim.models import Word2Vec\n",
    "import multiprocessing\n",
    "\n",
    "import matplotlib.pyplot as plt\n",
    "from sklearn.manifold import TSNE"
   ]
  },
  {
   "cell_type": "markdown",
   "metadata": {},
   "source": [
    "<a id='comments'></a>\n",
    "\n",
    "# Using Comments Data\n",
    "\n",
    "As we will be considering the language biases in the next notebook, we will use the **comments** of the r/amitheasshole subreddit this time. The thinking behind this is that this data will be derived from more people, and include more evaluative statements. After all, comments on r/amitheasshole generally evaluate the original posts.\n",
    "\n",
    "💭 **Reflection**: Whether you want to be using submissions or comments for your own data depends on the question you are asking of that data! Make sure to think about this and discuss it with teammates.\n",
    "\n",
    "To save us some time, we have done the preprocessing for you and saved the trigrams (a list of lists) in a pickle file."
   ]
  },
  {
   "cell_type": "code",
   "execution_count": 2,
   "metadata": {},
   "outputs": [],
   "source": [
    "with open('../../data/aita_comment_trigrams.pickle', 'rb') as f:\n",
    "    # Load the object from the file\n",
    "    comments = pickle.load(f)"
   ]
  },
  {
   "cell_type": "code",
   "execution_count": 3,
   "metadata": {},
   "outputs": [
    {
     "data": {
      "text/plain": [
       "['like',\n",
       " 'genuine',\n",
       " 'reason',\n",
       " 'upset',\n",
       " 'question',\n",
       " 'sound',\n",
       " 'people',\n",
       " 'ask',\n",
       " 'curious',\n",
       " 'direct',\n",
       " 'question',\n",
       " 'superior']"
      ]
     },
     "execution_count": 3,
     "metadata": {},
     "output_type": "execute_result"
    }
   ],
   "source": [
    "# Split into lists of words for Word2Vec\n",
    "comment_list = [comment.split() for comment in comments]\n",
    "comment_list[0]"
   ]
  },
  {
   "cell_type": "markdown",
   "metadata": {},
   "source": [
    "**Use the `3_Preprocessing_Project.ipynb` notebook if you want to preprocess your own comment data.**\n",
    "\n",
    "**Use the `6_Word_Embeddings_Project.ipynb` notebook to run the Word2Vec operations explained in this notebook on your own data.**"
   ]
  },
  {
   "cell_type": "markdown",
   "metadata": {
    "id": "Wk2mxX1HZOpk"
   },
   "source": [
    "<a id='w2v'></a>\n",
    "\n",
    "# Constructing a Word2Vec Model\n",
    "\n",
    "Let's create our word embeddings model. The input to this model is our corpus split up into words. The model's output is a set of \"vectors\" (one for each word) in $N$ dimensions (we choose $N$ before creating the model). Think of these vectors as \"features\", capturing latent meaning.\n",
    "\n",
    "This model allows us to group the vectors of similar words together in vector space. We can then reduce the dimensionality to visualize the results in a way humans can understand (such as in a 2-dimensional space), or to perform linear algebra operations in order to find out to what extent words are related.\n",
    "\n",
    "We now instantiate and train our Word2Vec model, using the parameters below."
   ]
  },
  {
   "cell_type": "code",
   "execution_count": 4,
   "metadata": {
    "id": "sQq117-pZOpl"
   },
   "outputs": [],
   "source": [
    "cores = multiprocessing.cpu_count() # Number of cores at your disposal\n",
    "\n",
    "n_features = 300     # Word vector dimensionality (how many features each word will be given)\n",
    "min_word_count = 10  # Minimum word count to be taken into account\n",
    "n_workers = cores    # Number of threads to run in parallel (equal to your amount of cores)\n",
    "window = 5           # Context window size\n",
    "downsampling = 1e-2  # Downsample setting for frequent words\n",
    "seed = 1             # Seed for the random number generator (to create reproducible results)\n",
    "sg = 1               # Skip-gram = 1, CBOW = 0\n",
    "epochs = 20          # Number of iterations over the corpus\n",
    "\n",
    "model = Word2Vec(\n",
    "    sentences=comment_list,\n",
    "    workers=n_workers,\n",
    "    vector_size=n_features,\n",
    "    min_count=min_word_count,\n",
    "    window=window,\n",
    "    sample=downsampling,\n",
    "    seed=seed,\n",
    "    sg=sg)"
   ]
  },
  {
   "cell_type": "markdown",
   "metadata": {
    "id": "xrNV3eYeZOpo"
   },
   "source": [
    "That was it! We have a Word Embeddings model now. Let's save it so that we don't have to train it again. Then, we can reload the embeddings so that we don't have to train it every single time:"
   ]
  },
  {
   "cell_type": "code",
   "execution_count": 5,
   "metadata": {
    "id": "JRX-lzwSzFI5"
   },
   "outputs": [],
   "source": [
    "model.save('../../data/aita_comments.emb')"
   ]
  },
  {
   "cell_type": "code",
   "execution_count": 6,
   "metadata": {
    "id": "SZMDwWBuGTn7"
   },
   "outputs": [],
   "source": [
    "model = Word2Vec.load('../../data/aita_comments.emb')"
   ]
  },
  {
   "cell_type": "markdown",
   "metadata": {
    "id": "wWQC4S9IZOpu"
   },
   "source": [
    "How many terms are in our vocabulary? Whenever interacting with the word vector dictionary, we use the `wv` attribute:"
   ]
  },
  {
   "cell_type": "code",
   "execution_count": 7,
   "metadata": {},
   "outputs": [
    {
     "data": {
      "text/plain": [
       "14732"
      ]
     },
     "execution_count": 7,
     "metadata": {},
     "output_type": "execute_result"
    }
   ],
   "source": [
    "len(model.wv)"
   ]
  },
  {
   "cell_type": "markdown",
   "metadata": {
    "id": "WVdNakwKfm3H"
   },
   "source": [
    "Let's take a peek at the word vectors our model has learned. We can take a look at the individual words using the `index_to_key` attribute, and the word vectors themselves can be accessed with the `vectors` attribute:"
   ]
  },
  {
   "cell_type": "code",
   "execution_count": 8,
   "metadata": {
    "colab": {
     "base_uri": "https://localhost:8080/",
     "height": 487
    },
    "executionInfo": {
     "elapsed": 1224,
     "status": "ok",
     "timestamp": 1640016826009,
     "user": {
      "displayName": "Tom van Nuenen",
      "photoUrl": "https://lh3.googleusercontent.com/a-/AOh14GhuBmxDvW5I_LJfZtwlPqMFD8QGLVPP3skvpkTnuQ=s64",
      "userId": "10012302451096885058"
     },
     "user_tz": -60
    },
    "id": "R6A19I38fjTT",
    "outputId": "e6d18f9d-cd53-4ae6-d17e-7cf353618735"
   },
   "outputs": [
    {
     "data": {
      "text/plain": [
       "'like'"
      ]
     },
     "execution_count": 8,
     "metadata": {},
     "output_type": "execute_result"
    }
   ],
   "source": [
    "model.wv.index_to_key[0]"
   ]
  },
  {
   "cell_type": "code",
   "execution_count": 9,
   "metadata": {},
   "outputs": [
    {
     "data": {
      "text/plain": [
       "array([-0.08018274,  0.00491095,  0.08784632,  0.01433069, -0.09794639,\n",
       "       -0.09224576,  0.00622013,  0.24962428,  0.06723873, -0.05270278,\n",
       "       -0.03648977, -0.06783219, -0.08407432, -0.0634554 ,  0.0175021 ,\n",
       "       -0.11634977,  0.09794779,  0.20852275, -0.00848902, -0.22265333,\n",
       "        0.08231014, -0.06419335,  0.09797097,  0.0162484 ,  0.14323813,\n",
       "        0.0611587 ,  0.01721993, -0.03901093, -0.04347777,  0.00503724,\n",
       "       -0.03510949, -0.12510447,  0.20113452, -0.00120747, -0.01262403,\n",
       "       -0.20425951,  0.2812798 , -0.07498191, -0.07580847, -0.06849664,\n",
       "       -0.17727983,  0.00944687, -0.09995916, -0.17946193,  0.08719696,\n",
       "        0.11549717, -0.12986168,  0.01182884, -0.08035369,  0.00328454,\n",
       "       -0.06672981, -0.07913686, -0.01926371, -0.02746153,  0.05087628,\n",
       "        0.1255642 ,  0.15487921, -0.22199556, -0.06654175,  0.20550871,\n",
       "        0.03788844, -0.14240259,  0.12153263, -0.04456891,  0.08859289,\n",
       "        0.09279501,  0.03287575,  0.15026289,  0.02606961, -0.09462692,\n",
       "       -0.001209  ,  0.0105972 , -0.07785726, -0.00865824,  0.06144961,\n",
       "        0.18111603, -0.14977911, -0.00936239,  0.1320775 ,  0.0436303 ,\n",
       "       -0.07602428, -0.00201182,  0.07163426,  0.0904479 , -0.07604753,\n",
       "       -0.05993306, -0.02134553, -0.06455189,  0.00062062,  0.1207527 ,\n",
       "        0.03734252,  0.03095446, -0.05249451,  0.05398624, -0.03856986,\n",
       "        0.14875273,  0.11045902,  0.10355606, -0.1572604 , -0.03453128,\n",
       "       -0.08288553, -0.15485819,  0.05403515,  0.1421485 ,  0.11317476,\n",
       "        0.0063852 , -0.03006307,  0.20878662, -0.03421855, -0.01513487,\n",
       "       -0.16613844, -0.05755925, -0.16694032,  0.22070864, -0.02839578,\n",
       "        0.14868373,  0.06419006,  0.13559441, -0.00119743, -0.10055753,\n",
       "        0.23278461,  0.06382997,  0.21384193, -0.0251276 ,  0.00356674,\n",
       "        0.03908598, -0.00065655, -0.11266655, -0.13812913, -0.01031368,\n",
       "        0.06341835,  0.03297417,  0.21207537, -0.03741067, -0.00929065,\n",
       "       -0.17528027,  0.04074095,  0.01176173, -0.08070909, -0.03107415,\n",
       "        0.17872038, -0.01947142, -0.08316083,  0.03262451,  0.1266274 ,\n",
       "        0.02109547,  0.09062728,  0.09358363,  0.14006586, -0.26475003,\n",
       "        0.2558777 ,  0.00790027, -0.10156586,  0.02664443, -0.0165095 ,\n",
       "        0.13932632, -0.15882744, -0.02101568,  0.04676376,  0.17092727,\n",
       "        0.01727917,  0.2079406 , -0.22592038, -0.09521466, -0.05483359,\n",
       "       -0.05321949, -0.16355146, -0.03076414,  0.12394235,  0.16861655,\n",
       "       -0.0159436 ,  0.10240914,  0.09736698,  0.11392716, -0.20783098,\n",
       "       -0.28502697, -0.05782048, -0.21762542,  0.01451442, -0.03549175,\n",
       "       -0.23063071, -0.16672368, -0.14996475, -0.0863539 , -0.2437798 ,\n",
       "        0.03269196,  0.07049749,  0.03017811, -0.04201496, -0.1591345 ,\n",
       "       -0.1794054 , -0.04512144, -0.02057192,  0.02325073, -0.05150827,\n",
       "       -0.05456375, -0.00304526, -0.10924274, -0.0152409 ,  0.08503582,\n",
       "        0.0192036 ,  0.11256846, -0.08575381, -0.13840427,  0.0148467 ,\n",
       "       -0.06482645,  0.0673011 , -0.09971135, -0.32416221, -0.09457943,\n",
       "        0.1288047 , -0.07359995, -0.11272836, -0.08064688,  0.21391264,\n",
       "       -0.0848182 , -0.11271066, -0.12898543,  0.06015051, -0.19658422,\n",
       "       -0.15548147, -0.06337008, -0.21074016, -0.24602444, -0.11692586,\n",
       "       -0.24126518,  0.03321173,  0.06883876, -0.04913339, -0.03032093,\n",
       "        0.05652516, -0.01738861, -0.21552946, -0.02907168, -0.2148597 ,\n",
       "        0.11153899, -0.14052412,  0.09914792, -0.01375726,  0.05127363,\n",
       "       -0.04087536, -0.15275154, -0.02438481,  0.13117732,  0.01580921,\n",
       "       -0.00692939, -0.03154276, -0.08824018,  0.06504311,  0.01404851,\n",
       "        0.04222621,  0.20532349,  0.14799987, -0.27526426, -0.21714987,\n",
       "       -0.2597147 ,  0.07162923,  0.05582508, -0.24872841, -0.12067784,\n",
       "        0.06951512,  0.03820929,  0.06530628, -0.05380139, -0.00545951,\n",
       "        0.2250509 ,  0.23354144,  0.01496831,  0.07174986,  0.00510642,\n",
       "       -0.1547903 ,  0.07821381,  0.01840681,  0.09884159,  0.11802296,\n",
       "        0.08982906,  0.09732744,  0.0554078 ,  0.09658331,  0.19099498,\n",
       "        0.03222135,  0.07104801,  0.01099653, -0.05834598,  0.0740168 ,\n",
       "       -0.22168556, -0.23898146, -0.13379948,  0.0270648 ,  0.1231534 ,\n",
       "        0.05626693,  0.20500071,  0.0992283 ,  0.04230973, -0.03611619,\n",
       "        0.22521444, -0.03522493,  0.09618988, -0.02969356, -0.26236063],\n",
       "      dtype=float32)"
      ]
     },
     "execution_count": 9,
     "metadata": {},
     "output_type": "execute_result"
    }
   ],
   "source": [
    "model.wv.vectors[0]"
   ]
  },
  {
   "cell_type": "markdown",
   "metadata": {},
   "source": [
    "Looking at it won't make a whole lot of sense to us! It's just a bunch of numbers. However, we can do semantic operations on these vectors, such as getting related terms."
   ]
  },
  {
   "cell_type": "markdown",
   "metadata": {
    "id": "xw4th__0ZOp0"
   },
   "source": [
    "<a id='sim'></a>\n",
    "\n",
    "# Word Similarity\n",
    "\n",
    "With the information in our word embeddings model, we can try to find similarities between words that interest us (i.e. words that have a similar vector). Let's create a function that retrieves related terms to some input. We're going to use the `most_similar()` function in `gensim` as part of this helper function."
   ]
  },
  {
   "cell_type": "code",
   "execution_count": 10,
   "metadata": {
    "id": "v1HVouFqZOp0"
   },
   "outputs": [],
   "source": [
    "def get_most_similar_terms(model, token, topn=20):\n",
    "    \"\"\"Look up the top N most similar terms to the token.\"\"\"\n",
    "    for word, similarity in model.wv.most_similar(positive=[token], topn=topn):\n",
    "        print(f\"{word}: {round(similarity, 3)}\")"
   ]
  },
  {
   "cell_type": "code",
   "execution_count": 11,
   "metadata": {
    "colab": {
     "base_uri": "https://localhost:8080/"
    },
    "executionInfo": {
     "elapsed": 304,
     "status": "ok",
     "timestamp": 1639950052918,
     "user": {
      "displayName": "Tom van Nuenen",
      "photoUrl": "https://lh3.googleusercontent.com/a-/AOh14GhuBmxDvW5I_LJfZtwlPqMFD8QGLVPP3skvpkTnuQ=s64",
      "userId": "10012302451096885058"
     },
     "user_tz": -60
    },
    "id": "CDyV-ntGZOp3",
    "outputId": "d72277e1-e4e1-451d-e706-70b7fb7ebb02"
   },
   "outputs": [
    {
     "name": "stdout",
     "output_type": "stream",
     "text": [
      "veer: 0.625\n",
      "asshole-: 0.623\n",
      "nahyou’re: 0.618\n",
      "redflag: 0.618\n",
      "resounding: 0.605\n",
      "assholeishness: 0.605\n",
      "esh.your: 0.605\n",
      "esh.he: 0.602\n",
      "esh.i: 0.597\n",
      "dickwad: 0.596\n",
      "ytayou’re: 0.594\n",
      "dickbag: 0.593\n",
      "this:>i: 0.591\n",
      "esh.she: 0.588\n",
      "fuckwad: 0.587\n",
      "arsehole: 0.585\n",
      "nutjob: 0.585\n",
      "yta.you're: 0.584\n",
      "opportunist: 0.584\n",
      "infact: 0.584\n"
     ]
    }
   ],
   "source": [
    "get_most_similar_terms(model, 'asshole')"
   ]
  },
  {
   "cell_type": "markdown",
   "metadata": {},
   "source": [
    "Here are some other terms. What else interests you?"
   ]
  },
  {
   "cell_type": "code",
   "execution_count": 12,
   "metadata": {},
   "outputs": [
    {
     "name": "stdout",
     "output_type": "stream",
     "text": [
      "compassion: 0.697\n",
      "rationality: 0.573\n",
      "lacking: 0.564\n",
      "modicum: 0.559\n",
      "lack_empathy: 0.551\n",
      "humility: 0.547\n",
      "patience: 0.545\n",
      "self_awareness: 0.537\n",
      "devoid: 0.529\n",
      "empathic: 0.525\n",
      "empathetic: 0.523\n",
      "empathize: 0.523\n",
      "coping_skill: 0.522\n",
      "self_reflection: 0.508\n",
      "empathise: 0.505\n",
      "tact: 0.505\n",
      "blindsided: 0.503\n",
      "inadequacy: 0.502\n",
      "cold_hearted: 0.502\n",
      "inferiority: 0.498\n"
     ]
    }
   ],
   "source": [
    "get_most_similar_terms(model, 'empathy')"
   ]
  },
  {
   "cell_type": "code",
   "execution_count": 13,
   "metadata": {},
   "outputs": [
    {
     "name": "stdout",
     "output_type": "stream",
     "text": [
      "amicably: 0.619\n",
      "polyamory: 0.599\n",
      "exclusivity: 0.592\n",
      "transparency: 0.592\n",
      "polyamorous: 0.589\n",
      "fidelity: 0.588\n",
      "irrevocably: 0.585\n",
      "relationships: 0.583\n",
      "marriage: 0.582\n",
      "trusting: 0.581\n",
      "coparent: 0.574\n",
      "infatuate: 0.574\n",
      "sexually_compatible: 0.572\n",
      "ltr: 0.566\n",
      "reestablish: 0.565\n",
      "friendship: 0.564\n",
      "mono: 0.563\n",
      "openness: 0.556\n",
      "monogamy: 0.553\n",
      "overthink: 0.548\n"
     ]
    }
   ],
   "source": [
    "get_most_similar_terms(model, 'relationship')"
   ]
  },
  {
   "cell_type": "code",
   "execution_count": 14,
   "metadata": {},
   "outputs": [
    {
     "name": "stdout",
     "output_type": "stream",
     "text": [
      "differential: 0.445\n",
      "power_imbalance: 0.42\n",
      "wield: 0.417\n",
      "intimidation: 0.407\n",
      "manipulate: 0.402\n",
      "dominance: 0.386\n",
      "ideological: 0.384\n",
      "institutional: 0.383\n",
      "tripping: 0.374\n",
      "dynamic: 0.372\n",
      "perpetual: 0.372\n",
      "deity: 0.371\n",
      "authority: 0.37\n",
      "domineering: 0.369\n",
      "tactic: 0.369\n",
      "exert: 0.368\n",
      "chivalry: 0.367\n",
      "leverage: 0.366\n",
      "narcs: 0.365\n",
      "seniority: 0.362\n"
     ]
    }
   ],
   "source": [
    "get_most_similar_terms(model, 'power')"
   ]
  },
  {
   "cell_type": "code",
   "execution_count": 15,
   "metadata": {},
   "outputs": [
    {
     "name": "stdout",
     "output_type": "stream",
     "text": [
      "woman: 0.643\n",
      "men: 0.594\n",
      "ogle: 0.547\n",
      "subservient: 0.538\n",
      "cisgender: 0.526\n",
      "harassed: 0.524\n",
      "het: 0.521\n",
      "butch: 0.52\n",
      "femme: 0.518\n",
      "androgynous: 0.518\n",
      "cucke: 0.517\n",
      "shouldn't: 0.515\n",
      "middle_aged: 0.513\n",
      "misandry: 0.513\n",
      "transman: 0.511\n",
      "macho: 0.511\n",
      "dude: 0.511\n",
      "hes: 0.508\n",
      "monolith: 0.508\n",
      "abomination: 0.507\n"
     ]
    }
   ],
   "source": [
    "get_most_similar_terms(model, 'man')"
   ]
  },
  {
   "cell_type": "code",
   "execution_count": 16,
   "metadata": {},
   "outputs": [
    {
     "name": "stdout",
     "output_type": "stream",
     "text": [
      "man: 0.643\n",
      "men: 0.591\n",
      "women: 0.573\n",
      "androgynous: 0.573\n",
      "transwoman: 0.569\n",
      "ogle: 0.563\n",
      "cisgender: 0.555\n",
      "womanhood: 0.554\n",
      "transman: 0.552\n",
      "monolith: 0.539\n",
      "ntabee: 0.539\n",
      "fetishization: 0.533\n",
      "butch: 0.53\n",
      "het: 0.527\n",
      "brunette: 0.527\n",
      "femme: 0.526\n",
      "mans: 0.522\n",
      "misandry: 0.522\n",
      "petite: 0.52\n",
      "middle_aged: 0.52\n"
     ]
    }
   ],
   "source": [
    "get_most_similar_terms(model, 'woman')"
   ]
  },
  {
   "cell_type": "markdown",
   "metadata": {},
   "source": [
    "# Visualizing High Dimensional Spaces with $t$-SNE\n",
    "\n",
    "The word embeddings we created are what's called a **high-dimensional representation** of the text. That is, we take a word in the corpus, and represent it using, in this case, 300 numbers. We can plot 3 numbers at a time - that's in 3 dimensions - but there's no way for humans to visualize something in a 300-dimensional space. \n",
    "\n",
    "So, **dimensionality reduction** is a big part of machine learning. How can we take vectors that are 300-dimensional, and visualize them in 2-dimensions, while keeping the structure between vectors the same? How can we reduce the dimensionality?\n",
    "\n",
    "One of the most popular methods for dimensionality reduction is called $t$-SNE ($t$-Distributed Stochastic Neighbor Embedding). If you want to read more about this algorithm, [here](https://lvdmaaten.github.io/tsne/) is a good starting point. \n",
    "\n",
    "Roughly, $t$-SNE tries to keep the relative distances between points as closely as possible in both high-dimensional and low-dimensional space. We can thus visualize our embeddings, which may reveal semantic and syntactic trends in the data.\n",
    "\n",
    "One thing we can do is to look for relationships between particular word pairs. "
   ]
  },
  {
   "cell_type": "code",
   "execution_count": 17,
   "metadata": {},
   "outputs": [],
   "source": [
    "words = ['asshole', 'jerk', 'rude', 'inconsiderate',\n",
    "         'angry', 'upset', 'sad', 'happy', 'frustrated',\n",
    "         'friend', 'family', 'partner', 'coworker', 'neighbor',\n",
    "         'apologize', 'forgive', 'ignore', 'confront', 'compromise',\n",
    "         'right', 'wrong', 'justified', 'unjustified', 'fair', 'unfair',\n",
    "         'honesty', 'loyalty', 'respect', 'kindness', 'empathy']\n",
    "\n",
    "# Extract the word vectors\n",
    "word_vectors = np.array([model.wv[word] for word in words])"
   ]
  },
  {
   "cell_type": "code",
   "execution_count": 18,
   "metadata": {},
   "outputs": [],
   "source": [
    "# If you get an ImportError in the line tsne=TSNE(), you might need to install scikit-learn:\n",
    "# %pip install -U scikit-learn "
   ]
  },
  {
   "cell_type": "code",
   "execution_count": 19,
   "metadata": {},
   "outputs": [],
   "source": [
    "# Reduce dimensionality using t-SNE\n",
    "tsne = TSNE(n_components=2, random_state=2, perplexity=2)\n",
    "reduced_vectors = tsne.fit_transform(word_vectors)"
   ]
  },
  {
   "cell_type": "code",
   "execution_count": 20,
   "metadata": {},
   "outputs": [],
   "source": [
    "# Store the t-SNE vectors\n",
    "words_df = pd.DataFrame(reduced_vectors,\n",
    "                            index=pd.Index([word for word in words]),\n",
    "                            columns=['x', 'y'])"
   ]
  },
  {
   "cell_type": "markdown",
   "metadata": {},
   "source": [
    "We're going to visualize the 2-dimensional space using a package called `bokeh`. This package allows for some degree of interactivity: we can go over each point and dynamically get information about the word denoting that vector."
   ]
  },
  {
   "cell_type": "code",
   "execution_count": 21,
   "metadata": {},
   "outputs": [],
   "source": [
    "# You may need to install bokeh if the following cell does not run\n",
    "# %pip install bokeh"
   ]
  },
  {
   "cell_type": "code",
   "execution_count": 24,
   "metadata": {},
   "outputs": [
    {
     "data": {
      "text/html": [
       "<div class=\"bk-root\">\n",
       "        <a href=\"https://bokeh.org\" target=\"_blank\" class=\"bk-logo bk-logo-small bk-logo-notebook\"></a>\n",
       "        <span id=\"1047\">Loading BokehJS ...</span>\n",
       "    </div>\n"
      ]
     },
     "metadata": {},
     "output_type": "display_data"
    },
    {
     "data": {
      "application/javascript": [
       "(function(root) {\n",
       "  function now() {\n",
       "    return new Date();\n",
       "  }\n",
       "\n",
       "  const force = true;\n",
       "\n",
       "  if (typeof root._bokeh_onload_callbacks === \"undefined\" || force === true) {\n",
       "    root._bokeh_onload_callbacks = [];\n",
       "    root._bokeh_is_loading = undefined;\n",
       "  }\n",
       "\n",
       "const JS_MIME_TYPE = 'application/javascript';\n",
       "  const HTML_MIME_TYPE = 'text/html';\n",
       "  const EXEC_MIME_TYPE = 'application/vnd.bokehjs_exec.v0+json';\n",
       "  const CLASS_NAME = 'output_bokeh rendered_html';\n",
       "\n",
       "  /**\n",
       "   * Render data to the DOM node\n",
       "   */\n",
       "  function render(props, node) {\n",
       "    const script = document.createElement(\"script\");\n",
       "    node.appendChild(script);\n",
       "  }\n",
       "\n",
       "  /**\n",
       "   * Handle when an output is cleared or removed\n",
       "   */\n",
       "  function handleClearOutput(event, handle) {\n",
       "    const cell = handle.cell;\n",
       "\n",
       "    const id = cell.output_area._bokeh_element_id;\n",
       "    const server_id = cell.output_area._bokeh_server_id;\n",
       "    // Clean up Bokeh references\n",
       "    if (id != null && id in Bokeh.index) {\n",
       "      Bokeh.index[id].model.document.clear();\n",
       "      delete Bokeh.index[id];\n",
       "    }\n",
       "\n",
       "    if (server_id !== undefined) {\n",
       "      // Clean up Bokeh references\n",
       "      const cmd_clean = \"from bokeh.io.state import curstate; print(curstate().uuid_to_server['\" + server_id + \"'].get_sessions()[0].document.roots[0]._id)\";\n",
       "      cell.notebook.kernel.execute(cmd_clean, {\n",
       "        iopub: {\n",
       "          output: function(msg) {\n",
       "            const id = msg.content.text.trim();\n",
       "            if (id in Bokeh.index) {\n",
       "              Bokeh.index[id].model.document.clear();\n",
       "              delete Bokeh.index[id];\n",
       "            }\n",
       "          }\n",
       "        }\n",
       "      });\n",
       "      // Destroy server and session\n",
       "      const cmd_destroy = \"import bokeh.io.notebook as ion; ion.destroy_server('\" + server_id + \"')\";\n",
       "      cell.notebook.kernel.execute(cmd_destroy);\n",
       "    }\n",
       "  }\n",
       "\n",
       "  /**\n",
       "   * Handle when a new output is added\n",
       "   */\n",
       "  function handleAddOutput(event, handle) {\n",
       "    const output_area = handle.output_area;\n",
       "    const output = handle.output;\n",
       "\n",
       "    // limit handleAddOutput to display_data with EXEC_MIME_TYPE content only\n",
       "    if ((output.output_type != \"display_data\") || (!Object.prototype.hasOwnProperty.call(output.data, EXEC_MIME_TYPE))) {\n",
       "      return\n",
       "    }\n",
       "\n",
       "    const toinsert = output_area.element.find(\".\" + CLASS_NAME.split(' ')[0]);\n",
       "\n",
       "    if (output.metadata[EXEC_MIME_TYPE][\"id\"] !== undefined) {\n",
       "      toinsert[toinsert.length - 1].firstChild.textContent = output.data[JS_MIME_TYPE];\n",
       "      // store reference to embed id on output_area\n",
       "      output_area._bokeh_element_id = output.metadata[EXEC_MIME_TYPE][\"id\"];\n",
       "    }\n",
       "    if (output.metadata[EXEC_MIME_TYPE][\"server_id\"] !== undefined) {\n",
       "      const bk_div = document.createElement(\"div\");\n",
       "      bk_div.innerHTML = output.data[HTML_MIME_TYPE];\n",
       "      const script_attrs = bk_div.children[0].attributes;\n",
       "      for (let i = 0; i < script_attrs.length; i++) {\n",
       "        toinsert[toinsert.length - 1].firstChild.setAttribute(script_attrs[i].name, script_attrs[i].value);\n",
       "        toinsert[toinsert.length - 1].firstChild.textContent = bk_div.children[0].textContent\n",
       "      }\n",
       "      // store reference to server id on output_area\n",
       "      output_area._bokeh_server_id = output.metadata[EXEC_MIME_TYPE][\"server_id\"];\n",
       "    }\n",
       "  }\n",
       "\n",
       "  function register_renderer(events, OutputArea) {\n",
       "\n",
       "    function append_mime(data, metadata, element) {\n",
       "      // create a DOM node to render to\n",
       "      const toinsert = this.create_output_subarea(\n",
       "        metadata,\n",
       "        CLASS_NAME,\n",
       "        EXEC_MIME_TYPE\n",
       "      );\n",
       "      this.keyboard_manager.register_events(toinsert);\n",
       "      // Render to node\n",
       "      const props = {data: data, metadata: metadata[EXEC_MIME_TYPE]};\n",
       "      render(props, toinsert[toinsert.length - 1]);\n",
       "      element.append(toinsert);\n",
       "      return toinsert\n",
       "    }\n",
       "\n",
       "    /* Handle when an output is cleared or removed */\n",
       "    events.on('clear_output.CodeCell', handleClearOutput);\n",
       "    events.on('delete.Cell', handleClearOutput);\n",
       "\n",
       "    /* Handle when a new output is added */\n",
       "    events.on('output_added.OutputArea', handleAddOutput);\n",
       "\n",
       "    /**\n",
       "     * Register the mime type and append_mime function with output_area\n",
       "     */\n",
       "    OutputArea.prototype.register_mime_type(EXEC_MIME_TYPE, append_mime, {\n",
       "      /* Is output safe? */\n",
       "      safe: true,\n",
       "      /* Index of renderer in `output_area.display_order` */\n",
       "      index: 0\n",
       "    });\n",
       "  }\n",
       "\n",
       "  // register the mime type if in Jupyter Notebook environment and previously unregistered\n",
       "  if (root.Jupyter !== undefined) {\n",
       "    const events = require('base/js/events');\n",
       "    const OutputArea = require('notebook/js/outputarea').OutputArea;\n",
       "\n",
       "    if (OutputArea.prototype.mime_types().indexOf(EXEC_MIME_TYPE) == -1) {\n",
       "      register_renderer(events, OutputArea);\n",
       "    }\n",
       "  }\n",
       "  if (typeof (root._bokeh_timeout) === \"undefined\" || force === true) {\n",
       "    root._bokeh_timeout = Date.now() + 5000;\n",
       "    root._bokeh_failed_load = false;\n",
       "  }\n",
       "\n",
       "  const NB_LOAD_WARNING = {'data': {'text/html':\n",
       "     \"<div style='background-color: #fdd'>\\n\"+\n",
       "     \"<p>\\n\"+\n",
       "     \"BokehJS does not appear to have successfully loaded. If loading BokehJS from CDN, this \\n\"+\n",
       "     \"may be due to a slow or bad network connection. Possible fixes:\\n\"+\n",
       "     \"</p>\\n\"+\n",
       "     \"<ul>\\n\"+\n",
       "     \"<li>re-rerun `output_notebook()` to attempt to load from CDN again, or</li>\\n\"+\n",
       "     \"<li>use INLINE resources instead, as so:</li>\\n\"+\n",
       "     \"</ul>\\n\"+\n",
       "     \"<code>\\n\"+\n",
       "     \"from bokeh.resources import INLINE\\n\"+\n",
       "     \"output_notebook(resources=INLINE)\\n\"+\n",
       "     \"</code>\\n\"+\n",
       "     \"</div>\"}};\n",
       "\n",
       "  function display_loaded() {\n",
       "    const el = document.getElementById(\"1047\");\n",
       "    if (el != null) {\n",
       "      el.textContent = \"BokehJS is loading...\";\n",
       "    }\n",
       "    if (root.Bokeh !== undefined) {\n",
       "      if (el != null) {\n",
       "        el.textContent = \"BokehJS \" + root.Bokeh.version + \" successfully loaded.\";\n",
       "      }\n",
       "    } else if (Date.now() < root._bokeh_timeout) {\n",
       "      setTimeout(display_loaded, 100)\n",
       "    }\n",
       "  }\n",
       "\n",
       "  function run_callbacks() {\n",
       "    try {\n",
       "      root._bokeh_onload_callbacks.forEach(function(callback) {\n",
       "        if (callback != null)\n",
       "          callback();\n",
       "      });\n",
       "    } finally {\n",
       "      delete root._bokeh_onload_callbacks\n",
       "    }\n",
       "    console.debug(\"Bokeh: all callbacks have finished\");\n",
       "  }\n",
       "\n",
       "  function load_libs(css_urls, js_urls, callback) {\n",
       "    if (css_urls == null) css_urls = [];\n",
       "    if (js_urls == null) js_urls = [];\n",
       "\n",
       "    root._bokeh_onload_callbacks.push(callback);\n",
       "    if (root._bokeh_is_loading > 0) {\n",
       "      console.debug(\"Bokeh: BokehJS is being loaded, scheduling callback at\", now());\n",
       "      return null;\n",
       "    }\n",
       "    if (js_urls == null || js_urls.length === 0) {\n",
       "      run_callbacks();\n",
       "      return null;\n",
       "    }\n",
       "    console.debug(\"Bokeh: BokehJS not loaded, scheduling load and callback at\", now());\n",
       "    root._bokeh_is_loading = css_urls.length + js_urls.length;\n",
       "\n",
       "    function on_load() {\n",
       "      root._bokeh_is_loading--;\n",
       "      if (root._bokeh_is_loading === 0) {\n",
       "        console.debug(\"Bokeh: all BokehJS libraries/stylesheets loaded\");\n",
       "        run_callbacks()\n",
       "      }\n",
       "    }\n",
       "\n",
       "    function on_error(url) {\n",
       "      console.error(\"failed to load \" + url);\n",
       "    }\n",
       "\n",
       "    for (let i = 0; i < css_urls.length; i++) {\n",
       "      const url = css_urls[i];\n",
       "      const element = document.createElement(\"link\");\n",
       "      element.onload = on_load;\n",
       "      element.onerror = on_error.bind(null, url);\n",
       "      element.rel = \"stylesheet\";\n",
       "      element.type = \"text/css\";\n",
       "      element.href = url;\n",
       "      console.debug(\"Bokeh: injecting link tag for BokehJS stylesheet: \", url);\n",
       "      document.body.appendChild(element);\n",
       "    }\n",
       "\n",
       "    for (let i = 0; i < js_urls.length; i++) {\n",
       "      const url = js_urls[i];\n",
       "      const element = document.createElement('script');\n",
       "      element.onload = on_load;\n",
       "      element.onerror = on_error.bind(null, url);\n",
       "      element.async = false;\n",
       "      element.src = url;\n",
       "      console.debug(\"Bokeh: injecting script tag for BokehJS library: \", url);\n",
       "      document.head.appendChild(element);\n",
       "    }\n",
       "  };\n",
       "\n",
       "  function inject_raw_css(css) {\n",
       "    const element = document.createElement(\"style\");\n",
       "    element.appendChild(document.createTextNode(css));\n",
       "    document.body.appendChild(element);\n",
       "  }\n",
       "\n",
       "  const js_urls = [\"https://cdn.bokeh.org/bokeh/release/bokeh-2.4.3.min.js\", \"https://cdn.bokeh.org/bokeh/release/bokeh-gl-2.4.3.min.js\", \"https://cdn.bokeh.org/bokeh/release/bokeh-widgets-2.4.3.min.js\", \"https://cdn.bokeh.org/bokeh/release/bokeh-tables-2.4.3.min.js\", \"https://cdn.bokeh.org/bokeh/release/bokeh-mathjax-2.4.3.min.js\"];\n",
       "  const css_urls = [];\n",
       "\n",
       "  const inline_js = [    function(Bokeh) {\n",
       "      Bokeh.set_log_level(\"info\");\n",
       "    },\n",
       "function(Bokeh) {\n",
       "    }\n",
       "  ];\n",
       "\n",
       "  function run_inline_js() {\n",
       "    if (root.Bokeh !== undefined || force === true) {\n",
       "          for (let i = 0; i < inline_js.length; i++) {\n",
       "      inline_js[i].call(root, root.Bokeh);\n",
       "    }\n",
       "if (force === true) {\n",
       "        display_loaded();\n",
       "      }} else if (Date.now() < root._bokeh_timeout) {\n",
       "      setTimeout(run_inline_js, 100);\n",
       "    } else if (!root._bokeh_failed_load) {\n",
       "      console.log(\"Bokeh: BokehJS failed to load within specified timeout.\");\n",
       "      root._bokeh_failed_load = true;\n",
       "    } else if (force !== true) {\n",
       "      const cell = $(document.getElementById(\"1047\")).parents('.cell').data().cell;\n",
       "      cell.output_area.append_execute_result(NB_LOAD_WARNING)\n",
       "    }\n",
       "  }\n",
       "\n",
       "  if (root._bokeh_is_loading === 0) {\n",
       "    console.debug(\"Bokeh: BokehJS loaded, going straight to plotting\");\n",
       "    run_inline_js();\n",
       "  } else {\n",
       "    load_libs(css_urls, js_urls, function() {\n",
       "      console.debug(\"Bokeh: BokehJS plotting callback run at\", now());\n",
       "      run_inline_js();\n",
       "    });\n",
       "  }\n",
       "}(window));"
      ],
      "application/vnd.bokehjs_load.v0+json": "(function(root) {\n  function now() {\n    return new Date();\n  }\n\n  const force = true;\n\n  if (typeof root._bokeh_onload_callbacks === \"undefined\" || force === true) {\n    root._bokeh_onload_callbacks = [];\n    root._bokeh_is_loading = undefined;\n  }\n\n\n  if (typeof (root._bokeh_timeout) === \"undefined\" || force === true) {\n    root._bokeh_timeout = Date.now() + 5000;\n    root._bokeh_failed_load = false;\n  }\n\n  const NB_LOAD_WARNING = {'data': {'text/html':\n     \"<div style='background-color: #fdd'>\\n\"+\n     \"<p>\\n\"+\n     \"BokehJS does not appear to have successfully loaded. If loading BokehJS from CDN, this \\n\"+\n     \"may be due to a slow or bad network connection. Possible fixes:\\n\"+\n     \"</p>\\n\"+\n     \"<ul>\\n\"+\n     \"<li>re-rerun `output_notebook()` to attempt to load from CDN again, or</li>\\n\"+\n     \"<li>use INLINE resources instead, as so:</li>\\n\"+\n     \"</ul>\\n\"+\n     \"<code>\\n\"+\n     \"from bokeh.resources import INLINE\\n\"+\n     \"output_notebook(resources=INLINE)\\n\"+\n     \"</code>\\n\"+\n     \"</div>\"}};\n\n  function display_loaded() {\n    const el = document.getElementById(\"1047\");\n    if (el != null) {\n      el.textContent = \"BokehJS is loading...\";\n    }\n    if (root.Bokeh !== undefined) {\n      if (el != null) {\n        el.textContent = \"BokehJS \" + root.Bokeh.version + \" successfully loaded.\";\n      }\n    } else if (Date.now() < root._bokeh_timeout) {\n      setTimeout(display_loaded, 100)\n    }\n  }\n\n  function run_callbacks() {\n    try {\n      root._bokeh_onload_callbacks.forEach(function(callback) {\n        if (callback != null)\n          callback();\n      });\n    } finally {\n      delete root._bokeh_onload_callbacks\n    }\n    console.debug(\"Bokeh: all callbacks have finished\");\n  }\n\n  function load_libs(css_urls, js_urls, callback) {\n    if (css_urls == null) css_urls = [];\n    if (js_urls == null) js_urls = [];\n\n    root._bokeh_onload_callbacks.push(callback);\n    if (root._bokeh_is_loading > 0) {\n      console.debug(\"Bokeh: BokehJS is being loaded, scheduling callback at\", now());\n      return null;\n    }\n    if (js_urls == null || js_urls.length === 0) {\n      run_callbacks();\n      return null;\n    }\n    console.debug(\"Bokeh: BokehJS not loaded, scheduling load and callback at\", now());\n    root._bokeh_is_loading = css_urls.length + js_urls.length;\n\n    function on_load() {\n      root._bokeh_is_loading--;\n      if (root._bokeh_is_loading === 0) {\n        console.debug(\"Bokeh: all BokehJS libraries/stylesheets loaded\");\n        run_callbacks()\n      }\n    }\n\n    function on_error(url) {\n      console.error(\"failed to load \" + url);\n    }\n\n    for (let i = 0; i < css_urls.length; i++) {\n      const url = css_urls[i];\n      const element = document.createElement(\"link\");\n      element.onload = on_load;\n      element.onerror = on_error.bind(null, url);\n      element.rel = \"stylesheet\";\n      element.type = \"text/css\";\n      element.href = url;\n      console.debug(\"Bokeh: injecting link tag for BokehJS stylesheet: \", url);\n      document.body.appendChild(element);\n    }\n\n    for (let i = 0; i < js_urls.length; i++) {\n      const url = js_urls[i];\n      const element = document.createElement('script');\n      element.onload = on_load;\n      element.onerror = on_error.bind(null, url);\n      element.async = false;\n      element.src = url;\n      console.debug(\"Bokeh: injecting script tag for BokehJS library: \", url);\n      document.head.appendChild(element);\n    }\n  };\n\n  function inject_raw_css(css) {\n    const element = document.createElement(\"style\");\n    element.appendChild(document.createTextNode(css));\n    document.body.appendChild(element);\n  }\n\n  const js_urls = [\"https://cdn.bokeh.org/bokeh/release/bokeh-2.4.3.min.js\", \"https://cdn.bokeh.org/bokeh/release/bokeh-gl-2.4.3.min.js\", \"https://cdn.bokeh.org/bokeh/release/bokeh-widgets-2.4.3.min.js\", \"https://cdn.bokeh.org/bokeh/release/bokeh-tables-2.4.3.min.js\", \"https://cdn.bokeh.org/bokeh/release/bokeh-mathjax-2.4.3.min.js\"];\n  const css_urls = [];\n\n  const inline_js = [    function(Bokeh) {\n      Bokeh.set_log_level(\"info\");\n    },\nfunction(Bokeh) {\n    }\n  ];\n\n  function run_inline_js() {\n    if (root.Bokeh !== undefined || force === true) {\n          for (let i = 0; i < inline_js.length; i++) {\n      inline_js[i].call(root, root.Bokeh);\n    }\nif (force === true) {\n        display_loaded();\n      }} else if (Date.now() < root._bokeh_timeout) {\n      setTimeout(run_inline_js, 100);\n    } else if (!root._bokeh_failed_load) {\n      console.log(\"Bokeh: BokehJS failed to load within specified timeout.\");\n      root._bokeh_failed_load = true;\n    } else if (force !== true) {\n      const cell = $(document.getElementById(\"1047\")).parents('.cell').data().cell;\n      cell.output_area.append_execute_result(NB_LOAD_WARNING)\n    }\n  }\n\n  if (root._bokeh_is_loading === 0) {\n    console.debug(\"Bokeh: BokehJS loaded, going straight to plotting\");\n    run_inline_js();\n  } else {\n    load_libs(css_urls, js_urls, function() {\n      console.debug(\"Bokeh: BokehJS plotting callback run at\", now());\n      run_inline_js();\n    });\n  }\n}(window));"
     },
     "metadata": {},
     "output_type": "display_data"
    },
    {
     "data": {
      "text/html": [
       "<div class=\"bk-root\">\n",
       "        <a href=\"https://bokeh.org\" target=\"_blank\" class=\"bk-logo bk-logo-small bk-logo-notebook\"></a>\n",
       "        <span id=\"1048\">Loading BokehJS ...</span>\n",
       "    </div>\n"
      ]
     },
     "metadata": {},
     "output_type": "display_data"
    },
    {
     "data": {
      "application/javascript": [
       "(function(root) {\n",
       "  function now() {\n",
       "    return new Date();\n",
       "  }\n",
       "\n",
       "  const force = true;\n",
       "\n",
       "  if (typeof root._bokeh_onload_callbacks === \"undefined\" || force === true) {\n",
       "    root._bokeh_onload_callbacks = [];\n",
       "    root._bokeh_is_loading = undefined;\n",
       "  }\n",
       "\n",
       "const JS_MIME_TYPE = 'application/javascript';\n",
       "  const HTML_MIME_TYPE = 'text/html';\n",
       "  const EXEC_MIME_TYPE = 'application/vnd.bokehjs_exec.v0+json';\n",
       "  const CLASS_NAME = 'output_bokeh rendered_html';\n",
       "\n",
       "  /**\n",
       "   * Render data to the DOM node\n",
       "   */\n",
       "  function render(props, node) {\n",
       "    const script = document.createElement(\"script\");\n",
       "    node.appendChild(script);\n",
       "  }\n",
       "\n",
       "  /**\n",
       "   * Handle when an output is cleared or removed\n",
       "   */\n",
       "  function handleClearOutput(event, handle) {\n",
       "    const cell = handle.cell;\n",
       "\n",
       "    const id = cell.output_area._bokeh_element_id;\n",
       "    const server_id = cell.output_area._bokeh_server_id;\n",
       "    // Clean up Bokeh references\n",
       "    if (id != null && id in Bokeh.index) {\n",
       "      Bokeh.index[id].model.document.clear();\n",
       "      delete Bokeh.index[id];\n",
       "    }\n",
       "\n",
       "    if (server_id !== undefined) {\n",
       "      // Clean up Bokeh references\n",
       "      const cmd_clean = \"from bokeh.io.state import curstate; print(curstate().uuid_to_server['\" + server_id + \"'].get_sessions()[0].document.roots[0]._id)\";\n",
       "      cell.notebook.kernel.execute(cmd_clean, {\n",
       "        iopub: {\n",
       "          output: function(msg) {\n",
       "            const id = msg.content.text.trim();\n",
       "            if (id in Bokeh.index) {\n",
       "              Bokeh.index[id].model.document.clear();\n",
       "              delete Bokeh.index[id];\n",
       "            }\n",
       "          }\n",
       "        }\n",
       "      });\n",
       "      // Destroy server and session\n",
       "      const cmd_destroy = \"import bokeh.io.notebook as ion; ion.destroy_server('\" + server_id + \"')\";\n",
       "      cell.notebook.kernel.execute(cmd_destroy);\n",
       "    }\n",
       "  }\n",
       "\n",
       "  /**\n",
       "   * Handle when a new output is added\n",
       "   */\n",
       "  function handleAddOutput(event, handle) {\n",
       "    const output_area = handle.output_area;\n",
       "    const output = handle.output;\n",
       "\n",
       "    // limit handleAddOutput to display_data with EXEC_MIME_TYPE content only\n",
       "    if ((output.output_type != \"display_data\") || (!Object.prototype.hasOwnProperty.call(output.data, EXEC_MIME_TYPE))) {\n",
       "      return\n",
       "    }\n",
       "\n",
       "    const toinsert = output_area.element.find(\".\" + CLASS_NAME.split(' ')[0]);\n",
       "\n",
       "    if (output.metadata[EXEC_MIME_TYPE][\"id\"] !== undefined) {\n",
       "      toinsert[toinsert.length - 1].firstChild.textContent = output.data[JS_MIME_TYPE];\n",
       "      // store reference to embed id on output_area\n",
       "      output_area._bokeh_element_id = output.metadata[EXEC_MIME_TYPE][\"id\"];\n",
       "    }\n",
       "    if (output.metadata[EXEC_MIME_TYPE][\"server_id\"] !== undefined) {\n",
       "      const bk_div = document.createElement(\"div\");\n",
       "      bk_div.innerHTML = output.data[HTML_MIME_TYPE];\n",
       "      const script_attrs = bk_div.children[0].attributes;\n",
       "      for (let i = 0; i < script_attrs.length; i++) {\n",
       "        toinsert[toinsert.length - 1].firstChild.setAttribute(script_attrs[i].name, script_attrs[i].value);\n",
       "        toinsert[toinsert.length - 1].firstChild.textContent = bk_div.children[0].textContent\n",
       "      }\n",
       "      // store reference to server id on output_area\n",
       "      output_area._bokeh_server_id = output.metadata[EXEC_MIME_TYPE][\"server_id\"];\n",
       "    }\n",
       "  }\n",
       "\n",
       "  function register_renderer(events, OutputArea) {\n",
       "\n",
       "    function append_mime(data, metadata, element) {\n",
       "      // create a DOM node to render to\n",
       "      const toinsert = this.create_output_subarea(\n",
       "        metadata,\n",
       "        CLASS_NAME,\n",
       "        EXEC_MIME_TYPE\n",
       "      );\n",
       "      this.keyboard_manager.register_events(toinsert);\n",
       "      // Render to node\n",
       "      const props = {data: data, metadata: metadata[EXEC_MIME_TYPE]};\n",
       "      render(props, toinsert[toinsert.length - 1]);\n",
       "      element.append(toinsert);\n",
       "      return toinsert\n",
       "    }\n",
       "\n",
       "    /* Handle when an output is cleared or removed */\n",
       "    events.on('clear_output.CodeCell', handleClearOutput);\n",
       "    events.on('delete.Cell', handleClearOutput);\n",
       "\n",
       "    /* Handle when a new output is added */\n",
       "    events.on('output_added.OutputArea', handleAddOutput);\n",
       "\n",
       "    /**\n",
       "     * Register the mime type and append_mime function with output_area\n",
       "     */\n",
       "    OutputArea.prototype.register_mime_type(EXEC_MIME_TYPE, append_mime, {\n",
       "      /* Is output safe? */\n",
       "      safe: true,\n",
       "      /* Index of renderer in `output_area.display_order` */\n",
       "      index: 0\n",
       "    });\n",
       "  }\n",
       "\n",
       "  // register the mime type if in Jupyter Notebook environment and previously unregistered\n",
       "  if (root.Jupyter !== undefined) {\n",
       "    const events = require('base/js/events');\n",
       "    const OutputArea = require('notebook/js/outputarea').OutputArea;\n",
       "\n",
       "    if (OutputArea.prototype.mime_types().indexOf(EXEC_MIME_TYPE) == -1) {\n",
       "      register_renderer(events, OutputArea);\n",
       "    }\n",
       "  }\n",
       "  if (typeof (root._bokeh_timeout) === \"undefined\" || force === true) {\n",
       "    root._bokeh_timeout = Date.now() + 5000;\n",
       "    root._bokeh_failed_load = false;\n",
       "  }\n",
       "\n",
       "  const NB_LOAD_WARNING = {'data': {'text/html':\n",
       "     \"<div style='background-color: #fdd'>\\n\"+\n",
       "     \"<p>\\n\"+\n",
       "     \"BokehJS does not appear to have successfully loaded. If loading BokehJS from CDN, this \\n\"+\n",
       "     \"may be due to a slow or bad network connection. Possible fixes:\\n\"+\n",
       "     \"</p>\\n\"+\n",
       "     \"<ul>\\n\"+\n",
       "     \"<li>re-rerun `output_notebook()` to attempt to load from CDN again, or</li>\\n\"+\n",
       "     \"<li>use INLINE resources instead, as so:</li>\\n\"+\n",
       "     \"</ul>\\n\"+\n",
       "     \"<code>\\n\"+\n",
       "     \"from bokeh.resources import INLINE\\n\"+\n",
       "     \"output_notebook(resources=INLINE)\\n\"+\n",
       "     \"</code>\\n\"+\n",
       "     \"</div>\"}};\n",
       "\n",
       "  function display_loaded() {\n",
       "    const el = document.getElementById(\"1048\");\n",
       "    if (el != null) {\n",
       "      el.textContent = \"BokehJS is loading...\";\n",
       "    }\n",
       "    if (root.Bokeh !== undefined) {\n",
       "      if (el != null) {\n",
       "        el.textContent = \"BokehJS \" + root.Bokeh.version + \" successfully loaded.\";\n",
       "      }\n",
       "    } else if (Date.now() < root._bokeh_timeout) {\n",
       "      setTimeout(display_loaded, 100)\n",
       "    }\n",
       "  }\n",
       "\n",
       "  function run_callbacks() {\n",
       "    try {\n",
       "      root._bokeh_onload_callbacks.forEach(function(callback) {\n",
       "        if (callback != null)\n",
       "          callback();\n",
       "      });\n",
       "    } finally {\n",
       "      delete root._bokeh_onload_callbacks\n",
       "    }\n",
       "    console.debug(\"Bokeh: all callbacks have finished\");\n",
       "  }\n",
       "\n",
       "  function load_libs(css_urls, js_urls, callback) {\n",
       "    if (css_urls == null) css_urls = [];\n",
       "    if (js_urls == null) js_urls = [];\n",
       "\n",
       "    root._bokeh_onload_callbacks.push(callback);\n",
       "    if (root._bokeh_is_loading > 0) {\n",
       "      console.debug(\"Bokeh: BokehJS is being loaded, scheduling callback at\", now());\n",
       "      return null;\n",
       "    }\n",
       "    if (js_urls == null || js_urls.length === 0) {\n",
       "      run_callbacks();\n",
       "      return null;\n",
       "    }\n",
       "    console.debug(\"Bokeh: BokehJS not loaded, scheduling load and callback at\", now());\n",
       "    root._bokeh_is_loading = css_urls.length + js_urls.length;\n",
       "\n",
       "    function on_load() {\n",
       "      root._bokeh_is_loading--;\n",
       "      if (root._bokeh_is_loading === 0) {\n",
       "        console.debug(\"Bokeh: all BokehJS libraries/stylesheets loaded\");\n",
       "        run_callbacks()\n",
       "      }\n",
       "    }\n",
       "\n",
       "    function on_error(url) {\n",
       "      console.error(\"failed to load \" + url);\n",
       "    }\n",
       "\n",
       "    for (let i = 0; i < css_urls.length; i++) {\n",
       "      const url = css_urls[i];\n",
       "      const element = document.createElement(\"link\");\n",
       "      element.onload = on_load;\n",
       "      element.onerror = on_error.bind(null, url);\n",
       "      element.rel = \"stylesheet\";\n",
       "      element.type = \"text/css\";\n",
       "      element.href = url;\n",
       "      console.debug(\"Bokeh: injecting link tag for BokehJS stylesheet: \", url);\n",
       "      document.body.appendChild(element);\n",
       "    }\n",
       "\n",
       "    for (let i = 0; i < js_urls.length; i++) {\n",
       "      const url = js_urls[i];\n",
       "      const element = document.createElement('script');\n",
       "      element.onload = on_load;\n",
       "      element.onerror = on_error.bind(null, url);\n",
       "      element.async = false;\n",
       "      element.src = url;\n",
       "      console.debug(\"Bokeh: injecting script tag for BokehJS library: \", url);\n",
       "      document.head.appendChild(element);\n",
       "    }\n",
       "  };\n",
       "\n",
       "  function inject_raw_css(css) {\n",
       "    const element = document.createElement(\"style\");\n",
       "    element.appendChild(document.createTextNode(css));\n",
       "    document.body.appendChild(element);\n",
       "  }\n",
       "\n",
       "  const js_urls = [\"https://cdn.bokeh.org/bokeh/release/bokeh-2.4.3.min.js\", \"https://cdn.bokeh.org/bokeh/release/bokeh-gl-2.4.3.min.js\", \"https://cdn.bokeh.org/bokeh/release/bokeh-widgets-2.4.3.min.js\", \"https://cdn.bokeh.org/bokeh/release/bokeh-tables-2.4.3.min.js\", \"https://cdn.bokeh.org/bokeh/release/bokeh-mathjax-2.4.3.min.js\"];\n",
       "  const css_urls = [];\n",
       "\n",
       "  const inline_js = [    function(Bokeh) {\n",
       "      Bokeh.set_log_level(\"info\");\n",
       "    },\n",
       "function(Bokeh) {\n",
       "    }\n",
       "  ];\n",
       "\n",
       "  function run_inline_js() {\n",
       "    if (root.Bokeh !== undefined || force === true) {\n",
       "          for (let i = 0; i < inline_js.length; i++) {\n",
       "      inline_js[i].call(root, root.Bokeh);\n",
       "    }\n",
       "if (force === true) {\n",
       "        display_loaded();\n",
       "      }} else if (Date.now() < root._bokeh_timeout) {\n",
       "      setTimeout(run_inline_js, 100);\n",
       "    } else if (!root._bokeh_failed_load) {\n",
       "      console.log(\"Bokeh: BokehJS failed to load within specified timeout.\");\n",
       "      root._bokeh_failed_load = true;\n",
       "    } else if (force !== true) {\n",
       "      const cell = $(document.getElementById(\"1048\")).parents('.cell').data().cell;\n",
       "      cell.output_area.append_execute_result(NB_LOAD_WARNING)\n",
       "    }\n",
       "  }\n",
       "\n",
       "  if (root._bokeh_is_loading === 0) {\n",
       "    console.debug(\"Bokeh: BokehJS loaded, going straight to plotting\");\n",
       "    run_inline_js();\n",
       "  } else {\n",
       "    load_libs(css_urls, js_urls, function() {\n",
       "      console.debug(\"Bokeh: BokehJS plotting callback run at\", now());\n",
       "      run_inline_js();\n",
       "    });\n",
       "  }\n",
       "}(window));"
      ],
      "application/vnd.bokehjs_load.v0+json": "(function(root) {\n  function now() {\n    return new Date();\n  }\n\n  const force = true;\n\n  if (typeof root._bokeh_onload_callbacks === \"undefined\" || force === true) {\n    root._bokeh_onload_callbacks = [];\n    root._bokeh_is_loading = undefined;\n  }\n\n\n  if (typeof (root._bokeh_timeout) === \"undefined\" || force === true) {\n    root._bokeh_timeout = Date.now() + 5000;\n    root._bokeh_failed_load = false;\n  }\n\n  const NB_LOAD_WARNING = {'data': {'text/html':\n     \"<div style='background-color: #fdd'>\\n\"+\n     \"<p>\\n\"+\n     \"BokehJS does not appear to have successfully loaded. If loading BokehJS from CDN, this \\n\"+\n     \"may be due to a slow or bad network connection. Possible fixes:\\n\"+\n     \"</p>\\n\"+\n     \"<ul>\\n\"+\n     \"<li>re-rerun `output_notebook()` to attempt to load from CDN again, or</li>\\n\"+\n     \"<li>use INLINE resources instead, as so:</li>\\n\"+\n     \"</ul>\\n\"+\n     \"<code>\\n\"+\n     \"from bokeh.resources import INLINE\\n\"+\n     \"output_notebook(resources=INLINE)\\n\"+\n     \"</code>\\n\"+\n     \"</div>\"}};\n\n  function display_loaded() {\n    const el = document.getElementById(\"1048\");\n    if (el != null) {\n      el.textContent = \"BokehJS is loading...\";\n    }\n    if (root.Bokeh !== undefined) {\n      if (el != null) {\n        el.textContent = \"BokehJS \" + root.Bokeh.version + \" successfully loaded.\";\n      }\n    } else if (Date.now() < root._bokeh_timeout) {\n      setTimeout(display_loaded, 100)\n    }\n  }\n\n  function run_callbacks() {\n    try {\n      root._bokeh_onload_callbacks.forEach(function(callback) {\n        if (callback != null)\n          callback();\n      });\n    } finally {\n      delete root._bokeh_onload_callbacks\n    }\n    console.debug(\"Bokeh: all callbacks have finished\");\n  }\n\n  function load_libs(css_urls, js_urls, callback) {\n    if (css_urls == null) css_urls = [];\n    if (js_urls == null) js_urls = [];\n\n    root._bokeh_onload_callbacks.push(callback);\n    if (root._bokeh_is_loading > 0) {\n      console.debug(\"Bokeh: BokehJS is being loaded, scheduling callback at\", now());\n      return null;\n    }\n    if (js_urls == null || js_urls.length === 0) {\n      run_callbacks();\n      return null;\n    }\n    console.debug(\"Bokeh: BokehJS not loaded, scheduling load and callback at\", now());\n    root._bokeh_is_loading = css_urls.length + js_urls.length;\n\n    function on_load() {\n      root._bokeh_is_loading--;\n      if (root._bokeh_is_loading === 0) {\n        console.debug(\"Bokeh: all BokehJS libraries/stylesheets loaded\");\n        run_callbacks()\n      }\n    }\n\n    function on_error(url) {\n      console.error(\"failed to load \" + url);\n    }\n\n    for (let i = 0; i < css_urls.length; i++) {\n      const url = css_urls[i];\n      const element = document.createElement(\"link\");\n      element.onload = on_load;\n      element.onerror = on_error.bind(null, url);\n      element.rel = \"stylesheet\";\n      element.type = \"text/css\";\n      element.href = url;\n      console.debug(\"Bokeh: injecting link tag for BokehJS stylesheet: \", url);\n      document.body.appendChild(element);\n    }\n\n    for (let i = 0; i < js_urls.length; i++) {\n      const url = js_urls[i];\n      const element = document.createElement('script');\n      element.onload = on_load;\n      element.onerror = on_error.bind(null, url);\n      element.async = false;\n      element.src = url;\n      console.debug(\"Bokeh: injecting script tag for BokehJS library: \", url);\n      document.head.appendChild(element);\n    }\n  };\n\n  function inject_raw_css(css) {\n    const element = document.createElement(\"style\");\n    element.appendChild(document.createTextNode(css));\n    document.body.appendChild(element);\n  }\n\n  const js_urls = [\"https://cdn.bokeh.org/bokeh/release/bokeh-2.4.3.min.js\", \"https://cdn.bokeh.org/bokeh/release/bokeh-gl-2.4.3.min.js\", \"https://cdn.bokeh.org/bokeh/release/bokeh-widgets-2.4.3.min.js\", \"https://cdn.bokeh.org/bokeh/release/bokeh-tables-2.4.3.min.js\", \"https://cdn.bokeh.org/bokeh/release/bokeh-mathjax-2.4.3.min.js\"];\n  const css_urls = [];\n\n  const inline_js = [    function(Bokeh) {\n      Bokeh.set_log_level(\"info\");\n    },\nfunction(Bokeh) {\n    }\n  ];\n\n  function run_inline_js() {\n    if (root.Bokeh !== undefined || force === true) {\n          for (let i = 0; i < inline_js.length; i++) {\n      inline_js[i].call(root, root.Bokeh);\n    }\nif (force === true) {\n        display_loaded();\n      }} else if (Date.now() < root._bokeh_timeout) {\n      setTimeout(run_inline_js, 100);\n    } else if (!root._bokeh_failed_load) {\n      console.log(\"Bokeh: BokehJS failed to load within specified timeout.\");\n      root._bokeh_failed_load = true;\n    } else if (force !== true) {\n      const cell = $(document.getElementById(\"1048\")).parents('.cell').data().cell;\n      cell.output_area.append_execute_result(NB_LOAD_WARNING)\n    }\n  }\n\n  if (root._bokeh_is_loading === 0) {\n    console.debug(\"Bokeh: BokehJS loaded, going straight to plotting\");\n    run_inline_js();\n  } else {\n    load_libs(css_urls, js_urls, function() {\n      console.debug(\"Bokeh: BokehJS plotting callback run at\", now());\n      run_inline_js();\n    });\n  }\n}(window));"
     },
     "metadata": {},
     "output_type": "display_data"
    }
   ],
   "source": [
    "import bokeh\n",
    "from bokeh.plotting import figure, show, output_notebook\n",
    "from bokeh.models import HoverTool, ColumnDataSource, LabelSet\n",
    "\n",
    "output_notebook()\n",
    "bokeh.io.output_notebook()"
   ]
  },
  {
   "cell_type": "code",
   "execution_count": 40,
   "metadata": {},
   "outputs": [
    {
     "data": {
      "text/html": [
       "\n",
       "  <div class=\"bk-root\" id=\"8690f2db-752d-47d5-8d2b-99a3eceb1821\" data-root-id=\"1373\"></div>\n"
      ]
     },
     "metadata": {},
     "output_type": "display_data"
    },
    {
     "data": {
      "application/javascript": [
       "(function(root) {\n",
       "  function embed_document(root) {\n",
       "  const docs_json = {\"ba7aa875-0640-408d-aeb8-86c1ebe4afea\":{\"defs\":[],\"roots\":{\"references\":[{\"attributes\":{\"below\":[{\"id\":\"1384\"}],\"center\":[{\"id\":\"1387\"},{\"id\":\"1391\"},{\"id\":\"1415\"}],\"left\":[{\"id\":\"1388\"}],\"renderers\":[{\"id\":\"1413\"}],\"title\":{\"id\":\"1374\"},\"toolbar\":{\"id\":\"1399\"},\"x_range\":{\"id\":\"1376\"},\"x_scale\":{\"id\":\"1380\"},\"y_range\":{\"id\":\"1378\"},\"y_scale\":{\"id\":\"1382\"}},\"id\":\"1373\",\"subtype\":\"Figure\",\"type\":\"Plot\"},{\"attributes\":{\"data\":{\"index\":[\"asshole\",\"jerk\",\"rude\",\"inconsiderate\",\"angry\",\"upset\",\"sad\",\"happy\",\"frustrated\",\"friend\",\"family\",\"partner\",\"coworker\",\"neighbor\",\"apologize\",\"forgive\",\"ignore\",\"confront\",\"compromise\",\"right\",\"wrong\",\"justified\",\"unjustified\",\"fair\",\"unfair\",\"honesty\",\"loyalty\",\"respect\",\"kindness\",\"empathy\"],\"x\":{\"__ndarray__\":\"I9j2QnbLI0OsGj1DBYGWxFC5C8OrVR/D6TEMw1/tWsMuQOrCcTNtw69WY8OrN69BToWPwxtxl0M3bylDNOxMQ3dc/UIMq2VBvbqRQHWXeUORU09DglxgQmA+nUIjbNHD/ALFwzqW5kLj3jxCwiSNQ+CzikIbwKDB\",\"dtype\":\"float32\",\"order\":\"little\",\"shape\":[30]},\"y\":{\"__ndarray__\":\"SSQlw4SATcNRs9ND6APlwg9Yl0Hya3vBJvuawrOY28HhdoRCkiMTQzFMR0M60zFDcpDxQhgYmMFOOcNCVjwMQ/Bqc8K8Y53BSQZkQ23KXMK3/TLC91inwq2t5MENA/fCwNEWw/+cfUGraU5CKULbwgURTcOZYwPD\",\"dtype\":\"float32\",\"order\":\"little\",\"shape\":[30]}},\"selected\":{\"id\":\"1458\"},\"selection_policy\":{\"id\":\"1457\"}},\"id\":\"1372\",\"type\":\"ColumnDataSource\"},{\"attributes\":{},\"id\":\"1457\",\"type\":\"UnionRenderers\"},{\"attributes\":{\"overlay\":{\"id\":\"1398\"}},\"id\":\"1394\",\"type\":\"BoxZoomTool\"},{\"attributes\":{},\"id\":\"1456\",\"type\":\"AllLabels\"},{\"attributes\":{},\"id\":\"1395\",\"type\":\"SaveTool\"},{\"attributes\":{},\"id\":\"1382\",\"type\":\"LinearScale\"},{\"attributes\":{\"fill_color\":{\"value\":\"blue\"},\"hatch_color\":{\"value\":\"blue\"},\"size\":{\"value\":10},\"x\":{\"field\":\"x\"},\"y\":{\"field\":\"y\"}},\"id\":\"1411\",\"type\":\"Circle\"},{\"attributes\":{\"tools\":[{\"id\":\"1392\"},{\"id\":\"1393\"},{\"id\":\"1394\"},{\"id\":\"1395\"},{\"id\":\"1396\"},{\"id\":\"1397\"},{\"id\":\"1406\"}]},\"id\":\"1399\",\"type\":\"Toolbar\"},{\"attributes\":{\"fill_alpha\":{\"value\":0.1},\"fill_color\":{\"value\":\"blue\"},\"hatch_alpha\":{\"value\":0.1},\"hatch_color\":{\"value\":\"blue\"},\"line_alpha\":{\"value\":0.1},\"line_color\":{\"value\":\"blue\"},\"size\":{\"value\":10},\"x\":{\"field\":\"x\"},\"y\":{\"field\":\"y\"}},\"id\":\"1410\",\"type\":\"Circle\"},{\"attributes\":{},\"id\":\"1458\",\"type\":\"Selection\"},{\"attributes\":{},\"id\":\"1380\",\"type\":\"LinearScale\"},{\"attributes\":{},\"id\":\"1392\",\"type\":\"PanTool\"},{\"attributes\":{},\"id\":\"1378\",\"type\":\"DataRange1d\"},{\"attributes\":{\"coordinates\":null,\"data_source\":{\"id\":\"1372\"},\"glyph\":{\"id\":\"1409\"},\"group\":null,\"hover_glyph\":{\"id\":\"1411\"},\"muted_glyph\":{\"id\":\"1412\"},\"nonselection_glyph\":{\"id\":\"1410\"},\"view\":{\"id\":\"1414\"}},\"id\":\"1413\",\"type\":\"GlyphRenderer\"},{\"attributes\":{},\"id\":\"1396\",\"type\":\"ResetTool\"},{\"attributes\":{},\"id\":\"1385\",\"type\":\"BasicTicker\"},{\"attributes\":{\"fill_alpha\":{\"value\":0.2},\"fill_color\":{\"value\":\"blue\"},\"hatch_alpha\":{\"value\":0.2},\"hatch_color\":{\"value\":\"blue\"},\"line_alpha\":{\"value\":0.2},\"line_color\":{\"value\":\"blue\"},\"size\":{\"value\":10},\"x\":{\"field\":\"x\"},\"y\":{\"field\":\"y\"}},\"id\":\"1412\",\"type\":\"Circle\"},{\"attributes\":{\"bottom_units\":\"screen\",\"coordinates\":null,\"fill_alpha\":0.5,\"fill_color\":\"lightgrey\",\"group\":null,\"left_units\":\"screen\",\"level\":\"overlay\",\"line_alpha\":1.0,\"line_color\":\"black\",\"line_dash\":[4,4],\"line_width\":2,\"right_units\":\"screen\",\"syncable\":false,\"top_units\":\"screen\"},\"id\":\"1398\",\"type\":\"BoxAnnotation\"},{\"attributes\":{\"coordinates\":null,\"formatter\":{\"id\":\"1455\"},\"group\":null,\"major_label_policy\":{\"id\":\"1456\"},\"ticker\":{\"id\":\"1385\"}},\"id\":\"1384\",\"type\":\"LinearAxis\"},{\"attributes\":{\"coordinates\":null,\"group\":null,\"level\":\"glyph\",\"source\":{\"id\":\"1372\"},\"text\":{\"field\":\"index\"},\"x\":{\"field\":\"x\"},\"x_offset\":{\"value\":5},\"y\":{\"field\":\"y\"},\"y_offset\":{\"value\":5}},\"id\":\"1415\",\"type\":\"LabelSet\"},{\"attributes\":{},\"id\":\"1397\",\"type\":\"HelpTool\"},{\"attributes\":{},\"id\":\"1389\",\"type\":\"BasicTicker\"},{\"attributes\":{\"callback\":null,\"tooltips\":\"@index\"},\"id\":\"1406\",\"type\":\"HoverTool\"},{\"attributes\":{},\"id\":\"1376\",\"type\":\"DataRange1d\"},{\"attributes\":{},\"id\":\"1455\",\"type\":\"BasicTickFormatter\"},{\"attributes\":{\"coordinates\":null,\"group\":null,\"text\":\"t-SNE Word Embeddings\"},\"id\":\"1374\",\"type\":\"Title\"},{\"attributes\":{},\"id\":\"1393\",\"type\":\"WheelZoomTool\"},{\"attributes\":{\"coordinates\":null,\"formatter\":{\"id\":\"1452\"},\"group\":null,\"major_label_policy\":{\"id\":\"1453\"},\"ticker\":{\"id\":\"1389\"}},\"id\":\"1388\",\"type\":\"LinearAxis\"},{\"attributes\":{\"fill_color\":{\"value\":\"blue\"},\"hatch_color\":{\"value\":\"blue\"},\"line_color\":{\"value\":\"blue\"},\"size\":{\"value\":10},\"x\":{\"field\":\"x\"},\"y\":{\"field\":\"y\"}},\"id\":\"1409\",\"type\":\"Circle\"},{\"attributes\":{\"axis\":{\"id\":\"1384\"},\"coordinates\":null,\"group\":null,\"ticker\":null},\"id\":\"1387\",\"type\":\"Grid\"},{\"attributes\":{},\"id\":\"1453\",\"type\":\"AllLabels\"},{\"attributes\":{},\"id\":\"1452\",\"type\":\"BasicTickFormatter\"},{\"attributes\":{\"source\":{\"id\":\"1372\"}},\"id\":\"1414\",\"type\":\"CDSView\"},{\"attributes\":{\"axis\":{\"id\":\"1388\"},\"coordinates\":null,\"dimension\":1,\"group\":null,\"ticker\":null},\"id\":\"1391\",\"type\":\"Grid\"}],\"root_ids\":[\"1373\"]},\"title\":\"Bokeh Application\",\"version\":\"2.4.3\"}};\n",
       "  const render_items = [{\"docid\":\"ba7aa875-0640-408d-aeb8-86c1ebe4afea\",\"root_ids\":[\"1373\"],\"roots\":{\"1373\":\"8690f2db-752d-47d5-8d2b-99a3eceb1821\"}}];\n",
       "  root.Bokeh.embed.embed_items_notebook(docs_json, render_items);\n",
       "  }\n",
       "  if (root.Bokeh !== undefined) {\n",
       "    embed_document(root);\n",
       "  } else {\n",
       "    let attempts = 0;\n",
       "    const timer = setInterval(function(root) {\n",
       "      if (root.Bokeh !== undefined) {\n",
       "        clearInterval(timer);\n",
       "        embed_document(root);\n",
       "      } else {\n",
       "        attempts++;\n",
       "        if (attempts > 100) {\n",
       "          clearInterval(timer);\n",
       "          console.log(\"Bokeh: ERROR: Unable to run BokehJS code because BokehJS library is missing\");\n",
       "        }\n",
       "      }\n",
       "    }, 10, root)\n",
       "  }\n",
       "})(window);"
      ],
      "application/vnd.bokehjs_exec.v0+json": ""
     },
     "metadata": {
      "application/vnd.bokehjs_exec.v0+json": {
       "id": "1373"
      }
     },
     "output_type": "display_data"
    }
   ],
   "source": [
    "# Add our DataFrame as a ColumnDataSource for Bokeh\n",
    "plot_data = ColumnDataSource(words_df)\n",
    "\n",
    "# Create the plot and configure the title, dimensions, and tools\n",
    "tsne_plot = figure(title='t-SNE Word Embeddings')\n",
    "\n",
    "# Add a hover tool to display words on roll-over\n",
    "tsne_plot.add_tools(HoverTool(tooltips='@index'))\n",
    "\n",
    "# Draw the words as circles on the plot\n",
    "tsne_plot.circle('x', 'y',\n",
    "                 source=plot_data,\n",
    "                 color='blue',\n",
    "                 size=10,\n",
    "                 hover_line_color='black')\n",
    "\n",
    "# Add labels to the points\n",
    "labels = LabelSet(x='x', y='y', text='index', level='glyph',\n",
    "                  x_offset=5, y_offset=5, source=plot_data,\n",
    "                  render_mode='canvas')\n",
    "tsne_plot.add_layout(labels)\n",
    "\n",
    "# Engage!\n",
    "show(tsne_plot)"
   ]
  },
  {
   "cell_type": "markdown",
   "metadata": {
    "id": "9EF6bB0rVReh"
   },
   "source": [
    "Now let's use $t$-SNE to take **all** the word vectors."
   ]
  },
  {
   "cell_type": "code",
   "execution_count": 41,
   "metadata": {},
   "outputs": [],
   "source": [
    "tsne = TSNE(init='pca', learning_rate='auto')\n",
    "X_tsne = tsne.fit_transform(model.wv.vectors)"
   ]
  },
  {
   "cell_type": "markdown",
   "metadata": {},
   "source": [
    "We have our low dimensional representation. Now, let's store the 2 dimensions in a dataframe, with the word as the index:"
   ]
  },
  {
   "cell_type": "code",
   "execution_count": 42,
   "metadata": {},
   "outputs": [],
   "source": [
    "# Store the t-SNE vectors\n",
    "tsne_df = pd.DataFrame(X_tsne,\n",
    "                       index=pd.Index(model.wv.index_to_key),\n",
    "                       columns=['x', 'y'])"
   ]
  },
  {
   "cell_type": "code",
   "execution_count": 43,
   "metadata": {
    "id": "jd60bqFxe9z1"
   },
   "outputs": [],
   "source": [
    "# Create some filepaths to save our model\n",
    "tsne_path = '../../data/tsne_model'\n",
    "tsne_df_path = '../../data/tsne_df.pkl'"
   ]
  },
  {
   "cell_type": "code",
   "execution_count": 44,
   "metadata": {
    "id": "QBe7lNE3e7oQ"
   },
   "outputs": [],
   "source": [
    "# Save to disk\n",
    "with open(tsne_path, 'wb') as f:\n",
    "    pickle.dump(X_tsne, f)\n",
    "\n",
    "tsne_df.to_pickle(tsne_df_path)"
   ]
  },
  {
   "cell_type": "markdown",
   "metadata": {},
   "source": [
    "Here's a convenient code block to load this data, to start from this point:"
   ]
  },
  {
   "cell_type": "code",
   "execution_count": 45,
   "metadata": {},
   "outputs": [],
   "source": [
    "with open(tsne_path, 'rb') as f:\n",
    "    X_tsne = pickle.load(f)\n",
    "    \n",
    "tsne_df = pd.read_pickle(tsne_df_path)"
   ]
  },
  {
   "cell_type": "code",
   "execution_count": 46,
   "metadata": {
    "colab": {
     "base_uri": "https://localhost:8080/",
     "height": 817
    },
    "executionInfo": {
     "elapsed": 747,
     "status": "ok",
     "timestamp": 1640017607454,
     "user": {
      "displayName": "Tom van Nuenen",
      "photoUrl": "https://lh3.googleusercontent.com/a-/AOh14GhuBmxDvW5I_LJfZtwlPqMFD8QGLVPP3skvpkTnuQ=s64",
      "userId": "10012302451096885058"
     },
     "user_tz": -60
    },
    "id": "myJtActVdjn4",
    "outputId": "5f283a90-c0f4-4c31-88ea-5f7bfa6917ee",
    "tags": []
   },
   "outputs": [
    {
     "data": {
      "text/html": [
       "\n",
       "  <div class=\"bk-root\" id=\"e9168e54-478e-41ab-86d4-0c412a0ea003\" data-root-id=\"1511\"></div>\n"
      ]
     },
     "metadata": {},
     "output_type": "display_data"
    },
    {
     "data": {
      "application/javascript": [
       "(function(root) {\n",
       "  function embed_document(root) {\n",
       "  const docs_json = {\"373c1507-962c-47c2-99ae-74e10021fc3a\":{\"defs\":[],\"roots\":{\"references\":[{\"attributes\":{\"below\":[{\"id\":\"1522\"}],\"center\":[{\"id\":\"1525\"},{\"id\":\"1529\"}],\"left\":[{\"id\":\"1526\"}],\"renderers\":[{\"id\":\"1551\"}],\"title\":{\"id\":\"1512\"},\"toolbar\":{\"id\":\"1537\"},\"x_range\":{\"id\":\"1514\"},\"x_scale\":{\"id\":\"1518\"},\"y_range\":{\"id\":\"1516\"},\"y_scale\":{\"id\":\"1520\"}},\"id\":\"1511\",\"subtype\":\"Figure\",\"type\":\"Plot\"},{\"attributes\":{\"tools\":[{\"id\":\"1530\"},{\"id\":\"1531\"},{\"id\":\"1532\"},{\"id\":\"1533\"},{\"id\":\"1534\"},{\"id\":\"1535\"},{\"id\":\"1544\"}]},\"id\":\"1537\",\"type\":\"Toolbar\"},{\"attributes\":{},\"id\":\"1520\",\"type\":\"LinearScale\"},{\"attributes\":{\"axis\":{\"id\":\"1526\"},\"coordinates\":null,\"dimension\":1,\"group\":null,\"ticker\":null},\"id\":\"1529\",\"type\":\"Grid\"},{\"attributes\":{\"overlay\":{\"id\":\"1536\"}},\"id\":\"1532\",\"type\":\"BoxZoomTool\"},{\"attributes\":{},\"id\":\"1516\",\"type\":\"DataRange1d\"},{\"attributes\":{},\"id\":\"1527\",\"type\":\"BasicTicker\"},{\"attributes\":{\"axis\":{\"id\":\"1522\"},\"coordinates\":null,\"group\":null,\"ticker\":null},\"id\":\"1525\",\"type\":\"Grid\"},{\"attributes\":{},\"id\":\"1534\",\"type\":\"ResetTool\"},{\"attributes\":{},\"id\":\"1530\",\"type\":\"PanTool\"},{\"attributes\":{},\"id\":\"1523\",\"type\":\"BasicTicker\"},{\"attributes\":{},\"id\":\"1601\",\"type\":\"BasicTickFormatter\"},{\"attributes\":{},\"id\":\"1533\",\"type\":\"SaveTool\"},{\"attributes\":{},\"id\":\"1603\",\"type\":\"UnionRenderers\"},{\"attributes\":{\"fill_alpha\":{\"value\":0.1},\"fill_color\":{\"value\":\"blue\"},\"hatch_alpha\":{\"value\":0.1},\"hatch_color\":{\"value\":\"blue\"},\"line_alpha\":{\"value\":0.1},\"line_color\":{\"value\":\"blue\"},\"size\":{\"value\":10},\"x\":{\"field\":\"x\"},\"y\":{\"field\":\"y\"}},\"id\":\"1548\",\"type\":\"Circle\"},{\"attributes\":{},\"id\":\"1599\",\"type\":\"AllLabels\"},{\"attributes\":{},\"id\":\"1598\",\"type\":\"BasicTickFormatter\"},{\"attributes\":{\"coordinates\":null,\"formatter\":{\"id\":\"1601\"},\"group\":null,\"major_label_policy\":{\"id\":\"1602\"},\"ticker\":{\"id\":\"1523\"}},\"id\":\"1522\",\"type\":\"LinearAxis\"},{\"attributes\":{\"coordinates\":null,\"group\":null,\"text\":\"t-SNE Word Embeddings\"},\"id\":\"1512\",\"type\":\"Title\"},{\"attributes\":{},\"id\":\"1518\",\"type\":\"LinearScale\"},{\"attributes\":{},\"id\":\"1602\",\"type\":\"AllLabels\"},{\"attributes\":{\"fill_alpha\":{\"value\":0.1},\"fill_color\":{\"value\":\"blue\"},\"hatch_color\":{\"value\":\"blue\"},\"line_alpha\":{\"value\":0.2},\"line_color\":{\"value\":\"blue\"},\"size\":{\"value\":10},\"x\":{\"field\":\"x\"},\"y\":{\"field\":\"y\"}},\"id\":\"1547\",\"type\":\"Circle\"},{\"attributes\":{\"data\":{\"index\":[\"like\",\"want\",\"think\",\"people\",\"know\",\"asshole\",\"nta\",\"time\",\"op\",\"thing\",\"yta\",\"need\",\"kid\",\"tell\",\"way\",\"feel\",\"good\",\"child\",\"friend\",\"try\",\"right\",\"work\",\"ask\",\"parent\",\"come\",\"sound\",\"year\",\"relationship\",\"mean\",\"life\",\"family\",\"person\",\"woman\",\"use\",\"bad\",\"guy\",\"talk\",\"help\",\"let\",\"look\",\"situation\",\"day\",\"pay\",\"probably\",\"wife\",\">\",\"maybe\",\"fuck\",\"find\",\"leave\",\"man\",\"sure\",\"lot\",\"care\",\"old\",\"shit\",\"money\",\"wrong\",\"post\",\"reason\",\"understand\",\"love\",\"point\",\"girl\",\"agree\",\"actually\",\"mom\",\"issue\",\"happen\",\"long\",\"sex\",\"change\",\"home\",\"live\",\"husband\",\"comment\",\"stop\",\"kind\",\"pretty\",\"yeah\",\"daughter\",\"start\",\"big\",\"problem\",\"little\",\"job\",\"date\",\"baby\",\"place\",\"break\",\"dog\",\"hard\",\"definitely\",\"end\",\"mother\",\"fact\",\"away\",\"sister\",\"expect\",\"different\",\"eat\",\"dad\",\"yes\",\"house\",\"deal\",\"especially\",\"school\",\"nah\",\"act\",\"food\",\"partner\",\"read\",\"girlfriend\",\"matter\",\"instead\",\"support\",\"dude\",\"adult\",\"bring\",\"consider\",\"feeling\",\"bit\",\"month\",\"hurt\",\"stay\",\"new\",\"learn\",\"spend\",\"hope\",\"decide\",\"honestly\",\"sorry\",\"boyfriend\",\"wedding\",\"believe\",\"brother\",\"absolutely\",\"literally\",\"ex\",\"father\",\"week\",\"son\",\"case\",\"real\",\"behavior\",\"plan\",\"clearly\",\"able\",\"choice\",\"buy\",\"hour\",\"idea\",\"respect\",\"allow\",\"choose\",\"completely\",\"lie\",\"important\",\"decision\",\"stuff\",\"cause\",\"assume\",\"esh\",\"okay\",\"treat\",\"exactly\",\"trust\",\"lose\",\"play\",\"upset\",\"turn\",\"hear\",\"mind\",\"grow\",\"fucking\",\"suck\",\"word\",\"nice\",\"control\",\"great\",\"fine\",\"sleep\",\"young\",\"$\",\"likely\",\"experience\",\"edit\",\"body\",\"question\",\"obviously\",\"thank\",\"deserve\",\"opinion\",\"cheat\",\"high\",\"story\",\"share\",\"shitty\",\"far\",\"happy\",\"hate\",\"night\",\"weird\",\"clear\",\"realize\",\"car\",\"age\",\"seriously\",\"room\",\"rule\",\"mention\",\"etc\",\"force\",\"totally\",\"party\",\"handle\",\"gf\",\"free\",\"ass\",\"accept\",\"wait\",\"normal\",\"explain\",\"ok\",\"marry\",\"set\",\"speak\",\"close\",\"hand\",\"sit\",\"cut\",\"conversation\",\"easy\",\"joke\",\"future\",\"action\",\"watch\",\"gift\",\"responsibility\",\"hell\",\"couple\",\"wear\",\"guess\",\"world\",\"oh\",\"s\",\"fair\",\"walk\",\"imagine\",\"pregnant\",\"run\",\"rude\",\"excuse\",\"line\",\"second\",\"raise\",\"stand\",\"lol\",\"dick\",\"throw\",\"business\",\"uncomfortable\",\"chance\",\"offer\",\"face\",\"meet\",\"huge\",\"pick\",\"base\",\"marriage\",\"state\",\"course\",\"answer\",\"possible\",\"fault\",\"response\",\"head\",\"abuse\",\"basically\",\"open\",\"sense\",\"small\",\"step\",\"clean\",\"super\",\"fun\",\"hold\",\"drive\",\"cat\",\"send\",\"law\",\"healthy\",\"die\",\"enjoy\",\"wish\",\"personal\",\"teach\",\"phone\",\"refuse\",\"continue\",\"willing\",\"single\",\"term\",\"stupid\",\"later\",\"reasonable\",\"true\",\"blame\",\"straight\",\"check\",\"sort\",\"type\",\"boundary\",\"hair\",\"ignore\",\"human\",\"order\",\"worth\",\"group\",\"suggest\",\"past\",\"include\",\"honest\",\"apologize\",\"add\",\"involve\",\"option\",\"poor\",\"usually\",\"mad\",\"college\",\"trip\",\"info\",\"invite\",\"concern\",\"reaction\",\"save\",\"remember\",\"selfish\",\"pregnancy\",\"sub\",\"level\",\"view\",\"difference\",\"figure\",\"minute\",\"entitle\",\"half\",\"damn\",\"gay\",\"game\",\"write\",\"suppose\",\"entire\",\"sexual\",\"birthday\",\"comfortable\",\"advice\",\"miss\",\"drink\",\"boy\",\"listen\",\"cook\",\"divorce\",\"push\",\"kick\",\"cool\",\"seat\",\"risk\",\"safe\",\"rest\",\"ruin\",\"thought\",\"personally\",\"common\",\"pass\",\"class\",\"emotional\",\"bed\",\"bother\",\"follow\",\"bf\",\"regardless\",\"cost\",\"event\",\"anymore\",\"wonder\",\"extremely\",\"fight\",\"early\",\"hang\",\"tip\",\"stick\",\"public\",\"owe\",\"actual\",\"god\",\"moment\",\"ago\",\"sign\",\"abusive\",\"argument\",\"black\",\"dinner\",\"pull\",\"attention\",\"discuss\",\"simply\",\"hit\",\"mistake\",\"contact\",\"ta\",\"picture\",\"space\",\"steal\",\"value\",\"weight\",\"kinda\",\"white\",\"judge\",\"responsible\",\"extra\",\"avoid\",\"angry\",\"touch\",\"therapy\",\"self\",\"kill\",\"terrible\",\"crazy\",\"provide\",\"similar\",\"effort\",\"soon\",\"teacher\",\"worry\",\"reddit\",\"meal\",\"pain\",\"difficult\",\"roommate\",\"forget\",\"incredibly\",\"doctor\",\"health\",\"outside\",\"non\",\"claim\",\"position\",\"thread\",\"lead\",\"animal\",\"example\",\"drop\",\"ready\",\"gender\",\"certain\",\"service\",\"disagree\",\"consequence\",\"late\",\"ridiculous\",\"stranger\",\"racist\",\"legal\",\"cry\",\"female\",\"plus\",\"hide\",\"luck\",\"doubt\",\"hey\",\"bullshit\",\"rent\",\"judgement\",\"fix\",\"mess\",\"lack\",\"affect\",\"depend\",\"require\",\"information\",\"birth\",\"notice\",\"perfectly\",\"student\",\"bitch\",\"petty\",\"afford\",\"react\",\"justify\",\"argue\",\"demand\",\"certainly\",\"report\",\"eye\",\"bear\",\"compromise\",\"rape\",\"private\",\"correct\",\"period\",\"male\",\"sick\",\"laugh\",\"imo\",\"immediately\",\"number\",\"awful\",\"respond\",\"special\",\"married\",\"complain\",\"admit\",\"account\",\"movie\",\"communicate\",\"funny\",\"door\",\"country\",\"consent\",\"sibling\",\"low\",\"social\",\"short\",\"bill\",\"friendship\",\"major\",\"cover\",\"perspective\",\"possibly\",\"insult\",\"text\",\"appreciate\",\"easily\",\"interest\",\"interested\",\"member\",\"struggle\",\"restaurant\",\"damage\",\"protect\",\"pet\",\"horrible\",\"sad\",\"truth\",\"physical\",\"company\",\"professional\",\"message\",\"history\",\"fire\",\"behaviour\",\"book\",\"vegan\",\"attitude\",\"aware\",\"piece\",\"property\",\"meat\",\"obvious\",\"create\",\"general\",\"win\",\"truly\",\"medical\",\"shame\",\"bathroom\",\"culture\",\"discussion\",\"blow\",\"expensive\",\"wow\",\"fit\",\"present\",\"multiple\",\"request\",\"describe\",\"catch\",\"test\",\"opportunity\",\"gross\",\"dumb\",\"victim\",\"appropriate\",\"specifically\",\"bet\",\"middle\",\"fat\",\"drunk\",\"police\",\"plenty\",\"stress\",\"emotionally\",\"exist\",\"area\",\"dump\",\"waste\",\"simple\",\"reply\",\"abortion\",\"intention\",\"financial\",\"carry\",\"strong\",\"process\",\"entirely\",\"heart\",\"specific\",\"feed\",\"surprised\",\"fake\",\"immature\",\"fail\",\"guest\",\"trouble\",\"fall\",\"large\",\"express\",\"apparently\",\"context\",\"dress\",\"creepy\",\"pressure\",\"valid\",\"fully\",\"generally\",\"boss\",\"visit\",\"internet\",\"language\",\"ground\",\"approach\",\"scenario\",\"teenager\",\"result\",\"sell\",\"obligation\",\"advantage\",\"defend\",\"hopefully\",\"piss\",\"glad\",\"condom\",\"wtf\",\"employee\",\"vacation\",\"bully\",\"therapist\",\"cousin\",\"attract\",\"religion\",\"lady\",\"dead\",\"attempt\",\"scream\",\"tough\",\"yell\",\"weekend\",\"note\",\"split\",\"charge\",\"table\",\"complete\",\"form\",\"shower\",\"trans\",\"expectation\",\"remove\",\"suffer\",\"physically\",\"detail\",\"constantly\",\"death\",\"harm\",\"unreasonable\",\"prove\",\"benefit\",\"belief\",\"threaten\",\"wake\",\"effect\",\"worried\",\"manipulative\",\"owner\",\"coworker\",\"eventually\",\"pretend\",\"toxic\",\"insecure\",\"address\",\"perfect\",\"communication\",\"reality\",\"solution\",\"list\",\"r\",\"dish\",\"punish\",\"focus\",\"spouse\",\"manager\",\"red_flag\",\"genuinely\",\"career\",\"light\",\"card\",\"court\",\"safety\",\"attack\",\"spot\",\"fear\",\"shp\",\"store\",\"build\",\"mature\",\"adopt\",\"behave\",\"dangerous\",\"preference\",\"reach\",\"separate\",\"system\",\"shut\",\"regard\",\"sake\",\"return\",\"necessarily\",\"random\",\"clothe\",\"despite\",\"manage\",\"fast\",\"somebody\",\"water\",\"finally\",\"jerk\",\"encourage\",\"imply\",\"team\",\"offend\",\"favor\",\"lesson\",\"exact\",\"ring\",\"understandable\",\"seek\",\"idiot\",\"porn\",\"foot\",\"smell\",\"photo\",\"emotion\",\"total\",\"diet\",\"near\",\"current\",\"attend\",\"power\",\"apartment\",\"circumstance\",\"holy\",\"remind\",\"depression\",\"tattoo\",\"basic\",\"grade\",\"disrespectful\",\"standard\",\"mental_health\",\"bar\",\"promise\",\"tbh\",\"surprise\",\"apply\",\"inappropriate\",\"condition\",\"loss\",\"potential\",\"directly\",\"contribute\",\"apology\",\"annoy\",\"pissed\",\"cheap\",\"study\",\"degree\",\"agreement\",\"prefer\",\"bunch\",\"zero\",\"destroy\",\"anger\",\"drug\",\"differently\",\"annoying\",\"community\",\"begin\",\"potentially\",\"ahead\",\"decent\",\"anxiety\",\"massive\",\"acceptable\",\"legally\",\"receive\",\"suddenly\",\"lawyer\",\"unfair\",\"limit\",\"train\",\"forward\",\"religious\",\"understanding\",\"earn\",\"compare\",\"mental\",\"jump\",\"customer\",\"smart\",\"toy\",\"negative\",\"quit\",\"idk\",\"hot\",\"mum\",\"office\",\"concerned\",\"loud\",\"insist\",\"assumption\",\"serve\",\"unfortunately\",\"aside\",\"topic\",\"equal\",\"ability\",\"permission\",\"count\",\"size\",\"manipulate\",\"deep\",\"blood\",\"amazing\",\"+\",\"secret\",\"neighbor\",\"ton\",\"gym\",\"schedule\",\"essentially\",\"punishment\",\"jesus\",\"debt\",\"aita\",\"sexist\",\"tend\",\"disgusting\",\"insecurity\",\"society\",\"impact\",\"ride\",\"awkward\",\"desire\",\"afraid\",\"wanna\",\"ticket\",\"bc\",\"travel\",\"jealous\",\"lock\",\"price\",\"prevent\",\"attractive\",\"activity\",\"insane\",\"shoe\",\"teen\",\"gun\",\"relate\",\"online\",\"original\",\"positive\",\"brain\",\"block\",\"drama\",\"twice\",\"today\",\"purpose\",\"forever\",\"chore\",\"actively\",\"financially\",\"disability\",\"switch\",\"cheating\",\"judgment\",\"troll\",\"income\",\"cop\",\"skill\",\"guarantee\",\"freak\",\"trash\",\"necessary\",\"lay\",\"recommend\",\"frankly\",\"hospital\",\"validation\",\"obligate\",\"inside\",\"quick\",\"illegal\",\"wash\",\"aunt\",\"polite\",\"birth_control\",\"item\",\"minor\",\"role\",\"park\",\"grandparent\",\"lmao\",\"childish\",\"guilty\",\"prepare\",\"beat\",\"nta-\",\"education\",\"screw\",\"comfort\",\"disorder\",\"statement\",\"celebrate\",\"odd\",\"key\",\"hole\",\"extreme\",\"access\",\"develop\",\"recognize\",\"lucky\",\"road\",\"practice\",\"hire\",\"priority\",\"acknowledge\",\"smoke\",\"supportive\",\"tired\",\"race\",\"downvote\",\"kiss\",\"tv\",\"lunch\",\"i'm\",\"sexuality\",\"living\",\"ultimately\",\"dream\",\"sensitive\",\"title\",\"logic\",\"finish\",\"harsh\",\"refer\",\"hormone\",\"bag\",\"cruel\",\"custody\",\"grab\",\"engage\",\"double\",\"morning\",\"guilt\",\"convince\",\"privacy\",\"intend\",\"parenting\",\"reject\",\"cancer\",\"calm\",\"household\",\"fiance\",\"record\",\"memory\",\"accident\",\"subject\",\"source\",\"bro\",\"environment\",\"moral\",\"video\",\"properly\",\"grown\",\"significant\",\"particular\",\"assault\",\"holiday\",\"b\",\"character\",\"deny\",\"disrespect\",\"quickly\",\"project\",\"capable\",\"welcome\",\"lazy\",\"host\",\"trauma\",\"church\",\"emergency\",\"cash\",\"vote\",\"regular\",\"treatment\",\"grandma\",\"badly\",\"replace\",\"mil\",\"regret\",\"mouth\",\"empathy\",\"abandon\",\"individual\",\"overreact\",\"sweet\",\"barely\",\"forgive\",\"manner\",\"evidence\",\"expense\",\"opposite\",\"biological\",\"explanation\",\"kitchen\",\"hobby\",\"currently\",\"u\",\"gain\",\"confront\",\"join\",\"phrase\",\"x\",\"resent\",\"egg\",\"yep\",\"absolute\",\"=\",\"awesome\",\"draw\",\"crap\",\"normally\",\"intentionally\",\"finance\",\"average\",\"romantic\",\"street\",\"proper\",\"english\",\"cold\",\"possibility\",\"research\",\"quality\",\"proud\",\"accuse\",\"tie\",\"solve\",\"recently\",\"toddler\",\"shitpost\",\"dance\",\"christmas\",\"available\",\"alcohol\",\"sentence\",\"nope\",\"tear\",\"bus\",\"you're\",\"cooking\",\"buddy\",\"knock\",\"cross\",\"vegetarian\",\"sacrifice\",\"knowledge\",\"cake\",\"btw\",\"penis\",\"bi\",\"natural\",\"delete\",\"local\",\"hook\",\"habit\",\"unhealthy\",\"embarrassed\",\"city\",\"burden\",\"realise\",\"policy\",\"respectful\",\"busy\",\"careful\",\"noise\",\"painful\",\"taste\",\"technically\",\"disabled\",\"maintain\",\"server\",\"creep\",\"suspect\",\"ban\",\"silly\",\"particularly\",\"quiet\",\"commit\",\"fairly\",\"bedroom\",\"strange\",\"friendly\",\"confirm\",\"inform\",\"inconsiderate\",\"equally\",\"main\",\"factor\",\"voice\",\"town\",\"dollar\",\"helpful\",\"ultimatum\",\"loan\",\"slightly\",\"curious\",\"cancel\",\"personality\",\"and/or\",\"favorite\",\"exclude\",\"color\",\"haha\",\"childhood\",\"anyways\",\"interaction\",\"ball\",\"threat\",\"murder\",\"escalate\",\"resentment\",\"previous\",\"innocent\",\"american\",\"reasoning\",\"fly\",\"ghost\",\"everybody\",\"rate\",\"lifestyle\",\"counseling\",\"identity\",\"autistic\",\"scare\",\"shift\",\"scene\",\"news\",\"ignorant\",\"danger\",\"thinking\",\"crime\",\"confused\",\"bride\",\"distance\",\"compliment\",\"hurtful\",\"fianc\\u00e9\",\"direct\",\"fill\",\"pizza\",\"mate\",\"donate\",\"nearly\",\"grief\",\"goal\",\"bite\",\"labor\",\"music\",\"subreddit\",\"floor\",\"d\",\"uncle\",\"insurance\",\"shot\",\"conflict\",\"relative\",\"match\",\"aggressive\",\"bond\",\"burn\",\"style\",\"coffee\",\"upvote\",\"poorly\",\"improve\",\"entitled\",\"fund\",\"majority\",\"shirt\",\"social_medium\",\"dislike\",\"military\",\"patient\",\"pill\",\"staff\",\"cute\",\"funeral\",\"arrangement\",\"advance\",\"box\",\"identify\",\"relevant\",\"proof\",\"email\",\"driver\",\"function\",\"credit\",\"window\",\"hotel\",\"lean\",\"board\",\"dynamic\",\"yta-\",\"better\",\"surgery\",\"yea\",\"rid\",\"ah\",\"update\",\"severe\",\"naked\",\"niece\",\"grieve\",\"homophobic\",\"flight\",\"belong\",\"folk\",\"shop\",\"remain\",\"skin\",\"offensive\",\"prank\",\"lease\",\"couch\",\"enter\",\"interact\",\"flip\",\"passive_aggressive\",\"link\",\"definition\",\"autism\",\"accord\",\"commitment\",\"interesting\",\"crush\",\"violate\",\"warn\",\"facebook\",\"repeat\",\"regularly\",\"impossible\",\"explicitly\",\"field\",\"prior\",\"expose\",\"warning\",\"allergy\",\"beautiful\",\"payment\",\"aspect\",\"nasty\",\"worker\",\"resource\",\"grandmother\",\"million\",\"apologise\",\"leg\",\"letter\",\"harass\",\"peace\",\"path\",\"beginning\",\"arm\",\"shock\",\"decade\",\"miserable\",\"repeatedly\",\"university\",\"accommodate\",\"appear\",\"connection\",\"mentally\",\"tiny\",\"dark\",\"debate\",\"adoption\",\"delivery\",\"dare\",\"participate\",\"authority\",\"chat\",\"homeless\",\"revenge\",\"drag\",\"sport\",\"track\",\"deeply\",\"violence\",\"suggestion\",\"irrelevant\",\"instance\",\"earth\",\"sexually\",\"blind\",\"pursue\",\"legitimate\",\"wall\",\"budget\",\"image\",\"twin\",\"trigger\",\"enable\",\"racism\",\"flat\",\"cheater\",\"rough\",\"establish\",\"unnecessary\",\"newborn\",\"purchase\",\"cunt\",\"shoot\",\"ya\",\"tone\",\"ugly\",\"automatically\",\"dictate\",\"clarify\",\"tho\",\"alternative\",\"highly\",\"red\",\"politely\",\"art\",\"presumably\",\"anybody\",\"strongly\",\"paint\",\"scared\",\"stressful\",\"incident\",\"defensive\",\"concept\",\"roll\",\"energy\",\"meeting\",\"contract\",\"scary\",\"pack\",\"happiness\",\"punch\",\"bs\",\"paper\",\"unable\",\"neglect\",\"associate\",\"google\",\"apart\",\"mood\",\"irresponsible\",\"consideration\",\"chill\",\"disease\",\"slight\",\"faith\",\"appearance\",\"garbage\",\"excited\",\"yup\",\"page\",\"abuser\",\"occur\",\"foster\",\"teenage\",\"club\",\"daily\",\"pant\",\"genuine\",\"computer\",\"pee\",\"grateful\",\"dirty\",\"justified\",\"/r\",\"propose\",\"medication\",\"app\",\"hug\",\"program\",\"commenter\",\"grandchild\",\"frustration\",\"sue\",\"vagina\",\"duty\",\"skip\",\"mental_illness\",\"plate\",\"overall\",\"trick\",\"somewhat\",\"breast\",\"ensure\",\"indicate\",\"suit\",\"product\",\"intimate\",\"ill\",\"rich\",\"nature\",\"inconvenience\",\"insensitive\",\"depressed\",\"invest\",\"version\",\"nurse\",\"med\",\"heavy\",\"sympathy\",\"accidentally\",\"bio\",\"flirt\",\"stage\",\"typically\",\"grant\",\"video_game\",\"task\",\"material\",\"snap\",\"deliberately\",\"mutual\",\"load\",\"rare\",\"spread\",\"pop\",\"violent\",\"giant\",\"vs\",\"mile\",\"lesbian\",\"decline\",\"hint\",\"rely\",\"false\",\"texte\",\"tinder\",\"asap\",\"weed\",\"makeup\",\"got\",\"training\",\"ashamed\",\"jesus_christ\",\"sil\",\"overweight\",\"nephew\",\"rub\",\"exercise\",\"method\",\"file\",\"speech\",\"surely\",\"finger\",\"wonderful\",\"fantasy\",\"hr\",\"ytayou\",\"bisexual\",\"determine\",\"pre\",\"cps\",\"disregard\",\"impression\",\"ops\",\"hilarious\",\"relax\",\"attraction\",\"intent\",\"boob\",\"wise\",\"pro\",\"spoil\",\"blue\",\"honor\",\"milk\",\"graduate\",\"laundry\",\"honesty\",\"successful\",\"air\",\"embarrass\",\"beg\",\"af\",\"effective\",\"tradition\",\"bridesmaid\",\"till\",\"bias\",\"frame\",\"increase\",\"dismiss\",\"target\",\"transphobic\",\"trap\",\"object\",\"security\",\"parking\",\"enforce\",\"discipline\",\"final\",\"omg\",\"shoulder\",\"territory\",\"slow\",\"theirs\",\"affair\",\"rock\",\"rational\",\"grocery\",\"addiction\",\"bottle\",\"outcome\",\"educate\",\"christian\",\"unacceptable\",\"nude\",\"spite\",\"toilet\",\"rip\",\"fish\",\"management\",\"snack\",\"diaper\",\"symptom\",\"complaint\",\"resolve\",\"challenge\",\"rarely\",\"reveal\",\"offense\",\"privilege\",\"recover\",\"butt\",\"tran\",\"bank\",\"slip\",\"survive\",\"alive\",\"snoop\",\"nose\",\"confidence\",\"breastfeed\",\"quote\",\"casual\",\"shelter\",\"ditch\",\"influence\",\"evening\",\"hungry\",\"sexual_assault\",\"co_worker\",\"reflect\",\"don't\",\"settle\",\"vulnerable\",\"pride\",\"unhappy\",\"shave\",\"reference\",\"openly\",\"america\",\"breakup\",\"summer\",\"candy\",\"routine\",\"puppy\",\"poster\",\"bang\",\"waitress\",\"publicly\",\"thousand\",\"smile\",\"suspicious\",\"firm\",\"sober\",\"traumatic\",\"pound\",\"gesture\",\"fan\",\"mix\",\"betray\",\"tolerate\",\"douche\",\"rapist\",\"constant\",\"asian\",\"considerate\",\"uber\",\"illness\",\"political\",\"label\",\"clothing\",\"mindset\",\"tool\",\"extent\",\"tall\",\"equivalent\",\"chinese\",\"pic\",\"prepared\",\"ideal\",\"design\",\"failure\",\"exchange\",\"dramatic\",\"naive\",\"dry\",\"client\",\"mod\",\"introduce\",\"unlikely\",\"reward\",\"description\",\"/s\",\"freedom\",\"solid\",\"eh\",\"wrap\",\"ice_cream\",\"landlord\",\"frequently\",\"stare\",\"masturbate\",\"rage\",\"anti\",\"swear\",\"gold\",\"prioritize\",\"vet\",\"parental\",\"civil\",\"stereotype\",\"hero\",\"legit\",\"discomfort\",\"setting\",\"infant\",\"mark\",\"y\",\"connect\",\"professor\",\"saving\",\"neighborhood\",\"chicken\",\"generous\",\"diagnose\",\"portion\",\"fee\",\"consult\",\"evil\",\"chick\",\"employer\",\"pronoun\",\"display\",\"whatsoever\",\"shallow\",\"counselor\",\"compatible\",\"skinny\",\"comparison\",\"protection\",\"hardly\",\"genetic\",\"babysitter\",\"outright\",\"john\",\"ntayou\",\"lash\",\"thin\",\"correctly\",\"criminal\",\"dig\",\"cleaning\",\"fancy\",\"model\",\"define\",\"jail\",\"solely\",\"status\",\"brand\",\"proceed\",\"perceive\",\"perform\",\"cultural\",\"adjust\",\"generation\",\"frustrating\",\"longer\",\"addict\",\"prick\",\"previously\",\"grandfather\",\"literal\",\"plane\",\"controlling\",\"ywbta\",\"dealbreaker\",\"deal_breaker\",\"typical\",\"immediate\",\"complex\",\"building\",\"absurd\",\"shove\",\"drinking\",\"shape\",\"occasionally\",\"compassion\",\"height\",\"direction\",\"workplace\",\"adhd\",\"cope\",\"morally\",\"interview\",\"french\",\"search\",\"abort\",\"upfront\",\"nanny\",\"volunteer\",\"location\",\"planning\",\"humiliate\",\"input\",\"lift\",\"embarrassing\",\"vibe\",\"background\",\"content\",\"pattern\",\"initial\",\"clue\",\"active\",\"unfortunate\",\"sexy\",\"minimum\",\"film\",\"warrant\",\"atheist\",\"ugh\",\"deliver\",\"everyday\",\"allergic\",\"self_esteem\",\"popular\",\"pleasure\",\"arsehole\",\"land\",\"goddamn\",\"ego\",\"cheese\",\"manipulation\",\"pathetic\",\"range\",\"weigh\",\"additional\",\"independent\",\"karma\",\"nonsense\",\"battle\",\"buck\",\"miscarriage\",\"pocket\",\"valuable\",\"requirement\",\"song\",\"lifetime\",\"approve\",\"brush\",\"leash\",\"round\",\"weak\",\"advise\",\"affection\",\"monster\",\"maturity\",\"kindness\",\"player\",\"hypocrite\",\"discover\",\"naturally\",\"nightmare\",\"basis\",\"conclusion\",\"confuse\",\"ntai\",\"meaning\",\"daddy\",\"stretch\",\"balance\",\"mommy\",\"bra\",\"double_standard\",\"charity\",\"inherently\",\"beer\",\"groom\",\"profile\",\"appointment\",\"center\",\"waiter\",\"accurate\",\"heal\",\"attach\",\"wild\",\"malicious\",\"diamond\",\"oppose\",\"behalf\",\"artist\",\"exception\",\"logical\",\"oral\",\"bitter\",\"stance\",\"yo\",\"encounter\",\"honey\",\"useless\",\"overly\",\"permanent\",\"uniform\",\"suicide\",\"disgust\",\"borderline\",\"glass\",\"mentality\",\"crappy\",\"sink\",\"brat\",\"chip\",\"pair\",\"uh\",\"bail\",\"defense\",\"assholish\",\"heavily\",\"addition\",\"witness\",\"feedback\",\"headphone\",\"obnoxious\",\"calmly\",\"laptop\",\"paragraph\",\"entitlement\",\"confident\",\"credit_card\",\"slap\",\"incel\",\"ignorance\",\"harmful\",\"disclose\",\"mock\",\"measure\",\"50/50\",\"justification\",\"legitimately\",\"hormonal\",\"childcare\",\"wage\",\"advocate\",\"alright\",\"route\",\"reduce\",\"invitation\",\"motivation\",\"involved\",\"narcissistic\",\"gas\",\"loose\",\"peer\",\"article\",\"daycare\",\"relatively\",\"strict\",\"traditional\",\"\\ud83d\\ude02\",\"initially\",\"war\",\"unwanted\",\"diagnosis\",\"gut\",\"jealousy\",\"housework\",\"scale\",\"fellow\",\"hypothetical\",\"joint\",\"hypocritical\",\"ear\",\"effectively\",\"x200b\",\"tax\",\"vent\",\"sandwich\",\"spare\",\"originally\",\"tight\",\"salary\",\"irrational\",\"injury\",\"complicated\",\"strike\",\"user\",\"engagement\",\"sudden\",\"agency\",\"competition\",\"favour\",\"ffs\",\"primary\",\"flag\",\"purely\",\"breed\",\"occasion\",\"uk\",\"tenant\",\"sadly\",\"fool\",\"pump\",\"trump\",\"reconsider\",\"root\",\"muslim\",\"whore\",\"warm\",\"std\",\"disappoint\",\"moron\",\"feminist\",\"proposal\",\"tree\",\"explore\",\"reasonably\",\"validate\",\"k\",\"unique\",\"paternity_test\",\"instagram\",\"inch\",\"shopping\",\"transition\",\"shake\",\"score\",\"industry\",\"smoking\",\"machine\",\"classic\",\"y'\",\"arrive\",\"remotely\",\"spectrum\",\"stomach\",\"useful\",\"borrow\",\"jack\",\"lecture\",\"bone\",\"cross_line\",\"lgbt\",\"nicely\",\"government\",\"review\",\"nut\",\"cookie\",\"verbal\",\"screen\",\"cashier\",\"gaslighte\",\"document\",\"episode\",\"a.m.\",\"copy\",\"reverse\",\"harassment\",\"dodge_bullet\",\"package\",\"ceremony\",\"site\",\"fence\",\"vaccine\",\"sneak\",\"fresh\",\"success\",\"bigot\",\"narcissist\",\"alcoholic\",\"liar\",\"vasectomy\",\"cup\",\"orgasm\",\"heck\",\"trade\",\"chair\",\"i.e.\",\"minority\",\"username\",\"min\",\"pool\",\"unwilling\",\"significantly\",\"whilst\",\"tomorrow\",\"nap\",\"code\",\"loser\",\"kink\",\"bleed\",\"repair\",\"genital\",\"scar\",\"condescending\",\"yard\",\"dependent\",\"brag\",\"hygiene\",\"resort\",\"pure\",\"recent\",\"underwear\",\"decency\",\"f\",\"disappointed\",\"whine\",\"arrest\",\"discount\",\"bil\",\"frustrate\",\"intimacy\",\"demonstrate\",\"consume\",\"committed\",\"cycle\",\"breakfast\",\"reputation\",\"spring\",\"rush\",\"length\",\"attorney\",\"theft\",\"interpret\",\"cuz\",\"achieve\",\"prize\",\"criticize\",\"stone\",\"verbally\",\"corner\",\"formal\",\"closet\",\"plain\",\"norm\",\"self_center\",\"cuddle\",\"christ\",\"unprofessional\",\"chef\",\"distract\",\"virgin\",\"string\",\"lord\",\"dunno\",\"presence\",\"frustrated\",\"dumbass\",\"sexism\",\"co\",\"wallet\",\"accomplish\",\"poop\",\"circle\",\"huge_red_flag\",\"fuckin\",\"gently\",\"ish\",\"worthy\",\"lovely\",\"tooth\",\"c\",\"development\",\"desperate\",\"slowly\",\"importantly\",\"undermine\",\"entertain\",\"exhaust\",\"stable\",\"limited\",\"grandpa\",\"insulting\",\"hi\",\"harmless\",\"science\",\"session\",\"sale\",\"joy\",\"classmate\",\"shout\",\"sugar\",\"grandkid\",\"misunderstanding\",\"knowingly\",\"license\",\"severely\",\"extend\",\"housing\",\"announce\",\"crash\",\"ungrateful\",\"unsafe\",\"blatantly\",\"congrat\",\"surround\",\"injure\",\"purposely\",\"procedure\",\"heat\",\"disturb\",\"phase\",\"population\",\"weapon\",\"press\",\"grand\",\"nerve\",\"boot\",\"i\\u2019m\",\"syndrome\",\"broken\",\"cringe\",\"homework\",\"evaluate\",\"thoughtful\",\"reception\",\"section\",\"seemingly\",\"sincerely\",\"til\",\"cater\",\"alex\",\"vaccinate\",\"arrange\",\"secure\",\"medicine\",\"privately\",\"strain\",\"implication\",\"surrogate\",\"pity\",\"ed\",\"recipe\",\"sentiment\",\"spell\",\"ntayour\",\"trashy\",\"panic\",\"magically\",\"24/7\",\"reminder\",\"catholic\",\"counter\",\"escape\",\"organ\",\"progress\",\"bizarre\",\"shocked\",\"berate\",\"rejection\",\"instinct\",\"pot\",\"wording\",\"exam\",\"password\",\"dismissive\",\"ownership\",\"belittle\",\"tag\",\"yesterday\",\"beach\",\"nail\",\"celebration\",\"oil\",\"terrify\",\"planet\",\"goodbye\",\"concert\",\"crack\",\"excellent\",\"audience\",\"vehicle\",\"mid\",\"babysit\",\"shared\",\"complication\",\"cis\",\"camera\",\"psychological\",\"ptsd\",\"principle\",\"compete\",\"bug\",\"secretly\",\"confrontation\",\"sperm\",\"uncommon\",\"wig\",\"writing\",\"south\",\"alter\",\"obsess\",\"math\",\"colleague\",\"plant\",\"productive\",\"toss\",\"reinforce\",\"supply\",\"flower\",\"yike\",\"shady\",\"department\",\"americans\",\"produce\",\"wet\",\"best\",\"band\",\"homophobia\",\"withhold\",\"tactic\",\"ethic\",\"delusional\",\"awhile\",\"incapable\",\"minimum_wage\",\"menu\",\"anytime\",\"socially\",\"stripper\",\"fiancee\",\"realistic\",\"thanks\",\"rob\",\"guilt_trip\",\"default\",\"i'd\",\"qualified\",\"familiar\",\"blanket\",\"vibrator\",\"related\",\"expert\",\"obese\",\"formula\",\"criticism\",\"congratulation\",\"neighbour\",\"camp\",\"medical_condition\",\"rat\",\"excessive\",\"permanently\",\"rant\",\"theory\",\"benefit_doubt\",\"grain\",\"def\",\"politic\",\"lock_door\",\"existence\",\"investment\",\"cent\",\"assure\",\"extended\",\"conservative\",\"stem\",\"combine\",\"retirement\",\"slave\",\"airline\",\"puberty\",\"convenient\",\"unusual\",\"prison\",\"roof\",\"maid\",\"lane\",\"tact\",\"crowd\",\"kidney\",\"nervous\",\"fyi\",\"bike\",\"traumatize\",\"empathize\",\"fridge\",\"happily\",\"instantly\",\"patience\",\"indian\",\"hat\",\"error\",\"psycho\",\"superior\",\"lonely\",\"boil\",\"bud\",\"market\",\"randomly\",\"edge\",\"button\",\"intense\",\"trait\",\"betrayal\",\"assignment\",\"left\",\"stepdaughter\",\"respectfully\",\"slut\",\"indication\",\"silence\",\"tantrum\",\"wipe\",\"annoyed\",\"loving\",\"hostile\",\"rightfully\",\"pile\",\"accusation\",\"wind\",\"practically\",\"profit\",\"resentful\",\"scam\",\"insert\",\"violation\",\"bonus\",\"sight\",\"slide\",\"mainly\",\"horribly\",\"recovery\",\"starve\",\"blunt\",\"oblivious\",\"praise\",\"messy\",\"invalidate\",\"anniversary\",\"scout\",\"award\",\"sexually_assault\",\"traffic\",\"difficulty\",\"represent\",\"objectively\",\"possession\",\"tonight\",\"y\\u2019\",\"gentle\",\"loudly\",\"mild\",\"pitch\",\"interrupt\",\"haircut\",\"specify\",\"stepmom\",\"sheet\",\"coach\",\"overnight\",\"anxious\",\"release\",\"etiquette\",\"collect\",\"fianc\\u00e9e\",\"disagreement\",\"secondly\",\"nazi\",\"pos\",\"percent\",\"courtesy\",\"slur\",\"bait\",\"overcome\",\"wreck\",\"meaningful\",\"dozen\",\"discrimination\",\"willingly\",\"sole\",\"supposedly\",\"fetish\",\"nuclear\",\"scratch\",\"drain\",\"friday\",\"consistently\",\"sauce\",\"bowl\",\"disney\",\"master\",\"overreaction\",\"stink\",\"reserve\",\"thick\",\"click\",\"m\",\"bullying\",\"gtfo\",\"sum\",\"ingredient\",\"equate\",\"jewish\",\"prom\",\"fil\",\"sabotage\",\"tit\",\"dense\",\"casually\",\"bind\",\"unit\",\"ntaif\",\"qualify\",\"storm\",\"insight\",\"aka\",\"paranoid\",\"quietly\",\"soft\",\"judgmental\",\"movement\",\"incredible\",\"importance\",\"signal\",\"biased\",\"chocolate\",\"speed\",\"neutral\",\"denial\",\"clueless\",\"stalk\",\"strip_club\",\"assign\",\"analogy\",\"pedophile\",\"usual\",\"purposefully\",\"vomit\",\"minimize\",\"baggage\",\"donation\",\"performance\",\"sunday\",\"medium\",\"horse\",\"\\u00a3\",\"justice\",\"contribution\",\"delay\",\"huh\",\"chain\",\"insanely\",\"anal\",\"calorie\",\"bright\",\"impose\",\"forth\",\"website\",\"confusing\",\"teaching\",\"furthermore\",\"row\",\"massively\",\"caretaker\",\"childbirth\",\"disappointment\",\"urge\",\"fantastic\",\"torture\",\"conscious\",\"sis\",\"r_amitheasshole\",\"remark\",\"3rd\",\"assistance\",\"additionally\",\"saint\",\"20\",\"restrict\",\"tease\",\"misunderstand\",\"eta\",\"dna\",\"slack\",\"organization\",\"chunk\",\"unrelated\",\"t\",\"thankfully\",\"ytai\",\"assholery\",\"grasp\",\"lend\",\"means\",\"firmly\",\"speaker\",\"ease\",\"partnership\",\"tuition\",\"initiate\",\"w\",\"utterly\",\"self_conscious\",\"adulthood\",\"pasta\",\"monogamous\",\"dishonest\",\"rise\",\"percentage\",\"grocery_store\",\"inheritance\",\"pussy\",\"strength\",\"throw_tantrum\",\"asset\",\"suspicion\",\"unattractive\",\"interfere\",\"terribly\",\"chest\",\"alarm\",\"chase\",\"unaware\",\"throat\",\"brown\",\"douchebag\",\"flaw\",\"angle\",\"/u\",\"soul\",\"safely\",\"pray\",\"lasagna\",\"bird\",\"guide\",\"critical\",\"endanger\",\"twist\",\"predator\",\"ntait\",\"incorrect\",\"unlike\",\"library\",\"transfer\",\"wide\",\"semester\",\"repercussion\",\"freeze\",\"capacity\",\"seven\",\"vacuum\",\"exhausting\",\"underage\",\"principal\",\"burger\",\"register\",\"sketchy\",\"poison\",\"temporary\",\"blast\",\"spending\",\"taxis\",\"practical\",\"feature\",\"obligated\",\"worse\",\"sahm\",\"rescue\",\"academic\",\"scholarship\",\"device\",\"mail\",\"asleep\",\"utility\",\"vary\",\"upsetting\",\"distress\",\"precious\",\"contest\",\"ppl\",\"thief\",\"clock\",\"picky\",\"official\",\"apple\",\"autonomy\",\"strategy\",\"ntashe\",\"biologically\",\"translate\",\"spoiled\",\"spill\",\"humor\",\"alienate\",\"promote\",\"knife\",\"spanish\",\"suffering\",\"flu\",\"outfit\",\"wave\",\"p.m.\",\"perception\",\"estate\",\"stepdad\",\"desk\",\"em\",\"fulfil\",\"carefully\",\"damaging\",\"broke\",\"breathe\",\"lover\",\"disappear\",\"luckily\",\"tf\",\"reading\",\"ethical\",\"boring\",\"europe\",\"masturbation\",\"forum\",\"chew\",\"theater\",\"incompatible\",\"leftover\",\"massage\",\"freaking\",\"succeed\",\"fetus\",\"heritage\",\"variety\",\"knee\",\"partially\",\"dating\",\"vegetable\",\"fry\",\"vague\",\"passion\",\"unpleasant\",\"embarrassment\",\"hateful\",\"canada\",\"accommodation\",\"you\\u2019re\",\"desperately\",\"border\",\"tire\",\"reciprocate\",\"2nd\",\"timing\",\"explicit\",\"intervention\",\"gap\",\"mixed\",\"relation\",\"ur\",\"soap\",\"star\",\"bump\",\"steak\",\"lack_empathy\",\"wildly\",\"replacement\",\"cum\",\"fruit\",\"viewpoint\",\"elaborate\",\"dear\",\"appropriately\",\"forbid\",\"alert\",\"passenger\",\"bloody\",\"infection\",\"smash\",\"acne\",\"nickname\",\"amend\",\"penny\",\"isolate\",\"bean\",\"belly\",\"fart\",\"verdict\",\"fuss\",\"furious\",\"um\",\"sexual_harassment\",\"tampon\",\"venue\",\"ally\",\"admission\",\"fashion\",\"curiosity\",\"thankful\",\"ridiculously\",\"breath\",\"blatant\",\"bust\",\"sexualize\",\"truck\",\"monitor\",\"modern\",\"exit\",\"impulse\",\"unnecessarily\",\"hill\",\"sitter\",\"straw\",\"valentine\",\"grieving\",\"tank\",\"childfree\",\"exclusive\",\"ice\",\"green\",\"alot\",\"enjoyment\",\"furniture\",\"elderly\",\"solo\",\"dorm\",\"cast\",\"nuts\",\"tendency\",\"gathering\",\"sin\",\"mortgage\",\"senior\",\"navigate\",\"silver\",\"misogynistic\",\"fall_asleep\",\"equipment\",\"approval\",\"guitar\",\"ie\",\"experiment\",\"grace\",\"pointless\",\"thousand_dollar\",\"mildly\",\"wine\",\"learning\",\"gossip\",\"lower\",\"sympathetic\",\"sane\",\"core\",\"sing\",\"divide\",\"candidate\",\"silent\",\"rethink\",\"deposit\",\"graduation\",\"golden\",\"restroom\",\"hypocrisy\",\"worthless\",\"textbook\",\"bare_minimum\",\"scroll\",\"liberal\",\"infuriate\",\"unexpected\",\"sock\",\"audacity\",\"blackmail\",\"vindictive\",\"deceased\",\"lame\",\"campus\",\"spin\",\"unprotected_sex\",\"operate\",\"gene\",\"sweat\",\"bread\",\"profession\",\"overwhelming\",\"<\",\"narrative\",\"highly_doubt\",\"asexual\",\"pronounce\",\"temper\",\"luxury\",\"retaliate\",\"sociopath\",\"retail\",\"shy\",\"belonging\",\"lying\",\"deem\",\"consensual\",\"e.g.\",\"spoiler\",\"employment\",\"necessity\",\"motive\",\"australia\",\"cigarette\",\"neck\",\"maintenance\",\"fraud\",\"bomb\",\"smack\",\"reek\",\"bullet\",\"understandably\",\"intelligence\",\"protective\",\"spit\",\"pissy\",\"liability\",\"pushy\",\"wellbeing\",\"kindly\",\"stain\",\"trivial\",\"grammar\",\"bible\",\"universe\",\"notion\",\"native\",\"timeline\",\"exhausted\",\"redditor\",\"apparent\",\"transgender\",\"print\",\"problematic\",\"dna_test\",\"acceptance\",\"pm\",\"hubby\",\"comparable\",\"satisfy\",\"invasive\",\"series\",\"bath\",\"gold_digger\",\"snapchat\",\"baffle\",\"suicidal\",\"fragile\",\"empathetic\",\"opt\",\"attachment\",\"swap\",\"hatred\",\"smoker\",\"bigotry\",\"restriction\",\"exclusively\",\"whim\",\"iud\",\"merely\",\"similarly\",\"vast_majority\",\"queer\",\"greedy\",\"e\",\"unsolicited\",\"n_word\",\"instruction\",\"occasional\",\"prejudice\",\"german\",\"subtle\",\"labour\",\"parenthood\",\"outburst\",\"upbringing\",\"negatively\",\"donor\",\"muscle\",\"youtube\",\"bikini\",\"stake\",\"risky\",\"salad\",\"contain\",\"inability\",\"weather\",\"yta.you\",\"acquaintance\",\"terminate\",\"evict\",\"caregiver\",\"monday\",\"devastate\",\"dodge\",\"strip\",\"strictly\",\"stubborn\",\"n\",\"extension\",\"veggie\",\"pleasant\",\"destructive\",\"conceive\",\"airport\",\"student_loan\",\"jane\",\"horror\",\"feminism\",\"deceive\",\"remorse\",\"compensate\",\"carrot\",\"cow\",\"consistent\",\"presume\",\"lately\",\"endure\",\"convo\",\"bury\",\"absolve\",\"reevaluate\",\"id\",\"hahaha\",\"fertility\",\"intentional\",\"italian\",\"testing\",\"boat\",\"a.\",\"poll\",\"inclined\",\"salt\",\"god_forbid\",\"jean\",\"highschool\",\"growth\",\"beef\",\"platonic\",\"paycheck\",\"phobia\",\"socialize\",\"healthcare\",\"frequent\",\"tipping\",\"grip\",\"transaction\",\"feminine\",\"tricky\",\"visitation\",\"handicap\",\"forgiveness\",\"bridezilla\",\"discriminate\",\"spider\",\"pat\",\"livid\",\"psychologist\",\"doll\",\"deadbeat\",\"driving\",\"mirror\",\"pin\",\"confide\",\"ship\",\"sympathize\",\"guilte\",\"wheelchair\",\"mandatory\",\"awake\",\"youth\",\"anime\",\"structure\",\"coerce\",\"counsel\",\"reassure\",\"category\",\"zone\",\"aid\",\"judgemental\",\"blowjob\",\"pour\",\"jewelry\",\"pork\",\"saturday\",\"controversial\",\"gear\",\"breastfeeding\",\"hassle\",\"tea\",\"pose\",\"arrogant\",\"closure\",\"organize\",\"bank_account\",\"biology\",\"stock\",\"homophobe\",\"mentally_ill\",\"engineer\",\"shell\",\"prayer\",\"condescend\",\"lap\",\"overwhelmed\",\"gather\",\"prop\",\"netflix\",\"playing\",\"western\",\"pan\",\"nipple\",\"dickhead\",\"cave\",\"flow\",\"imho\",\"resume\",\"surprising\",\"roast\",\"crisis\",\"accordingly\",\"coward\",\"awareness\",\"working\",\"delicious\",\"aim\",\"someday\",\"mode\",\"customer_service\",\"mexican\",\"wound\",\"karen\",\"misread\",\"semi\",\"overlook\",\"aisle\",\"convenience\",\"versus\",\"statistic\",\"bot\",\"frank\",\"realistically\",\"wiki\",\"rice\",\"rank\",\"independence\",\"tacky\",\"fb\",\"common_courtesy\",\"hunt\",\"toll\",\"distant\",\"tech\",\"junk\",\"bride_groom\",\"cramp\",\"receipt\",\"sarah\",\"yikes\",\"mug\",\"examine\",\"callous\",\"hearing\",\"relief\",\"picky_eater\",\"unrealistic\",\"babysitte\",\"exaggerate\",\"objective\",\"essential\",\"junk_food\",\"wealthy\",\"national\",\"functional\",\"convey\",\"complicate\",\"withdraw\",\"loyalty\",\"ytaif\",\"poly\",\"lab\",\"stall\",\"wheel\",\"selfishness\",\"passive\",\"disruptive\",\"saying\",\"i've\",\"disrupt\",\"opening\",\"surface\",\"cheer\",\"self_awareness\",\"satisfied\",\"clarification\",\"dime\",\"shrug\",\"dose\",\"30\",\"recline\",\"\\ud83d\\ude44\",\"refund\",\"pause\",\"equality\",\"broad\",\"discourage\",\"jeez\",\"anonymous\",\"tension\",\"separately\",\"toe\",\"bored\",\"virginity\",\"negotiate\",\"crying\",\"network\",\"declare\",\"army\",\"nta.i\",\"grope\",\"halfway\",\"stepmother\",\"mourn\",\"fathom\",\"quarter\",\"blessing\",\"symbol\",\"pillow\",\"visible\",\"sti\",\"unstable\",\"jackass\",\"numerous\",\"creative\",\"albeit\",\"poke\",\"facility\",\"weekly\",\"murderer\",\"offender\",\"element\",\"pig\",\"substance\",\"high_horse\",\"magic\",\"shocking\",\"creature\",\"counselling\",\"appreciation\",\"nowadays\",\"stupid_prize\",\"ntahe\",\"tactful\",\"ytait\",\"hello\",\"datum\",\"abnormal\",\"sir\",\"irish\",\"focused\",\"admittedly\",\"tow\",\"annoyance\",\"ps\",\"vow\",\"raw\",\"exposure\",\"confess\",\"nursing\",\"verify\",\"curb\",\"lawsuit\",\"snow\",\"dil\",\"colour\",\"cough\",\"permit\",\"refusal\",\"bat\",\"nah-\",\"stigma\",\"monthly\",\"abide\",\"yr_old\",\"assert\",\"favourite\",\"sized\",\"expand\",\"intelligent\",\"channel\",\"lightly\",\"downplay\",\"disturbing\",\"upper\",\"winner\",\"mask\",\"erase\",\"horny\",\"sufficient\",\"highlight\",\"ought\",\"doormat\",\"nta.you\",\"combination\",\"questionable\",\"gain_weight\",\"uni\",\"revenge_porn\",\"football\",\"exhibit\",\"assessment\",\"bark\",\"inevitably\",\"racial\",\"stitch\",\"passionate\",\"collection\",\"g\",\"easter\",\"transgend\",\"mislead\",\"deed\",\"inconvenient\",\"j\",\"infidelity\",\"ad\",\"athlete\",\"hmm\",\"prostitute\",\"sleepover\",\"beard\",\"send_nude\",\"courage\",\"deprive\",\"brutal\",\"motivate\",\"headache\",\"don\\u2019t\",\"reflection\",\"sexual_orientation\",\"downright\",\"fed\",\"unpopular_opinion\",\"allowance\",\"twat\",\"romantically\",\"handful\",\"differ\",\"role_reverse\",\"irritate\",\"disaster\",\"japanese\",\"honeymoon\",\"irl\",\"aggression\",\"entertainment\",\"usa\",\"er\",\"guardian\",\"constructive\",\"paperwork\",\"vs.\",\"pov\",\"accomplishment\",\"retire\",\"impress\",\"tempt\",\"comply\",\"t_shirt\",\"meme\",\"dress_code\",\"liable\",\"stir\",\"conduct\",\"outsider\",\"spelling\",\"vice_versa\",\"dairy\",\"wifi\",\"slice\",\"1st\",\"binge\",\"citizen\",\"kitten\",\"r_legaladvice\",\"oblige\",\"coke\",\"equip\",\"amazon\",\"journey\",\"o\",\"degrade\",\"hardship\",\"supervision\",\"misogyny\",\"foreign\",\"rain\",\"atm\",\"nearby\",\"bubble\",\"theme\",\"rabbit\",\"stuck\",\"hugely\",\"precaution\",\"reservation\",\"camping\",\"fundamental\",\"fundamentally\",\"phrasing\",\"foundation\",\"uncalled\",\"actor\",\"nuance\",\"adapt\",\"edgy\",\"mistreat\",\"prime\",\"explode\",\"guard\",\"leap\",\"competitive\",\"deaf\",\"immaturity\",\"toothbrush\",\"notify\",\"pad\",\"poverty\",\"roll_eye\",\"fuel\",\"bum\",\"instant\",\"sanity\",\"escort\",\"nag\",\"festival\",\"tune\",\"humanity\",\"plain_simple\",\"painting\",\"emphasize\",\"retaliation\",\"confusion\",\"touching\",\"swing\",\"oof\",\"furry\",\"ethnicity\",\"utter\",\"princess\",\"application\",\"bonding\",\"puke\",\"potato\",\"alimony\",\"interpretation\",\"leverage\",\"chuck\",\"expression\",\"steve\",\"role_model\",\"fucked\",\"amy\",\"bodily_autonomy\",\"humiliating\",\"salty\",\"shed\",\"snitch\",\"custom\",\"trend\",\"distinction\",\"infertile\",\"flight_attendant\",\"carrier\",\"workout\",\"swim\",\"marital\",\"separation\",\"pawn\",\"drill\",\"embrace\",\"ideally\",\"threesome\",\"grind\",\"hookup\",\"condone\",\"stressed\",\"commit_crime\",\"lifelong\",\"dispute\",\"heterosexual\",\"leak\",\"classroom\",\"dietary\",\"sarcastic\",\"kudo\",\"cure\",\"arse\",\"subjective\",\"eshyou\",\"volume\",\"negate\",\"spirit\",\"heartless\",\"presentation\",\"molest\",\"eachother\",\"informed\",\"behavioral\",\"\\\"i\",\"tongue\",\"thrill\",\"ha\",\"rental\",\"compensation\",\"dick_pic\",\"afternoon\",\"jfc\",\"making\",\"stab\",\"jeff\",\"overstep\",\"malice\",\"panic_attack\",\"unsure\",\"deadline\",\"lb\",\"supervisor\",\"shaming\",\"enemy\",\"talent\",\"dm\",\"comprehend\",\"bless\",\"pressured\",\"gate\",\"germany\",\"international\",\"abused\",\"stability\",\"miscommunication\",\"technique\",\"pester\",\"eating\",\"appease\",\"proportion\",\"morality\",\"sexually_active\",\"farm\",\"employ\",\"scumbag\",\"bake\",\"climb\",\"taxi\",\"clinic\",\"weirdo\",\"immigrant\",\"secretary\",\"leader\",\"sensible\",\"essay\",\"hitler\",\"season\",\"slim\",\"hold_grudge\",\"greatly\",\"despise\",\"crawl\",\"moh\",\"prospect\",\"swallow\",\"salvage\",\"backwards\",\"assist\",\"pub\",\"promotion\",\"largely\",\"depth\",\"arbitrary\",\"recognise\",\"relieve\",\"caring\",\"blank\",\"indicator\",\"powerful\",\"anna\",\"joe\",\"outta\",\"stomp\",\"enjoyable\",\"preserve\",\"everytime\",\"tl;dr\",\"bye\",\"intervene\",\"supervise\",\"spiteful\",\"fluid\",\"irritated\",\"ongoing\",\"rating\",\"vile\",\"fwiw\",\"uterus\",\"2.5\",\"breakdown\",\"prenup\",\"telling\",\"log\",\"mortify\",\"christians\",\"spoon\",\"worst\",\"beneficial\",\"beauty\",\"forgot\",\"curse\",\"appeal\",\"grave\",\"troop\",\"backfire\",\"arise\",\"underestimate\",\"singe\",\"meh\",\"whiny\",\"soda\",\"altogether\",\"nahi\",\"mcdonald\",\"minimal\",\"protein\",\"reread\",\"station\",\"unilaterally\",\"roughly\",\"ntathis\",\"rationally\",\"insufferable\",\"wing\",\"perpetuate\",\"partly\",\"jump_conclusion\",\"fold\",\"dirt\",\"sincere\",\"smoke_weed\",\"seizure\",\"snake\",\"prerogative\",\"internal\",\"micropenis\",\"shelf\",\"bounce\",\"satisfaction\",\"l\",\"tab\",\"flash\",\"intimidate\",\"officer\",\"monkey\",\"fwb\",\"cock\",\"pit\",\"reimburse\",\"bend\",\"helpless\",\"gaming\",\"photographer\",\"bridge\",\"abandonment\",\"possessive\",\"olive_garden\",\"devastating\",\"coddle\",\"tap\",\"prep\",\"bitchy\",\"substitute\",\"chemical\",\"merit\",\"unknown\",\"observe\",\"r_justnomil\",\"irony\",\"insinuate\",\"inappropriately\",\"coin\",\"cautious\",\"se\",\"association\",\"indoor\",\"whip\",\"asperger\",\"universal\",\"mobile\",\"delicate\",\"accidental\",\"dedicate\",\"king\",\"overboard\",\"cell\",\"lbs\",\"ytashe\",\"psychology\",\"consensus\",\"justifiable\",\"mouth_shut\",\"towel\",\"alternate\",\"bartender\",\"plastic\",\"thanksgiving\",\"babe\",\"walmart\",\"smooth\",\"sperm_donor\",\"burst\",\"gang\",\"survivor\",\"can't\",\"mama\",\"flush\",\"walk_aisle\",\"convert\",\"ytayour\",\"peanut\",\"mary\",\"dignity\",\"stalker\",\"superficial\",\"popcorn\",\"conscience\",\"islam\",\"misery\",\"invade_privacy\",\"slam\",\"thirty\",\"honour\",\"estimate\",\"california\",\"align\",\"kitty\",\"breaking\",\"bigote\",\"bin\",\"simultaneously\",\"eviction\",\"b.\",\"minded\",\"revolve\",\"console\",\"spray\",\"horrific\",\"confrontational\",\"litter\",\"sickness\",\"underlying\",\"dancing\",\"rationalize\",\"chemo\",\"cruelty\",\"mass\",\"plot\",\"assistant\",\"repay\",\"square\",\"bastard\",\"loyal\",\"snarky\",\"bow\",\"disown\",\"cheek\",\"reliable\",\"idiotic\",\"hella\",\"reiterate\",\"soup\",\"closed\",\"heirloom\",\"paternity\",\"masculine\",\"guideline\",\"fulfill\",\"precedent\",\"slap_face\",\"hop\",\"screenshot\",\"wash_dish\",\"devil_advocate\",\"upgrade\",\"cos\",\"kids\",\"european\",\"professionally\",\"internalize\",\"seek_validation\",\"primarily\",\"filter\",\"investigate\",\"inevitable\",\"lap_dance\",\"schooling\",\"nahyou\",\"bruh\",\"invade\",\"unethical\",\"self_absorb\",\"hs\",\"veganism\",\"fallout\",\"garage\",\"submit\",\"shatter\",\"guidance\",\"reschedule\",\"societal\",\"identical\",\"backup\",\"engagement_ring\",\"smh\",\"stupidity\",\"provoke\",\"unbelievably\",\"craving\",\"regular_basis\",\"absence\",\"adore\",\"lick\",\"hill_die\",\"precisely\",\"outing\",\"lmfao\",\"misogynist\",\"fairness\",\"agenda\",\"hold_accountable\",\"nutrition\",\"special_treatment\",\"countless\",\"convinced\",\"genius\",\"toilet_paper\",\"absent\",\"jews\",\"sentimental\",\"china\",\"aunt_uncle\",\"prey\",\"upvoted\",\"compassionate\",\"butthurt\",\"eld\",\"usage\",\"necklace\",\"entry\",\"corporate\",\"league\",\"british\",\"maiden\",\"tolerance\",\"clap\",\"layer\",\"bare\",\"gaslighting\",\"predatory\",\"y'all\",\"iron\",\"barrier\",\"ew\",\"pen\",\"wood\",\"un\",\"preach\",\"mike\",\"de\",\"meaningless\",\"ocd\",\"dildo\",\"max\",\"exploit\",\"needlessly\",\"bpd\",\"attendance\",\"weirdly\",\"gender_identity\",\"metal\",\"hike\",\"belt\",\"gag\",\"scan\",\"x200b;i\",\"medically\",\"communal\",\"trial\",\"conveniently\",\"ppd\",\"sooo\",\"dessert\",\"mountain\",\"herpe\",\"likelihood\",\"laziness\",\"occupy\",\"canadian\",\"mutually\",\"aggressively\",\"disingenuous\",\"drastic\",\"tragedy\",\"inherit\",\"fall_apart\",\"convict\",\"amazed\",\"jacket\",\"entail\",\"parade\",\"welfare\",\"lingerie\",\"veteran\",\"meltdown\",\"deception\",\"agent\",\"establishment\",\"angel\",\"fighting\",\"cue\",\"billion\",\"protest\",\"villain\",\"provider\",\"designate\",\"abroad\",\"dr\",\"lip\",\"libido\",\"xbox\",\"sore\",\"india\",\"pcos\",\"wealth\",\"ultimate\",\"acronym\",\"cage\",\"reprimand\",\"overbearing\",\"hall\",\"ntabut\",\"drown\",\"japan\",\"confirmation\",\"automatic\",\"sushi\",\"tissue\",\"constitute\",\"eg\",\"union\",\"stat\",\"attribute\",\"command\",\"pie\",\"bj\",\"sharing\",\"limb\",\"incentive\",\"overtime\",\"katie\",\"niece_nephew\",\"kiddo\",\"inflict\",\"basement\",\"booze\",\"unemployed\",\"junior\",\"fucker\",\"jar\",\"depress\",\"adamant\",\"perfume\",\"brave\",\"taboo\",\"special_occasion\",\"sack\",\"caution\",\"contraception\",\"thoroughly\",\"measle\",\"firstly\",\"sun\",\"pretentious\",\"groomsman\",\"scold\",\"starbucks\",\"midnight\",\"geez\",\"vocal\",\"majorly\",\"obesity\",\"ntathe\",\"privileged\",\"nazis\",\"rando\",\"age_gap\",\"psychopath\",\"immoral\",\"yta.i\",\"standpoint\",\"introvert\",\"recipient\",\"adequate\",\"involvement\",\"onion\",\"breach\",\"heartbroken\",\"homosexuality\",\"hip\",\"sided\",\"predict\",\"recommendation\",\"censor\",\"disgusted\",\"hesitate\",\"throwaway\",\"pc\",\"old_fashioned\",\"inspire\",\"standing\",\"hindsight\",\"costume\",\"theatre\",\"texture\",\"thoughtless\",\"assess\",\"sheer\",\"diminish\",\"typo\",\"lucy\",\"wander\",\"crave\",\"flavor\",\"la\",\"definite\",\"lgbt_community\",\"bacon\",\"stroller\",\"viable\",\"household_chore\",\"self_defense\",\"visitor\",\"squeeze\",\"sadness\",\"duck\",\"fourth\",\"xyz\",\"inferior\",\"electronic\",\"sorta\",\"continually\",\"bearing\",\"silent_treatment\",\"loop\",\"reconcile\",\"bucket\",\"chemistry\",\"wary\",\"gigantic\",\"obsession\",\"misinterpret\",\"reproductive\",\"tumblr\",\"demean\",\"century\",\"stunt\",\"fitness\",\"faithful\",\"i.\",\"scent\",\"museum\",\"conform\",\"feeding\",\"logically\",\"outrageous\",\"skirt\",\"doom\",\"assholeish\",\"soooo\",\"engineering\",\"temporarily\",\"pedo\",\"underlie\",\"mitigate\",\"improvement\",\"c_section\",\"swipe\",\"winter\",\"commute\",\"president\",\"presumptuous\",\"scientific\",\"maliciously\",\"magical\",\"officially\",\"halloween\",\"willingness\",\"scum\",\"studio\",\"dip\",\"cell_phone\",\"hesitant\",\"freely\",\"lost\",\"bladder\",\"stair\",\"clarity\",\"shortly\",\"integrity\",\"christianity\",\"bore\",\"achievement\",\"ironic\",\"spark\",\"evolve\",\"sidewalk\",\"surname\",\"cite\",\"drastically\",\"criterion\",\"leech\",\"intercourse\",\"gaslight\",\"trainer\",\"housemate\",\"adorable\",\"freshman\",\"seating\",\"instructor\",\"flair\",\"terrified\",\"anticipate\",\"accent\",\"fishy\",\"accessible\",\"upstairs\",\"gentleman\",\"announcement\",\"crucial\",\"running\",\"psych\",\"negativity\",\"glove\",\"sleeping\",\"undo\",\"disposable\",\"bday\",\"lgbtq\",\"depression_anxiety\",\"sticker\",\"exciting\",\"stepson\",\"experienced\",\"glance\",\"lump\",\"meantime\",\"basket\",\"1/2\",\"enormous\",\"gratitude\",\"unbelievable\",\"unintentionally\",\"pace\",\"flexible\",\"bridal_party\",\"backpack\",\"medical_procedure\",\"tragic\",\"select\",\"bmi\",\"gloss\",\"driveway\",\"gpa\",\"flawed\",\"cringey\",\"favoritism\",\"rehome\",\"generosity\",\"vastly\",\"detrimental\",\"brilliant\",\"secondary\",\"germ\",\"recall\",\"resident\",\"medal\",\"major_red_flag\",\"indulge\",\"closely\",\"equation\",\"asshat\",\"director\",\"bdsm\",\"statistically\",\"lie_omission\",\"portray\",\"reckless\",\"distraction\",\"worship\",\"doc\",\"holy_crap\",\"sensitivity\",\"tape\",\"queen\",\"cap\",\"press_charge\",\"clever\",\"doesn't\",\"shape_form\",\"culturally\",\"premise\",\"romance\",\"nonetheless\",\"poc\",\"chris\",\"weirde\",\"offence\",\"trophy\",\"mooch\",\"elementary_school\",\"occurrence\",\"rack\",\"santa\",\"cloud\",\"bash\",\"admire\",\"lung\",\"woah\",\"heroin\",\"flirty\",\"patron\",\"emphasis\",\"outlet\",\"tick\",\"garden\",\"script\",\"rumor\",\"cab\",\"overseas\",\"stroke\",\"blonde\",\"whoa\",\"whomever\",\"edit_spelling\",\"contrary\",\"rebuild\",\"strap\",\"arguably\",\"pink\",\"rightly\",\"highway\",\"dont\",\"maternal\",\"outrage\",\"beggar\",\"giggle\",\"prescription\",\"transphobia\",\"social_cue\",\"par\",\"slavery\",\"disneyland\",\"deliberate\",\"moan\",\"humiliation\",\"commonly\",\"abby\",\"production\",\"induce\",\"drug_addict\",\"generic\",\"shine\",\"lil\",\"heel\",\"killer\",\"babysitting\",\"suitable\",\"doubly\",\"coat\",\"r_raisedbynarcissist\",\"soccer\",\"heat_moment\",\"mere\",\"obtuse\",\"distrust\",\"continuously\",\"limitation\",\"hostage\",\"sample\",\"beneath\",\"grocery_shopping\",\"tour\",\"con\",\"hpv\",\"campaign\",\"shameful\",\"vegas\",\"undergrad\",\"derogatory\",\"crotch\",\"thank_silver\",\"needy\",\"excite\",\"dysfunctional\",\"federal\",\"rift\",\"technology\",\"humble\",\"trustworthy\",\"vital\",\"ntathat\",\"scrub\",\"stamp\",\"budge\",\"ytayou're\",\"bull\",\"butter\",\"mattress\",\"hammer\",\"supplement\",\"impressed\",\"rope\",\"careless\",\"march\",\"enabler\",\"shade\",\"peer_pressure\",\"restrain_order\",\"platform\",\"condemn\",\"sofa\",\"battery\",\"splitting\",\"ideology\",\"talking\",\"prompt\",\"strand\",\"fam\",\"grumpy\",\"100k\",\"indicative\",\"blog\",\"\\ud83d\\udc4f\",\"moderate\",\"jim\",\"optional\",\"steam\",\"apologetic\",\"spine\",\"yoga\",\"accurately\",\"intern\",\"high_schooler\",\"comedy\",\"incompatibility\",\"persist\",\"realtor\",\"unconscious\",\"turkey\",\"gamble\",\"duh\",\"craft\",\"honk\",\"flake\",\"boo\",\"dementia\",\"molester\",\"vaccination\",\"playful\",\"obsessive\",\"slut_shaming\",\"backyard\",\"self_righteous\",\"joint_account\",\"threatening\",\"unpaid\",\"consciously\",\"widow\",\"lube\",\"maternity\",\"goodness\",\"unborn\",\"semantic\",\"transportation\",\"dickish\",\"virtue\",\"region\",\"familial\",\"anonymously\",\"refrain\",\"engaged\",\"evenly\",\"bff\",\"applaud\",\"homosexual\",\"psychologically\",\"firearm\",\"contradict\",\"stepfather\",\"legacy\",\"surgeon\",\"handicapped\",\"fling\",\"shun\",\"gal\",\"sour\",\"stoop_level\",\"incest\",\"juice\",\"functioning\",\"retain\",\"didn't\",\"shampoo\",\"gamer\",\"developmental\",\"fork\",\"breadwinner\",\"successfully\",\"format\",\"athletic\",\"misguided\",\"objection\",\"trail\",\"h\",\"economic\",\"curve\",\"diabetic\",\"dialogue\",\"spiral\",\"onus\",\"florida\",\"reassurance\",\"specialist\",\"famous\",\"passport\",\"cartoon\",\"sarcasm\",\"nta.it\",\"pettiness\",\"pal\",\"cart\",\"trimester\",\"lasting\",\"douchey\",\"dishwasher\",\"hispanic\",\"pick_slack\",\"dust\",\"chop\",\"dave\",\"obtain\",\"ofc\",\"auto\",\"sneaky\",\"trim\",\"diabetes\",\"appalling\",\"cuss\",\"offended\",\"outweigh\",\"ivf\",\"pushover\",\"resist\",\"straightforward\",\"mindful\",\"uninvite\",\"self_reflection\",\"african\",\"housekeeper\",\"traditionally\",\"historically\",\"dye\",\"legality\",\"downstairs\",\"ethnic\",\"stray\",\"excitement\",\"gatekeepe\",\"origin\",\"tail\",\"invalid\",\"tad\",\"sweep\",\"stereotypical\",\"scheme\",\"vision\",\"braid\",\"despicable\",\"ytathis\",\"historical\",\"chubby\",\"learning_experience\",\"1.5\",\"narcissism\",\"truthful\",\"boost\",\"b_c\",\"couple_counsel\",\"yelling\",\"misrepresent\",\"iphone\",\"dietary_restriction\",\"social_norm\",\"y\\u2019all\",\"comfortably\",\"hamster\",\"postpartum\",\"inherent\",\"advertise\",\"implant\",\"survival\",\"paul\",\"calculate\",\"v\",\"drunken\",\"gender_neutral\",\"penetration\",\"smelly\",\"combat\",\"bob\",\"fade\",\"bruise\",\"nyc\",\"mini\",\"domestic\",\"anti_vaxxer\",\"analysis\",\"convention\",\"specially\",\"ambition\",\"ridicule\",\"steven\",\"whatnot\",\"deadly\",\"characteristic\",\"chime\",\"generalize\",\"healing\",\"philosophy\",\"correction\",\"ironically\",\"receptive\",\"bathe\",\"phd\",\"rug\",\"gauge\",\"rash\",\"flaunt\",\"shred\",\"masculinity\",\"afterward\",\"esp\",\"affectionate\",\"surrogacy\",\"normalize\",\"daniel\",\"mental_gymnastic\",\"admin\",\"domestic_violence\",\"grad_school\",\"choke\",\"river\",\"giver\",\"tray\",\"monetary\",\"milestone\",\"maid_honor\",\"tone_deaf\",\"inexperienced\",\"scummy\",\"untrue\",\"psychotic\",\"stfu\",\"queue\",\"invent\",\"adhere\",\"balanced\",\"gracious\",\"lawn\",\"rudely\",\"articulate\",\"admirable\",\"tuesday\",\"demographic\",\"moon\",\"tomato\",\"calling\",\"backlash\",\"juvenile\",\"slut_shame\",\":d\",\"tutor\",\"initiative\",\":p\",\"virtually\",\"sea\",\"hyphenate\",\"outdoor\",\"economy\",\"cherry\",\"lighten\",\"alcoholism\",\"servant\",\"assholey\",\"caveat\",\"cherish\",\"foreplay\",\"educational\",\"internship\",\"grill\",\"conclude\",\"brush_tooth\",\"sexually_harass\",\"cult\",\"bratty\",\"prob\",\"crowded\",\"easement\",\"banana\",\"mind_reader\",\"impressive\",\"keeper\",\"bell\",\"celebrity\",\"voluntarily\",\"kidnap\",\"pervert\",\"redeem\",\"tammy\",\"shithead\",\"tldr\",\"neglectful\",\"dryer\",\"grandson\",\"temper_tantrum\",\"mr.\",\"shield\",\"\\\"you\",\"bottle_wine\",\"writer\",\"disconnect\",\"wolf\",\"prone\",\"disservice\",\"acting\",\"omit\",\"bunny\",\"brief\",\"crutch\",\"thrive\",\"\\ud83e\\udd14\",\"seal\",\"uninvited\",\"outlook\",\"clinical\",\"destination\",\"nta.your\",\"jeopardize\",\"ending\",\"snuggle\",\"5k\",\"concrete\",\"selfless\",\"uncool\",\"virus\",\"prenatal\",\"undergo\",\"stumble\",\"inner\",\"atleast\",\"unannounced\",\"coupon\",\"skin_color\",\"animal_product\",\"swimming\",\"brownie\",\"grass\",\"browse\",\"moody\",\"feasible\",\"edible\",\"muslims\",\"disappointing\",\"heaven\",\"james\",\"lastly\",\"impulsive\",\"frozen\",\"dentist\",\"isn't\",\"fortunate\",\"wire\",\"gosh\",\"storage\",\"override\",\"ect\",\"straighten\",\"priest\",\"subconsciously\",\"dread\",\"competent\",\"exact_opposite\",\"facial\",\"division\",\"hit_nail\",\"heated\",\"ordeal\",\"blindside\",\"bold\",\"bachelorette_party\",\"rn\",\"tier\",\"remarry\",\"smug\",\"immensely\",\"boner\",\"diverse\",\"social_circle\",\"blindly\",\"hardcore\",\"decrease\",\"pitbull\",\"purple\",\"mistaken\",\"wholly\",\"pastor\",\"tourist\",\"movie_theater\",\"incorrectly\",\"united_states\",\"humour\",\"myth\",\"gig\",\"suspend\",\"contempt\",\"motion\",\"span\",\"racial_slur\",\"trope\",\"sleep_deprive\",\"responsibly\",\"dining\",\"bush\",\"unexpectedly\",\"preschool\",\"spoiled_brat\",\"pediatrician\",\"edit_typo\",\"ahole\",\"plug\",\"tom\",\"kosher\",\"courteous\",\"waiting\",\"flame\",\"advanced\",\"4th\",\"themself\",\"tbf\",\"purse\",\"endgame\",\"pepper\",\"compel\",\"adjustment\",\"sob\",\"millennial\",\"net\",\"wisdom\",\"eliminate\",\"progressive\",\"peg\",\"facilitate\",\"marijuana\",\"bass\",\"conditional\",\"radio\",\"psychiatrist\",\"unpopular\",\"mechanic\",\"devil\",\"coffee_shop\",\"foreign_country\",\"sjw\",\"cruise\",\"bound\",\"deflect\",\"politeness\",\"adoptive\",\"harshly\",\"meat_eater\",\"observation\",\"revoke\",\"drama_queen\",\"council\",\"county\",\"korean\",\"sense_humor\",\"seed\",\"lotion\",\"dedicated\",\"pantie\",\"vaginal\",\"misleading\",\"silently\",\"projection\",\"disable\",\"daily_basis\",\"open_minded\",\"circumcision\",\"certainty\",\"intrusive\",\"felony\",\"hangout\",\"pout\",\"conviction\",\"pole\",\"breach_trust\",\"torment\",\"stream\",\"comic\",\"seriousness\",\"prescribe\",\"hyper\",\"certificate\",\"crew\",\"=_/=\",\"steer\",\"washing\",\"r_niceguys\",\"undoubtedly\",\"gfs\",\"triple\",\"unpack\",\"southern\",\"clingy\",\"scamme\",\"skeptical\",\"severity\",\"laughable\",\"pup\",\"calendar\",\"grad\",\"infertility\",\"specie\",\"restrain\",\"representation\",\"attractiveness\",\"defence\",\"tale\",\"resolution\",\"remote\",\"wibta\",\"bipolar\",\"doctor_appointment\",\"bend_backwards\",\"ra\",\"noodle\",\"plausible\",\"greet\",\"vanilla\",\"ethically\",\"bluff\",\"orientation\",\"mlm\",\"gendered\",\"world_revolve\",\"housewife\",\"tickle\",\"foolish\",\"variation\",\"catfishe\",\"district\",\"cream\",\"manifest\",\"men\",\"hurry\",\"cinema\",\"gape\",\"bulk\",\"lgbt+\",\"beloved\",\"keto\",\"selfishly\",\"scope\",\"banter\",\"foremost\",\"amitheasshole_question\",\"s_o\",\"rationale\",\"unclear\",\"setup\",\"rinse\",\"unfairly\",\"entirety\",\"gluten\",\"podcast\",\"relationship_advice\",\"unvaccinated\",\"applicant\",\"believable\",\"invisible\",\"bot_action\",\"misbehave\",\"monogamy\",\"anecdote\",\"early_20\",\"obey\",\"innocuous\",\"kindergarten\",\"mandarin\",\"sentimental_value\",\"mexico\",\"dumpster\",\"complicit\",\"connotation\",\"fiction\",\"unkind\",\"factory\",\"birth_certificate\",\"latch\",\"scrape\",\"positively\",\"yta.if\",\"walk_eggshell\",\"unfaithful\",\"linger\",\"hazard\",\"fixate\",\"perform_automatically_contact_moderator\",\"branch\",\"disadvantage\",\"manly\",\"eff\",\"tackle\",\"happening\",\"sulk\",\"sigh\",\"starter\",\"ds\",\"collar\",\"genitalia\",\"cease\",\"fester\",\"organise\",\"playground\",\"chronic\",\"texas\",\"subreddit](/message_compose/?to=/r\",\"icky\",\"white_knight\",\"demeaning\",\"tablet\",\"devalue\",\"socially_acceptable\",\"keen\",\"container\",\"dial\",\"u.s.\",\"cafe\",\"drawer\",\"mushroom\",\"north\",\"visa\",\"delusion\",\"\\ufe0f\",\"generalization\",\"sucky\",\"pale\",\"negligence\",\"likewise\",\"1/3\",\"destruction\",\"leeway\",\"shadow\",\"cleaner\",\"institution\",\"nutrient\",\"touchy\",\"dramatically\",\"gas_station\",\"candle\",\"twisted\",\"participant\",\"unconditional\",\"maturely\",\"negatively_affect\",\"diversity\",\"migraine\",\"grudge\",\"bitching\",\"crop\",\"modify\",\"jurisdiction\",\"intellectual\",\"accountable\",\"veto\",\"bacteria\",\"suffice\",\"upside\",\"grossly\",\"anatomy\",\"guilt_tripping\",\"info-\",\"earning\",\"troubling\",\"violently\",\"baseball\",\"alternatively\",\"outline\",\"regulation\",\"cupcake\",\"taint\",\"worthwhile\",\"follow_abbreviation\",\"rot\",\"tactless\",\"iirc\",\"helicopter\",\"membership\",\"breeder\",\"gasp\",\"nod\",\"maximum\",\"akin\",\"threshold\",\"rose\",\"edit-\",\"messed\",\"spa\",\"soak\",\"envy\",\"freezer\",\"heartbeat\",\"hetero\",\"misgendere\",\"bea\",\"thumb\",\"void\",\"riddance\",\"boom\",\"enthusiastic\",\"drawing\",\"nta.if\",\"coincidence\",\"newly\",\"sleeve\",\"bisexuality\",\"incompetent\",\"wether\",\"\\u2764_\\ufe0f\",\"miscarry\",\"unfamiliar\",\"rule_thumb\",\"weakness\",\"bachelor\",\"esh-\",\"willfully\",\"joking\",\"ruling\",\"comfort_zone\",\"flex\",\"adolescent\",\"administration\",\"amicable\",\"barge\",\"nevermind\",\"casserole\",\"indirectly\",\"heartbreaking\",\"recognition\",\"ramification\",\"carpet\",\"tame\",\"reproduce\",\"reunion\",\"independently\",\"illegally\",\"backstory\",\"thi\",\"era\",\"maddie\",\"rural\",\"gender_reverse\",\"december\",\"encouragement\",\"plead\",\"mansplaining\",\"i\\u2019d\",\"hoe\",\"commend\",\"verge\",\"y_o\",\"slander\",\"breastfe\",\"paranoia\",\"burn_bridge\",\"inadvertently\",\"funding\",\"mute\",\"horrify\",\"sensory\",\"regulate\",\"classy\",\"aversion\",\"fever\",\"1,000\",\"congratulate\",\"multi\",\"dominate\",\"texting\",\"patch\",\"justifiably\",\"objectify\",\"expel\",\"grey\",\"routinely\",\"ntayou're\",\"component\",\"rudeness\",\"motherhood\",\"impregnate\",\"chalk\",\"alarming\",\"implement\",\"toxicity\",\"fortunately\",\"eager\",\"appal\",\"gracefully\",\"recline_seat\",\"uhh\",\"tit_tat\",\"stew\",\"dealer\",\"specialize\",\"bargain\",\"brainwash\",\"vicious\",\"fatty\",\"titty\",\"+1\",\"detriment\",\"blah_blah_blah\",\"proactive\",\"petulant\",\"ordinary\",\"treasure\",\"download\",\"mutually_exclusive\",\"construction\",\"distribute\",\"nudity\",\"shooting\",\"inclusive\",\"soldier\",\"gall\",\"unlock\",\"substantial\",\"dan\",\"attire\",\"keyboard\",\"genetically\",\"jokingly\",\"sugar_daddy\",\"unintentional\",\"highly_recommend\",\"solo_trip\",\"demanding\",\"physician\",\"kissing\",\"insistent\",\"posting\",\"speculate\",\"england\",\"aesthetic\",\"itt\",\"urgent\",\"civilian\",\"affordable\",\"ntai'm\",\"detailed\",\"france\",\"body_positivity\",\"navy\",\"vet_bill\",\"poope\",\"atmosphere\",\"ytahe\",\"clerk\",\"chuckle\",\"quirk\",\"consumption\",\"internally\",\"oven\",\"worrying\",\"qualification\",\"restrictive\",\"preferably\",\"wax\",\"savage\",\"intake\",\"hoa\",\"rib\",\"discretion\",\"appreciative\",\"mend\",\"nest\",\"errand\",\"sucker\",\"10/10\",\"sheesh\",\"ytanot\",\"ben\",\"unspoken\",\"tense\",\"hourly\",\"5th\",\"novel\",\"snowflake\",\"untrustworthy\",\"break_camel\",\"cereal\",\"pipe\",\"snapping\",\"visual\",\"personality_disorder\",\"wholeheartedly\",\"womb\",\"persistent\",\"spicy\",\"nahit\",\"mega\",\"grand_scheme\",\"ostracize\",\"gorgeous\",\"sway\",\"heartbreak\",\"cranky\",\"^\",\"float\",\"imagination\",\"haul\",\"gee\",\"ludicrous\",\"fate\",\"realm\",\"vape\",\"arouse\",\"peeing\",\"known\",\"accompany\",\"offspring\",\"evaluation\",\"shall\",\"briefly\",\"nuisance\",\"dispose\",\"compound\",\"dang\",\"pit_bull\",\"registry\",\"narrow\",\"meth\",\"spout\",\"subway\",\"electric\",\"hinder\",\"graphic\",\"nation\",\"fend\",\"forgiving\",\"noble\",\"alleviate\",\"post_partum\",\"prioritise\",\"soy\",\"exempt\",\"coercion\",\"seperate\",\"hijack\",\"native_american\",\"charlie\",\"immense\",\"supreme\",\"companion\",\"belladonna\",\"whisper\",\"selfie\",\"irrationally\",\"instill\",\"tidy\",\"whoop\",\"cmon\",\"fur\",\"invitation_debate_subject\",\"livelihood\",\"blend\",\"bigoted\",\"exotic\",\"residence\",\"surprisingly\",\"hangup\",\"alien\",\"drunk_driving\",\"zoo\",\"piano\",\"wholesome\",\"nerd\",\"conceal\",\"imbalance\",\"pinch\",\"tofu\",\"instal\",\"hissy_fit\",\"screaming\",\"unheard\",\"pony\",\"rail\",\"sticky\",\"cord\",\"basketball\",\"horrifying\",\"fist\",\"screening\",\"avenue\",\"alt\",\"ted\",\"moot\",\"parking_spot\",\"hog\",\"unload\",\"ireland\",\"charitable\",\"invasion_privacy\",\"rad\",\"tolerant\",\"spotlight\",\"brick\",\"restraint\",\"police_officer\",\"accountability\",\"yta.it\",\"pornography\",\"<3\",\"horrified\",\"preparation\",\"chart\",\"they're\",\"motherfucker\",\"individually\",\"i\\u2019ve\",\"yay\",\"fare\",\"\\ud83d\\ude02_\\ud83d\\ude02\",\"sacred\",\"curfew\",\"microwave\",\"childless\",\"jaw\",\"colossal\",\"haunt\",\"frat\",\"exceptionally\",\"negligent\",\"horn\",\"manipulator\",\"whichever\",\"escalation\",\"peak\",\"visibly\",\"blackout_drunk\",\"readily\",\"cowardly\",\"painfully\",\"stack\",\"blow_proportion\",\"rocky\",\"dancer\",\"living_expense\",\"homemade\",\"bodily_function\",\"conception\",\"miracle\",\"oppress\",\"coast\",\"isolated\",\"awkwardness\",\"negatively_impact\",\"destination_wedding\",\"spew\",\"bedtime\",\"polish\",\"remedy\",\"respectable\",\"err\",\"speak_volume\",\"knit\",\"persuade\",\"looking\",\"stash\",\"jab\",\"unicorn\",\"leadership\",\"asinine\",\"ipad\",\"rehab\",\"unattende\",\"public_transport\",\"west\",\"comeback\",\"cloth\",\"iq\",\"comprehension\",\"subscribe\",\"underweight\",\"offering\",\"serial_killer\",\"sooooo\",\"token\",\"cosmetic\",\"nip_bud\",\"public_transportation\",\"pun\",\"peanut_butter\",\"terminal\",\"notification\",\"anorexia\",\"brace\",\"distinct\",\"needless\",\"sam\",\"skewed\",\"believer\",\"obgyn\",\"rachel\",\"flesh\",\"bbq\",\"new_york\",\"defect\",\"overly_sensitive\",\"sible\",\"insignificant\",\"relaxed\",\"termination\",\"imaginary\",\"publish\",\"lunatic\",\"scapegoat\",\"curly_hair\",\"translation\",\"nepotism\",\"organizer\",\"central\",\"piercing\",\"indefinitely\",\"increasingly\",\"conference\",\"cliche\",\"noisy\",\"nta.she\",\"skew\",\"paper_towel\",\"bachelor_party\",\"non_binary\",\"sharp\",\"clown\",\"inadequate\",\"40\",\"excess\",\"unconditionally\",\"devote\",\"teammate\",\"elevator\",\"capability\",\"hmmm\",\"chastise\",\"united\",\"embryo\",\"minus\",\"bro_code\",\"delude\",\"cling\",\"cracker\",\"dr.\",\"install\",\"slob\",\"elephant\",\"roam\",\"worm\",\"stds\",\"premium\",\"transplant\",\"flatmate\",\"crate\",\"dressed\",\"reader\",\"airplane\",\"yrs\",\"neat\",\"steady\",\"ample\",\"africa\",\"hub\",\"r_entitledparent\",\"partial\",\"legal_guardian\",\"bystander\",\"unsupportive\",\"venture\",\"vaccinated\",\"mandate\",\"bleeding\",\"absorb\",\"mow_lawn\",\"elder\",\"wednesday\",\"said\",\"san\",\"whistle\",\"slippery_slope\",\"scouts\",\"upcoming\",\"rhetoric\",\"robot\",\"bode\",\"incubator\",\"software\",\"valuable_lesson\",\"recourse\",\"april\",\"demonize\",\"operation\",\"yogurt\",\"elope\",\"adventure\",\"roomie\",\"repulse\",\"unsupervise\",\"tent\",\"goodwill\",\"vain\",\"pedantic\",\"egregious\",\"motivated\",\"yellow\",\"terrifying\",\"deserved\",\"bout\",\"residency\",\"victimize\",\"harbor\",\"bald\",\"identical_twin\",\"gender_dysphoria\",\"misplace\",\"curl\",\"orange\",\"spice\",\"jessica\",\"universally\",\"inlaw\",\"women\",\"bitterness\",\"disguise\",\"beast\",\"conspiracy\",\"badass\",\"satisfying\",\"dominance\",\"uti\",\"martyr\",\"grain_salt\",\"prof\",\"exaggeration\",\"desert\",\"penalty\",\"guise\",\"insanity\",\"needle\",\"generate\",\"bleach\",\"australian\",\"kinky\",\"spaghetti\",\"efficient\",\"shitti\",\"salon\",\"ouch\",\"\\\"if\",\"fundraiser\",\"musical\",\"concede\",\"instigate\",\"troubled\",\"contraceptive\",\"realization\",\"retarded\",\"sobriety\",\"partake\",\"stepsister\",\"testosterone\",\"glare\",\"loaded\",\"nta.this\",\"hood\",\"dilemma\",\"hairstyle\",\"pleased\",\"empower\",\"mo\",\"asthma\",\"execute\",\"louder\",\"executive\",\"assertive\",\"moreso\",\"maker\",\"frown\",\"vegans\",\"commission\",\"sweetie\",\"speculation\",\"confine\",\"ft\",\"planner\",\"solidify\",\"shiny\",\"ounce\",\"overstep_boundary\",\"service_industry\",\"golf\",\"compatibility\",\"forehead\",\"accusatory\",\"melt\",\"befriend\",\"postpartum_depression\",\"gum\",\"debilitate\",\"fantasize\",\"vitamin\",\"y'know\",\"taco\",\"retard\",\"nurture\",\"psychiatric\",\"astounding\",\"dash\",\"talented\",\"higher\",\"breathing\",\"sociopathic\",\"morbidly_obese\",\"cognitive\",\"tube\",\"cope_mechanism\",\"dishonesty\",\"knee_jerk_reaction\",\"epic\",\"badger\",\"misuse\",\"dangerously\",\"construct\",\"spank\",\"ratio\",\"atheism\",\"january\",\"ace\",\"tattle\",\"centre\",\"exacerbate\",\"repulsive\",\"hiking\",\"jam\",\"preferred\",\"disclaimer\",\"rainbow\",\"meter\",\"obsessed\",\"armpit\",\"wildlife\",\"electricity\",\"trolling\",\"annual\",\"resemble\",\"defamation\",\"mystery\",\"disproportionate\",\"extended_period\",\"pantry\",\"evidently\",\"morning_sickness\",\"challenging\",\"wardrobe\",\"rectify\",\"determined\",\"hockey\",\"marathon\",\"apt\",\"patronize\",\"tremendous\",\"bulimia\",\"massive_red_flag\",\"ytathe\",\"publicly_humiliate\",\"apologizing\",\"flood\",\"curtain\",\"revisit\",\"bent\",\"mentor\",\"prohibit\",\"aswell\",\"locker_room\",\"approximately\",\"liver\",\"worldview\",\"unwelcome\",\"climate\",\"mall\",\"follower\",\"uphold\",\"hrs\",\"certify\",\"penetrative\",\"asd\",\"intolerant\",\"hack\",\"sew\",\"i.e\",\"unpredictable\",\"unbiased\",\"stupidly\",\"gladly\",\"technical\",\"furrie\",\"critique\",\"snore\",\"toxic_masculinity\",\"burrito\",\"granddaughter\",\"considering\",\"urine\",\"perpetrator\",\"photograph\",\"reluctant\",\"poo\",\"unfit\",\"downside\",\"unwind\",\"gymnastic\",\"ankle\",\"reconnect\",\"sweetheart\",\"sand\",\"gratification\",\"execution\",\"cement\",\"draft\",\"apartment_complex\",\"unsolicited_advice\",\"newsflash\",\"low_self_esteem\",\"reduction\",\"redirect\",\"balloon\",\"wank\",\"disapprove\",\"commit_suicide\",\"pronunciation\",\"hallway\",\"nosy\",\"disdain\",\"elitist\",\"yank\",\"nip\",\"notch\",\"bluntly\",\"diploma\",\"lgbtq+\",\"laughter\",\"flirting\",\"immune\",\"taste_medicine\",\"technicality\",\"stepparent\",\"snob\",\"fleshlight\",\"subsidize\",\"supermarket\",\"cc\",\"hostility\",\"external\",\"washer\",\"fraction\",\"abstinence\",\"voluntary\",\"mundane\",\"expire\",\"mechanism\",\"going\",\"yah\",\"children\",\"wrestle\",\"transport\",\"discharge\",\"hearted\",\"ritual\",\"bee\",\"turd\",\"butthole\",\"ham\",\"earplug\",\"dnd\",\"postpone\",\"eligible\",\"you've\",\"anger_management\",\"flippant\",\"outdated\",\"terrorist\",\"lyft\",\"awfully\",\"proceeding\",\"jersey\",\"pickle\",\"mrs.\",\"explore_sexuality\",\"conflate\",\"locate\",\"heartbreake\",\"materialistic\",\"puzzle\",\"hiding\",\"clip\",\"temperature\",\"grader\",\"wit\",\"representative\",\"contemplate\",\"confession\",\"politely_decline\",\"ultrasound\",\"overwhelmingly\",\"deceptive\",\"transwoman\",\"30k\",\"latino\",\"infringe\",\"ho\",\"peaceful\",\"dui\",\"p.s.\",\"angrily\",\"temple\",\"intolerance\",\"applicable\",\"able_bodied\",\"dragon\",\"needs\",\"mat\",\"\\\"it\",\"mission\",\"author\",\"gravity\",\"mtf\",\"analyze\",\"eshyour\",\"attention_seeking\",\"carer\",\"probability\",\"sword\",\"superiority\",\"esa\",\"bragging\",\"horrid\",\"stimulation\",\"allergen\",\"ff\",\"dive\",\"contagious\",\"coconut\",\"immune_system\",\"ski\",\"designer\",\"snide\",\"\\ud83e\\udd37_\\ud83c\\udffb\\u200d_\\u2640_\\ufe0f\",\"gotcha\",\"umm\",\"mormon\",\"mighty\",\"egotistical\",\"eshshe\",\"insulin\",\"removal\",\"neurotypical\",\"flee\",\"august\",\"custodial\",\"marvel\",\"subconscious\",\"chili\",\"terminology\",\"1k\",\"marine\",\"endless\",\"50\",\"unlocked\",\"preferable\",\"intoxicate\",\"diary\",\"regain\",\"pedophilia\",\"smoothly\",\"shooter\",\"ob\",\"mcdonalds\",\"wed\",\"passing\",\"factual\",\"piggy\",\"chapter\",\"jeremy\",\"cringy\",\"rotten\",\"tournament\",\"information_misunderstand\",\"adequately\",\"noticeable\",\"asking\",\"oppression\",\"motorcycle\",\"hive\",\"/r_legaladvice\",\"knowledgeable\",\"cultural_appropriation\",\"wager\",\"butts\",\"bodily\",\"overhear\",\"mentally_disabled\",\"killing\",\"breast_milk\",\"girly\",\"ntaand\",\"infinitely\",\"xd\",\"cs\",\"wrist\",\"\\ud83e\\udd23\",\"delivery_driver\",\"classify\",\"stretch_mark\",\"fitting\",\"walking\",\"smith\",\"misconception\",\"vocabulary\",\"infer\",\"illogical\",\"transparent\",\"condolence\",\"passive_aggressively\",\"snatch\",\"glue\",\"manchild\",\"flattering\",\"cornell\",\"mouse\",\"relapse\",\"plane_ticket\",\"reset\",\"you-\",\"momma\",\"recieve\",\"en\",\"correlate\",\"italy\",\"whack\",\"radical\",\"quitting\",\"sausage\",\"disclosure\",\"nauseous\",\"rebel\",\"humility\",\"alongside\",\"negotiation\",\"ada\",\"memorial\",\"10,000\",\"suitcase\",\"tub\",\"stern\",\"fatigue\",\"glorify\",\"p\",\"lessen\",\"\\ud83d\\ude0a\",\"faggot\",\"dearly\",\"concentrate\",\"nationality\",\"sustainable\",\"sleep_deprivation\",\"meta\",\"thrust\",\"modest\",\"hysterical\",\"aa\",\"correlation\",\"trespass\",\"tasty\",\"wildly_inappropriate\",\"donate_kidney\",\"voting\",\"liquor\",\"distribution\",\"hypothetically\",\"bikinis\",\"literature\",\"potty\",\"proportional\",\"launch\",\"jew\",\"hunting\",\"unfounded\",\"witch\",\"grey_area\",\"rear\",\"advisor\",\"hesitation\",\"mold\",\"bingo\",\"consumer\",\"vast\",\"2/3\",\"swimsuit\",\"it-\",\"forgetful\",\"menstrual\",\"demon\",\"plainly\",\"trivialize\",\"buyer\",\"armchair\",\"ms\",\"ig\",\"inexcusable\",\"ryan\",\"prevention\",\"wrongly\",\"repayment\",\"animosity\",\"musician\",\"dirty_laundry\",\"drip\",\"listener\",\"scientist\",\"impair\",\"vomiting\",\"annie\",\"clause\",\"selection\",\"inaccurate\",\"naughty\",\"google_search\",\"pubis\",\"captain\",\"gradually\",\"hiring\",\"autocorrect\",\"respective\",\"consist\",\"promptly\",\"degrading\",\"showing\",\"elbow\",\"lid\",\"supporter\",\"participation\",\"3x\",\"smear\",\"partum_depression\",\"dine\",\"defeat\",\"embarasse\",\"dibs\",\"exhaustion\",\"carb\",\"apologize_profusely\",\"blast_music\",\"short_sighted\",\"detach\",\"sting\",\"reflex\",\"uninformed\",\"entity\",\"spineless\",\"fetch\",\"educator\",\"shrink\",\"hunger\",\"domme\",\"journal\",\"entrance\",\"amber_alert\",\"white_supremacist\",\"moral_compass\",\"marketing\",\"sneeze\",\"donut\",\"village\",\"truthfully\",\"unwarranted\",\"native_language\",\"1/4\",\"antagonize\",\"fifth\",\"sob_story\",\"acquire\",\"sahp\",\"digital\",\"ytathere\",\"holocaust\",\"bfs\",\"cleanliness\",\"spawn\",\"predictable\",\"buying\",\"suppress\",\"addictive\",\"rearrange\",\"loathe\",\"earring\",\"pedestrian\",\"duration\",\"lemon\",\"ancient\",\"precedence\",\"conversion\",\"dealership\",\"impressionable\",\"illustrate\",\"fabric\",\"mr\",\"wrongdoing\",\"widower\",\"unreliable\",\"citizenship\",\"dj\",\"commercial\",\"bam\",\"filthy\",\"opposed\",\"bat_eye\",\"cocktail\",\"hospitality\",\"vibrate\",\"waist\",\"kennel\",\"aftermath\",\"socially_awkward\",\"ogle\",\"dot\",\"patronizing\",\"assholes\",\"east\",\"kit\",\"stinky\",\"im\",\"consistency\",\"sustain\",\"solidarity\",\"infect\",\"dental\",\"teasing\",\"deceitful\",\"disparity\",\"fetishize\",\"rough_patch\",\"appetite\",\"prevalent\",\"exaggerated\",\"perk\",\"frequency\",\"refill\",\"grownup\",\"misinform\",\"unknowingly\",\"credit_score\",\"extracurricular\",\"niceguy\",\"combo\",\"uneducated\",\"2x\",\"ahh\",\"mob\",\"tiffany\",\"vaguely\",\"transactional\",\"i'll\",\"backbone\",\"quantity\",\"\\\"that\",\"distasteful\",\"malicious_intent\",\"differentiate\",\"thigh\",\"ita\",\"\\u20ac\",\"racially\",\"suspension\",\"abhorrent\",\"dipshit\",\"uneasy\",\"ache\",\"mercy\",\"empathise\",\"upscale\",\"mill\",\"ytawhat\",\"derail\",\"breast_feeding\",\"unimportant\",\"rifle\",\"alabama\",\"grounding\",\"iffy\",\"pikachu\",\"skilled\",\"weekday\",\"fond\",\"inconsequential\",\"prosecute\",\"granny\",\"intended\",\"mgtow\",\"xmas\",\"sky\",\"paw\",\"dysphoria\",\"pry\",\"mans\",\"strive\",\"razor\",\"heap\",\"garlic\",\"worsen\",\"violate_privacy\",\"cosplay\",\"incline\",\"cooking_cleaning\",\"impolite\",\"discard\",\"ftm\",\"dye_hair\",\"sever\",\"freeloader\",\"umbrella\",\"unforgivable\",\"earner\",\"forgo\",\"rep\",\"janitor\",\"desirable\",\"serving\",\"trunk\",\"developmentally\",\"television\",\"handsome\",\"insta\",\"\\ud83e\\udd26\",\"connected\",\"hype\",\"christ_sake\",\"thong\",\"15k\",\"extravagant\",\"domestic_abuse\",\"amusing\",\"gendere\",\"shoulda\",\"reptile\",\"excessively\",\"leisure\",\"deserving\",\"accessory\",\"unbearable\",\"medicate\",\"diarrhea\",\"hash\",\"fume\",\"pet_peeve\",\"russian\",\"liquid\",\"charming\",\"homeschoole\",\"dummy\",\"phenomenon\",\"documentation\",\"introspection\",\"mommy_daddy\",\"pto\",\"cabin\",\"earbud\",\"hound\",\"prostitution\",\"dehumanizing\",\"unilateral_decision\",\"ooh\",\"spirited\",\"ceo\",\"muster\",\"takeout\",\"commentary\",\"brake\",\"mediocre\",\"preface\",\"propaganda\",\"dutch\",\"barista\",\"'em\",\"ot\",\"polyamorous\",\"catering\",\"pilot\",\"overprotective\",\"dwell\",\"melissa\",\"forcibly\",\"moderation\",\"psa\",\"bribe\",\"discriminatory\",\"psyche\",\"creeper\",\"combative\",\"argumentative\",\"fuzzy\",\"comfy\",\"emu\",\"subsequent\",\"suited\",\"childs\",\"cabinet\",\"documentary\",\"instruct\",\"shitshow\",\"credibility\",\"fictional\",\"insistence\",\"pedestal\",\"understatement\",\"rigid\",\"dd\",\"2k\",\"decoration\",\"immigration\",\"workload\",\"\\ud83c\\udffb\",\"awkwardly\",\"psychosis\",\"harvard\",\"happily_married\",\"coverage\",\"brigade\",\"bruce\",\"mic\",\"beating\",\"sally\",\"yearly\",\"nausea\",\"trafficking\",\"album\",\"civilized\",\"handy\",\"\\u2800\",\"concession\",\"horrendous\",\"donate_sperm\",\"hostess\",\"implicit\",\"homie\",\"proxy\",\"crux\",\"arrogance\",\"ikr\",\"sweater\",\"distinguish\",\"hawaii\",\"warped\",\"interject\",\"coping_mechanism\",\"glass_wine\",\"environmental\",\"hidden\",\"90\",\"overlap\",\"tear_apart\",\"soothe\",\"micro_penis\",\"discreet\",\"nahbut\",\"quiz\",\"tat\",\"fat_shaming\",\"ward\",\"disbelief\",\"ghosting\",\"preppe\",\"incorporate\",\"rap\",\"sniff\",\"feral_cat\",\"co_parenting\",\"stove\",\"crystal\",\"hairy\",\"diligence\",\"x200b;you\",\"asians\",\"ulterior_motive\",\"unlimited\",\"drive_wedge\",\"toast\",\"baseline\",\"clog\",\"overtly\",\"doubtful\",\"bonker\",\"asia\",\"swoop\",\"counsellor\",\"missing\",\"broccoli\",\"rag\",\"oversight\",\"formatting\",\"knowing\",\"unavailable\",\"aggravate\",\"validity\",\"breastmilk\",\"hiv\",\"punctuation\",\"recording\",\"heartfelt\",\"smartphone\",\"paternal\",\"dig_heel\",\"anorexic\",\"clickbait\",\"rapidly\",\"kicker\",\"broadcast\",\"raman\",\"workforce\",\"yuck\",\"creation\",\"ultra\",\"planned\",\"uptight\",\"complete_utter\",\"darn\",\"tenancy\",\"popularity\",\"debatable\",\"utilize\",\"singular\",\"envision\",\"deck\",\"barrel\",\"piv\",\"reprehensible\",\"edgelord\",\"flexibility\",\"stimulate\",\"10k\",\"unreasonably\",\"bathing_suit\",\"abbreviation\",\"magnitude\",\"surrounding\",\"monetary_value\",\"grieving_process\",\"accomodate\",\"\\ud83d\\udc4d\",\"courthouse\",\"ancestor\",\"false_pretense\",\"hoarder\",\"tack\",\"dedication\",\"mac\",\"overkill\",\"neuter\",\"corn\",\"porch\",\"agnostic\",\"curriculum\",\"pokemon\",\"obstacle\",\"hm\",\"\\\"this\",\"rapey\",\"20k\",\"premature\",\"chin\",\"whooping_cough\",\"april_fool\",\"untrained\",\"sixteen\",\"multitude\",\"ambitious\",\"obscure\",\"rsvp\",\"expressly\",\"ytathat\",\"rowdy\",\"ynta\",\"omnivore\",\"referral\",\"exclusion\",\"twitter\",\"ancestry\",\"professionalism\",\"string_attach\",\"disobey\",\"hometown\",\"saddle\",\"divorced\",\"x200b;&#x200b\",\"fallacy\",\"blurt\",\"doable\",\"holy_thou\",\"outlier\",\"leaving\",\"michael\",\"spiritual\",\"snub\",\"poisoning\",\"antibiotic\",\"inexpensive\",\"chaos\",\"80\",\"possess\",\"implicitly\",\"loophole\",\"failing\",\"heartache\",\"politically\",\"atrocious\",\"mansplaine\",\"homeowner\",\"colored\",\"judgy\",\"forfeit\",\"skim\",\"defer\",\"taunt\",\"snip\",\"orgy\",\"viral\",\"widely\",\"sanitary\",\"attendant\",\"justnomil\",\"clash\",\"deficiency\",\"lenient\",\"eating_habit\",\"eve\",\"unresolved\",\"eater\",\"pun_intend\",\"cuck\",\"shovel\",\"ineffective\",\"resistance\",\"manufacture\",\"chaotic\",\"micro\",\"million_dollar\",\"formally\",\"dressing\",\"obligatory\",\"proclaim\",\"petition\",\"misunderstood\",\"tracking\",\"ghetto\",\"entree\",\"significance\",\"financial_aid\",\"abstain\",\"insure\",\"nta.he\",\"dodgy\",\"closeness\",\"aw\",\"lousy\",\"june\",\"oops\",\"theoretically\",\"discredit\",\"soften\",\"sole_purpose\",\"middle_aged\",\"moms\",\"corporation\",\"roomate\",\"deodorant\",\"tactfully\",\"shorten\",\"placate\",\"island\",\"ytawhy\",\"poland\",\"assholeness\",\"d&d\",\"acknowledgement\",\"collective\",\"enrage\",\"diabete\",\"spontaneous\",\"dowry\",\"alarm_bell\",\"ntawhat\",\"lack_thereof\",\"polyamory\",\"uber_driver\",\"alpha\",\"investigation\",\"chicken_nugget\",\"left_lane\",\"non_existent\",\"allegedly\",\"temp\",\"stylist\",\"\\u2800_\\u2800_\\u2800_\\u2800\",\"penetrate\",\"cup_tea\",\"underrated\",\"hoop\",\"unemployment\",\"injustice\",\"rebound\",\"highly_unlikely\",\"tailor\",\"ny\",\"rephrase\",\"heinous\",\"strained\",\"throwaway_account\",\"preteen\",\"epitome\",\"variable\",\"yelp\",\"trample\",\"recipe_disaster\",\"$_10k\",\"juicy\",\"merge\",\"decorate\",\"lion\",\"waaaay\",\"nicu\",\"sidebar\",\"inconsistent\",\"continent\",\"agreed\",\"parallel\",\"clutch\",\"ambiguous\",\"metaphor\",\"vulnerability\",\"idc\",\"mrs\",\"discord\",\"nc\",\"secular\",\"uhhh\",\"unsettling\",\"catch_guard\",\"pickup\",\"unhinged\",\"advertising\",\"cocaine\",\"behold\",\"wee\",\"lounge\",\"bestie\",\"measurement\",\"map\",\"cynical\",\"kidnapping\",\"ohh\",\"gatekeeping\",\"rewarding\",\"fatherhood\",\"amen\",\"bowling\",\"impatient\",\"sexual_compatibility\",\"overthinke\",\"fishing\",\"sitcom\",\"passage\",\"dangle\",\"recruit\",\"watch?v_=\",\"faux_pas\",\"notoriously\",\"security_camera\",\"nuke\",\"boomer\",\"civility\",\"pharmacy\",\"controller\",\"hahahaha\",\"vein\",\"handed\",\"eshi\",\"magazine\",\"reap\",\"manual\",\"frugal\",\"qualm\",\"intensive\",\"ivy_league\",\"photography\",\"bankrupt\",\"encouraging\",\"harp\",\"south_america\",\"london\",\"interpersonal\",\"na\",\"criticise\",\"winning\",\"alike\",\"definetly\",\"hysterectomy\",\"indoctrination\",\"predicament\",\"george\",\"subtly\",\"belligerent\",\"dominant\",\"benign\",\"inject\",\"psychic\",\"sweaty\",\"feral\",\"semblance\",\"sunshine\",\"skinned\",\"fetal\",\"gullible\",\"ambulance\",\"hen\",\"gel\",\"40k\",\"5,000\",\"prolong\",\"righteous\",\"echo\",\"urban\",\"suite\",\"instrument\",\"indoctrinate\",\"rally\",\"karaoke\",\"capitalism\",\"juggle\",\"fascist\",\"distraught\",\"inflate\",\"stoop\",\"retract\",\"elite\",\"capital\",\"amuse\",\"squat\",\"enthusiasm\",\"strengthen\",\"unwell\",\"confederate_flag\",\"shotgun\",\"declaw\",\"charm\",\"budgeting\",\"rampant\",\"decently\",\"reputable\",\"graciously\",\"x.\",\"grievance\",\"terror\",\"controversy\",\"neckbeard\",\"summary\",\"fluent\",\"timely\",\"nitpick\",\"compulsive\",\"pa\",\"pseudo\",\"ummm\",\"healthily\",\"stipulation\",\"mud\",\"cold_shoulder\",\"lottery\",\"weave\",\"frivolous\",\"parameter\",\"scoop\",\"lapse\",\"enlighten\",\"fortune\",\"contractor\",\"kin\",\"times\",\"diffuse\",\"jeopardy\",\"unanimous\",\"oxygen\",\"boggle\",\"run_errand\",\"doesn\\u2019t\",\"fat_acceptance\",\"van\",\"zombie\",\"november\",\"suburb\",\"road_rage\",\"al\",\"exert\",\"undertone\",\"converse\",\"liking\",\"wisely\",\"touchy_subject\",\"misinformation\",\"transgression\",\"gaslit\",\"ross\",\"kat\",\"3/4\",\"preventable\",\"penalize\",\"deployment\",\"armed\",\"dependency\",\"gallon\",\"peek\",\"porn_star\",\"luggage\",\"render\",\"morale\",\"determination\",\"collapse\",\"condo\",\"chromosome\",\"vest\",\"unhelpful\",\"hater\",\"handler\",\"craigslist\",\"hoo\",\"euthanize\",\"definitive\",\"intentione\",\"chief\",\"odor\",\"goof\",\"welp\",\"upload\",\"fuckup\",\"cane\",\"gatekeep\",\"damned\",\"elementary\",\"unequal\",\"w/\",\"orient\",\"yeesh\",\"spade\",\"lust\",\"doggo\",\"guidance_counselor\",\"100,000\",\"companionship\",\"performer\",\"unsanitary\",\"recharge\",\"nta.but\",\"artificial\",\"miniature\",\"logistic\",\"scrap\",\"sperm_bank\",\"peacefully\",\"mobility\",\"shaving\",\"uproot\",\"streak\",\"amd\",\"brainer\",\"indifferent\",\"punk\",\"factually\",\"disparage\",\"yta.your\",\"dictionary\",\"equitable\",\"speaking\",\"tux\",\"ponytail\",\"\\ud83e\\udd37_\\u200d_\\u2640_\\ufe0f\",\"security_guard\",\"profusely\",\"arguing\",\"agony\",\"\\u28ff\",\"mop\",\"can\\u2019t\",\"unleash\",\"comedian\",\"fortnite\",\"revelation\",\"extortion\",\"revealing\",\"sleeper\",\"teachable_moment\",\"orphan\",\"laughing\",\"beta\",\"satan\",\"amazingly\",\"untreated\",\"tuck\",\"swimmer\",\"hallmark\",\"washing_machine\",\"bodily_fluid\",\"boxer\",\"cultivate\",\"tangible\",\"modification\",\"ntathey\",\"taking\",\"eyed\",\"overwhelm\",\"vicariously\",\"coordinate\",\"mood_swing\",\"skull\",\"scooter\",\"outbreak\",\"macho\",\"oddly\",\"extensive\",\"suprise\",\"involuntary\",\"interruption\",\"stalking\",\"concussion\",\"meal_prep\",\"|_abbreviation--\",\"kiddos\",\"reimbursement\",\"curry\",\"relocate\",\"crass\",\"endorse\",\"counterproductive\",\"ovary\",\"rescind\",\"david\",\"knot\",\"prospective\",\"corpse\",\"nursery\",\"checking\",\"line_sand\",\"cotton\",\"incur\",\"solicit\",\"reactive\",\"youre\",\"stingy\",\"3k\",\"adverse\",\"backseat\",\"won't\",\"abbreviation_bot_ignore\",\"reckon\",\"dope\",\"echo_chamber\",\"gift_giving\",\"parasite\",\"loved\",\"expertise\",\"essence\",\"crib\",\"eventual\",\"fox\",\"lyric\",\"batch\",\"farther\",\"mind_boggle\",\"foul\",\"nbd\",\"slang\",\"helper\",\"secrecy\",\"splurge\",\"spoilt\",\"sloppy\",\"following\",\"considerably\",\"pertinent\",\"insulted\",\"spreadsheet\",\"blink\",\"plague\",\"forest\",\"anecdotal\",\"sup\",\"addicted\",\"hopeless\",\"handout\",\"september\",\"fall_category\",\"mesh\",\"boarding\",\"radar\",\"timer\",\"drift\",\"sheep\",\"depressing\",\"doorstep\",\"manageable\",\"bracelet\",\"da\",\"moronic\",\"proximity\",\"jug\",\"motel\",\"cam\",\"disinvite\",\"ivy\",\"heh\",\"reliant\",\"irk\",\"sooner_later\",\"mourning\",\"discourse\",\"x_y_z\",\"x200b;if\",\"nutritional\",\"bolt\",\"wth\",\"squirrel\",\"intensely\",\"stiffe\",\"erect\",\"margin\",\"innocence\",\"c.\",\"circumcise\",\"receptionist\",\"keeping\",\"lest\",\"sip\",\"elect\",\"accommodating\",\"pumping\",\"relieved\",\"relive\",\"autism_spectrum\",\"anti_vax\",\"whatsapp\",\"medieval\",\"napkin\",\"avoidable\",\"drinker\",\"slam_door\",\"lactose\",\"intact\",\"bombard\",\"ness\",\"crayon\",\"spay\",\"champ\",\"tremendously\",\"memorialize\",\"speed_limit\",\"dependant\",\"mimic\",\"self_centre\",\"noon\",\"collectively\",\"slutty\",\"fatal\",\"transmit\",\"chose\",\"brunt\",\"sexually_compatible\",\"surrender\",\"survey\",\"vulgar\",\"fairy\",\"pro_con\",\"victory\",\"sheltered\",\"fabricate\",\"litter_box\",\"collateral\",\"militant\",\"thirsty\",\"hooker\",\"ifs\",\"humane\",\"tutorial\",\"arnt\",\"unlucky\",\"submissive\",\"dam\",\"neighbourhood\",\"wicked\",\"also-\",\"credential\",\"deteriorate\",\"picnic\",\"sophomore\",\"gravy\",\"placement\",\"unwillingness\",\"fearful\",\"stealing\",\"closing\",\"faulty\",\"arrival\",\"rile\",\"brunch\",\"squash\",\"shat\",\"irs\",\"february\",\"evident\",\"flatter\",\"overestimate\",\"actress\",\"acid\",\"artistic\",\"wouldn't\",\"reserved\",\"greed\",\"antiquated\",\"fidelity\",\"financially_stable\",\"veto_power\",\"bouncer\",\"surgical\",\"3.5\",\"60\",\"oop\",\"lobby\",\"catalyst\",\"jobless\",\"convincing\",\"barber\",\"promiscuous\",\"sterilize\",\"incapacitate\",\"bench\",\"abstract\",\"scarf\",\"kidding\",\"wrapper\",\"baking\",\"unfollow\",\"blindness\",\"hamburger\",\"blah_blah\",\"partying\",\"rearing\",\"driver_license\",\"midwife\",\"ye\",\"hyperbole\",\"sicken\",\"yta.she\",\"consenting\",\"friggin\",\"footage\",\"definitively\",\"hindu\",\"muffin\",\"masse\",\"detention\",\"outlandish\",\"ntaas\",\"seatbelt\",\"ste\",\"circus\",\"lego\",\"eternity\",\"muscle_mass\",\"r_amitheasshole_wiki\",\"facetime\",\"goddamne\",\"probable\",\"twitch\",\"trailer\",\"narrator\",\"misconstrue\",\"hentai\",\"retrospect\",\"sport_bra\",\"outwardly\",\"pearl\",\"savior\",\"bridal_shower\",\"blood_boil\",\"bun\",\"gem\",\"computer_science\",\"lurk\",\"potluck\",\"safety_net\",\"guac\",\"fece\",\"\\u201di\",\"activist\",\"news_flash\",\"nope_nope\",\"allocate\",\"ceiling\",\"resign\",\"innocently\",\"fred\",\"nicole\",\"hun\",\"drug_dealer\",\"proposition\",\"dull\",\"rider\",\"andy\",\"fiber\",\"unironically\",\"remorseful\",\"allude\",\"bummer\",\"malnourish\",\"passively\",\"networking\",\"isolation\",\"raise_eyebrow\",\"agressive\",\"tender\",\"non_confrontational\",\"checkout\",\"faculty\",\"chad\",\"brutally\",\"paper_trail\",\"peep\",\"impede\",\"overstep_bound\",\"royally\",\"submission\",\"upkeep\",\"abundantly_clear\",\"scramble\",\"ella\",\"tread\",\"utensil\",\"underneath\",\"tennis\",\"woe\",\"proudly\",\"law_enforcement\",\"lad\",\"dean\",\"skin_colour\",\"pander\",\"\\ud83d\\ude02_\\ud83d\\ude02_\\ud83d\\ude02\",\"zip\",\"feign\",\"birthing\",\"constructive_criticism\",\"hospitalize\",\"relay\",\"r_justnofamily\",\"personality_trait\",\"someplace\",\"booty\",\"ehhh\",\"moderator\",\"batshit\",\"verse\",\"nonsensical\",\"marines\",\"irregular\",\"itch\",\"unprepared\",\"waaaaay\",\"game_thrones\",\"climax\",\"appliance\",\"seeker\",\"steamroll\",\"unappreciated\",\"vanity\",\"divulge\",\"currency\",\"july\",\"nonstop\",\"km\",\"her-\",\"jones\",\"nugget\",\"blur\",\"chicago\",\"packet\",\"ladder\",\"bay\",\"gen\",\"loosen\",\"|\",\"misguide\",\"wink\",\"primary_caregiver\",\"headline\",\"annulment\",\"spam\",\"impartial\",\"imma\",\"metabolism\",\"procreate\",\"sugar_coat\",\"administrator\",\"endometriosis\",\"recover_alcoholic\",\"pierce\",\"detect\",\"tribe\",\"downvote_oblivion\",\"nicer\",\"gunna\",\"wikipedia\",\"$_500k\",\"cable\",\"dire\",\"rumour\",\"politician\",\"ergo\",\"carbs\",\"spousal\",\"handling\",\"printer\",\"fr\",\"lovingly\",\"vaginas\",\"korea\",\"volatile\",\"remainder\",\"formative\",\"exceed\",\"pricey\",\"wrench\",\"manipulation_tactic\",\"concentration\",\"lo\",\"genocide\",\"reconciliation\",\"moose\",\"stoner\",\"assuage\",\"castle\",\"sincere_apology\",\"optimistic\",\"dawn\",\"found\",\"dh\",\"financial_stability\",\"sketch\",\"derive\",\"clit\",\"election\",\"earshot\",\"damaged\",\"defensiveness\",\"reclaim\",\"self_preservation\",\"unreal\",\"diner\",\"afterthought\",\"typos\",\"runner\",\"alley\",\"aloud\",\"seafood\",\"restore\",\"cram\",\"x200b;it\",\"sexte\",\"rural_area\",\"mixed_race\",\"waitstaff\",\"dent\",\"aww\",\"appealing\",\"nigger\",\"dong\",\"piggyback\",\"gray_area\",\"friction\",\"eyebrow\",\"excusable\",\"portfolio\",\"eugenic\",\"discreetly\",\"antisocial\",\"thursday\",\"scalp\",\"prude\",\"pride_parade\",\"aids\",\"transitioning\",\"doggy\",\"status_quo\",\"respected\",\"wrestling\",\"antique\",\"chlamydia\",\"contexts\",\"pubic_hair\",\"electric_toothbrush\",\"forceful\",\"enlist\",\"russia\",\"adjective\",\"finding\",\"archaic\",\"50k\",\"cripple\",\"male_dominate\",\"rehearsal\",\"takeaway\",\"religiously\",\"sympathise\",\"tango\",\"st\",\"swallow_pride\",\"half_asse\",\"attacker\",\"luna\",\"extremist\",\"unloved\",\"mistrust\",\"jury\",\"beater\",\"inclusion\",\"madam\",\"tamper\",\"tally\",\"thot\",\"cuisine\",\"ingest\",\"phobic\",\"beautifully\",\"nta.the\",\"diplomatic\",\"micromanage\",\"reporter\",\"fafsa\",\"airbnb\",\"afaik\",\"mount\",\"ytaand\",\"ehh\",\"cooked\",\"knew\",\"depressive\",\"jet\",\"lobster\",\"devolve\",\"wedge\",\"discovery\",\"\\ud83e\\udd37\",\"sinner\",\"temptation\",\"judge_harshly\",\"bumper\",\"turmoil\",\"singer\",\"lemme\",\"displeasure\",\"oneself\",\"chronic_illness\",\"memento\",\"renter\",\"inspiration\",\"shark\",\"6th\",\"fella\",\"implied\",\"residential\",\"nappy\",\"anne\",\"accepting\",\"tan\",\"ovarian_cyst\",\"ocean\",\"r_thathappene\",\"pound_sand\",\"ethnically\",\"cooler\",\"tp\",\"melodramatic\",\"detective\",\"green_card\",\"foreigner\",\"allegation\",\"batshit_crazy\",\"adamantly\",\"pr\",\"becuase\",\"creator\",\"bargaining\",\"deploy\",\"rave\",\"wasteful\",\"voicemail\",\"profoundly\",\"cutting\",\"sincerity\",\"butterfly\",\"cutter\",\"dim\",\"aussie\",\"pencil\",\"scheduling\",\"bothered\",\"bumble\",\"visibility\",\"sephora\",\"patriarchy\",\"cant\",\"false_accusation\",\"interference\",\"housekeeping\",\"firsthand\",\"spur_moment\",\"schoolwork\",\"hunch\",\"desensitize\",\"brutally_honest\",\"generational\",\"loneliness\",\"crank\",\"sprinkle\",\"undeniably\",\"renew\",\"credible\",\"erection\",\"comp\",\"comb\",\"forgivable\",\"faux\",\"shush\",\"exceptional\",\"dom\",\"hah\",\"retreat\",\"spy\",\"lake\",\"seller\",\"strawberry\",\"foreskin\",\"shirtless\",\"8th_grade\",\"borderline_personality\",\"boast\",\"unjustified\",\"latina\",\"narc\",\"atlanta\",\"contrast\",\"oooh\",\"plot_twist\",\"amateur\",\"wallow\",\"betrayed\",\"irritation\",\"estrange\",\"prestigious\",\"reciprocation\",\"niche\",\"similarity\",\"breed_resentment\",\"md\",\"gripe\",\"assertion\",\"sd\",\"meetup\",\"trace\",\"reflect_poorly\",\"vehemently\",\"otoh\",\"jess\",\"witcher\",\"artwork\",\"unhygienic\",\"dysfunction\",\"critically\",\"sat\",\"faced\",\"\\ud83d\\ude05\",\"awe\",\"\\ud83d\\ude2d\",\"outraged\",\"horseshit\",\"pardon\",\"vigilant\",\"eshhe\",\"global\",\"caller\",\"frightening\",\"payout\",\"established\",\"northern\",\"r_pettyrevenge\",\"tread_carefully\",\"amusement\",\"sensation\",\"chronic_pain\",\"absurdly\",\"catcall\",\"asexuality\",\"\\\"the\",\"a+\",\"stiff\",\"unrealistic_expectation\",\"ldr\",\"cm\",\"locally\",\"feather\",\"germaphobe\",\"ss\",\"commendable\",\"footing\",\"mistress\",\"contraction\",\"uncertain\",\"x200b;also\",\"kkk\",\"data\",\"retroactively\",\"ntathere\",\"pave\",\"sinister\",\"ashe\",\"uncertain_term\",\"active_duty\",\"flour\",\"stellar\",\"social_media\",\"unequivocally\",\"attentive\",\"stir_pot\",\"ya'll\",\"laxative\",\"badmouth\",\"lethal\",\"latex\",\"shudder\",\"fag\",\"pls\",\"washroom\",\"grill_cheese\",\"corrupt\",\"academy\",\"jerry\",\"shenanigan\",\"introduction\",\"metric\",\"vocalize\",\"incite\",\"lowkey\",\"infront\",\"noun\",\"10x\",\"uninvolved\",\"kyle\",\"herd_immunity\",\"coma\",\"gram\",\"crippling\",\"hefty\",\"shortage\",\"rubber\",\"meddle\",\"construe\",\"hoard\",\"venmo\",\"biphobic\",\"forthcoming\",\"wbta\",\"audition\",\"harry_potter\",\"intrude\",\"seeing\",\"gm\",\"startle\",\"mac_cheese\",\"router\",\"shipping\",\"gestational\",\"catholic_church\",\"deep_breath\",\"hinge\",\"delight\",\"18th_birthday\",\"baseless\",\"underpaid\",\"vag\",\"thunder\",\"roomba\",\"positivity\",\"tap_shoulder\",\"'\",\"dice\",\"larry\",\"equity\",\"copy_paste\",\"farming\",\"selective\",\"prince\",\"gfm\",\"entrust\",\"baptize\",\"strawman\",\"/r_raisedbynarcissist\",\"natal\",\"timeframe\",\"/r_justnomil\",\"badge\",\"integrate\",\"soul_search\",\"temperament\",\"endeavor\",\"relevance\",\"betty\",\"buzz\",\"coherent\",\"unwritten\",\"amplify\",\"yta.this\",\"don\\u2018t\",\"yta.you're\",\"wwii\",\"tumor\",\"fascinating\",\"passover\",\"sufficiently\",\"fulfilling\",\"insightful\",\"messenger\",\"rock_boat\",\"hoodie\",\"uncontrollable\",\"tic\",\"reproduction\",\"repetitive\",\"aspire\",\"ytajust\",\"specialized\",\"tower\",\"withdrawal\",\"mandy\",\"spike\",\"carve\",\"holy_cow\",\"binary\",\"military_uniform\",\"pest\",\"behaved\",\"buckle\",\"lax\",\"hunter\",\"grovel\",\"refreshing\",\"inconvenienced\",\"attendee\",\"mainstream\",\"goat\",\"informal\",\"division_labor\",\"sleazy\",\"processing\",\"ntapeople\",\"willful\",\"file_complaint\",\"envious\",\"firefighter\",\"amicably\",\"ntanot\",\"probation\",\"vicinity\",\"avoidance\",\"mummy\",\"sos\",\"declaw_cat\",\"reel\",\"continued\",\"cellphone\",\"heater\",\"glory\",\"ntamy\",\"inflammatory\",\"jan\",\"millenial\",\"lieu\",\"offset\",\"snowball\",\"subscription\",\"verbatim\",\"caption\",\"nyu\",\"trained\",\"sexless\",\"negligible\",\"disruption\",\"ejaculate\",\"deceit\",\"mmm\",\"folder\",\"uninterrupted\",\"inequality\",\"grin\",\"limp\",\"prejudiced\",\"shockingly\",\"appetizer\",\"olympics\",\"facet\",\"instability\",\"screech\",\"1/10\",\"plantation\",\"free_reign\",\"territorial\",\"judge_judy\",\"dammit\",\"\\ud83d\\udea9\",\"harness\",\"scammer\",\"ac\",\"doctorate\",\"peed\",\"apathy\",\"narrow_minded\",\"iv\",\"cognitive_dissonance\",\"r_choosingbeggars\",\"nefarious\",\"envelope\",\"statutory_rape\",\"cafeteria\",\"unplanned_pregnancy\",\"videogame\",\"waiver\",\"middle_east\",\"urinal\",\"thirdly\",\"coping\",\"notebook\",\"downhill\",\"\\\"and\",\"essential_oil\",\"overpower\",\"gild\",\"marginalize\",\"locker\",\"taco_bell\",\"english_speaker\",\"turtle\",\"ammo\",\"compliance\",\"tiptoe\",\"mentally_unstable\",\"hollywood\",\"bundle\",\"relaxing\",\"nutritionist\",\"clumsy\",\"masturbating\",\"mosque\",\"confidential\",\"ding_ding_ding\",\"cold_sore\",\"affirm\",\"paste\",\"seduce\",\"academically\",\"nahif\",\"cucumber\",\"statute\",\"cordial\",\"amitheasshole\",\"conversely\",\"myriad\",\"burner\",\"starting\",\"4yo\",\"yall\",\"cognizant\",\"unsatisfied\",\"grate\",\"rewrite\",\"enrol\",\"hotline\",\"sweep_rug\",\"october\",\"reproductive_coercion\",\"halal\",\"streamer\",\"caffeine\",\"paris\",\"yr\",\"relinquish\",\"easier\",\"butcher\",\"monumental\",\"preclude\",\"seconded\",\"intersection\",\"attracted\",\"youtube_video\",\"ap\",\"misfortune\",\"republican\",\"regional\",\"bandwagon\",\"cervix\",\"rocket_science\",\"irresponsibility\",\"baker\",\"unflattering\",\"garner\",\"infantilize\",\"singing\",\"heed\",\"affirmation\",\"blocker\",\"drunkenly\",\"deficit\",\"evolution\",\"nee\",\"crusade\",\"misgender\",\"web\",\"susceptible\",\"horizon\",\"safeword\",\"microaggression\",\"pixie_cut\",\"ehs\",\"cultural_norm\",\"cluster\",\"dissolve\",\"vengeance\",\"clusterfuck\",\"nudge\",\"firing\",\"guacamole\",\"madison\",\"paycheck_paycheck\",\"thailand\",\"consciousness\",\"drum\",\"olive\",\"willy_nilly\",\"gregory\",\"innate\",\"lining\",\"vice\",\"snippy\",\"block_social_medium\",\"overwork\",\"this-\",\"boobs\",\"obv\",\"flush_tampon\",\"tread_lightly\",\"intellectually\",\"usher\",\"dote\",\"itchy\",\"ibs\",\"wean\",\"plural\",\"batman\",\"fertile\",\"middle_schooler\",\"biphobia\",\"distressed\",\"vigilante\",\"seize\",\"bracket\",\"disciplinary\",\"patrol\",\"thyroid\",\"capitalize\",\"7th\",\"agreeable\",\"rebellion\",\"blameless\",\"treatable\",\"vulva\",\"weasel\",\"secretive\",\"illusion\",\"100x\",\"protocol\",\"ink\",\"greek\",\"heating\",\"paraphrase\",\"deviate\",\"cyber\",\"bloke\",\"bravo\",\"eastern\",\"ntasound\",\"nta.you're\",\"amaze\",\"shouting\",\"massager\",\"claw\",\"veg\",\"ray\",\"\\\"i'm\",\"symbolic\",\"amusement_park\",\"afloat\",\"biracial\",\"signature\",\"specialty\",\"win_lottery\",\"density\",\"trendy\",\"bagel\",\"inexperience\",\"settlement\",\"unsympathetic\",\"martial_art\",\"tim\",\"sham\",\"unfold\",\"unprovoked\",\"continuous\",\"equivalence\",\"skeleton\",\"boston\",\"creative_writing\",\"certification\",\"strife\",\"marital_asset\",\"anti_vaxx\",\"youngest\",\"fixable\",\"e_mail\",\"stipulate\",\"indignant\",\"lisa\",\"unappreciative\",\"extra_curricular\",\"filipino\",\"olympic\",\"menstruation\",\"cyst\",\"r_relationshipadvice\",\"bakery\",\"conditioner\",\"shitbag\",\"vandalism\",\">_sub_submitter\",\"tipsy\",\"nonverbal\",\"molestation\",\"renovation\",\"growl\",\"witty\",\"transphobe\",\"invasion\",\"ma\",\"squish\",\"dresser\",\"defy\",\"waive\",\"sponsor\",\"plastic_surgery\",\"nagging\",\"erin\",\"false_equivalency\",\"hrt\",\"months\",\"waffle\",\"aback\",\"pamper\",\"patriarchal\",\"hose\",\"fluffy\",\"salt_wound\",\"reaffirm\",\"sitting\",\"public_transit\",\"anus\",\"lucrative\",\"pelvic\",\"socialise\",\"billy\",\"abruptly\",\"lace\",\"minecraft\",\"legend\",\"costly\",\"choosing\",\"engine\",\"repress\",\"rabbit_hole\",\"noticeably\",\"gym_membership\",\"condescension\",\"degenerate\",\"reassess\",\"flick\",\"pudding\",\"naw\",\"lipstick\",\"character_flaw\",\"overheard\",\"hipaa\",\"contention\",\"coal\",\"punching_bag\",\"cheesecake\",\"complexity\",\"inventory\",\"soo\",\"ytaso\",\"weirdness\",\"organ_donation\",\"detract\",\"fourteen\",\"dumpster_diving\",\"respectively\",\"advancement\",\"accustomed\",\"shoplift\",\"fiddle\",\"chaperone\",\"ammunition\",\"originate\",\"placenta\",\"wack\",\"trespassing\",\"arguement\",\"hamper\",\"undesirable\",\"opposition\",\"shitload\",\"purge\",\"complement\",\"observer\",\"banking\",\"daylight\",\"resistant\",\"nsfw\",\"statistical\",\"nutritionally\",\"nah.you\",\"trey\",\"yta.the\",\"palette\",\"avocado\",\"antagonistic\",\"unworthy\",\"productivity\",\"native_americans\",\"robbery\",\"willfully_ignorant\",\"shirk\",\"forge\",\"stepkid\",\"availability\",\"vodka\",\"vengeful\",\"dear_lord\",\"topping\",\"cupboard\",\"powder\",\"philosophical\",\"spina_bifida\",\"flare\",\"resonate\",\"crucify\",\"metoo\",\"r_choosingbeggar\",\"mediation\",\"eagle\",\"arousal\",\"fad\",\"squabble\",\"flying\",\"girls\",\"retribution\",\"hurl\",\"slot\",\"babysat\",\"falsely_accuse\",\"scripture\",\"cleanup\",\"jog\",\"entertaining\",\"antic\",\"devoted\",\"egg_hunt\",\"fussy\",\"hideous\",\"flesh_blood\",\"misophonia\",\"packed\",\"conflicting\",\"ole\",\"toiletry\",\"bipolar_disorder\",\"withholding\",\"ytahow\",\"payback\",\"9th\",\"progression\",\"lotta\",\"9:30\",\"greasy\",\"prevail\",\"gas_lighting\",\"swell\",\"editing\",\"heavy_lifting\",\"peanut_allergy\",\"preferential_treatment\",\"nta.i'm\",\"esh.you\",\"inquire\",\"grandad\",\"amp\",\"nah.i\",\"flashback\",\"audiobook\",\"blackface\",\"mope\",\"tourette\",\"profound\",\"fond_memory\",\"enthusiast\",\"gameboy\",\"domain\",\"vilify\",\"coping_skill\",\"vendor\",\"emily\",\"inspect\",\"ps4\",\"thick_skin\",\"warp\",\"ytafor\",\"considerable\",\"downtime\",\"lighting\",\"que\",\"preachy\",\"gatekeeper\",\"xx\",\"tempting\",\"hatch\",\"hairdresser\",\"eavesdrop\",\"ntawhy\",\"greeting\",\"prod\",\"rattle\",\"commentor\",\"tee\",\"overreacted\",\"catfish\",\"estrogen\",\"explosive\",\"taker\",\"royal\",\"\\ud83d\\ude01\",\"pleasurable\",\"subsequently\",\"funniest\",\"lineage\",\"nahyou're\",\"subset\",\"ford\",\"cheesy\",\"defeat_purpose\",\"pompous\",\"strangely\",\"polar\",\"outgoing\",\"guardianship\",\"persona\",\"aren't\",\"drift_apart\",\"jelly\",\"exponentially\",\"modicum\",\"peach\",\"glimpse\",\"discrepancy\",\"figuratively\",\"seethe\",\"remarried\",\"switzerland\",\"blackout\",\"efficiently\",\"excel\",\"normalized\",\"bypass\",\"deport\",\"foresight\",\"deli\",\"shrimp\",\"oreos\",\"shitstorm\",\"fried\",\"spanking\",\"outward\",\"desperation\",\"thrift_store\",\"positive_reinforcement\",\"tmi\",\"procrastinate\",\"slimy\",\"preemptively\",\"enact\",\"evangelical\",\"spread_rumor\",\"frog\",\"fundamentalist\",\"revert\",\"indirect\",\"midst\",\"commit_fraud\",\"jade\",\"worrisome\",\"rubbish\",\"idgaf\",\"lamb\",\"bland\",\"programmer\",\"z\",\"sucks\",\"ingrained\",\"air_mattress\",\"listening\",\"mistakenly\",\"spending_habit\",\"alienated\",\"tweet\",\"attest\",\"sign_birth_certificate\",\"it\\u2018s\",\"outgrow\",\"smother\",\"il\",\"wheat\",\"minimise\",\"yeast_infection\",\"precise\",\"claws\",\"\\\"so\",\"michael_scott\",\"port\",\"greece\",\"premarital\",\"disproportionately\",\"profanity\",\"chauffeur\",\"constant_reminder\",\"swollen\",\"realm_possibility\",\"homo\",\"biggie\",\"busybody\",\"ytaa\",\"clitoris\",\"codependent\",\"whale\",\"scoff\",\"inkling\",\"accepted\",\"notorious\",\"dying\",\"tutoring\",\"reap_sow\",\"glorious\",\"isis\",\"calculator\",\"quirky\",\"wayyy\",\"situational\",\"bowel\",\"revolt\",\"gimme\",\"dumpster_fire\",\"incase\",\"disturbance\",\"payday_loan\",\"mph\",\"oppressive\",\"hurting\",\"hawk\",\"dehumanize\",\"shite\",\"widespread\",\"critical_thinking\",\"lengthy\",\"snooping\",\"marrying\",\"visceral\",\"staying\",\"superhero\",\"kate\",\"ensue\",\"lactation\",\"tummy\",\"stole\",\"cuckold\",\"eric\",\"airsoft\",\"disposal\",\"publicity\",\"ytayou\\u2019re\",\"nahthis\",\"mediate\",\"tug\",\"stepchild\",\"responder\",\"ohhh\",\"gush\",\"singapore\",\"sadden\",\"circlejerk\",\"1000x\",\"characterize\",\"helping\",\"blowjobs\",\"\\\"she\",\"consultation\",\"anguish\",\"filth\",\"10th\",\"helmet\",\"foodie\",\"goblin\",\"troublesome\",\"sickly\",\"effectiveness\",\"final_straw\",\"substantially\",\"predominantly\",\"motherly\",\"pajama\",\"reflective\",\"harm_foul\",\"rehabilitate\",\"managerial\",\"estranged\",\"swift\",\"rhetorical\",\"concur\",\"auntie\",\"henry\",\"gambling\",\"organized\",\"unavoidable\",\"immaturely\",\"vapid\",\"platinum\",\"painfully_obvious\",\"ditto\",\"shaky\",\"whiskey\",\"\\\"but\",\"yield\",\"spain\",\"undue\",\"begrudge\",\"motivator\",\"ntaa\",\"slag\",\"interracial\",\"smoking_drinking\",\"latin\",\"ecstatic\",\"species\",\"apathetic\",\"dandy\",\"urinate\",\"overshadow\",\"liz\",\"rightful\",\"lactose_intolerant\",\"nahyour\",\"ship_sail\",\"him-\",\"terrorize\",\"\\ud83d\\udc4c\",\"chump\",\"thats\",\"unnatural\",\"swearing\",\"dysmorphia\",\"unconsciously\",\"unsupervised\",\"serial_cheater\",\"quieter\",\"brad\",\"pagan\",\"stepchildren\",\"showering\",\"digest\",\"mra\",\"defuse\",\"secondhand\",\"enthusiastically\",\"warrior\",\"homemaker\",\"flimsy\",\"skype\",\"undiagnose\",\"honorable\",\"nuanced\",\"nonbinary\",\"adjacent\",\"downgrade\",\"adolescence\",\"extraordinarily\",\"memo\",\"judaism\",\"sugarcoat\",\"ianal\",\"nosey\",\"stre\",\"ytadon't\",\"illegal_eviction\",\"70\",\"marker\",\"grease\",\"automod\",\"mistreatment\",\"didn\\u2019t\",\"sufferer\",\"ytabut\",\"lied\",\"negative_connotation\",\"onset\",\"loli\",\"mexicans\",\"3d\",\"mutilation\",\"prostate\",\"outdoors\",\"reframe\",\"personnel\",\"white_knighting\",\"exploration\",\"victoria\",\"affirmative\",\"sec\",\"haired\",\"compelling\",\"eighteen\",\"disqualify\",\"thirteen\",\"irreparably\",\"reporting\",\"stride\",\"nb\",\"activate\",\"brew\",\"\\u28e4\",\"hugging\",\"competitor\",\"communicative\",\"bent_shape\",\"\\u28c0\",\"lens\",\"cold_hearted\",\"forcefully\",\"masseuse\",\"kg\",\"^|\",\"recreational\",\"epilepsy\",\"classist\",\"shouldn't\",\"pepperoni_pizza\",\"accumulate\",\"painkiller\",\"liner\",\"cushion\",\"superiority_complex\",\"\\\"hey\",\"rebellious\",\"outdate\",\"trump_supporter\",\"bathtub\",\"yata\",\"isle\",\"services\",\"spectacle\",\"laser\",\"grape\",\"ramble\",\"serial\",\"integral\",\"ytadude\",\"emoji\",\"splash\",\"boo_hoo\",\"\\u281b\",\"poke_hole\",\"intensity\",\"selectively\",\"pp\",\"99.9\",\"foreseeable_future\",\"bullet_dodge\",\"bite_tongue\",\"emasculate\",\"felon\",\"pancake\",\"friendzone\",\"fighter\",\"incomplete\",\"punchline\",\"keychain\",\"cocky\",\"schizophrenia\",\"jizz\",\"tirade\",\"immunity\",\"concerning\",\"affluent\",\"prisoner\",\"capture\",\"curly\",\"rein\",\"femininity\",\"smirk\",\"freeload\",\"raising\",\"unclean\",\"mow\",\"swastika\",\"giving\",\"zero_tolerance\",\"patiently\",\"mediator\",\"tenth\",\"grooming\",\"jk\",\"parrot\",\"ing\",\"quotation\",\"flack\",\"sadistic\",\"pda\",\"numb\",\"ahhh\",\"goodness_sake\",\"rotate\",\"potty_train\",\"freakin\",\"solidly\",\"hustle\",\"abrasive\",\"beverage\",\"diss\",\"sorrow\",\"fulfillment\",\"ngl\",\"idiocy\",\"crumble\",\"cyclist\",\"compulsion\",\"euthanasia\",\"nerdy\",\"embellish\",\"nicotine\",\"pertain\",\"voucher\",\"carbon\",\"knuckle\",\"roller_coaster\",\"elevate\",\"maul\",\"programming\",\"costco\",\"ear_plug\",\"viewing\",\"sweden\",\"assholishness\",\"optimal\",\"intimately\",\"sayin\",\"jointly\",\"collector\",\"knob\",\"harvest\",\"simplify\",\"justnoso\",\"conflicted\",\"watermelon\",\"openness\",\"ostensibly\",\"compose\",\"nerf_gun\",\"assurance\",\"sidenote\",\"jackie\",\"jake\",\"digestive\",\"memorable\",\"gallery\",\"vaginismus\",\"unmarried\",\"opera\",\"accountant\",\"transmission\",\"casino\",\"hardworking\",\"endlessly\",\"semen\",\"tote\",\"coparent\",\"existing\",\"disinterest\",\"behavioural\",\"here-\",\"testicle\",\"hyperbolic\",\"flush_toilet\",\"crude\",\"sweeping\",\"vitriol\",\"supremely\",\"subordinate\",\"crab\",\"friends\",\"devout\",\"overdramatic\",\"playstation\",\"lgbtq_community\",\"catty\",\"contradictory\",\"morbid\",\"barking\",\"picking\",\"contaminate\",\"affront\",\"hurdle\",\"goer\",\"heaven_forbid\",\"roleplay\",\"licensed\",\"vietnam\",\"organic\",\"bandaid\",\"menopause\",\"renege\",\"sanctimonious\",\"poisonous\",\"educated\",\"tube_tie\",\"pervasive\",\"toothpaste\",\"ranking\",\"hopeful\",\"25k\",\"gummie\",\"oz\",\"satire\",\"proposing\",\"swimwear\",\"daft\",\"recycling\",\"compromising\",\"cremate\",\"disgustingly\",\"sow\",\"circumvent\",\"blare\",\"infinite\",\"rude_awakening\",\"chronically\",\"here**|**esh****no_hole\",\"portrait\",\"facade\",\"logo\",\"skate\",\"influencer\",\"nintendo\",\"revenue\",\"uncertainty\",\"impaired\",\"novelty\",\"metro\",\"sideline\",\"nahshe\",\"conflict_resolution\",\"fraught\",\"omfg\",\"simulate\",\"complaining\",\"constitution\",\"nickel\",\"laura\",\"motor\",\"inflexible\",\"josh\",\"detector\",\"x200b;the\",\"almond\",\"noooo\",\"|_--:**you're\",\"goad\",\"waltz\",\"treadmill\",\"scissor\",\"dept\",\"unprotecte\",\"kevin\",\"sling\",\"chronically_ill\",\"mustache\",\"incompetence\",\"gray\",\"audio_book\",\"power_imbalance\",\"uneven\",\"uninterested\",\"staple\",\"devotion\",\"consolation\",\"homelessness\",\"topless\",\"raid\",\"altercation\",\"karate\",\"mole\",\"afro\",\"habitually\",\"obscene\",\"tuna\",\"60k\",\"pirate\",\"party_|**nta****everyone_sucks\",\"gloat\",\"greg\",\"dough\",\"|**yta**|you're_hole\",\"\\ud83e\\udd37_\\u200d_\\u2642_\\ufe0f\",\"couldn't\",\"spoiler_alert\",\"pursuit\",\"opiate\",\"ponder\",\"customary\",\"emulate\",\"forgave\",\"exes\",\"ytafirst\",\"cervical_cancer\",\"blowback\",\"frickin\",\"publically\",\"unhappiness\",\"guinea_pig\",\"21st\",\"shrine\",\"infoi\",\"esh.your\",\"nephews\",\"practitioner\",\"cooperate\",\"plumbing\",\"veer\",\"respite\",\"idle\",\"ram\",\"sub_submitter\",\"zipper\",\"testament\",\"wiggle\",\"morally_superior\",\"relentlessly\",\"dawg\",\"extort\",\"counterpoint\",\"surveillance\",\"cremation\",\"breeding\",\"alice\",\"bulimic\",\"digit\",\"insensitivity\",\"toughen\",\"dubious\",\"nye\",\"handmade\",\"lifelong_commitment\",\"urgency\",\"prominent\",\"ableist\",\"tracker\",\"rounded\",\"dupe\",\"quest\",\"decidedly\",\"beth\",\"teeny\",\"fame\",\"generously\",\"tailgate\",\"homeschool\",\"lee\",\"extrapolate\",\"blacklist\",\"intolerable\",\"purity\",\"imperative\",\"bloodline\",\"vanish\",\"cliff\",\"infancy\",\"cus\",\"platter\",\"unpopularopinion\",\"finite\",\"lighthearted\",\"years\",\"hours\",\"waaay\",\"mileage\",\"jeweler\",\"super_duper\",\"repost\",\"merry\",\"angst\",\"outstanding\",\"taylor\",\"pre_nup\",\"ranch\",\"cheeseburger\",\"completly\",\"hail\",\"cf\",\"backpacking\",\"jenny\",\"imagery\",\"douchy\",\"emt\",\"conversational\",\"sunscreen\",\"unwise\",\"reinforcement\",\"explosion\",\"peeve\",\"dole\",\"perfection\",\"privy\",\"irreparable_damage\",\"uncare\",\"jeep\",\"powerless\",\"\\u2764\",\"blue_collar\",\"weaponize\",\"unfriend\",\"cig\",\"roman\",\"labia\",\"carte_blanche\",\"bachelorette\",\"priceless\",\"midwest\",\"mia\",\"that-\",\"cold_turkey\",\"broach\",\"wart\",\"newfound\",\"lapdance\",\"coexist\",\"balcony\",\"blown\",\"washer_dryer\",\"getaway\",\"eternal\",\"paramount\",\"thc\",\"monopoly\",\"socialization\",\"absentee\",\"parole\",\"drool\",\"shaft\",\"erode\",\"halt\",\"bo\",\"romeo_juliet\",\"poker\",\"fairy_tale\",\"foresee\",\"veil\",\"deathbed\",\"underhanded\",\"distinctly\",\"vandalize\",\"futon\",\"sooner\",\"boycott\",\"retort\",\"choir\",\"proverbial\",\"bmw\",\"\\\\^\",\"wrinkle\",\"segregate\",\"salesman\",\"tarantula\",\"feud\",\"hindsight_20/20\",\"ant\",\"denigrate\",\"liberty\",\"plaster\",\"constitute_emergency\",\"venting\",\"barbie\",\"champagne\",\"robin\",\"hover\",\"yta.not\",\"therefor\",\"fandom\",\"harrassment\",\"disprove\",\"iceberg\",\"ordinance\",\"axe\",\"decompress\",\"soapbox\",\"ego_boost\",\"descriptor\",\"summon\",\"woulda\",\"\\u2800_\\u2800\",\"x200b;that\",\"pushing\",\"ninja\",\"micro_aggression\",\"monitoring\",\"remarkably\",\"upward\",\"boredom\",\"peel\",\"weeks\",\"broach_subject\",\"lavish\",\"redundant\",\"sperm_donation\",\"tide\",\"anonymity\",\"zealand\",\"states\",\"neurotic\",\"whew\",\"dialysis\",\"squarely\",\"humblebrag\",\"aryan\",\"acre\",\"hangover\",\"fo\",\"opponent\",\"miserably\",\"infraction\",\"autoimmune\",\"faq](https://www.reddit.com_r_amitheasshole\",\"relaxation\",\"manic\",\"questioning\",\"soulmate\",\"celibate\",\"evil_stepmother\",\"peddle\",\"contentious\",\"invite_julia\",\"rapid\",\"purity_ball\",\"soooooo\",\"\\\"you're\",\"libel\",\"doxxe\",\"sugary\",\"dms\",\"et\",\"reluctantly\",\"interestingly\",\"therapeutic\",\"startup\",\"accounting\",\"macbook\",\"leather\",\"fabulous\",\"hahah\",\"unplanned\",\"miff\",\"thorough\",\"perishable\",\"tifu\",\"moral_dilemma\",\"delegate\",\"homeschooling\",\"synthetic\",\"consolation_prize\",\"\\u2122\",\"android\",\"ha_ha\",\"ofcourse\",\"gofundme\",\"ash\",\"cheque\",\"ons\",\"loom\",\"heroic\",\"scorched_earth\",\"chick_fil\",\"spoken\",\"\\u2836\",\"mockery\",\"banner\",\"unprotected\",\"playfully\",\"ytaalso\",\"percentile\",\"salvation\",\"adrenaline\",\"govern\",\"shepherd\",\"timmy\",\"hilariously\",\"receiver\",\"celiac\",\"\\u2800_\\u2800_\\u2800\",\"\\u28ff_\\u28ff\",\"buisness\",\"stepbrother\",\"rekindle\",\"enclose\",\"mini_fridge\",\"reversible\",\"snappy\",\"imbecile\",\"flea\",\"jay\",\"debit_card\",\"prorevenge\",\"ambush\",\"dvd\",\"comma\",\"transparency\",\"outcast\",\"ploy\",\"sarcastically\",\"pete\",\"monthly_payment\",\"4.0\",\"homewrecker\",\"testify\",\"lizard\",\"bankruptcy\",\"calculation\",\"presumption\",\"grabby\",\"tiresome\",\"pepper_spray\",\"r_iamverybadass\",\"\\ud83d\\udc4f_\\ud83d\\udc4f\",\"dv\",\"murderedbyword\",\"pathway\",\"preposterous\",\"reconnecte\",\"symbolize\",\"mysterious\",\"shitposte\",\"antidepressant\",\"mannered\",\"shuffle\",\"executor\",\"surcharge\",\"segregation\",\"indians\",\"nana\",\"french_fry\",\"suffocate\",\"caterer\",\"buff\",\"formality\",\"yt\",\"non_negotiable\",\"gyno\",\"pornhub\",\"instinctively\",\"minefield\",\"womens\",\"audio\",\"snobby\",\"attached\",\"hanging\",\"cannabis\",\"charger\",\"reversal\",\"flirtatious\",\"pixie\",\"petite\",\"hump\",\"8-year\",\"threatened\",\"decor\",\"overblown\",\"index\",\"blogger\",\"concise\",\"louisiana\",\"^^^^automod_copy\",\"denomination\",\"extensively\",\"nail_coffin\",\"faint\",\"stoic\",\"shocker\",\"punitive\",\"protector\",\"favouritism\",\"spectator\",\"sentient\",\"21st_century\",\"profess\",\"aspergers\",\"altruistic\",\"cavalier\",\"rake\",\"crumb\",\"le\",\"lone\",\"impending\",\"dyslexia\",\"freshly\",\"turner\",\"visually\",\"ob_gyn\",\"categorically\",\"pledge\",\"\\u00b0\",\"gd\",\"unempathetic\",\"informative\",\"interviewer\",\"socially_inept\",\"wayyyy\",\"expecting\",\"music_festival\",\"teddy_bear\",\"downer\",\"cutoff\",\"refrigerator\",\"linda\",\"particle\",\"catholicism\",\"neurological\",\"confidently\",\"title_misleading\",\"overrule\",\"mit\",\"steel\",\"askreddit\",\"repressed\",\"patronising\",\"crunch\",\"actuality\",\"organisation\",\"rocket\",\"usd\",\"bedside\",\"crossing\",\"beck\",\"recur\",\"luke\",\"reluctance\",\"backtrack\",\"criminally\",\"dislikes\",\"perv\",\"portuguese\",\"den\",\"handwritten\",\"spotless\",\"shortcoming\",\"premeditate\",\"implore\",\"duplicate\",\"\\\"he\",\"inhumane\",\"middle_eastern\",\"stroke_ego\",\"maga\",\"platonically\",\"encroach\",\"reform\",\"suburban\",\"brit\",\"smarter\",\"businessman\",\"seated\",\"preferred_pronoun\",\"critic\",\"apologist\",\"quack\",\"hyperemesis\",\"unintended\",\"burial\",\"spontaneously\",\"jeans\",\"godmother\",\"oversensitive\",\"inspector\",\"stanford\",\"gran\",\"cbd\",\"r_iamverysmart\",\"scammed\",\"frightened\",\"mortality_rate\",\"mis\",\"physiological\",\"ftfy\",\"overeat\",\"photo_album\",\"madness\",\"rationality\",\"barn\",\"baffling\",\"beg_forgiveness\",\"scrapbook\",\"backward\",\"monopolize\",\"stifle\",\"multiply\",\"16-year\",\"glitter\",\"here**|**nah****not\",\"mma\",\"inferiority\",\"hollow\",\"sleepy\",\"spooning\",\"pis\",\"blab\",\"npd\",\"los\",\"absurdity\",\"nta.as\",\"maximize\",\"mint\",\"african_american\",\"booking\",\"preventative\",\"photoshop\",\"recreate\",\"200k\",\"metaphorically\",\"3.0\",\"stunning\",\"thai\",\"transform\",\"valentines\",\"constructively\",\"boxing\",\"flip_flop\",\"20-year\",\"reign\",\"ohio\",\"conventional\",\"lotto\",\"squatter\",\"creativity\",\"torn\",\"unapologetic\",\"memorize\",\"plea\",\"undie\",\"shortsighted\",\"obvs\",\"sixth\",\"knows\",\"signify\",\"muh\",\"deplorable\",\"robe\",\"quota\",\"to\",\"mono\",\"diagnosed\",\"exs\",\"30th\",\"authentic\",\"overpriced\",\"autonomous\",\"digress\",\"caricature\",\"1:1\",\"subtract\",\"redo\",\"holder\",\"fulltime\",\"sprint\",\"intuition\",\"irritable\",\"strangle\",\"italians\",\"ntaso\",\"judging\",\"tarnish\",\"enforceable\",\"single_handedly\",\"fog\",\"pms\",\"nta.that\",\"insomnia\",\"posture\",\"wasn't\",\"affiliation\",\"ring_doorbell\",\"purposeful\",\"inclination\",\"uphill\",\"gp\",\"arbitrarily\",\"dual\",\"nonexistent\",\"catastrophic\",\"ketchup\",\"slipper\",\"steep\",\"arthritis\",\"ron\",\"flaccid\",\"moving\",\"amber\",\"tasteless\",\"societal_norm\",\"matching\",\"minuscule\",\"hungover\",\"profitable\",\"arbiter\",\"biscuit\",\"precede\",\"euphemism\",\"firework\",\"biting\",\"systemic\",\"\\ud83c\\udffc\",\"od\",\"de_facto\",\"adam\",\"intimidation\",\"panel\",\"\\ud83d\\ude2c\",\"undergraduate\",\"iota\",\"civic\",\"duress\",\"fedora\",\"seep\",\"apple_orange\",\"\\u201dthat\",\"deathly\",\"innocent_bystander\",\"momentary\",\"pathological\",\"way-\",\"buffet\",\"isolated_incident\",\"recoup\",\"plethora\",\"goalpost\",\"inaction\",\"googling\",\"overt\",\"nigerian\",\"parental_alienation\",\"\\ud83d\\ude09\",\"pimp\",\"charade\",\"comforting\",\"ohhhh\",\"rollercoaster\",\"judgey\",\"sliver\",\"roofie\",\"whiney\",\"pint\",\"poem\",\"simplistic\",\"ww2\",\"copper_iud\",\"eyesight\",\"wishy_washy\",\"gynecologist\",\"slew\",\"nta.and\",\"infowhy\",\"seeking\",\"microphone\",\"idolize\",\"licence\",\"fondly\",\"starvation\",\"gist\",\"proactively\",\"canoe\",\"unicef\",\"20,000\",\"avail\",\"suspiciously\",\"speeding\",\"sara\",\"justno\",\"expend\",\"disallow\",\"\\u201dit\",\"modesty\",\"brexit\",\"impairment\",\"reside\",\"messaging\",\"vegetarianism\",\"politics\",\"aggressor\",\"blond\",\"divert\",\"sponge\",\"lulu\",\"ultra_conservative\",\"almond_milk\",\"scandalous\",\"15-year\",\"jumping\",\"footstep\",\"wacky\",\"bicycle\",\"fluff\",\"palm\",\"deductible\",\"\\ud83e\\udd37_\\ud83c\\udffb\\u200d\",\"trans-\",\"discern\",\"coincide\",\"4x\",\"rupture\",\"usb\",\"appoint\",\"rationalization\",\"merchandise\",\"clutter\",\"hoarding\",\"overload\",\"await\",\"farmer\",\"fess\",\"repugnant\",\"islamic\",\"rigorous\",\"coz\",\"sweatpant\",\"detergent\",\"recycle\",\"provision\",\"dyslexic\",\"perpetually\",\"brock\",\"woodwork\",\"aforementioned\",\"almanac\",\"amendment\",\"joey\",\"colorado\",\"craze\",\"defenseless\",\"advocacy\",\"tolerable\",\"radically\",\"muscular\",\"negge\",\"verbalize\",\"cooker\",\"stale\",\"don\",\"dependence\",\"cheeky\",\"cheapskate\",\"gutte\",\"leer\",\"confidentiality\",\"outer\",\"genre\",\"bouquet\",\"shriek\",\"flaky\",\"fairytale\",\"interrogate\",\"obama\",\"ingrown\",\"exec\",\"bliss\",\"smth\",\"faq\",\"abnormality\",\"yta.first\",\"t.\",\"ballistic\",\"wreak_havoc\",\"virtue_signal\",\"puff\",\"mothers\",\"adjusted\",\"iata\",\"tryna\",\"contingent\",\"relentless\",\"scatter\",\"trusted\",\"severance\",\"quid\",\"bummed\",\"doorknob\",\"memorabilia\",\"knee_jerk\",\"robyn_f.\",\"cinderella\",\"ntadon't\",\"obnoxiously\",\"2,000\",\"vacuum_cleaner\",\"conditioning\",\"inhibition\",\"iced\",\"misbehaving\",\"selling\",\"burnout\",\"manually\",\"coordinator\",\"throne\",\"deter\",\"reminisce\",\"cancellation\",\"easter_egg_hunt\",\"longtime\",\"star_wars\",\"deduct\",\"buzzword\",\"5'10\",\"mutation\",\"panicked\",\"overdue\",\"farting\",\"tunnel\",\"unusually\",\"ahold\",\"recoil\",\"statue\",\"ntafirst\",\"disrespectfully\",\"nah.it\",\"robert\",\"pam\",\"pragmatic\",\"tshirt\",\"band_aid\",\"flavour\",\"blood_clot\",\"renee\",\"opener\",\"bobby\",\"functionally\",\"mailbox\",\"magnet\",\"checkup\",\"contingency\",\"contrary_popular\",\"fracture\",\"disagreeing\",\"glaring\",\"bulb\",\"bogus\",\"dishearten\",\"leniency\",\"bid\",\"snotty\",\"snot\",\"nightly\",\"outset\",\"invoice\",\"booster\",\"traumatise\",\"6-year\",\"pine\",\"formal_attire\",\"thay\",\"thrilled\",\"descend\",\"insufficient\",\"painless\",\"cringeworthy\",\"dc\",\"inpatient\",\"dismissal\",\"disloyal\",\"inspection\",\"sterilization\",\"waking\",\"ow\",\"lure\",\"moderately\",\"rookie\",\"habitual\",\"surefire\",\"og\",\"8th\",\"i\\u2018m\",\"bonnie\",\"share&utm_medium\",\"owl\",\"supper\",\"fh\",\"smartass\",\"pretense\",\"rick\",\"nutshell\",\"lookout\",\"claire\",\"pendant\",\"scotland\",\"soil\",\"pitchfork\",\"exclusionary\",\"harmony\",\"rom_com\",\"disapproval\",\"sac\",\"gymnast\",\"sparkle\",\"excruciating\",\"trusting\",\"clone\",\"squad\",\"prolly\",\"nta.my\",\"humble_brag\",\"stereotypically\",\"muzzle\",\"ingrain\",\"arizona\",\"optic\",\"tighten\",\"tl_dr\",\"breeze\",\"refugee\",\"refusing\",\"illegitimate\",\"filing\",\"welcoming\",\"mismatch\",\"caucasian\",\"transgenderism\",\"complexion\",\"daytime\",\"goth\",\"empowerment\",\"warranty\",\"icing\",\"beware\",\"gossipy\",\"indigenous\",\"70/30\",\"broom\",\"stunted\",\"diving\",\"staggering\",\"icy\",\"recount\",\"3yo\",\"expected\",\"youtuber\",\"misbehavior\",\"declaration\",\"vibration\",\"transpire\",\"thinly\",\"sterile\",\"butch\",\"f*ck\",\"eshthe\",\"plop\",\"april_fools\",\"belittling\",\"bi_erasure\",\"investigator\",\"plow\",\"o.o\",\"xenophobic\",\"totesmessenger\",\"paying\",\"traction\",\"flashy\",\"pea\",\"whining\",\"stoke\",\"disintereste\",\"irreversible\",\"victim_blaming\",\"p.s\",\"ime\",\"eshit\",\"incoming\",\"scratching\",\"humorous\",\"depending\",\"snide_remark\",\"aye\",\"dietician\",\"alas\",\"compliant\",\"fragile_masculinity\",\"baked\",\"irreplaceable\",\"ymmv\",\"swedish\",\"pt\",\"infowhat\",\"shag\",\"uncomfortably\",\"objectifying\",\"stomping\",\"ntaalso\",\"replicate\",\"heartedly\",\"waddle\",\"gourmet\",\"solace\",\"diagnostic\",\"depict\",\"insertion\",\"saggy\",\"mixture\",\"swinge\",\"testicular\",\"olive_branch\",\"stag\",\"despair\",\"18-year\",\"druggie\",\"tubal_ligation\",\"stereo\",\"trader\",\"maniac\",\"catholics\",\"hg\",\"pricing\",\"incidentally\",\"utero\",\"park_ranger\",\"ntatell\",\"alzheimer\",\"omission\",\"jest\",\"b12\",\"cosign\",\"nightclub\",\"dicke\",\"hierarchy\",\"plz\",\"reliably\",\"stealthing\",\"sunny\",\"wrapping\",\"jewellery\",\"mercedes\",\"tentatively\",\"affected\",\"60/40\",\"deficient\",\"projecting\",\"uppity\",\"mellow\",\"unbalanced\",\"seventeen\",\"teamwork\",\"neo_nazi\",\"accuracy\",\"bawl\",\"tonne\",\"justifie\",\"cheste\",\"nick\",\"huff\",\"\\ud83e\\udd37_\\ud83c\\udffc\\u200d_\\u2640_\\ufe0f\",\"categorize\",\"replaceable\",\"trading\",\"y.\",\"anon\",\"teller\",\"descent\",\"carelessness\",\"longterm\",\"jazz\",\"pb&j\",\"ytaedit\",\"abc\",\"syllabus\",\"developer\",\"extenuate_circumstance\",\"constraint\",\"stabilize\",\"marginalized\",\"flunk\",\"op-\",\"speedo\",\"13k\",\"apnea\",\"dogs\",\"stimulus\",\"w_e\",\"naming\",\"grapple\",\"tupperware\",\"cookware\",\"anecdotal_evidence\",\"vinegar\",\"cleavage\",\"clump\",\"opioid\",\"imaginable\",\"vivid\",\"6yo\",\"mixer\",\"it.&#x200b\",\"authorize\",\"uniquely\",\"downtown\",\"spotify\",\"fortnight\",\"bunk\",\"sternly\",\"swat\",\"instigator\",\"sol\",\"tobacco\",\"outrageously\",\"indifference\",\"jolly\",\"cheerleader\",\"deadbedroom\",\"compe\",\"confederacy\",\"champion\",\"nta.also\",\"misspell\",\"smoothie\",\"impediment\",\"inanimate\",\"/r_niceguys\",\"column\",\"justice_boner\",\"restraining\",\"nonchalant\",\"valley\",\"wail\",\"skimpy\",\"artificially\",\"aspiration\",\"scientology\",\"radius\",\"samaritan\",\"headlight\",\"kettle\",\"tabletop\",\"chap\",\"9/10\",\"tedious\",\"gif\",\"eshyou're\",\"dirtbag\",\"asymptomatic\",\"relent\",\"restart\",\"architect\",\"epiphany\",\"flak\",\"medicaid\",\"susan\",\"willpower\",\"protip\",\"ntahonestly\",\"fianc\\u00e9s\",\"coercive\",\"cardio\",\"revel\",\"5yo\",\"disengage\",\"adventurous\",\"wagon\",\"centric\",\"irritating\",\"enhance\",\"bone_marrow\",\"spamme\",\"dildos\",\"pushback\",\"wal_mart\",\"favorable\",\"institute\",\"encompass\",\"dissuade\",\"squirt\",\"skank\",\"teethe\",\"reactionary\",\"mustard\",\"infest\",\"terminally_ill\",\"overflow\",\"wannabe\",\"slaughter\",\"idealistic\",\"lynch\",\"speechless\",\"emojis\",\"salmon\",\"millionaire\",\"amirite\",\"papa\",\"pissing\",\"doe\",\"punching\",\"insidious\",\"tribute\",\"whoring\",\"mash_potato\",\"abduct\",\"tasteful\",\"misconduct\",\"misandrist\",\"synonymous\",\"reusable\",\"eww\",\"overtake\",\"donald\",\"ripe\",\"ntajust\",\"sexualise\",\"undercut\",\"sender\",\"franklin\",\"blender\",\"tangent\",\"ltr\",\"persecute\",\"skeeve\",\"jerky\",\"lowly\",\"meatless\",\"correctness\",\"3-year\",\"kim\",\"interchangeable\",\"throwing\",\"glow\",\"practicality\",\"dissent\",\"uncover\",\"crock\",\"deer\",\"13yo\",\"cemetery\",\"tipper\",\"blouse\",\"backpedal\",\"biker\",\"ytaas\",\"barbecue\",\"broth\",\"walker\",\"meow\",\"stonewall\",\"rp\",\"copyright\",\"hone\",\"demonstrably\",\"stated\",\"lpt\",\"clearance\",\"culprit\",\"y.o\",\"peasant\",\"imperfect\",\"unleashed\",\"wellness\",\"impulsively\",\"hardware\",\"darling\",\"sideways\",\"shpthis\",\"transgendere\",\"finalize\",\"jason\",\"extract\",\"patently\",\"acquiesce\",\"becky\",\"snort\",\"gps\",\"gi\",\"provocation\",\"climbing\",\"chiropractor\",\"crown\",\"nightstand\",\"lice\",\"delicately\",\"latte\",\"impractical\",\"ntaop\",\"fbi\",\"chooser\",\"overpay\",\"husky\",\"persecution\",\"4-year\",\"sporting\",\"mario\",\"workday\",\"dtmfa\",\"slime\",\"snoring\",\"newspaper\",\"researcher\",\"raffle\",\"ytai'm\",\"wierd\",\"foist\",\"zealot\",\"magnify\",\"typing\",\"injection\",\"heir\",\"convos\",\"savvy\",\"ranger\",\"wakeup\",\"kingdom\",\"baptism\",\"simmer\",\"tilt\",\"aide\",\"metaphorical\",\"inadequacy\",\"freelance\",\"capitalist\",\"garnish\",\"plagiarism\",\"kid(s\",\"tiger\",\"crusty\",\"keepsake\",\"volition\",\"socioeconomic\",\"facial_expression\",\"sociopathy\",\"physics\",\"definately\",\"cd\",\"expiration\",\"prematurely\",\"finished\",\"miraculously\",\"sandy\",\"pinpoint\",\"mein\",\"goodnight\",\"urn\",\"martin\",\"ontario\",\"falsely\",\"anchor\",\"reopen\",\"unrequited\",\"granted\",\"consequently\",\"panty\",\"clubbing\",\"disgrace\",\"anthony\",\"frighten\",\"comedic\",\"drs\",\"animate\",\"prudent\",\"chow\",\"denmark\",\"franchise\",\"endangerment\",\"conventionally\",\"bla\",\"vid\",\"boundrie\",\"fuckery\",\"o-\",\"darkness\",\"inhibit\",\"biohazard\",\"redemption\",\"hippie\",\"badwomensanatomy\",\"communicator\",\"\\u200d_\\u2640_\\ufe0f\",\"tract\",\"redhead\",\"outback\",\"fleeting\",\"aged\",\"pok\\u00e9mon\",\"adults\",\"hbo\",\"squander\",\"balk\",\"beneficiary\",\"windshield\",\"tah\",\"\\ud83e\\udd23_\\ud83e\\udd23\",\"tidbit\",\"la_jolla\",\"balding\",\"timeout\",\"crochet\",\"playoff\",\"th\",\"infinity\",\"dispense\",\"goose\",\"timid\",\"snail\",\"anecdotally\",\"salvageable\",\"fgm\",\"avert\",\"hairbrush\",\"handshake\",\"angsty\",\"snag\",\"ramp\",\"puddle\",\"unblock\",\"puppet\",\"icu\",\"avid\",\"x1000\",\"momentarily\",\"baptist\",\"developed\",\"feat\",\"^^|\",\"indebted\",\"weaken\",\"shithole\",\"cattle\",\"\\ud83d\\ude06\",\"lactation_consultant\",\"creepiness\",\"tardiness\",\"bsa\",\"pension\",\"veterinarian\",\"flabbergast\",\"begrudgingly\",\"grenade\",\"you?if\",\"decorum\",\"rodent\",\"righteousness\",\"neo\",\"adversity\",\"gutter\",\"rebuff\",\"cursing\",\"hannah\",\"septum\",\"provocative\",\"seinfeld\",\"8:30\",\"summarize\",\"paleo\",\"industrial\",\"cv\",\"conjunction\",\"slighted\",\"stigmatize\",\"wanker\",\"unimaginable\",\"julia\",\"yta.>i\",\"you'd\",\"wand\",\"lense\",\"breaker\",\"hospice\",\"beginner\",\"accordance\",\"vacate\",\"malpractice\",\"astonishing\",\"adulte\",\"stark\",\"gratuity\",\"explanatory\",\"yta1\",\"lets\",\"recap\",\"impactful\",\"nit\",\"bridal\",\"sah\",\"devoid\",\"electrical\",\"thug\",\"eyeball\",\"imminent\",\"offload\",\"qualifier\",\"things:1\",\"yada_yada\",\"exploitative\",\"hahahahaha\",\"handwriting\",\"nz\",\"pineapple\",\"mutilate\",\"tomboy\",\"steakhouse\",\"endearment\",\"unproductive\",\"normalcy\",\"losing\",\"plausible_deniability\",\"buddhist\",\"unfairness\",\"you\\u2019ve\",\"casket\",\"demeanor\",\"lactose_intolerance\",\"alleged\",\"hee\",\"evade\",\"\\ud83c\\udfc5\",\"advertisement\",\"arab\",\"dichotomy\",\"veterinary\",\"overshare\",\"infohow\",\"calculated\",\"hellish\",\"weep\",\"pitiful\",\"oscar\",\"ascribe\",\"energetic\",\"hawaiian\",\"galaxy\",\"plumber\",\"wooden\",\"hereditary\",\"mechanical\",\"booth\",\"belive\",\"mansplain\",\"remodel\",\"trough\",\"dimension\",\"descendant\",\"npc\",\"inconsistency\",\"burp\",\"terry\",\"academia\",\"honking\",\"brewery\",\"wool\",\"sahd\",\"molehill\",\"prerequisite\",\"enroll\",\"telephone\",\"obsessively\",\"ntano\",\"presentable\",\"toronto\",\"unravel\",\"helplessness\",\"cone\",\"won\\u2019t\",\"os\",\"hectic\",\"\\u2640_\\ufe0f\",\"20th_century\",\"stroll\",\"wrangle\",\"abdicate\",\"mayo\",\"monumentally\",\"injured\",\"accrue\",\"upend\",\"unsecured\",\"avengers\",\"cuddling\",\"e.\",\"francisco\",\"refute\",\"e.g\",\"knight\",\"ntayou\\u2019re\",\"accomodation\",\"photoshoppe\",\"lamp\",\"bolster\",\"gospel\",\"stressor\",\"mocking\",\"lupus\",\"tripping\",\"handgun\",\"thermostat\",\"antivaxxer\",\"vendetta\",\"appt\",\"exasperate\",\"undiagnosed\",\"games\",\"cannon\",\"hangry\",\"comprise\",\"sanctuary\",\"leaf\",\"13-year\",\"brian\",\"ikea\",\"overdo\",\"sa\",\"they\\u2019re\",\"genderfluid\",\"chatty\",\"personalize\",\"5x\",\"peter\",\"vase\",\"astonish\",\"shutdown\",\"biodad\",\"nvm\",\"5-year\",\"licensing\",\"hiccup\",\"cockroach\",\"preview\",\"gummy\",\"x200b;this\",\"feast\",\"regrettable\",\"trickle\",\"ribbing\",\"dietitian\",\"didnt\",\"fundraising\",\"acute\",\"bugger\",\"flamboyant\",\"authoritarian\",\"that's\",\"revise\",\"equipped\",\"trampoline\",\"tween\",\"renegotiate\",\"bluetooth\",\"tdap\",\"homeboy\",\"pronounced\",\"graffiti\",\"uncaring\",\"spiel\",\"defensible\",\"erratic\",\"shittiness\",\"themed\",\"passcode\",\"crow\",\"scandal\",\"changed\",\"infodid\",\"flatly\",\"darvo\",\"scientifically\",\"diagram\",\"\\\"edit\",\"theoretical\",\"punishable\",\"ewww\",\"toaster\",\"complacent\",\"esh.i\",\"framework\",\"iraq\",\"recognizable\",\"wifey\",\"barbaric\",\"thoughtfulness\",\"promiscuity\",\"signaling\",\"curable\",\"yta.he\",\"culpable\",\"turnoff\",\"defiantly\",\"cramping\",\"jock\",\"eshthis\",\"byproduct\",\"\\u2880\",\"incessantly\",\"elicit\",\"4chan\",\"marginally\",\"3ds\",\"granola\",\"bundy\",\"gabby\",\"shoo\",\"grower\",\"disconnected\",\"abdominal\",\"misjudge\",\"pigeon\",\"nicety\",\"stubbornness\",\"ebay\",\"abs\",\"rig\",\"dosent\",\"grit\",\"blowup\",\"heath\",\"straws\",\"cruelly\",\"discrete\",\"booby\",\"transit\",\"gaze\",\"hysterically\",\"nei\",\"astounded\",\"consultant\",\"pervy\",\"palate\",\"reccomend\",\"payroll\",\"mishandle\",\"cray\",\"exceedingly\",\"jr\",\"unlearn\",\"tightly\",\"\\ud83d\\udcaf\",\"subtext\",\"asshole-\",\"peruse\",\"convoluted\",\"mythology\",\"thst\",\"unmotivated\",\"deterrent\",\"\\\"your\",\"vampire\",\"weary\",\"colic\",\"rulebook](https://www.reddit.com\",\"ti\",\"mantra\",\"mysteriously\",\"commentator\",\"elf\",\"europeans\",\"mon\",\"pg\",\"dealing\",\"pansexual\",\"allege\",\"gyn\",\"albert\",\"we're\",\"pornstar\",\"greyhound\",\"economically\",\"hsv\",\"rec\",\"harry\",\"objectionable\",\"evasion\",\"alexa\",\"actionable\",\"foam\",\"thr\",\"cantonese\",\"heckle\",\"portrayal\",\"brow\",\"dehydrate\",\"richard\",\"spat\",\"irrespective\",\"nibble\",\"introverted\",\"untill\",\"rhyme\",\"confiscate\",\"fickle\",\"ytawhen\",\"incriminate\",\"extrovert\",\"roach\",\"woo\",\"madden\",\"muddy\",\"bollock\",\"reasons:1\",\"distaste\",\"broadly\",\"dale\",\"yta.also\",\"^this\",\"intuitive\",\"flyer\",\"hush\",\"twilight\",\"nastiness\",\"ntahow\",\"impart\",\"recruiter\",\"wouldn\\u2019t\",\"lettuce\",\"beam\",\"comical\",\"steroid\",\"unthinkable\",\"dieting\",\"headspace\",\"manufacturer\",\"mortality\",\"worldly\",\"counterpart\",\"analogous\",\"fuckboy\",\"pleasing\",\"orthodox\",\"candid\",\"goddam\",\"custodian\",\"torch\",\"stunned\",\"accomplished\",\"wizard\",\"null\",\"forewarn\",\"measly\",\"unsustainable\",\"paradox\",\"systematically\",\"25th\",\"spree\",\"undertake\",\"unto\",\"windfall\",\"x200b;she\",\"wonderfully\",\"emotionless\",\"wut\",\"firstborn\",\"individuality\",\"coming\",\"atrocity\",\"\\u2640\",\"fluster\",\"eggshell\",\"sedentary\",\"aunty\",\"hygienic\",\"ruse\",\"thou\",\"sci\",\"wrath\",\"nutty\",\"boohoo\",\"grumble\",\"hijab\",\"upstage\",\"administrative\",\"wendy\",\"propagate\",\"collision\",\"accessibility\",\"ntai\\u2019m\",\"retrieve\",\"playdate\",\"fostering\",\"renovate\",\"rationalise\",\"dissatisfaction\",\"overstate\",\"bedding\",\"sail\",\"defensively\",\"\\\"op\",\"utmost\",\"granddad\",\"registration\",\"vietnamese\",\"horrendously\",\"uncontrollably\",\"dinosaur\",\"barf\",\"valor\",\"woefully\",\"deprecate\",\"rut\",\"playlist\",\"denny\",\"craziness\",\"rhythm\",\"cvs\",\"latent\",\"pope\",\"manslaughter\",\"mumble\",\"estonian\",\"distracted\",\"euro\",\"17-year\",\"fluctuate\",\"mastectomy\",\"rod\",\"contextual\",\"amnio\",\"polo\",\"humanly\",\"seldom\",\"lightbulb\",\"conscientious\",\"forethought\",\"untouchable\",\"fuckton\",\"possessiveness\",\"9/11\",\"cdc\",\"worldwide\",\"immerse\",\"censorship\",\"unofficial\",\"skiing\",\"misgendering\",\"conceivable\",\"backhand\",\"pepperoni\",\"junkie\",\"terrier\",\"delve\",\"massacre\",\"depiction\",\"arabic\",\"offhand\",\"linguistic\",\"extraordinary\",\"yeh\",\"sermon\",\"5'8\",\"nighttime\",\"missionary\",\"sync\",\"norway\",\"bilingual\",\"shopper\",\"nibling\",\"lockdown\",\"overreacting\",\"srsly\",\"nutritious\",\"identifie\",\"citation\",\"crohn\",\"wrestler\",\"communicating\",\"underaged\",\"endear\",\"wield\",\"rights\",\"pamphlet\",\"ovulation\",\"barefoot\",\"ordinarily\",\"cheapen\",\"unprompted\",\"tiring\",\"redpill\",\"isn\\u2019t\",\"ruthless\",\"dismantle\",\"casualty\",\"deduce\",\"scorn\",\"cathartic\",\"ambiguity\",\"intestine\",\"rabid\",\"canal\",\"implying\",\"organically\",\"stun\",\"tracer\",\"voted\",\"compose?to=/r\",\"observant\",\"honda\",\"breastfee\",\"mm\",\"appletarian\",\"raccoon\",\"https://www.ncbi.nlm.nih.gov\",\"shoplifting\",\"refresh\",\"altered\",\"clinically\",\"crackhead\",\"fascism\",\"cubicle\",\"info**|**info**#[click\",\"thee\",\"violin\",\"washington\",\"index)#[click\",\"communist\",\"astound\",\"emerge\",\"\\ud83d\\ude43\",\"faq)*i\",\"barrage\",\"carton\",\"switching\",\"megan\",\"warehouse\",\"anthem\",\"deviation\",\"\\u201dyou\",\"surf\",\"dosage\",\"anesthesia\",\"hitch\",\"perpetrate\",\"jill\",\"ntaat\",\"vocally\",\"remarkable\",\"esque\",\"proportionate\",\"sorority\",\"ab\",\"nominate\",\"broaden\",\"definitly\",\"afterall\",\"snooze\",\"fa\",\"notwithstanding\",\"dissect\",\"bootstrap\",\"\\u2642_\\ufe0f\",\"appropriateness\",\"brink\",\"goofy\",\"confederate\",\"diligent\",\"ytaare\",\"panther\",\"kylee\",\"snicker\",\"assaulter\",\"voter\",\"reuse\",\"generator\",\"conducive\",\"doesn\\u2018t\",\"backing\",\"\\u00af\\\\\\\\\\\\_(\\u30c4)_/\\u00af\",\"lauren\",\"patent\",\"tenure\",\"hon\",\"nonconsensual\",\"infatuation\",\"esh.she\",\"festivity\",\"crummy\",\"neice\",\"palatable\",\"covert\",\"impersonate\",\"ultron\",\"sasha\",\"st.\",\"life-\",\"wad\",\"neediness\",\"jasmine\",\"fi\",\"quityourbullshit\",\"creek\",\"etsy\",\"fertilize\",\"distrustful\",\"dunk\",\"cardboard\",\"einstein\",\"paramedic\",\"cisgender\",\"loaf\",\"sticking\",\"contractual\",\"persue\",\"\\u0361\",\"carwash\",\"damnit\",\"ideation\",\"manipulating\",\"enforcement\",\"disc\",\"ribbon\",\"required\",\"here.](https://redd.it/9zgc4m)*i\",\"misdirect\",\"huntsman\",\"kinder\",\"bossy\",\"you\\u2018re\",\"drone\",\"stealthe\",\"holding\",\"yta.1\",\"province\",\"immigrate\",\"5'4\",\"sinful\",\"infodo\",\"nutter\",\"orphanage\",\"pb\",\"gentrification\",\"fanatic\",\"4.5\",\"agitate\",\"menace\",\"maneuver\",\"succinct\",\"variant\",\"reposte\",\"displace\",\"magnanimous\",\"\\u2809\",\"stipend\",\"trashcan\",\"teeter\",\"objectification\",\"contradiction\",\"fixation\",\"vip\",\"50,000\",\"reversed\",\"lactate\",\"loveless\",\"committee\",\"aquarium\",\"unsurprisingly\",\"defraud\",\"checker\",\"postnatal\",\"micropeen\",\"homicide\",\"viewer\",\"legroom\",\"decree\",\"abrupt\",\"omelette\",\"fuckwit\",\"tearing\",\"downs\",\"smarten\",\"sb\",\"^/\",\"logistical\",\"deviant\",\"perpetual\",\"drunkenness\",\"na\\u00efve\",\"database\",\"putting\",\"recital\",\"oatmeal\",\"grandmas\",\"5\\u20198\",\"varied\",\"gland\",\"5'5\",\"wanting\",\"fodder\",\"onboard\",\"\\ud83c\\uddf9\",\"hasty\",\"distracting\",\"tos\",\"fav\",\"recklessly\",\"specification\",\"castration\",\"\\ud83c\\udffd\\u200d\",\"whammy\",\"you'll\",\"mindlessly\",\"sucking\",\"doughnut\",\"buffer\",\"harpy\",\"norwegian\",\"responsive\",\"empire\",\"chug\",\"strategic\",\"younger\",\"allot\",\"burning\",\"egregiously\",\"cholesterol\",\"scrutiny\",\"satisfactory\",\"dialect\",\"pariah\",\"layout\",\"epidemic\",\"indiana\",\"georgia\",\"predate\",\"antivax\",\"dumping\",\"johnny\",\"adultery\",\"assigned\",\"unspecified\",\"pox\",\"snapshot\",\"congregation\",\"declawing\",\"mindless\",\"jealously\",\"cackle\",\"alienation\",\"erm\",\"1,500\",\"differing\",\"artifact\",\"infected\",\"browser\",\"enrich\",\"personalfinance\",\"supersede\",\"israel\",\"risque\",\"streaming\",\"limo\",\"loosely\",\"romanticize\",\"ummmm\",\"sensibility\",\"biologist\",\"8k\",\"10-year\",\"ballpark\",\"workable\",\"arsenal\",\"clamp\",\"livable\",\"tangle\",\"pleasantly\",\"notable\",\"annually\",\"sanctity\",\"thankyou\",\"scandinavian\",\"realism\",\"predicate\",\"earphone\",\"spacious\",\"\\ud83c\\udffb\\u200d_\\u2640\",\"menial\",\"recess\",\"ransom\",\"childishly\",\"madonna\",\"biodegradable\",\"delightful\",\"livestock\",\"roger\",\"screams\",\"torpedo\",\"sap\",\"occupation\",\"flags\",\"jumper\",\"cutesy\",\"choosy\",\"hulu\",\"emma\",\"pupper\",\"herring\",\"banshee\",\"southwest\",\"cookbook\",\"foolproof\",\"drank\",\"gateway\",\"overstay\",\"\\ud83d\\ude0e\",\"assimilate\",\"assisted\",\"chastity\",\"unilateral\",\"xxx\",\"babble\",\"mash\",\"invoke\",\"401k\",\"willed\",\"flap\",\"subpar\",\"fiscal\",\"handcuff\",\"\\ud83e\\udd2e\",\"4:30\",\"evolutionary\",\"ecosystem\",\"obliterate\",\"bicker\",\"undertaking\",\"characterization\",\"landing\",\"freakout\",\"hedge\",\"ashley\",\"phil\",\"acquaint\",\"jimmy\",\"mvp\",\"workshop\",\"prolonged\",\"sprain\",\"comprehensive\",\"squirm\",\"fridays\",\"60,000\",\"gta\",\"skeevy\",\"tu\",\"averse\",\"x200b;i'm\",\"immersion\",\"boys\",\"jive\",\"midterm\",\"unhealthily\",\"liken\",\"codependency\",\"organiser\",\"corporal\",\"amniocentesis\",\"eu\",\"jokey\",\"pouty\",\"alphabet\",\"unchecked\",\"verification\",\"supremacy\",\"patronise\",\"danny\",\"subscriber\",\"adopted\",\"\\\"also\",\"incidental\",\"opinionated\",\"miffed\",\"nta1\",\"lubrication\",\"gestate\",\"epidural\",\"yta.but\",\"mantle\",\"souvenir\",\"ytahonestly\",\"instinctual\",\"dimensional\",\"poopy\",\"frantically\",\"conjecture\",\"aba\",\"alllll\",\"eval\",\"contamination\",\"tint\",\"plasma\",\"accidently\",\"unquestionably\",\"fursuit\",\"cucke\",\"circulate\",\"\\\"oh\",\"banker\",\"lament\",\"dickwad\",\"masters\",\"blemish\",\"hyphen\",\"emus\",\"\\\"yeah\",\"pj\",\"goody\",\"tasting\",\"laughably\",\"classless\",\"har\",\"300k\",\"congrats\",\"infoare\",\"outpatient\",\"lewd\",\"discretionary\",\"mosquito\",\"kids-\",\"phenomenal\",\"dame\",\"dock\",\"detachment\",\"handbook\",\"separated\",\"nooo\",\"trainwreck\",\"draconian\",\"periodically\",\"condescendingly\",\"fireplace\",\"litterally\",\"feline\",\"urethra\",\"bamboozle\",\"renewal\",\"nah.if\",\"melon\",\"school-\",\"nta.they\",\"germans\",\"moocher\",\"infamous\",\"cabbage\",\"dcf\",\"unfunny\",\"forego\",\"publication\",\"ytalet\",\"vacay\",\"depo\",\"fortitude\",\"statutory\",\"purr\",\"taxpayer\",\"mishap\",\"defiant\",\"catfishing\",\"attain\",\"edit2\",\"irredeemable\",\"vessel\",\"2yo\",\"earnest\",\"hiss\",\"me-\",\"fatherly\",\"thoughtfully\",\"motto\",\"abduction\",\"pickiness\",\"labradoodle\",\"speakerphone\",\"bailey\",\"parcel\",\"cpr\",\"bert\",\"loon\",\"retriever\",\"marie\",\"thy\",\"icecream\",\"doesnt\",\"discolor\",\"yous\",\"rpg\",\"overhead\",\"obliged\",\"historic\",\"resilient\",\".5\",\"skanky\",\"doctrine\",\"coparente\",\"crosspost\",\"carnivore\",\"caloric\",\"pointer\",\"pdf\",\"\\\"\\\"i\",\"replay\",\"tether\",\"x200b;and\",\"sly\",\"them-\",\"audibly\",\"slumber\",\"imitate\",\"kansas\",\"paid\",\"ovarian\",\"hominem\",\"angela\",\"allowed\",\"notably\",\"prophecy\",\"relatable\",\"assailant\",\"19th\",\"testimony\",\"75,000\",\"coulda\",\"blissfully\",\"\\ud83c\\udfb6\",\"rummage\",\"freaky\",\"coloring\",\"improvise\",\"\\u201dthis\",\"fatphobic\",\"uncivil\",\"las\",\"tons\",\"johnson\",\"nostalgia\",\"rebuttal\",\"amniotic\",\"vintage\",\"destine\",\"12yo\",\"stalkerish\",\"infact\",\"cancelling\",\"evasive\",\"maria\",\"capitulate\",\"audible\",\"influx\",\"undeserve\",\"yknow\",\"time-\",\"solitary\",\"sect\",\"midget\",\"giveaway\",\"it?i\",\"sp\",\"resell\",\"blissful\",\"clot\",\"libtard\",\"stump\",\"abundance\",\"lit\",\"stub\",\"intertwine\",\"yadda_yadda\",\"manicure\",\"intentioned\",\"functionality\",\"psychopathic\",\"civilization\",\"personhood\",\"ehhhh\",\"yta.you\\u2019re\",\"ann\",\"versa\",\"ntai've\",\"bankroll\",\"curate\",\"fountain\",\"all-\",\"enslave\",\"flipping\",\"ms.\",\"arrow\",\"opportunistic\",\"fiscally\",\"unused\",\"fanfiction\",\"roundabout\",\"1950\",\"^^^what\",\"meditation\",\"normalise\",\"disfigure\",\"au\",\"necessitate\",\"doo\",\"arfid\",\"tweak\",\"daydream\",\"incredulous\",\"refundable\",\"demoralize\",\"ream\",\"shes\",\"admiration\",\"suggestive\",\"traveling\",\"^^\",\"imposition\",\"\\\"no\",\"sequence\",\"gown\",\"hes\",\"fret\",\"misstep\",\"improperly\",\"jen\",\"affiliate\",\"domino\",\"inbox\",\"mister\",\"puncture\",\"cube\",\"reword\",\"fragrance\",\"^^^this?](https://pastebin.com\",\"lateness\",\"annoyingly\",\"sulking\",\"carelessly\",\"^^^is\",\"asse\",\"littering\",\"daunt\",\"philippines\",\"systematic\",\"staring\",\"huffy\",\"porno\",\"te\",\"changer\",\"dickbag\",\"democracy\",\"unneeded\",\"5'2\",\"eloquently\",\"douchebaggery\",\"amanda\",\"slate\",\"trp\",\"ginger\",\"commodity\",\"unite\",\"weeb\",\"bookstore\",\"fixated\",\"buuuut\",\"paypal\",\"goldfish\",\"brood\",\"unruly\",\"gung\",\"siren\",\"camper\",\"desktop\",\"i\\u2019ll\",\"barbershop\",\"ostracise\",\"flop\",\"deduction\",\"parents\",\"treater\",\"signalling\",\"regimen\",\"showcase\",\"disturbed\",\"idealize\",\"sector\",\"quarantine\",\"guarentee\",\"mlk\",\"invariably\",\"hooking\",\"condemnation\",\"rotation\",\"stacy\",\"tin\",\"bothersome\",\"virtual\",\"undervalue\",\"inflation\",\"wont\",\"springer\",\"clitoral\",\"startling\",\"uterine\",\"roulette\",\"pleaser\",\"examination\",\"efficiency\",\"contributing\",\"nebulous\",\"uhm\",\"thanksgive\",\"gawk\",\"3.accept\",\"starbuck\",\"unfeeling\",\"itinerary\",\"imprison\",\"17yo\",\"query\",\"m8\",\"5'3\",\"ipod\",\"incestuous\",\"malleable\",\"physique\",\"placard\",\"relish\",\"almighty\",\"perverted\",\"bourbon\",\"civilly\",\"stench\",\"meaningfully\",\"ntahave\",\"emphasise\",\"isnt\",\"blinded\",\"enormously\",\"h.\",\"puerto\",\"2.50\",\"30,000\",\"forced\",\"chivalry\",\"werewolf\",\"nonchalantly\",\"intellect\",\"kpop\",\"recessive\",\"ttc\",\"blip\",\"culinary\",\"covenant\",\"creepily\",\"intrinsic\",\"terrorism\",\"preconceived\",\"coldly\",\"nahhe\",\"chaser\",\"grunt\",\"pharmacist\",\"saturdays\",\"blaze\",\"culminate\",\"up-\",\"ntaedit\",\"ntafuck\",\"ytapeople\",\"packing\",\"ginormous\",\"biking\",\"rolling\",\"downfall\",\"atypical\",\"pita\",\"gl\",\"godparent\",\"exclusivity\",\"percieve\",\"freezing\",\"technician\",\"doorway\",\"egypt\",\"funk\",\"bandage\",\"pediatric\",\"coursework\",\"keg\",\"unsaid\",\"vaping\",\"dopamine\",\"spinal\",\"urgently\",\"railroad\",\"ferret\",\"camo\",\"linen\",\"cleanse\",\"quo\",\"patio\",\"chipotle\",\"preggo\",\"unsuitable\",\"clientele\",\"scented\",\"phony\",\"rampage\",\"culpability\",\"ballgame\",\"abt\",\"erupt\",\"paragon\",\"overcompensate\",\"spectacular\",\"graceful\",\"merch\",\"scarce\",\"puritanical\",\"breastfed\",\"reliance\",\"bombshell\",\"builder\",\"pact\",\"invaluable\",\"anomaly\",\"niceguys\",\"demonstration\",\"crosswalk\",\"malfunction\",\"racing\",\"eyeroll\",\"overdose\",\"siblings\",\"ba\",\"3,000\",\"pothead\",\"\\\"what\",\"14-year\",\"is-\",\"rite\",\"sod\",\"archive\",\"cootie\",\"aha\",\"leaning\",\"bta\",\"overjoyed\",\"jungle\",\"jennifer\",\"proportionally\",\"op.edit\",\"impasse\",\"blowout\",\"kentucky\",\"salute\",\"implode\",\"it.2\",\"sodium\",\"overzealous\",\"forcing\",\"turf\",\"po\",\"shack\",\"gonna\",\"decaf\",\"designation\",\"keyword\",\"joyful\",\"\\ud83c\\udffd\",\"asshole|**yta**|not\",\"sapphire\",\"harrasse\",\"auction\",\"frantic\",\"16yo\",\"sext\",\"nemo\",\"whiff\",\"pi\",\"ihavesex\",\"ytabecause\",\"pneumonia\",\"illiterate\",\"rejoice\",\"tucson\",\"modeling\",\"hotdog\",\"jordan\",\"dunce\",\"defender\",\"clam\",\"edition\",\"sucks|**esh**no\",\"quebec\",\"hole|**nta**everyone\",\"graduating\",\"grim\",\"bouncy\",\"patrick\",\"tacitly\",\"folic\",\"cal\",\"automate\",\"callousness\",\"prepubescent\",\"fkn\",\"binding\",\"--:you're\",\"destitute\",\"cheerleading\",\"quilt\",\"reasons.1\",\"nth\",\"fetishist\",\"you?i\",\"hipster\",\"cody\",\"me\\\"\",\"mannerism\",\"precarious\",\"aspca\",\"shameless\",\"pudgy\",\"composure\",\"egocentric\",\"hairless\",\"mba\",\"rebuke\",\"commonplace\",\"bedridden\",\"ro\",\"fatness\",\"interim\",\"schmuck\",\"sunk\",\"stillborn\",\"compile\",\"pta\",\"restricted\",\"scottish\",\"fudge\",\"blocking\",\"kelly\",\"nother\",\"pe\",\"monetarily\",\"triplet\",\"fluctuation\",\"paternalistic\",\"alteration\",\"thrift\",\"loner\",\"eternally\",\"overprice\",\"here|**nah**shitpost|**shp**|not\",\"practise\",\"foreseeable\",\"latinx\",\"barb\",\"parent(s\",\"dogshit\",\"tiff\",\"newlywed\",\"usable\",\"intricacy\",\"airpod\",\"meatball\",\"reassignment\",\"meanie\",\"apprehensive\",\"regretful\",\"peck\",\"ante\",\"ooooh\",\"chess\",\"rocker\",\"y\\u2019know\",\"loathing\",\"gayness\",\"disastrous\",\"anglo\",\"4k\",\"moissanite\",\"domesticate\",\"captive\",\"tout\",\"skittish\",\"guys\",\"soggy\",\"contestant\",\"guild\",\"surgically\",\"sociology\",\"hut\",\"irate\",\"cuff\",\"stephanie\",\"kipp\",\"safeguard\",\"stead\",\"skyrocket\",\"\\u28f6\",\"munch\",\"bacterial\",\"coincidentally\",\"womanhood\",\"fiasco\",\"hooters\",\"transcript\",\"hoverboard\",\"inept\",\"noose\",\"administer\",\"synagogue\",\"warmth\",\"bizarrely\",\"unisex\",\"info|**info**[read\",\"dawkins\",\"microscope\",\"rapper\",\"smuggle\",\"harasser\",\"trajectory\",\"unconventional\",\"danielle\",\"dictator\",\"cbt\",\"twit\",\"midway\",\"demote\",\"ntadude\",\"pfft\",\"proponent\",\"botch\",\"yta.there\",\"neatly\",\"pimple\",\"snippet\",\"dat\",\"leaky\",\"leftist\",\"entice\",\"probe\",\"armrest\",\"maim\",\"digging\",\"mi\",\"karmic\",\"3am\",\"caveman\",\"cystic\",\"yta.dude\",\"workaholic\",\"thing-\",\"unfulfilled\",\"intensify\",\"negotiable\",\"7:30\",\"shitter\",\"detox\",\"coax\",\"nail_head\",\"appropriation\",\"surplus\",\"~\",\"violated\",\"angrier\",\"ntado\",\"derange\",\"heighten\",\"hp\",\"internalise\",\"diff\",\"pluck\",\"ph\",\"downward\",\"collage\",\"blade\",\"banish\",\"woke\",\"reciprocity\",\"zen\",\"trench\",\"nonprofit\",\"ordering\",\"nta.there\",\"bestfriend\",\"pinky\",\"angeles\",\"shellfish\",\"sweetener\",\"fmla\",\"chihuahua\",\"reduced\",\"redneck\",\"placebo\",\"tiredness\",\"ate\",\"geek\",\"oversee\",\"prescribed\",\"estimation\",\"replica\",\"flail\",\"peculiar\",\"debacle\",\"illustration\",\"erotic\",\"incurable\",\"dumbfound\",\"\\u201dshe\",\"fingerprint\",\"paedophile\",\"insincere\",\"denominator\",\"patriotism\",\"wade\",\"brotherly\",\"walnut\",\"consecutive\",\"misgiving\",\"insofar\",\"nauseate\",\"ding_ding\",\"payoff\",\"netherlands\",\"silk\",\"pollution\",\"outsource\",\"dungeon\",\"yer\",\"scott\",\"\\u270c\",\"masterpiece\",\"chit\",\"unrepentant\",\"plight\",\"unanimously\",\"mammal\",\"scanner\",\"nullify\",\"prudish\",\"forthright\",\"devour\",\"predispose\",\"wah\",\"neon\",\"you?you\",\"morph\",\"\\ud83d\\udc95\",\"antihistamine\",\"\\u201dhe\",\"yta.that\",\"ytathey\",\"resemblance\",\"exorbitant\",\"justnofamily\",\"sunlight\",\"cowardice\",\"15yo\",\"dissertation\",\"pumpkin\",\"internationally\",\"stank\",\"not-\",\"applause\",\"assembly\",\"mansion\",\"calculus\",\"sweatshirt\",\"ntas\",\"ii\",\"shitting\",\"lots\",\"blooded\",\"existed\",\"frontal\",\"\\ud83d\\ude14\",\"bueno\",\"child(ren\",\"fetlife\",\"implicate\",\"rival\",\"cheated\",\"ytayou've\",\"whereabouts\",\"yta\\\"i\",\"comic_strip\",\"misrepresentation\",\"meek\",\"squeamish\",\"billing\",\"zack\",\"pillar\",\"x200b;op\",\"fluently\",\"imperial\",\"bong\",\"silicon\",\"nancy\",\"mingle\",\"eyeliner\",\"icon\",\"feely\",\"adderall\",\"fringe\",\"dispenser\",\"subvert\",\"ja\",\"infrequently\",\"otherkin\",\"curvy\",\"inane\",\"trek\",\"flock\",\"oxford\",\"yoghurt\",\"mineral\",\"cna\",\"caliber\",\"yeet\",\"environmentally\",\"lifting\",\"verb\",\"contend\",\"kneejerk\",\"pavement\",\"18th\",\"bm\",\"plummet\",\"meditate\",\"poetic\",\"anchovy\",\"aroused\",\"mutter\",\"manga\",\"conjure\",\"focusse\",\"familiarity\",\"bravery\",\"ik\",\"blossom\",\"fentanyl\",\"fecal\",\"spook\",\"devastated\",\"2-year\",\"recruiting\",\"triumph\",\"truely\",\"treating\",\"ntaher\",\"involuntarily\",\"footprint\",\"upright\",\"parting\",\"shitless\",\"misdeed\",\"investor\",\"varie\",\"aptitude\",\"pertussis\",\"nta---\",\"fury\",\"sf\",\"socializing\",\"do-\",\"too-\",\"perinatal\",\"subsidise\",\"gonewild\",\"x200b;my\",\"apache\",\"grandbabie\",\"transfusion\",\"freind\",\"tragically\",\"j.\",\"yta.i'm\",\"ntawtf\",\"policing\",\"quibble\",\"editor\",\"media\",\"incubate\",\"12-year\",\"x200b;yta\",\"auschwitz\",\"dmv\",\"bluntness\",\"dwarf\",\"x200b;nta\",\"yta.what\",\"5'7\",\"copious\",\"riot\",\"identifiable\",\"scantily\",\"puss\",\"colon\",\"canvas\",\"eradicate\",\"crunchy\",\"diplomacy\",\"distort\",\"underdeveloped\",\"assuredly\",\"sassy\",\"bodybuilder\",\"cryptic\",\"fro\",\"ornament\",\"negging\",\"persistence\",\"lard\",\"reciprocal\",\"het\",\"alternately\",\"\\ud83d\\ude12\",\"org\",\"tetris\",\"kimono\",\"fellowship\",\"staunchly\",\"crust\",\"lawful\",\"crisp\",\"huuuuge\",\"cajun\",\"legaladvice\",\"ufc\",\"banjo\",\"notre\",\"unfollowe\",\"gentlemanly\",\"sm\",\"bertamo\",\"carefree\",\"encouraged\",\"silicone\",\"parks\",\"cbp\",\"manhandle\",\"walter\",\"bullcrap\",\"helium\",\"corrective\",\"25,000\",\"seniority\",\"it'd\",\"translator\",\"managing\",\"diva\",\"brunei\",\"flirtation\",\"haven\",\"though-\",\"litigation\",\"circuit\",\"aggressiveness\",\"excitedly\",\"orchestrate\",\"misandry\",\"platitude\",\"identification\",\"infestation\",\"finder\",\"combined\",\"curtail\",\"aren\\u2019t\",\"supermodel\",\"deescalate\",\"freebie\",\"horrifically\",\"z.\",\"furth\",\"bralette\",\"damsel\",\"crybaby\",\"softly\",\"outlaw\",\"bub\",\"ideological\",\"\\u280b\",\"spurt\",\"likeable\",\"fixing\",\"harms\",\"houseguest\",\"eaten\",\"preschooler\",\"handbag\",\"publicize\",\"kindest\",\"cp\",\"vacuuming\",\"residue\",\"grandbaby\",\"elective\",\"geographic\",\"anemic\",\"ak-47\",\"\\u201dif\",\"tb\",\"forwards\",\"pooch\",\"buttercup\",\"mb\",\"tokyo\",\"sheriff\",\"refrie\",\"chilli\",\"manifestation\",\"thathappene\",\"bp\",\"gravidarum\",\"retake\",\"colostomy\",\"ipa\",\"godsend\",\"reg\",\"blindfold\",\"freshener\",\"ytayes\",\"brazilian\",\"regime\",\"pewdiepie\",\"x200b;but\",\"phallic\",\"flipside\",\"lede\",\"cycling\",\"wii\",\"sq\",\"oot\",\"pressing\",\"peril\",\"\\u2801\",\"respiratory\",\"nigeria\",\"stamina\",\"gestation\",\"nutella\",\"indignation\",\"wavy\",\"malcolm\",\"snark\",\"quip\",\"gargoyle\",\"agonize\",\"seasonal\",\"dizzy\",\"agriculture\",\"blessed\",\"5.5\",\"murky\",\"asmr\",\"sensor\",\"diy\",\"250k\",\"karla\",\"conundrum\",\"ashtray\",\"louis\",\"dander\",\"prestige\",\"brazil\",\"mashed\",\"semitic\",\"historian\",\"nahi'm\",\"legoland\",\"5\\u20194\",\"dane\",\"milder\",\"mispronounce\",\"skipping\",\"\\\"or\",\"maori\",\"cheerlead\",\"sundae\",\"pageant\",\"obscenity\",\"mockingbird\",\"ntain\",\"liza\",\">i\",\"chafe\",\"hmmmm\",\"veiled\",\"showboate\",\"prediction\",\"inward\",\"offline\",\"boi\",\"ulta\",\"ballet\",\"haggle\",\"costumer\",\"mince\",\"b*tch\",\"subhuman\",\"funsie\",\"untenable\",\"retelling\",\"\\\"we\",\"fuse\",\"discretely\",\"stutter\",\"s.\",\"formulate\",\"stool\",\"cuddly\",\"undivided\",\"mower\",\"debit\",\"inflated\",\"unmedicated\",\"peppermint\",\"obstruct\",\"pmdd\",\"dicey\",\"adversely\",\"susie\",\"glucose\",\"empathic\",\"incentivize\",\"bigtime\",\"germanic\",\"moldy\",\"correspondence\",\"negro\",\"standoffish\",\"hulk\",\"hallucination\",\"yta.and\",\"perverse\",\"blackness\",\"right-\",\"spec\",\"wherewithal\",\"her?i\",\"eshif\",\"hardball\",\"goddess\",\"laws\",\"floss\",\"nahthe\",\"ejaculation\",\"pettyrevenge\",\"collectible\",\"maple\",\"fidget\",\"tenet\",\"flinch\",\"riding\",\"upcharge\",\"incessant\",\"decay\",\"ntafor\",\"uninforme\",\"unqualified\",\"predisposition\",\"yu\",\"obliviousness\",\"menstruate\",\"glamorous\",\"pleasantry\",\"pescatarian\",\"idiom\",\"lutely\",\"hobbie\",\"pence\",\"quantify\",\"consensually\",\"carolina\",\"exile\",\"^^^\",\"enrichment\",\"remake\",\"grub\",\"predetermine\",\"athi\",\"checklist\",\"teaspoon\",\"x200b;there\",\"cheerful\",\"communion\",\"africans\",\"leach\",\"choosingbeggars\",\"preplanne\",\"swamp\",\"unwrap\",\"smidge\",\"flushable\",\"9-year\",\"mindedness\",\"manliness\",\"wimp\",\"steward\",\"probate\",\"simpson\",\"shunt\",\"burdensome\",\"rehearse\",\"scowl\",\"charismatic\",\"ywnbta\",\"waaaaaay\",\"canine\",\"orgasme\",\"groin\",\"nta.what\",\"yta.edit\",\"disbelieve\",\"x200b;so\",\"compose?to\",\"pedal\",\"loledit\",\"democratic\",\"apron\",\"accost\",\"asked\",\"150k\",\"ntamaybe\",\"breather\",\"turkish\",\"posh\",\"harden\",\"anaphylactic\",\"insurmountable\",\"spacey\",\"flourish\",\"lifespan\",\"segment\",\"cumming\",\"shorter\",\"bedbug\",\"turnover\",\"unloaded\",\"leading\",\"swelling\",\"dgaf\",\"inebriate\",\"mull\",\"allegiance\",\"fawn\",\"ntaholy\",\"fda\",\"nudist\",\"vp\",\"else-\",\"enraged\",\"vouch\",\"gory\",\"pond\",\"d.\",\"glee\",\"expectant\",\"figurative\",\"dun\",\"immunize\",\"restate\",\"arabia\",\"charter\",\"spectacularly\",\"pap\",\"outlive\",\"herd\",\"grindr\",\"esl\",\"generalise\",\"dilute\",\"nutjob\",\"shifty\",\"insect\",\"nah.you're\",\"ninety\",\"calcium\",\"pod\",\"charlotte\",\"forgetfulness\",\"\\u261d\",\"8/10\",\"sus\",\"yta.just\",\"osha\",\"6k\",\"mf\",\"bask\",\"\\ud83d\\udc46\",\"retrain\",\"unfriendly\",\"n64\",\"scarring\",\"unhinge\",\"groan\",\"symbolism\",\"totem\",\"ytalook\",\"urinary\",\"pronto\",\"bygone\",\"nothingeverhappen\",\"matthew\",\"rooted\",\"cesspool\",\"disgraceful\",\"parentage\",\"exgf\",\"bac\",\"whiner\",\"desist\",\"intro\",\"\\ud83d\\ude00\",\"dreadful\",\"fumble\",\"denounce\",\"foetus\",\"lolol\",\"deformity\",\"hermit\",\"13th\",\"alamo\",\"diver\",\"differential\",\"valedictorian\",\"suv\",\"ick\",\"exemption\",\"okcupid\",\"lunge\",\"ytaher\",\"obedience\",\"utah\",\"symptomatic\",\"monument\",\"introspective\",\"persistently\",\"retell\",\"unasked\",\"vr\",\"mythical\",\"hardass\",\"unfriende\",\"funnel\",\"cancerous\",\"espouse\",\"sublet\",\"shitposter\",\"ans\",\"coarse\",\"lucke\",\"du\",\"stillbirth\",\"updoot\",\"demolish\",\"detain\",\"x2\",\"ridden\",\"subtlety\",\"40,000\",\"catcalling\",\"nta.edit\",\"riddled\",\"duct\",\"rosy\",\"\\\"then\",\"fierce\",\"nurturing\",\"shakespeare\",\"feminazi\",\"departure\",\"decorative\",\"spooky\",\"fingertip\",\"gras\",\"sailor\",\"savings\",\"bloop\",\"manhood\",\"bleep\",\"fiend\",\"confetti\",\"oblivion\",\"startled\",\"plaything\",\"permeate\",\"succumb\",\"\\\"not\",\"anthropology\",\"dennis\",\"fort\",\"esh.he\",\"sexting\",\"emperor\",\"miniscule\",\"restrained\",\"remission\",\"estrangement\",\"composition\",\"malnutrition\",\"librarian\",\"inb4\",\"phantom\",\"bulge\",\"diplomatically\",\"pua\",\"mississippi\",\"that\\u2018s\",\"confronting\",\"staffing\",\"endearing\",\"naivety\",\"zoom\",\"pushup\",\"expenditure\",\"gaslighter\",\"merchant\",\"outspoken\",\"invention\",\"screenshotte\",\"perplex\",\"undress\",\"canadians\",\"k.\",\"catastrophe\",\"broadway\",\"scrawny\",\"blurry\",\"victorian\",\"narcs\",\"mandated\",\"spidey\",\"asf\",\"slash\",\"tot\",\"incidence\",\"animation\",\"yta.why\",\"willy\",\"forefront\",\"evaporate\",\"feasibly\",\"\\u201dthe\",\"uhhhh\",\"migrate\",\"intruder\",\"councilor\",\"nub\",\"causation\",\"vested\",\"here](https://www.reddit.com\",\"intrinsically\",\"swiss\",\"madly\",\"sherlock\",\"iamverysmart\",\"headset\",\"armor\",\"pende\",\"bahamas\",\"ytaunless\",\"abolish\",\"vindication\",\"mugging\",\"dehydration\",\"lunchtime\",\"indenture\",\"rapport\",\"si\",\"monk\",\"idol\",\"predictor\",\"durr\",\"cheerfully\",\"unsuccessful\",\"reflexively\",\"bathing\",\"speciman\",\"hugger\",\"daunting\",\"doorbell\",\"electrician\",\"cumme\",\"ytano\",\"externally\",\"readjust\",\"inference\",\"hyphenation\",\"5'6\",\"pistol\",\"modestly\",\"infoyou\",\"hooter\",\"\\u201dedit\",\"founder\",\"assult\",\"youthful\",\"robotic\",\"irresponsibly\",\"bassinet\",\"airfare\",\"conceptualize\",\"brainstorm\",\".i\",\"helluva\",\"attic\",\"causal\",\"sorted\",\"coddling\",\"stadium\",\"playbook\",\"betterment\",\"noah\",\"mushy\",\"awww\",\"stricken\",\"limbo\",\"classification\",\"dis\",\"befall\",\"resound\",\"giddy\",\"brunette\",\"upbringe\",\"straddle\",\"heteronormative\",\"ding\",\"polished\",\"abso\",\"derek\",\"snuck\",\"molly\",\"reparation\",\"sandbox\",\"browsing\",\"rome\",\"worn\",\"blush\",\"accomplice\",\"ntahowever\",\"funnily\",\"armr\",\"salsa\",\"bedsheet\",\"op.i\",\"fatlogic\",\"implausible\",\"optimally\",\"adoptee\",\"emphatically\",\"\\u2665\",\"underground\",\"ntai'd\",\"constipate\",\"cusp\",\"coil\",\"enclosure\",\"sexualized\",\"heartburn\",\"gotta\",\"gettin\",\"amish\",\"slavic\",\"lily\",\"monologue\",\"degradation\",\"corroborate\",\"clickbaity\",\"saver\",\"zumba\",\"thingy\",\"rainy\",\"sparkly\",\"experimental\",\"cali\",\"itemize\",\"holly\",\"ender\",\"maine\",\"scorpion\",\"did-\",\"slope\",\"foil\",\"forearm\",\"somone\",\"repression\",\"idaho\",\"lighthearte\",\"shorthand\",\"infantile\",\"iphones\",\"judgment**>>this\",\"fucken\",\"happenpic_happenpic_happenpic_happenpic\",\"slippery\",\"applied\",\"shana\",\"aboriginal\",\"wayyyyy\",\"genetics\",\"sizing\",\"silverware\",\"pornographic\",\"bane\",\"bookshelf\",\"onesie\",\"flagrantly\",\"immaterial\",\"mailman\",\"signage\",\"squeaky\",\"catalog\",\"resourceful\",\"mankind\",\"chromosomal\",\"westboro\",\"baggy\",\"situation-\",\"bandwidth\",\"handjob\",\"waver\",\"lacking\",\"audit\",\"flashlight\",\"overbear\",\"conspire\",\"ytain\",\"peen\",\"kiwi\",\"decompose\",\"motivational\",\"primal\",\"skimp\",\"sneakily\",\"it.&#x200b;edit\",\"\\u26a0_\\ufe0f_\\u26a0_\\ufe0f\",\"denominational\",\"retinal\",\"schizophrenic\",\"matt\",\"gander\",\"cozy\",\"sophie\",\"structural\",\"\\u2803\",\"futile\",\"unkempt\",\"note-\",\"wearer\",\"reoccurre\",\"cambridge\",\"prosthetic\",\"unprofessionally\",\"thankless\",\"williams\",\"aaa\",\"mmr\",\"wanted\",\"conquer\",\"unbearably\",\"brandnewsentence\",\"abcde\",\"infectious\",\"decimate\",\"unmitigated\",\"adress\",\"brokerage\",\"fraternal\",\"quasi\",\"legwork\",\"wikitextbot\",\"kool\",\"s.o.\",\"behaving\",\"mascara\",\"misdemeanor\",\"sexualization\",\"frugally\",\"kilt\",\"thump\",\"conquest\",\"unwillingly\",\"sneaker\",\"overture\",\"sturdy\",\"infatuate\",\"denote\",\"hydrated\",\"eerily\",\"bearable\",\"cavity\",\"interrupting\",\"suuuuper\",\"playboy\",\"ringer\",\"pesky\",\"natured\",\"emancipate\",\"bylaw\",\"colony\",\"leukemia\",\"proficient\",\"doodle\",\"pakistan\",\"\\\"well\",\"13,000\",\"aspie\",\"presently\",\"supervised\",\"deflection\",\"seasoning\",\"\\\"yta\",\"vindicated\",\"funky\",\"that.2\",\"payer\",\"subjectively\",\"counting\",\"chord\",\"cigar\",\"wilfully\",\"bead\",\"verbiage\",\"dickhole\",\"ignoring\",\"appraise\",\"unusable\",\"cushy\",\"unpunished\",\"nd\",\"it\\\"\",\"fiery\",\"hurr\",\"wrongfully\",\"ytastop\",\"cooperation\",\"doggie\",\"childbeare\",\"dabble\",\"~~i\",\"confer\",\"placeholder\",\"laundromat\",\"fluke\",\"headscarf\",\"britain\",\"\\u00af\\\\\\\\\\\\_(\\u30c4)\\\\_/\\u00af\",\"royalty\",\"foods\",\"unfathomable\",\"prosecution\",\"womanly\",\"jugular\",\"reductive\",\"again-\",\"legitimacy\",\"interior\",\"profiling\",\"import\",\"shore\",\"8yo\",\"unjust\",\"hurricane\",\"cohabitation\",\"u.s\",\"cologne\",\"fraternity\",\"\\\"her\",\"vector\",\"shitstain\",\"infrastructure\",\"elizabeth\",\"packaging\",\"columbia\",\"adversarial\",\"font\",\"fetched\",\"reliability\",\"arcade\",\"rabie\",\"barter\",\"impoverished\",\"churn\",\"longevity\",\"maryland\",\"thesis\",\"unsuspecting\",\"defective\",\"flawless\",\"scot\",\"pooper\",\"ruckus\",\"nta.1\",\"x200b;your\",\"murderous\",\"ment\",\"dignified\",\"thier\",\"\\ud83d\\ude29\",\"dart\",\"distinctive\",\"choosingbeggar\",\"directive\",\"traumatizing\",\"sprout\",\"23-year\",\"regulated\",\"hahahah\",\"amenable\",\"johns\",\"kfc\",\"phew\",\"scab\",\"locked\",\"microscopic\",\"nta.sounds\",\"coo\",\"confidant\",\"stockholm\",\"absolution\",\"mutt\",\"irrevocably\",\"spermicide\",\"sergeant\",\"promising\",\"unnoticed\",\"oddball\",\"correspond\",\"urologist\",\"restitution\",\"retaliatory\",\":o\",\"howl\",\"buuut\",\"illicit\",\"ooze\",\"monstrous\",\"roi\",\"ungodly\",\"colorful\",\"realisation\",\"volcano\",\"hehe\",\"cardiac\",\"login\",\"6'4\",\"faucet\",\"nigga\",\"repel\",\"haste\",\"vividly\",\"populate\",\"accustom\",\"fledge\",\"blah\",\"unaddressed\",\"saudi\",\"liberate\",\"amok\",\"commemorate\",\"mars\",\"legging\",\"vindicate\",\"orbit\",\"retention\",\"histrionic\",\"tantamount\",\"murderedbywords\",\"approximate\",\"predictably\",\"inquiry\",\"buzzkill\",\"\\u201dand\",\"lecturer\",\"existential\",\"bagger\",\"flannel\",\"spinach\",\"x100\",\"gritty\",\"pointedly\",\"lender\",\"residual\",\"shtick\",\"^exclude\",\"fashionable\",\"celibacy\",\"innately\",\"20th\",\"chant\",\"followup\",\"gouge\",\"raunchy\",\"2am\",\"apprenticeship\",\"underwater\",\"solvable\",\"rang\",\"unplug\",\"f.\",\"schrodinger\",\"trooper\",\"pouting\",\"\\ud83d\\ude4c\",\"trot\",\"frazzle\",\"kneel\",\"furnace\",\"pubic\",\"demisexual\",\"fingernail\",\"opportunist\",\"roastme\",\"classical\",\"loo\",\"eloquent\",\"ott\",\"unforeseen\",\"surpass\",\"subculture\",\"journalism\",\"rehash\",\"smugly\",\"apologising\",\"swab\",\"abrahamic\",\"wince\",\"squishy\",\"rivalry\",\"skating\",\"begone\",\"untrusting\",\"adolf\",\"strait\",\"you\\u2019ll\",\"analyse\",\"alica\",\"pejorative\",\"persevere\",\"llama\",\"banal\",\"divine\",\"shingle\",\"experimentation\",\"shittily\",\"expendable\",\"cowboy\",\"heavens\",\"masterbate\",\"crippled\",\"teddy\",\"inequity\",\"disadvantaged\",\"flaming\",\"yip\",\"pullout\",\"preterm\",\"conserne\",\"tetanus\",\"seminar\",\"impotent\",\"quran\",\"presumptive\",\"douchecanoe\",\"pitty\",\"ged\",\"jeopardise\",\"yta.a\",\"depreciate\",\"collaborate\",\"sooooooo\",\"rambling\",\"wp\",\"1950s\",\"changing\",\"nexplanon\",\"weeknight\",\"peachy\",\"freeloading\",\"minister\",\"staunch\",\"opposing\",\"donkey\",\"uninsured\",\"wayside\",\"monolith\",\"sids\",\"psychopathy\",\"abomination\",\"bereavement\",\"i\\u2018d\",\"hitting\",\"angie\",\"coincidental\",\"approachable\",\"breech\",\"abstinent\",\"\\u201dso\",\"aloof\",\"marshmallow\",\"ewwww\",\"studying\",\"behoove\",\"skeezy\",\"ruffle\",\"16th\",\"constitutional\",\"victimless\",\"epileptic\",\"reestablish\",\"faithfulness\",\"geeze\",\"nun\",\"snipe\",\"prosper\",\"parenthesis\",\"pong\",\"dakota\",\"fasting\",\"lsd\",\"duke\",\"overrate\",\"naha\",\"nuh\",\"filler\",\"blas\\u00e9\",\"skateboard\",\"petrol\",\"chide\",\"hijacking\",\"lob\",\"kissy\",\"kiddy\",\"wat\",\"domineering\",\"mover\",\"childishness\",\"exploitation\",\"forsake\",\"lived\",\"indecent\",\"oopsie\",\"arguable\",\"adviser\",\"shamelessly\",\"doofus\",\"virginia\",\"ahem\",\"dispel\",\"prankster\",\"janice\",\"walkway\",\"indistinguishable\",\"generalisation\",\"iamatotalpieceofshit\",\"sphincter\",\"salesperson\",\"repetition\",\"rust\",\"ip\",\"physiologically\",\"hobo\",\"oc\",\"options:1\",\"tony\",\"mardi\",\"alibi\",\"procure\",\"smiley\",\"75k\",\"roasted\",\"saddening\",\"shortcut\",\"swastikas\",\"finely\",\"amiright\",\"mff\",\"cauliflower\",\"harming\",\"now-\",\"whopping\",\"jarring\",\"transparently\",\"parody\",\"contrarian\",\"downvoted\",\"momentum\",\"17th\",\"ypu\",\"assemble\",\"rl\",\"sonic\",\"sth\",\"toyota\",\"measured\",\"simpsons\",\"camgirl\",\"whitewash\",\"supplier\",\"inhale\",\"machinery\",\"relationships\",\"sleepless\",\"xs\",\"blinder\",\"guessing\",\"raging\",\"refined\",\"brothers\",\"awaken\",\"michelin\",\"getgo\",\"pew\",\"slapping\",\"ytalike\",\"jessie\",\"ratty\",\"superpower\",\"intermittent\",\"objectified\",\"theif\",\"para\",\"tar\",\"ata\",\"carpool\",\"alaska\",\"ntaoh\",\"warfare\",\"esteem\",\"vis\",\"culmination\",\"v.\",\"nsa\",\"edited\",\"ballsy\",\"extravagance\",\"15,000\",\"upbeat\",\"othere\",\"poppy\",\"precursor\",\"consuming\",\"trisomy\",\"asl\",\"sunglass\",\"unwashed\",\"disciplinarian\",\"jnmil\",\"doula\",\"scrooge\",\"isolating\",\"les\",\"upheaval\",\"2.0\",\"scotch\",\"improved\",\"brits\",\"unsexy\",\"airlines\",\"encyclopedia\",\"brazen\",\"populated\",\"damp\",\"pd\",\"\\u285f\",\"comeuppance\",\"landscape\",\"sanitize\",\"^[contact](/message\",\"rehabilitation\",\"median\",\"^\\\\([info](/r\",\"\\u28c4\",\"reddit:-\",\"situate\",\"inexplicably\",\"innapropriate\",\"drape\",\"keyed\",\"stan\",\"insemination\",\"deflate\",\"ref\",\"shin\",\"ntawow\",\"progressively\",\"avoidant\",\"shrew\",\"burglary\",\"withstand\",\"operator\",\"intrusion\",\"foh\",\"\\u00af\\\\_(\\u30c4)_/\\u00af\",\"11th\",\"garment\",\"unfiltered\",\"fragility\",\"yuppie\",\"isla\",\"governor\",\"ups\",\"passionately\",\"bureau\",\"thoughtlessly\",\"fireman\",\"gifted\",\"nta--\",\"permissible\",\"wtaf\",\"pubescent\",\"recite\",\"someome\",\"turning\",\"signing\",\"carol\",\"sphere\",\"preservation\",\"mould\",\"tentative\",\"rediculous\",\"tingle\",\"friend(s\",\"asswipe\",\"clara\",\"\\ud83d\\udc08_\\ud83d\\udc08_\\ud83d\\udc08_\\ud83d\\udc08\",\"messianic\",\"troublemaker\",\"upwards\",\"descriptive\",\"stud\",\"drexel\",\"yth\",\"ve\",\"unlawful\",\"proselytize\",\"soundly\",\"tropical\",\"compartmentalize\",\"proverb\",\"overuse\",\"stunningly\",\"nta.a\",\"nat\",\"continual\",\"sith\",\"mogai\",\"proofread\",\"globe\",\"subservient\",\"11.30\",\"carcass\",\"ping\",\"elaboration\",\"portable\",\"marketable\",\"nba\",\"circumstantial\",\"pupil\",\"lobe\",\"arc\",\"grammatically\",\"crumple\",\"met\",\"transperson\",\"socket\",\"ceremonial\",\"monica\",\"pseudoscience\",\"damper\",\"prosecutor\",\"deservedly\",\"ytadon\\u2019t\",\"mater\",\"ware\",\"yummy\",\"wi\",\"insinuation\",\"migrant\",\"ambivalent\",\"fsm\",\"fave\",\"100s\",\"nonissue\",\"healthier\",\"algebra\",\"peice\",\"mite\",\"excluded\",\"jeeze\",\"expired\",\"stagger\",\"horde\",\"hepatitis\",\"slick\",\"postcard\",\"prognosis\",\"procrastinator\",\"choreographer\",\"stint\",\"mouthwash\",\"viking\",\"drawback\",\"curtesy\",\"aghast\",\"2-\",\"ytawtf\",\"messiness\",\"elevated\",\"accelerate\",\"5'11\",\"initiation\",\"enviroment\",\"marble\",\"addendum\",\"fu\",\"fricken\",\"here:1\",\"sibs\",\"procession\",\"pedicure\",\"thinker\",\"peasy\",\"holler\",\"kay\",\"sag\",\"ntaeven\",\"adage\",\"5'1\",\"tyson\",\"astute\",\"beleive\",\"nta.why\",\"entitledparent\",\"cornerstone\",\"financing\",\"teehee\",\"woth\",\"500k\",\"ytasound\",\"cetera\",\"bitchiness\",\"\\\"my\",\"humongous\",\"damning\",\"pram\",\"unvaccinate\",\"refurbish\",\"eclampsia\",\"coughing\",\"matriarch\",\"succinctly\",\"oink\",\"7/10\",\"tubal\",\"uncooperative\",\"leroy\",\"superman\",\"embarrase\",\"squid\",\"discontinue\",\"gnarly\",\"ooo\",\"\\ud83d\\ude0d\",\"cherokee\",\"controllable\",\"garb\",\"pristine\",\"fri\",\"humanist\",\"pyramid\",\"serena\",\"rosa\",\"odour\",\"brah\",\"mmf\",\"housekeep\",\"corruption\",\"cognitively\",\"hazardous\",\"brighten\",\"abdoman\",\"x200b;as\",\"excruciate\",\"bewilder\",\"godfather\",\"hastily\",\"intoxicated\",\"literary\",\"rover\",\"sounding\",\"ralph\",\"unsupported\",\"wrt\",\"competence\",\"framing\",\"ybta\",\"earmark\",\"ty\",\"bearer\",\"iranian\",\"dissonance\",\"bono\",\"fatass\",\"reexamine\",\"sanction\",\"nta.honestly\",\"justin\",\"smoother\",\"12yr\",\"hay\",\"adresse\",\"chaste\",\"kart\",\"mid-20\",\"geo\",\"chemotherapy\",\"faker\",\"condense\",\"undecided\",\"groove\",\"hydrate\",\"tonya\",\"cohesive\",\"ai\",\"concentrated\",\"don\\u00b4t\",\"nacho\",\"skid\",\"dudley\",\"aura\",\"vacant\",\"200,000\",\"preoccupy\",\"mods\",\"receiving\",\"lawnmower\",\"scouting\",\"\\ud83d\\ude48_\\ud83d\\ude48\",\"snooty\",\"preferential\",\"sketchbook\",\"ntaits\",\"voodoo\",\"antagonist\",\"ytamy\",\"rutgers\",\"kong\",\"interchangeably\",\"androgynous\",\"wifes\",\"wildfire\",\"airpods\",\"fetishise\",\"versed\",\"diligently\",\"mamas\",\"jello\",\"moscow\",\"well-\",\"purport\",\"gma\",\"\\\"as\",\"detest\",\"heathen\",\"because:1\",\"dagger\",\"hottie\",\"marked\",\"unauthorized\",\"aaaaaand\",\"bickering\",\"plushie\",\"commandment\",\"gotten\",\"boutique\",\"legendary\",\"slideshow\",\"esha\",\"reverend\",\"jumpy\",\"photographic\",\"conceited\",\"static\",\"10:30\",\"@op\",\"cul\",\"floppy\",\"criminalize\",\"salami\",\"michelle\",\"cricket\",\"va\",\"purebre\",\"hotness\",\"likes\",\"accuser\",\"stigmatized\",\"missy\",\"stickie\",\"niceness\",\"ntalet\",\"ntawhen\",\"mortal\",\"subsidized\",\"stealth\",\"money-\",\"waxing\",\"cactus\",\"allll\",\"fizzle\",\"shill\",\"mothering\",\"silliness\",\"parish\",\"viscerally\",\"demise\",\"hamilton\",\"wasn\\u2019t\",\"oftentime\",\"executioner\",\"ee\",\"saliva\",\"crosse\",\"pulse\",\"litterbox\",\"noteworthy\",\"surreal\",\"mercury\",\"endow\",\"newcomer\",\"recreation\",\"smelling\",\"risqu\\u00e9\",\"unionize\",\"roadblock\",\"absolutly\",\"repent\",\"irregardless\",\"immunocompromise\",\"pesto\",\"hindus\",\"inactive\",\"burglar\",\"boggling\",\"luxurious\",\"ytaget\",\"moore\",\"segue\",\"tacit\",\"hairstylist\",\"deff\",\"chilling\",\"nitpicky\",\"redflag\",\"thor\",\"remaining\",\"ontop\",\"fap\",\"traumatized\",\"secluded\",\"python\",\"righteously\",\"nazism\",\"you\\\"\",\"intimidating\",\"hearte\",\"corny\",\"iamverybadass\",\"incision\",\"80k\",\"19-year\",\"hostel\",\"shiver\",\"hackle\",\"completion\",\"ytajesus\",\"miserly\",\"syrup\",\"q\",\"roasting\",\"teensy\",\"invites\",\"andrew\",\"ytaeveryone\",\"pricy\",\"manor\",\"prophet\",\"pinche\",\"nahyou\\u2019re\",\"yta.no\",\"sleeveless\",\"repeated\",\"ytayeah\",\"zit\",\"assualt\",\"ems\",\"spirituality\",\"lifer\",\"levy\",\"mulan\",\"perky\",\"lunacy\",\"given\",\"outreach\",\"1mil\",\"extremly\",\"bearded\",\"elegant\",\"beget\",\"infuriating\",\"farth\",\"erectile\",\"ntabee\",\"connive\",\"antifa\",\"divorcee\",\"remembrance\",\"earther\",\"3:>**accept\",\"comparatively\",\"gumption\",\"rogers\",\"literate\",\"hum\",\"barbara\",\"oinking\",\"asylum\",\"pathogen\",\"pivotal\",\"inviting\",\"trustworthiness\",\"choreograph\",\"seattle\",\"coerced\",\"point-\",\"accutane\",\"eighth\",\"1,200\",\"ist\",\"posit\",\"rooftop\",\"pretzel\",\"sammy\",\"skunk\",\"applebee\",\"20ish\",\"suitor\",\"14/15\",\"overreach\",\"invitee\",\"fascinate\",\"x200b;he\",\"ytaholy\",\"personable\",\"fir\",\"thx\",\"jackfruit\",\"sic\",\"microchip\",\"busser\",\"dwelling\",\"saturate\",\"stubbornly\",\"unsubbe\",\"ableism\",\"u.k.\",\"sims\",\"onwards\",\"viciously\",\"resounding\",\"ntawho\",\"13/14\",\"slum\",\"rambunctious\",\"commander\",\"premade\",\"stickler\",\"molestor\",\"grammatical\",\"westerner\",\"20-something\",\"ahhhh\",\"disgruntle\",\"gurl\",\"lurker\",\"exposed\",\"sewer\",\"compute\",\"comically\",\"mitigating\",\"fetishization\",\"copay\",\"unannounce\",\"nta.some\",\"bjs\",\"medic\",\"apocalypse\",\"batter\",\"disturbingly\",\"extraneous\",\"tangentially\",\"autist\",\"adept\",\"facetious\",\"friendliness\",\"4,000\",\"apprehension\",\"colloquially\",\"it.edit\",\"6.50\",\"lentil\",\"unoriginal\",\"out-\",\"thieving\",\"hallucinate\",\"bondage\",\"nah.she\",\"wonky\",\"acutely\",\"hemorrhoid\",\"amputate\",\"esh.the\",\"ended\",\"complimentary\",\"appreciated\",\"instinctive\",\"overrun\",\"weren't\",\"burritos\",\"concious\",\"solicitor\",\"ruder\",\"compromised\",\"fraudulent\",\"relegate\",\"hanger\",\"terrific\",\"benevolent\",\"arthur\",\"polio\",\"juul\",\"qualifie\",\"metropolitan\",\"scrolling\",\"ntawhile\",\"eggplant\",\"assholeishness\",\"portugal\",\"vocation\",\"unwittingly\",\"-and\",\"concoct\",\"binder\",\"needed\",\"bombing\",\"klan\",\"partaking\",\"toenail\",\"billionaire\",\"preacher\",\"6'2\",\"rly\",\"\\ud83d\\ude10\",\"harmlessly\",\"\\ufe0f.\",\"grandstand\",\"mmmm\",\"exhibition\",\"mondays\",\"playmate\",\"decider\",\"shopkeeper\",\"furiously\",\"quitter\",\"nj\",\"defo\",\"oversimplify\",\"\\\"do\",\"coitus\",\"reconstruction\",\"landfill\",\"indulgent\",\"padlock\",\"but-\",\"ex-\",\"sickening\",\"parter\",\"superintendent\",\"wreak\",\"bender\",\"vaxxers\",\"councillor\",\"preemie\",\"recollection\",\"paddle\",\"oftentimes\",\"intermediary\",\"slink\",\"huntington\",\"70k\",\"homer\",\"collectable\",\"\\\"how\",\"erasure\",\"https://www.reddit.com\",\"crossfire\",\"inclusivity\",\"febreeze\",\"abound\",\"obstinate\",\"thicken\",\"downsize\",\"listing\",\"socialist\",\"stave\",\"goofball\",\"jackson\",\"trying\",\"cottage\",\"cornered\",\"embarass\",\"embodiment\",\"somthe\",\"timetable\",\"cub\",\"depressant\",\"tj\",\"privledge\",\"esh.you're\",\"lunchbox\",\"quad\",\"solitude\",\"altar\",\"hunny\",\"1/3rd\",\"robust\",\"huuuge\",\"transcend\",\"beep\",\"abysmal\",\"2h\",\"nta.first\",\"cindy\",\"whinge\",\"\\\"like\",\"surge\",\"tel\",\"taken\",\"petting\",\"headed\",\"brash\",\"rules\",\"reboot\",\"fuckface\",\"transman\",\"swarm\",\"hellion\",\"laze\",\"laborer\",\"eyelash\",\"lime\",\"she'll\",\"shuttle\",\"cohabitate\",\"dearest\",\"scenery\",\"unambiguously\",\"shoehorn\",\"imitation\",\"adulting\",\"infallible\",\"moby\",\"femme\",\"persuasion\",\"ruler\",\"kinship\",\"relocation\",\"solar\",\"lysol\",\"tourism\",\"depart\",\"nationalist\",\"healthful\",\"wrongful\",\"restructure\",\"redefine\",\"painter\",\"trouser\",\"famously\",\"satiate\",\"settler\",\"pmc\",\"gamestop\",\"seventh\",\"snuff\",\"blizzard\",\"juju\",\"widen\",\"economical\",\"validated\",\"whelp\",\"disperse\",\"browbeat\",\"cradle\",\"mam\",\"identifier\",\"riddle\",\"popping\",\"asktrp\",\"harassed\",\"transpeople\",\"wireless\",\"underappreciated\",\"acclimate\",\"output\",\"pessimistic\",\"logan\",\"amenity\",\"coaching\",\"umbilical\",\"germaphobia\",\"45k\",\"libidos\",\"oooooh\",\"candidly\",\"dormant\",\"regressive\",\"constipation\",\"windows\",\"buss\",\"slobber\",\"grotesque\",\"midlife\",\"outloud\",\"crabby\",\"cape\",\"\\\"don't\",\"aging\",\"l.\",\"busboy\",\"vibrant\",\"heifer\",\"pounce\",\"eshwhy\",\"dilation\",\"yta.as\",\"conditionally\",\"subaru\",\"reload\",\"untouched\",\"itedit\",\"callously\",\"gobble\",\"ntajesus\",\"operating\",\"\\u2728\",\"hoot\",\"tickling\",\"mistype\",\"someway\",\"yadda\",\"unsavory\",\"knitting\",\"producer\",\"stephen\",\"farce\",\"ration\",\"betting\",\"gg\",\"suzie\",\"appologize\",\"senseless\",\"dissapointe\",\"ministry\",\"fl\",\"handsy\",\"dialog\",\"ytais\",\"nooooo\",\"inmate\",\"steadily\",\"prowess\",\"this:>i\",\"meaty\",\"defining\",\"vie\",\"blee\",\"gs\",\"lopsided\",\"pallet\",\"it.&#x200b;i\",\"slay\",\"ay\",\"annul\",\"ether\",\"endorsement\",\"drugstore\",\"mediterranean\",\"breadstick\",\"arborist\",\"16/17\",\"publishing\",\"1/5\",\"retina\",\"habitat\",\"gardasil\",\"ailment\",\"thickness\",\"acquisition\",\"romans\",\"harangue\",\"warren\",\"freckle\",\"undressed\",\"dolly\",\"cellular\",\"daugther\",\"bonafide\",\"hacker\",\"\\u2840\",\"sie\",\"welsh\",\"indo\",\"indulgence\",\"mush\",\"saw\",\"ooof\",\"corps\",\"bristle\",\"to-\",\"anticipation\",\"eyeshadow\",\"bribery\",\"parse\",\"\\u035c\\u0296\",\"glaringly\",\"hearsay\",\"isaac\",\"girth\",\"pepsi\",\"taper\",\"waaaaaaay\",\"fallon\",\"dogma\",\"thrash\",\"trapped\",\"stuffy\",\"we\\u2019re\",\"couldnt\",\"amethyst\",\"dusty\",\"pinnacle\",\"unenforceable\",\"hopping\",\"11-year\",\"childrearing\",\"^^^^automod\",\"thomas\",\"cfa\",\"bumpy\",\"nokia\",\"nextdoor\",\"dom(me\",\"collected\",\"groundwork\",\"guthrie\",\"didn\\u2018t\",\"gratify\",\"kicking\",\"dietetic\",\"saintly\",\"15th\",\"\\u28a0\",\"`\",\"lmaooo\",\"dropping\",\"laden\",\"thoughtlessness\",\"harrasment\",\"ascertain\",\"mowing\",\"workaround\",\"gravitate\",\"compulsory\",\"michigan\",\"quartz\",\"stbx\",\"journalist\",\"works\",\"likeness\",\"afar\",\"chiropractic\",\"m'lady\",\"template\",\"chiro\",\"unnerving\",\"dtf\",\"selflessly\",\"cw\",\"symmetrical\",\"bleak\",\"\\\\*not\\\\\",\"divisive\",\"squeak\",\"delighted\",\"theatric\",\"consolidate\",\"dyscalculia\",\"gah\",\"gloria\",\"eulogy\",\"cortex\",\"schtick\",\"titanic\",\"zinc\",\"people-\",\"eject\",\"legitimize\",\"dos\",\"thanos\",\"stained\",\"institutional\",\"penniless\",\"patty\",\"unappeale\",\"millisecond\",\"ntaare\",\"goddamnit\",\"expressive\",\"ibuprofen\",\"shitfaced\",\"js\",\"novice\",\"fuckhead\",\"docile\",\"behaviorist\",\"mocha\",\"contrived\",\"wedlock\",\"habe\",\"bu\",\"swerve\",\"imposter\",\"zealous\",\"yale\",\"covered\",\"fondle\",\"demo\",\"-she\",\"fiercely\",\"audi\",\"7k\",\"khaled\",\"letting\",\"viability\",\"trolley\",\"gop\",\"antimlm\",\"dingus\",\"baiting\",\"pisser\",\"vulgarity\",\"fore\",\"grump\",\"sass\",\"revolving\",\"gloomy\",\"ytawhile\",\"neanderthal\",\"bulldog\",\"malignant\",\"post](https://www.reddit.com\",\"mealtime\",\"glowing\",\"paygrade\",\"cajole\",\"sjws\",\"iceland\",\"activism\",\"crook\",\"standby\",\"amphetamine\",\"evoke\",\"x200b;just\",\"canned\",\"trivia\",\"esh.it\",\"romcom\",\"bandmate\",\"fingering\",\"artistry\",\"bloated\",\"one-\",\"indefinite\",\"\\ud83d\\ude15\",\"50th\",\"hearty\",\"fabrication\",\"lodge\",\"slit\",\"speedy\",\"crafty\",\"u.\",\"ww1\",\"sta\",\"esh.if\",\"cumbersome\",\"senator\",\"nta.when\",\"oi\",\"paintball\",\"blindsided\",\"mercilessly\",\"intensifie\",\"motherfucking\",\"nervousness\",\"unselfish\",\"abundant\",\"sift\",\"1-on-1\",\"commandeer\",\"darken\",\"hung\",\"sulky\",\"thriving\",\"plagiarize\",\"congenital\",\"sundays\",\"encapsulate\",\"extinguish\",\"cynic\",\"iran\",\"veal\",\"refuge\",\"that\\u2019\",\"scandalize\",\"uncut\",\"pairing\",\"legaladviceuk\",\"braindead\",\"associated\",\"obstruction\",\"republicans\",\"compassionately\",\"resize\",\"deffo\",\"assumed\",\"dsm\",\"turnaround\",\"lookin\",\"contributor\",\"apparel\",\"manhattan\",\"fatherless\",\"ostracism\",\"berth\",\"bestow\",\"overthink\",\"impersonal\",\"crocodile\",\"emancipation\",\"certified\",\"hsv-1\",\"ntaplease\",\"slacker\",\"remade\",\"waifu\",\"creeped\",\"golddigger\",\"fesse\",\"\\\"maybe\",\"unscented\",\"configuration\",\"willis\",\"chivalrous\",\"suckere\",\"aaaand\",\"30-year\",\"stagnate\",\"experiance\",\"10pm\",\"dictatorship\",\"rougher\",\"2-way\",\"crotchety\",\"thirde\",\"ytahave\",\"lowlife\",\"doctoral\",\"maliciouscompliance\",\"embassy\",\"~20\",\"fanfic\",\"setback\",\"lotr\",\"fireable\",\"kiddie\",\"flippantly\",\"prioritization\",\"dwight\",\"enabling\",\"cosmo\",\"gorge\",\"masquerade\",\"implantation\",\"torrent\",\"catheter\",\"nta.people\",\"mos\",\"goop\",\"sydney\",\"easiest\",\"governmental\",\"linear\",\"fuckwad\",\"temperamental\",\"expulsion\",\"unseen\",\"debauchery\",\"berry\",\"reeeeeally\",\"nationwide\",\"anemia\",\"bon\",\"sneer\",\"overburden\",\"orderly\",\"feefee\",\"cz\",\"treasured\",\"y'alls\",\"doozy\",\"weakling\",\"monty\",\"ta.you\",\"pulp\",\"strut\",\"brutality\",\"prohibition\",\"paralyzed\",\"synonym\",\"insulate\",\"heterosexuality\",\"tou\",\"immediatly\",\"reassuring\",\"crazier\",\"sensual\",\"schooler\",\"imgur\",\"paralegal\",\"radiation\",\"5:30\",\"ticketed\",\"vc\",\"lint\",\"doug\",\"strew\",\"she\\u2018s\",\"entrepreneur\",\"commonality\",\"volleyball\",\"ymbta\",\"motorbike\",\"embarrassingly\",\"loooove\",\"oppressed\",\"deadbolt\",\"\\ud83e\\udd37_\\u200d\",\"disassociate\",\"argumentation\",\"perch\",\"9yo\",\"forensic\",\"ytai\\u2019m\",\"plaque\",\"joseph\",\"impossibly\",\"greeks\",\"ism\",\"jr.\",\"vindictively\",\"clergy\",\"pacifier\",\"allllll\",\"mums\",\"spur\",\"\\ud83d\\udc9c\",\"glutton\",\"child-\",\"entangle\",\"dumbfuck\",\"harley\",\"repurpose\",\"achievable\",\"dug\",\"eclipse\",\"architecture\",\"curveball\",\"rsvp'd\",\"shoplifter\",\"greener\",\"sandal\",\"ntaeveryone\",\"preempt\",\"jot\",\"literacy\",\"hillary\",\"99.99\",\"whataboutism\",\"pointing\",\"ambient\",\"skit\",\"wrongness\",\"satanic\",\"indefensible\",\"reapply\",\"~~the\",\"preform\",\"shp-\",\"yes-\",\"buuuuut\",\"overgrown\",\"competency\",\"baller\",\"trivialise\",\"stuffed\",\"unsubscribe\",\"\\\"a\",\"dae\",\"pandora\",\"pivot\",\"erotica\",\"destruct\",\"gmail\",\"diabolical\",\"minutia\",\"neutrality\",\"oggle\",\"morgue\",\"poof\",\"dads\",\"nta.in\",\"defile\",\"chickene\",\"consentual\",\"nta.so\",\"bnb\",\"unjustly\",\"credence\",\"deity\",\"gong\",\"~10\",\"daisy\",\"kavanaugh\",\"obedient\",\"carrie\",\"strapped\",\"midday\",\"negotiating\",\"aitah\",\"nah.this\",\"hormonally\",\"roller\",\"jobs\",\"lite\",\"superfat\",\"ne\",\"xl\",\"occupant\",\"overtone\",\"hospitalization\",\"agonizing\",\"substitution\",\"lineup\",\"trumpet\",\"diaphragm\",\"preconceive\",\"\\ud83e\\udd22\",\"ar\",\"kaylee\",\"bart\",\"immaculate\",\"it's\",\"ridiculousness\",\"wanda\",\"infrequent\",\"responsability\",\"prideful\",\"loony\",\"\\ud83d\\ude24\",\"nhs\",\"interstate\",\"tithe\",\"panda\",\"unintelligent\",\"skyrim\",\"preemptive\"],\"x\":{\"__ndarray__\":\"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\",\"dtype\":\"float32\",\"order\":\"little\",\"shape\":[14732]},\"y\":{\"__ndarray__\":\"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\",\"dtype\":\"float32\",\"order\":\"little\",\"shape\":[14732]}},\"selected\":{\"id\":\"1604\"},\"selection_policy\":{\"id\":\"1603\"}},\"id\":\"1510\",\"type\":\"ColumnDataSource\"},{\"attributes\":{\"fill_alpha\":{\"value\":0.1},\"fill_color\":{\"value\":\"blue\"},\"hatch_color\":{\"value\":\"blue\"},\"line_alpha\":{\"value\":0.2},\"size\":{\"value\":10},\"x\":{\"field\":\"x\"},\"y\":{\"field\":\"y\"}},\"id\":\"1549\",\"type\":\"Circle\"},{\"attributes\":{\"bottom_units\":\"screen\",\"coordinates\":null,\"fill_alpha\":0.5,\"fill_color\":\"lightgrey\",\"group\":null,\"left_units\":\"screen\",\"level\":\"overlay\",\"line_alpha\":1.0,\"line_color\":\"black\",\"line_dash\":[4,4],\"line_width\":2,\"right_units\":\"screen\",\"syncable\":false,\"top_units\":\"screen\"},\"id\":\"1536\",\"type\":\"BoxAnnotation\"},{\"attributes\":{\"source\":{\"id\":\"1510\"}},\"id\":\"1552\",\"type\":\"CDSView\"},{\"attributes\":{},\"id\":\"1514\",\"type\":\"DataRange1d\"},{\"attributes\":{\"fill_alpha\":{\"value\":0.2},\"fill_color\":{\"value\":\"blue\"},\"hatch_alpha\":{\"value\":0.2},\"hatch_color\":{\"value\":\"blue\"},\"line_alpha\":{\"value\":0.2},\"line_color\":{\"value\":\"blue\"},\"size\":{\"value\":10},\"x\":{\"field\":\"x\"},\"y\":{\"field\":\"y\"}},\"id\":\"1550\",\"type\":\"Circle\"},{\"attributes\":{\"coordinates\":null,\"data_source\":{\"id\":\"1510\"},\"glyph\":{\"id\":\"1547\"},\"group\":null,\"hover_glyph\":{\"id\":\"1549\"},\"muted_glyph\":{\"id\":\"1550\"},\"nonselection_glyph\":{\"id\":\"1548\"},\"view\":{\"id\":\"1552\"}},\"id\":\"1551\",\"type\":\"GlyphRenderer\"},{\"attributes\":{\"callback\":null,\"tooltips\":\"@index\"},\"id\":\"1544\",\"type\":\"HoverTool\"},{\"attributes\":{},\"id\":\"1604\",\"type\":\"Selection\"},{\"attributes\":{},\"id\":\"1531\",\"type\":\"WheelZoomTool\"},{\"attributes\":{},\"id\":\"1535\",\"type\":\"HelpTool\"},{\"attributes\":{\"coordinates\":null,\"formatter\":{\"id\":\"1598\"},\"group\":null,\"major_label_policy\":{\"id\":\"1599\"},\"ticker\":{\"id\":\"1527\"}},\"id\":\"1526\",\"type\":\"LinearAxis\"}],\"root_ids\":[\"1511\"]},\"title\":\"Bokeh Application\",\"version\":\"2.4.3\"}};\n",
       "  const render_items = [{\"docid\":\"373c1507-962c-47c2-99ae-74e10021fc3a\",\"root_ids\":[\"1511\"],\"roots\":{\"1511\":\"e9168e54-478e-41ab-86d4-0c412a0ea003\"}}];\n",
       "  root.Bokeh.embed.embed_items_notebook(docs_json, render_items);\n",
       "  }\n",
       "  if (root.Bokeh !== undefined) {\n",
       "    embed_document(root);\n",
       "  } else {\n",
       "    let attempts = 0;\n",
       "    const timer = setInterval(function(root) {\n",
       "      if (root.Bokeh !== undefined) {\n",
       "        clearInterval(timer);\n",
       "        embed_document(root);\n",
       "      } else {\n",
       "        attempts++;\n",
       "        if (attempts > 100) {\n",
       "          clearInterval(timer);\n",
       "          console.log(\"Bokeh: ERROR: Unable to run BokehJS code because BokehJS library is missing\");\n",
       "        }\n",
       "      }\n",
       "    }, 10, root)\n",
       "  }\n",
       "})(window);"
      ],
      "application/vnd.bokehjs_exec.v0+json": ""
     },
     "metadata": {
      "application/vnd.bokehjs_exec.v0+json": {
       "id": "1511"
      }
     },
     "output_type": "display_data"
    }
   ],
   "source": [
    "# Add our DataFrame as a ColumnDataSource for Bokeh\n",
    "plot_data = ColumnDataSource(tsne_df)\n",
    "\n",
    "# Create the plot and configure the title, dimensions, and tools\n",
    "tsne_plot = figure(title='t-SNE Word Embeddings')\n",
    "\n",
    "# Add a hover tool to display words on roll-over\n",
    "tsne_plot.add_tools(HoverTool(tooltips='@index') )\n",
    "\n",
    "# Draw the words as circles on the plot\n",
    "tsne_plot.circle('x', 'y',\n",
    "                 source=plot_data,\n",
    "                 color='blue',\n",
    "                 line_alpha=0.2,\n",
    "                 fill_alpha=0.1,\n",
    "                 size=10,\n",
    "                 hover_line_color='black')\n",
    "\n",
    "# Engage!\n",
    "show(tsne_plot)"
   ]
  },
  {
   "cell_type": "markdown",
   "metadata": {
    "id": "TtIBMFnNrQlL"
   },
   "source": [
    "<a id='bias'></a>\n",
    "\n",
    "# Discovering Language Bias With Word Embeddings\n",
    "\n",
    "The vector representations of word Embeddings can be used for all kinds of tasks. One such task is discovering **language bias**: language that is normatively oriented towards certain people, ideas, or things. \n",
    "\n",
    "In order to do this, we first need to postulate **concepts** that we suspect a bias towards. For example, people often associate words with masculinity or femininity (think of \"fireman\" vs \"nurse\"). This reflects both a normative construction of a gender binary, as well as stereotypes *within* that binary. We can attempt to quantify this directly using notions of distance with word embeddings.\n",
    "\n",
    "We first define **target concepts** for the terms we aim to identify biases towards (e.g., \"male\" and \"female\"). Then, we can then compute relative similarities of other word vectors – particularly, words that act as evaluative attributes such as \"strong\" and \"sensitive\". These words can be categorised through clustering algorithms and labeled through a semantic analysis system into more general (conceptual) biases, yielding a broad picture of the biases present in a discourse community.\n",
    "\n",
    "At the bottom of this notebook you'll find some [existing target sets](#target) that have been used in the literature on language biases."
   ]
  },
  {
   "cell_type": "markdown",
   "metadata": {
    "id": "FSbUVbC-rQlY"
   },
   "source": [
    "## Obtaining Biases Towards Target Concepts\n",
    "\n",
    "We will run our method of finding biased words towards our target sets. We will be using functions in an external file - `utils.py` - which you are free to look through if you're interested. Otherwise, feel free to use the functions as desired.\n",
    "\n",
    "Given a vocabulary and two sets of target words (such as, in this case, those for *women* and *men*), we rank the words from least to most biased. As such, we obtain two ordered lists of the most biased words towards each target set, obtaining an overall view of the bias distribution in that particular community with respect to those two target sets. \n",
    "\n",
    "The approach is as follows:\n",
    "- We calculate the centroid of a target set by averaging the embedding vectors in our target set (e.g. the vectors for `he, son, his, him, father, male` for our target concept `male`);\n",
    "- We calculate the cosine similarity between the vectors for all words in our vocabulary as compared to our two centroids (we also apply POS-filtering to only work with parts of speech we expect to be relevant);\n",
    "- We use a threshold based on standard deviation to determine how severe a bias needs to be before we include it;\n",
    "- We rank the words in the vocabulary of our word embeddings model based on their bias towards either target concept.\n",
    "\n",
    "The implicit hypothesis here is that word vectors closer to the centroid of a target concept are used more similarly with respect that concept. This, in effect, is an effort to quantify the bias of words in the discourse of a community."
   ]
  },
  {
   "cell_type": "code",
   "execution_count": 29,
   "metadata": {},
   "outputs": [
    {
     "name": "stderr",
     "output_type": "stream",
     "text": [
      "[nltk_data] Downloading package averaged_perceptron_tagger to\n",
      "[nltk_data]     /Users/tomvannuenen/nltk_data...\n",
      "[nltk_data]   Package averaged_perceptron_tagger is already up-to-\n",
      "[nltk_data]       date!\n",
      "[nltk_data] Downloading package vader_lexicon to\n",
      "[nltk_data]     /Users/tomvannuenen/nltk_data...\n",
      "[nltk_data]   Package vader_lexicon is already up-to-date!\n"
     ]
    }
   ],
   "source": [
    "# Import function to calculate biased words\n",
    "from utils import calculate_biased_words"
   ]
  },
  {
   "cell_type": "markdown",
   "metadata": {},
   "source": [
    "Here are our target concept vectors. This is a critical choice: the centroid of these represents the concept at hand. What happens if you change the words included?"
   ]
  },
  {
   "cell_type": "code",
   "execution_count": 30,
   "metadata": {},
   "outputs": [],
   "source": [
    "target1 = ['sister' , 'female' , 'woman' , 'girl' , 'daughter' , 'she' , 'hers' , 'her']\n",
    "target2 = ['brother' , 'male' , 'man' , 'boy' , 'son' , 'he' , 'his' , 'him'] "
   ]
  },
  {
   "cell_type": "code",
   "execution_count": 31,
   "metadata": {},
   "outputs": [],
   "source": [
    "model = Word2Vec.load('../../data/aita_comments.emb')"
   ]
  },
  {
   "cell_type": "code",
   "execution_count": 32,
   "metadata": {
    "executionInfo": {
     "elapsed": 11526,
     "status": "ok",
     "timestamp": 1647303428120,
     "user": {
      "displayName": "Tom van Nuenen",
      "photoUrl": "https://lh3.googleusercontent.com/a-/AOh14GhuBmxDvW5I_LJfZtwlPqMFD8QGLVPP3skvpkTnuQ=s64",
      "userId": "10012302451096885058"
     },
     "user_tz": 300
    },
    "id": "SIzdtQV5rQlh",
    "scrolled": true
   },
   "outputs": [],
   "source": [
    "[b1, b2] = calculate_biased_words(model, target1, target2, 4)"
   ]
  },
  {
   "cell_type": "markdown",
   "metadata": {
    "id": "LJpg5BDydlYT"
   },
   "source": [
    "Let's print some biases. Here you see the most-biased words towards our target concepts (1 being *women*, 2 being *men*)."
   ]
  },
  {
   "cell_type": "code",
   "execution_count": 33,
   "metadata": {
    "colab": {
     "base_uri": "https://localhost:8080/"
    },
    "executionInfo": {
     "elapsed": 191,
     "status": "ok",
     "timestamp": 1647303438347,
     "user": {
      "displayName": "Tom van Nuenen",
      "photoUrl": "https://lh3.googleusercontent.com/a-/AOh14GhuBmxDvW5I_LJfZtwlPqMFD8QGLVPP3skvpkTnuQ=s64",
      "userId": "10012302451096885058"
     },
     "user_tz": 300
    },
    "id": "qc-9g8BErQll",
    "outputId": "93aa1d97-e9ad-4f17-9ce3-bef7d4079209"
   },
   "outputs": [
    {
     "name": "stdout",
     "output_type": "stream",
     "text": [
      "Biased words towards target set 1\n",
      "['people', 'body', 'personal', 'involve', 'concern', 'shame', 'creepy', 'valid', 'form', 'detail', 'threaten', 'coworker', 'zero', 'begin', 'birth_control', 'privacy', 'trauma', 'gain', 'painful', 'hurtful', 'social_medium', 'patient', 'intimate', 'intent', 'vulnerable', 'skinny', 'ntayou', 'controlling', 'self_esteem', 'useful', 'cross_line', 'dodge_bullet', 'unsafe', 'wig', 'self_conscious', 'unattractive', 'damaging', 'pushy', 'iud', 'risky', 'downright', 'workout', 'shaming', 'straighten']\n"
     ]
    }
   ],
   "source": [
    "print('Biased words towards target set 1')\n",
    "print([word for word in b1.keys()])"
   ]
  },
  {
   "cell_type": "code",
   "execution_count": 34,
   "metadata": {},
   "outputs": [
    {
     "name": "stdout",
     "output_type": "stream",
     "text": [
      "Biased words towards target set 2\n",
      "['leave', 'deal', 'spend', 'responsibility', 'pass', 'god', 'argue', 'plenty', 'split', 'separate', 'understandable', 'contribute', 'earn', 'punishment', 'bro', 'vote', 'buddy', 'btw', 'mate', 'duty', 'vs', 'got', 'pride', 'grandfather', 'daddy', '😂', 'lord', 'grandpa', 'tonight', 'dear', 'sin', 'golden', 'lame', 'halloween', 'heaven']\n"
     ]
    }
   ],
   "source": [
    "print('Biased words towards target set 2')\n",
    "print([word for word in b2.keys()] )"
   ]
  },
  {
   "cell_type": "markdown",
   "metadata": {
    "id": "Zpk0lx2xplMf"
   },
   "source": [
    "## Visualizing Biases using $t$-SNE\n",
    "\n",
    "We now return to our dimensionality reduction technique, $t$-SNE, to try and visualize these biased words in a 2D space using Bokeh."
   ]
  },
  {
   "cell_type": "code",
   "execution_count": 35,
   "metadata": {},
   "outputs": [],
   "source": [
    "import matplotlib.pyplot as plt\n",
    "import numpy as np\n",
    "\n",
    "from sklearn.manifold import TSNE\n",
    "%matplotlib inline"
   ]
  },
  {
   "cell_type": "code",
   "execution_count": 36,
   "metadata": {},
   "outputs": [],
   "source": [
    "with open(tsne_path, 'rb') as f:\n",
    "    X_tsne = pickle.load(f)\n",
    "    \n",
    "tsne_df = pd.read_pickle(tsne_df_path)"
   ]
  },
  {
   "cell_type": "code",
   "execution_count": 37,
   "metadata": {},
   "outputs": [],
   "source": [
    "# Convert biased term keys to arrays\n",
    "target1_idx = np.array([model.wv.key_to_index[key] for key in b1.keys()])\n",
    "target2_idx = np.array([model.wv.key_to_index[key] for key in b2.keys()])"
   ]
  },
  {
   "cell_type": "code",
   "execution_count": 38,
   "metadata": {},
   "outputs": [],
   "source": [
    "# Find t-sne values for the biased sets\n",
    "X_target1 = X_tsne[target1_idx]\n",
    "X_target2 = X_tsne[target2_idx]"
   ]
  },
  {
   "cell_type": "code",
   "execution_count": 39,
   "metadata": {},
   "outputs": [
    {
     "data": {
      "text/html": [
       "<div class=\"bk-root\">\n",
       "        <a href=\"https://bokeh.org\" target=\"_blank\" class=\"bk-logo bk-logo-small bk-logo-notebook\"></a>\n",
       "        <span id=\"1224\">Loading BokehJS ...</span>\n",
       "    </div>\n"
      ]
     },
     "metadata": {},
     "output_type": "display_data"
    },
    {
     "data": {
      "application/javascript": [
       "(function(root) {\n",
       "  function now() {\n",
       "    return new Date();\n",
       "  }\n",
       "\n",
       "  const force = true;\n",
       "\n",
       "  if (typeof root._bokeh_onload_callbacks === \"undefined\" || force === true) {\n",
       "    root._bokeh_onload_callbacks = [];\n",
       "    root._bokeh_is_loading = undefined;\n",
       "  }\n",
       "\n",
       "const JS_MIME_TYPE = 'application/javascript';\n",
       "  const HTML_MIME_TYPE = 'text/html';\n",
       "  const EXEC_MIME_TYPE = 'application/vnd.bokehjs_exec.v0+json';\n",
       "  const CLASS_NAME = 'output_bokeh rendered_html';\n",
       "\n",
       "  /**\n",
       "   * Render data to the DOM node\n",
       "   */\n",
       "  function render(props, node) {\n",
       "    const script = document.createElement(\"script\");\n",
       "    node.appendChild(script);\n",
       "  }\n",
       "\n",
       "  /**\n",
       "   * Handle when an output is cleared or removed\n",
       "   */\n",
       "  function handleClearOutput(event, handle) {\n",
       "    const cell = handle.cell;\n",
       "\n",
       "    const id = cell.output_area._bokeh_element_id;\n",
       "    const server_id = cell.output_area._bokeh_server_id;\n",
       "    // Clean up Bokeh references\n",
       "    if (id != null && id in Bokeh.index) {\n",
       "      Bokeh.index[id].model.document.clear();\n",
       "      delete Bokeh.index[id];\n",
       "    }\n",
       "\n",
       "    if (server_id !== undefined) {\n",
       "      // Clean up Bokeh references\n",
       "      const cmd_clean = \"from bokeh.io.state import curstate; print(curstate().uuid_to_server['\" + server_id + \"'].get_sessions()[0].document.roots[0]._id)\";\n",
       "      cell.notebook.kernel.execute(cmd_clean, {\n",
       "        iopub: {\n",
       "          output: function(msg) {\n",
       "            const id = msg.content.text.trim();\n",
       "            if (id in Bokeh.index) {\n",
       "              Bokeh.index[id].model.document.clear();\n",
       "              delete Bokeh.index[id];\n",
       "            }\n",
       "          }\n",
       "        }\n",
       "      });\n",
       "      // Destroy server and session\n",
       "      const cmd_destroy = \"import bokeh.io.notebook as ion; ion.destroy_server('\" + server_id + \"')\";\n",
       "      cell.notebook.kernel.execute(cmd_destroy);\n",
       "    }\n",
       "  }\n",
       "\n",
       "  /**\n",
       "   * Handle when a new output is added\n",
       "   */\n",
       "  function handleAddOutput(event, handle) {\n",
       "    const output_area = handle.output_area;\n",
       "    const output = handle.output;\n",
       "\n",
       "    // limit handleAddOutput to display_data with EXEC_MIME_TYPE content only\n",
       "    if ((output.output_type != \"display_data\") || (!Object.prototype.hasOwnProperty.call(output.data, EXEC_MIME_TYPE))) {\n",
       "      return\n",
       "    }\n",
       "\n",
       "    const toinsert = output_area.element.find(\".\" + CLASS_NAME.split(' ')[0]);\n",
       "\n",
       "    if (output.metadata[EXEC_MIME_TYPE][\"id\"] !== undefined) {\n",
       "      toinsert[toinsert.length - 1].firstChild.textContent = output.data[JS_MIME_TYPE];\n",
       "      // store reference to embed id on output_area\n",
       "      output_area._bokeh_element_id = output.metadata[EXEC_MIME_TYPE][\"id\"];\n",
       "    }\n",
       "    if (output.metadata[EXEC_MIME_TYPE][\"server_id\"] !== undefined) {\n",
       "      const bk_div = document.createElement(\"div\");\n",
       "      bk_div.innerHTML = output.data[HTML_MIME_TYPE];\n",
       "      const script_attrs = bk_div.children[0].attributes;\n",
       "      for (let i = 0; i < script_attrs.length; i++) {\n",
       "        toinsert[toinsert.length - 1].firstChild.setAttribute(script_attrs[i].name, script_attrs[i].value);\n",
       "        toinsert[toinsert.length - 1].firstChild.textContent = bk_div.children[0].textContent\n",
       "      }\n",
       "      // store reference to server id on output_area\n",
       "      output_area._bokeh_server_id = output.metadata[EXEC_MIME_TYPE][\"server_id\"];\n",
       "    }\n",
       "  }\n",
       "\n",
       "  function register_renderer(events, OutputArea) {\n",
       "\n",
       "    function append_mime(data, metadata, element) {\n",
       "      // create a DOM node to render to\n",
       "      const toinsert = this.create_output_subarea(\n",
       "        metadata,\n",
       "        CLASS_NAME,\n",
       "        EXEC_MIME_TYPE\n",
       "      );\n",
       "      this.keyboard_manager.register_events(toinsert);\n",
       "      // Render to node\n",
       "      const props = {data: data, metadata: metadata[EXEC_MIME_TYPE]};\n",
       "      render(props, toinsert[toinsert.length - 1]);\n",
       "      element.append(toinsert);\n",
       "      return toinsert\n",
       "    }\n",
       "\n",
       "    /* Handle when an output is cleared or removed */\n",
       "    events.on('clear_output.CodeCell', handleClearOutput);\n",
       "    events.on('delete.Cell', handleClearOutput);\n",
       "\n",
       "    /* Handle when a new output is added */\n",
       "    events.on('output_added.OutputArea', handleAddOutput);\n",
       "\n",
       "    /**\n",
       "     * Register the mime type and append_mime function with output_area\n",
       "     */\n",
       "    OutputArea.prototype.register_mime_type(EXEC_MIME_TYPE, append_mime, {\n",
       "      /* Is output safe? */\n",
       "      safe: true,\n",
       "      /* Index of renderer in `output_area.display_order` */\n",
       "      index: 0\n",
       "    });\n",
       "  }\n",
       "\n",
       "  // register the mime type if in Jupyter Notebook environment and previously unregistered\n",
       "  if (root.Jupyter !== undefined) {\n",
       "    const events = require('base/js/events');\n",
       "    const OutputArea = require('notebook/js/outputarea').OutputArea;\n",
       "\n",
       "    if (OutputArea.prototype.mime_types().indexOf(EXEC_MIME_TYPE) == -1) {\n",
       "      register_renderer(events, OutputArea);\n",
       "    }\n",
       "  }\n",
       "  if (typeof (root._bokeh_timeout) === \"undefined\" || force === true) {\n",
       "    root._bokeh_timeout = Date.now() + 5000;\n",
       "    root._bokeh_failed_load = false;\n",
       "  }\n",
       "\n",
       "  const NB_LOAD_WARNING = {'data': {'text/html':\n",
       "     \"<div style='background-color: #fdd'>\\n\"+\n",
       "     \"<p>\\n\"+\n",
       "     \"BokehJS does not appear to have successfully loaded. If loading BokehJS from CDN, this \\n\"+\n",
       "     \"may be due to a slow or bad network connection. Possible fixes:\\n\"+\n",
       "     \"</p>\\n\"+\n",
       "     \"<ul>\\n\"+\n",
       "     \"<li>re-rerun `output_notebook()` to attempt to load from CDN again, or</li>\\n\"+\n",
       "     \"<li>use INLINE resources instead, as so:</li>\\n\"+\n",
       "     \"</ul>\\n\"+\n",
       "     \"<code>\\n\"+\n",
       "     \"from bokeh.resources import INLINE\\n\"+\n",
       "     \"output_notebook(resources=INLINE)\\n\"+\n",
       "     \"</code>\\n\"+\n",
       "     \"</div>\"}};\n",
       "\n",
       "  function display_loaded() {\n",
       "    const el = document.getElementById(\"1224\");\n",
       "    if (el != null) {\n",
       "      el.textContent = \"BokehJS is loading...\";\n",
       "    }\n",
       "    if (root.Bokeh !== undefined) {\n",
       "      if (el != null) {\n",
       "        el.textContent = \"BokehJS \" + root.Bokeh.version + \" successfully loaded.\";\n",
       "      }\n",
       "    } else if (Date.now() < root._bokeh_timeout) {\n",
       "      setTimeout(display_loaded, 100)\n",
       "    }\n",
       "  }\n",
       "\n",
       "  function run_callbacks() {\n",
       "    try {\n",
       "      root._bokeh_onload_callbacks.forEach(function(callback) {\n",
       "        if (callback != null)\n",
       "          callback();\n",
       "      });\n",
       "    } finally {\n",
       "      delete root._bokeh_onload_callbacks\n",
       "    }\n",
       "    console.debug(\"Bokeh: all callbacks have finished\");\n",
       "  }\n",
       "\n",
       "  function load_libs(css_urls, js_urls, callback) {\n",
       "    if (css_urls == null) css_urls = [];\n",
       "    if (js_urls == null) js_urls = [];\n",
       "\n",
       "    root._bokeh_onload_callbacks.push(callback);\n",
       "    if (root._bokeh_is_loading > 0) {\n",
       "      console.debug(\"Bokeh: BokehJS is being loaded, scheduling callback at\", now());\n",
       "      return null;\n",
       "    }\n",
       "    if (js_urls == null || js_urls.length === 0) {\n",
       "      run_callbacks();\n",
       "      return null;\n",
       "    }\n",
       "    console.debug(\"Bokeh: BokehJS not loaded, scheduling load and callback at\", now());\n",
       "    root._bokeh_is_loading = css_urls.length + js_urls.length;\n",
       "\n",
       "    function on_load() {\n",
       "      root._bokeh_is_loading--;\n",
       "      if (root._bokeh_is_loading === 0) {\n",
       "        console.debug(\"Bokeh: all BokehJS libraries/stylesheets loaded\");\n",
       "        run_callbacks()\n",
       "      }\n",
       "    }\n",
       "\n",
       "    function on_error(url) {\n",
       "      console.error(\"failed to load \" + url);\n",
       "    }\n",
       "\n",
       "    for (let i = 0; i < css_urls.length; i++) {\n",
       "      const url = css_urls[i];\n",
       "      const element = document.createElement(\"link\");\n",
       "      element.onload = on_load;\n",
       "      element.onerror = on_error.bind(null, url);\n",
       "      element.rel = \"stylesheet\";\n",
       "      element.type = \"text/css\";\n",
       "      element.href = url;\n",
       "      console.debug(\"Bokeh: injecting link tag for BokehJS stylesheet: \", url);\n",
       "      document.body.appendChild(element);\n",
       "    }\n",
       "\n",
       "    for (let i = 0; i < js_urls.length; i++) {\n",
       "      const url = js_urls[i];\n",
       "      const element = document.createElement('script');\n",
       "      element.onload = on_load;\n",
       "      element.onerror = on_error.bind(null, url);\n",
       "      element.async = false;\n",
       "      element.src = url;\n",
       "      console.debug(\"Bokeh: injecting script tag for BokehJS library: \", url);\n",
       "      document.head.appendChild(element);\n",
       "    }\n",
       "  };\n",
       "\n",
       "  function inject_raw_css(css) {\n",
       "    const element = document.createElement(\"style\");\n",
       "    element.appendChild(document.createTextNode(css));\n",
       "    document.body.appendChild(element);\n",
       "  }\n",
       "\n",
       "  const js_urls = [\"https://cdn.bokeh.org/bokeh/release/bokeh-2.4.3.min.js\", \"https://cdn.bokeh.org/bokeh/release/bokeh-gl-2.4.3.min.js\", \"https://cdn.bokeh.org/bokeh/release/bokeh-widgets-2.4.3.min.js\", \"https://cdn.bokeh.org/bokeh/release/bokeh-tables-2.4.3.min.js\", \"https://cdn.bokeh.org/bokeh/release/bokeh-mathjax-2.4.3.min.js\"];\n",
       "  const css_urls = [];\n",
       "\n",
       "  const inline_js = [    function(Bokeh) {\n",
       "      Bokeh.set_log_level(\"info\");\n",
       "    },\n",
       "function(Bokeh) {\n",
       "    }\n",
       "  ];\n",
       "\n",
       "  function run_inline_js() {\n",
       "    if (root.Bokeh !== undefined || force === true) {\n",
       "          for (let i = 0; i < inline_js.length; i++) {\n",
       "      inline_js[i].call(root, root.Bokeh);\n",
       "    }\n",
       "if (force === true) {\n",
       "        display_loaded();\n",
       "      }} else if (Date.now() < root._bokeh_timeout) {\n",
       "      setTimeout(run_inline_js, 100);\n",
       "    } else if (!root._bokeh_failed_load) {\n",
       "      console.log(\"Bokeh: BokehJS failed to load within specified timeout.\");\n",
       "      root._bokeh_failed_load = true;\n",
       "    } else if (force !== true) {\n",
       "      const cell = $(document.getElementById(\"1224\")).parents('.cell').data().cell;\n",
       "      cell.output_area.append_execute_result(NB_LOAD_WARNING)\n",
       "    }\n",
       "  }\n",
       "\n",
       "  if (root._bokeh_is_loading === 0) {\n",
       "    console.debug(\"Bokeh: BokehJS loaded, going straight to plotting\");\n",
       "    run_inline_js();\n",
       "  } else {\n",
       "    load_libs(css_urls, js_urls, function() {\n",
       "      console.debug(\"Bokeh: BokehJS plotting callback run at\", now());\n",
       "      run_inline_js();\n",
       "    });\n",
       "  }\n",
       "}(window));"
      ],
      "application/vnd.bokehjs_load.v0+json": "(function(root) {\n  function now() {\n    return new Date();\n  }\n\n  const force = true;\n\n  if (typeof root._bokeh_onload_callbacks === \"undefined\" || force === true) {\n    root._bokeh_onload_callbacks = [];\n    root._bokeh_is_loading = undefined;\n  }\n\n\n  if (typeof (root._bokeh_timeout) === \"undefined\" || force === true) {\n    root._bokeh_timeout = Date.now() + 5000;\n    root._bokeh_failed_load = false;\n  }\n\n  const NB_LOAD_WARNING = {'data': {'text/html':\n     \"<div style='background-color: #fdd'>\\n\"+\n     \"<p>\\n\"+\n     \"BokehJS does not appear to have successfully loaded. If loading BokehJS from CDN, this \\n\"+\n     \"may be due to a slow or bad network connection. Possible fixes:\\n\"+\n     \"</p>\\n\"+\n     \"<ul>\\n\"+\n     \"<li>re-rerun `output_notebook()` to attempt to load from CDN again, or</li>\\n\"+\n     \"<li>use INLINE resources instead, as so:</li>\\n\"+\n     \"</ul>\\n\"+\n     \"<code>\\n\"+\n     \"from bokeh.resources import INLINE\\n\"+\n     \"output_notebook(resources=INLINE)\\n\"+\n     \"</code>\\n\"+\n     \"</div>\"}};\n\n  function display_loaded() {\n    const el = document.getElementById(\"1224\");\n    if (el != null) {\n      el.textContent = \"BokehJS is loading...\";\n    }\n    if (root.Bokeh !== undefined) {\n      if (el != null) {\n        el.textContent = \"BokehJS \" + root.Bokeh.version + \" successfully loaded.\";\n      }\n    } else if (Date.now() < root._bokeh_timeout) {\n      setTimeout(display_loaded, 100)\n    }\n  }\n\n  function run_callbacks() {\n    try {\n      root._bokeh_onload_callbacks.forEach(function(callback) {\n        if (callback != null)\n          callback();\n      });\n    } finally {\n      delete root._bokeh_onload_callbacks\n    }\n    console.debug(\"Bokeh: all callbacks have finished\");\n  }\n\n  function load_libs(css_urls, js_urls, callback) {\n    if (css_urls == null) css_urls = [];\n    if (js_urls == null) js_urls = [];\n\n    root._bokeh_onload_callbacks.push(callback);\n    if (root._bokeh_is_loading > 0) {\n      console.debug(\"Bokeh: BokehJS is being loaded, scheduling callback at\", now());\n      return null;\n    }\n    if (js_urls == null || js_urls.length === 0) {\n      run_callbacks();\n      return null;\n    }\n    console.debug(\"Bokeh: BokehJS not loaded, scheduling load and callback at\", now());\n    root._bokeh_is_loading = css_urls.length + js_urls.length;\n\n    function on_load() {\n      root._bokeh_is_loading--;\n      if (root._bokeh_is_loading === 0) {\n        console.debug(\"Bokeh: all BokehJS libraries/stylesheets loaded\");\n        run_callbacks()\n      }\n    }\n\n    function on_error(url) {\n      console.error(\"failed to load \" + url);\n    }\n\n    for (let i = 0; i < css_urls.length; i++) {\n      const url = css_urls[i];\n      const element = document.createElement(\"link\");\n      element.onload = on_load;\n      element.onerror = on_error.bind(null, url);\n      element.rel = \"stylesheet\";\n      element.type = \"text/css\";\n      element.href = url;\n      console.debug(\"Bokeh: injecting link tag for BokehJS stylesheet: \", url);\n      document.body.appendChild(element);\n    }\n\n    for (let i = 0; i < js_urls.length; i++) {\n      const url = js_urls[i];\n      const element = document.createElement('script');\n      element.onload = on_load;\n      element.onerror = on_error.bind(null, url);\n      element.async = false;\n      element.src = url;\n      console.debug(\"Bokeh: injecting script tag for BokehJS library: \", url);\n      document.head.appendChild(element);\n    }\n  };\n\n  function inject_raw_css(css) {\n    const element = document.createElement(\"style\");\n    element.appendChild(document.createTextNode(css));\n    document.body.appendChild(element);\n  }\n\n  const js_urls = [\"https://cdn.bokeh.org/bokeh/release/bokeh-2.4.3.min.js\", \"https://cdn.bokeh.org/bokeh/release/bokeh-gl-2.4.3.min.js\", \"https://cdn.bokeh.org/bokeh/release/bokeh-widgets-2.4.3.min.js\", \"https://cdn.bokeh.org/bokeh/release/bokeh-tables-2.4.3.min.js\", \"https://cdn.bokeh.org/bokeh/release/bokeh-mathjax-2.4.3.min.js\"];\n  const css_urls = [];\n\n  const inline_js = [    function(Bokeh) {\n      Bokeh.set_log_level(\"info\");\n    },\nfunction(Bokeh) {\n    }\n  ];\n\n  function run_inline_js() {\n    if (root.Bokeh !== undefined || force === true) {\n          for (let i = 0; i < inline_js.length; i++) {\n      inline_js[i].call(root, root.Bokeh);\n    }\nif (force === true) {\n        display_loaded();\n      }} else if (Date.now() < root._bokeh_timeout) {\n      setTimeout(run_inline_js, 100);\n    } else if (!root._bokeh_failed_load) {\n      console.log(\"Bokeh: BokehJS failed to load within specified timeout.\");\n      root._bokeh_failed_load = true;\n    } else if (force !== true) {\n      const cell = $(document.getElementById(\"1224\")).parents('.cell').data().cell;\n      cell.output_area.append_execute_result(NB_LOAD_WARNING)\n    }\n  }\n\n  if (root._bokeh_is_loading === 0) {\n    console.debug(\"Bokeh: BokehJS loaded, going straight to plotting\");\n    run_inline_js();\n  } else {\n    load_libs(css_urls, js_urls, function() {\n      console.debug(\"Bokeh: BokehJS plotting callback run at\", now());\n      run_inline_js();\n    });\n  }\n}(window));"
     },
     "metadata": {},
     "output_type": "display_data"
    },
    {
     "data": {
      "text/html": [
       "\n",
       "  <div class=\"bk-root\" id=\"01669660-b3b9-4c46-8c65-62c85a54170b\" data-root-id=\"1225\"></div>\n"
      ]
     },
     "metadata": {},
     "output_type": "display_data"
    },
    {
     "data": {
      "application/javascript": [
       "(function(root) {\n",
       "  function embed_document(root) {\n",
       "  const docs_json = {\"4a9ec974-0c5e-4984-bf75-dcf4e573eb2a\":{\"defs\":[],\"roots\":{\"references\":[{\"attributes\":{\"below\":[{\"id\":\"1234\"}],\"center\":[{\"id\":\"1237\"},{\"id\":\"1241\"},{\"id\":\"1270\"},{\"id\":\"1272\"}],\"left\":[{\"id\":\"1238\"}],\"renderers\":[{\"id\":\"1262\"},{\"id\":\"1268\"}],\"title\":{\"id\":\"1294\"},\"toolbar\":{\"id\":\"1249\"},\"x_range\":{\"id\":\"1226\"},\"x_scale\":{\"id\":\"1230\"},\"y_range\":{\"id\":\"1228\"},\"y_scale\":{\"id\":\"1232\"}},\"id\":\"1225\",\"subtype\":\"Figure\",\"type\":\"Plot\"},{\"attributes\":{\"overlay\":{\"id\":\"1248\"}},\"id\":\"1244\",\"type\":\"BoxZoomTool\"},{\"attributes\":{},\"id\":\"1245\",\"type\":\"SaveTool\"},{\"attributes\":{},\"id\":\"1305\",\"type\":\"Selection\"},{\"attributes\":{},\"id\":\"1246\",\"type\":\"ResetTool\"},{\"attributes\":{},\"id\":\"1302\",\"type\":\"UnionRenderers\"},{\"attributes\":{\"bottom_units\":\"screen\",\"coordinates\":null,\"fill_alpha\":0.5,\"fill_color\":\"lightgrey\",\"group\":null,\"left_units\":\"screen\",\"level\":\"overlay\",\"line_alpha\":1.0,\"line_color\":\"black\",\"line_dash\":[4,4],\"line_width\":2,\"right_units\":\"screen\",\"syncable\":false,\"top_units\":\"screen\"},\"id\":\"1248\",\"type\":\"BoxAnnotation\"},{\"attributes\":{},\"id\":\"1303\",\"type\":\"Selection\"},{\"attributes\":{\"fill_alpha\":{\"value\":0.1},\"fill_color\":{\"value\":\"red\"},\"hatch_alpha\":{\"value\":0.1},\"hatch_color\":{\"value\":\"red\"},\"line_alpha\":{\"value\":0.1},\"line_color\":{\"value\":\"red\"},\"size\":{\"value\":8},\"x\":{\"field\":\"x\"},\"y\":{\"field\":\"y\"}},\"id\":\"1266\",\"type\":\"Scatter\"},{\"attributes\":{},\"id\":\"1300\",\"type\":\"BasicTickFormatter\"},{\"attributes\":{},\"id\":\"1301\",\"type\":\"AllLabels\"},{\"attributes\":{\"coordinates\":null,\"group\":null,\"source\":{\"id\":\"1257\"},\"text\":{\"field\":\"label\"},\"x\":{\"field\":\"x\"},\"x_offset\":{\"value\":6},\"y\":{\"field\":\"y\"},\"y_offset\":{\"value\":3}},\"id\":\"1272\",\"type\":\"LabelSet\"},{\"attributes\":{\"fill_alpha\":{\"value\":0.1},\"fill_color\":{\"value\":\"blue\"},\"hatch_alpha\":{\"value\":0.1},\"hatch_color\":{\"value\":\"blue\"},\"line_alpha\":{\"value\":0.1},\"line_color\":{\"value\":\"blue\"},\"size\":{\"value\":8},\"x\":{\"field\":\"x\"},\"y\":{\"field\":\"y\"}},\"id\":\"1260\",\"type\":\"Scatter\"},{\"attributes\":{},\"id\":\"1298\",\"type\":\"AllLabels\"},{\"attributes\":{},\"id\":\"1297\",\"type\":\"BasicTickFormatter\"},{\"attributes\":{\"data\":{\"label\":[\"leave\",\"deal\",\"spend\",\"responsibility\",\"pass\",\"god\",\"argue\",\"plenty\",\"split\",\"separate\",\"understandable\",\"contribute\",\"earn\",\"punishment\",\"bro\",\"vote\",\"buddy\",\"btw\",\"mate\",\"duty\",\"vs\",\"got\",\"pride\",\"grandfather\",\"daddy\",\"\\ud83d\\ude02\",\"lord\",\"grandpa\",\"tonight\",\"dear\",\"sin\",\"golden\",\"lame\",\"halloween\",\"heaven\"],\"x\":{\"__ndarray__\":\"JCj9wLhuosEWVw9B+ezRwcLbQMFF7ilBBluXQHlzW8C3kai7Y0RpwW2+BMLo7pHBsAcfP6IWUcLM0B5Be3XjQOW8i0D0XuxA/vdeQL6OocGlAOVAG2u1QTA6zEBxQg7C35T7wdA3C0LQ06tBzYoDwtwB40GutY5BwqsVQksnJEJ3w4bBbC77QQ7EFkI=\",\"dtype\":\"float32\",\"order\":\"little\",\"shape\":[35]},\"y\":{\"__ndarray__\":\"tCSYv8gEAMG4IiNClmNdQao6NEEOHorB8koowj8fs0D7a0JCvLtTQRpoucFkNaRBwvgrQhPybMB9rHTB0Jg5wrT0G75i7IzBQVGYwZDkrEHKNMPBhWcdwSruYcIlLB5BB899QQplPMJE1xvBedqGQUnbFEIwqybCq0cGwi/KAEKHK6XBDpoMQT2X78E=\",\"dtype\":\"float32\",\"order\":\"little\",\"shape\":[35]}},\"selected\":{\"id\":\"1305\"},\"selection_policy\":{\"id\":\"1304\"}},\"id\":\"1257\",\"type\":\"ColumnDataSource\"},{\"attributes\":{\"fill_color\":{\"value\":\"blue\"},\"hatch_color\":{\"value\":\"blue\"},\"line_color\":{\"value\":\"blue\"},\"size\":{\"value\":8},\"x\":{\"field\":\"x\"},\"y\":{\"field\":\"y\"}},\"id\":\"1259\",\"type\":\"Scatter\"},{\"attributes\":{\"fill_color\":{\"value\":\"red\"},\"hatch_color\":{\"value\":\"red\"},\"line_color\":{\"value\":\"red\"},\"size\":{\"value\":8},\"x\":{\"field\":\"x\"},\"y\":{\"field\":\"y\"}},\"id\":\"1265\",\"type\":\"Scatter\"},{\"attributes\":{},\"id\":\"1235\",\"type\":\"BasicTicker\"},{\"attributes\":{},\"id\":\"1226\",\"type\":\"DataRange1d\"},{\"attributes\":{\"data\":{\"label\":[\"people\",\"body\",\"personal\",\"involve\",\"concern\",\"shame\",\"creepy\",\"valid\",\"form\",\"detail\",\"threaten\",\"coworker\",\"zero\",\"begin\",\"birth_control\",\"privacy\",\"trauma\",\"gain\",\"painful\",\"hurtful\",\"social_medium\",\"patient\",\"intimate\",\"intent\",\"vulnerable\",\"skinny\",\"ntayou\",\"controlling\",\"self_esteem\",\"useful\",\"cross_line\",\"dodge_bullet\",\"unsafe\",\"wig\",\"self_conscious\",\"unattractive\",\"damaging\",\"pushy\",\"iud\",\"risky\",\"downright\",\"workout\",\"shaming\",\"straighten\"],\"x\":{\"__ndarray__\":\"0XWpQJuz/cEFwa/B8RaywYsywsGwSuvAfX02wSLPmr+WOv7BpsrswAxArsF0imFBmJG4wOWxhcEWGSzClIamQSoWHcINoypBtKUSwuhQyMFSzcJBtNTYwXr9VcLGbPfAYjwXwnAgVELGWdXArNQOwm44I8J6YBVC76pGwdOXisH+uBbCquU7QvHwH8LNPYHA6joOwqhWnsGMyynCw4gPwt96usEXWp9BBIpuQXrEN0I=\",\"dtype\":\"float32\",\"order\":\"little\",\"shape\":[44]},\"y\":{\"__ndarray__\":\"RTC8wV8RTkL5fRXBXKzDwF/CP8GEf+XBCwEkwhx2GMJtTzbA1bgNwToXusHT/4nB9T/9wdG1I8Cw1ClCrGbFwbaG9UFheOJBwocsQr/iKsKqAjDCIuAJQgy1jcFqMRrCoka7wWcPhEGfeWRBYqIHwtaLasEU3pvBjdsewrlHD8KvYLPBXo8iQau6scEsUGHCHq/vwcmnNMJXEypC0j3xQWbxKsKmGA5C8r4BwvcmK0E=\",\"dtype\":\"float32\",\"order\":\"little\",\"shape\":[44]}},\"selected\":{\"id\":\"1303\"},\"selection_policy\":{\"id\":\"1302\"}},\"id\":\"1256\",\"type\":\"ColumnDataSource\"},{\"attributes\":{},\"id\":\"1232\",\"type\":\"LinearScale\"},{\"attributes\":{},\"id\":\"1239\",\"type\":\"BasicTicker\"},{\"attributes\":{\"coordinates\":null,\"group\":null},\"id\":\"1294\",\"type\":\"Title\"},{\"attributes\":{},\"id\":\"1247\",\"type\":\"HelpTool\"},{\"attributes\":{\"coordinates\":null,\"formatter\":{\"id\":\"1297\"},\"group\":null,\"major_label_policy\":{\"id\":\"1298\"},\"ticker\":{\"id\":\"1239\"}},\"id\":\"1238\",\"type\":\"LinearAxis\"},{\"attributes\":{\"axis\":{\"id\":\"1234\"},\"coordinates\":null,\"group\":null,\"ticker\":null},\"id\":\"1237\",\"type\":\"Grid\"},{\"attributes\":{},\"id\":\"1243\",\"type\":\"WheelZoomTool\"},{\"attributes\":{},\"id\":\"1228\",\"type\":\"DataRange1d\"},{\"attributes\":{\"tools\":[{\"id\":\"1242\"},{\"id\":\"1243\"},{\"id\":\"1244\"},{\"id\":\"1245\"},{\"id\":\"1246\"},{\"id\":\"1247\"}]},\"id\":\"1249\",\"type\":\"Toolbar\"},{\"attributes\":{\"source\":{\"id\":\"1257\"}},\"id\":\"1269\",\"type\":\"CDSView\"},{\"attributes\":{\"fill_alpha\":{\"value\":0.2},\"fill_color\":{\"value\":\"red\"},\"hatch_alpha\":{\"value\":0.2},\"hatch_color\":{\"value\":\"red\"},\"line_alpha\":{\"value\":0.2},\"line_color\":{\"value\":\"red\"},\"size\":{\"value\":8},\"x\":{\"field\":\"x\"},\"y\":{\"field\":\"y\"}},\"id\":\"1267\",\"type\":\"Scatter\"},{\"attributes\":{\"coordinates\":null,\"data_source\":{\"id\":\"1257\"},\"glyph\":{\"id\":\"1265\"},\"group\":null,\"hover_glyph\":null,\"muted_glyph\":{\"id\":\"1267\"},\"nonselection_glyph\":{\"id\":\"1266\"},\"view\":{\"id\":\"1269\"}},\"id\":\"1268\",\"type\":\"GlyphRenderer\"},{\"attributes\":{\"coordinates\":null,\"formatter\":{\"id\":\"1300\"},\"group\":null,\"major_label_policy\":{\"id\":\"1301\"},\"ticker\":{\"id\":\"1235\"}},\"id\":\"1234\",\"type\":\"LinearAxis\"},{\"attributes\":{\"coordinates\":null,\"data_source\":{\"id\":\"1256\"},\"glyph\":{\"id\":\"1259\"},\"group\":null,\"hover_glyph\":null,\"muted_glyph\":{\"id\":\"1261\"},\"nonselection_glyph\":{\"id\":\"1260\"},\"view\":{\"id\":\"1263\"}},\"id\":\"1262\",\"type\":\"GlyphRenderer\"},{\"attributes\":{},\"id\":\"1242\",\"type\":\"PanTool\"},{\"attributes\":{\"coordinates\":null,\"group\":null,\"source\":{\"id\":\"1256\"},\"text\":{\"field\":\"label\"},\"x\":{\"field\":\"x\"},\"x_offset\":{\"value\":6},\"y\":{\"field\":\"y\"},\"y_offset\":{\"value\":3}},\"id\":\"1270\",\"type\":\"LabelSet\"},{\"attributes\":{},\"id\":\"1230\",\"type\":\"LinearScale\"},{\"attributes\":{},\"id\":\"1304\",\"type\":\"UnionRenderers\"},{\"attributes\":{\"axis\":{\"id\":\"1238\"},\"coordinates\":null,\"dimension\":1,\"group\":null,\"ticker\":null},\"id\":\"1241\",\"type\":\"Grid\"},{\"attributes\":{\"fill_alpha\":{\"value\":0.2},\"fill_color\":{\"value\":\"blue\"},\"hatch_alpha\":{\"value\":0.2},\"hatch_color\":{\"value\":\"blue\"},\"line_alpha\":{\"value\":0.2},\"line_color\":{\"value\":\"blue\"},\"size\":{\"value\":8},\"x\":{\"field\":\"x\"},\"y\":{\"field\":\"y\"}},\"id\":\"1261\",\"type\":\"Scatter\"},{\"attributes\":{\"source\":{\"id\":\"1256\"}},\"id\":\"1263\",\"type\":\"CDSView\"}],\"root_ids\":[\"1225\"]},\"title\":\"Bokeh Application\",\"version\":\"2.4.3\"}};\n",
       "  const render_items = [{\"docid\":\"4a9ec974-0c5e-4984-bf75-dcf4e573eb2a\",\"root_ids\":[\"1225\"],\"roots\":{\"1225\":\"01669660-b3b9-4c46-8c65-62c85a54170b\"}}];\n",
       "  root.Bokeh.embed.embed_items_notebook(docs_json, render_items);\n",
       "  }\n",
       "  if (root.Bokeh !== undefined) {\n",
       "    embed_document(root);\n",
       "  } else {\n",
       "    let attempts = 0;\n",
       "    const timer = setInterval(function(root) {\n",
       "      if (root.Bokeh !== undefined) {\n",
       "        clearInterval(timer);\n",
       "        embed_document(root);\n",
       "      } else {\n",
       "        attempts++;\n",
       "        if (attempts > 100) {\n",
       "          clearInterval(timer);\n",
       "          console.log(\"Bokeh: ERROR: Unable to run BokehJS code because BokehJS library is missing\");\n",
       "        }\n",
       "      }\n",
       "    }, 10, root)\n",
       "  }\n",
       "})(window);"
      ],
      "application/vnd.bokehjs_exec.v0+json": ""
     },
     "metadata": {
      "application/vnd.bokehjs_exec.v0+json": {
       "id": "1225"
      }
     },
     "output_type": "display_data"
    }
   ],
   "source": [
    "from bokeh.io import show, output_notebook, output_file\n",
    "from bokeh.plotting import figure\n",
    "from bokeh.models import ColumnDataSource, LabelSet\n",
    "\n",
    "# Set up the Bokeh plot\n",
    "output_notebook()\n",
    "\n",
    "p = figure()\n",
    "\n",
    "# Create ColumnDataSource for X_target1 (blue)\n",
    "source1 = ColumnDataSource(data=dict(x=X_target1[:, 0], y=X_target1[:, 1], label=[model.wv.index_to_key[idx] for idx in target1_idx]))\n",
    "\n",
    "# Create ColumnDataSource for X_target2 (red)\n",
    "source2 = ColumnDataSource(data=dict(x=X_target2[:, 0], y=X_target2[:, 1], label=[model.wv.index_to_key[idx] for idx in target2_idx]))\n",
    "\n",
    "# Add scatter plot for X_target1 (blue)\n",
    "p.scatter(x='x', y='y', color='blue', size=8, source=source1)\n",
    "\n",
    "# Add scatter plot for X_target2 (red)\n",
    "p.scatter(x='x', y='y', color='red', size=8, source=source2)\n",
    "\n",
    "# Add labels for X_target1\n",
    "labels1 = LabelSet(x='x', y='y', text='label', x_offset=6, y_offset=3, source=source1, render_mode='canvas')\n",
    "p.add_layout(labels1)\n",
    "\n",
    "# Add labels for X_target2\n",
    "labels2 = LabelSet(x='x', y='y', text='label', x_offset=6, y_offset=3, source=source2, render_mode='canvas')\n",
    "p.add_layout(labels2)\n",
    "\n",
    "# Show the plot\n",
    "show(p)"
   ]
  },
  {
   "cell_type": "markdown",
   "metadata": {},
   "source": [
    "## 💭 Reflection\n",
    "\n",
    "Note that these binary target concepts are often a product of ideology and normativity in society: the gender binary is a good example. When checking for biases towards certain concepts, make sure you consider the fact that you are the one creating / reproducing these concepts, and that you may be reinforcing a constructed binary!\n",
    "\n",
    "Also note that determining your own target concepts and biases is a **iterative** process. Try changing some of the words in the target concepts to see how the biased words and plot change, and discuss with your classmates what you think makes for a coherent and robust target set."
   ]
  },
  {
   "cell_type": "markdown",
   "metadata": {
    "id": "riINX9wVyFRJ",
    "tags": []
   },
   "source": [
    "<a id='target'></a>\n",
    "# Existing Target Sets\n",
    "\n",
    "Here are some other target sets that have been previously used in the literature:\n",
    "\n",
    "* *Gender target sets taken from Nosek, Banaji, and Greenwald 2002.*\n",
    "    - Female: `sister, female, woman, girl, daughter, she, hers, her`.\n",
    "    - Male: `brother, male, man, boy, son, he, his, him`.\n",
    "* *Religion target sets taken from Garg et al. 2018.*\n",
    "    - Islam: `allah, ramadan, turban, emir, salaam, sunni, koran, imam, sultan, prophet, veil, ayatollah, shiite, mosque, islam, sheik, muslim, muhammad`.\n",
    "    - Christianity: `baptism, messiah, catholicism, resurrection, christianity, salva-tion, protestant, gospel, trinity, jesus, christ, christian, cross,catholic, church`.\n",
    "* *Racial target sets taken from Garg et al. 2017*\n",
    "    - White last names: `harris, nelson, robinson, thompson, moore, wright, anderson, clark, jackson, taylor, scott, davis, allen, adams, lewis, williams, jones, wilson, martin, johnson`.\n",
    "    - Hispanic last names: `ruiz, alvarez, vargas, castillo, gomez, soto,gonzalez, sanchez, rivera, mendoza, martinez, torres, ro-driguez, perez, lopez, medina, diaz, garcia, castro, cruz`.\n",
    "    - Asian last names: `cho, wong, tang, huang, chu, chung, ng,wu, liu, chen, lin, yang, kim, chang, shah, wang, li, khan,singh, hong`.\n",
    "    - Russian last names: `gurin, minsky, sokolov, markov, maslow, novikoff, mishkin, smirnov, orloff, ivanov, sokoloff, davidoff, savin, romanoff, babinski, sorokin, levin, pavlov, rodin, agin`.\n",
    "* *Career/family target sets taken from Garg et al. 2018.*\n",
    "    - Career: `executive, management, professional, corporation, salary, office, business, career`.\n",
    "    - Family: `home, parents, children, family, cousins, marriage, wedding, relatives.Math: math, algebra, geometry, calculus, equations, computation, numbers, addition`.\n",
    "* *Arts/Science target sets taken from Garg et al. 2018.*\n",
    "    - Arts: `poetry, art, sculpture, dance, literature, novel, symphony, drama`.\n",
    "    - Science: `science, technology, physics, chemistry, Einstein, NASA, experiment, astronomy`."
   ]
  },
  {
   "cell_type": "markdown",
   "metadata": {
    "id": "aHCHMAPYTCVX"
   },
   "source": [
    "### Sources\n",
    "\n",
    "Nosek, B. A., Banaji, M. R., & Greenwald, A. G. (2002). Harvesting implicit group attitudes and beliefs from a demonstration web site. Group Dynamics, 6(1), 101–115. https://doi.org/10.1037/1089-2699.6.1.101\n",
    "\n",
    "Garg, N., Schiebinger, L., Jurafsky, D., & Zou, J. (2017). Word Embeddings Quantify 100 Years of Gender and Ethnic Stereotypes, 1–33."
   ]
  }
 ],
 "metadata": {
  "colab": {
   "collapsed_sections": [],
   "name": "Week 4-1 Word Embeddings.ipynb",
   "provenance": []
  },
  "kernelspec": {
   "display_name": "dlab",
   "language": "python",
   "name": "dlab"
  },
  "language_info": {
   "codemirror_mode": {
    "name": "ipython",
    "version": 3
   },
   "file_extension": ".py",
   "mimetype": "text/x-python",
   "name": "python",
   "nbconvert_exporter": "python",
   "pygments_lexer": "ipython3",
   "version": "3.10.12"
  }
 },
 "nbformat": 4,
 "nbformat_minor": 4
}
