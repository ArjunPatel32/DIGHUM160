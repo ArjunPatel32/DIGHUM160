{
 "cells": [
  {
   "cell_type": "markdown",
   "metadata": {},
   "source": [
    "<img src=\"../../Img/backdrop-wh.png\" alt=\"Drawing\" style=\"width: 300px;\"/>\n",
    "\n",
    "<div style=\"display: block; width: 100%; height: 100px;\">\n",
    "\n",
    "<p style=\"float: left;\">\n",
    "    <span style=\"font-weight: bold; font-size: 20px;\">\n",
    "        DIGHUM160 - Critical Digital Humanities \n",
    "        <br />\n",
    "        Instructor: Tom van Nuenen<br />\n",
    "        Final Project\n",
    "    </span>\n",
    "</p>"
   ]
  },
  {
   "cell_type": "markdown",
   "metadata": {},
   "source": [
    "**Project title:** ```<enter your title here>```\n",
    "\n",
    "**Student name:** ```<enter your name here>```\n",
    "\n",
    "Word limit: Between 2500 and 3000 words (excluding code cells, outputs, and references)."
   ]
  },
  {
   "cell_type": "code",
   "execution_count": null,
   "metadata": {},
   "outputs": [],
   "source": [
    "# set up your environment\n",
    "\n",
    "import pandas as pd\n",
    "import json\n",
    "\n",
    "# < import other packages here >"
   ]
  },
  {
   "cell_type": "markdown",
   "metadata": {},
   "source": [
    "## Introduction\n",
    "\n",
    "[Discuss why you are doing this research, what dataset you are analysing, and why this dataset matters. Introduce research questions / thesis statment. Discuss your own relation to the data, your prejudgements and expectations. Refer to background literature and/or embed video material about the data, referencing to the bibliography]\n",
    "\n"
   ]
  },
  {
   "cell_type": "markdown",
   "metadata": {},
   "source": [
    "## Analysis\n",
    "\n",
    "[Reflect on the meaning or impact of your findings, and on the research design. In your findings, focus on the process of interpretation in the community. Include both close and distant reading methods, and produce a compelling argument.]\n",
    "\n",
    "[Alternate between code and text.]"
   ]
  },
  {
   "cell_type": "markdown",
   "metadata": {},
   "source": [
    "### This is a subsection\n",
    "\n",
    "\\< load the data \\>"
   ]
  },
  {
   "cell_type": "code",
   "execution_count": 2,
   "metadata": {},
   "outputs": [],
   "source": [
    "# Add as many code cells as you need\n",
    "# use plenty of comments to explain what you do. Comments do not count towards the word limit.\n",
    "# In the narrative parts, you may refer to code cells to illustrate your points"
   ]
  },
  {
   "cell_type": "code",
   "execution_count": 3,
   "metadata": {},
   "outputs": [
    {
     "data": {
      "text/html": [
       "<div>\n",
       "<style scoped>\n",
       "    .dataframe tbody tr th:only-of-type {\n",
       "        vertical-align: middle;\n",
       "    }\n",
       "\n",
       "    .dataframe tbody tr th {\n",
       "        vertical-align: top;\n",
       "    }\n",
       "\n",
       "    .dataframe thead th {\n",
       "        text-align: right;\n",
       "    }\n",
       "</style>\n",
       "<table border=\"1\" class=\"dataframe\">\n",
       "  <thead>\n",
       "    <tr style=\"text-align: right;\">\n",
       "      <th></th>\n",
       "      <th>iso_a2</th>\n",
       "      <th>iso_a3</th>\n",
       "      <th>name</th>\n",
       "      <th>name_long</th>\n",
       "      <th>abbrev</th>\n",
       "      <th>type</th>\n",
       "      <th>continent</th>\n",
       "      <th>region_un</th>\n",
       "      <th>subregion</th>\n",
       "      <th>region_wb</th>\n",
       "      <th>...</th>\n",
       "      <th>ny.gdp.mktp.cd</th>\n",
       "      <th>ny.gdp.mktp.pp.cd</th>\n",
       "      <th>sl.isv.ifrm.zs</th>\n",
       "      <th>sp.pop.grow</th>\n",
       "      <th>sp.pop.totl</th>\n",
       "      <th>sp.rur.totl.zs</th>\n",
       "      <th>sp.urb.totl.in.zs</th>\n",
       "      <th>region</th>\n",
       "      <th>income_group</th>\n",
       "      <th>eu</th>\n",
       "    </tr>\n",
       "  </thead>\n",
       "  <tbody>\n",
       "    <tr>\n",
       "      <th>176</th>\n",
       "      <td>PM</td>\n",
       "      <td>SPM</td>\n",
       "      <td>St. Pierre and Miquelon</td>\n",
       "      <td>Saint Pierre and Miquelon</td>\n",
       "      <td>St. P.M.</td>\n",
       "      <td>Dependency</td>\n",
       "      <td>North America</td>\n",
       "      <td>Americas</td>\n",
       "      <td>Northern America</td>\n",
       "      <td>North America</td>\n",
       "      <td>...</td>\n",
       "      <td>NaN</td>\n",
       "      <td>NaN</td>\n",
       "      <td>NaN</td>\n",
       "      <td>NaN</td>\n",
       "      <td>NaN</td>\n",
       "      <td>NaN</td>\n",
       "      <td>NaN</td>\n",
       "      <td>NaN</td>\n",
       "      <td>NaN</td>\n",
       "      <td>NaN</td>\n",
       "    </tr>\n",
       "    <tr>\n",
       "      <th>207</th>\n",
       "      <td>SZ</td>\n",
       "      <td>SWZ</td>\n",
       "      <td>eSwatini</td>\n",
       "      <td>eSwatini</td>\n",
       "      <td>eSw.</td>\n",
       "      <td>Sovereign country</td>\n",
       "      <td>Africa</td>\n",
       "      <td>Africa</td>\n",
       "      <td>Southern Africa</td>\n",
       "      <td>Sub-Saharan Africa</td>\n",
       "      <td>...</td>\n",
       "      <td>4.471599e+09</td>\n",
       "      <td>1.033703e+10</td>\n",
       "      <td>NaN</td>\n",
       "      <td>1.045309</td>\n",
       "      <td>1148130.0</td>\n",
       "      <td>76.019</td>\n",
       "      <td>23.981</td>\n",
       "      <td>Sub-Saharan Africa</td>\n",
       "      <td>Lower middle income</td>\n",
       "      <td>NaN</td>\n",
       "    </tr>\n",
       "    <tr>\n",
       "      <th>203</th>\n",
       "      <td>ST</td>\n",
       "      <td>STP</td>\n",
       "      <td>São Tomé and Principe</td>\n",
       "      <td>São Tomé and Principe</td>\n",
       "      <td>S.T.P.</td>\n",
       "      <td>Sovereign country</td>\n",
       "      <td>Africa</td>\n",
       "      <td>Africa</td>\n",
       "      <td>Middle Africa</td>\n",
       "      <td>Sub-Saharan Africa</td>\n",
       "      <td>...</td>\n",
       "      <td>4.186374e+08</td>\n",
       "      <td>8.914559e+08</td>\n",
       "      <td>NaN</td>\n",
       "      <td>1.890763</td>\n",
       "      <td>215056.0</td>\n",
       "      <td>26.402</td>\n",
       "      <td>73.598</td>\n",
       "      <td>Sub-Saharan Africa</td>\n",
       "      <td>Lower middle income</td>\n",
       "      <td>NaN</td>\n",
       "    </tr>\n",
       "    <tr>\n",
       "      <th>174</th>\n",
       "      <td>PK</td>\n",
       "      <td>PAK</td>\n",
       "      <td>Pakistan</td>\n",
       "      <td>Pakistan</td>\n",
       "      <td>Pak.</td>\n",
       "      <td>Sovereign country</td>\n",
       "      <td>Asia</td>\n",
       "      <td>Asia</td>\n",
       "      <td>Southern Asia</td>\n",
       "      <td>South Asia</td>\n",
       "      <td>...</td>\n",
       "      <td>2.782219e+11</td>\n",
       "      <td>1.060748e+12</td>\n",
       "      <td>NaN</td>\n",
       "      <td>2.029215</td>\n",
       "      <td>216565318.0</td>\n",
       "      <td>63.093</td>\n",
       "      <td>36.907</td>\n",
       "      <td>South Asia</td>\n",
       "      <td>Lower middle income</td>\n",
       "      <td>NaN</td>\n",
       "    </tr>\n",
       "    <tr>\n",
       "      <th>202</th>\n",
       "      <td>SS</td>\n",
       "      <td>SSD</td>\n",
       "      <td>S. Sudan</td>\n",
       "      <td>South Sudan</td>\n",
       "      <td>S. Sud.</td>\n",
       "      <td>Sovereign country</td>\n",
       "      <td>Africa</td>\n",
       "      <td>Africa</td>\n",
       "      <td>Eastern Africa</td>\n",
       "      <td>Sub-Saharan Africa</td>\n",
       "      <td>...</td>\n",
       "      <td>NaN</td>\n",
       "      <td>NaN</td>\n",
       "      <td>NaN</td>\n",
       "      <td>0.782224</td>\n",
       "      <td>11062113.0</td>\n",
       "      <td>80.101</td>\n",
       "      <td>19.899</td>\n",
       "      <td>Sub-Saharan Africa</td>\n",
       "      <td>Low income</td>\n",
       "      <td>NaN</td>\n",
       "    </tr>\n",
       "  </tbody>\n",
       "</table>\n",
       "<p>5 rows × 29 columns</p>\n",
       "</div>"
      ],
      "text/plain": [
       "    iso_a2 iso_a3                     name                  name_long  \\\n",
       "176     PM    SPM  St. Pierre and Miquelon  Saint Pierre and Miquelon   \n",
       "207     SZ    SWZ                 eSwatini                   eSwatini   \n",
       "203     ST    STP    São Tomé and Principe      São Tomé and Principe   \n",
       "174     PK    PAK                 Pakistan                   Pakistan   \n",
       "202     SS    SSD                 S. Sudan                South Sudan   \n",
       "\n",
       "       abbrev               type      continent region_un         subregion  \\\n",
       "176  St. P.M.         Dependency  North America  Americas  Northern America   \n",
       "207      eSw.  Sovereign country         Africa    Africa   Southern Africa   \n",
       "203    S.T.P.  Sovereign country         Africa    Africa     Middle Africa   \n",
       "174      Pak.  Sovereign country           Asia      Asia     Southern Asia   \n",
       "202   S. Sud.  Sovereign country         Africa    Africa    Eastern Africa   \n",
       "\n",
       "              region_wb  ...  ny.gdp.mktp.cd ny.gdp.mktp.pp.cd sl.isv.ifrm.zs  \\\n",
       "176       North America  ...             NaN               NaN            NaN   \n",
       "207  Sub-Saharan Africa  ...    4.471599e+09      1.033703e+10            NaN   \n",
       "203  Sub-Saharan Africa  ...    4.186374e+08      8.914559e+08            NaN   \n",
       "174          South Asia  ...    2.782219e+11      1.060748e+12            NaN   \n",
       "202  Sub-Saharan Africa  ...             NaN               NaN            NaN   \n",
       "\n",
       "    sp.pop.grow  sp.pop.totl  sp.rur.totl.zs  sp.urb.totl.in.zs  \\\n",
       "176         NaN          NaN             NaN                NaN   \n",
       "207    1.045309    1148130.0          76.019             23.981   \n",
       "203    1.890763     215056.0          26.402             73.598   \n",
       "174    2.029215  216565318.0          63.093             36.907   \n",
       "202    0.782224   11062113.0          80.101             19.899   \n",
       "\n",
       "                 region         income_group   eu  \n",
       "176                 NaN                  NaN  NaN  \n",
       "207  Sub-Saharan Africa  Lower middle income  NaN  \n",
       "203  Sub-Saharan Africa  Lower middle income  NaN  \n",
       "174          South Asia  Lower middle income  NaN  \n",
       "202  Sub-Saharan Africa           Low income  NaN  \n",
       "\n",
       "[5 rows x 29 columns]"
      ]
     },
     "execution_count": 3,
     "metadata": {},
     "output_type": "execute_result"
    }
   ],
   "source": [
    "# for example, load some data\n",
    "world_df = pd.read_csv('data/world_bank_indicators_countries-2019.csv')\n",
    "\n",
    "world_df.sample(5)"
   ]
  },
  {
   "cell_type": "markdown",
   "metadata": {},
   "source": [
    "<To discuss and analyse a piece of data or a result, use a markdown cell>"
   ]
  },
  {
   "cell_type": "code",
   "execution_count": 4,
   "metadata": {},
   "outputs": [],
   "source": [
    "# use comments to document and explain your code, not for interpretation/analysis."
   ]
  },
  {
   "cell_type": "markdown",
   "metadata": {},
   "source": [
    "### This is a subsection\n",
    "\n",
    "\\< select interesting data \\>\n"
   ]
  },
  {
   "cell_type": "code",
   "execution_count": 5,
   "metadata": {},
   "outputs": [],
   "source": [
    "# more code here"
   ]
  },
  {
   "cell_type": "markdown",
   "metadata": {},
   "source": [
    "\\< More discussion \\>"
   ]
  },
  {
   "cell_type": "code",
   "execution_count": 6,
   "metadata": {},
   "outputs": [],
   "source": [
    "# more code"
   ]
  },
  {
   "cell_type": "markdown",
   "metadata": {},
   "source": [
    "### This is a subsection\n",
    "\n",
    "\\< discuss results \\>"
   ]
  },
  {
   "cell_type": "markdown",
   "metadata": {},
   "source": [
    "You can embed figures as needed using `<img>` or the markdown syntax."
   ]
  },
  {
   "cell_type": "markdown",
   "metadata": {},
   "source": [
    "<img src=\"figures/babylonian_map.png\" width=\"400\" />\n",
    "Figure 1: The Babylonian Map of the World is a Babylonian tablet dated to the 6th century BC."
   ]
  },
  {
   "cell_type": "code",
   "execution_count": 7,
   "metadata": {},
   "outputs": [],
   "source": [
    "# write the discussion of results after the relevant code.\n"
   ]
  },
  {
   "cell_type": "markdown",
   "metadata": {},
   "source": [
    "## Conclusions\n",
    "[Very succinctly, talk about all of the findings and reflect on further research that could emerge from this project. Be specific, and avoid generalizations.]"
   ]
  },
  {
   "cell_type": "markdown",
   "metadata": {},
   "source": [
    "## References\n",
    "\n",
    "< insert your references here >\n",
    "\n",
    "Manovich, L. (2020). Cultural analytics. Cambridge, MA: MIT Press.\n"
   ]
  },
  {
   "cell_type": "code",
   "execution_count": null,
   "metadata": {},
   "outputs": [],
   "source": [
    "# This code cell will give you a word count, in case you need it. \n",
    "# Note that this opens the file you are currently in, so make sure to save it first to get an accurate word count.\n",
    "\n",
    "with open('DIGHUM160_essay_yourlastname.ipynb',encoding='utf-8') as json_file:\n",
    "    data = json.load(json_file)\n",
    "\n",
    "wordCount = 0\n",
    "for each in data['cells']:\n",
    "    cellType = each['cell_type']\n",
    "    if cellType == \"markdown\":\n",
    "        content = each['source']\n",
    "        for line in content:\n",
    "            # you might want to filter for more markdown keywords here\n",
    "            temp = [word for word in line.split() if \"#\" not in word] \n",
    "            wordCount = wordCount + len(temp)\n",
    "            \n",
    "print(wordCount)"
   ]
  }
 ],
 "metadata": {
  "kernelspec": {
   "display_name": "Python 3",
   "language": "python",
   "name": "python3"
  },
  "language_info": {
   "codemirror_mode": {
    "name": "ipython",
    "version": 3
   },
   "file_extension": ".py",
   "mimetype": "text/x-python",
   "name": "python",
   "nbconvert_exporter": "python",
   "pygments_lexer": "ipython3",
   "version": "3.8.5"
  }
 },
 "nbformat": 4,
 "nbformat_minor": 4
}
