{
 "cells": [
  {
   "cell_type": "markdown",
   "metadata": {
    "id": "WClw_VPOmwXd"
   },
   "source": [
    "<img src=\"../../Img/backdrop-wh.png\" alt=\"Drawing\" style=\"width: 300px;\"/>\n",
    "\n",
    "# Sentiment Analysis\n",
    "\n",
    "* * * "
   ]
  },
  {
   "cell_type": "markdown",
   "metadata": {
    "id": "WClw_VPOmwXd"
   },
   "source": [
    "<div class=\"alert alert-success\">  \n",
    "    \n",
    "### Learning Objectives \n",
    "    \n",
    "* Understand the goal of sentiment analysis.\n",
    "* Use VADER to conduct sentiment analyses.\n",
    "* Think critically on how sentiment analysis can be used to interrogate a dataset.\n",
    "* Critique sentiment analysis models, and assess their failure modes.\n",
    "</div>\n",
    "\n",
    "### Icons Used in This Notebook\n",
    "🔔 **Question**: A quick question to help you understand what's going on.<br>\n",
    "💡 **Tip**: How to do something a bit more efficiently or effectively.<br>\n",
    "⚠️ **Warning:** Heads-up about tricky stuff or common mistakes.<br>\n",
    "💭 **Reflection:** Reflecting on ethical implications, biases, and social impact in data science.\n",
    "\n",
    "### Sections\n",
    "1. [What is Sentiment Analysis?](#sentiment_analysis)\n",
    "2. [Using VADER to Conduct Sentiment Analysis](#vader)\n",
    "3. [Sentiment Analysis on Reddit Data](#vader_reddit)\n",
    "4. [Using Sentiment Analysis to Interrogate Your Data](#analysis)\n",
    "5. [Demo: Sentiment Analysis with spaCy and TextBlob](#demo1)"
   ]
  },
  {
   "cell_type": "markdown",
   "metadata": {
    "id": "gJHDHrQPbjif"
   },
   "source": [
    "<a id='sentiment_analysis'></a>\n",
    "\n",
    "# What is Sentiment Analysis?\n",
    "\n",
    "Language can convey nuanced ideas, feelings, and emotions. As humans, we're very good at extracting the underlying emotional state expressed by a text. We do this all the time, including:\n",
    "\n",
    "- Figuring out if someone liked or disliked a product in a review,\n",
    "- Understanding whether a colleague is upset or not in an email,\n",
    "- Reading an editorial and discerning an author's position on a topic.\n",
    "\n",
    "Can we computationally make these assessments? **Sentiment Analysis** is a task where we aim to characterize the underlying emotional state expressed by a given text.\n",
    "\n",
    "Let's consider a toy example:\n",
    "\n",
    "```\n",
    "\"This was the best service! Would love to come again!\"\n",
    "```\n",
    "\n",
    "🔔 **Question**: This is very clearly expressing **positive sentiment**. How did we make that judgement?"
   ]
  },
  {
   "cell_type": "markdown",
   "metadata": {
    "id": "C6erwYIhh-cR"
   },
   "source": [
    "## Sentiment Analysis on Reddit: A Close Reading\n",
    "\n",
    "On a subreddit like AITA, the manner in which the OP expresses sentiment on the involved parties influences how commenters interpret and ultimately vote on the situation. Expressions of sentiment reflect the norms carried by the community under study.\n",
    "\n",
    "Let's take a look at some example comments. First, we import the dataset:"
   ]
  },
  {
   "cell_type": "code",
   "execution_count": 14,
   "metadata": {},
   "outputs": [],
   "source": [
    "import matplotlib.pyplot as plt\n",
    "import os\n",
    "import pickle\n",
    "import pandas as pd\n",
    "\n",
    "%matplotlib inline"
   ]
  },
  {
   "cell_type": "code",
   "execution_count": 15,
   "metadata": {},
   "outputs": [],
   "source": [
    "df = pd.read_csv('../../data/aita_pp.csv')"
   ]
  },
  {
   "cell_type": "markdown",
   "metadata": {},
   "source": [
    "🔔 **Question**: Take a look at the following submissions.\n",
    "\n",
    "- What sentiments are expressed by each post?\n",
    "- Can you distill that sentiment down to an \"overall sentiment\" for that post?\n",
    "- Do posts fall neatly within the scope of \"positive\" or \"negative\" sentiment?\n",
    "- What nuances do you lose by choosing to represent the text in this way?"
   ]
  },
  {
   "cell_type": "code",
   "execution_count": 16,
   "metadata": {},
   "outputs": [
    {
     "name": "stdout",
     "output_type": "stream",
     "text": [
      "I work for a major retailer near a big city. Recently we hired a new kid named Chuck. Chuck is great. Chuck does their job, shows up on time, and is pleasant to be around. If you’ve ever worked retail you know not many people can check these 3 basic boxes. \n",
      "\n",
      "A couple months after being hired Chuck began asking people to not use him, he, bro, sir, etc when we referring to Chuck. Cool, no big deal, I’m down for respecting that sort of thing and I imagine it was super tough to tell someone let alone 30 plus people. Chuck is unsure if they are asexual or possibly even trans but knows they no longer want to be referred to with a male gendered pronoun. \n",
      "\n",
      "So this was fine at first but has been becoming more difficult as time has wore on. It’s a daily struggle to drop man, sir, and bro from my phrases and mannerisms. And I feel terrible every time. Chuck just gives me this look until I realize that I’ve done it again, which I then apologize for again, and repeat ad nauseam. \n",
      "\n",
      "I’m not alone in this struggle and it’s wearing thin on several others. I’m to the point now where I just kind of avoid Chuck and limit my interactions with Chuck. I’ve even struggled to write this post ensuring not to refer to Chuck with a male pronoun. I like Chuck, but I don’t want to deal with Chuck anymore. I’m also very aware that this is most likely even more difficult for Chuck than it is for everyone else. \n",
      "\n",
      "That being said, I’m tired of walking on eggshells around Chuck, it’s exhausting, and I no longer want to work with Chuck. I’m probably the asshole here. \n"
     ]
    }
   ],
   "source": [
    "print(df['selftext'].iloc[463])"
   ]
  },
  {
   "cell_type": "code",
   "execution_count": 17,
   "metadata": {},
   "outputs": [
    {
     "name": "stdout",
     "output_type": "stream",
     "text": [
      "I run a medium sized chain of local gyms that I started with my father in 2002. Dad passed away four years ago. I have a younger blood brother and a younger blood sister who each have management like roles in my business. My brother in law is also involved.\n",
      "\n",
      "I like keeping things in the family, i can trust them and though things have been hard we make it through together.\n",
      "\n",
      "However, I also have another, unofficially adopted \"brother\" that is now 22 and wants to be involved in my business. I gave him a part time position as a receptionist, in addition to allowing him to advertise his failing personal trainer business at my gyms.\n",
      "\n",
      "The story is my mother was very religious, and giving. She would cry over a fly getting swatted. She had a best friend who had drug problems, with a four year old who she couldnt support. The plan was that my family would foster him until she got back on her feet. She ditched him and left him with us and we've taken care of him ever since.\n",
      "\n",
      "He was an unruly, rude little shit who I helped raise. I tried my best over the years to be an older brother / mentor to him like my mother asked but i cant. He refuses to learn and adapt, and he lacks my families desire to try to be successful.\n",
      "\n",
      "Hes a recovering alcoholic with all the advantages of the world, he continues to fuck up things that are simple and straightforward. Ive bailed him out of jail for theft at least once, my sister has also bailed him once for DUI. \n",
      "\n",
      "I dont see him as a sibling. I see him as an annoyance that cant get out of my life fast enough. He serves no use to me or the business.\n",
      "\n",
      "He is not legally adopted but we introduce him as that to soothe his feelings. He uses my fathers last name in casual conversation and it makes me physically ill. Ive asked him to stop using it but he does so anyway.\n",
      "\n",
      "Hes recently asked for the role of assistant manager, a position that has actual responsibility. I told him no. He pushed me by asking why he doesnt get the positions my real siblings have. I told him that a) Youre not qualified and b) Youre not my blood.\n",
      "\n",
      "He flipped out and slammed our buildings glass door causing a crack. Told my sister and she thinks ive gone too far despite sharing my feelings in the past. AITA?\n"
     ]
    }
   ],
   "source": [
    "print(df['selftext'].iloc[191])"
   ]
  },
  {
   "cell_type": "code",
   "execution_count": 18,
   "metadata": {},
   "outputs": [
    {
     "name": "stdout",
     "output_type": "stream",
     "text": [
      "I’m a woodworker on the side, I made my best friend a wooden American flag because he said he would love one. Only charged him cost of materials and shipping cost around $20. He then asked me to make another flag for a gift for his mom. I still gave it to him for cheap because growing up I was close with his family, but now he asked me to make the same flags for 5 other people in his family and one coworker. Keep in mind I sell these size flags for $150 and he assumed this time it would still be $20 each flag. I promptly told him I can’t do that cost anymore, it was only really a deal for him because he is my best friend and I agreed to it the second time bc it was for his mom but now these are for people I don’t even no. Told him I’m sorry but it’s not gonna happen. He responded “oh, ok...” and it’s been weird ever since, really short. Should I have just done it and not risk ruining our friendship?\n",
      "\n",
      "Update: followed some advice on here and let him know I’m not upset but broke down what all goes into it. Said there aren’t any hard feelings but just wanted him to know why I said what I said. I’ll update with his response.\n",
      "\n",
      "Update #2: He did give an apology of sorts. Said he thought that getting my flags out to different people would help more people see my products which could lead to more revenue. I told him I appreciate that but I currently stay busy enough without it and that I wouldn’t mind giving him 50% off only bc we’re boys but this would be the last time. He said he didn’t mean for it to come across the way it did. Idk I still feel like it isn’t resolved, we’re going out for beers this weekend. Going to get him to understand my side of things.\n",
      "\n",
      "Final update: He sent me a random message last night profusely apologizing. Apparently he was talking to his wife and she tore into him and was upset he would do that haha he just sent a PayPal payment for 5 flags at full price. Glad it all worked out, I’m going to make him something customized as a thank you for the business. Thank you all for the advice. ✌🏻\n"
     ]
    }
   ],
   "source": [
    "print(df['selftext'].iloc[687])"
   ]
  },
  {
   "cell_type": "markdown",
   "metadata": {},
   "source": [
    "<a id='vader'></a>\n",
    "\n",
    "# Using VADER to Conduct Sentiment Analysis\n",
    "\n",
    "There are several ways to approach sentiment analysis using natural language processing tools. One of the most commonly used tools is called **VADER** (Valence Aware Dictionary and sEntiment Reasoner).\n",
    "\n",
    "As far as sentiment analyzers go, VADER is pretty simple: it has a dictionary of many words and their associated sentiment (e.g., \"bad\" is negative sentiment, \"happy\" is positive sentiment) and combines these sentiments into \"scores\".\n",
    "\n",
    "Let's import VADER and see how it works:"
   ]
  },
  {
   "cell_type": "code",
   "execution_count": 19,
   "metadata": {},
   "outputs": [
    {
     "name": "stdout",
     "output_type": "stream",
     "text": [
      "Requirement already satisfied: vadersentiment in /Users/tomvannuenen/anaconda3/envs/dlab/lib/python3.10/site-packages (3.3.2)\n",
      "Requirement already satisfied: requests in /Users/tomvannuenen/anaconda3/envs/dlab/lib/python3.10/site-packages (from vadersentiment) (2.31.0)\n",
      "Requirement already satisfied: charset-normalizer<4,>=2 in /Users/tomvannuenen/anaconda3/envs/dlab/lib/python3.10/site-packages (from requests->vadersentiment) (3.2.0)\n",
      "Requirement already satisfied: idna<4,>=2.5 in /Users/tomvannuenen/anaconda3/envs/dlab/lib/python3.10/site-packages (from requests->vadersentiment) (3.4)\n",
      "Requirement already satisfied: urllib3<3,>=1.21.1 in /Users/tomvannuenen/anaconda3/envs/dlab/lib/python3.10/site-packages (from requests->vadersentiment) (2.0.4)\n",
      "Requirement already satisfied: certifi>=2017.4.17 in /Users/tomvannuenen/anaconda3/envs/dlab/lib/python3.10/site-packages (from requests->vadersentiment) (2023.7.22)\n",
      "Note: you may need to restart the kernel to use updated packages.\n"
     ]
    }
   ],
   "source": [
    "# Import VADER if necessary\n",
    "%pip install vadersentiment"
   ]
  },
  {
   "cell_type": "markdown",
   "metadata": {},
   "source": [
    "From the package `vadersentiment`, we import something called the `SentimentIntensityAnalyzer`.\n",
    "\n",
    "⚠️ **Warning:** `SentimentIntensityAnalyzer` is not a function we can run to calculate sentiment. It's similar to `TFIDFVectorizer`: we first **instantiate** it into an **object**, and then use that object to analyze the text.\n",
    "\n",
    "Let's create an object called `analyzer` using `SentimentIntensityAnalyzer`:"
   ]
  },
  {
   "cell_type": "code",
   "execution_count": 20,
   "metadata": {},
   "outputs": [],
   "source": [
    "# Import the VADER SentimentIntensityAnalyzer\n",
    "from vaderSentiment.vaderSentiment import SentimentIntensityAnalyzer\n",
    "# Create analyzer object\n",
    "analyzer = SentimentIntensityAnalyzer()"
   ]
  },
  {
   "cell_type": "markdown",
   "metadata": {},
   "source": [
    "Now, we use a **method** called `polarity_scores` to calculate sentiment:"
   ]
  },
  {
   "cell_type": "code",
   "execution_count": 21,
   "metadata": {},
   "outputs": [
    {
     "data": {
      "text/plain": [
       "{'neg': 0.0, 'neu': 0.471, 'pos': 0.529, 'compound': 0.8745}"
      ]
     },
     "execution_count": 21,
     "metadata": {},
     "output_type": "execute_result"
    }
   ],
   "source": [
    "analyzer.polarity_scores(\"This was the best service! Would love to come again!\")"
   ]
  },
  {
   "cell_type": "markdown",
   "metadata": {},
   "source": [
    "VADER separately provides measures of **positive**, **neutral**, and **negative** sentiment. VADER also provides a `compound` score which synthesizes all three into a single measure of sentiment.\n",
    "\n",
    "🔔 **Question**: Do the numbers here match your assessment of the sentiment?"
   ]
  },
  {
   "cell_type": "markdown",
   "metadata": {},
   "source": [
    "💡 **Tip**: VADER provides [recommendations](https://vadersentiment.readthedocs.io/en/latest/pages/about_the_scoring.html) on how to use the `compound` score as a single measure of sentiment:\n",
    "\n",
    "1. Positive sentiment: `compound` $\\geq 0.5$\n",
    "2. Neutral sentiment: $-0.5 <$ `compound` $<0.5$\n",
    "3. Negative sentiment: `compound` $\\leq -0.5$"
   ]
  },
  {
   "cell_type": "markdown",
   "metadata": {},
   "source": [
    "⚠️ **Warning:** No sentiment analyzer is perfect. Try different examples in VADER to see where it might make errors. How does it handle sarcasm, or convoluted text?\n",
    "\n",
    "Consider the following example:"
   ]
  },
  {
   "cell_type": "code",
   "execution_count": 22,
   "metadata": {},
   "outputs": [
    {
     "data": {
      "text/plain": [
       "{'neg': 0.5, 'neu': 0.5, 'pos': 0.0, 'compound': -0.4585}"
      ]
     },
     "execution_count": 22,
     "metadata": {},
     "output_type": "execute_result"
    }
   ],
   "source": [
    "analyzer.polarity_scores(\"I am not happy.\")"
   ]
  },
  {
   "cell_type": "markdown",
   "metadata": {},
   "source": [
    "Seems pretty accurate. What about this sentence, which says the same thing, but in a more confusing way?"
   ]
  },
  {
   "cell_type": "code",
   "execution_count": 23,
   "metadata": {},
   "outputs": [
    {
     "data": {
      "text/plain": [
       "{'neg': 0.0, 'neu': 0.684, 'pos': 0.316, 'compound': 0.5719}"
      ]
     },
     "execution_count": 23,
     "metadata": {},
     "output_type": "execute_result"
    }
   ],
   "source": [
    "analyzer.polarity_scores(\"It is not the case that I am happy.\")"
   ]
  },
  {
   "cell_type": "markdown",
   "metadata": {},
   "source": [
    "The takeaway here is not that we have to abandon VADER as a tool. Like all computational tools, it has its limits. We need to be aware of these limits, especially when the usage of these tools impacts our beliefs and actions."
   ]
  },
  {
   "cell_type": "markdown",
   "metadata": {},
   "source": [
    "<a id='vader_reddit'></a>\n",
    "\n",
    "# Sentiment Analysis on Reddit Data\n",
    "\n",
    "Let's try applying the sentiment analyzer to the Reddit data. First, let's apply it to the three posts we considered above:"
   ]
  },
  {
   "cell_type": "code",
   "execution_count": 24,
   "metadata": {},
   "outputs": [
    {
     "name": "stdout",
     "output_type": "stream",
     "text": [
      "{'neg': 0.141, 'neu': 0.79, 'pos': 0.069, 'compound': -0.9755}\n",
      "{'neg': 0.073, 'neu': 0.85, 'pos': 0.077, 'compound': 0.3833}\n",
      "{'neg': 0.027, 'neu': 0.818, 'pos': 0.155, 'compound': 0.9958}\n"
     ]
    }
   ],
   "source": [
    "print(analyzer.polarity_scores(df['selftext'].iloc[463]))\n",
    "print(analyzer.polarity_scores(df['selftext'].iloc[191]))\n",
    "print(analyzer.polarity_scores(df['selftext'].iloc[687]))"
   ]
  },
  {
   "cell_type": "markdown",
   "metadata": {},
   "source": [
    "🔔 **Question**: Do you agree with how VADER characterized these post? \n",
    "\n",
    "Ultimately, like most natural language processing tasks, there is no real **ground truth**: the answer is subjective."
   ]
  },
  {
   "cell_type": "markdown",
   "metadata": {},
   "source": [
    "### Characterizing Sentiment at Scale\n",
    "\n",
    "We've looked at posts one by one, but what if we want to calculate sentiment on our entire dataset?\n",
    "\n",
    "⚠️ **Warning:** If we pass in the entire list of posts to `polarity_scores`, VADER will calculate the sentiment on the **whole** dataset. We have to use the function one post at a time.\n",
    "\n",
    "We will need to use a **for loop** to perform this repeated computation. Let's think through how to do this:\n",
    "\n",
    "- We iterate through every selftext in the dataset\n",
    "- For each selftext, we calculate each sentiment. We'll focus on the compound score, for simplicity.\n",
    "- We store the score in a data structure. Let's use a list."
   ]
  },
  {
   "cell_type": "code",
   "execution_count": 25,
   "metadata": {},
   "outputs": [],
   "source": [
    "# Create list to store scores\n",
    "compound_scores = []"
   ]
  },
  {
   "cell_type": "code",
   "execution_count": 26,
   "metadata": {},
   "outputs": [],
   "source": [
    "# This may take a few minutes to run\n",
    "\n",
    "# Iterate through the selftext of each post\n",
    "for post in df['selftext']:\n",
    "    # Calculate sentiment\n",
    "    sentiment = analyzer.polarity_scores(post)\n",
    "    # Store each score\n",
    "    compound_scores.append(sentiment['compound'])"
   ]
  },
  {
   "cell_type": "code",
   "execution_count": 27,
   "metadata": {},
   "outputs": [],
   "source": [
    "# Store the compound scores in the dataframe\n",
    "df['sentiment'] = compound_scores"
   ]
  },
  {
   "cell_type": "markdown",
   "metadata": {},
   "source": [
    "Let's take a look at the distribution of sentiment. What do you observe?"
   ]
  },
  {
   "cell_type": "code",
   "execution_count": 28,
   "metadata": {},
   "outputs": [
    {
     "data": {
      "text/plain": [
       "Text(0, 0.5, 'Frequency')"
      ]
     },
     "execution_count": 28,
     "metadata": {},
     "output_type": "execute_result"
    },
    {
     "data": {
      "image/png": "[encoded data removed]",
      "text/plain": [
       "<Figure size 432x288 with 1 Axes>"
      ]
     },
     "metadata": {
      "needs_background": "light"
     },
     "output_type": "display_data"
    }
   ],
   "source": [
    "df['sentiment'].hist(grid=False)\n",
    "plt.xlabel('Compound Sentiment Score', fontsize=15)\n",
    "plt.ylabel('Frequency', fontsize=15)"
   ]
  },
  {
   "cell_type": "markdown",
   "metadata": {},
   "source": [
    "<a id='analysis'></a>\n",
    "\n",
    "# Using Sentiment Analysis to Interrogate Your Data\n",
    "\n",
    "In the literature, most papers on sentiment analysis are concerned with the task itself: Can we build a better model to conduct sentiment analysis? How good is the model? Comparatively less papers actually leverage sentiment analysis to understand norms about society. \n",
    "\n",
    "💭 **Reflection:** Why is there so much focus on improving models, and less usage of these models to critically examine corpora? What value structures are in place to incentivize this kind of research?\n",
    "\n",
    "Let's use sentiment analysis to try and better understand this dataset and community. To do so, we need to have some research questions. These will motivate analyses, the results of which will motivate further research questions."
   ]
  },
  {
   "cell_type": "markdown",
   "metadata": {},
   "source": [
    "## Are There Differences in Sentiment Between \"YTA\" Posts and \"NTA\" Posts?\n",
    "\n",
    "What if we looked at sentiment separately for \"YTA\" flaired posts and \"NTA\" flaired posts?\n",
    "\n",
    "Remember, we are examining sentiment of posts written by original authors *as a function of their behavior being rated by community members*. So, the manner in which they express sentiment could correlate with being rated \"YTA\" or \"NTA\"."
   ]
  },
  {
   "cell_type": "code",
   "execution_count": 29,
   "metadata": {},
   "outputs": [],
   "source": [
    "# Filter posts by YTA / NTA text\n",
    "yta_posts = df[df['flair_text'] == 'Asshole']\n",
    "nta_posts = df[df['flair_text'] == 'Not the A-hole']"
   ]
  },
  {
   "cell_type": "code",
   "execution_count": 30,
   "metadata": {},
   "outputs": [
    {
     "data": {
      "image/png": "[encoded data removed]",
      "text/plain": [
       "<Figure size 720x360 with 1 Axes>"
      ]
     },
     "metadata": {
      "needs_background": "light"
     },
     "output_type": "display_data"
    }
   ],
   "source": [
    "# Create our own axes to plot on\n",
    "fig, ax = plt.subplots(1, 1, figsize=(10, 5))\n",
    "# Plot the histogram of sentiment for YTA\n",
    "yta_posts.hist('sentiment',\n",
    "               # Use a histogram type where it shows only the border\n",
    "               histtype='step',\n",
    "               # Set the line width of the histogram\n",
    "               lw=2,\n",
    "               # Turn the grid off\n",
    "               grid=False,\n",
    "               # \"Density\" allows us to compare multiple histograms, even if the total counts are different\n",
    "               density=True,\n",
    "               # Set the label for the legend\n",
    "               label='YTA',\n",
    "               # Be sure to use the axes we create\n",
    "               ax=ax)\n",
    "\n",
    "# Plot the histogram of sentiment for NTA\n",
    "nta_posts.hist('sentiment',\n",
    "               # Use a histogram type where it shows only the border\n",
    "               histtype='step',\n",
    "               # Set the line width of the histogram\n",
    "               lw=2,\n",
    "               # Turn the grid off\n",
    "               grid=False,\n",
    "               # \"Density\" allows us to compare multiple histograms, even if the total counts are different\n",
    "               density=True,\n",
    "               # Set the label for the legend\n",
    "               label='NTA',\n",
    "               # Be sure to use the axes we create\n",
    "               ax=ax)\n",
    "# Create legend\n",
    "plt.legend(loc='upper center', prop={'size': 15})\n",
    "# Create labels\n",
    "plt.xlabel('Compound Sentiment Score', fontsize=15)\n",
    "plt.ylabel('Density', fontsize=15)\n",
    "plt.title('')\n",
    "plt.show()"
   ]
  },
  {
   "cell_type": "markdown",
   "metadata": {},
   "source": [
    "The distributions look pretty similar, but we see that NTA posts generally have negative sentiment, while YTA posts have a little bit more positive sentiment. The distributions are also very polarizing, with many posts being assigned scores close to -1 or 1, at the extreme.\n",
    "\n",
    "This is pretty interesting, but also a little suspicious. Are there posts that *really* have that extreme positive and negative sentiment? Now is a good point to turn back to a close reading, in order to better elucidate this difference.\n",
    "\n",
    "Let's look at an example YTA post which VADER said had among the highest of positive sentiment:\n",
    "\n",
    "**Content Warning:** Homophobia"
   ]
  },
  {
   "cell_type": "code",
   "execution_count": 31,
   "metadata": {},
   "outputs": [
    {
     "name": "stdout",
     "output_type": "stream",
     "text": [
      "I'm a Christian and I think homosexuality (the act, not the attraction) is a sin. But the Bible says to love others and not to judge, so when my best friend came out to me in high-school and told me he was gay, I told him I was here for him.\n",
      "\n",
      "And I really was. I was there when he came out to his parents and they kicked him out the house; I was there when he needed a place to stay and I let him crash at my house for the rest of senior year; I was there to console him when he went through various break-ups with different boyfriends; etc.\n",
      "\n",
      "Through all this, he knew my stance on homosexuality. I never forced my views onhim, but whenever he would catch me reading my Bible, he would teasingly ask me if I thought homosexuality was a sin and that he was going to hell. I would tell him, \"I don't know where you're going or where I'm going. Ultimately, that's for God to decide. As far as homosexuality, I don't think you can help who you're attracted to. But I do think you can choose who you sleep with. So, yes, I think it's a sin. But we're all sinners.\"\n",
      "\n",
      "The reason why I mentioned that is because it was never a secret to him that I didn't approve of his lifestyle. It's been twenty years now, and my stance has been the same: I don't approve of some of the things you do, but I still love you for who you are. \n",
      "\n",
      "I recently got a call from him  (we haven't since each other since Covid, but we talk reguarly) and he said he had something to tell me. I said, \"Sure, go ahead.\" He sounded excited and I was curious. He took a deep breath and then said he had recently got engaged to his boyfriend (a guy we both knew). I said, \"Hey, man, as long as you're happy, I'm happy for you.\" And I was genuinely happy for him.\n",
      "\n",
      "Then he says, \"I have to tell you something else. I want you to be my best man.\"\n",
      "\n",
      "Dead silence. \n",
      "\n",
      "Long story short, I tell him that I really wish I could, but I can't. He gets angry and hangs up. I try to call him back - straight to voicemail. I text him - no reply.\n",
      "\n",
      "Look, I can understand why he's upset, but I can't budge on this. This is too far for me. Weddings to me are literally symbolic ceremonies of approval. The families and friends all come together and the pastor asks, \"If anyone has any objections speak now or forever hold your peace.\"\n",
      "\n",
      "And my friend knows me. For the twenty plus years we've known each other I've never hid the fact that I. don't. approve. I have no problem visiting him after the wedding is over, or sending him a gift, but I can't in all good conscience stand there in silence when the pastor asks, \"Does anyone object?\"\n",
      "\n",
      "I just can't. I'm not going. And I'm going to keep reaching out to my friend (unless he makes it absolutely clear that he's done with me). One of my worries as a Christian has always been am I being too strict, too traditional? But on this one, I just can't. \n",
      "\n",
      "WIBTA if I don't go to the wedding?\n",
      "\n",
      "**Edit 1 (Thank Yous)**: Thank you for all the comments below. I'm reading every single one. There were several comments and criticisms that really cut me to the core but I purposely refrained from answering anyone because I felt it would comes across as me trying to justify my actions or beliefs.  I just wanted people's honest perspective and opinions. \n",
      "\n",
      "For the people that reached out to me behind the scenes, thank you for the kind words, the support, and the advice. There are too many to respond to, and I will try my best to get back to you, but if I don't, just know that I am humbly grateful for both your concern and the correction alike.\n",
      "\n",
      "Many people were asking me for updates, so:\n",
      "\n",
      "**Edit 2 (Update)**: My best friend didn't answer any of my calls today, so I'm thinking about leaving him a text tomorrow basically saying: **\"I know how much this had to have hurt you and I apologize for not communicating with you more about this earlier on to avoid all of this. But in my heart, I genuinely consider you my best friend, but I feel my absence in this situation is necessary. And I hope that one day doesn't invalidate the 20 years of friendship we've had.\"**  I've been tweaking it here and there, but I'll be posting it in another thread to ask for suggestions on ways to make it better. I feel like it's missing something. But this is my last comment.\n",
      "\n",
      "**Edit 3 (Final Words)**: Whoops! Okay, not my last comment, apparently. Many people in the chats were requesting me to keep them updated on future developments if any, and there are too many requests to personally message individually so I'll just post them here. \n",
      "\n",
      "**Edit 4 (Answer to a Question)**: Someone messaged me, asking \"Why are you making this so public? Stop being an attention seeker!\" This is a paraphrased, less-explicitive filled version of what they actually said, but to address it:\n",
      "\n",
      "**1)** Well, for one I wasn't expecting the overwhelmomg amount of responses I recieved. I didn't know this was going to blow up like it did. I was just expecting a few answers and that was it, but f there was a way I could show you all the stories people - religious, nonreligious, homosexual, nonhomosexual - have messaged me about the things they've been through, and the sacrifices they've had to make, there's many that are heart-warming and many that are heart-wrenching.\n",
      "\n",
      "**2)** Once I saw the responses pouring in, and the different perspectives everyone had on both sides of the spectrum, and the true emotions underlying it all, I realized that this could be beneficial in some way to any people who come across these comments in the future and are struggling with reconciling their religion, their beliefs, and their convictions to their relationship with others who it may effect. Someone may one day find this post, read one of your comments, and find something that they can apply to themselves.\n"
     ]
    }
   ],
   "source": [
    "# Sort the YTA posts by sentiment, in decreasing order, so the most positive posts are on top\n",
    "print(yta_posts.sort_values('sentiment', ascending=False)['selftext'].iloc[4])"
   ]
  },
  {
   "cell_type": "markdown",
   "metadata": {},
   "source": [
    "What are some observations from this post?\n",
    "\n",
    "- The original post is pretty clearly not positive sentiment. It probably leans a bit negative in sentiment, especially with how the OP describes the entire situation.\n",
    "- OP's views on their friend's sexuality are reprehensible, but they do praise their friendship, which is likely contributing to the positive sentiment.\n",
    "- There are many edits to this post. This is pretty common in AITA. Many of the edits contain \"thank you\", as well as a paraphrased text to OP's friend that positively characterizes their friendship.\n",
    "\n",
    "These observations demonstrate the complexity in assigning sentiment to text, and demonstrate how close reading allows us to be more critical of the outputs provided by NLP algorithms."
   ]
  },
  {
   "cell_type": "markdown",
   "metadata": {},
   "source": [
    "## Are Edits to Posts Inflating Sentiment?\n",
    "\n",
    "In the above example, it is likely that the sentiment analysis algorithm is picking up on these edits when assigning sentiment. That motivates another research question: does the presence of an edit correlate with a certain type of sentiment?\n",
    "\n",
    "Often times, edits involving thanking the community for their response. It is possible that posts with edits may generally have higher sentiment.\n",
    "\n",
    "Let's try and do a cursory analysis to test this. There are many ways we could check for edits, but a pretty simple one is if the post contains the string `'Edit:'`. Let's filter by this criteria: "
   ]
  },
  {
   "cell_type": "code",
   "execution_count": 32,
   "metadata": {},
   "outputs": [],
   "source": [
    "edit_posts = df[df['selftext'].str.contains('Edit:')]"
   ]
  },
  {
   "cell_type": "markdown",
   "metadata": {},
   "source": [
    "We do the same plot as above, but now we add in the sentiment from the edited posts dataframe."
   ]
  },
  {
   "cell_type": "code",
   "execution_count": 33,
   "metadata": {},
   "outputs": [
    {
     "data": {
      "image/png": "[encoded data removed]",
      "text/plain": [
       "<Figure size 720x360 with 1 Axes>"
      ]
     },
     "metadata": {
      "needs_background": "light"
     },
     "output_type": "display_data"
    }
   ],
   "source": [
    "# Create our own axes to plot on\n",
    "fig, ax = plt.subplots(1, 1, figsize=(10, 5))\n",
    "# Plot the histogram of sentiment for YTA\n",
    "yta_posts.hist('sentiment',\n",
    "               # Use a histogram type where it shows only the border\n",
    "               histtype='step',\n",
    "               # Set the line width of the histogram\n",
    "               lw=2,\n",
    "               # Turn the grid off\n",
    "               grid=False,\n",
    "               # \"Density\" allows us to compare multiple histograms, even if the total counts are different\n",
    "               density=True,\n",
    "               # Set the label for the legend\n",
    "               label='YTA',\n",
    "               # Be sure to use the axes we create\n",
    "               ax=ax)\n",
    "\n",
    "# Plot the histogram of sentiment for NTA\n",
    "nta_posts.hist('sentiment',\n",
    "               # Use a histogram type where it shows only the border\n",
    "               histtype='step',\n",
    "               # Set the line width of the histogram\n",
    "               lw=2,\n",
    "               # Turn the grid off\n",
    "               grid=False,\n",
    "               # \"Density\" allows us to compare multiple histograms, even if the total counts are different\n",
    "               density=True,\n",
    "               # Set the label for the legend\n",
    "               label='NTA',\n",
    "               # Be sure to use the axes we create\n",
    "               ax=ax)\n",
    "\n",
    "# Plot the histogram of sentiment for NTA\n",
    "edit_posts.hist('sentiment',\n",
    "                # Use a histogram type where it shows only the border\n",
    "                histtype='step',\n",
    "                # Set the line width of the histogram\n",
    "                lw=2,\n",
    "                # Turn the grid off\n",
    "                grid=False,\n",
    "                # \"Density\" allows us to compare multiple histograms, even if the total counts are different\n",
    "                density=True,\n",
    "                # Set the label for the legend\n",
    "                label='Edited',\n",
    "                # Be sure to use the axes we create\n",
    "                ax=ax)\n",
    "\n",
    "# Create legend\n",
    "plt.legend(loc='upper center', prop={'size': 15})\n",
    "# Create labels\n",
    "plt.xlabel('Compound Sentiment Score', fontsize=15)\n",
    "plt.ylabel('Density', fontsize=15)\n",
    "plt.title('')\n",
    "plt.show()"
   ]
  },
  {
   "cell_type": "markdown",
   "metadata": {},
   "source": [
    "It definitely looks like the distribution has shifted to the right! So, we do see a correspondence between edited posts and sentiment.\n",
    "\n",
    "🔔 **Question**: How could we improve this analysis? What other ways do OPs indicate they are updating or editing a post?"
   ]
  },
  {
   "cell_type": "markdown",
   "metadata": {},
   "source": [
    "## Does Post Score Correlate with Sentiment?\n",
    "\n",
    "Another research question we can ask, which applies to any subreddit, is whether post score correlates with sentiment. We might expect, for example, that posts with very positive or negative sentiment generally get upvoted more, since they express stronger emotions.\n",
    "\n",
    "Let's examine this by plotting the average score of posts with sentiment values in specific ranges. You can use the following function to create this plot:"
   ]
  },
  {
   "cell_type": "code",
   "execution_count": 34,
   "metadata": {},
   "outputs": [],
   "source": [
    "from scipy.stats import binned_statistic\n",
    "import numpy as np\n",
    "\n",
    "def plot_score_vs_sentiment(sentiment, score, n_bins=9):\n",
    "    \"\"\"Plots the average score within ranges of sentiment values.\n",
    "    \n",
    "    Parameters\n",
    "    ----------\n",
    "    sentiment : pd.Series\n",
    "        The sentiment column from your dataframe.\n",
    "    score : pd.Series\n",
    "        The score column from your dataframe.\n",
    "    n_bins : int\n",
    "        The number of bins to plot.\n",
    "    \"\"\"\n",
    "    # Calculate binned sentiment values\n",
    "    bin_means, bin_edges, binnumber = binned_statistic(sentiment,\n",
    "                                                       score,\n",
    "                                                       statistic='mean',\n",
    "                                                       bins=np.linspace(-1, 1, n_bins))\n",
    "    # Calculate bin width of bar plot\n",
    "    binwidth = np.ediff1d(bin_edges)[0]\n",
    "    fig, ax = plt.subplots(1, 1, figsize=(8, 6))\n",
    "    ax.bar(x=bin_edges[:-1] + binwidth / 2, height=bin_means, width=binwidth)\n",
    "    ax.set_xlim([-1, 1])\n",
    "    return fig, ax"
   ]
  },
  {
   "cell_type": "code",
   "execution_count": 40,
   "metadata": {
    "tags": []
   },
   "outputs": [
    {
     "data": {
      "text/plain": [
       "Text(0, 0.5, 'Average Post Score')"
      ]
     },
     "execution_count": 40,
     "metadata": {},
     "output_type": "execute_result"
    },
    {
     "data": {
      "image/png": "[encoded data removed]",
      "text/plain": [
       "<Figure size 576x432 with 1 Axes>"
      ]
     },
     "metadata": {
      "needs_background": "light"
     },
     "output_type": "display_data"
    }
   ],
   "source": [
    "plot_score_vs_sentiment(df['sentiment'], df['score'], n_bins=10)\n",
    "plt.xlim([-1.05, 1.05])\n",
    "plt.ylim([5000, 6700])\n",
    "plt.xlabel('Compound Sentiment', fontsize=15)\n",
    "plt.ylabel('Average Post Score', fontsize=15)"
   ]
  },
  {
   "cell_type": "markdown",
   "metadata": {},
   "source": [
    "We definitely observe a pattern: Posts with the most negative and most positive sentiment generally have higher scores!"
   ]
  },
  {
   "cell_type": "markdown",
   "metadata": {},
   "source": [
    "<a id='demo1'></a>\n",
    "\n",
    "# 🎬 Demo : Sentiment Analysis with spaCy and TextBlob\n",
    "\n",
    "VADER is not the only tool we can use for sentiment analysis. Within spaCy, which we used for preprocessing, we can use a package called TextBlob to conduct sentiment analysis. This demo walks you through the code to use spaCy to perform sentiment analysis."
   ]
  },
  {
   "cell_type": "code",
   "execution_count": 36,
   "metadata": {
    "tags": []
   },
   "outputs": [
    {
     "name": "stdout",
     "output_type": "stream",
     "text": [
      "Requirement already satisfied: textblob in /Users/tomvannuenen/anaconda3/envs/dlab/lib/python3.10/site-packages (0.15.3)\n",
      "Requirement already satisfied: nltk>=3.1 in /Users/tomvannuenen/anaconda3/envs/dlab/lib/python3.10/site-packages (from textblob) (3.8.1)\n",
      "Requirement already satisfied: click in /Users/tomvannuenen/anaconda3/envs/dlab/lib/python3.10/site-packages (from nltk>=3.1->textblob) (8.1.6)\n",
      "Requirement already satisfied: joblib in /Users/tomvannuenen/anaconda3/envs/dlab/lib/python3.10/site-packages (from nltk>=3.1->textblob) (1.3.1)\n",
      "Requirement already satisfied: regex>=2021.8.3 in /Users/tomvannuenen/anaconda3/envs/dlab/lib/python3.10/site-packages (from nltk>=3.1->textblob) (2023.6.3)\n",
      "Requirement already satisfied: tqdm in /Users/tomvannuenen/anaconda3/envs/dlab/lib/python3.10/site-packages (from nltk>=3.1->textblob) (4.65.0)\n",
      "Note: you may need to restart the kernel to use updated packages.\n",
      "Requirement already satisfied: spacytextblob in /Users/tomvannuenen/anaconda3/envs/dlab/lib/python3.10/site-packages (4.0.0)\n",
      "Requirement already satisfied: spacy<4.0,>=3.0 in /Users/tomvannuenen/anaconda3/envs/dlab/lib/python3.10/site-packages (from spacytextblob) (3.6.0)\n",
      "Requirement already satisfied: textblob<0.16.0,>=0.15.3 in /Users/tomvannuenen/anaconda3/envs/dlab/lib/python3.10/site-packages (from spacytextblob) (0.15.3)\n",
      "Requirement already satisfied: spacy-legacy<3.1.0,>=3.0.11 in /Users/tomvannuenen/anaconda3/envs/dlab/lib/python3.10/site-packages (from spacy<4.0,>=3.0->spacytextblob) (3.0.12)\n",
      "Requirement already satisfied: spacy-loggers<2.0.0,>=1.0.0 in /Users/tomvannuenen/anaconda3/envs/dlab/lib/python3.10/site-packages (from spacy<4.0,>=3.0->spacytextblob) (1.0.4)\n",
      "Requirement already satisfied: murmurhash<1.1.0,>=0.28.0 in /Users/tomvannuenen/anaconda3/envs/dlab/lib/python3.10/site-packages (from spacy<4.0,>=3.0->spacytextblob) (1.0.9)\n",
      "Requirement already satisfied: cymem<2.1.0,>=2.0.2 in /Users/tomvannuenen/anaconda3/envs/dlab/lib/python3.10/site-packages (from spacy<4.0,>=3.0->spacytextblob) (2.0.7)\n",
      "Requirement already satisfied: preshed<3.1.0,>=3.0.2 in /Users/tomvannuenen/anaconda3/envs/dlab/lib/python3.10/site-packages (from spacy<4.0,>=3.0->spacytextblob) (3.0.8)\n",
      "Requirement already satisfied: thinc<8.2.0,>=8.1.8 in /Users/tomvannuenen/anaconda3/envs/dlab/lib/python3.10/site-packages (from spacy<4.0,>=3.0->spacytextblob) (8.1.10)\n",
      "Requirement already satisfied: wasabi<1.2.0,>=0.9.1 in /Users/tomvannuenen/anaconda3/envs/dlab/lib/python3.10/site-packages (from spacy<4.0,>=3.0->spacytextblob) (1.1.2)\n",
      "Requirement already satisfied: srsly<3.0.0,>=2.4.3 in /Users/tomvannuenen/anaconda3/envs/dlab/lib/python3.10/site-packages (from spacy<4.0,>=3.0->spacytextblob) (2.4.7)\n",
      "Requirement already satisfied: catalogue<2.1.0,>=2.0.6 in /Users/tomvannuenen/anaconda3/envs/dlab/lib/python3.10/site-packages (from spacy<4.0,>=3.0->spacytextblob) (2.0.9)\n",
      "Requirement already satisfied: typer<0.10.0,>=0.3.0 in /Users/tomvannuenen/anaconda3/envs/dlab/lib/python3.10/site-packages (from spacy<4.0,>=3.0->spacytextblob) (0.9.0)\n",
      "Requirement already satisfied: pathy>=0.10.0 in /Users/tomvannuenen/anaconda3/envs/dlab/lib/python3.10/site-packages (from spacy<4.0,>=3.0->spacytextblob) (0.10.2)\n",
      "Requirement already satisfied: smart-open<7.0.0,>=5.2.1 in /Users/tomvannuenen/anaconda3/envs/dlab/lib/python3.10/site-packages (from spacy<4.0,>=3.0->spacytextblob) (6.3.0)\n",
      "Requirement already satisfied: tqdm<5.0.0,>=4.38.0 in /Users/tomvannuenen/anaconda3/envs/dlab/lib/python3.10/site-packages (from spacy<4.0,>=3.0->spacytextblob) (4.65.0)\n",
      "Requirement already satisfied: numpy>=1.15.0 in /Users/tomvannuenen/anaconda3/envs/dlab/lib/python3.10/site-packages (from spacy<4.0,>=3.0->spacytextblob) (1.25.0)\n",
      "Requirement already satisfied: requests<3.0.0,>=2.13.0 in /Users/tomvannuenen/anaconda3/envs/dlab/lib/python3.10/site-packages (from spacy<4.0,>=3.0->spacytextblob) (2.31.0)\n",
      "Requirement already satisfied: pydantic!=1.8,!=1.8.1,<1.11.0,>=1.7.4 in /Users/tomvannuenen/anaconda3/envs/dlab/lib/python3.10/site-packages (from spacy<4.0,>=3.0->spacytextblob) (1.10.12)\n",
      "Requirement already satisfied: jinja2 in /Users/tomvannuenen/anaconda3/envs/dlab/lib/python3.10/site-packages (from spacy<4.0,>=3.0->spacytextblob) (3.1.2)\n",
      "Requirement already satisfied: setuptools in /Users/tomvannuenen/anaconda3/envs/dlab/lib/python3.10/site-packages (from spacy<4.0,>=3.0->spacytextblob) (68.0.0)\n",
      "Requirement already satisfied: packaging>=20.0 in /Users/tomvannuenen/anaconda3/envs/dlab/lib/python3.10/site-packages (from spacy<4.0,>=3.0->spacytextblob) (23.1)\n",
      "Requirement already satisfied: langcodes<4.0.0,>=3.2.0 in /Users/tomvannuenen/anaconda3/envs/dlab/lib/python3.10/site-packages (from spacy<4.0,>=3.0->spacytextblob) (3.3.0)\n",
      "Requirement already satisfied: nltk>=3.1 in /Users/tomvannuenen/anaconda3/envs/dlab/lib/python3.10/site-packages (from textblob<0.16.0,>=0.15.3->spacytextblob) (3.8.1)\n",
      "Requirement already satisfied: click in /Users/tomvannuenen/anaconda3/envs/dlab/lib/python3.10/site-packages (from nltk>=3.1->textblob<0.16.0,>=0.15.3->spacytextblob) (8.1.6)\n",
      "Requirement already satisfied: joblib in /Users/tomvannuenen/anaconda3/envs/dlab/lib/python3.10/site-packages (from nltk>=3.1->textblob<0.16.0,>=0.15.3->spacytextblob) (1.3.1)\n",
      "Requirement already satisfied: regex>=2021.8.3 in /Users/tomvannuenen/anaconda3/envs/dlab/lib/python3.10/site-packages (from nltk>=3.1->textblob<0.16.0,>=0.15.3->spacytextblob) (2023.6.3)\n",
      "Requirement already satisfied: typing-extensions>=4.2.0 in /Users/tomvannuenen/anaconda3/envs/dlab/lib/python3.10/site-packages (from pydantic!=1.8,!=1.8.1,<1.11.0,>=1.7.4->spacy<4.0,>=3.0->spacytextblob) (4.7.1)\n",
      "Requirement already satisfied: charset-normalizer<4,>=2 in /Users/tomvannuenen/anaconda3/envs/dlab/lib/python3.10/site-packages (from requests<3.0.0,>=2.13.0->spacy<4.0,>=3.0->spacytextblob) (3.2.0)\n",
      "Requirement already satisfied: idna<4,>=2.5 in /Users/tomvannuenen/anaconda3/envs/dlab/lib/python3.10/site-packages (from requests<3.0.0,>=2.13.0->spacy<4.0,>=3.0->spacytextblob) (3.4)\n",
      "Requirement already satisfied: urllib3<3,>=1.21.1 in /Users/tomvannuenen/anaconda3/envs/dlab/lib/python3.10/site-packages (from requests<3.0.0,>=2.13.0->spacy<4.0,>=3.0->spacytextblob) (2.0.4)\n",
      "Requirement already satisfied: certifi>=2017.4.17 in /Users/tomvannuenen/anaconda3/envs/dlab/lib/python3.10/site-packages (from requests<3.0.0,>=2.13.0->spacy<4.0,>=3.0->spacytextblob) (2023.7.22)\n",
      "Requirement already satisfied: blis<0.8.0,>=0.7.8 in /Users/tomvannuenen/anaconda3/envs/dlab/lib/python3.10/site-packages (from thinc<8.2.0,>=8.1.8->spacy<4.0,>=3.0->spacytextblob) (0.7.10)\n",
      "Requirement already satisfied: confection<1.0.0,>=0.0.1 in /Users/tomvannuenen/anaconda3/envs/dlab/lib/python3.10/site-packages (from thinc<8.2.0,>=8.1.8->spacy<4.0,>=3.0->spacytextblob) (0.1.0)\n",
      "Requirement already satisfied: MarkupSafe>=2.0 in /Users/tomvannuenen/anaconda3/envs/dlab/lib/python3.10/site-packages (from jinja2->spacy<4.0,>=3.0->spacytextblob) (2.1.3)\n",
      "Note: you may need to restart the kernel to use updated packages.\n",
      "/Users/tomvannuenen/anaconda3/bin/python: Error while finding module specification for 'textblob.download_corpora' (ModuleNotFoundError: No module named 'textblob')\n"
     ]
    }
   ],
   "source": [
    "# Perform these installs first\n",
    "%pip install textblob\n",
    "%pip install spacytextblob\n",
    "!python -m textblob.download_corpora"
   ]
  },
  {
   "cell_type": "code",
   "execution_count": 37,
   "metadata": {},
   "outputs": [],
   "source": [
    "import numpy as np\n",
    "import spacy\n",
    "from spacytextblob.spacytextblob import SpacyTextBlob"
   ]
  },
  {
   "cell_type": "code",
   "execution_count": 38,
   "metadata": {},
   "outputs": [
    {
     "data": {
      "text/plain": [
       "<spacytextblob.spacytextblob.SpacyTextBlob at 0x29e8723e0>"
      ]
     },
     "execution_count": 38,
     "metadata": {},
     "output_type": "execute_result"
    }
   ],
   "source": [
    "# Create NLP object\n",
    "nlp = spacy.load('en_core_web_sm')\n",
    "# Important: we have to add textblob to our spaCy pipeline\n",
    "nlp.add_pipe('spacytextblob')"
   ]
  },
  {
   "cell_type": "code",
   "execution_count": 46,
   "metadata": {},
   "outputs": [],
   "source": [
    "# Apply the spaCy pipeline to each post\n",
    "# This command will take a long while to run if your dataset is big\n",
    "docs = list(nlp.pipe(df['selftext']))"
   ]
  },
  {
   "cell_type": "markdown",
   "metadata": {},
   "source": [
    "TextBlob calculates sentiments in the variable \"polarity\". It also includes a variable called \"subjectivity\", which ranges from 0 to 1. It estimates the level of subjectivity expressed in the post (values closer to 1 are higher subjectivity)."
   ]
  },
  {
   "cell_type": "code",
   "execution_count": 47,
   "metadata": {},
   "outputs": [],
   "source": [
    "# Store the polarities in a list\n",
    "polarities = []\n",
    "for doc in docs:\n",
    "    polarities.append(doc._.polarity)\n",
    "df['polarities'] = polarities"
   ]
  },
  {
   "cell_type": "code",
   "execution_count": 48,
   "metadata": {},
   "outputs": [],
   "source": [
    "# Store the subjectivities in a list\n",
    "subjectivities = []\n",
    "for doc in docs:\n",
    "    subjectivities.append(doc._.subjectivity)\n",
    "df['subjectivity'] = subjectivities"
   ]
  },
  {
   "cell_type": "code",
   "execution_count": 49,
   "metadata": {},
   "outputs": [],
   "source": [
    "# Get the new subsetted dataframes\n",
    "yta_posts = df[df['flair_text'] == 'Asshole']\n",
    "nta_posts = df[df['flair_text'] == 'Not the A-hole']"
   ]
  },
  {
   "cell_type": "code",
   "execution_count": 50,
   "metadata": {},
   "outputs": [
    {
     "data": {
      "image/png": "[encoded data removed]",
      "text/plain": [
       "<Figure size 720x360 with 1 Axes>"
      ]
     },
     "metadata": {
      "needs_background": "light"
     },
     "output_type": "display_data"
    }
   ],
   "source": [
    "fig, ax = plt.subplots(1, 1, figsize=(10, 5))\n",
    "ax.hist(yta_posts['polarities'],\n",
    "        density=True,\n",
    "        histtype='step',\n",
    "        lw=2,\n",
    "        bins=np.linspace(-1, 1, 51),\n",
    "        label='YTA')\n",
    "ax.hist(nta_posts['polarities'],\n",
    "        density=True,\n",
    "        lw=2,\n",
    "        histtype='step',\n",
    "        bins=np.linspace(-1, 1, 51),\n",
    "        label='NTA')\n",
    "ax.legend(prop={'size': 15})\n",
    "plt.xlim([-0.5, 0.5])\n",
    "plt.xlabel('Polarity', fontsize=15)\n",
    "plt.ylabel('Density', fontsize=15)\n",
    "plt.title('')\n",
    "plt.show()"
   ]
  },
  {
   "cell_type": "code",
   "execution_count": 51,
   "metadata": {},
   "outputs": [
    {
     "data": {
      "image/png": "[encoded data removed]",
      "text/plain": [
       "<Figure size 720x360 with 1 Axes>"
      ]
     },
     "metadata": {
      "needs_background": "light"
     },
     "output_type": "display_data"
    }
   ],
   "source": [
    "fig, ax = plt.subplots(1, 1, figsize=(10, 5))\n",
    "ax.hist(yta_posts['subjectivity'],\n",
    "        density=True,\n",
    "        histtype='step',\n",
    "        lw=2,\n",
    "        bins=np.linspace(0, 1, 51),\n",
    "        label='YTA')\n",
    "ax.hist(nta_posts['subjectivity'],\n",
    "        density=True,\n",
    "        lw=2,\n",
    "        histtype='step',\n",
    "        bins=np.linspace(0, 1, 51),\n",
    "        label='NTA')\n",
    "ax.legend(prop={'size': 15})\n",
    "plt.xlim([0, 1])\n",
    "plt.xlabel('Subjectivity', fontsize=15)\n",
    "plt.ylabel('Density', fontsize=15)\n",
    "plt.title('')\n",
    "plt.show()"
   ]
  },
  {
   "cell_type": "markdown",
   "metadata": {},
   "source": [
    "Notice how different the sentiment looks from VADER! We still, however, observe that YTA posts generally have a slightly higher sentiment than NTA posts."
   ]
  },
  {
   "cell_type": "markdown",
   "metadata": {
    "jp-MarkdownHeadingCollapsed": true,
    "tags": []
   },
   "source": [
    "<div class=\"alert alert-success\">\n",
    "\n",
    "## ❗ Key Points\n",
    "\n",
    "* Sentiment analysis aims to characterize the emotional state of text.\n",
    "* The package VADER can be used to easily calculate sentiment on posts. \n",
    "* Sentiment analyses can facilitate interrogations of the dataset.\n",
    "* Different packages might give generate sentiments.\n",
    "    \n",
    "</div>"
   ]
  }
 ],
 "metadata": {
  "colab": {
   "collapsed_sections": [
    "_tAYGMaxZh37",
    "JLFyNfiSZh5M"
   ],
   "name": "Week 5-2 Sentiment Analysis.ipynb",
   "provenance": []
  },
  "kernelspec": {
   "display_name": "dlab",
   "language": "python",
   "name": "dlab"
  },
  "language_info": {
   "codemirror_mode": {
    "name": "ipython",
    "version": 3
   },
   "file_extension": ".py",
   "mimetype": "text/x-python",
   "name": "python",
   "nbconvert_exporter": "python",
   "pygments_lexer": "ipython3",
   "version": "3.10.12"
  }
 },
 "nbformat": 4,
 "nbformat_minor": 4
}
